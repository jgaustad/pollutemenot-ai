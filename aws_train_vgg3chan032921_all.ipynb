{
 "cells": [
  {
   "cell_type": "code",
   "execution_count": 4,
   "id": "beneficial-personal",
   "metadata": {},
   "outputs": [
    {
     "name": "stdout",
     "output_type": "stream",
     "text": [
      "The tensorboard extension is already loaded. To reload it, use:\n",
      "  %reload_ext tensorboard\n",
      "2.3.0 tf\n",
      "2.4.3 keras\n"
     ]
    }
   ],
   "source": [
    "### Init network Build\n",
    "import numpy as np\n",
    "from pathlib import Path\n",
    "import pandas as pd\n",
    "from osgeo import gdal\n",
    "import keras\n",
    "import time\n",
    "import tensorflow as tf\n",
    "from sklearn.model_selection import train_test_split\n",
    "\n",
    "%load_ext tensorboard\n",
    "\n",
    "from matplotlib.pyplot import imshow\n",
    "import matplotlib.pyplot as plt\n",
    "\n",
    "print(tf.__version__, 'tf')\n",
    "print(keras.__version__, 'keras')"
   ]
  },
  {
   "cell_type": "code",
   "execution_count": 2,
   "id": "hearing-extension",
   "metadata": {},
   "outputs": [],
   "source": [
    "df_merged = pd.read_csv('image_metrics_032921_all.csv')"
   ]
  },
  {
   "cell_type": "code",
   "execution_count": 94,
   "id": "precise-north",
   "metadata": {},
   "outputs": [],
   "source": [
    "\n",
    "data = 'Madhukar/Archived/Dataset_with_merged_SSURGO_NHD_variables/2021.03.09_ssurgo_nhd_merged.csv'\n",
    "df_nhd_ss = pd.read_csv(data)\n",
    "data_subset_89='subsets_data/sac_saw_subset_01_1235.csv'\n",
    "df_sac_saw_89 = pd.read_csv(data_subset_89)\n",
    "df_merged_89 = pd.merge(df_sac_saw_89, df_nhd_ss, left_on = 'da_number', right_on = 'da_number', how = 'left')\n",
    "#display(df_merged_89)\n",
    "#X = df_merged_89#.drop(['cwa_determination'], axis=1)\n",
    "#y = df_merged_89['cwa_determination_x']\n",
    "from sklearn.model_selection import train_test_split\n",
    "\n",
    "\n",
    "## adding some filtering for the images that exist.\n",
    "dir2 = '/data/train_data_hi_3x/'\n",
    "df_image_list = pd.DataFrame({'da_number' : [f.name[:-4] for f in Path(dir2).iterdir()]})\n",
    "X = pd.merge(df_merged_89, df_image_list, how = 'inner', on = 'da_number')\n",
    "y = X['cwa_determination_x']\n",
    "\n",
    "X_train, X_test, y_train, y_test = train_test_split(X, y, test_size = 0.25, random_state = 42)"
   ]
  },
  {
   "cell_type": "code",
   "execution_count": 22,
   "id": "prepared-profit",
   "metadata": {},
   "outputs": [],
   "source": [
    "dir2 = '/data/train_data_hi_3x/'\n",
    "df_merged = pd.read_csv('image_metrics_032921_all.csv')\n",
    "X = df_merged.da_num.unique()\n",
    "#y = df_merged['cwa_determination']\n",
    "X_train, X_test = train_test_split(X, test_size = 0.25, random_state = 42)\n"
   ]
  },
  {
   "cell_type": "code",
   "execution_count": 24,
   "id": "molecular-environment",
   "metadata": {},
   "outputs": [
    {
     "name": "stdout",
     "output_type": "stream",
     "text": [
      "9996\n",
      "9913\n"
     ]
    }
   ],
   "source": [
    "soi = list(X_train)\n",
    "soi_test = list(X_test)\n",
    "print(len(soi))\n",
    "train_X = [f for f in Path(dir2).iterdir() if f.name[:-4] in soi]\n",
    "test_X = [f for f in Path(dir2).iterdir() if f.name[:-4] in soi_test]\n",
    "\n",
    "print(len(train_X))"
   ]
  },
  {
   "cell_type": "code",
   "execution_count": 25,
   "id": "cubic-breeding",
   "metadata": {},
   "outputs": [
    {
     "data": {
      "text/plain": [
       "'SAW-2015-02138'"
      ]
     },
     "execution_count": 25,
     "metadata": {},
     "output_type": "execute_result"
    }
   ],
   "source": [
    "train_X[0].name[:-4]"
   ]
  },
  {
   "cell_type": "code",
   "execution_count": 26,
   "id": "floppy-documentary",
   "metadata": {},
   "outputs": [
    {
     "data": {
      "text/plain": [
       "(3, 256, 256)"
      ]
     },
     "execution_count": 26,
     "metadata": {},
     "output_type": "execute_result"
    }
   ],
   "source": [
    "np.load(train_X[0]).shape"
   ]
  },
  {
   "cell_type": "code",
   "execution_count": 27,
   "id": "solved-linux",
   "metadata": {},
   "outputs": [
    {
     "data": {
      "text/plain": [
       "1"
      ]
     },
     "execution_count": 27,
     "metadata": {},
     "output_type": "execute_result"
    }
   ],
   "source": [
    "def get_label(da_num_i, df_merged = df_merged):\n",
    "    return int(df_merged[df_merged.da_num == da_num_i].cwa_determination.iloc[0])\n",
    "get_label(train_X[0].name[:-4])"
   ]
  },
  {
   "cell_type": "code",
   "execution_count": 28,
   "id": "stuck-formula",
   "metadata": {},
   "outputs": [],
   "source": [
    "train_y = [get_label(x.name[:-4]) for x in train_X]\n",
    "test_y = [get_label(x.name[:-4]) for x in test_X]"
   ]
  },
  {
   "cell_type": "code",
   "execution_count": 29,
   "id": "sacred-failure",
   "metadata": {},
   "outputs": [
    {
     "name": "stdout",
     "output_type": "stream",
     "text": [
      "9913 9913\n"
     ]
    }
   ],
   "source": [
    "print(len(train_X), len(train_y))"
   ]
  },
  {
   "cell_type": "code",
   "execution_count": 30,
   "id": "inclusive-finance",
   "metadata": {},
   "outputs": [],
   "source": [
    "arr_train_X = np.array([np.load(f) for f in train_X]).swapaxes(1,3)\n",
    "arr_test_X = np.array([np.load(f) for f in test_X]).swapaxes(1,3)\n",
    "\n",
    "arr_train_y = np.array(train_y)\n",
    "arr_test_y = np.array(test_y)"
   ]
  },
  {
   "cell_type": "code",
   "execution_count": 31,
   "id": "olympic-finnish",
   "metadata": {},
   "outputs": [
    {
     "name": "stdout",
     "output_type": "stream",
     "text": [
      "(9913, 256, 256, 3)\n",
      "(9913,)\n",
      "number of nans:  0\n",
      "number of nums:  1948975104\n",
      "number of nans:  0\n"
     ]
    }
   ],
   "source": [
    "print(arr_train_X.shape)\n",
    "print(arr_train_y.shape)\n",
    "print('number of nans: ', np.sum(np.isnan(arr_train_X)))\n",
    "print('number of nums: ', np.sum(~np.isnan(arr_train_X)))\n",
    "arr_train_X = np.nan_to_num(arr_train_X) #convert all nans to zeroes\n",
    "print('number of nans: ', np.sum(np.isnan(arr_train_X)))\n",
    "## may need to investigate the nans and figure out some imputation here."
   ]
  },
  {
   "cell_type": "code",
   "execution_count": 32,
   "id": "patient-jewel",
   "metadata": {},
   "outputs": [
    {
     "name": "stdout",
     "output_type": "stream",
     "text": [
      "(3295, 256, 256, 3)\n",
      "(3295,)\n",
      "number of nans:  0\n",
      "number of nums:  647823360\n",
      "number of nans:  0\n"
     ]
    }
   ],
   "source": [
    "print(arr_test_X.shape)\n",
    "print(arr_test_y.shape)\n",
    "print('number of nans: ', np.sum(np.isnan(arr_test_X)))\n",
    "print('number of nums: ', np.sum(~np.isnan(arr_test_X)))\n",
    "arr_test_X = np.nan_to_num(arr_test_X) #convert all nans to zeroes\n",
    "print('number of nans: ', np.sum(np.isnan(arr_test_X)))\n",
    "## may need to investigate the nans and figure out some imputation here."
   ]
  },
  {
   "cell_type": "code",
   "execution_count": 33,
   "id": "funky-weekend",
   "metadata": {},
   "outputs": [
    {
     "name": "stdout",
     "output_type": "stream",
     "text": [
      "0.37657621305356603 this is the majority class size.\n",
      "0.32214305335645743\n",
      "0.0\n",
      "0.9999999999999999\n"
     ]
    }
   ],
   "source": [
    "print(np.mean(arr_train_y), 'this is the majority class size.')\n",
    "print(np.mean(arr_train_X))\n",
    "print(np.min(arr_train_X))\n",
    "print(np.max(arr_train_X))"
   ]
  },
  {
   "cell_type": "code",
   "execution_count": 34,
   "id": "instructional-cheese",
   "metadata": {},
   "outputs": [
    {
     "data": {
      "text/plain": [
       "(array([0, 0, 0, 0, 0, 0, 0, 0, 0, 0]),\n",
       " array([0. , 0.1, 0.2, 0.3, 0.4, 0.5, 0.6, 0.7, 0.8, 0.9, 1. ]))"
      ]
     },
     "execution_count": 34,
     "metadata": {},
     "output_type": "execute_result"
    }
   ],
   "source": [
    "np.histogram(arr_train_X[0][:,:,3:])"
   ]
  },
  {
   "cell_type": "code",
   "execution_count": 36,
   "id": "valid-reconstruction",
   "metadata": {},
   "outputs": [
    {
     "data": {
      "text/plain": [
       "<matplotlib.image.AxesImage at 0x7ff6cb908320>"
      ]
     },
     "execution_count": 36,
     "metadata": {},
     "output_type": "execute_result"
    },
    {
     "data": {
      "image/png": "[encoded data removed]",
      "text/plain": [
       "<Figure size 432x288 with 1 Axes>"
      ]
     },
     "metadata": {
      "needs_background": "light"
     },
     "output_type": "display_data"
    }
   ],
   "source": [
    "fig, ax = plt.subplots()\n",
    "ax.imshow(arr_train_X[0])"
   ]
  },
  {
   "cell_type": "code",
   "execution_count": 38,
   "id": "rolled-irish",
   "metadata": {},
   "outputs": [
    {
     "name": "stdout",
     "output_type": "stream",
     "text": [
      "Tue Mar 30 22:25:13 2021       \n",
      "+-----------------------------------------------------------------------------+\n",
      "| NVIDIA-SMI 450.80.02    Driver Version: 450.80.02    CUDA Version: 11.0     |\n",
      "|-------------------------------+----------------------+----------------------+\n",
      "| GPU  Name        Persistence-M| Bus-Id        Disp.A | Volatile Uncorr. ECC |\n",
      "| Fan  Temp  Perf  Pwr:Usage/Cap|         Memory-Usage | GPU-Util  Compute M. |\n",
      "|                               |                      |               MIG M. |\n",
      "|===============================+======================+======================|\n",
      "|   0  Tesla K80           On   | 00000000:00:1E.0 Off |                    0 |\n",
      "| N/A   65C    P0    67W / 149W |    139MiB / 11441MiB |      0%      Default |\n",
      "|                               |                      |                  N/A |\n",
      "+-------------------------------+----------------------+----------------------+\n",
      "                                                                               \n",
      "+-----------------------------------------------------------------------------+\n",
      "| Processes:                                                                  |\n",
      "|  GPU   GI   CI        PID   Type   Process name                  GPU Memory |\n",
      "|        ID   ID                                                   Usage      |\n",
      "|=============================================================================|\n",
      "+-----------------------------------------------------------------------------+\n"
     ]
    }
   ],
   "source": [
    "!nvidia-smi"
   ]
  },
  {
   "cell_type": "code",
   "execution_count": 39,
   "id": "furnished-wisdom",
   "metadata": {},
   "outputs": [],
   "source": [
    "from keras.applications.vgg16 import VGG16\n",
    "\n",
    "vgg16_model1 = VGG16(include_top=False, weights='imagenet', input_shape=(256,256, 3))\n",
    "vgg16_model1.trainable = False\n",
    "#vgg16_model2 = VGG16(include_top=False, weights='imagenet', input_shape=(256,256, 3))\n",
    "#vgg16_model2.trainable = False"
   ]
  },
  {
   "cell_type": "code",
   "execution_count": 47,
   "id": "conditional-browser",
   "metadata": {},
   "outputs": [],
   "source": [
    "from tensorflow.keras import layers\n",
    "data_augmentation = keras.Sequential(\n",
    "  [\n",
    "    layers.experimental.preprocessing.RandomFlip(\"horizontal\", \n",
    "                                                 input_shape=(256,256,3)),\n",
    "    layers.experimental.preprocessing.RandomRotation(0.1),\n",
    "    layers.experimental.preprocessing.RandomZoom(0.1),\n",
    "  ]\n",
    ")"
   ]
  },
  {
   "cell_type": "code",
   "execution_count": 48,
   "id": "sweet-holocaust",
   "metadata": {},
   "outputs": [
    {
     "name": "stdout",
     "output_type": "stream",
     "text": [
      "(None, 256, 256, 3)\n",
      "(None, 256, 256, 3)\n",
      "(None, 8, 8, 512)\n",
      "(None, 8, 8, 512)\n",
      "Model: \"functional_5\"\n",
      "_________________________________________________________________\n",
      "Layer (type)                 Output Shape              Param #   \n",
      "=================================================================\n",
      "input_4 (InputLayer)         [(None, 256, 256, 3)]     0         \n",
      "_________________________________________________________________\n",
      "lambda_2 (Lambda)            (None, 256, 256, 3)       0         \n",
      "_________________________________________________________________\n",
      "sequential_4 (Sequential)    (None, 256, 256, 3)       0         \n",
      "_________________________________________________________________\n",
      "sequential_5 (Sequential)    (None, 8, 8, 512)         14714688  \n",
      "_________________________________________________________________\n",
      "dense_8 (Dense)              (None, 8, 8, 512)         262656    \n",
      "_________________________________________________________________\n",
      "leaky_re_lu_13 (LeakyReLU)   (None, 8, 8, 512)         0         \n",
      "_________________________________________________________________\n",
      "dropout_6 (Dropout)          (None, 8, 8, 512)         0         \n",
      "_________________________________________________________________\n",
      "batch_normalization_6 (Batch (None, 8, 8, 512)         2048      \n",
      "_________________________________________________________________\n",
      "dense_9 (Dense)              (None, 8, 8, 256)         131328    \n",
      "_________________________________________________________________\n",
      "leaky_re_lu_15 (LeakyReLU)   (None, 8, 8, 256)         0         \n",
      "_________________________________________________________________\n",
      "dropout_7 (Dropout)          (None, 8, 8, 256)         0         \n",
      "_________________________________________________________________\n",
      "batch_normalization_7 (Batch (None, 8, 8, 256)         1024      \n",
      "_________________________________________________________________\n",
      "dense_10 (Dense)             (None, 8, 8, 128)         32896     \n",
      "_________________________________________________________________\n",
      "leaky_re_lu_17 (LeakyReLU)   (None, 8, 8, 128)         0         \n",
      "_________________________________________________________________\n",
      "dropout_8 (Dropout)          (None, 8, 8, 128)         0         \n",
      "_________________________________________________________________\n",
      "batch_normalization_8 (Batch (None, 8, 8, 128)         512       \n",
      "_________________________________________________________________\n",
      "flatten_2 (Flatten)          (None, 8192)              0         \n",
      "_________________________________________________________________\n",
      "dense_11 (Dense)             (None, 1)                 8193      \n",
      "=================================================================\n",
      "Total params: 15,153,345\n",
      "Trainable params: 436,865\n",
      "Non-trainable params: 14,716,480\n",
      "_________________________________________________________________\n"
     ]
    }
   ],
   "source": [
    "from keras.layers import Dense, Concatenate, Input, Lambda, Flatten, Softmax, BatchNormalization, Dropout\n",
    "from keras.models import Model, Sequential\n",
    "from keras.layers.advanced_activations import LeakyReLU\n",
    "\n",
    "input_matrix = Input(shape=(256,256,3))   # 6\n",
    "\n",
    "branch_outputs = []\n",
    "\n",
    "# loop for however many branches you want to use.  (each branch needs 3 channel depth)\n",
    "for i in [0]:\n",
    "    # create looping so that vgg16 model input is created ie 256,256,3\n",
    "    print(input_matrix.shape)\n",
    "    out = Lambda(lambda x: x[:,:,:,i:i+3])(input_matrix)\n",
    "    out = data_augmentation(out)\n",
    "\n",
    "    print(out.shape)\n",
    "    \n",
    "    # Setting up your layers in each branch: (currently each branch is identical architecture.)\n",
    "    if i == 0: out = Sequential(vgg16_model1)(out)   # use pretrained and loaded vgg16\n",
    "    elif i == 3: out = Sequential(vgg16_model2)(out)\n",
    "    else: out = Sequential(vgg16_model3)(out)   # use pretrained and loaded vgg16\n",
    "    print(out.shape)\n",
    "#    branch_outputs.append(out)\n",
    "#mergedOut = Concatenate()(branch_outputs)\n",
    "mergedOut = out\n",
    "print(mergedOut.shape)\n",
    "mergedOut = Dense(512, activation=LeakyReLU(alpha = 0.1))(mergedOut)\n",
    "mergedOut = LeakyReLU(alpha = 0.1)(mergedOut)\n",
    "mergedOut = Dropout(.5)(mergedOut)\n",
    "mergedOut = BatchNormalization()(mergedOut)\n",
    "\n",
    "mergedOut = Dense(256, activation=LeakyReLU(alpha = 0.1))(mergedOut)\n",
    "mergedOut = LeakyReLU(alpha = 0.1)(mergedOut)\n",
    "mergedOut = Dropout(.1)(mergedOut)\n",
    "mergedOut = BatchNormalization()(mergedOut)\n",
    "\n",
    "mergedOut = Dense(128, activation=LeakyReLU(alpha = 0.1))(mergedOut)\n",
    "mergedOut = LeakyReLU(alpha = 0.1)(mergedOut)\n",
    "mergedOut = Dropout(.1)(mergedOut)\n",
    "mergedOut = BatchNormalization()(mergedOut)\n",
    "\n",
    "mergedOut = Flatten()(mergedOut)\n",
    "mergedOut = Dense(1, activation = 'sigmoid')(mergedOut)\n",
    "\n",
    "rgb_model_vgg16 = Model(inputs=input_matrix, outputs=mergedOut)   \n",
    "\n",
    "\n",
    "opt = keras.optimizers.Adam(learning_rate=0.05)\n",
    "\n",
    "rgb_model_vgg16.compile(optimizer=opt,\n",
    "              loss=tf.keras.losses.BinaryCrossentropy(),\n",
    "              metrics=['accuracy'])\n",
    "\n",
    "rgb_model_vgg16.summary()"
   ]
  },
  {
   "cell_type": "code",
   "execution_count": 41,
   "id": "threatened-leonard",
   "metadata": {
    "jupyter": {
     "source_hidden": true
    },
    "tags": []
   },
   "outputs": [],
   "source": [
    "opt = keras.optimizers.Adam(learning_rate=0.05)\n",
    "\n",
    "my_callbacks = [\n",
    "    tf.keras.callbacks.EarlyStopping(patience=2),\n",
    "    tf.keras.callbacks.ModelCheckpoint(filepath='model.{epoch:02d}-{val_loss:.2f}.h5'),\n",
    "    tf.keras.callbacks.TensorBoard(log_dir='./logs'),\n",
    "]"
   ]
  },
  {
   "cell_type": "code",
   "execution_count": 49,
   "id": "recovered-function",
   "metadata": {},
   "outputs": [],
   "source": [
    "checkpoint_filepath = '/data/model_checkpoints/3xchan_all/himodel.{epoch:02d}-{val_loss:.2f}.h5'\n",
    "model_checkpoint_callback = tf.keras.callbacks.ModelCheckpoint(\n",
    "    filepath=checkpoint_filepath,\n",
    "    save_weights_only=True,\n",
    "    monitor='val_accuracy',\n",
    "    mode='max',\n",
    "    save_best_only=True)"
   ]
  },
  {
   "cell_type": "code",
   "execution_count": null,
   "id": "infectious-canon",
   "metadata": {},
   "outputs": [
    {
     "name": "stdout",
     "output_type": "stream",
     "text": [
      "Epoch 1/35\n",
      "124/124 [==============================] - 96s 770ms/step - loss: 0.6810 - accuracy: 0.6358 - val_loss: 0.6352 - val_accuracy: 0.6561\n",
      "Epoch 2/35\n",
      " 98/124 [======================>.......] - ETA: 15s - loss: 0.6807 - accuracy: 0.6311"
     ]
    }
   ],
   "source": [
    "t0 = time.time()\n",
    "history_callback = rgb_model_vgg16.fit(arr_train_X, arr_train_y, epochs=35, \n",
    "                                       batch_size=64, validation_split = 0.2, \n",
    "                                       workers=4, use_multiprocessing=True,\n",
    "                                       callbacks = [model_checkpoint_callback])\n",
    "print(\"Train time:\", time.time()-t0)"
   ]
  },
  {
   "cell_type": "code",
   "execution_count": 52,
   "id": "accessible-trail",
   "metadata": {},
   "outputs": [],
   "source": [
    "run1 = history_callback.history\n",
    "#run1\n"
   ]
  },
  {
   "cell_type": "code",
   "execution_count": 53,
   "id": "right-lewis",
   "metadata": {},
   "outputs": [],
   "source": [
    "#model_out.save('/data/model_saves/89_model') 89 model saved mar 18"
   ]
  },
  {
   "cell_type": "code",
   "execution_count": 54,
   "id": "crazy-sharp",
   "metadata": {},
   "outputs": [
    {
     "data": {
      "image/png": "[encoded data removed]",
      "text/plain": [
       "<Figure size 432x288 with 1 Axes>"
      ]
     },
     "metadata": {
      "needs_background": "light"
     },
     "output_type": "display_data"
    }
   ],
   "source": [
    "train_loss = run1['loss']\n",
    "val_loss = run1['val_loss']\n",
    "x = np.arange(len(train_loss))\n",
    "fig = plt.figure()\n",
    "ax = plt.subplot(111)\n",
    "ax.plot(x, train_loss, label='train_loss')\n",
    "ax.plot(x, val_loss, label='val_loss')\n",
    "ax.set_ylim(0, 3) \n",
    "plt.title('Loss Plot // RGB 1235 set hilo')\n",
    "ax.legend()\n",
    "plt.show()"
   ]
  },
  {
   "cell_type": "code",
   "execution_count": 55,
   "id": "faced-carbon",
   "metadata": {},
   "outputs": [
    {
     "data": {
      "image/png": "[encoded data removed]",
      "text/plain": [
       "<Figure size 432x288 with 1 Axes>"
      ]
     },
     "metadata": {
      "needs_background": "light"
     },
     "output_type": "display_data"
    }
   ],
   "source": [
    "train_accuracy = run1['accuracy']\n",
    "val_accuracy = run1['val_accuracy']\n",
    "x = np.arange(len(train_accuracy))\n",
    "fig = plt.figure()\n",
    "ax = plt.subplot(111)\n",
    "ax.plot(x, train_accuracy, label='train_accuracy')\n",
    "ax.plot(x, val_accuracy, label='val_accuracy')\n",
    "ax.set_ylim(0.5, 1) \n",
    "plt.title('Accuracy Plot // RGB 1235 set hilo')\n",
    "ax.legend()\n",
    "plt.show()"
   ]
  },
  {
   "cell_type": "code",
   "execution_count": 56,
   "id": "civic-federation",
   "metadata": {},
   "outputs": [
    {
     "data": {
      "text/plain": [
       "0.37657621305356603"
      ]
     },
     "execution_count": 56,
     "metadata": {},
     "output_type": "execute_result"
    }
   ],
   "source": [
    "np.mean(arr_train_y)"
   ]
  },
  {
   "cell_type": "code",
   "execution_count": 57,
   "id": "little-commons",
   "metadata": {},
   "outputs": [
    {
     "data": {
      "text/plain": [
       "0.37481031866464337"
      ]
     },
     "execution_count": 57,
     "metadata": {},
     "output_type": "execute_result"
    }
   ],
   "source": [
    "np.mean(arr_test_y)"
   ]
  },
  {
   "cell_type": "code",
   "execution_count": 58,
   "id": "broad-messenger",
   "metadata": {},
   "outputs": [
    {
     "name": "stdout",
     "output_type": "stream",
     "text": [
      "[[0.34276205]\n",
      " [0.20064819]\n",
      " [0.20504265]\n",
      " [0.23576322]\n",
      " [0.22775717]\n",
      " [0.27967152]\n",
      " [0.20326301]\n",
      " [0.28894213]]\n"
     ]
    }
   ],
   "source": [
    "test_preds = rgb_model_vgg16.predict(arr_test_X, batch_size = 128)\n",
    "print(test_preds[:8])"
   ]
  },
  {
   "cell_type": "code",
   "execution_count": 59,
   "id": "conservative-thinking",
   "metadata": {},
   "outputs": [
    {
     "data": {
      "text/plain": [
       "array([[0.],\n",
       "       [0.],\n",
       "       [0.],\n",
       "       [0.],\n",
       "       [0.],\n",
       "       [0.],\n",
       "       [0.],\n",
       "       [0.]], dtype=float32)"
      ]
     },
     "execution_count": 59,
     "metadata": {},
     "output_type": "execute_result"
    }
   ],
   "source": [
    "#print(len(rounded_preds))\n",
    "rounded_preds = np.round(test_preds)\n",
    "rounded_preds[:8]"
   ]
  },
  {
   "cell_type": "code",
   "execution_count": 60,
   "id": "processed-yahoo",
   "metadata": {},
   "outputs": [
    {
     "name": "stdout",
     "output_type": "stream",
     "text": [
      "da_number            object\n",
      "predicted             int64\n",
      "cwa_determination     int64\n",
      "dtype: object\n"
     ]
    },
    {
     "data": {
      "text/html": [
       "<div>\n",
       "<style scoped>\n",
       "    .dataframe tbody tr th:only-of-type {\n",
       "        vertical-align: middle;\n",
       "    }\n",
       "\n",
       "    .dataframe tbody tr th {\n",
       "        vertical-align: top;\n",
       "    }\n",
       "\n",
       "    .dataframe thead th {\n",
       "        text-align: right;\n",
       "    }\n",
       "</style>\n",
       "<table border=\"1\" class=\"dataframe\">\n",
       "  <thead>\n",
       "    <tr style=\"text-align: right;\">\n",
       "      <th></th>\n",
       "      <th>da_number</th>\n",
       "      <th>predicted</th>\n",
       "      <th>cwa_determination</th>\n",
       "    </tr>\n",
       "  </thead>\n",
       "  <tbody>\n",
       "    <tr>\n",
       "      <th>0</th>\n",
       "      <td>SAC-2015-00882</td>\n",
       "      <td>0</td>\n",
       "      <td>0</td>\n",
       "    </tr>\n",
       "    <tr>\n",
       "      <th>1</th>\n",
       "      <td>LRL-2018-00430-sjk</td>\n",
       "      <td>0</td>\n",
       "      <td>1</td>\n",
       "    </tr>\n",
       "    <tr>\n",
       "      <th>2</th>\n",
       "      <td>SAC-2016-00908</td>\n",
       "      <td>0</td>\n",
       "      <td>0</td>\n",
       "    </tr>\n",
       "    <tr>\n",
       "      <th>3</th>\n",
       "      <td>LRL-2019-00353</td>\n",
       "      <td>0</td>\n",
       "      <td>0</td>\n",
       "    </tr>\n",
       "    <tr>\n",
       "      <th>4</th>\n",
       "      <td>MVP-2020-00700-AJK</td>\n",
       "      <td>0</td>\n",
       "      <td>0</td>\n",
       "    </tr>\n",
       "  </tbody>\n",
       "</table>\n",
       "</div>"
      ],
      "text/plain": [
       "            da_number  predicted  cwa_determination\n",
       "0      SAC-2015-00882          0                  0\n",
       "1  LRL-2018-00430-sjk          0                  1\n",
       "2      SAC-2016-00908          0                  0\n",
       "3      LRL-2019-00353          0                  0\n",
       "4  MVP-2020-00700-AJK          0                  0"
      ]
     },
     "metadata": {},
     "output_type": "display_data"
    },
    {
     "name": "stdout",
     "output_type": "stream",
     "text": [
      "false_neg: 1004\n",
      "false_pos: 92\n",
      "true_pos: 231\n",
      "true_neg: 1968\n"
     ]
    }
   ],
   "source": [
    "da_n = [x.name[:-4] for x in test_X]\n",
    "df_pred = pd.DataFrame({'da_number' : da_n, 'predicted' : list(rounded_preds), 'cwa_determination' : test_y})\n",
    "df_pred.predicted = df_pred.predicted.apply(int)\n",
    "print(df_pred.dtypes)\n",
    "display(df_pred.head())\n",
    "df_pred.to_csv('/data/model_checkpoints/3xchan_all/himodel_preds.csv')\n",
    "false_neg = df_pred[(df_pred.predicted == 0)&(df_pred.cwa_determination == 1)].shape[0]\n",
    "false_pos = df_pred[(df_pred.predicted == 1)&(df_pred.cwa_determination == 0)].shape[0]\n",
    "true_pos = df_pred[(df_pred.predicted == 1)&(df_pred.cwa_determination == 1)].shape[0]\n",
    "true_neg = df_pred[(df_pred.predicted == 0)&(df_pred.cwa_determination == 0)].shape[0]\n",
    "print('false_neg:', false_neg)\n",
    "print('false_pos:', false_pos)\n",
    "print('true_pos:', true_pos)\n",
    "print('true_neg:', true_neg)"
   ]
  },
  {
   "cell_type": "code",
   "execution_count": null,
   "id": "rocky-maker",
   "metadata": {},
   "outputs": [],
   "source": []
  }
 ],
 "metadata": {
  "kernelspec": {
   "display_name": "Python 3",
   "language": "python",
   "name": "python3"
  },
  "language_info": {
   "codemirror_mode": {
    "name": "ipython",
    "version": 3
   },
   "file_extension": ".py",
   "mimetype": "text/x-python",
   "name": "python",
   "nbconvert_exporter": "python",
   "pygments_lexer": "ipython3",
   "version": "3.6.9"
  }
 },
 "nbformat": 4,
 "nbformat_minor": 5
}
