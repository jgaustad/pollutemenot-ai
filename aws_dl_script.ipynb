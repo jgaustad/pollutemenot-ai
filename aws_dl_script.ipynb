{
 "cells": [
  {
   "cell_type": "code",
   "execution_count": 21,
   "id": "changing-margin",
   "metadata": {},
   "outputs": [
    {
     "name": "stdout",
     "output_type": "stream",
     "text": [
      "2.3.0 tf\n",
      "2.4.3 keras\n"
     ]
    }
   ],
   "source": [
    "### Init network Build\n",
    "import numpy as np\n",
    "from pathlib import Path\n",
    "from PIL import Image, ImageEnhance\n",
    "import matplotlib.pyplot as plt\n",
    "from matplotlib.pyplot import imshow\n",
    "from IPython.display import display\n",
    "import pandas as pd\n",
    "from osgeo import gdal\n",
    "import keras\n",
    "import time\n",
    "import tensorflow as tf\n",
    "print(tf.__version__, 'tf')\n",
    "print(keras.__version__, 'keras')\n"
   ]
  },
  {
   "cell_type": "code",
   "execution_count": 22,
   "id": "driven-vehicle",
   "metadata": {},
   "outputs": [
    {
     "name": "stdout",
     "output_type": "stream",
     "text": [
      "[name: \"/device:CPU:0\"\n",
      "device_type: \"CPU\"\n",
      "memory_limit: 268435456\n",
      "locality {\n",
      "}\n",
      "incarnation: 16691219777139407371\n",
      ", name: \"/device:XLA_CPU:0\"\n",
      "device_type: \"XLA_CPU\"\n",
      "memory_limit: 17179869184\n",
      "locality {\n",
      "}\n",
      "incarnation: 16531217851662057450\n",
      "physical_device_desc: \"device: XLA_CPU device\"\n",
      ", name: \"/device:XLA_GPU:0\"\n",
      "device_type: \"XLA_GPU\"\n",
      "memory_limit: 17179869184\n",
      "locality {\n",
      "}\n",
      "incarnation: 15625908257045308047\n",
      "physical_device_desc: \"device: XLA_GPU device\"\n",
      ", name: \"/device:GPU:0\"\n",
      "device_type: \"GPU\"\n",
      "memory_limit: 11141855360\n",
      "locality {\n",
      "  bus_id: 1\n",
      "  links {\n",
      "  }\n",
      "}\n",
      "incarnation: 10716844164584153391\n",
      "physical_device_desc: \"device: 0, name: Tesla K80, pci bus id: 0000:00:1e.0, compute capability: 3.7\"\n",
      "]\n"
     ]
    }
   ],
   "source": [
    "from tensorflow.python.client import device_lib\n",
    "print(device_lib.list_local_devices())"
   ]
  },
  {
   "cell_type": "code",
   "execution_count": 23,
   "id": "conservative-conditions",
   "metadata": {},
   "outputs": [],
   "source": [
    "#2.4.1 tf\n",
    "#2.4.3 keras"
   ]
  },
  {
   "cell_type": "code",
   "execution_count": 24,
   "id": "superb-exhibition",
   "metadata": {},
   "outputs": [],
   "source": [
    "#!nvidia-smi\n",
    "#12169 - 13000"
   ]
  },
  {
   "cell_type": "code",
   "execution_count": 25,
   "id": "electoral-stockholm",
   "metadata": {},
   "outputs": [],
   "source": [
    "from google.cloud import storage\n",
    "# create a service key json file and point to it here,   I will put a copy of the .json key I am using in slack.\n",
    "storage_client = storage.Client.from_service_account_json('access_key1.json')  # create a service key json file and point to it here\n",
    "\n",
    "bucket_name = 'pollutemenot-ai'\n",
    "bucket = storage_client.get_bucket(bucket_name)"
   ]
  },
  {
   "cell_type": "code",
   "execution_count": 27,
   "id": "quality-perspective",
   "metadata": {
    "tags": []
   },
   "outputs": [
    {
     "name": "stdout",
     "output_type": "stream",
     "text": [
      "finished in  4.799818980693817 minutes.\n"
     ]
    }
   ],
   "source": [
    "#download files\n",
    "t0 = time.time()\n",
    "prefix = 'GEE_images_final2/'\n",
    "dl_dir = '/data/image_final2/'\n",
    "blobs = bucket.list_blobs(prefix=prefix)  # Get list of files\n",
    "for blob in blobs:\n",
    "    filename = blob.name.replace('/', '_') \n",
    "    if Path(dl_dir + filename).is_file(): \n",
    "        print('r', end = '\\r')\n",
    "        continue  # this file is already downloaded so skip download\n",
    "    else:\n",
    "        try:\n",
    "            blob.download_to_filename(dl_dir + filename)  # Download\n",
    "            print('+', end = '')\n",
    "        except:\n",
    "            print('error, waiting 5sec and trying again.')\n",
    "            time.sleep(5)\n",
    "            blob.download_to_filename(dl_dir + filename)  # Download\n",
    "            print('+', end = '')\n",
    "print('finished in ', (time.time()-t0)/60, 'minutes.')"
   ]
  },
  {
   "cell_type": "code",
   "execution_count": 9,
   "id": "devoted-spotlight",
   "metadata": {},
   "outputs": [
    {
     "name": "stdout",
     "output_type": "stream",
     "text": [
      "11\n"
     ]
    }
   ],
   "source": [
    "dl_dir = '/data/rad1/'\n",
    "\n",
    "tif_list = [f for f in Path(dl_dir).iterdir() if '.tif' in str(f)]\n",
    "print(len(tif_list))\n",
    "#tif_list 15321"
   ]
  },
  {
   "cell_type": "code",
   "execution_count": 3,
   "id": "corresponding-feeding",
   "metadata": {},
   "outputs": [
    {
     "name": "stdout",
     "output_type": "stream",
     "text": [
      "(14619, 2)\n"
     ]
    },
    {
     "data": {
      "text/html": [
       "<div>\n",
       "<style scoped>\n",
       "    .dataframe tbody tr th:only-of-type {\n",
       "        vertical-align: middle;\n",
       "    }\n",
       "\n",
       "    .dataframe tbody tr th {\n",
       "        vertical-align: top;\n",
       "    }\n",
       "\n",
       "    .dataframe thead th {\n",
       "        text-align: right;\n",
       "    }\n",
       "</style>\n",
       "<table border=\"1\" class=\"dataframe\">\n",
       "  <thead>\n",
       "    <tr style=\"text-align: right;\">\n",
       "      <th></th>\n",
       "      <th>da_number</th>\n",
       "      <th>cwa_determination</th>\n",
       "    </tr>\n",
       "  </thead>\n",
       "  <tbody>\n",
       "    <tr>\n",
       "      <th>0</th>\n",
       "      <td>LRB-1983-10120</td>\n",
       "      <td>0</td>\n",
       "    </tr>\n",
       "    <tr>\n",
       "      <th>1</th>\n",
       "      <td>LRB-1985-69031</td>\n",
       "      <td>1</td>\n",
       "    </tr>\n",
       "    <tr>\n",
       "      <th>2</th>\n",
       "      <td>LRB-1986-99614</td>\n",
       "      <td>1</td>\n",
       "    </tr>\n",
       "    <tr>\n",
       "      <th>3</th>\n",
       "      <td>LRB-1990-97632</td>\n",
       "      <td>1</td>\n",
       "    </tr>\n",
       "    <tr>\n",
       "      <th>4</th>\n",
       "      <td>LRB-1991-98611</td>\n",
       "      <td>1</td>\n",
       "    </tr>\n",
       "  </tbody>\n",
       "</table>\n",
       "</div>"
      ],
      "text/plain": [
       "        da_number  cwa_determination\n",
       "0  LRB-1983-10120                  0\n",
       "1  LRB-1985-69031                  1\n",
       "2  LRB-1986-99614                  1\n",
       "3  LRB-1990-97632                  1\n",
       "4  LRB-1991-98611                  1"
      ]
     },
     "execution_count": 3,
     "metadata": {},
     "output_type": "execute_result"
    }
   ],
   "source": [
    "datapath = \"Madhukar/Data_combined_regular_clean.csv\"\n",
    "df_labels = pd.read_csv(datapath, encoding = \"ISO-8859-1\")\n",
    "df_labels.head()#.iloc[99]\n",
    "df_labels = df_labels[['da_number', 'cwa_determination']]\n",
    "print(df_labels.shape)\n",
    "df_labels.head()"
   ]
  },
  {
   "cell_type": "code",
   "execution_count": 86,
   "id": "concerned-malawi",
   "metadata": {},
   "outputs": [
    {
     "name": "stdout",
     "output_type": "stream",
     "text": [
      "dataframe shape: (11, 5)\n",
      "seconds taken: 0.0016570091247558594\n"
     ]
    },
    {
     "data": {
      "text/html": [
       "<div>\n",
       "<style scoped>\n",
       "    .dataframe tbody tr th:only-of-type {\n",
       "        vertical-align: middle;\n",
       "    }\n",
       "\n",
       "    .dataframe tbody tr th {\n",
       "        vertical-align: top;\n",
       "    }\n",
       "\n",
       "    .dataframe thead th {\n",
       "        text-align: right;\n",
       "    }\n",
       "</style>\n",
       "<table border=\"1\" class=\"dataframe\">\n",
       "  <thead>\n",
       "    <tr style=\"text-align: right;\">\n",
       "      <th></th>\n",
       "      <th>img_res</th>\n",
       "      <th>img_type</th>\n",
       "      <th>img_index</th>\n",
       "      <th>da_num</th>\n",
       "      <th>img_path</th>\n",
       "    </tr>\n",
       "  </thead>\n",
       "  <tbody>\n",
       "    <tr>\n",
       "      <th>0</th>\n",
       "      <td>hires</td>\n",
       "      <td>RGB</td>\n",
       "      <td>9003</td>\n",
       "      <td>SAC-2017-00920</td>\n",
       "      <td>/data/rad1/Rad_Experiment_1_hires_RGB_9003_SAC...</td>\n",
       "    </tr>\n",
       "    <tr>\n",
       "      <th>1</th>\n",
       "      <td>hires</td>\n",
       "      <td>RGB</td>\n",
       "      <td>9009</td>\n",
       "      <td>SAC-2017-00939</td>\n",
       "      <td>/data/rad1/Rad_Experiment_1_hires_RGB_9009_SAC...</td>\n",
       "    </tr>\n",
       "    <tr>\n",
       "      <th>2</th>\n",
       "      <td>hires</td>\n",
       "      <td>RGB</td>\n",
       "      <td>9004</td>\n",
       "      <td>SAC-2017-00927</td>\n",
       "      <td>/data/rad1/Rad_Experiment_1_hires_RGB_9004_SAC...</td>\n",
       "    </tr>\n",
       "    <tr>\n",
       "      <th>3</th>\n",
       "      <td>hires</td>\n",
       "      <td>RGB</td>\n",
       "      <td>9005</td>\n",
       "      <td>SAC-2017-00931</td>\n",
       "      <td>/data/rad1/Rad_Experiment_1_hires_RGB_9005_SAC...</td>\n",
       "    </tr>\n",
       "    <tr>\n",
       "      <th>4</th>\n",
       "      <td>hires</td>\n",
       "      <td>RGB</td>\n",
       "      <td>9001</td>\n",
       "      <td>SAC-2017-00917</td>\n",
       "      <td>/data/rad1/Rad_Experiment_1_hires_RGB_9001_SAC...</td>\n",
       "    </tr>\n",
       "  </tbody>\n",
       "</table>\n",
       "</div>"
      ],
      "text/plain": [
       "  img_res img_type img_index          da_num  \\\n",
       "0   hires      RGB      9003  SAC-2017-00920   \n",
       "1   hires      RGB      9009  SAC-2017-00939   \n",
       "2   hires      RGB      9004  SAC-2017-00927   \n",
       "3   hires      RGB      9005  SAC-2017-00931   \n",
       "4   hires      RGB      9001  SAC-2017-00917   \n",
       "\n",
       "                                            img_path  \n",
       "0  /data/rad1/Rad_Experiment_1_hires_RGB_9003_SAC...  \n",
       "1  /data/rad1/Rad_Experiment_1_hires_RGB_9009_SAC...  \n",
       "2  /data/rad1/Rad_Experiment_1_hires_RGB_9004_SAC...  \n",
       "3  /data/rad1/Rad_Experiment_1_hires_RGB_9005_SAC...  \n",
       "4  /data/rad1/Rad_Experiment_1_hires_RGB_9001_SAC...  "
      ]
     },
     "execution_count": 86,
     "metadata": {},
     "output_type": "execute_result"
    }
   ],
   "source": [
    "def create_image_lookup(tiff_image_list):\n",
    "    \n",
    "    t0 = time.time()\n",
    "    list_rows = []\n",
    "    for v in tiff_image_list:\n",
    "        #print(v)\n",
    "        nl = v.name.split('_')[3:7]\n",
    "        nl.append(v)\n",
    "        #print(nl)\n",
    "        list_rows.append(nl)\n",
    "    columns = ['img_res', 'img_type', 'img_index', 'da_num', 'img_path']\n",
    "    df = pd.DataFrame(list_rows, columns = columns)\n",
    "    print('dataframe shape:', df.shape)\n",
    "    print('seconds taken:', time.time()-t0)\n",
    "    return df\n",
    "df = create_image_lookup(tif_list)\n",
    "df.head()"
   ]
  },
  {
   "cell_type": "code",
   "execution_count": 84,
   "id": "intensive-protein",
   "metadata": {},
   "outputs": [
    {
     "name": "stdout",
     "output_type": "stream",
     "text": [
      "12\n",
      "/data/rad1/Rad_Experiment_1_hires_RGB_9003_SAC-2017-00920_RGB_hires.tif\n"
     ]
    }
   ],
   "source": [
    "p = gdal.Open(str(df.img_path.iloc[0]))\n",
    "channels = p.RasterCount\n",
    "print(channels)\n",
    "#print(dir(p))\n",
    "print(p.GetDescription())\n",
    "\n",
    "# iterate through rasters and add each to the list of layer_list\n",
    "layer_list = [np.array(p.GetRasterBand(i).ReadAsArray()) for i in range(1,4)] "
   ]
  },
  {
   "cell_type": "code",
   "execution_count": 85,
   "id": "educated-omega",
   "metadata": {},
   "outputs": [
    {
     "name": "stderr",
     "output_type": "stream",
     "text": [
      "Clipping input data to the valid range for imshow with RGB data ([0..1] for floats or [0..255] for integers).\n"
     ]
    },
    {
     "data": {
      "text/plain": [
       "<matplotlib.image.AxesImage at 0x7f61d21e9d68>"
      ]
     },
     "execution_count": 85,
     "metadata": {},
     "output_type": "execute_result"
    },
    {
     "data": {
      "image/png": "[encoded data removed]",
      "text/plain": [
       "<Figure size 432x288 with 1 Axes>"
      ]
     },
     "metadata": {
      "needs_background": "light"
     },
     "output_type": "display_data"
    }
   ],
   "source": [
    "fig, ax = plt.subplots()\n",
    "img = np.array(layer_list).swapaxes(0,2)\n",
    "ax.imshow(img)"
   ]
  },
  {
   "cell_type": "code",
   "execution_count": 77,
   "id": "celtic-digit",
   "metadata": {},
   "outputs": [
    {
     "name": "stderr",
     "output_type": "stream",
     "text": [
      "Clipping input data to the valid range for imshow with RGB data ([0..1] for floats or [0..255] for integers).\n"
     ]
    },
    {
     "name": "stdout",
     "output_type": "stream",
     "text": [
      "8920 1\n"
     ]
    },
    {
     "data": {
      "text/plain": [
       "<matplotlib.image.AxesImage at 0x7f61d2189400>"
      ]
     },
     "execution_count": 77,
     "metadata": {},
     "output_type": "execute_result"
    },
    {
     "data": {
      "image/png": "[encoded data removed]",
      "text/plain": [
       "<Figure size 432x288 with 1 Axes>"
      ]
     },
     "metadata": {
      "needs_background": "light"
     },
     "output_type": "display_data"
    }
   ],
   "source": [
    "fig, ax = plt.subplots()\n",
    "i_arr = create_array(df.img_path.iloc[0])\n",
    "#i_arr = i_arr.reshape(256,256,12)\n",
    "i_arr = i_arr.swapaxes(0,2)\n",
    "#for chan in range(1,4):\n",
    "#    i_arr[:,:,chan] = i_arr[:,:,chan] / np.max(i_arr[:,:,chan])\n",
    "rgb_imag = i_arr[:,:,1:4]\n",
    "\n",
    "print(np.max(rgb_imag), np.min(rgb_imag))\n",
    "ax.imshow(rgb_imag)\n"
   ]
  },
  {
   "cell_type": "code",
   "execution_count": null,
   "id": "seventh-toilet",
   "metadata": {},
   "outputs": [],
   "source": []
  },
  {
   "cell_type": "code",
   "execution_count": 11,
   "id": "instant-knock",
   "metadata": {},
   "outputs": [
    {
     "name": "stdout",
     "output_type": "stream",
     "text": [
      "(87647, 5)\n"
     ]
    },
    {
     "data": {
      "text/plain": [
       "(2746, 5)"
      ]
     },
     "execution_count": 11,
     "metadata": {},
     "output_type": "execute_result"
    }
   ],
   "source": [
    "print(df.shape)\n",
    "df[~df.da_num.str.contains('-')].shape"
   ]
  },
  {
   "cell_type": "code",
   "execution_count": 10,
   "id": "academic-hudson",
   "metadata": {},
   "outputs": [
    {
     "name": "stdout",
     "output_type": "stream",
     "text": [
      "(64788, 7)\n"
     ]
    },
    {
     "data": {
      "text/html": [
       "<div>\n",
       "<style scoped>\n",
       "    .dataframe tbody tr th:only-of-type {\n",
       "        vertical-align: middle;\n",
       "    }\n",
       "\n",
       "    .dataframe tbody tr th {\n",
       "        vertical-align: top;\n",
       "    }\n",
       "\n",
       "    .dataframe thead th {\n",
       "        text-align: right;\n",
       "    }\n",
       "</style>\n",
       "<table border=\"1\" class=\"dataframe\">\n",
       "  <thead>\n",
       "    <tr style=\"text-align: right;\">\n",
       "      <th></th>\n",
       "      <th>img_res</th>\n",
       "      <th>img_type</th>\n",
       "      <th>img_index</th>\n",
       "      <th>da_num</th>\n",
       "      <th>img_path</th>\n",
       "      <th>da_number</th>\n",
       "      <th>cwa_determination</th>\n",
       "    </tr>\n",
       "  </thead>\n",
       "  <tbody>\n",
       "    <tr>\n",
       "      <th>0</th>\n",
       "      <td>lores</td>\n",
       "      <td>mndwi</td>\n",
       "      <td>292</td>\n",
       "      <td>LRC-2003-22227</td>\n",
       "      <td>/data/image_final2/GEE_images_final2_lores_mnd...</td>\n",
       "      <td>LRC-2003-22227</td>\n",
       "      <td>1.0</td>\n",
       "    </tr>\n",
       "    <tr>\n",
       "      <th>1</th>\n",
       "      <td>hires</td>\n",
       "      <td>mndwi</td>\n",
       "      <td>8157</td>\n",
       "      <td>SAC-2007-01367</td>\n",
       "      <td>/data/image_final2/GEE_images_final2_hires_mnd...</td>\n",
       "      <td>SAC-2007-01367</td>\n",
       "      <td>0.0</td>\n",
       "    </tr>\n",
       "    <tr>\n",
       "      <th>2</th>\n",
       "      <td>lores</td>\n",
       "      <td>gmndwi</td>\n",
       "      <td>5824</td>\n",
       "      <td>NAN-2016-00095-USH</td>\n",
       "      <td>/data/image_final2/GEE_images_final2_lores_gmn...</td>\n",
       "      <td>NAN-2016-00095-USH</td>\n",
       "      <td>0.0</td>\n",
       "    </tr>\n",
       "    <tr>\n",
       "      <th>3</th>\n",
       "      <td>hires</td>\n",
       "      <td>srtm</td>\n",
       "      <td>1436</td>\n",
       "      <td>LRL-2016-00917-htm</td>\n",
       "      <td>/data/image_final2/GEE_images_final2_hires_srt...</td>\n",
       "      <td>LRL-2016-00917-htm</td>\n",
       "      <td>0.0</td>\n",
       "    </tr>\n",
       "    <tr>\n",
       "      <th>4</th>\n",
       "      <td>lores</td>\n",
       "      <td>gmndwi</td>\n",
       "      <td>459</td>\n",
       "      <td>LRC-2016-00332</td>\n",
       "      <td>/data/image_final2/GEE_images_final2_lores_gmn...</td>\n",
       "      <td>LRC-2016-00332</td>\n",
       "      <td>0.0</td>\n",
       "    </tr>\n",
       "  </tbody>\n",
       "</table>\n",
       "</div>"
      ],
      "text/plain": [
       "  img_res img_type img_index              da_num  \\\n",
       "0   lores    mndwi       292      LRC-2003-22227   \n",
       "1   hires    mndwi      8157      SAC-2007-01367   \n",
       "2   lores   gmndwi      5824  NAN-2016-00095-USH   \n",
       "3   hires     srtm      1436  LRL-2016-00917-htm   \n",
       "4   lores   gmndwi       459      LRC-2016-00332   \n",
       "\n",
       "                                            img_path           da_number  \\\n",
       "0  /data/image_final2/GEE_images_final2_lores_mnd...      LRC-2003-22227   \n",
       "1  /data/image_final2/GEE_images_final2_hires_mnd...      SAC-2007-01367   \n",
       "2  /data/image_final2/GEE_images_final2_lores_gmn...  NAN-2016-00095-USH   \n",
       "3  /data/image_final2/GEE_images_final2_hires_srt...  LRL-2016-00917-htm   \n",
       "4  /data/image_final2/GEE_images_final2_lores_gmn...      LRC-2016-00332   \n",
       "\n",
       "   cwa_determination  \n",
       "0                1.0  \n",
       "1                0.0  \n",
       "2                0.0  \n",
       "3                0.0  \n",
       "4                0.0  "
      ]
     },
     "execution_count": 10,
     "metadata": {},
     "output_type": "execute_result"
    }
   ],
   "source": [
    "df_merged = pd.merge(df, df_labels, left_on = 'da_num', right_on = 'da_number', how = 'left')\n",
    "print(df_merged.shape)\n",
    "df_merged.head()"
   ]
  },
  {
   "cell_type": "code",
   "execution_count": 11,
   "id": "upset-robertson",
   "metadata": {},
   "outputs": [
    {
     "data": {
      "text/plain": [
       "(1, 256, 256)"
      ]
     },
     "execution_count": 11,
     "metadata": {},
     "output_type": "execute_result"
    }
   ],
   "source": [
    "def create_array(tif_image):\n",
    "    try:\n",
    "        p = gdal.Open(str(tif_image))\n",
    "        channels = p.RasterCount\n",
    "\n",
    "        # iterate through rasters and add each to the list of layer_list\n",
    "        layer_list = [np.array(p.GetRasterBand(i).ReadAsArray()) for i in range(1,channels+1)] \n",
    "    except: \n",
    "        print(\"Error with image:\", tif_image)\n",
    "        return np.nan\n",
    "    return np.array(layer_list)\n",
    "create_array('/data/image_final2/GEE_images_final2_hires_mndwi_2105_MVK-2016-00239-LCM_mndwi_hires.tif').shape"
   ]
  },
  {
   "cell_type": "code",
   "execution_count": 14,
   "id": "nominated-mirror",
   "metadata": {},
   "outputs": [],
   "source": [
    "def get_image_metrics(image_path):\n",
    "    image_arr = create_array(image_path)\n",
    "    mean_pixel_value = np.nanmean(image_arr)\n",
    "    std_pixel_value = np.nanstd(image_arr)\n",
    "    return mean_pixel_value, std_pixel_value"
   ]
  },
  {
   "cell_type": "code",
   "execution_count": 18,
   "id": "anticipated-pierre",
   "metadata": {},
   "outputs": [
    {
     "name": "stdout",
     "output_type": "stream",
     "text": [
      "Error with image: /data/image_final2/GEE_images_final2_lores_srtm_5857_NAN-2016-01232-USH_srtm_lores.tif\n"
     ]
    },
    {
     "name": "stderr",
     "output_type": "stream",
     "text": [
      "/usr/local/lib/python3.6/dist-packages/ipykernel_launcher.py:3: RuntimeWarning: Mean of empty slice\n",
      "  This is separate from the ipykernel package so we can avoid doing imports until\n",
      "/usr/local/lib/python3.6/dist-packages/numpy/lib/nanfunctions.py:1667: RuntimeWarning: Degrees of freedom <= 0 for slice.\n",
      "  keepdims=keepdims)\n"
     ]
    },
    {
     "name": "stdout",
     "output_type": "stream",
     "text": [
      "Error with image: /data/image_final2/GEE_images_final2_hires_mndvi_8236_SAC-2012-00032_mndvi_hires.tif\n",
      "Error with image: /data/image_final2/GEE_images_final2_hires_mndvi_6176_NAO-2016-01643-tca_mndvi_hires.tif\n",
      "Error with image: /data/image_final2/GEE_images_final2_lores_srtm_3995_MVN-2019-00361-ST_srtm_lores.tif\n",
      "Error with image: /data/image_final2/GEE_images_final2_lores_gmndwi_8029_POA-2019-00608_gmndwi_lores.tif\n",
      "Error with image: /data/image_final2/GEE_images_final2_hires_srtm_8029_POA-2019-00608_srtm_hires.tif\n"
     ]
    },
    {
     "data": {
      "text/html": [
       "<div>\n",
       "<style scoped>\n",
       "    .dataframe tbody tr th:only-of-type {\n",
       "        vertical-align: middle;\n",
       "    }\n",
       "\n",
       "    .dataframe tbody tr th {\n",
       "        vertical-align: top;\n",
       "    }\n",
       "\n",
       "    .dataframe thead th {\n",
       "        text-align: right;\n",
       "    }\n",
       "</style>\n",
       "<table border=\"1\" class=\"dataframe\">\n",
       "  <thead>\n",
       "    <tr style=\"text-align: right;\">\n",
       "      <th></th>\n",
       "      <th>img_res</th>\n",
       "      <th>img_type</th>\n",
       "      <th>img_index</th>\n",
       "      <th>da_num</th>\n",
       "      <th>img_path</th>\n",
       "      <th>da_number</th>\n",
       "      <th>cwa_determination</th>\n",
       "      <th>metrics</th>\n",
       "    </tr>\n",
       "  </thead>\n",
       "  <tbody>\n",
       "    <tr>\n",
       "      <th>0</th>\n",
       "      <td>lores</td>\n",
       "      <td>mndwi</td>\n",
       "      <td>292</td>\n",
       "      <td>LRC-2003-22227</td>\n",
       "      <td>/data/image_final2/GEE_images_final2_lores_mnd...</td>\n",
       "      <td>LRC-2003-22227</td>\n",
       "      <td>1.0</td>\n",
       "      <td>(-0.3306894463763968, 0.09898692070930509)</td>\n",
       "    </tr>\n",
       "    <tr>\n",
       "      <th>1</th>\n",
       "      <td>hires</td>\n",
       "      <td>mndwi</td>\n",
       "      <td>8157</td>\n",
       "      <td>SAC-2007-01367</td>\n",
       "      <td>/data/image_final2/GEE_images_final2_hires_mnd...</td>\n",
       "      <td>SAC-2007-01367</td>\n",
       "      <td>0.0</td>\n",
       "      <td>(-0.40988840562690426, 0.19788100896017022)</td>\n",
       "    </tr>\n",
       "    <tr>\n",
       "      <th>2</th>\n",
       "      <td>lores</td>\n",
       "      <td>gmndwi</td>\n",
       "      <td>5824</td>\n",
       "      <td>NAN-2016-00095-USH</td>\n",
       "      <td>/data/image_final2/GEE_images_final2_lores_gmn...</td>\n",
       "      <td>NAN-2016-00095-USH</td>\n",
       "      <td>0.0</td>\n",
       "      <td>(0.56878513, 0.23097283)</td>\n",
       "    </tr>\n",
       "    <tr>\n",
       "      <th>3</th>\n",
       "      <td>hires</td>\n",
       "      <td>srtm</td>\n",
       "      <td>1436</td>\n",
       "      <td>LRL-2016-00917-htm</td>\n",
       "      <td>/data/image_final2/GEE_images_final2_hires_srt...</td>\n",
       "      <td>LRL-2016-00917-htm</td>\n",
       "      <td>0.0</td>\n",
       "      <td>(266.44921875, 1.7671324110003224)</td>\n",
       "    </tr>\n",
       "    <tr>\n",
       "      <th>4</th>\n",
       "      <td>lores</td>\n",
       "      <td>gmndwi</td>\n",
       "      <td>459</td>\n",
       "      <td>LRC-2016-00332</td>\n",
       "      <td>/data/image_final2/GEE_images_final2_lores_gmn...</td>\n",
       "      <td>LRC-2016-00332</td>\n",
       "      <td>0.0</td>\n",
       "      <td>(0.6707717, 0.15186259)</td>\n",
       "    </tr>\n",
       "  </tbody>\n",
       "</table>\n",
       "</div>"
      ],
      "text/plain": [
       "  img_res img_type img_index              da_num  \\\n",
       "0   lores    mndwi       292      LRC-2003-22227   \n",
       "1   hires    mndwi      8157      SAC-2007-01367   \n",
       "2   lores   gmndwi      5824  NAN-2016-00095-USH   \n",
       "3   hires     srtm      1436  LRL-2016-00917-htm   \n",
       "4   lores   gmndwi       459      LRC-2016-00332   \n",
       "\n",
       "                                            img_path           da_number  \\\n",
       "0  /data/image_final2/GEE_images_final2_lores_mnd...      LRC-2003-22227   \n",
       "1  /data/image_final2/GEE_images_final2_hires_mnd...      SAC-2007-01367   \n",
       "2  /data/image_final2/GEE_images_final2_lores_gmn...  NAN-2016-00095-USH   \n",
       "3  /data/image_final2/GEE_images_final2_hires_srt...  LRL-2016-00917-htm   \n",
       "4  /data/image_final2/GEE_images_final2_lores_gmn...      LRC-2016-00332   \n",
       "\n",
       "   cwa_determination                                      metrics  \n",
       "0                1.0   (-0.3306894463763968, 0.09898692070930509)  \n",
       "1                0.0  (-0.40988840562690426, 0.19788100896017022)  \n",
       "2                0.0                     (0.56878513, 0.23097283)  \n",
       "3                0.0           (266.44921875, 1.7671324110003224)  \n",
       "4                0.0                      (0.6707717, 0.15186259)  "
      ]
     },
     "execution_count": 18,
     "metadata": {},
     "output_type": "execute_result"
    }
   ],
   "source": [
    "df_merged['metrics'] = df_merged.img_path.apply(get_image_metrics)\n",
    "df_merged.head()"
   ]
  },
  {
   "cell_type": "code",
   "execution_count": 19,
   "id": "through-momentum",
   "metadata": {},
   "outputs": [],
   "source": [
    "df_merged.to_csv('image_metrics_030421.csv')"
   ]
  },
  {
   "cell_type": "code",
   "execution_count": 11,
   "id": "million-denial",
   "metadata": {
    "collapsed": true,
    "jupyter": {
     "outputs_hidden": true
    },
    "tags": []
   },
   "outputs": [
    {
     "name": "stdout",
     "output_type": "stream",
     "text": [
      "(9, 5)\n",
      "(5, 5)\n",
      "(5, 5)\n",
      "(5, 5)\n",
      "(5, 5)\n",
      "(9, 5)\n",
      "(9, 5)\n",
      "(7, 5)\n",
      "(7, 5)\n",
      "(7, 5)\n",
      "(6, 5)\n",
      "(2, 5)\n",
      "(2, 5)\n",
      "(2, 5)\n",
      "(2, 5)\n",
      "(2, 5)\n",
      "(2, 5)\n",
      "(2, 5)\n",
      "(2, 5)\n",
      "(2, 5)\n",
      "(2, 5)\n",
      "(2, 5)\n",
      "(2, 5)\n",
      "(2, 5)\n",
      "(2, 5)\n",
      "(2, 5)\n",
      "(2, 5)\n",
      "(2, 5)\n",
      "(2, 5)\n",
      "(2, 5)\n",
      "(2, 5)\n",
      "(2, 5)\n",
      "(2, 5)\n",
      "(2, 5)\n",
      "(2, 5)\n",
      "(2, 5)\n",
      "(2, 5)\n",
      "(2, 5)\n",
      "(2, 5)\n",
      "(2, 5)\n",
      "(9, 5)\n",
      "(9, 5)\n",
      "(7, 5)\n",
      "(8, 5)\n",
      "(8, 5)\n",
      "(7, 5)\n",
      "(7, 5)\n",
      "(7, 5)\n",
      "(8, 5)\n",
      "(8, 5)\n",
      "(7, 5)\n",
      "(8, 5)\n",
      "(7, 5)\n",
      "(7, 5)\n",
      "(7, 5)\n",
      "(7, 5)\n",
      "(7, 5)\n",
      "(7, 5)\n",
      "(7, 5)\n",
      "(7, 5)\n",
      "(7, 5)\n",
      "(7, 5)\n",
      "(9, 5)\n",
      "(1, 5)\n",
      "(1, 5)\n",
      "(1, 5)\n",
      "(1, 5)\n",
      "(2, 5)\n",
      "(1, 5)\n",
      "(2, 5)\n",
      "(1, 5)\n",
      "(2, 5)\n",
      "(1, 5)\n",
      "(2, 5)\n",
      "(1, 5)\n",
      "(2, 5)\n",
      "(1, 5)\n",
      "(2, 5)\n",
      "(1, 5)\n",
      "(2, 5)\n",
      "(1, 5)\n",
      "(2, 5)\n",
      "(1, 5)\n",
      "(2, 5)\n",
      "(1, 5)\n",
      "(2, 5)\n",
      "(2, 5)\n",
      "(2, 5)\n",
      "(2, 5)\n",
      "(2, 5)\n",
      "(2, 5)\n",
      "(2, 5)\n",
      "(2, 5)\n",
      "(2, 5)\n",
      "(2, 5)\n",
      "(2, 5)\n",
      "(2, 5)\n",
      "(2, 5)\n",
      "(2, 5)\n",
      "(2, 5)\n",
      "(2, 5)\n",
      "(2, 5)\n",
      "(2, 5)\n",
      "(2, 5)\n",
      "(2, 5)\n",
      "(2, 5)\n",
      "(2, 5)\n",
      "(2, 5)\n",
      "(2, 5)\n",
      "(2, 5)\n",
      "(2, 5)\n",
      "(2, 5)\n",
      "(2, 5)\n",
      "(2, 5)\n",
      "(2, 5)\n",
      "(2, 5)\n",
      "(2, 5)\n",
      "(2, 5)\n",
      "(2, 5)\n",
      "(2, 5)\n",
      "(2, 5)\n",
      "(2, 5)\n",
      "(2, 5)\n",
      "(2, 5)\n",
      "(2, 5)\n",
      "(2, 5)\n",
      "(2, 5)\n",
      "(2, 5)\n",
      "(2, 5)\n",
      "(2, 5)\n",
      "(2, 5)\n",
      "(2, 5)\n",
      "(2, 5)\n",
      "(2, 5)\n",
      "(2, 5)\n",
      "(2, 5)\n",
      "(2, 5)\n",
      "(2, 5)\n",
      "(2, 5)\n",
      "(2, 5)\n",
      "(2, 5)\n",
      "(2, 5)\n",
      "(2, 5)\n",
      "(2, 5)\n",
      "(2, 5)\n",
      "(2, 5)\n",
      "(2, 5)\n",
      "(2, 5)\n",
      "(2, 5)\n",
      "(2, 5)\n",
      "(2, 5)\n",
      "(2, 5)\n",
      "(2, 5)\n",
      "(2, 5)\n",
      "(2, 5)\n",
      "(2, 5)\n",
      "(2, 5)\n",
      "(5, 5)\n",
      "(2, 5)\n",
      "(5, 5)\n",
      "(2, 5)\n",
      "(5, 5)\n",
      "(2, 5)\n",
      "(5, 5)\n",
      "(2, 5)\n",
      "(5, 5)\n",
      "(2, 5)\n",
      "(5, 5)\n",
      "(2, 5)\n",
      "(5, 5)\n",
      "(2, 5)\n",
      "(5, 5)\n",
      "(2, 5)\n",
      "(5, 5)\n",
      "(2, 5)\n",
      "(9, 5)\n",
      "(2, 5)\n",
      "(9, 5)\n",
      "(2, 5)\n",
      "(9, 5)\n",
      "(2, 5)\n",
      "(9, 5)\n",
      "(2, 5)\n",
      "(9, 5)\n",
      "(2, 5)\n",
      "(5, 5)\n",
      "(8, 5)\n",
      "(9, 5)\n",
      "(8, 5)\n",
      "(8, 5)\n",
      "(7, 5)\n",
      "(6, 5)\n",
      "(3, 5)\n",
      "(6, 5)\n",
      "(5, 5)\n",
      "(5, 5)\n",
      "(4, 5)\n",
      "(3, 5)\n",
      "(8, 5)\n",
      "(8, 5)\n",
      "(8, 5)\n",
      "(8, 5)\n",
      "(8, 5)\n",
      "(5, 5)\n",
      "(6, 5)\n",
      "(7, 5)\n",
      "(8, 5)\n",
      "(9, 5)\n",
      "(4, 5)\n",
      "(9, 5)\n",
      "(2, 5)\n",
      "(7, 5)\n",
      "(2, 5)\n",
      "(9, 5)\n",
      "(6, 5)\n",
      "(2, 5)\n",
      "(4, 5)\n",
      "(8, 5)\n",
      "(4, 5)\n",
      "(3, 5)\n",
      "(9, 5)\n",
      "(2, 5)\n",
      "(2, 5)\n",
      "(6, 5)\n",
      "(9, 5)\n",
      "(9, 5)\n",
      "(6, 5)\n",
      "(1, 5)\n",
      "(5, 5)\n",
      "(5, 5)\n",
      "(7, 5)\n",
      "(4, 5)\n",
      "(7, 5)\n",
      "(7, 5)\n",
      "(8, 5)\n",
      "(5, 5)\n",
      "(9, 5)\n",
      "(7, 5)\n",
      "(6, 5)\n",
      "(3, 5)\n",
      "(8, 5)\n",
      "(7, 5)\n",
      "(355, 5)\n",
      "(382, 5)\n",
      "(374, 5)\n",
      "(186, 5)\n",
      "(345, 5)\n",
      "(185, 5)\n"
     ]
    },
    {
     "data": {
      "text/plain": [
       "248"
      ]
     },
     "execution_count": 11,
     "metadata": {},
     "output_type": "execute_result"
    }
   ],
   "source": [
    "img_sum_list = []\n",
    "for da, dadf in df.groupby('da_num'):\n",
    "    img_sum_list.append(dadf.shape[0])\n",
    "    if dadf.shape[0] != 10: print(dadf.shape)\n",
    "len([x for x in img_sum_list if x != 10])"
   ]
  },
  {
   "cell_type": "code",
   "execution_count": 13,
   "id": "piano-marble",
   "metadata": {
    "tags": []
   },
   "outputs": [],
   "source": [
    "#fig, ax = plt.subplots(4,5, figsize = (20,19))\n",
    "#axes = [(x,y) for x in range(4) for y in range(5)]\n",
    "#print(axes)"
   ]
  },
  {
   "cell_type": "code",
   "execution_count": 11,
   "id": "romantic-spectrum",
   "metadata": {},
   "outputs": [
    {
     "name": "stdout",
     "output_type": "stream",
     "text": [
      "processing hires gmndwi // elapsed time 0.504 sec\n",
      "processing hires mndvi // elapsed time 29.571 sec\n",
      "processing hires mndwi // elapsed time 71.396 sec\n",
      "processing hires seasonality // elapsed time 112.399 sec\n",
      "processing hires srtm // elapsed time 121.03 sec\n",
      "Error with image: /data/image_final2/GEE_images_final2_hires_srtm_8029_POA-2019-00608_srtm_hires.tif\n"
     ]
    },
    {
     "name": "stderr",
     "output_type": "stream",
     "text": [
      "/usr/local/lib/python3.6/dist-packages/ipykernel_launcher.py:9: RuntimeWarning: Mean of empty slice\n",
      "  if __name__ == '__main__':\n",
      "/usr/local/lib/python3.6/dist-packages/numpy/lib/nanfunctions.py:1667: RuntimeWarning: Degrees of freedom <= 0 for slice.\n",
      "  keepdims=keepdims)\n",
      "/usr/local/lib/python3.6/dist-packages/numpy/lib/histograms.py:839: RuntimeWarning: invalid value encountered in greater_equal\n",
      "  keep = (tmp_a >= first_edge)\n",
      "/usr/local/lib/python3.6/dist-packages/numpy/lib/histograms.py:840: RuntimeWarning: invalid value encountered in less_equal\n",
      "  keep &= (tmp_a <= last_edge)\n"
     ]
    },
    {
     "name": "stdout",
     "output_type": "stream",
     "text": [
      "processing hires transition // elapsed time 134.008 sec\n",
      "processing lores gmndwi // elapsed time 142.826 sec\n",
      "Error with image: /data/image_final2/GEE_images_final2_lores_gmndwi_8029_POA-2019-00608_gmndwi_lores.tif\n",
      "processing lores mndvi // elapsed time 172.789 sec\n",
      "processing lores mndwi // elapsed time 213.833 sec\n",
      "processing lores srtm // elapsed time 255.407 sec\n"
     ]
    },
    {
     "data": {
      "text/plain": [
       "2201"
      ]
     },
     "execution_count": 11,
     "metadata": {},
     "output_type": "execute_result"
    },
    {
     "data": {
      "image/png": "[encoded data removed]",
      "text/plain": [
       "<Figure size 1440x1368 with 20 Axes>"
      ]
     },
     "metadata": {
      "needs_background": "light"
     },
     "output_type": "display_data"
    }
   ],
   "source": [
    "t0 = time.time()\n",
    "fig, ax = plt.subplots(4,5, figsize = (20,19))\n",
    "i = 0 \n",
    "axes = [(x,y) for y in range(5) for x in range(4)]\n",
    "for res, resdf in df.groupby('img_res'):\n",
    "    for it, itdf in resdf.groupby('img_type'):\n",
    "        print('processing', res, it, r'// elapsed time', round(time.time()-t0,3), 'sec')\n",
    "        image_series = itdf.img_path.apply(create_array)\n",
    "        mean_pixel_value = image_series.apply(lambda x: np.nanmean(x))\n",
    "        std_pixel_value = image_series.apply(lambda x: np.nanstd(x))\n",
    "        ax[axes[i]].hist(mean_pixel_value)\n",
    "        ax[axes[i]].set_title(res + '_' + it + '_mean')\n",
    "        i += 1\n",
    "        ax[axes[i]].hist(std_pixel_value)\n",
    "        ax[axes[i]].set_title(res + '_' + it + '_stdev')\n",
    "        i += 1\n",
    "#        break\n",
    "#    break\n",
    "len(image_series)"
   ]
  },
  {
   "cell_type": "code",
   "execution_count": 118,
   "id": "necessary-gateway",
   "metadata": {},
   "outputs": [],
   "source": [
    "layer_setup = [['hires', 'gmndwi'], ['hires', 'mndvi'], ['hires', 'srtm'], ['lores', 'gmndwi'], ['lores', 'mndvi'], ['lores', 'srtm']]"
   ]
  },
  {
   "cell_type": "code",
   "execution_count": 12,
   "id": "level-membrane",
   "metadata": {},
   "outputs": [
    {
     "name": "stdout",
     "output_type": "stream",
     "text": [
      "None <class 'NoneType'>\n"
     ]
    },
    {
     "ename": "AttributeError",
     "evalue": "'NoneType' object has no attribute 'RasterCount'",
     "output_type": "error",
     "traceback": [
      "\u001b[0;31m---------------------------------------------------------------------------\u001b[0m",
      "\u001b[0;31mAttributeError\u001b[0m                            Traceback (most recent call last)",
      "\u001b[0;32m<ipython-input-12-5a6884fc56e7>\u001b[0m in \u001b[0;36m<module>\u001b[0;34m\u001b[0m\n\u001b[1;32m      3\u001b[0m \u001b[0mp\u001b[0m \u001b[0;34m=\u001b[0m \u001b[0mgdal\u001b[0m\u001b[0;34m.\u001b[0m\u001b[0mOpen\u001b[0m\u001b[0;34m(\u001b[0m\u001b[0mstr\u001b[0m\u001b[0;34m(\u001b[0m\u001b[0mtif_image\u001b[0m\u001b[0;34m)\u001b[0m\u001b[0;34m)\u001b[0m\u001b[0;34m\u001b[0m\u001b[0;34m\u001b[0m\u001b[0m\n\u001b[1;32m      4\u001b[0m \u001b[0mprint\u001b[0m\u001b[0;34m(\u001b[0m\u001b[0mp\u001b[0m\u001b[0;34m,\u001b[0m \u001b[0mtype\u001b[0m\u001b[0;34m(\u001b[0m\u001b[0mp\u001b[0m\u001b[0;34m)\u001b[0m\u001b[0;34m)\u001b[0m\u001b[0;34m\u001b[0m\u001b[0;34m\u001b[0m\u001b[0m\n\u001b[0;32m----> 5\u001b[0;31m \u001b[0mchannels\u001b[0m \u001b[0;34m=\u001b[0m \u001b[0mp\u001b[0m\u001b[0;34m.\u001b[0m\u001b[0mRasterCount\u001b[0m\u001b[0;34m\u001b[0m\u001b[0;34m\u001b[0m\u001b[0m\n\u001b[0m\u001b[1;32m      6\u001b[0m \u001b[0;34m\u001b[0m\u001b[0m\n\u001b[1;32m      7\u001b[0m \u001b[0;31m# iterate through rasters and add each to the list of layer_list\u001b[0m\u001b[0;34m\u001b[0m\u001b[0;34m\u001b[0m\u001b[0;34m\u001b[0m\u001b[0m\n",
      "\u001b[0;31mAttributeError\u001b[0m: 'NoneType' object has no attribute 'RasterCount'"
     ]
    }
   ],
   "source": [
    "tif_image = '/data/image_final2/GEE_images_final2_hires_srtm_8029_POA-2019-00608_srtm_hires.tif'\n",
    "\n",
    "p = gdal.Open(str(tif_image))\n",
    "print(p, type(p))\n",
    "channels = p.RasterCount\n",
    "\n",
    "# iterate through rasters and add each to the list of layer_list\n",
    "layer_list = [np.array(p.GetRasterBand(i).ReadAsArray()) for i in range(1,channels+1)] "
   ]
  },
  {
   "cell_type": "code",
   "execution_count": 147,
   "id": "digital-mixer",
   "metadata": {},
   "outputs": [
    {
     "name": "stdout",
     "output_type": "stream",
     "text": [
      "(20090, 7)\n",
      "(20080, 7)\n"
     ]
    }
   ],
   "source": [
    "print(df_merged.shape)\n",
    "df_merged = df_merged[~(df_merged['da_num'] == 'POA-2019-00608')]\n",
    "print(df_merged.shape)"
   ]
  },
  {
   "cell_type": "code",
   "execution_count": 148,
   "id": "neither-letter",
   "metadata": {},
   "outputs": [
    {
     "name": "stdout",
     "output_type": "stream",
     "text": [
      "LRB-2004-00299 error, not 10 images.\n",
      "LRC-2012-00698 error, not 10 images.\n",
      "LRH-2015-00966-BCR error, not 10 images.\n",
      "LRH-2018-00971-GUY error, not 10 images.\n",
      "LRH-2020-00057-SCR error, not 10 images.\n",
      "MVN-2015-00044-SR error, not 10 images.\n",
      "MVN-2015-00919-SQ error, not 10 images.\n",
      "MVN-2019-00883-SL error, not 10 images.\n",
      "MVP-2008-04451-WAB error, not 10 images.\n",
      "MVP-2016-02261-RJH error, not 10 images.\n",
      "NAO-2016-00437-tca error, not 10 images.\n",
      "NAO-2020-00781-bcd error, not 10 images.\n",
      "NAP-2010-00830-67 error, not 10 images.\n",
      "NWO-2016-01637-BIS error, not 10 images.\n",
      "NWO-2016-02128-BIS error, not 10 images.\n",
      "NWO-2017-00021-BIS error, not 10 images.\n",
      "NWO-2019-00281-DEN error, not 10 images.\n",
      "NWS-2016-00994 error, not 10 images.\n",
      "POH-2011-00296-RD9 error, not 10 images.\n",
      "SAW-2019-00663 error, not 10 images.\n",
      "1995 training examples prepared in 81 sec\n",
      "(1995, 256, 256, 6) (1995,)\n"
     ]
    }
   ],
   "source": [
    "def packager1(df_lookup, layer_setup):\n",
    "    t0 = time.time()\n",
    "    X = []\n",
    "    y = []\n",
    "    for da_num, ddf in df_lookup.groupby('da_num'):\n",
    "        if ddf.shape[0] != 10:\n",
    "            print(da_num, \"error, not 10 images.\")\n",
    "            continue\n",
    "            \n",
    "        else:\n",
    "            stacked_images = []\n",
    "            for channel in layer_setup:\n",
    "                image_row = ddf[(ddf['img_res'] == channel[0])&(ddf['img_type'] == channel[1])]\n",
    "                #print(image_row, type(image_row))\n",
    "                if image_row.shape[0] != 1: \n",
    "                    print('Duplicates?', image_row)\n",
    "                stacked_images.append(create_array(image_row.img_path.iloc[0]))\n",
    "            X.append(np.array(stacked_images).reshape(1,256,256,len(layer_setup)))\n",
    "            \n",
    "            y.append(ddf.cwa_determination.iloc[0])\n",
    "            # break\n",
    "    print(len(y), 'training examples prepared in', round(time.time()-t0), 'sec')\n",
    "    return np.concatenate(X), np.array(y)\n",
    "    \n",
    "    \n",
    "X, y = packager1(df_merged, layer_setup)\n",
    "print(X.shape, y.shape)"
   ]
  },
  {
   "cell_type": "code",
   "execution_count": 166,
   "id": "spanish-aruba",
   "metadata": {
    "tags": []
   },
   "outputs": [
    {
     "name": "stdout",
     "output_type": "stream",
     "text": [
      "<class 'tensorflow.python.keras.engine.functional.Functional'>\n",
      "Model: \"vgg16\"\n",
      "_________________________________________________________________\n",
      "Layer (type)                 Output Shape              Param #   \n",
      "=================================================================\n",
      "input_11 (InputLayer)        [(None, 256, 256, 3)]     0         \n",
      "_________________________________________________________________\n",
      "block1_conv1 (Conv2D)        (None, 256, 256, 64)      1792      \n",
      "_________________________________________________________________\n",
      "block1_conv2 (Conv2D)        (None, 256, 256, 64)      36928     \n",
      "_________________________________________________________________\n",
      "block1_pool (MaxPooling2D)   (None, 128, 128, 64)      0         \n",
      "_________________________________________________________________\n",
      "block2_conv1 (Conv2D)        (None, 128, 128, 128)     73856     \n",
      "_________________________________________________________________\n",
      "block2_conv2 (Conv2D)        (None, 128, 128, 128)     147584    \n",
      "_________________________________________________________________\n",
      "block2_pool (MaxPooling2D)   (None, 64, 64, 128)       0         \n",
      "_________________________________________________________________\n",
      "block3_conv1 (Conv2D)        (None, 64, 64, 256)       295168    \n",
      "_________________________________________________________________\n",
      "block3_conv2 (Conv2D)        (None, 64, 64, 256)       590080    \n",
      "_________________________________________________________________\n",
      "block3_conv3 (Conv2D)        (None, 64, 64, 256)       590080    \n",
      "_________________________________________________________________\n",
      "block3_pool (MaxPooling2D)   (None, 32, 32, 256)       0         \n",
      "_________________________________________________________________\n",
      "block4_conv1 (Conv2D)        (None, 32, 32, 512)       1180160   \n",
      "_________________________________________________________________\n",
      "block4_conv2 (Conv2D)        (None, 32, 32, 512)       2359808   \n",
      "_________________________________________________________________\n",
      "block4_conv3 (Conv2D)        (None, 32, 32, 512)       2359808   \n",
      "_________________________________________________________________\n",
      "block4_pool (MaxPooling2D)   (None, 16, 16, 512)       0         \n",
      "_________________________________________________________________\n",
      "block5_conv1 (Conv2D)        (None, 16, 16, 512)       2359808   \n",
      "_________________________________________________________________\n",
      "block5_conv2 (Conv2D)        (None, 16, 16, 512)       2359808   \n",
      "_________________________________________________________________\n",
      "block5_conv3 (Conv2D)        (None, 16, 16, 512)       2359808   \n",
      "_________________________________________________________________\n",
      "block5_pool (MaxPooling2D)   (None, 8, 8, 512)         0         \n",
      "=================================================================\n",
      "Total params: 14,714,688\n",
      "Trainable params: 0\n",
      "Non-trainable params: 14,714,688\n",
      "_________________________________________________________________\n"
     ]
    }
   ],
   "source": [
    "## develop input splitter\n",
    "from keras.applications.vgg16 import VGG16\n",
    "vgg16_model1 = VGG16(include_top=False, weights='imagenet', input_shape=(256,256, 3))\n",
    "vgg16_model2 = VGG16(include_top=False, weights='imagenet', input_shape=(256,256, 3))\n",
    "vgg16_model1.trainable = False\n",
    "vgg16_model2.trainable = False\n",
    "\n",
    "print(type(vgg16_model1))\n",
    "vgg16_model1.summary()"
   ]
  },
  {
   "cell_type": "code",
   "execution_count": null,
   "id": "phantom-johnson",
   "metadata": {},
   "outputs": [],
   "source": []
  },
  {
   "cell_type": "code",
   "execution_count": 5,
   "id": "literary-upgrade",
   "metadata": {
    "collapsed": true,
    "jupyter": {
     "outputs_hidden": true
    },
    "tags": []
   },
   "outputs": [
    {
     "name": "stdout",
     "output_type": "stream",
     "text": [
      "(1, 256, 256, 3)\n"
     ]
    },
    {
     "data": {
      "text/plain": [
       "array([[[[0.        , 0.        , 0.        , ..., 0.        ,\n",
       "          0.88731253, 0.        ],\n",
       "         [0.        , 0.        , 0.        , ..., 0.        ,\n",
       "          1.079706  , 0.        ],\n",
       "         [0.        , 0.        , 0.        , ..., 0.        ,\n",
       "          1.4023306 , 0.        ],\n",
       "         ...,\n",
       "         [0.        , 0.        , 0.        , ..., 0.        ,\n",
       "          1.089556  , 0.        ],\n",
       "         [0.06538105, 0.        , 0.        , ..., 0.1947375 ,\n",
       "          1.0068531 , 0.        ],\n",
       "         [0.        , 0.        , 0.02785492, ..., 0.        ,\n",
       "          0.9805566 , 0.        ]],\n",
       "\n",
       "        [[0.04000388, 0.        , 0.        , ..., 0.        ,\n",
       "          0.89269316, 0.        ],\n",
       "         [0.        , 0.        , 0.        , ..., 0.        ,\n",
       "          1.2469203 , 0.        ],\n",
       "         [0.        , 0.        , 0.        , ..., 0.        ,\n",
       "          1.5314772 , 0.        ],\n",
       "         ...,\n",
       "         [0.        , 0.        , 0.        , ..., 0.        ,\n",
       "          1.1317878 , 0.        ],\n",
       "         [0.09681977, 0.        , 0.        , ..., 0.13250408,\n",
       "          1.1360692 , 0.        ],\n",
       "         [0.        , 0.        , 0.        , ..., 0.        ,\n",
       "          1.0120807 , 0.        ]],\n",
       "\n",
       "        [[0.        , 0.        , 0.        , ..., 0.        ,\n",
       "          0.7403911 , 0.        ],\n",
       "         [0.        , 0.        , 0.        , ..., 0.        ,\n",
       "          0.9074917 , 0.        ],\n",
       "         [0.        , 0.        , 0.        , ..., 0.        ,\n",
       "          1.0752814 , 0.        ],\n",
       "         ...,\n",
       "         [0.        , 0.        , 0.        , ..., 0.        ,\n",
       "          0.98020864, 0.        ],\n",
       "         [0.02016842, 0.        , 0.        , ..., 0.        ,\n",
       "          0.822345  , 0.        ],\n",
       "         [0.        , 0.        , 0.        , ..., 0.        ,\n",
       "          0.7671621 , 0.        ]],\n",
       "\n",
       "        ...,\n",
       "\n",
       "        [[0.        , 0.        , 0.        , ..., 0.        ,\n",
       "          1.238266  , 0.        ],\n",
       "         [0.        , 0.        , 0.        , ..., 0.        ,\n",
       "          1.1496081 , 0.        ],\n",
       "         [0.        , 0.        , 0.        , ..., 0.        ,\n",
       "          1.1044407 , 0.        ],\n",
       "         ...,\n",
       "         [0.        , 0.        , 0.        , ..., 0.        ,\n",
       "          0.9991967 , 0.        ],\n",
       "         [0.        , 0.        , 0.        , ..., 0.        ,\n",
       "          0.9661231 , 0.        ],\n",
       "         [0.        , 0.        , 0.        , ..., 0.        ,\n",
       "          0.91260177, 0.        ]],\n",
       "\n",
       "        [[0.        , 0.        , 0.        , ..., 0.        ,\n",
       "          0.93472576, 0.        ],\n",
       "         [0.        , 0.        , 0.        , ..., 0.        ,\n",
       "          1.1377275 , 0.        ],\n",
       "         [0.        , 0.        , 0.        , ..., 0.        ,\n",
       "          1.2210308 , 0.        ],\n",
       "         ...,\n",
       "         [0.        , 0.        , 0.        , ..., 0.        ,\n",
       "          1.0590855 , 0.        ],\n",
       "         [0.06753795, 0.        , 0.        , ..., 0.        ,\n",
       "          1.0437863 , 0.        ],\n",
       "         [0.10086203, 0.        , 0.        , ..., 0.        ,\n",
       "          0.96419823, 0.        ]],\n",
       "\n",
       "        [[0.        , 0.        , 0.        , ..., 0.        ,\n",
       "          0.8280335 , 0.        ],\n",
       "         [0.        , 0.        , 0.        , ..., 0.        ,\n",
       "          0.8494485 , 0.        ],\n",
       "         [0.        , 0.        , 0.0910095 , ..., 0.        ,\n",
       "          0.95552063, 0.        ],\n",
       "         ...,\n",
       "         [0.        , 0.        , 0.00427437, ..., 0.        ,\n",
       "          0.88068074, 0.        ],\n",
       "         [0.        , 0.        , 0.04672068, ..., 0.        ,\n",
       "          0.77191067, 0.        ],\n",
       "         [0.        , 0.        , 0.        , ..., 0.        ,\n",
       "          0.67100036, 0.        ]]]], dtype=float32)"
      ]
     },
     "execution_count": 5,
     "metadata": {},
     "output_type": "execute_result"
    }
   ],
   "source": [
    "test_input = np.random.rand(256,256,3)\n",
    "test_input = test_input.reshape(1, 256,256, 3)\n",
    "print(test_input.shape)\n",
    "vgg16_model1.predict(test_input)"
   ]
  },
  {
   "cell_type": "code",
   "execution_count": 24,
   "id": "exotic-society",
   "metadata": {},
   "outputs": [
    {
     "name": "stdout",
     "output_type": "stream",
     "text": [
      "(256, 256, 3)\n",
      "(256, 256, 3)\n"
     ]
    }
   ],
   "source": [
    "for i in range(2):\n",
    "    s = np.random.rand(256,256,6)[:,:, i*3:3*(i+1)].shape\n",
    "    print(s)"
   ]
  },
  {
   "cell_type": "code",
   "execution_count": 179,
   "id": "realistic-alignment",
   "metadata": {},
   "outputs": [
    {
     "name": "stdout",
     "output_type": "stream",
     "text": [
      "(None, 256, 256, 6)\n",
      "(None, 256, 256, 3)\n",
      "(None, 8, 8, 512)\n",
      "(None, 8, 8, 10)\n",
      "(None, 640)\n",
      "(None, 256, 256, 6)\n",
      "(None, 256, 256, 3)\n",
      "(None, 8, 8, 512)\n",
      "(None, 8, 8, 10)\n",
      "(None, 640)\n",
      "(None, 1280)\n",
      "(None, 10)\n",
      "(None, 2)\n",
      "(None, 2)\n"
     ]
    }
   ],
   "source": [
    "from keras.layers import Dense, Concatenate, Input, Lambda, Flatten, Softmax\n",
    "from keras.models import Model, Sequential\n",
    "\n",
    "num_channels = 6\n",
    "input = Input(shape=(256,256, num_channels))\n",
    "\n",
    "branch_outputs = []\n",
    "\n",
    "# loop for however many branches you want to use.  (each branch needs 3 channel depth)\n",
    "for i in [0,3]:\n",
    "    # create looping so that vgg16 model input is created ie 256,256,3\n",
    "    print(input.shape)\n",
    "    out = Lambda(lambda x: x[:,:,:,i:i+3])(input)\n",
    "    print(out.shape)\n",
    "    \n",
    "    # Setting up your layers in each branch: (currently each branch is identical architecture.)\n",
    "    if i == 0: out = Sequential(vgg16_model1)(out)   # use pretrained and loaded vgg16\n",
    "    else: out = Sequential(vgg16_model1)(out)   # use pretrained and loaded vgg16\n",
    "    print(out.shape)\n",
    "    out = Dense(10)(out)\n",
    "    print(out.shape)\n",
    "    out = Flatten()(out)\n",
    "    print(out.shape)\n",
    "    branch_outputs.append(out)\n",
    "\n",
    "# Concatenating the branches outputs:\n",
    "out = Concatenate()(branch_outputs)\n",
    "print(out.shape)\n",
    "\n",
    "# Add final dense layers and softmax\n",
    "out = Dense(10)(out)\n",
    "print(out.shape)\n",
    "out = Dense(6)(out)\n",
    "out = Dense(2)(out)\n",
    "print(out.shape)\n",
    "out = Softmax()(out)\n",
    "print(out.shape)"
   ]
  },
  {
   "cell_type": "code",
   "execution_count": 175,
   "id": "dynamic-clarity",
   "metadata": {},
   "outputs": [
    {
     "name": "stdout",
     "output_type": "stream",
     "text": [
      "Mon Mar  1 00:06:58 2021       \n",
      "+-----------------------------------------------------------------------------+\n",
      "| NVIDIA-SMI 450.80.02    Driver Version: 450.80.02    CUDA Version: 11.0     |\n",
      "|-------------------------------+----------------------+----------------------+\n",
      "| GPU  Name        Persistence-M| Bus-Id        Disp.A | Volatile Uncorr. ECC |\n",
      "| Fan  Temp  Perf  Pwr:Usage/Cap|         Memory-Usage | GPU-Util  Compute M. |\n",
      "|                               |                      |               MIG M. |\n",
      "|===============================+======================+======================|\n",
      "|   0  Tesla K80           On   | 00000000:00:1E.0 Off |                    0 |\n",
      "| N/A   48C    P0    59W / 149W |  10868MiB / 11441MiB |      0%      Default |\n",
      "|                               |                      |                  N/A |\n",
      "+-------------------------------+----------------------+----------------------+\n",
      "                                                                               \n",
      "+-----------------------------------------------------------------------------+\n",
      "| Processes:                                                                  |\n",
      "|  GPU   GI   CI        PID   Type   Process name                  GPU Memory |\n",
      "|        ID   ID                                                   Usage      |\n",
      "|=============================================================================|\n",
      "+-----------------------------------------------------------------------------+\n"
     ]
    }
   ],
   "source": [
    "!nvidia-smi"
   ]
  },
  {
   "cell_type": "code",
   "execution_count": null,
   "id": "mental-humanity",
   "metadata": {},
   "outputs": [],
   "source": []
  },
  {
   "cell_type": "code",
   "execution_count": 180,
   "id": "particular-partition",
   "metadata": {},
   "outputs": [
    {
     "name": "stdout",
     "output_type": "stream",
     "text": [
      "Model: \"functional_7\"\n",
      "__________________________________________________________________________________________________\n",
      "Layer (type)                    Output Shape         Param #     Connected to                     \n",
      "==================================================================================================\n",
      "input_15 (InputLayer)           [(None, 256, 256, 6) 0                                            \n",
      "__________________________________________________________________________________________________\n",
      "lambda_12 (Lambda)              (None, 256, 256, 3)  0           input_15[0][0]                   \n",
      "__________________________________________________________________________________________________\n",
      "lambda_13 (Lambda)              (None, 256, 256, 3)  0           input_15[0][0]                   \n",
      "__________________________________________________________________________________________________\n",
      "sequential_9 (Sequential)       (None, 8, 8, 512)    14714688    lambda_12[0][0]                  \n",
      "__________________________________________________________________________________________________\n",
      "sequential_10 (Sequential)      (None, 8, 8, 512)    14714688    lambda_13[0][0]                  \n",
      "__________________________________________________________________________________________________\n",
      "dense_15 (Dense)                (None, 8, 8, 10)     5130        sequential_9[0][0]               \n",
      "__________________________________________________________________________________________________\n",
      "dense_16 (Dense)                (None, 8, 8, 10)     5130        sequential_10[0][0]              \n",
      "__________________________________________________________________________________________________\n",
      "flatten_9 (Flatten)             (None, 640)          0           dense_15[0][0]                   \n",
      "__________________________________________________________________________________________________\n",
      "flatten_10 (Flatten)            (None, 640)          0           dense_16[0][0]                   \n",
      "__________________________________________________________________________________________________\n",
      "concatenate_3 (Concatenate)     (None, 1280)         0           flatten_9[0][0]                  \n",
      "                                                                 flatten_10[0][0]                 \n",
      "__________________________________________________________________________________________________\n",
      "dense_17 (Dense)                (None, 10)           12810       concatenate_3[0][0]              \n",
      "__________________________________________________________________________________________________\n",
      "dense_18 (Dense)                (None, 6)            66          dense_17[0][0]                   \n",
      "__________________________________________________________________________________________________\n",
      "dense_19 (Dense)                (None, 2)            14          dense_18[0][0]                   \n",
      "__________________________________________________________________________________________________\n",
      "softmax_2 (Softmax)             (None, 2)            0           dense_19[0][0]                   \n",
      "==================================================================================================\n",
      "Total params: 14,737,838\n",
      "Trainable params: 23,150\n",
      "Non-trainable params: 14,714,688\n",
      "__________________________________________________________________________________________________\n"
     ]
    }
   ],
   "source": [
    "model = Model(inputs=input, outputs=out)   \n",
    "model.summary()\n",
    "#plot_model(model, to_file='model_plot.png', show_shapes=True, show_layer_names=True)"
   ]
  },
  {
   "cell_type": "code",
   "execution_count": 181,
   "id": "simplified-water",
   "metadata": {},
   "outputs": [],
   "source": [
    "predicts = model.predict(X)"
   ]
  },
  {
   "cell_type": "code",
   "execution_count": 18,
   "id": "graduate-chain",
   "metadata": {
    "collapsed": true,
    "jupyter": {
     "outputs_hidden": true
    },
    "tags": []
   },
   "outputs": [
    {
     "data": {
      "text/plain": [
       "array([[0.52614987, 0.47385013],\n",
       "       [0.50729644, 0.49270362],\n",
       "       [0.4020764 , 0.59792364],\n",
       "       [0.5092877 , 0.49071234],\n",
       "       [0.558615  , 0.44138497],\n",
       "       [0.5424467 , 0.4575533 ],\n",
       "       [0.6158485 , 0.38415152],\n",
       "       [0.9279001 , 0.07209992],\n",
       "       [0.91072845, 0.08927153],\n",
       "       [0.7216913 , 0.27830866],\n",
       "       [0.69085824, 0.30914176],\n",
       "       [0.6877592 , 0.31224078],\n",
       "       [0.49993137, 0.50006866],\n",
       "       [0.6228172 , 0.37718278],\n",
       "       [0.79717696, 0.20282304],\n",
       "       [0.57873434, 0.4212657 ],\n",
       "       [0.6701145 , 0.32988548],\n",
       "       [0.4465543 , 0.5534457 ],\n",
       "       [0.47780797, 0.522192  ],\n",
       "       [0.6321457 , 0.3678543 ],\n",
       "       [0.4218403 , 0.5781597 ],\n",
       "       [0.7781874 , 0.22181265],\n",
       "       [0.50960356, 0.49039644],\n",
       "       [0.51452   , 0.48548   ],\n",
       "       [0.47596624, 0.5240337 ],\n",
       "       [0.60892016, 0.39107987],\n",
       "       [0.6190333 , 0.38096675],\n",
       "       [0.76610214, 0.23389782],\n",
       "       [0.64370394, 0.35629612],\n",
       "       [0.46383935, 0.5361606 ],\n",
       "       [0.52807903, 0.47192097],\n",
       "       [0.27429357, 0.7257064 ],\n",
       "       [0.95849615, 0.04150378],\n",
       "       [0.69966733, 0.30033267],\n",
       "       [0.88112235, 0.11887763],\n",
       "       [0.5668664 , 0.43313363],\n",
       "       [0.63916534, 0.36083463],\n",
       "       [0.7446403 , 0.25535968],\n",
       "       [0.81540674, 0.18459326],\n",
       "       [0.6653549 , 0.3346451 ],\n",
       "       [0.7062909 , 0.2937091 ],\n",
       "       [0.6333564 , 0.36664355],\n",
       "       [0.6671803 , 0.33281967],\n",
       "       [0.7341342 , 0.2658658 ],\n",
       "       [0.532403  , 0.467597  ],\n",
       "       [0.8227616 , 0.17723843],\n",
       "       [0.52625626, 0.47374377],\n",
       "       [0.58377707, 0.41622293],\n",
       "       [0.7369982 , 0.2630018 ],\n",
       "       [0.5635051 , 0.43649486],\n",
       "       [0.7221692 , 0.2778308 ],\n",
       "       [0.85456944, 0.14543058],\n",
       "       [0.64182884, 0.35817116],\n",
       "       [0.7559968 , 0.24400316],\n",
       "       [0.58079153, 0.41920847],\n",
       "       [0.7095586 , 0.29044142],\n",
       "       [0.93441707, 0.06558289],\n",
       "       [0.84700125, 0.15299873],\n",
       "       [0.6371511 , 0.36284885],\n",
       "       [0.5167399 , 0.48326012],\n",
       "       [0.86061746, 0.13938257],\n",
       "       [0.73152274, 0.2684773 ],\n",
       "       [0.65755284, 0.3424472 ],\n",
       "       [0.7974545 , 0.20254548],\n",
       "       [0.61018413, 0.38981587],\n",
       "       [0.5081564 , 0.49184355],\n",
       "       [0.5508581 , 0.44914195],\n",
       "       [0.61495674, 0.3850433 ],\n",
       "       [0.68383825, 0.31616178],\n",
       "       [0.49554658, 0.5044535 ],\n",
       "       [0.795489  , 0.20451099],\n",
       "       [0.68484896, 0.31515104],\n",
       "       [0.7160837 , 0.28391626],\n",
       "       [0.40979668, 0.5902033 ],\n",
       "       [0.54519707, 0.454803  ],\n",
       "       [0.40753064, 0.5924694 ],\n",
       "       [0.67713135, 0.3228686 ],\n",
       "       [0.7715943 , 0.22840576],\n",
       "       [0.7686121 , 0.23138787],\n",
       "       [0.9497432 , 0.05025681],\n",
       "       [0.9194543 , 0.08054575],\n",
       "       [0.53891885, 0.4610812 ],\n",
       "       [0.4908255 , 0.50917447],\n",
       "       [0.34262076, 0.6573792 ],\n",
       "       [0.81336063, 0.18663937]], dtype=float32)"
      ]
     },
     "execution_count": 18,
     "metadata": {},
     "output_type": "execute_result"
    }
   ],
   "source": [
    "predicts"
   ]
  },
  {
   "cell_type": "code",
   "execution_count": 177,
   "id": "temporal-support",
   "metadata": {},
   "outputs": [],
   "source": [
    "model.compile(optimizer='sgd',\n",
    "              loss='binary_crossentropy',\n",
    "              metrics=['accuracy'])"
   ]
  },
  {
   "cell_type": "code",
   "execution_count": 182,
   "id": "portable-clearance",
   "metadata": {},
   "outputs": [
    {
     "ename": "ModuleNotFoundError",
     "evalue": "No module named 'sklearn'",
     "output_type": "error",
     "traceback": [
      "\u001b[0;31m---------------------------------------------------------------------------\u001b[0m",
      "\u001b[0;31mModuleNotFoundError\u001b[0m                       Traceback (most recent call last)",
      "\u001b[0;32m<ipython-input-182-73edc048c06b>\u001b[0m in \u001b[0;36m<module>\u001b[0;34m\u001b[0m\n\u001b[0;32m----> 1\u001b[0;31m \u001b[0;32mfrom\u001b[0m \u001b[0msklearn\u001b[0m\u001b[0;34m.\u001b[0m\u001b[0mmodel_selection\u001b[0m \u001b[0;32mimport\u001b[0m \u001b[0mtrain_test_split\u001b[0m\u001b[0;34m\u001b[0m\u001b[0;34m\u001b[0m\u001b[0m\n\u001b[0m",
      "\u001b[0;31mModuleNotFoundError\u001b[0m: No module named 'sklearn'"
     ]
    }
   ],
   "source": [
    "from sklearn.model_selection import train_test_split"
   ]
  },
  {
   "cell_type": "code",
   "execution_count": 178,
   "id": "champion-roommate",
   "metadata": {},
   "outputs": [
    {
     "name": "stdout",
     "output_type": "stream",
     "text": [
      "Epoch 1/2\n",
      "25/25 [==============================] - 33s 1s/step - loss: 4.8270 - accuracy: 0.3503 - val_loss: 6.2763 - val_accuracy: 0.3885\n",
      "Epoch 2/2\n",
      "25/25 [==============================] - 33s 1s/step - loss: 4.6937 - accuracy: 0.3346 - val_loss: 6.2206 - val_accuracy: 0.3985\n",
      "Train time: 73.5788266658783\n"
     ]
    }
   ],
   "source": [
    "t0 = time.time()\n",
    "model.fit(X, y, epochs=60, batch_size=64, validation_split = 0.2, workers=4, use_multiprocessing=True)\n",
    "print(\"Train time:\", time.time()-t0)"
   ]
  },
  {
   "cell_type": "code",
   "execution_count": 39,
   "id": "northern-employment",
   "metadata": {},
   "outputs": [
    {
     "name": "stdout",
     "output_type": "stream",
     "text": [
      "(1, 256, 256, 6)\n",
      "[[0.4622121 0.537788 ]]\n",
      "time taken: 0.9495842456817627 seconds\n"
     ]
    }
   ],
   "source": [
    "import time\n",
    "test_input = np.random.rand(256,256,6)\n",
    "test_input = test_input.reshape(1, 256,256, 6)\n",
    "print(test_input.shape)\n",
    "t0 = time.time()\n",
    "print(model.predict(test_input))\n",
    "print(f\"time taken: {time.time()-t0} seconds\")"
   ]
  },
  {
   "cell_type": "code",
   "execution_count": 13,
   "id": "experienced-isaac",
   "metadata": {},
   "outputs": [
    {
     "data": {
      "text/plain": [
       "9.019184943337422e-08"
      ]
     },
     "execution_count": 13,
     "metadata": {},
     "output_type": "execute_result"
    }
   ],
   "source": [
    "test_input.flatten().min()"
   ]
  },
  {
   "cell_type": "code",
   "execution_count": 11,
   "id": "daily-baseball",
   "metadata": {},
   "outputs": [
    {
     "ename": "ValueError",
     "evalue": "Keras Visualizer: Layer not supported for visualizing",
     "output_type": "error",
     "traceback": [
      "\u001b[0;31m---------------------------------------------------------------------------\u001b[0m",
      "\u001b[0;31mValueError\u001b[0m                                Traceback (most recent call last)",
      "\u001b[0;32m<ipython-input-11-8d78ee4d9738>\u001b[0m in \u001b[0;36m<module>\u001b[0;34m\u001b[0m\n\u001b[1;32m      1\u001b[0m \u001b[0;32mfrom\u001b[0m \u001b[0mkeras_visualizer\u001b[0m \u001b[0;32mimport\u001b[0m \u001b[0mvisualizer\u001b[0m\u001b[0;34m\u001b[0m\u001b[0;34m\u001b[0m\u001b[0m\n\u001b[0;32m----> 2\u001b[0;31m \u001b[0mvisualizer\u001b[0m\u001b[0;34m(\u001b[0m\u001b[0mmodel\u001b[0m\u001b[0;34m,\u001b[0m \u001b[0mformat\u001b[0m\u001b[0;34m=\u001b[0m\u001b[0;34m'png'\u001b[0m\u001b[0;34m,\u001b[0m \u001b[0mview\u001b[0m\u001b[0;34m=\u001b[0m\u001b[0;32mTrue\u001b[0m\u001b[0;34m)\u001b[0m\u001b[0;34m\u001b[0m\u001b[0;34m\u001b[0m\u001b[0m\n\u001b[0m",
      "\u001b[0;32m/usr/local/lib/python3.6/dist-packages/keras_visualizer/__init__.py\u001b[0m in \u001b[0;36mvisualizer\u001b[0;34m(model, filename, format, view)\u001b[0m\n\u001b[1;32m    128\u001b[0m                 \u001b[0mc\u001b[0m\u001b[0;34m.\u001b[0m\u001b[0mnode\u001b[0m\u001b[0;34m(\u001b[0m\u001b[0mstr\u001b[0m\u001b[0;34m(\u001b[0m\u001b[0mn\u001b[0m\u001b[0;34m)\u001b[0m\u001b[0;34m,\u001b[0m \u001b[0mlabel\u001b[0m\u001b[0;34m=\u001b[0m\u001b[0;34mf'Image\\n{pxls[1]} x{pxls[2]} pixels\\n{clrmap}'\u001b[0m\u001b[0;34m,\u001b[0m \u001b[0mfontcolor\u001b[0m\u001b[0;34m=\u001b[0m\u001b[0;34m'white'\u001b[0m\u001b[0;34m,\u001b[0m \u001b[0mshape\u001b[0m\u001b[0;34m=\u001b[0m\u001b[0;34m'square'\u001b[0m\u001b[0;34m,\u001b[0m \u001b[0mstyle\u001b[0m\u001b[0;34m=\u001b[0m\u001b[0;34m'filled'\u001b[0m\u001b[0;34m,\u001b[0m \u001b[0mfillcolor\u001b[0m\u001b[0;34m=\u001b[0m\u001b[0mthe_color\u001b[0m\u001b[0;34m)\u001b[0m\u001b[0;34m\u001b[0m\u001b[0;34m\u001b[0m\u001b[0m\n\u001b[1;32m    129\u001b[0m             \u001b[0;32melse\u001b[0m\u001b[0;34m:\u001b[0m\u001b[0;34m\u001b[0m\u001b[0;34m\u001b[0m\u001b[0m\n\u001b[0;32m--> 130\u001b[0;31m                 \u001b[0;32mraise\u001b[0m \u001b[0mValueError\u001b[0m\u001b[0;34m(\u001b[0m\u001b[0;34m'Keras Visualizer: Layer not supported for visualizing'\u001b[0m\u001b[0;34m)\u001b[0m\u001b[0;34m\u001b[0m\u001b[0;34m\u001b[0m\u001b[0m\n\u001b[0m\u001b[1;32m    131\u001b[0m \u001b[0;34m\u001b[0m\u001b[0m\n\u001b[1;32m    132\u001b[0m         \u001b[0;31m# Hidden Layers\u001b[0m\u001b[0;34m\u001b[0m\u001b[0;34m\u001b[0m\u001b[0;34m\u001b[0m\u001b[0m\n",
      "\u001b[0;31mValueError\u001b[0m: Keras Visualizer: Layer not supported for visualizing"
     ]
    }
   ],
   "source": [
    "from keras_visualizer import visualizer \n",
    "visualizer(model, format='png', view=True)\n"
   ]
  },
  {
   "cell_type": "code",
   "execution_count": 7,
   "id": "taken-uniform",
   "metadata": {},
   "outputs": [
    {
     "name": "stdout",
     "output_type": "stream",
     "text": [
      "{'commit_hash': '2486838d9',\n",
      " 'commit_source': 'installation',\n",
      " 'default_encoding': 'ANSI_X3.4-1968',\n",
      " 'ipython_path': '/usr/local/lib/python3.6/dist-packages/IPython',\n",
      " 'ipython_version': '7.16.1',\n",
      " 'os_name': 'posix',\n",
      " 'platform': 'Linux-4.9.140-tegra-aarch64-with-Ubuntu-18.04-bionic',\n",
      " 'sys_executable': '/usr/bin/python3',\n",
      " 'sys_platform': 'linux',\n",
      " 'sys_version': '3.6.9 (default, Oct  8 2020, 12:12:24) \\n[GCC 8.4.0]'}\n"
     ]
    }
   ],
   "source": [
    "import IPython\n",
    "print(IPython.sys_info())"
   ]
  },
  {
   "cell_type": "code",
   "execution_count": 38,
   "id": "lovely-particle",
   "metadata": {},
   "outputs": [
    {
     "name": "stdout",
     "output_type": "stream",
     "text": [
      "{'commit_hash': '2486838d9',\n",
      " 'commit_source': 'installation',\n",
      " 'default_encoding': 'UTF-8',\n",
      " 'ipython_path': '/usr/local/lib/python3.6/dist-packages/IPython',\n",
      " 'ipython_version': '7.16.1',\n",
      " 'os_name': 'posix',\n",
      " 'platform': 'Linux-5.4.0-1037-aws-x86_64-with-Ubuntu-18.04-bionic',\n",
      " 'sys_executable': '/usr/bin/python3',\n",
      " 'sys_platform': 'linux',\n",
      " 'sys_version': '3.6.9 (default, Jan 26 2021, 15:33:00) \\n[GCC 8.4.0]'}\n"
     ]
    }
   ],
   "source": [
    "import IPython\n",
    "print(IPython.sys_info())"
   ]
  },
  {
   "cell_type": "code",
   "execution_count": null,
   "id": "blind-plasma",
   "metadata": {},
   "outputs": [],
   "source": []
  }
 ],
 "metadata": {
  "kernelspec": {
   "display_name": "Python 3",
   "language": "python",
   "name": "python3"
  },
  "language_info": {
   "codemirror_mode": {
    "name": "ipython",
    "version": 3
   },
   "file_extension": ".py",
   "mimetype": "text/x-python",
   "name": "python",
   "nbconvert_exporter": "python",
   "pygments_lexer": "ipython3",
   "version": "3.6.9"
  }
 },
 "nbformat": 4,
 "nbformat_minor": 5
}
