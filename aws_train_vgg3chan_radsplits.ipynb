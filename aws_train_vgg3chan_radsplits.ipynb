{
 "cells": [
  {
   "cell_type": "code",
   "execution_count": 39,
   "id": "dependent-julian",
   "metadata": {},
   "outputs": [
    {
     "name": "stdout",
     "output_type": "stream",
     "text": [
      "The tensorboard extension is already loaded. To reload it, use:\n",
      "  %reload_ext tensorboard\n",
      "2.3.0 tf\n",
      "2.4.3 keras\n"
     ]
    }
   ],
   "source": [
    "### Init network Build\n",
    "import numpy as np\n",
    "from pathlib import Path\n",
    "import pandas as pd\n",
    "from osgeo import gdal\n",
    "import keras\n",
    "import time\n",
    "import tensorflow as tf\n",
    "from sklearn.model_selection import train_test_split\n",
    "\n",
    "%load_ext tensorboard\n",
    "\n",
    "from matplotlib.pyplot import imshow\n",
    "import matplotlib.pyplot as plt\n",
    "\n",
    "print(tf.__version__, 'tf')\n",
    "print(keras.__version__, 'keras')"
   ]
  },
  {
   "cell_type": "code",
   "execution_count": 7,
   "id": "gross-muscle",
   "metadata": {},
   "outputs": [],
   "source": [
    "df_merged = pd.read_csv('image_metrics_032921_all.csv')"
   ]
  },
  {
   "cell_type": "code",
   "execution_count": 41,
   "id": "single-heart",
   "metadata": {
    "tags": []
   },
   "outputs": [],
   "source": [
    "df_test1 = pd.read_csv('subsets_data/test1.csv')\n",
    "test1 = list(df_test1.da_number)\n",
    "df_test2 = pd.read_csv('subsets_data/test2.csv')\n",
    "test2 = list(df_test2.da_number)\n",
    "df_train1 = pd.read_csv('subsets_data/train1.csv')\n",
    "train1 = list(df_train1.da_number)\n",
    "df_train2 = pd.read_csv('subsets_data/train2.csv')\n",
    "train2 = list(df_train2.da_number)"
   ]
  },
  {
   "cell_type": "code",
   "execution_count": 42,
   "id": "based-universal",
   "metadata": {},
   "outputs": [],
   "source": [
    "dir2 = '/data/train_data_hi_3x/'\n",
    "df_merged = pd.read_csv('image_metrics_032921_all.csv')\n",
    "X = df_merged.da_num.unique()\n",
    "#y = df_merged['cwa_determination']\n",
    "X_train, X_test = train_test_split(X, test_size = 0.25, random_state = 42)\n"
   ]
  },
  {
   "cell_type": "code",
   "execution_count": 10,
   "id": "acknowledged-carpet",
   "metadata": {},
   "outputs": [
    {
     "name": "stdout",
     "output_type": "stream",
     "text": [
      "9996\n",
      "9913\n"
     ]
    }
   ],
   "source": [
    "soi = list(X_train)\n",
    "soi_test = list(X_test)\n",
    "print(len(soi))\n",
    "train_X = [f for f in Path(dir2).iterdir() if f.name[:-4] in soi]\n",
    "test_X = [f for f in Path(dir2).iterdir() if f.name[:-4] in soi_test]\n",
    "\n",
    "print(len(train_X))"
   ]
  },
  {
   "cell_type": "code",
   "execution_count": 11,
   "id": "european-caution",
   "metadata": {},
   "outputs": [
    {
     "data": {
      "text/plain": [
       "'SAW-2015-02138'"
      ]
     },
     "execution_count": 11,
     "metadata": {},
     "output_type": "execute_result"
    }
   ],
   "source": [
    "train_X[0].name[:-4]"
   ]
  },
  {
   "cell_type": "code",
   "execution_count": 12,
   "id": "particular-diesel",
   "metadata": {},
   "outputs": [
    {
     "data": {
      "text/plain": [
       "(3, 256, 256)"
      ]
     },
     "execution_count": 12,
     "metadata": {},
     "output_type": "execute_result"
    }
   ],
   "source": [
    "np.load(train_X[0]).shape"
   ]
  },
  {
   "cell_type": "code",
   "execution_count": 13,
   "id": "sporting-samuel",
   "metadata": {},
   "outputs": [
    {
     "data": {
      "text/plain": [
       "1"
      ]
     },
     "execution_count": 13,
     "metadata": {},
     "output_type": "execute_result"
    }
   ],
   "source": [
    "def get_label(da_num_i, df_merged = df_merged):\n",
    "    return int(df_merged[df_merged.da_num == da_num_i].cwa_determination.iloc[0])\n",
    "get_label(train_X[0].name[:-4])"
   ]
  },
  {
   "cell_type": "code",
   "execution_count": 14,
   "id": "standing-quebec",
   "metadata": {},
   "outputs": [],
   "source": [
    "train_y = [get_label(x.name[:-4]) for x in train_X]\n",
    "test_y = [get_label(x.name[:-4]) for x in test_X]"
   ]
  },
  {
   "cell_type": "code",
   "execution_count": 15,
   "id": "stainless-assurance",
   "metadata": {},
   "outputs": [
    {
     "name": "stdout",
     "output_type": "stream",
     "text": [
      "9913 9913\n"
     ]
    }
   ],
   "source": [
    "print(len(train_X), len(train_y))"
   ]
  },
  {
   "cell_type": "code",
   "execution_count": 16,
   "id": "north-revision",
   "metadata": {},
   "outputs": [],
   "source": [
    "arr_train_X = np.array([np.load(f) for f in train_X]).swapaxes(1,3)\n",
    "arr_test_X = np.array([np.load(f) for f in test_X]).swapaxes(1,3)\n",
    "\n",
    "arr_train_y = np.array(train_y)\n",
    "arr_test_y = np.array(test_y)"
   ]
  },
  {
   "cell_type": "code",
   "execution_count": 17,
   "id": "static-necklace",
   "metadata": {},
   "outputs": [
    {
     "name": "stdout",
     "output_type": "stream",
     "text": [
      "(9913, 256, 256, 3)\n",
      "(9913,)\n"
     ]
    }
   ],
   "source": [
    "print(arr_train_X.shape)\n",
    "print(arr_train_y.shape)\n",
    "#print('number of nans: ', np.sum(np.isnan(arr_train_X)))\n",
    "#print('number of nums: ', np.sum(~np.isnan(arr_train_X)))\n",
    "#arr_train_X = np.nan_to_num(arr_train_X) #convert all nans to zeroes\n",
    "#print('number of nans: ', np.sum(np.isnan(arr_train_X)))\n",
    "## may need to investigate the nans and figure out some imputation here."
   ]
  },
  {
   "cell_type": "code",
   "execution_count": 18,
   "id": "centered-irrigation",
   "metadata": {},
   "outputs": [
    {
     "name": "stdout",
     "output_type": "stream",
     "text": [
      "(3295, 256, 256, 3)\n",
      "(3295,)\n"
     ]
    }
   ],
   "source": [
    "print(arr_test_X.shape)\n",
    "print(arr_test_y.shape)\n",
    "#print('number of nans: ', np.sum(np.isnan(arr_test_X)))\n",
    "#print('number of nums: ', np.sum(~np.isnan(arr_test_X)))\n",
    "#arr_test_X = np.nan_to_num(arr_test_X) #convert all nans to zeroes\n",
    "#print('number of nans: ', np.sum(np.isnan(arr_test_X)))\n",
    "## may need to investigate the nans and figure out some imputation here."
   ]
  },
  {
   "cell_type": "code",
   "execution_count": 19,
   "id": "seeing-psychiatry",
   "metadata": {},
   "outputs": [
    {
     "name": "stdout",
     "output_type": "stream",
     "text": [
      "0.37657621305356603 this is the majority class size.\n",
      "0.32214305335645743\n",
      "0.0\n",
      "0.9999999999999999\n"
     ]
    }
   ],
   "source": [
    "print(np.mean(arr_train_y), 'this is the majority class size.')\n",
    "print(np.mean(arr_train_X))\n",
    "print(np.min(arr_train_X))\n",
    "print(np.max(arr_train_X))"
   ]
  },
  {
   "cell_type": "code",
   "execution_count": 14,
   "id": "verbal-shipping",
   "metadata": {},
   "outputs": [
    {
     "data": {
      "text/plain": [
       "(array([0, 0, 0, 0, 0, 0, 0, 0, 0, 0]),\n",
       " array([0. , 0.1, 0.2, 0.3, 0.4, 0.5, 0.6, 0.7, 0.8, 0.9, 1. ]))"
      ]
     },
     "execution_count": 14,
     "metadata": {},
     "output_type": "execute_result"
    }
   ],
   "source": [
    "np.histogram(arr_train_X[0][:,:,3:])"
   ]
  },
  {
   "cell_type": "code",
   "execution_count": 20,
   "id": "wrong-rapid",
   "metadata": {},
   "outputs": [
    {
     "data": {
      "text/plain": [
       "<matplotlib.image.AxesImage at 0x7f9474051208>"
      ]
     },
     "execution_count": 20,
     "metadata": {},
     "output_type": "execute_result"
    },
    {
     "data": {
      "image/png": "[encoded data removed]",
      "text/plain": [
       "<Figure size 432x288 with 1 Axes>"
      ]
     },
     "metadata": {
      "needs_background": "light"
     },
     "output_type": "display_data"
    }
   ],
   "source": [
    "fig, ax = plt.subplots()\n",
    "ax.imshow(arr_train_X[0])"
   ]
  },
  {
   "cell_type": "code",
   "execution_count": 21,
   "id": "chronic-completion",
   "metadata": {},
   "outputs": [
    {
     "name": "stdout",
     "output_type": "stream",
     "text": [
      "Thu Apr  1 01:16:52 2021       \n",
      "+-----------------------------------------------------------------------------+\n",
      "| NVIDIA-SMI 450.80.02    Driver Version: 450.80.02    CUDA Version: 11.0     |\n",
      "|-------------------------------+----------------------+----------------------+\n",
      "| GPU  Name        Persistence-M| Bus-Id        Disp.A | Volatile Uncorr. ECC |\n",
      "| Fan  Temp  Perf  Pwr:Usage/Cap|         Memory-Usage | GPU-Util  Compute M. |\n",
      "|                               |                      |               MIG M. |\n",
      "|===============================+======================+======================|\n",
      "|   0  Tesla K80           On   | 00000000:00:1E.0 Off |                    0 |\n",
      "| N/A   63C    P0    66W / 149W |    139MiB / 11441MiB |      0%      Default |\n",
      "|                               |                      |                  N/A |\n",
      "+-------------------------------+----------------------+----------------------+\n",
      "                                                                               \n",
      "+-----------------------------------------------------------------------------+\n",
      "| Processes:                                                                  |\n",
      "|  GPU   GI   CI        PID   Type   Process name                  GPU Memory |\n",
      "|        ID   ID                                                   Usage      |\n",
      "|=============================================================================|\n",
      "+-----------------------------------------------------------------------------+\n"
     ]
    }
   ],
   "source": [
    "!nvidia-smi"
   ]
  },
  {
   "cell_type": "code",
   "execution_count": 22,
   "id": "opening-poster",
   "metadata": {},
   "outputs": [],
   "source": [
    "from keras.applications.vgg16 import VGG16\n",
    "\n",
    "vgg16_model1 = VGG16(include_top=False, weights='imagenet', input_shape=(256,256, 3))\n",
    "vgg16_model1.trainable = False\n",
    "#vgg16_model2 = VGG16(include_top=False, weights='imagenet', input_shape=(256,256, 3))\n",
    "#vgg16_model2.trainable = False"
   ]
  },
  {
   "cell_type": "code",
   "execution_count": 23,
   "id": "identical-individual",
   "metadata": {},
   "outputs": [],
   "source": [
    "from tensorflow.keras import layers\n",
    "data_augmentation = keras.Sequential(\n",
    "  [\n",
    "    layers.experimental.preprocessing.RandomFlip(\"horizontal\", \n",
    "                                                 input_shape=(256,256,3)),\n",
    "    layers.experimental.preprocessing.RandomRotation(0.1),\n",
    "    layers.experimental.preprocessing.RandomZoom(0.1),\n",
    "  ]\n",
    ")"
   ]
  },
  {
   "cell_type": "code",
   "execution_count": 29,
   "id": "relevant-contractor",
   "metadata": {},
   "outputs": [
    {
     "name": "stdout",
     "output_type": "stream",
     "text": [
      "(None, 256, 256, 3)\n",
      "(None, 256, 256, 3)\n",
      "(None, 8, 8, 512)\n",
      "(None, 8, 8, 512)\n",
      "Model: \"functional_3\"\n",
      "_________________________________________________________________\n",
      "Layer (type)                 Output Shape              Param #   \n",
      "=================================================================\n",
      "input_3 (InputLayer)         [(None, 256, 256, 3)]     0         \n",
      "_________________________________________________________________\n",
      "lambda_1 (Lambda)            (None, 256, 256, 3)       0         \n",
      "_________________________________________________________________\n",
      "sequential (Sequential)      (None, 256, 256, 3)       0         \n",
      "_________________________________________________________________\n",
      "sequential_2 (Sequential)    (None, 8, 8, 512)         14714688  \n",
      "_________________________________________________________________\n",
      "dense_4 (Dense)              (None, 8, 8, 512)         262656    \n",
      "_________________________________________________________________\n",
      "leaky_re_lu_7 (LeakyReLU)    (None, 8, 8, 512)         0         \n",
      "_________________________________________________________________\n",
      "dropout_3 (Dropout)          (None, 8, 8, 512)         0         \n",
      "_________________________________________________________________\n",
      "batch_normalization_3 (Batch (None, 8, 8, 512)         2048      \n",
      "_________________________________________________________________\n",
      "dense_5 (Dense)              (None, 8, 8, 256)         131328    \n",
      "_________________________________________________________________\n",
      "leaky_re_lu_9 (LeakyReLU)    (None, 8, 8, 256)         0         \n",
      "_________________________________________________________________\n",
      "dropout_4 (Dropout)          (None, 8, 8, 256)         0         \n",
      "_________________________________________________________________\n",
      "batch_normalization_4 (Batch (None, 8, 8, 256)         1024      \n",
      "_________________________________________________________________\n",
      "dense_6 (Dense)              (None, 8, 8, 128)         32896     \n",
      "_________________________________________________________________\n",
      "leaky_re_lu_11 (LeakyReLU)   (None, 8, 8, 128)         0         \n",
      "_________________________________________________________________\n",
      "dropout_5 (Dropout)          (None, 8, 8, 128)         0         \n",
      "_________________________________________________________________\n",
      "batch_normalization_5 (Batch (None, 8, 8, 128)         512       \n",
      "_________________________________________________________________\n",
      "flatten_1 (Flatten)          (None, 8192)              0         \n",
      "_________________________________________________________________\n",
      "dense_7 (Dense)              (None, 1)                 8193      \n",
      "=================================================================\n",
      "Total params: 15,153,345\n",
      "Trainable params: 436,865\n",
      "Non-trainable params: 14,716,480\n",
      "_________________________________________________________________\n"
     ]
    }
   ],
   "source": [
    "from keras.layers import Dense, Concatenate, Input, Lambda, Flatten, Softmax, BatchNormalization, Dropout\n",
    "from keras.models import Model, Sequential\n",
    "from keras.layers.advanced_activations import LeakyReLU\n",
    "\n",
    "input_matrix = Input(shape=(256,256,3))   # 6\n",
    "\n",
    "branch_outputs = []\n",
    "\n",
    "# loop for however many branches you want to use.  (each branch needs 3 channel depth)\n",
    "for i in [0]:\n",
    "    # create looping so that vgg16 model input is created ie 256,256,3\n",
    "    print(input_matrix.shape)\n",
    "    out = Lambda(lambda x: x[:,:,:,i:i+3])(input_matrix)\n",
    "    out = data_augmentation(out)\n",
    "\n",
    "    print(out.shape)\n",
    "    \n",
    "    # Setting up your layers in each branch: (currently each branch is identical architecture.)\n",
    "    if i == 0: out = Sequential(vgg16_model1)(out)   # use pretrained and loaded vgg16\n",
    "    elif i == 3: out = Sequential(vgg16_model2)(out)\n",
    "    else: out = Sequential(vgg16_model3)(out)   # use pretrained and loaded vgg16\n",
    "    print(out.shape)\n",
    "#    branch_outputs.append(out)\n",
    "#mergedOut = Concatenate()(branch_outputs)\n",
    "mergedOut = out\n",
    "print(mergedOut.shape)\n",
    "mergedOut = Dense(512, activation=LeakyReLU(alpha = 0.1))(mergedOut)\n",
    "mergedOut = LeakyReLU(alpha = 0.02)(mergedOut)\n",
    "mergedOut = Dropout(.1)(mergedOut)\n",
    "mergedOut = BatchNormalization()(mergedOut)\n",
    "\n",
    "mergedOut = Dense(256, activation=LeakyReLU(alpha = 0.1))(mergedOut)\n",
    "mergedOut = LeakyReLU(alpha = 0.02)(mergedOut)\n",
    "mergedOut = Dropout(.1)(mergedOut)\n",
    "mergedOut = BatchNormalization()(mergedOut)\n",
    "\n",
    "mergedOut = Dense(128, activation=LeakyReLU(alpha = 0.1))(mergedOut)\n",
    "mergedOut = LeakyReLU(alpha = 0.02)(mergedOut)\n",
    "mergedOut = Dropout(.1)(mergedOut)\n",
    "mergedOut = BatchNormalization()(mergedOut)\n",
    "\n",
    "mergedOut = Flatten()(mergedOut)\n",
    "mergedOut = Dense(1, activation = 'sigmoid')(mergedOut)\n",
    "\n",
    "rgb_model_vgg16 = Model(inputs=input_matrix, outputs=mergedOut)   \n",
    "\n",
    "\n",
    "opt = keras.optimizers.Adam(learning_rate=0.05)\n",
    "\n",
    "rgb_model_vgg16.compile(optimizer=opt,\n",
    "              loss=tf.keras.losses.BinaryCrossentropy(),\n",
    "              metrics=['accuracy'])\n",
    "\n",
    "rgb_model_vgg16.summary()"
   ]
  },
  {
   "cell_type": "code",
   "execution_count": 20,
   "id": "collaborative-bosnia",
   "metadata": {
    "jupyter": {
     "source_hidden": true
    },
    "tags": []
   },
   "outputs": [],
   "source": [
    "opt = keras.optimizers.Adam(learning_rate=0.05)\n",
    "\n",
    "my_callbacks = [\n",
    "    tf.keras.callbacks.EarlyStopping(patience=2),\n",
    "    tf.keras.callbacks.ModelCheckpoint(filepath='model.{epoch:02d}-{val_loss:.2f}.h5'),\n",
    "    tf.keras.callbacks.TensorBoard(log_dir='./logs'),\n",
    "]"
   ]
  },
  {
   "cell_type": "code",
   "execution_count": 30,
   "id": "favorite-austria",
   "metadata": {},
   "outputs": [],
   "source": [
    "rgb_model_vgg16.load_weights('/data/model_checkpoints/3xchan_all/low_dropout/himodel.25-0.62.h5')"
   ]
  },
  {
   "cell_type": "code",
   "execution_count": 31,
   "id": "quantitative-authentication",
   "metadata": {},
   "outputs": [],
   "source": [
    "checkpoint_filepath = '/data/model_checkpoints/3xchan_all/low_dropout/extra_low/himodel.{epoch:02d}-{val_loss:.2f}.h5'\n",
    "model_checkpoint_callback = tf.keras.callbacks.ModelCheckpoint(\n",
    "    filepath=checkpoint_filepath,\n",
    "    save_weights_only=True,\n",
    "    monitor='val_accuracy',\n",
    "    mode='max',\n",
    "    save_best_only=True)"
   ]
  },
  {
   "cell_type": "code",
   "execution_count": 23,
   "id": "occupied-marathon",
   "metadata": {
    "jupyter": {
     "source_hidden": true
    },
    "tags": []
   },
   "outputs": [
    {
     "name": "stdout",
     "output_type": "stream",
     "text": [
      "0 <tensorflow.python.keras.engine.input_layer.InputLayer object at 0x7f929f9620b8>\n",
      "1 <tensorflow.python.keras.layers.core.Lambda object at 0x7f929f9622e8>\n",
      "2 <tensorflow.python.keras.engine.sequential.Sequential object at 0x7f929f9e3fd0>\n",
      "3 <tensorflow.python.keras.engine.sequential.Sequential object at 0x7f929f9625c0>\n",
      "4 <tensorflow.python.keras.layers.core.Dense object at 0x7f929e797080>\n",
      "5 <tensorflow.python.keras.layers.advanced_activations.LeakyReLU object at 0x7f929e797630>\n",
      "6 <tensorflow.python.keras.layers.core.Dropout object at 0x7f929e7975f8>\n",
      "7 <tensorflow.python.keras.layers.normalization_v2.BatchNormalization object at 0x7f929e75eef0>\n",
      "8 <tensorflow.python.keras.layers.core.Dense object at 0x7f929e70acf8>\n",
      "9 <tensorflow.python.keras.layers.advanced_activations.LeakyReLU object at 0x7f929e72bf60>\n",
      "10 <tensorflow.python.keras.layers.core.Dropout object at 0x7f929e72b390>\n",
      "11 <tensorflow.python.keras.layers.normalization_v2.BatchNormalization object at 0x7f929e736a20>\n",
      "12 <tensorflow.python.keras.layers.core.Dense object at 0x7f929e744b00>\n",
      "13 <tensorflow.python.keras.layers.advanced_activations.LeakyReLU object at 0x7f929e6dbd68>\n",
      "14 <tensorflow.python.keras.layers.core.Dropout object at 0x7f929e6db198>\n",
      "15 <tensorflow.python.keras.layers.normalization_v2.BatchNormalization object at 0x7f929e6def60>\n",
      "16 <tensorflow.python.keras.layers.core.Flatten object at 0x7f929e6f4940>\n",
      "17 <tensorflow.python.keras.layers.core.Dense object at 0x7f929e6f47b8>\n"
     ]
    }
   ],
   "source": [
    "i = 0\n",
    "for l in rgb_model_vgg16.layers:\n",
    "    print(i, l)\n",
    "#    print(l.rate)\n",
    "    i += 1"
   ]
  },
  {
   "cell_type": "code",
   "execution_count": 32,
   "id": "fossil-consortium",
   "metadata": {
    "collapsed": true,
    "jupyter": {
     "outputs_hidden": true
    },
    "tags": []
   },
   "outputs": [
    {
     "name": "stdout",
     "output_type": "stream",
     "text": [
      "Epoch 1/35\n",
      "124/124 [==============================] - 95s 764ms/step - loss: 1.1589 - accuracy: 0.6392 - val_loss: 0.6202 - val_accuracy: 0.6657\n",
      "Epoch 2/35\n",
      "124/124 [==============================] - 92s 739ms/step - loss: 0.7547 - accuracy: 0.6547 - val_loss: 0.6236 - val_accuracy: 0.6742\n",
      "Epoch 3/35\n",
      "124/124 [==============================] - 91s 736ms/step - loss: 0.6629 - accuracy: 0.6653 - val_loss: 0.6404 - val_accuracy: 0.6420\n",
      "Epoch 4/35\n",
      "124/124 [==============================] - 91s 737ms/step - loss: 0.6569 - accuracy: 0.6583 - val_loss: 0.6189 - val_accuracy: 0.6652\n",
      "Epoch 5/35\n",
      "124/124 [==============================] - 91s 737ms/step - loss: 0.7735 - accuracy: 0.6415 - val_loss: 0.7292 - val_accuracy: 0.6641\n",
      "Epoch 6/35\n",
      "124/124 [==============================] - 91s 737ms/step - loss: 0.7422 - accuracy: 0.6456 - val_loss: 0.8180 - val_accuracy: 0.6505\n",
      "Epoch 7/35\n",
      "124/124 [==============================] - 92s 740ms/step - loss: 0.6908 - accuracy: 0.6463 - val_loss: 0.6377 - val_accuracy: 0.6752\n",
      "Epoch 8/35\n",
      "124/124 [==============================] - 91s 738ms/step - loss: 0.6491 - accuracy: 0.6525 - val_loss: 0.6701 - val_accuracy: 0.6657\n",
      "Epoch 9/35\n",
      "124/124 [==============================] - 91s 736ms/step - loss: 0.7034 - accuracy: 0.6412 - val_loss: 0.7047 - val_accuracy: 0.5759\n",
      "Epoch 10/35\n",
      "124/124 [==============================] - 91s 737ms/step - loss: 1.4461 - accuracy: 0.6173 - val_loss: 0.9009 - val_accuracy: 0.5915\n",
      "Epoch 11/35\n",
      "124/124 [==============================] - 91s 737ms/step - loss: 1.0269 - accuracy: 0.6058 - val_loss: 0.6602 - val_accuracy: 0.6404\n",
      "Epoch 12/35\n",
      "124/124 [==============================] - 92s 738ms/step - loss: 0.6829 - accuracy: 0.6479 - val_loss: 0.6249 - val_accuracy: 0.6581\n",
      "Epoch 13/35\n",
      "124/124 [==============================] - 91s 738ms/step - loss: 0.7577 - accuracy: 0.6450 - val_loss: 0.6257 - val_accuracy: 0.6616\n",
      "Epoch 14/35\n",
      "124/124 [==============================] - 92s 738ms/step - loss: 0.6545 - accuracy: 0.6571 - val_loss: 0.6131 - val_accuracy: 0.6707\n",
      "Epoch 15/35\n",
      "124/124 [==============================] - 91s 736ms/step - loss: 0.9149 - accuracy: 0.6174 - val_loss: 0.8215 - val_accuracy: 0.6293\n",
      "Epoch 16/35\n",
      "124/124 [==============================] - 92s 738ms/step - loss: 0.6496 - accuracy: 0.6613 - val_loss: 0.7538 - val_accuracy: 0.5350\n",
      "Epoch 17/35\n",
      "124/124 [==============================] - 91s 737ms/step - loss: 0.7122 - accuracy: 0.6463 - val_loss: 0.6559 - val_accuracy: 0.6541\n",
      "Epoch 18/35\n",
      "124/124 [==============================] - 91s 738ms/step - loss: 0.7533 - accuracy: 0.6354 - val_loss: 0.8748 - val_accuracy: 0.6409\n",
      "Epoch 19/35\n",
      "124/124 [==============================] - 91s 737ms/step - loss: 1.3502 - accuracy: 0.5943 - val_loss: 0.7270 - val_accuracy: 0.6162\n",
      "Epoch 20/35\n",
      "124/124 [==============================] - 91s 737ms/step - loss: 0.8112 - accuracy: 0.6311 - val_loss: 0.7204 - val_accuracy: 0.6606\n",
      "Epoch 21/35\n",
      "124/124 [==============================] - 91s 738ms/step - loss: 0.7451 - accuracy: 0.6426 - val_loss: 0.6273 - val_accuracy: 0.6551\n",
      "Epoch 22/35\n",
      "124/124 [==============================] - 91s 737ms/step - loss: 0.6398 - accuracy: 0.6704 - val_loss: 0.6446 - val_accuracy: 0.6430\n",
      "Epoch 23/35\n",
      "124/124 [==============================] - 92s 739ms/step - loss: 0.6405 - accuracy: 0.6721 - val_loss: 0.6643 - val_accuracy: 0.6228\n",
      "Epoch 24/35\n",
      "124/124 [==============================] - 91s 737ms/step - loss: 0.6197 - accuracy: 0.6749 - val_loss: 0.6235 - val_accuracy: 0.6621\n",
      "Epoch 25/35\n",
      "124/124 [==============================] - 91s 737ms/step - loss: 0.6237 - accuracy: 0.6783 - val_loss: 0.6177 - val_accuracy: 0.6742\n",
      "Epoch 26/35\n",
      "124/124 [==============================] - 91s 736ms/step - loss: 0.6188 - accuracy: 0.6779 - val_loss: 0.6089 - val_accuracy: 0.6737\n",
      "Epoch 27/35\n",
      "  3/124 [..............................] - ETA: 49s - loss: 0.5844 - accuracy: 0.6927"
     ]
    },
    {
     "ename": "KeyboardInterrupt",
     "evalue": "",
     "output_type": "error",
     "traceback": [
      "\u001b[0;31m---------------------------------------------------------------------------\u001b[0m",
      "\u001b[0;31mKeyboardInterrupt\u001b[0m                         Traceback (most recent call last)",
      "\u001b[0;32m<ipython-input-32-dddebd6d6b80>\u001b[0m in \u001b[0;36m<module>\u001b[0;34m\u001b[0m\n\u001b[1;32m      3\u001b[0m                                        \u001b[0mbatch_size\u001b[0m\u001b[0;34m=\u001b[0m\u001b[0;36m64\u001b[0m\u001b[0;34m,\u001b[0m \u001b[0mvalidation_split\u001b[0m \u001b[0;34m=\u001b[0m \u001b[0;36m0.2\u001b[0m\u001b[0;34m,\u001b[0m\u001b[0;34m\u001b[0m\u001b[0;34m\u001b[0m\u001b[0m\n\u001b[1;32m      4\u001b[0m                                        \u001b[0mworkers\u001b[0m\u001b[0;34m=\u001b[0m\u001b[0;36m4\u001b[0m\u001b[0;34m,\u001b[0m \u001b[0muse_multiprocessing\u001b[0m\u001b[0;34m=\u001b[0m\u001b[0;32mTrue\u001b[0m\u001b[0;34m,\u001b[0m\u001b[0;34m\u001b[0m\u001b[0;34m\u001b[0m\u001b[0m\n\u001b[0;32m----> 5\u001b[0;31m                                        callbacks = [model_checkpoint_callback])\n\u001b[0m\u001b[1;32m      6\u001b[0m \u001b[0mprint\u001b[0m\u001b[0;34m(\u001b[0m\u001b[0;34m\"Train time:\"\u001b[0m\u001b[0;34m,\u001b[0m \u001b[0mtime\u001b[0m\u001b[0;34m.\u001b[0m\u001b[0mtime\u001b[0m\u001b[0;34m(\u001b[0m\u001b[0;34m)\u001b[0m\u001b[0;34m-\u001b[0m\u001b[0mt0\u001b[0m\u001b[0;34m)\u001b[0m\u001b[0;34m\u001b[0m\u001b[0;34m\u001b[0m\u001b[0m\n",
      "\u001b[0;32m/usr/local/lib/python3.6/dist-packages/tensorflow/python/keras/engine/training.py\u001b[0m in \u001b[0;36m_method_wrapper\u001b[0;34m(self, *args, **kwargs)\u001b[0m\n\u001b[1;32m    106\u001b[0m   \u001b[0;32mdef\u001b[0m \u001b[0m_method_wrapper\u001b[0m\u001b[0;34m(\u001b[0m\u001b[0mself\u001b[0m\u001b[0;34m,\u001b[0m \u001b[0;34m*\u001b[0m\u001b[0margs\u001b[0m\u001b[0;34m,\u001b[0m \u001b[0;34m**\u001b[0m\u001b[0mkwargs\u001b[0m\u001b[0;34m)\u001b[0m\u001b[0;34m:\u001b[0m\u001b[0;34m\u001b[0m\u001b[0;34m\u001b[0m\u001b[0m\n\u001b[1;32m    107\u001b[0m     \u001b[0;32mif\u001b[0m \u001b[0;32mnot\u001b[0m \u001b[0mself\u001b[0m\u001b[0;34m.\u001b[0m\u001b[0m_in_multi_worker_mode\u001b[0m\u001b[0;34m(\u001b[0m\u001b[0;34m)\u001b[0m\u001b[0;34m:\u001b[0m  \u001b[0;31m# pylint: disable=protected-access\u001b[0m\u001b[0;34m\u001b[0m\u001b[0;34m\u001b[0m\u001b[0m\n\u001b[0;32m--> 108\u001b[0;31m       \u001b[0;32mreturn\u001b[0m \u001b[0mmethod\u001b[0m\u001b[0;34m(\u001b[0m\u001b[0mself\u001b[0m\u001b[0;34m,\u001b[0m \u001b[0;34m*\u001b[0m\u001b[0margs\u001b[0m\u001b[0;34m,\u001b[0m \u001b[0;34m**\u001b[0m\u001b[0mkwargs\u001b[0m\u001b[0;34m)\u001b[0m\u001b[0;34m\u001b[0m\u001b[0;34m\u001b[0m\u001b[0m\n\u001b[0m\u001b[1;32m    109\u001b[0m \u001b[0;34m\u001b[0m\u001b[0m\n\u001b[1;32m    110\u001b[0m     \u001b[0;31m# Running inside `run_distribute_coordinator` already.\u001b[0m\u001b[0;34m\u001b[0m\u001b[0;34m\u001b[0m\u001b[0;34m\u001b[0m\u001b[0m\n",
      "\u001b[0;32m/usr/local/lib/python3.6/dist-packages/tensorflow/python/keras/engine/training.py\u001b[0m in \u001b[0;36mfit\u001b[0;34m(self, x, y, batch_size, epochs, verbose, callbacks, validation_split, validation_data, shuffle, class_weight, sample_weight, initial_epoch, steps_per_epoch, validation_steps, validation_batch_size, validation_freq, max_queue_size, workers, use_multiprocessing)\u001b[0m\n\u001b[1;32m   1096\u001b[0m                 batch_size=batch_size):\n\u001b[1;32m   1097\u001b[0m               \u001b[0mcallbacks\u001b[0m\u001b[0;34m.\u001b[0m\u001b[0mon_train_batch_begin\u001b[0m\u001b[0;34m(\u001b[0m\u001b[0mstep\u001b[0m\u001b[0;34m)\u001b[0m\u001b[0;34m\u001b[0m\u001b[0;34m\u001b[0m\u001b[0m\n\u001b[0;32m-> 1098\u001b[0;31m               \u001b[0mtmp_logs\u001b[0m \u001b[0;34m=\u001b[0m \u001b[0mtrain_function\u001b[0m\u001b[0;34m(\u001b[0m\u001b[0miterator\u001b[0m\u001b[0;34m)\u001b[0m\u001b[0;34m\u001b[0m\u001b[0;34m\u001b[0m\u001b[0m\n\u001b[0m\u001b[1;32m   1099\u001b[0m               \u001b[0;32mif\u001b[0m \u001b[0mdata_handler\u001b[0m\u001b[0;34m.\u001b[0m\u001b[0mshould_sync\u001b[0m\u001b[0;34m:\u001b[0m\u001b[0;34m\u001b[0m\u001b[0;34m\u001b[0m\u001b[0m\n\u001b[1;32m   1100\u001b[0m                 \u001b[0mcontext\u001b[0m\u001b[0;34m.\u001b[0m\u001b[0masync_wait\u001b[0m\u001b[0;34m(\u001b[0m\u001b[0;34m)\u001b[0m\u001b[0;34m\u001b[0m\u001b[0;34m\u001b[0m\u001b[0m\n",
      "\u001b[0;32m/usr/local/lib/python3.6/dist-packages/tensorflow/python/eager/def_function.py\u001b[0m in \u001b[0;36m__call__\u001b[0;34m(self, *args, **kwds)\u001b[0m\n\u001b[1;32m    778\u001b[0m       \u001b[0;32melse\u001b[0m\u001b[0;34m:\u001b[0m\u001b[0;34m\u001b[0m\u001b[0;34m\u001b[0m\u001b[0m\n\u001b[1;32m    779\u001b[0m         \u001b[0mcompiler\u001b[0m \u001b[0;34m=\u001b[0m \u001b[0;34m\"nonXla\"\u001b[0m\u001b[0;34m\u001b[0m\u001b[0;34m\u001b[0m\u001b[0m\n\u001b[0;32m--> 780\u001b[0;31m         \u001b[0mresult\u001b[0m \u001b[0;34m=\u001b[0m \u001b[0mself\u001b[0m\u001b[0;34m.\u001b[0m\u001b[0m_call\u001b[0m\u001b[0;34m(\u001b[0m\u001b[0;34m*\u001b[0m\u001b[0margs\u001b[0m\u001b[0;34m,\u001b[0m \u001b[0;34m**\u001b[0m\u001b[0mkwds\u001b[0m\u001b[0;34m)\u001b[0m\u001b[0;34m\u001b[0m\u001b[0;34m\u001b[0m\u001b[0m\n\u001b[0m\u001b[1;32m    781\u001b[0m \u001b[0;34m\u001b[0m\u001b[0m\n\u001b[1;32m    782\u001b[0m       \u001b[0mnew_tracing_count\u001b[0m \u001b[0;34m=\u001b[0m \u001b[0mself\u001b[0m\u001b[0;34m.\u001b[0m\u001b[0m_get_tracing_count\u001b[0m\u001b[0;34m(\u001b[0m\u001b[0;34m)\u001b[0m\u001b[0;34m\u001b[0m\u001b[0;34m\u001b[0m\u001b[0m\n",
      "\u001b[0;32m/usr/local/lib/python3.6/dist-packages/tensorflow/python/eager/def_function.py\u001b[0m in \u001b[0;36m_call\u001b[0;34m(self, *args, **kwds)\u001b[0m\n\u001b[1;32m    805\u001b[0m       \u001b[0;31m# In this case we have created variables on the first call, so we run the\u001b[0m\u001b[0;34m\u001b[0m\u001b[0;34m\u001b[0m\u001b[0;34m\u001b[0m\u001b[0m\n\u001b[1;32m    806\u001b[0m       \u001b[0;31m# defunned version which is guaranteed to never create variables.\u001b[0m\u001b[0;34m\u001b[0m\u001b[0;34m\u001b[0m\u001b[0;34m\u001b[0m\u001b[0m\n\u001b[0;32m--> 807\u001b[0;31m       \u001b[0;32mreturn\u001b[0m \u001b[0mself\u001b[0m\u001b[0;34m.\u001b[0m\u001b[0m_stateless_fn\u001b[0m\u001b[0;34m(\u001b[0m\u001b[0;34m*\u001b[0m\u001b[0margs\u001b[0m\u001b[0;34m,\u001b[0m \u001b[0;34m**\u001b[0m\u001b[0mkwds\u001b[0m\u001b[0;34m)\u001b[0m  \u001b[0;31m# pylint: disable=not-callable\u001b[0m\u001b[0;34m\u001b[0m\u001b[0;34m\u001b[0m\u001b[0m\n\u001b[0m\u001b[1;32m    808\u001b[0m     \u001b[0;32melif\u001b[0m \u001b[0mself\u001b[0m\u001b[0;34m.\u001b[0m\u001b[0m_stateful_fn\u001b[0m \u001b[0;32mis\u001b[0m \u001b[0;32mnot\u001b[0m \u001b[0;32mNone\u001b[0m\u001b[0;34m:\u001b[0m\u001b[0;34m\u001b[0m\u001b[0;34m\u001b[0m\u001b[0m\n\u001b[1;32m    809\u001b[0m       \u001b[0;31m# Release the lock early so that multiple threads can perform the call\u001b[0m\u001b[0;34m\u001b[0m\u001b[0;34m\u001b[0m\u001b[0;34m\u001b[0m\u001b[0m\n",
      "\u001b[0;32m/usr/local/lib/python3.6/dist-packages/tensorflow/python/eager/function.py\u001b[0m in \u001b[0;36m__call__\u001b[0;34m(self, *args, **kwargs)\u001b[0m\n\u001b[1;32m   2827\u001b[0m     \u001b[0;32mwith\u001b[0m \u001b[0mself\u001b[0m\u001b[0;34m.\u001b[0m\u001b[0m_lock\u001b[0m\u001b[0;34m:\u001b[0m\u001b[0;34m\u001b[0m\u001b[0;34m\u001b[0m\u001b[0m\n\u001b[1;32m   2828\u001b[0m       \u001b[0mgraph_function\u001b[0m\u001b[0;34m,\u001b[0m \u001b[0margs\u001b[0m\u001b[0;34m,\u001b[0m \u001b[0mkwargs\u001b[0m \u001b[0;34m=\u001b[0m \u001b[0mself\u001b[0m\u001b[0;34m.\u001b[0m\u001b[0m_maybe_define_function\u001b[0m\u001b[0;34m(\u001b[0m\u001b[0margs\u001b[0m\u001b[0;34m,\u001b[0m \u001b[0mkwargs\u001b[0m\u001b[0;34m)\u001b[0m\u001b[0;34m\u001b[0m\u001b[0;34m\u001b[0m\u001b[0m\n\u001b[0;32m-> 2829\u001b[0;31m     \u001b[0;32mreturn\u001b[0m \u001b[0mgraph_function\u001b[0m\u001b[0;34m.\u001b[0m\u001b[0m_filtered_call\u001b[0m\u001b[0;34m(\u001b[0m\u001b[0margs\u001b[0m\u001b[0;34m,\u001b[0m \u001b[0mkwargs\u001b[0m\u001b[0;34m)\u001b[0m  \u001b[0;31m# pylint: disable=protected-access\u001b[0m\u001b[0;34m\u001b[0m\u001b[0;34m\u001b[0m\u001b[0m\n\u001b[0m\u001b[1;32m   2830\u001b[0m \u001b[0;34m\u001b[0m\u001b[0m\n\u001b[1;32m   2831\u001b[0m   \u001b[0;34m@\u001b[0m\u001b[0mproperty\u001b[0m\u001b[0;34m\u001b[0m\u001b[0;34m\u001b[0m\u001b[0m\n",
      "\u001b[0;32m/usr/local/lib/python3.6/dist-packages/tensorflow/python/eager/function.py\u001b[0m in \u001b[0;36m_filtered_call\u001b[0;34m(self, args, kwargs, cancellation_manager)\u001b[0m\n\u001b[1;32m   1846\u001b[0m                            resource_variable_ops.BaseResourceVariable))],\n\u001b[1;32m   1847\u001b[0m         \u001b[0mcaptured_inputs\u001b[0m\u001b[0;34m=\u001b[0m\u001b[0mself\u001b[0m\u001b[0;34m.\u001b[0m\u001b[0mcaptured_inputs\u001b[0m\u001b[0;34m,\u001b[0m\u001b[0;34m\u001b[0m\u001b[0;34m\u001b[0m\u001b[0m\n\u001b[0;32m-> 1848\u001b[0;31m         cancellation_manager=cancellation_manager)\n\u001b[0m\u001b[1;32m   1849\u001b[0m \u001b[0;34m\u001b[0m\u001b[0m\n\u001b[1;32m   1850\u001b[0m   \u001b[0;32mdef\u001b[0m \u001b[0m_call_flat\u001b[0m\u001b[0;34m(\u001b[0m\u001b[0mself\u001b[0m\u001b[0;34m,\u001b[0m \u001b[0margs\u001b[0m\u001b[0;34m,\u001b[0m \u001b[0mcaptured_inputs\u001b[0m\u001b[0;34m,\u001b[0m \u001b[0mcancellation_manager\u001b[0m\u001b[0;34m=\u001b[0m\u001b[0;32mNone\u001b[0m\u001b[0;34m)\u001b[0m\u001b[0;34m:\u001b[0m\u001b[0;34m\u001b[0m\u001b[0;34m\u001b[0m\u001b[0m\n",
      "\u001b[0;32m/usr/local/lib/python3.6/dist-packages/tensorflow/python/eager/function.py\u001b[0m in \u001b[0;36m_call_flat\u001b[0;34m(self, args, captured_inputs, cancellation_manager)\u001b[0m\n\u001b[1;32m   1922\u001b[0m       \u001b[0;31m# No tape is watching; skip to running the function.\u001b[0m\u001b[0;34m\u001b[0m\u001b[0;34m\u001b[0m\u001b[0;34m\u001b[0m\u001b[0m\n\u001b[1;32m   1923\u001b[0m       return self._build_call_outputs(self._inference_function.call(\n\u001b[0;32m-> 1924\u001b[0;31m           ctx, args, cancellation_manager=cancellation_manager))\n\u001b[0m\u001b[1;32m   1925\u001b[0m     forward_backward = self._select_forward_and_backward_functions(\n\u001b[1;32m   1926\u001b[0m         \u001b[0margs\u001b[0m\u001b[0;34m,\u001b[0m\u001b[0;34m\u001b[0m\u001b[0;34m\u001b[0m\u001b[0m\n",
      "\u001b[0;32m/usr/local/lib/python3.6/dist-packages/tensorflow/python/eager/function.py\u001b[0m in \u001b[0;36mcall\u001b[0;34m(self, ctx, args, cancellation_manager)\u001b[0m\n\u001b[1;32m    548\u001b[0m               \u001b[0minputs\u001b[0m\u001b[0;34m=\u001b[0m\u001b[0margs\u001b[0m\u001b[0;34m,\u001b[0m\u001b[0;34m\u001b[0m\u001b[0;34m\u001b[0m\u001b[0m\n\u001b[1;32m    549\u001b[0m               \u001b[0mattrs\u001b[0m\u001b[0;34m=\u001b[0m\u001b[0mattrs\u001b[0m\u001b[0;34m,\u001b[0m\u001b[0;34m\u001b[0m\u001b[0;34m\u001b[0m\u001b[0m\n\u001b[0;32m--> 550\u001b[0;31m               ctx=ctx)\n\u001b[0m\u001b[1;32m    551\u001b[0m         \u001b[0;32melse\u001b[0m\u001b[0;34m:\u001b[0m\u001b[0;34m\u001b[0m\u001b[0;34m\u001b[0m\u001b[0m\n\u001b[1;32m    552\u001b[0m           outputs = execute.execute_with_cancellation(\n",
      "\u001b[0;32m/usr/local/lib/python3.6/dist-packages/tensorflow/python/eager/execute.py\u001b[0m in \u001b[0;36mquick_execute\u001b[0;34m(op_name, num_outputs, inputs, attrs, ctx, name)\u001b[0m\n\u001b[1;32m     58\u001b[0m     \u001b[0mctx\u001b[0m\u001b[0;34m.\u001b[0m\u001b[0mensure_initialized\u001b[0m\u001b[0;34m(\u001b[0m\u001b[0;34m)\u001b[0m\u001b[0;34m\u001b[0m\u001b[0;34m\u001b[0m\u001b[0m\n\u001b[1;32m     59\u001b[0m     tensors = pywrap_tfe.TFE_Py_Execute(ctx._handle, device_name, op_name,\n\u001b[0;32m---> 60\u001b[0;31m                                         inputs, attrs, num_outputs)\n\u001b[0m\u001b[1;32m     61\u001b[0m   \u001b[0;32mexcept\u001b[0m \u001b[0mcore\u001b[0m\u001b[0;34m.\u001b[0m\u001b[0m_NotOkStatusException\u001b[0m \u001b[0;32mas\u001b[0m \u001b[0me\u001b[0m\u001b[0;34m:\u001b[0m\u001b[0;34m\u001b[0m\u001b[0;34m\u001b[0m\u001b[0m\n\u001b[1;32m     62\u001b[0m     \u001b[0;32mif\u001b[0m \u001b[0mname\u001b[0m \u001b[0;32mis\u001b[0m \u001b[0;32mnot\u001b[0m \u001b[0;32mNone\u001b[0m\u001b[0;34m:\u001b[0m\u001b[0;34m\u001b[0m\u001b[0;34m\u001b[0m\u001b[0m\n",
      "\u001b[0;31mKeyboardInterrupt\u001b[0m: "
     ]
    }
   ],
   "source": [
    "t0 = time.time()\n",
    "history_callback = rgb_model_vgg16.fit(arr_train_X, arr_train_y, epochs=35, \n",
    "                                       batch_size=64, validation_split = 0.2, \n",
    "                                       workers=4, use_multiprocessing=True,\n",
    "                                       callbacks = [model_checkpoint_callback])\n",
    "print(\"Train time:\", time.time()-t0)"
   ]
  },
  {
   "cell_type": "code",
   "execution_count": 63,
   "id": "advisory-caribbean",
   "metadata": {},
   "outputs": [],
   "source": [
    "#run1 = history_callback.history\n",
    "run2 = history_callback.history\n"
   ]
  },
  {
   "cell_type": "code",
   "execution_count": null,
   "id": "revolutionary-muscle",
   "metadata": {},
   "outputs": [],
   "source": []
  },
  {
   "cell_type": "code",
   "execution_count": 53,
   "id": "engaged-thesis",
   "metadata": {},
   "outputs": [],
   "source": [
    "#model_out.save('/data/model_saves/89_model') 89 model saved mar 18"
   ]
  },
  {
   "cell_type": "code",
   "execution_count": 64,
   "id": "fatal-championship",
   "metadata": {},
   "outputs": [
    {
     "data": {
      "image/png": "[encoded data removed]",
      "text/plain": [
       "<Figure size 432x288 with 1 Axes>"
      ]
     },
     "metadata": {
      "needs_background": "light"
     },
     "output_type": "display_data"
    }
   ],
   "source": [
    "train_loss = run1['loss'] + run2['loss']\n",
    "val_loss = run1['val_loss'] + run2['val_loss']\n",
    "x = np.arange(len(train_loss))\n",
    "fig = plt.figure()\n",
    "ax = plt.subplot(111)\n",
    "ax.plot(x, train_loss, label='train_loss')\n",
    "ax.plot(x, val_loss, label='val_loss')\n",
    "ax.set_ylim(0, 3) \n",
    "plt.title('Loss Plot // RGB 1235 set hilo')\n",
    "ax.legend()\n",
    "plt.show()"
   ]
  },
  {
   "cell_type": "code",
   "execution_count": 65,
   "id": "unnecessary-premiere",
   "metadata": {},
   "outputs": [
    {
     "data": {
      "image/png": "[encoded data removed]",
      "text/plain": [
       "<Figure size 432x288 with 1 Axes>"
      ]
     },
     "metadata": {
      "needs_background": "light"
     },
     "output_type": "display_data"
    }
   ],
   "source": [
    "train_accuracy = run1['accuracy'] + run2['accuracy']\n",
    "val_accuracy = run1['val_accuracy'] + run2['val_accuracy']\n",
    "x = np.arange(len(train_accuracy))\n",
    "fig = plt.figure()\n",
    "ax = plt.subplot(111)\n",
    "ax.plot(x, train_accuracy, label='train_accuracy')\n",
    "ax.plot(x, val_accuracy, label='val_accuracy')\n",
    "ax.set_ylim(0.5, 1) \n",
    "plt.title('Accuracy Plot // RGB 1235 set hilo')\n",
    "ax.legend()\n",
    "plt.show()"
   ]
  },
  {
   "cell_type": "code",
   "execution_count": 56,
   "id": "popular-phenomenon",
   "metadata": {},
   "outputs": [
    {
     "data": {
      "text/plain": [
       "0.37657621305356603"
      ]
     },
     "execution_count": 56,
     "metadata": {},
     "output_type": "execute_result"
    }
   ],
   "source": [
    "np.mean(arr_train_y)"
   ]
  },
  {
   "cell_type": "code",
   "execution_count": 57,
   "id": "perfect-traffic",
   "metadata": {},
   "outputs": [
    {
     "data": {
      "text/plain": [
       "0.37481031866464337"
      ]
     },
     "execution_count": 57,
     "metadata": {},
     "output_type": "execute_result"
    }
   ],
   "source": [
    "np.mean(arr_test_y)"
   ]
  },
  {
   "cell_type": "code",
   "execution_count": 33,
   "id": "communist-bracket",
   "metadata": {},
   "outputs": [],
   "source": [
    "rgb_model_vgg16.load_weights('/data/model_checkpoints/3xchan_all/low_dropout/extra_low/himodel.07-0.64.h5')"
   ]
  },
  {
   "cell_type": "code",
   "execution_count": 34,
   "id": "laden-westminster",
   "metadata": {},
   "outputs": [
    {
     "name": "stdout",
     "output_type": "stream",
     "text": [
      "[[0.42622924]\n",
      " [0.29693335]\n",
      " [0.3619465 ]\n",
      " [0.30237392]\n",
      " [0.3603746 ]\n",
      " [0.3897093 ]\n",
      " [0.2652666 ]\n",
      " [0.47581   ]]\n"
     ]
    }
   ],
   "source": [
    "test_preds = rgb_model_vgg16.predict(arr_test_X, batch_size = 128)\n",
    "print(test_preds[:8])"
   ]
  },
  {
   "cell_type": "code",
   "execution_count": 35,
   "id": "rural-fight",
   "metadata": {},
   "outputs": [
    {
     "data": {
      "text/plain": [
       "array([[0.],\n",
       "       [0.],\n",
       "       [0.],\n",
       "       [0.],\n",
       "       [0.],\n",
       "       [0.],\n",
       "       [0.],\n",
       "       [0.]], dtype=float32)"
      ]
     },
     "execution_count": 35,
     "metadata": {},
     "output_type": "execute_result"
    }
   ],
   "source": [
    "#print(len(rounded_preds))\n",
    "rounded_preds = np.round(test_preds)\n",
    "rounded_preds[:8]"
   ]
  },
  {
   "cell_type": "code",
   "execution_count": 38,
   "id": "opposed-denver",
   "metadata": {},
   "outputs": [
    {
     "name": "stdout",
     "output_type": "stream",
     "text": [
      "da_number            object\n",
      "predicted             int64\n",
      "cwa_determination     int64\n",
      "dtype: object\n"
     ]
    },
    {
     "data": {
      "text/html": [
       "<div>\n",
       "<style scoped>\n",
       "    .dataframe tbody tr th:only-of-type {\n",
       "        vertical-align: middle;\n",
       "    }\n",
       "\n",
       "    .dataframe tbody tr th {\n",
       "        vertical-align: top;\n",
       "    }\n",
       "\n",
       "    .dataframe thead th {\n",
       "        text-align: right;\n",
       "    }\n",
       "</style>\n",
       "<table border=\"1\" class=\"dataframe\">\n",
       "  <thead>\n",
       "    <tr style=\"text-align: right;\">\n",
       "      <th></th>\n",
       "      <th>da_number</th>\n",
       "      <th>predicted</th>\n",
       "      <th>cwa_determination</th>\n",
       "    </tr>\n",
       "  </thead>\n",
       "  <tbody>\n",
       "    <tr>\n",
       "      <th>0</th>\n",
       "      <td>SAC-2015-00882</td>\n",
       "      <td>0</td>\n",
       "      <td>0</td>\n",
       "    </tr>\n",
       "    <tr>\n",
       "      <th>1</th>\n",
       "      <td>LRL-2018-00430-sjk</td>\n",
       "      <td>0</td>\n",
       "      <td>1</td>\n",
       "    </tr>\n",
       "    <tr>\n",
       "      <th>2</th>\n",
       "      <td>SAC-2016-00908</td>\n",
       "      <td>0</td>\n",
       "      <td>0</td>\n",
       "    </tr>\n",
       "    <tr>\n",
       "      <th>3</th>\n",
       "      <td>LRL-2019-00353</td>\n",
       "      <td>0</td>\n",
       "      <td>0</td>\n",
       "    </tr>\n",
       "    <tr>\n",
       "      <th>4</th>\n",
       "      <td>MVP-2020-00700-AJK</td>\n",
       "      <td>0</td>\n",
       "      <td>0</td>\n",
       "    </tr>\n",
       "  </tbody>\n",
       "</table>\n",
       "</div>"
      ],
      "text/plain": [
       "            da_number  predicted  cwa_determination\n",
       "0      SAC-2015-00882          0                  0\n",
       "1  LRL-2018-00430-sjk          0                  1\n",
       "2      SAC-2016-00908          0                  0\n",
       "3      LRL-2019-00353          0                  0\n",
       "4  MVP-2020-00700-AJK          0                  0"
      ]
     },
     "metadata": {},
     "output_type": "display_data"
    },
    {
     "name": "stdout",
     "output_type": "stream",
     "text": [
      "false_neg: 884\n",
      "false_pos: 203\n",
      "true_pos: 351\n",
      "true_neg: 1857\n",
      "0.28421052631578947\n",
      "0.9014563106796116\n",
      "0.6335740072202166\n"
     ]
    }
   ],
   "source": [
    "da_n = [x.name[:-4] for x in test_X]\n",
    "df_pred = pd.DataFrame({'da_number' : da_n, 'predicted' : list(rounded_preds), 'cwa_determination' : test_y})\n",
    "df_pred.predicted = df_pred.predicted.apply(int)\n",
    "print(df_pred.dtypes)\n",
    "display(df_pred.head())\n",
    "df_pred.to_csv('/data/model_checkpoints/3xchan_all/himodel_preds.csv')\n",
    "false_neg = df_pred[(df_pred.predicted == 0)&(df_pred.cwa_determination == 1)].shape[0]\n",
    "false_pos = df_pred[(df_pred.predicted == 1)&(df_pred.cwa_determination == 0)].shape[0]\n",
    "true_pos = df_pred[(df_pred.predicted == 1)&(df_pred.cwa_determination == 1)].shape[0]\n",
    "true_neg = df_pred[(df_pred.predicted == 0)&(df_pred.cwa_determination == 0)].shape[0]\n",
    "print('false_neg:', false_neg)\n",
    "print('false_pos:', false_pos)\n",
    "print('true_pos:', true_pos)\n",
    "print('true_neg:', true_neg)\n",
    "print(true_pos/(false_neg+true_pos))\n",
    "print(true_neg/(false_pos+true_neg))\n",
    "print(true_pos/(false_pos+true_pos))"
   ]
  },
  {
   "cell_type": "code",
   "execution_count": null,
   "id": "numeric-trademark",
   "metadata": {},
   "outputs": [],
   "source": [
    "1968/2060 = specficity = 95.5\n",
    "231/1235 = sensitivity = 18.7\n",
    "\n",
    "da_number\tpredicted\tcwa_determination\n",
    "0\tSAC-2015-00882\t0\t0\n",
    "1\tLRL-2018-00430-sjk\t0\t1\n",
    "2\tSAC-2016-00908\t0\t0\n",
    "3\tLRL-2019-00353\t0\t0\n",
    "4\tMVP-2020-00700-AJK\t0\t0\n",
    "false_neg: 1004\n",
    "false_pos: 92\n",
    "true_pos: 231\n",
    "true_neg: 1968"
   ]
  }
 ],
 "metadata": {
  "kernelspec": {
   "display_name": "Python 3",
   "language": "python",
   "name": "python3"
  },
  "language_info": {
   "codemirror_mode": {
    "name": "ipython",
    "version": 3
   },
   "file_extension": ".py",
   "mimetype": "text/x-python",
   "name": "python",
   "nbconvert_exporter": "python",
   "pygments_lexer": "ipython3",
   "version": "3.6.9"
  }
 },
 "nbformat": 4,
 "nbformat_minor": 5
}
