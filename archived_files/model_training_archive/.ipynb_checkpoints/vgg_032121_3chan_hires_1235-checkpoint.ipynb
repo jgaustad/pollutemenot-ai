{
 "cells": [
  {
   "cell_type": "code",
   "execution_count": 1,
   "id": "chubby-injury",
   "metadata": {},
   "outputs": [
    {
     "name": "stdout",
     "output_type": "stream",
     "text": [
      "2.3.0 tf\n",
      "2.4.3 keras\n"
     ]
    }
   ],
   "source": [
    "### Init network Build\n",
    "import numpy as np\n",
    "from pathlib import Path\n",
    "import pandas as pd\n",
    "from osgeo import gdal\n",
    "import keras\n",
    "import time\n",
    "import tensorflow as tf\n",
    "%load_ext tensorboard\n",
    "\n",
    "from matplotlib.pyplot import imshow\n",
    "import matplotlib.pyplot as plt\n",
    "\n",
    "print(tf.__version__, 'tf')\n",
    "print(keras.__version__, 'keras')"
   ]
  },
  {
   "cell_type": "code",
   "execution_count": 2,
   "id": "public-lounge",
   "metadata": {},
   "outputs": [
    {
     "data": {
      "text/html": [
       "<div>\n",
       "<style scoped>\n",
       "    .dataframe tbody tr th:only-of-type {\n",
       "        vertical-align: middle;\n",
       "    }\n",
       "\n",
       "    .dataframe tbody tr th {\n",
       "        vertical-align: top;\n",
       "    }\n",
       "\n",
       "    .dataframe thead th {\n",
       "        text-align: right;\n",
       "    }\n",
       "</style>\n",
       "<table border=\"1\" class=\"dataframe\">\n",
       "  <thead>\n",
       "    <tr style=\"text-align: right;\">\n",
       "      <th></th>\n",
       "      <th>Unnamed: 0</th>\n",
       "      <th>img_res</th>\n",
       "      <th>img_type</th>\n",
       "      <th>img_index</th>\n",
       "      <th>da_num</th>\n",
       "      <th>img_path</th>\n",
       "      <th>da_number</th>\n",
       "      <th>cwa_determination</th>\n",
       "      <th>metrics</th>\n",
       "      <th>mean</th>\n",
       "      <th>stdev</th>\n",
       "      <th>min</th>\n",
       "      <th>max</th>\n",
       "      <th>num_nans</th>\n",
       "      <th>district_code</th>\n",
       "    </tr>\n",
       "  </thead>\n",
       "  <tbody>\n",
       "    <tr>\n",
       "      <th>0</th>\n",
       "      <td>0</td>\n",
       "      <td>hires</td>\n",
       "      <td>RGB</td>\n",
       "      <td>688</td>\n",
       "      <td>SAC-2016-01382</td>\n",
       "      <td>/data/rgb_raw1/Sample_Set_12345_hires_RGB_688_...</td>\n",
       "      <td>SAC-2016-01382</td>\n",
       "      <td>0</td>\n",
       "      <td>(387.4623260498047, 378.9677084295356, 1, 6656...</td>\n",
       "      <td>387.462326</td>\n",
       "      <td>378.967708</td>\n",
       "      <td>1</td>\n",
       "      <td>6656</td>\n",
       "      <td>0</td>\n",
       "      <td>SAC</td>\n",
       "    </tr>\n",
       "    <tr>\n",
       "      <th>1</th>\n",
       "      <td>1</td>\n",
       "      <td>lores</td>\n",
       "      <td>RGB</td>\n",
       "      <td>1674</td>\n",
       "      <td>SAC-2019-01208</td>\n",
       "      <td>/data/rgb_raw1/Sample_Set_12345_lores_RGB_1674...</td>\n",
       "      <td>SAC-2019-01208</td>\n",
       "      <td>0</td>\n",
       "      <td>(355.3025258382161, 251.42918602431052, 0, 630...</td>\n",
       "      <td>355.302526</td>\n",
       "      <td>251.429186</td>\n",
       "      <td>0</td>\n",
       "      <td>6303</td>\n",
       "      <td>0</td>\n",
       "      <td>SAC</td>\n",
       "    </tr>\n",
       "    <tr>\n",
       "      <th>2</th>\n",
       "      <td>2</td>\n",
       "      <td>lores</td>\n",
       "      <td>RGB</td>\n",
       "      <td>147</td>\n",
       "      <td>SAC-2015-01563-4S</td>\n",
       "      <td>/data/rgb_raw1/Sample_Set_89_lores_RGB_147_SAC...</td>\n",
       "      <td>SAC-2015-01563-4S</td>\n",
       "      <td>0</td>\n",
       "      <td>(588.3651936848959, 384.2114394731537, 0, 6975...</td>\n",
       "      <td>588.365194</td>\n",
       "      <td>384.211439</td>\n",
       "      <td>0</td>\n",
       "      <td>6975</td>\n",
       "      <td>0</td>\n",
       "      <td>SAC</td>\n",
       "    </tr>\n",
       "    <tr>\n",
       "      <th>3</th>\n",
       "      <td>3</td>\n",
       "      <td>lores</td>\n",
       "      <td>RGB</td>\n",
       "      <td>1449</td>\n",
       "      <td>SAC-2018-01812</td>\n",
       "      <td>/data/rgb_raw1/Sample_Set_12345_lores_RGB_1449...</td>\n",
       "      <td>SAC-2018-01812</td>\n",
       "      <td>0</td>\n",
       "      <td>(191.9609578450521, 371.63715689233516, 0, 780...</td>\n",
       "      <td>191.960958</td>\n",
       "      <td>371.637157</td>\n",
       "      <td>0</td>\n",
       "      <td>7802</td>\n",
       "      <td>0</td>\n",
       "      <td>SAC</td>\n",
       "    </tr>\n",
       "    <tr>\n",
       "      <th>4</th>\n",
       "      <td>4</td>\n",
       "      <td>lores</td>\n",
       "      <td>RGB</td>\n",
       "      <td>2341</td>\n",
       "      <td>SAC-2016-00877</td>\n",
       "      <td>/data/rgb_raw1/Sample_Set_12345_lores_RGB_2341...</td>\n",
       "      <td>SAC-2016-00877</td>\n",
       "      <td>1</td>\n",
       "      <td>(431.6496073404948, 396.4779876169203, 0, 7457...</td>\n",
       "      <td>431.649607</td>\n",
       "      <td>396.477988</td>\n",
       "      <td>0</td>\n",
       "      <td>7457</td>\n",
       "      <td>0</td>\n",
       "      <td>SAC</td>\n",
       "    </tr>\n",
       "  </tbody>\n",
       "</table>\n",
       "</div>"
      ],
      "text/plain": [
       "   Unnamed: 0 img_res img_type  img_index             da_num  \\\n",
       "0           0   hires      RGB        688     SAC-2016-01382   \n",
       "1           1   lores      RGB       1674     SAC-2019-01208   \n",
       "2           2   lores      RGB        147  SAC-2015-01563-4S   \n",
       "3           3   lores      RGB       1449     SAC-2018-01812   \n",
       "4           4   lores      RGB       2341     SAC-2016-00877   \n",
       "\n",
       "                                            img_path          da_number  \\\n",
       "0  /data/rgb_raw1/Sample_Set_12345_hires_RGB_688_...     SAC-2016-01382   \n",
       "1  /data/rgb_raw1/Sample_Set_12345_lores_RGB_1674...     SAC-2019-01208   \n",
       "2  /data/rgb_raw1/Sample_Set_89_lores_RGB_147_SAC...  SAC-2015-01563-4S   \n",
       "3  /data/rgb_raw1/Sample_Set_12345_lores_RGB_1449...     SAC-2018-01812   \n",
       "4  /data/rgb_raw1/Sample_Set_12345_lores_RGB_2341...     SAC-2016-00877   \n",
       "\n",
       "   cwa_determination                                            metrics  \\\n",
       "0                  0  (387.4623260498047, 378.9677084295356, 1, 6656...   \n",
       "1                  0  (355.3025258382161, 251.42918602431052, 0, 630...   \n",
       "2                  0  (588.3651936848959, 384.2114394731537, 0, 6975...   \n",
       "3                  0  (191.9609578450521, 371.63715689233516, 0, 780...   \n",
       "4                  1  (431.6496073404948, 396.4779876169203, 0, 7457...   \n",
       "\n",
       "         mean       stdev  min   max  num_nans district_code  \n",
       "0  387.462326  378.967708    1  6656         0           SAC  \n",
       "1  355.302526  251.429186    0  6303         0           SAC  \n",
       "2  588.365194  384.211439    0  6975         0           SAC  \n",
       "3  191.960958  371.637157    0  7802         0           SAC  \n",
       "4  431.649607  396.477988    0  7457         0           SAC  "
      ]
     },
     "metadata": {},
     "output_type": "display_data"
    }
   ],
   "source": [
    "df_merged = pd.read_csv('image_metrics_032121_rgb.csv')\n",
    "display(df_merged.head())\n",
    "#df_merged_sac_saw = df_merged[df_merged['district_code'] == 'SAC'] "
   ]
  },
  {
   "cell_type": "code",
   "execution_count": 3,
   "id": "embedded-gnome",
   "metadata": {},
   "outputs": [],
   "source": [
    "\n",
    "data = 'Madhukar/Archived/Dataset_with_merged_SSURGO_NHD_variables/2021.03.09_ssurgo_nhd_merged.csv'\n",
    "df_nhd_ss = pd.read_csv(data)\n",
    "data_subset_89='subsets_data/sac_saw_subset_01_1235.csv'\n",
    "df_sac_saw_89 = pd.read_csv(data_subset_89)\n",
    "df_merged_89 = pd.merge(df_sac_saw_89, df_nhd_ss, left_on = 'da_number', right_on = 'da_number', how = 'left')\n",
    "#display(df_merged_89)\n",
    "#X = df_merged_89#.drop(['cwa_determination'], axis=1)\n",
    "#y = df_merged_89['cwa_determination_x']\n",
    "from sklearn.model_selection import train_test_split\n",
    "\n",
    "\n",
    "## adding some filtering for the images that exist.\n",
    "dir2 = '/data/training_data_rgb3/'\n",
    "df_image_list = pd.DataFrame({'da_number' : [f.name[:-4] for f in Path(dir2).iterdir()]})\n",
    "X = pd.merge(df_merged_89, df_image_list, how = 'inner', on = 'da_number')\n",
    "y = X['cwa_determination_x']\n",
    "\n",
    "X_train, X_test, y_train, y_test = train_test_split(X, y, test_size = 0.25, random_state = 42)"
   ]
  },
  {
   "cell_type": "code",
   "execution_count": 4,
   "id": "together-basic",
   "metadata": {},
   "outputs": [],
   "source": [
    "dir2 = '/data/all_3chan_training_nan_to_mean_data1/'\n",
    "#df_merged = pd.read_csv('image_metrics_032121_rgb.csv')\n",
    "#X = df_merged\n",
    "#y = df_merged['cwa_determination']\n",
    "#X_train, X_test, y_train, y_test = train_test_split(X, y, test_size = 0.25, random_state = 42)\n"
   ]
  },
  {
   "cell_type": "code",
   "execution_count": 5,
   "id": "soviet-drama",
   "metadata": {},
   "outputs": [
    {
     "data": {
      "text/plain": [
       "224       SAW-2017-00624\n",
       "42        SAW-2016-00508\n",
       "285       SAW-2018-02179\n",
       "302       SAW-2018-00762\n",
       "56        SAW-2019-00805\n",
       "             ...        \n",
       "314       SAC-2017-01409\n",
       "173       SAW-2018-01569\n",
       "158       SAW-2020-00905\n",
       "109    SAC-2015-01563-4S\n",
       "295       SAW-2015-02071\n",
       "Name: da_number, Length: 90, dtype: object"
      ]
     },
     "execution_count": 5,
     "metadata": {},
     "output_type": "execute_result"
    }
   ],
   "source": [
    "# get list of false negatives.  on both 89 1345\n",
    "X_test.da_number"
   ]
  },
  {
   "cell_type": "code",
   "execution_count": 84,
   "id": "cross-morgan",
   "metadata": {},
   "outputs": [],
   "source": [
    "#f3 = df_merged.da_num.apply(lambda x: x[:3])\n",
    "#f3.value_counts()"
   ]
  },
  {
   "cell_type": "code",
   "execution_count": null,
   "id": "arctic-chinese",
   "metadata": {},
   "outputs": [],
   "source": []
  },
  {
   "cell_type": "code",
   "execution_count": 6,
   "id": "induced-grove",
   "metadata": {},
   "outputs": [
    {
     "name": "stdout",
     "output_type": "stream",
     "text": [
      "269\n",
      "233\n"
     ]
    }
   ],
   "source": [
    "soi = list(X_train.da_number)\n",
    "soi_test = list(X_test.da_number)\n",
    "print(len(soi))\n",
    "train_X = [f for f in Path(dir2).iterdir() if f.name[:-4] in soi]\n",
    "test_X = [f for f in Path(dir2).iterdir() if f.name[:-4] in soi_test]\n",
    "\n",
    "print(len(train_X))"
   ]
  },
  {
   "cell_type": "code",
   "execution_count": 7,
   "id": "pregnant-enough",
   "metadata": {},
   "outputs": [
    {
     "data": {
      "text/plain": [
       "'SAW-2017-00318'"
      ]
     },
     "execution_count": 7,
     "metadata": {},
     "output_type": "execute_result"
    }
   ],
   "source": [
    "train_X[0].name[:-4]"
   ]
  },
  {
   "cell_type": "code",
   "execution_count": 8,
   "id": "loaded-cotton",
   "metadata": {},
   "outputs": [
    {
     "data": {
      "text/plain": [
       "(3, 256, 256)"
      ]
     },
     "execution_count": 8,
     "metadata": {},
     "output_type": "execute_result"
    }
   ],
   "source": [
    "np.load(train_X[0]).shape"
   ]
  },
  {
   "cell_type": "code",
   "execution_count": 9,
   "id": "honest-curve",
   "metadata": {},
   "outputs": [
    {
     "data": {
      "text/plain": [
       "0"
      ]
     },
     "execution_count": 9,
     "metadata": {},
     "output_type": "execute_result"
    }
   ],
   "source": [
    "def get_label(da_num_i, df_merged = df_merged):\n",
    "    return int(df_merged[df_merged.da_num == da_num_i].cwa_determination.iloc[0])\n",
    "get_label(train_X[0].name[:-4])"
   ]
  },
  {
   "cell_type": "code",
   "execution_count": null,
   "id": "spare-pension",
   "metadata": {},
   "outputs": [],
   "source": []
  },
  {
   "cell_type": "code",
   "execution_count": 10,
   "id": "innocent-northeast",
   "metadata": {},
   "outputs": [],
   "source": [
    "train_y = [get_label(x.name[:-4]) for x in train_X]\n",
    "test_y = [get_label(x.name[:-4]) for x in test_X]"
   ]
  },
  {
   "cell_type": "code",
   "execution_count": 11,
   "id": "miniature-congo",
   "metadata": {},
   "outputs": [
    {
     "name": "stdout",
     "output_type": "stream",
     "text": [
      "233 233\n"
     ]
    }
   ],
   "source": [
    "print(len(train_X), len(train_y))"
   ]
  },
  {
   "cell_type": "code",
   "execution_count": 12,
   "id": "regulation-psychiatry",
   "metadata": {},
   "outputs": [],
   "source": [
    "arr_train_X = np.array([np.load(f) for f in train_X]).swapaxes(1,3)\n",
    "arr_test_X = np.array([np.load(f) for f in test_X]).swapaxes(1,3)\n",
    "\n",
    "arr_train_y = np.array(train_y)\n",
    "arr_test_y = np.array(test_y)"
   ]
  },
  {
   "cell_type": "code",
   "execution_count": 13,
   "id": "designed-pipeline",
   "metadata": {},
   "outputs": [
    {
     "name": "stdout",
     "output_type": "stream",
     "text": [
      "(233, 256, 256, 3)\n",
      "(233,)\n",
      "number of nans:  0\n",
      "number of nums:  45809664\n",
      "number of nans:  0\n"
     ]
    }
   ],
   "source": [
    "print(arr_train_X.shape)\n",
    "print(arr_train_y.shape)\n",
    "print('number of nans: ', np.sum(np.isnan(arr_train_X)))\n",
    "print('number of nums: ', np.sum(~np.isnan(arr_train_X)))\n",
    "arr_train_X = np.nan_to_num(arr_train_X) #convert all nans to zeroes\n",
    "print('number of nans: ', np.sum(np.isnan(arr_train_X)))\n",
    "## may need to investigate the nans and figure out some imputation here."
   ]
  },
  {
   "cell_type": "code",
   "execution_count": 14,
   "id": "adolescent-louisiana",
   "metadata": {},
   "outputs": [
    {
     "name": "stdout",
     "output_type": "stream",
     "text": [
      "(76, 256, 256, 3)\n",
      "(76,)\n",
      "number of nans:  0\n",
      "number of nums:  14942208\n",
      "number of nans:  0\n"
     ]
    }
   ],
   "source": [
    "print(arr_test_X.shape)\n",
    "print(arr_test_y.shape)\n",
    "print('number of nans: ', np.sum(np.isnan(arr_test_X)))\n",
    "print('number of nums: ', np.sum(~np.isnan(arr_test_X)))\n",
    "arr_test_X = np.nan_to_num(arr_test_X) #convert all nans to zeroes\n",
    "print('number of nans: ', np.sum(np.isnan(arr_test_X)))\n",
    "## may need to investigate the nans and figure out some imputation here."
   ]
  },
  {
   "cell_type": "code",
   "execution_count": 15,
   "id": "encouraging-switch",
   "metadata": {},
   "outputs": [
    {
     "name": "stdout",
     "output_type": "stream",
     "text": [
      "0.1759656652360515 this is the majority class size.\n",
      "0.23085079940671596\n",
      "0.014292520247737018\n",
      "0.9998849034309387\n"
     ]
    }
   ],
   "source": [
    "print(np.mean(arr_train_y), 'this is the majority class size.')\n",
    "print(np.mean(arr_train_X))\n",
    "print(np.min(arr_train_X))\n",
    "print(np.max(arr_train_X))"
   ]
  },
  {
   "cell_type": "code",
   "execution_count": 16,
   "id": "cooperative-citizenship",
   "metadata": {},
   "outputs": [
    {
     "data": {
      "text/plain": [
       "(array([0, 0, 0, 0, 0, 0, 0, 0, 0, 0]),\n",
       " array([0. , 0.1, 0.2, 0.3, 0.4, 0.5, 0.6, 0.7, 0.8, 0.9, 1. ]))"
      ]
     },
     "execution_count": 16,
     "metadata": {},
     "output_type": "execute_result"
    }
   ],
   "source": [
    "np.histogram(arr_train_X[0][:,:,3:])"
   ]
  },
  {
   "cell_type": "code",
   "execution_count": 17,
   "id": "cognitive-confidentiality",
   "metadata": {},
   "outputs": [
    {
     "data": {
      "text/plain": [
       "<matplotlib.image.AxesImage at 0x7f792c8c6cf8>"
      ]
     },
     "execution_count": 17,
     "metadata": {},
     "output_type": "execute_result"
    },
    {
     "data": {
      "image/png": "[encoded data removed]",
      "text/plain": [
       "<Figure size 432x288 with 1 Axes>"
      ]
     },
     "metadata": {
      "needs_background": "light"
     },
     "output_type": "display_data"
    }
   ],
   "source": [
    "fig, ax = plt.subplots()\n",
    "ax.imshow(arr_train_X[0])"
   ]
  },
  {
   "cell_type": "code",
   "execution_count": 18,
   "id": "martial-thursday",
   "metadata": {},
   "outputs": [
    {
     "name": "stdout",
     "output_type": "stream",
     "text": [
      "Thu Mar 25 22:38:45 2021       \n",
      "+-----------------------------------------------------------------------------+\n",
      "| NVIDIA-SMI 450.80.02    Driver Version: 450.80.02    CUDA Version: 11.0     |\n",
      "|-------------------------------+----------------------+----------------------+\n",
      "| GPU  Name        Persistence-M| Bus-Id        Disp.A | Volatile Uncorr. ECC |\n",
      "| Fan  Temp  Perf  Pwr:Usage/Cap|         Memory-Usage | GPU-Util  Compute M. |\n",
      "|                               |                      |               MIG M. |\n",
      "|===============================+======================+======================|\n",
      "|   0  Tesla K80           On   | 00000000:00:1E.0 Off |                    0 |\n",
      "| N/A   55C    P8    31W / 149W |      0MiB / 11441MiB |      0%      Default |\n",
      "|                               |                      |                  N/A |\n",
      "+-------------------------------+----------------------+----------------------+\n",
      "                                                                               \n",
      "+-----------------------------------------------------------------------------+\n",
      "| Processes:                                                                  |\n",
      "|  GPU   GI   CI        PID   Type   Process name                  GPU Memory |\n",
      "|        ID   ID                                                   Usage      |\n",
      "|=============================================================================|\n",
      "|  No running processes found                                                 |\n",
      "+-----------------------------------------------------------------------------+\n"
     ]
    }
   ],
   "source": [
    "!nvidia-smi"
   ]
  },
  {
   "cell_type": "code",
   "execution_count": 19,
   "id": "legislative-indianapolis",
   "metadata": {},
   "outputs": [],
   "source": [
    "from keras.applications.vgg16 import VGG16\n",
    "\n",
    "vgg16_model1 = VGG16(include_top=False, weights='imagenet', input_shape=(256,256, 3))\n",
    "vgg16_model1.trainable = False\n",
    "vgg16_model2 = VGG16(include_top=False, weights='imagenet', input_shape=(256,256, 3))\n",
    "vgg16_model2.trainable = False"
   ]
  },
  {
   "cell_type": "code",
   "execution_count": 31,
   "id": "occupied-canadian",
   "metadata": {},
   "outputs": [
    {
     "name": "stdout",
     "output_type": "stream",
     "text": [
      "(None, 256, 256, 3)\n",
      "(None, 256, 256, 3)\n",
      "(None, 8, 8, 512)\n",
      "(None, 8, 8, 512)\n",
      "Model: \"functional_5\"\n",
      "_________________________________________________________________\n",
      "Layer (type)                 Output Shape              Param #   \n",
      "=================================================================\n",
      "input_5 (InputLayer)         [(None, 256, 256, 3)]     0         \n",
      "_________________________________________________________________\n",
      "lambda_2 (Lambda)            (None, 256, 256, 3)       0         \n",
      "_________________________________________________________________\n",
      "sequential_2 (Sequential)    (None, 8, 8, 512)         14714688  \n",
      "_________________________________________________________________\n",
      "dense_8 (Dense)              (None, 8, 8, 512)         262656    \n",
      "_________________________________________________________________\n",
      "leaky_re_lu_13 (LeakyReLU)   (None, 8, 8, 512)         0         \n",
      "_________________________________________________________________\n",
      "dropout_6 (Dropout)          (None, 8, 8, 512)         0         \n",
      "_________________________________________________________________\n",
      "batch_normalization_6 (Batch (None, 8, 8, 512)         2048      \n",
      "_________________________________________________________________\n",
      "dense_9 (Dense)              (None, 8, 8, 256)         131328    \n",
      "_________________________________________________________________\n",
      "leaky_re_lu_15 (LeakyReLU)   (None, 8, 8, 256)         0         \n",
      "_________________________________________________________________\n",
      "dropout_7 (Dropout)          (None, 8, 8, 256)         0         \n",
      "_________________________________________________________________\n",
      "batch_normalization_7 (Batch (None, 8, 8, 256)         1024      \n",
      "_________________________________________________________________\n",
      "dense_10 (Dense)             (None, 8, 8, 128)         32896     \n",
      "_________________________________________________________________\n",
      "leaky_re_lu_17 (LeakyReLU)   (None, 8, 8, 128)         0         \n",
      "_________________________________________________________________\n",
      "dropout_8 (Dropout)          (None, 8, 8, 128)         0         \n",
      "_________________________________________________________________\n",
      "batch_normalization_8 (Batch (None, 8, 8, 128)         512       \n",
      "_________________________________________________________________\n",
      "flatten_2 (Flatten)          (None, 8192)              0         \n",
      "_________________________________________________________________\n",
      "dense_11 (Dense)             (None, 1)                 8193      \n",
      "=================================================================\n",
      "Total params: 15,153,345\n",
      "Trainable params: 436,865\n",
      "Non-trainable params: 14,716,480\n",
      "_________________________________________________________________\n"
     ]
    }
   ],
   "source": [
    "from keras.layers import Dense, Concatenate, Input, Lambda, Flatten, Softmax, BatchNormalization, Dropout\n",
    "from keras.models import Model, Sequential\n",
    "from keras.layers.advanced_activations import LeakyReLU\n",
    "\n",
    "input_matrix = Input(shape=(256,256,3))   # 6\n",
    "\n",
    "branch_outputs = []\n",
    "\n",
    "# loop for however many branches you want to use.  (each branch needs 3 channel depth)\n",
    "for i in [0]:\n",
    "    # create looping so that vgg16 model input is created ie 256,256,3\n",
    "    print(input_matrix.shape)\n",
    "    out = Lambda(lambda x: x[:,:,:,i:i+3])(input_matrix)\n",
    "    print(out.shape)\n",
    "    \n",
    "    # Setting up your layers in each branch: (currently each branch is identical architecture.)\n",
    "    if i == 0: out = Sequential(vgg16_model1)(out)   # use pretrained and loaded vgg16\n",
    "    elif i == 3: out = Sequential(vgg16_model2)(out)\n",
    "    else: out = Sequential(vgg16_model3)(out)   # use pretrained and loaded vgg16\n",
    "    print(out.shape)\n",
    "#    branch_outputs.append(out)\n",
    "#mergedOut = Concatenate()(branch_outputs)\n",
    "mergedOut = out\n",
    "print(mergedOut.shape)\n",
    "mergedOut = Dense(512, activation=LeakyReLU(alpha = 0.1))(mergedOut)\n",
    "mergedOut = LeakyReLU(alpha = 0.4)(mergedOut)\n",
    "mergedOut = Dropout(.5)(mergedOut)\n",
    "mergedOut = BatchNormalization()(mergedOut)\n",
    "\n",
    "mergedOut = Dense(256, activation=LeakyReLU(alpha = 0.1))(mergedOut)\n",
    "mergedOut = LeakyReLU(alpha = 0.1)(mergedOut)\n",
    "mergedOut = Dropout(.1)(mergedOut)\n",
    "mergedOut = BatchNormalization()(mergedOut)\n",
    "\n",
    "mergedOut = Dense(128, activation=LeakyReLU(alpha = 0.1))(mergedOut)\n",
    "mergedOut = LeakyReLU(alpha = 0.1)(mergedOut)\n",
    "mergedOut = Dropout(.1)(mergedOut)\n",
    "mergedOut = BatchNormalization()(mergedOut)\n",
    "\n",
    "mergedOut = Flatten()(mergedOut)\n",
    "mergedOut = Dense(1, activation = 'sigmoid')(mergedOut)\n",
    "\n",
    "rgb_model_vgg16 = Model(inputs=input_matrix, outputs=mergedOut)   \n",
    "\n",
    "\n",
    "opt = keras.optimizers.Adam(learning_rate=0.05)\n",
    "\n",
    "rgb_model_vgg16.compile(optimizer=opt,\n",
    "              loss=tf.keras.losses.BinaryCrossentropy(),\n",
    "              metrics=['accuracy'])\n",
    "\n",
    "rgb_model_vgg16.summary()"
   ]
  },
  {
   "cell_type": "code",
   "execution_count": 32,
   "id": "proprietary-debut",
   "metadata": {
    "tags": []
   },
   "outputs": [],
   "source": [
    "opt = keras.optimizers.Adam(learning_rate=0.05)\n",
    "\n",
    "my_callbacks = [\n",
    "    tf.keras.callbacks.EarlyStopping(patience=2),\n",
    "    tf.keras.callbacks.ModelCheckpoint(filepath='model.{epoch:02d}-{val_loss:.2f}.h5'),\n",
    "    tf.keras.callbacks.TensorBoard(log_dir='./logs'),\n",
    "]"
   ]
  },
  {
   "cell_type": "code",
   "execution_count": 33,
   "id": "executed-fleece",
   "metadata": {},
   "outputs": [],
   "source": [
    "checkpoint_filepath = '/data/model_checkpoints/3chan_custom_89/custom_model.{epoch:02d}-{val_loss:.2f}.h5'\n",
    "model_checkpoint_callback = tf.keras.callbacks.ModelCheckpoint(\n",
    "    filepath=checkpoint_filepath,\n",
    "    save_weights_only=True,\n",
    "    monitor='val_accuracy',\n",
    "    mode='max',\n",
    "    save_best_only=True)"
   ]
  },
  {
   "cell_type": "code",
   "execution_count": 34,
   "id": "floral-strategy",
   "metadata": {},
   "outputs": [
    {
     "name": "stdout",
     "output_type": "stream",
     "text": [
      "Epoch 1/100\n",
      "2/2 [==============================] - 2s 914ms/step - loss: 1.0367 - accuracy: 0.5860 - val_loss: 396.8730 - val_accuracy: 0.2128\n",
      "Epoch 2/100\n",
      "2/2 [==============================] - 1s 506ms/step - loss: 46.8503 - accuracy: 0.3871 - val_loss: 3821.6716 - val_accuracy: 0.2128\n",
      "Epoch 3/100\n",
      "2/2 [==============================] - 1s 507ms/step - loss: 8.6917 - accuracy: 0.6828 - val_loss: 8556.6631 - val_accuracy: 0.2128\n",
      "Epoch 4/100\n",
      "2/2 [==============================] - 1s 505ms/step - loss: 4.7916 - accuracy: 0.8978 - val_loss: 13200.8887 - val_accuracy: 0.2128\n",
      "Epoch 5/100\n",
      "2/2 [==============================] - 1s 507ms/step - loss: 7.6025 - accuracy: 0.9086 - val_loss: 13267.3594 - val_accuracy: 0.2128\n",
      "Epoch 6/100\n",
      "2/2 [==============================] - 1s 506ms/step - loss: 5.8292 - accuracy: 0.8871 - val_loss: 11225.9453 - val_accuracy: 0.2128\n",
      "Epoch 7/100\n",
      "2/2 [==============================] - 1s 508ms/step - loss: 3.2714 - accuracy: 0.9194 - val_loss: 7513.1182 - val_accuracy: 0.2128\n",
      "Epoch 8/100\n",
      "2/2 [==============================] - 1s 503ms/step - loss: 1.8171 - accuracy: 0.9086 - val_loss: 4047.3210 - val_accuracy: 0.2128\n",
      "Epoch 9/100\n",
      "2/2 [==============================] - 1s 688ms/step - loss: 1.1712 - accuracy: 0.8871 - val_loss: 2173.1304 - val_accuracy: 0.2340\n",
      "Epoch 10/100\n",
      "2/2 [==============================] - 1s 507ms/step - loss: 0.6429 - accuracy: 0.9355 - val_loss: 1156.0469 - val_accuracy: 0.2340\n",
      "Epoch 11/100\n",
      "2/2 [==============================] - 1s 684ms/step - loss: 0.9998 - accuracy: 0.9247 - val_loss: 620.1054 - val_accuracy: 0.2766\n",
      "Epoch 12/100\n",
      "2/2 [==============================] - 1s 681ms/step - loss: 0.5788 - accuracy: 0.9194 - val_loss: 434.2179 - val_accuracy: 0.3830\n",
      "Epoch 13/100\n",
      "2/2 [==============================] - 1s 502ms/step - loss: 0.5670 - accuracy: 0.8602 - val_loss: 459.7036 - val_accuracy: 0.3617\n",
      "Epoch 14/100\n",
      "2/2 [==============================] - 1s 506ms/step - loss: 0.1284 - accuracy: 0.9624 - val_loss: 489.9838 - val_accuracy: 0.3617\n",
      "Epoch 15/100\n",
      "2/2 [==============================] - 1s 508ms/step - loss: 0.5696 - accuracy: 0.9409 - val_loss: 422.5292 - val_accuracy: 0.3830\n",
      "Epoch 16/100\n",
      "2/2 [==============================] - 1s 720ms/step - loss: 0.5900 - accuracy: 0.9516 - val_loss: 312.1573 - val_accuracy: 0.4468\n",
      "Epoch 17/100\n",
      "2/2 [==============================] - 1s 725ms/step - loss: 0.3724 - accuracy: 0.9570 - val_loss: 217.6949 - val_accuracy: 0.4894\n",
      "Epoch 18/100\n",
      "2/2 [==============================] - 1s 701ms/step - loss: 0.3772 - accuracy: 0.9032 - val_loss: 169.9953 - val_accuracy: 0.5106\n",
      "Epoch 19/100\n",
      "2/2 [==============================] - 1s 736ms/step - loss: 0.2304 - accuracy: 0.9355 - val_loss: 156.0938 - val_accuracy: 0.5532\n",
      "Epoch 20/100\n",
      "2/2 [==============================] - 1s 500ms/step - loss: 0.4456 - accuracy: 0.9570 - val_loss: 131.8061 - val_accuracy: 0.5532\n",
      "Epoch 21/100\n",
      "2/2 [==============================] - 1s 508ms/step - loss: 0.6277 - accuracy: 0.9462 - val_loss: 105.2178 - val_accuracy: 0.5532\n",
      "Epoch 22/100\n",
      "2/2 [==============================] - 1s 692ms/step - loss: 0.2023 - accuracy: 0.9677 - val_loss: 82.6646 - val_accuracy: 0.5957\n",
      "Epoch 23/100\n",
      "2/2 [==============================] - 1s 709ms/step - loss: 0.1900 - accuracy: 0.9677 - val_loss: 65.2891 - val_accuracy: 0.6170\n",
      "Epoch 24/100\n",
      "2/2 [==============================] - 1s 687ms/step - loss: 0.4762 - accuracy: 0.8387 - val_loss: 60.1899 - val_accuracy: 0.6383\n",
      "Epoch 25/100\n",
      "2/2 [==============================] - 1s 712ms/step - loss: 0.0729 - accuracy: 0.9731 - val_loss: 56.1305 - val_accuracy: 0.6596\n",
      "Epoch 26/100\n",
      "2/2 [==============================] - 1s 681ms/step - loss: 0.4429 - accuracy: 0.9624 - val_loss: 53.4747 - val_accuracy: 0.6809\n",
      "Epoch 27/100\n",
      "2/2 [==============================] - 1s 507ms/step - loss: 0.2711 - accuracy: 0.9624 - val_loss: 49.3139 - val_accuracy: 0.6809\n",
      "Epoch 28/100\n",
      "2/2 [==============================] - 1s 506ms/step - loss: 0.1960 - accuracy: 0.9731 - val_loss: 44.2910 - val_accuracy: 0.6596\n",
      "Epoch 29/100\n",
      "2/2 [==============================] - 1s 690ms/step - loss: 0.0692 - accuracy: 0.9731 - val_loss: 41.4104 - val_accuracy: 0.7234\n",
      "Epoch 30/100\n",
      "2/2 [==============================] - 1s 502ms/step - loss: 0.2004 - accuracy: 0.9247 - val_loss: 38.0725 - val_accuracy: 0.7234\n",
      "Epoch 31/100\n",
      "2/2 [==============================] - 1s 509ms/step - loss: 0.1386 - accuracy: 0.9462 - val_loss: 36.4385 - val_accuracy: 0.6809\n",
      "Epoch 32/100\n",
      "2/2 [==============================] - 1s 686ms/step - loss: 0.2530 - accuracy: 0.9677 - val_loss: 34.0224 - val_accuracy: 0.7447\n",
      "Epoch 33/100\n",
      "2/2 [==============================] - 1s 507ms/step - loss: 0.1512 - accuracy: 0.9785 - val_loss: 34.3733 - val_accuracy: 0.7447\n",
      "Epoch 34/100\n",
      "2/2 [==============================] - 1s 503ms/step - loss: 0.1145 - accuracy: 0.9731 - val_loss: 36.4884 - val_accuracy: 0.7447\n",
      "Epoch 35/100\n",
      "2/2 [==============================] - 1s 507ms/step - loss: 0.0408 - accuracy: 0.9892 - val_loss: 38.8626 - val_accuracy: 0.7447\n",
      "Epoch 36/100\n",
      "2/2 [==============================] - 1s 502ms/step - loss: 0.0739 - accuracy: 0.9731 - val_loss: 38.2387 - val_accuracy: 0.7234\n",
      "Epoch 37/100\n",
      "2/2 [==============================] - 1s 506ms/step - loss: 0.0917 - accuracy: 0.9570 - val_loss: 36.7014 - val_accuracy: 0.7234\n",
      "Epoch 38/100\n",
      "2/2 [==============================] - 1s 506ms/step - loss: 0.0161 - accuracy: 0.9946 - val_loss: 34.4582 - val_accuracy: 0.7234\n",
      "Epoch 39/100\n",
      "2/2 [==============================] - 1s 502ms/step - loss: 0.0563 - accuracy: 0.9839 - val_loss: 32.5246 - val_accuracy: 0.7234\n",
      "Epoch 40/100\n",
      "2/2 [==============================] - 1s 509ms/step - loss: 0.0550 - accuracy: 0.9839 - val_loss: 31.0562 - val_accuracy: 0.7234\n",
      "Epoch 41/100\n",
      "2/2 [==============================] - 1s 501ms/step - loss: 0.0908 - accuracy: 0.9785 - val_loss: 29.5975 - val_accuracy: 0.7447\n",
      "Epoch 42/100\n",
      "2/2 [==============================] - 1s 507ms/step - loss: 0.0957 - accuracy: 0.9731 - val_loss: 28.3665 - val_accuracy: 0.7447\n",
      "Epoch 43/100\n",
      "2/2 [==============================] - 1s 503ms/step - loss: 0.0719 - accuracy: 0.9785 - val_loss: 27.0636 - val_accuracy: 0.7447\n",
      "Epoch 44/100\n",
      "2/2 [==============================] - 1s 504ms/step - loss: 0.0927 - accuracy: 0.9731 - val_loss: 25.9982 - val_accuracy: 0.7447\n",
      "Epoch 45/100\n",
      "2/2 [==============================] - 1s 501ms/step - loss: 0.0410 - accuracy: 0.9785 - val_loss: 25.0662 - val_accuracy: 0.7447\n",
      "Epoch 46/100\n",
      "2/2 [==============================] - 1s 508ms/step - loss: 0.0152 - accuracy: 0.9946 - val_loss: 24.1945 - val_accuracy: 0.7234\n",
      "Epoch 47/100\n",
      "2/2 [==============================] - 1s 505ms/step - loss: 0.0172 - accuracy: 0.9946 - val_loss: 23.4472 - val_accuracy: 0.7234\n",
      "Epoch 48/100\n",
      "2/2 [==============================] - 1s 504ms/step - loss: 0.0837 - accuracy: 0.9785 - val_loss: 22.9797 - val_accuracy: 0.7234\n",
      "Epoch 49/100\n",
      "2/2 [==============================] - 1s 501ms/step - loss: 0.0308 - accuracy: 0.9892 - val_loss: 22.6093 - val_accuracy: 0.7234\n",
      "Epoch 50/100\n",
      "2/2 [==============================] - 1s 501ms/step - loss: 0.0157 - accuracy: 0.9946 - val_loss: 22.1901 - val_accuracy: 0.7234\n",
      "Epoch 51/100\n",
      "2/2 [==============================] - 1s 503ms/step - loss: 0.0159 - accuracy: 0.9946 - val_loss: 21.6935 - val_accuracy: 0.7447\n",
      "Epoch 52/100\n",
      "2/2 [==============================] - 1s 502ms/step - loss: 0.0298 - accuracy: 0.9839 - val_loss: 21.1253 - val_accuracy: 0.7234\n",
      "Epoch 53/100\n",
      "2/2 [==============================] - 1s 501ms/step - loss: 0.0346 - accuracy: 0.9892 - val_loss: 20.4762 - val_accuracy: 0.7234\n",
      "Epoch 54/100\n",
      "2/2 [==============================] - 1s 503ms/step - loss: 0.0176 - accuracy: 0.9892 - val_loss: 19.8562 - val_accuracy: 0.7234\n",
      "Epoch 55/100\n",
      "2/2 [==============================] - 1s 507ms/step - loss: 0.0485 - accuracy: 0.9839 - val_loss: 19.1387 - val_accuracy: 0.7447\n",
      "Epoch 56/100\n",
      "2/2 [==============================] - 1s 506ms/step - loss: 0.1118 - accuracy: 0.9839 - val_loss: 18.3594 - val_accuracy: 0.7447\n",
      "Epoch 57/100\n",
      "2/2 [==============================] - 1s 503ms/step - loss: 0.0305 - accuracy: 0.9946 - val_loss: 17.9853 - val_accuracy: 0.7234\n",
      "Epoch 58/100\n",
      "2/2 [==============================] - 1s 503ms/step - loss: 0.0443 - accuracy: 0.9892 - val_loss: 18.2933 - val_accuracy: 0.7234\n",
      "Epoch 59/100\n",
      "2/2 [==============================] - 1s 501ms/step - loss: 0.0071 - accuracy: 1.0000 - val_loss: 18.4487 - val_accuracy: 0.7234\n",
      "Epoch 60/100\n",
      "2/2 [==============================] - 1s 504ms/step - loss: 0.0137 - accuracy: 0.9946 - val_loss: 18.5481 - val_accuracy: 0.7234\n",
      "Epoch 61/100\n",
      "2/2 [==============================] - 1s 501ms/step - loss: 0.1158 - accuracy: 0.9785 - val_loss: 18.4358 - val_accuracy: 0.7234\n",
      "Epoch 62/100\n",
      "2/2 [==============================] - 1s 501ms/step - loss: 0.0294 - accuracy: 0.9892 - val_loss: 18.1050 - val_accuracy: 0.7021\n",
      "Epoch 63/100\n",
      "2/2 [==============================] - 1s 504ms/step - loss: 0.0702 - accuracy: 0.9785 - val_loss: 17.7138 - val_accuracy: 0.7021\n",
      "Epoch 64/100\n",
      "2/2 [==============================] - 1s 507ms/step - loss: 0.0336 - accuracy: 0.9839 - val_loss: 17.2317 - val_accuracy: 0.7021\n",
      "Epoch 65/100\n",
      "2/2 [==============================] - 1s 507ms/step - loss: 0.0114 - accuracy: 0.9946 - val_loss: 16.7197 - val_accuracy: 0.7021\n",
      "Epoch 66/100\n",
      "2/2 [==============================] - 1s 499ms/step - loss: 0.0490 - accuracy: 0.9785 - val_loss: 16.3063 - val_accuracy: 0.7021\n",
      "Epoch 67/100\n",
      "2/2 [==============================] - 1s 500ms/step - loss: 0.0105 - accuracy: 0.9946 - val_loss: 15.9415 - val_accuracy: 0.7021\n",
      "Epoch 68/100\n",
      "2/2 [==============================] - 1s 499ms/step - loss: 0.0237 - accuracy: 0.9892 - val_loss: 15.7156 - val_accuracy: 0.7021\n",
      "Epoch 69/100\n",
      "2/2 [==============================] - 1s 506ms/step - loss: 0.0475 - accuracy: 0.9839 - val_loss: 15.5139 - val_accuracy: 0.7021\n",
      "Epoch 70/100\n",
      "2/2 [==============================] - 1s 504ms/step - loss: 0.0210 - accuracy: 0.9892 - val_loss: 15.4327 - val_accuracy: 0.7447\n",
      "Epoch 71/100\n",
      "2/2 [==============================] - 1s 504ms/step - loss: 0.0329 - accuracy: 0.9892 - val_loss: 15.5667 - val_accuracy: 0.7234\n",
      "Epoch 72/100\n",
      "2/2 [==============================] - 1s 504ms/step - loss: 0.2391 - accuracy: 0.9839 - val_loss: 15.4698 - val_accuracy: 0.7447\n",
      "Epoch 73/100\n",
      "2/2 [==============================] - 1s 695ms/step - loss: 0.0861 - accuracy: 0.9892 - val_loss: 15.1886 - val_accuracy: 0.7872\n",
      "Epoch 74/100\n",
      "2/2 [==============================] - 1s 502ms/step - loss: 0.0051 - accuracy: 1.0000 - val_loss: 15.3484 - val_accuracy: 0.7447\n",
      "Epoch 75/100\n",
      "2/2 [==============================] - 1s 503ms/step - loss: 0.0678 - accuracy: 0.9946 - val_loss: 15.9430 - val_accuracy: 0.7234\n",
      "Epoch 76/100\n",
      "2/2 [==============================] - 1s 505ms/step - loss: 0.1284 - accuracy: 0.9785 - val_loss: 15.9780 - val_accuracy: 0.7234\n",
      "Epoch 77/100\n",
      "2/2 [==============================] - 1s 498ms/step - loss: 0.1220 - accuracy: 0.9839 - val_loss: 18.2566 - val_accuracy: 0.6809\n",
      "Epoch 78/100\n",
      "2/2 [==============================] - 1s 500ms/step - loss: 0.0863 - accuracy: 0.9892 - val_loss: 20.2177 - val_accuracy: 0.6596\n",
      "Epoch 79/100\n",
      "2/2 [==============================] - 1s 502ms/step - loss: 0.1291 - accuracy: 0.9839 - val_loss: 20.6941 - val_accuracy: 0.6596\n",
      "Epoch 80/100\n",
      "2/2 [==============================] - 1s 502ms/step - loss: 0.0795 - accuracy: 0.9839 - val_loss: 20.5027 - val_accuracy: 0.6809\n",
      "Epoch 81/100\n",
      "2/2 [==============================] - 1s 504ms/step - loss: 0.0122 - accuracy: 0.9892 - val_loss: 19.9779 - val_accuracy: 0.6809\n",
      "Epoch 82/100\n",
      "2/2 [==============================] - 1s 502ms/step - loss: 0.0370 - accuracy: 0.9892 - val_loss: 19.6216 - val_accuracy: 0.6809\n",
      "Epoch 83/100\n",
      "2/2 [==============================] - 1s 498ms/step - loss: 0.0200 - accuracy: 0.9892 - val_loss: 19.7193 - val_accuracy: 0.6596\n",
      "Epoch 84/100\n",
      "2/2 [==============================] - 1s 501ms/step - loss: 0.0567 - accuracy: 0.9785 - val_loss: 19.8148 - val_accuracy: 0.6596\n",
      "Epoch 85/100\n",
      "2/2 [==============================] - 1s 503ms/step - loss: 9.6273e-04 - accuracy: 1.0000 - val_loss: 19.9995 - val_accuracy: 0.6596\n",
      "Epoch 86/100\n",
      "2/2 [==============================] - 1s 503ms/step - loss: 0.2358 - accuracy: 0.9785 - val_loss: 18.6631 - val_accuracy: 0.6596\n",
      "Epoch 87/100\n",
      "2/2 [==============================] - 1s 504ms/step - loss: 0.0184 - accuracy: 0.9892 - val_loss: 17.1617 - val_accuracy: 0.6596\n",
      "Epoch 88/100\n",
      "2/2 [==============================] - 1s 499ms/step - loss: 0.0153 - accuracy: 0.9892 - val_loss: 15.9193 - val_accuracy: 0.6596\n",
      "Epoch 89/100\n",
      "2/2 [==============================] - 1s 502ms/step - loss: 0.0057 - accuracy: 1.0000 - val_loss: 14.8295 - val_accuracy: 0.6809\n",
      "Epoch 90/100\n",
      "2/2 [==============================] - 1s 505ms/step - loss: 0.0818 - accuracy: 0.9731 - val_loss: 13.6816 - val_accuracy: 0.7234\n",
      "Epoch 91/100\n",
      "2/2 [==============================] - 1s 502ms/step - loss: 3.8718e-04 - accuracy: 1.0000 - val_loss: 13.1179 - val_accuracy: 0.7660\n",
      "Epoch 92/100\n",
      "2/2 [==============================] - 1s 501ms/step - loss: 0.0463 - accuracy: 0.9946 - val_loss: 12.8488 - val_accuracy: 0.7660\n",
      "Epoch 93/100\n",
      "2/2 [==============================] - 1s 501ms/step - loss: 0.0261 - accuracy: 0.9892 - val_loss: 12.7492 - val_accuracy: 0.7447\n",
      "Epoch 94/100\n",
      "2/2 [==============================] - 1s 507ms/step - loss: 0.0372 - accuracy: 0.9839 - val_loss: 12.4821 - val_accuracy: 0.7660\n",
      "Epoch 95/100\n",
      "2/2 [==============================] - 1s 497ms/step - loss: 0.0746 - accuracy: 0.9785 - val_loss: 12.1590 - val_accuracy: 0.7447\n",
      "Epoch 96/100\n",
      "2/2 [==============================] - 1s 503ms/step - loss: 0.0188 - accuracy: 0.9946 - val_loss: 11.7813 - val_accuracy: 0.7660\n",
      "Epoch 97/100\n",
      "2/2 [==============================] - 1s 502ms/step - loss: 0.0044 - accuracy: 1.0000 - val_loss: 11.5827 - val_accuracy: 0.7660\n",
      "Epoch 98/100\n",
      "2/2 [==============================] - 1s 495ms/step - loss: 0.0093 - accuracy: 0.9946 - val_loss: 11.5573 - val_accuracy: 0.7660\n",
      "Epoch 99/100\n",
      "2/2 [==============================] - 1s 496ms/step - loss: 0.0048 - accuracy: 1.0000 - val_loss: 11.6301 - val_accuracy: 0.7660\n",
      "Epoch 100/100\n",
      "2/2 [==============================] - 1s 502ms/step - loss: 0.0257 - accuracy: 0.9946 - val_loss: 12.1708 - val_accuracy: 0.7447\n",
      "Train time: 222.93345832824707\n"
     ]
    }
   ],
   "source": [
    "t0 = time.time()\n",
    "history_callback = rgb_model_vgg16.fit(arr_train_X, arr_train_y, epochs=100, \n",
    "                                       batch_size=128, validation_split = 0.2, \n",
    "                                       workers=4, use_multiprocessing=True,\n",
    "                                       callbacks = [model_checkpoint_callback])\n",
    "print(\"Train time:\", time.time()-t0)"
   ]
  },
  {
   "cell_type": "code",
   "execution_count": 37,
   "id": "professional-trainer",
   "metadata": {},
   "outputs": [],
   "source": [
    "run1 = history_callback.history\n",
    "#run1\n"
   ]
  },
  {
   "cell_type": "code",
   "execution_count": 38,
   "id": "flying-donor",
   "metadata": {},
   "outputs": [
    {
     "data": {
      "image/png": "[encoded data removed]",
      "text/plain": [
       "<Figure size 432x288 with 1 Axes>"
      ]
     },
     "metadata": {
      "needs_background": "light"
     },
     "output_type": "display_data"
    }
   ],
   "source": [
    "train_loss = run1['loss']\n",
    "val_loss = run1['val_loss']\n",
    "x = np.arange(len(train_loss))\n",
    "fig = plt.figure()\n",
    "ax = plt.subplot(111)\n",
    "ax.plot(x, train_loss, label='train_loss')\n",
    "ax.plot(x, val_loss, label='val_loss')\n",
    "ax.set_ylim(0, 3) \n",
    "plt.title('Loss Plot // 3chan set hi')\n",
    "ax.legend()\n",
    "plt.show()"
   ]
  },
  {
   "cell_type": "code",
   "execution_count": 30,
   "id": "gross-flush",
   "metadata": {},
   "outputs": [
    {
     "data": {
      "image/png": "[encoded data removed]",
      "text/plain": [
       "<Figure size 432x288 with 1 Axes>"
      ]
     },
     "metadata": {
      "needs_background": "light"
     },
     "output_type": "display_data"
    }
   ],
   "source": [
    "train_accuracy = run1['accuracy']\n",
    "val_accuracy = run1['val_accuracy']\n",
    "x = np.arange(len(train_accuracy))\n",
    "fig = plt.figure()\n",
    "ax = plt.subplot(111)\n",
    "ax.plot(x, train_accuracy, label='train_accuracy')\n",
    "ax.plot(x, val_accuracy, label='val_accuracy')\n",
    "ax.set_ylim(0.5, 1) \n",
    "plt.title('Accuracy Plot // 3chan set hi')\n",
    "ax.legend()\n",
    "plt.show()"
   ]
  },
  {
   "cell_type": "code",
   "execution_count": 39,
   "id": "facial-moldova",
   "metadata": {},
   "outputs": [
    {
     "data": {
      "text/plain": [
       "0.1759656652360515"
      ]
     },
     "execution_count": 39,
     "metadata": {},
     "output_type": "execute_result"
    }
   ],
   "source": [
    "np.mean(arr_train_y)"
   ]
  },
  {
   "cell_type": "code",
   "execution_count": 40,
   "id": "solar-truth",
   "metadata": {},
   "outputs": [
    {
     "data": {
      "text/plain": [
       "0.2631578947368421"
      ]
     },
     "execution_count": 40,
     "metadata": {},
     "output_type": "execute_result"
    }
   ],
   "source": [
    "np.mean(arr_test_y)"
   ]
  },
  {
   "cell_type": "code",
   "execution_count": 128,
   "id": "productive-preliminary",
   "metadata": {
    "tags": []
   },
   "outputs": [],
   "source": [
    "#reload best model\n",
    "from keras.models import load_model\n",
    "\n",
    "#best_model = rgb_model_vgg16.load_weights('/data/model_checkpoints/rgb_hi/rgb_model.20-0.86.h5')"
   ]
  },
  {
   "cell_type": "code",
   "execution_count": 130,
   "id": "essential-image",
   "metadata": {
    "tags": []
   },
   "outputs": [
    {
     "name": "stdout",
     "output_type": "stream",
     "text": [
      "[[0.00269239]\n",
      " [0.15623577]\n",
      " [0.9092191 ]\n",
      " [0.1342518 ]\n",
      " [0.8967185 ]\n",
      " [0.02642691]\n",
      " [0.8243987 ]\n",
      " [0.34813178]]\n"
     ]
    }
   ],
   "source": [
    "test_preds = rgb_model_vgg16.predict(arr_test_X, batch_size = 128)\n",
    "print(test_preds[:8])"
   ]
  },
  {
   "cell_type": "code",
   "execution_count": 131,
   "id": "separated-blake",
   "metadata": {},
   "outputs": [
    {
     "data": {
      "text/plain": [
       "array([[0.],\n",
       "       [0.],\n",
       "       [1.],\n",
       "       [0.],\n",
       "       [1.],\n",
       "       [0.],\n",
       "       [1.],\n",
       "       [0.]], dtype=float32)"
      ]
     },
     "execution_count": 131,
     "metadata": {},
     "output_type": "execute_result"
    }
   ],
   "source": [
    "#print(len(rounded_preds))\n",
    "rounded_preds = np.round(test_preds)\n",
    "rounded_preds[:8]"
   ]
  },
  {
   "cell_type": "code",
   "execution_count": 132,
   "id": "joined-color",
   "metadata": {},
   "outputs": [
    {
     "name": "stdout",
     "output_type": "stream",
     "text": [
      "da_number            object\n",
      "predicted             int64\n",
      "cwa_determination     int64\n",
      "dtype: object\n"
     ]
    },
    {
     "data": {
      "text/html": [
       "<div>\n",
       "<style scoped>\n",
       "    .dataframe tbody tr th:only-of-type {\n",
       "        vertical-align: middle;\n",
       "    }\n",
       "\n",
       "    .dataframe tbody tr th {\n",
       "        vertical-align: top;\n",
       "    }\n",
       "\n",
       "    .dataframe thead th {\n",
       "        text-align: right;\n",
       "    }\n",
       "</style>\n",
       "<table border=\"1\" class=\"dataframe\">\n",
       "  <thead>\n",
       "    <tr style=\"text-align: right;\">\n",
       "      <th></th>\n",
       "      <th>da_number</th>\n",
       "      <th>predicted</th>\n",
       "      <th>cwa_determination</th>\n",
       "    </tr>\n",
       "  </thead>\n",
       "  <tbody>\n",
       "    <tr>\n",
       "      <th>0</th>\n",
       "      <td>SAC-2016-00908</td>\n",
       "      <td>0</td>\n",
       "      <td>0</td>\n",
       "    </tr>\n",
       "    <tr>\n",
       "      <th>1</th>\n",
       "      <td>SAC-2017-01339</td>\n",
       "      <td>0</td>\n",
       "      <td>1</td>\n",
       "    </tr>\n",
       "    <tr>\n",
       "      <th>2</th>\n",
       "      <td>SAW-2016-01660</td>\n",
       "      <td>1</td>\n",
       "      <td>1</td>\n",
       "    </tr>\n",
       "    <tr>\n",
       "      <th>3</th>\n",
       "      <td>SAC-2018-01914</td>\n",
       "      <td>0</td>\n",
       "      <td>0</td>\n",
       "    </tr>\n",
       "    <tr>\n",
       "      <th>4</th>\n",
       "      <td>SAC-2018-00384</td>\n",
       "      <td>1</td>\n",
       "      <td>1</td>\n",
       "    </tr>\n",
       "    <tr>\n",
       "      <th>5</th>\n",
       "      <td>SAC-2006-00738</td>\n",
       "      <td>0</td>\n",
       "      <td>0</td>\n",
       "    </tr>\n",
       "    <tr>\n",
       "      <th>6</th>\n",
       "      <td>SAC-2017-00682</td>\n",
       "      <td>1</td>\n",
       "      <td>1</td>\n",
       "    </tr>\n",
       "    <tr>\n",
       "      <th>7</th>\n",
       "      <td>SAC-2017-00844</td>\n",
       "      <td>0</td>\n",
       "      <td>0</td>\n",
       "    </tr>\n",
       "    <tr>\n",
       "      <th>8</th>\n",
       "      <td>SAC-2018-00348</td>\n",
       "      <td>0</td>\n",
       "      <td>0</td>\n",
       "    </tr>\n",
       "    <tr>\n",
       "      <th>9</th>\n",
       "      <td>SAW-2009-00380</td>\n",
       "      <td>1</td>\n",
       "      <td>1</td>\n",
       "    </tr>\n",
       "  </tbody>\n",
       "</table>\n",
       "</div>"
      ],
      "text/plain": [
       "        da_number  predicted  cwa_determination\n",
       "0  SAC-2016-00908          0                  0\n",
       "1  SAC-2017-01339          0                  1\n",
       "2  SAW-2016-01660          1                  1\n",
       "3  SAC-2018-01914          0                  0\n",
       "4  SAC-2018-00384          1                  1\n",
       "5  SAC-2006-00738          0                  0\n",
       "6  SAC-2017-00682          1                  1\n",
       "7  SAC-2017-00844          0                  0\n",
       "8  SAC-2018-00348          0                  0\n",
       "9  SAW-2009-00380          1                  1"
      ]
     },
     "metadata": {},
     "output_type": "display_data"
    },
    {
     "name": "stdout",
     "output_type": "stream",
     "text": [
      "false_neg: 123\n",
      "false_pos: 268\n",
      "true_pos: 480\n",
      "true_neg: 457\n"
     ]
    }
   ],
   "source": [
    "da_n = [x.name[:-4] for x in test_X]\n",
    "df_pred = pd.DataFrame({'da_number' : da_n, 'predicted' : list(rounded_preds), 'cwa_determination' : test_y})\n",
    "df_pred.predicted = df_pred.predicted.apply(int)\n",
    "print(df_pred.dtypes)\n",
    "display(df_pred.head(10))\n",
    "df_pred.to_csv('/data/model_checkpoints/3chan_custom_89/custom_model_preds_hi.csv')\n",
    "df_pred[(df_pred.predicted == 0)&(df_pred.cwa_determination == 1)]\n",
    "false_neg = df_pred[(df_pred.predicted == 0)&(df_pred.cwa_determination == 1)].shape[0]\n",
    "false_pos = df_pred[(df_pred.predicted == 1)&(df_pred.cwa_determination == 0)].shape[0]\n",
    "true_pos = df_pred[(df_pred.predicted == 1)&(df_pred.cwa_determination == 1)].shape[0]\n",
    "true_neg = df_pred[(df_pred.predicted == 0)&(df_pred.cwa_determination == 0)].shape[0]\n",
    "print('false_neg:', false_neg)\n",
    "print('false_pos:', false_pos)\n",
    "print('true_pos:', true_pos)\n",
    "print('true_neg:', true_neg)"
   ]
  },
  {
   "cell_type": "code",
   "execution_count": null,
   "id": "square-trader",
   "metadata": {},
   "outputs": [],
   "source": []
  }
 ],
 "metadata": {
  "kernelspec": {
   "display_name": "Python 3",
   "language": "python",
   "name": "python3"
  },
  "language_info": {
   "codemirror_mode": {
    "name": "ipython",
    "version": 3
   },
   "file_extension": ".py",
   "mimetype": "text/x-python",
   "name": "python",
   "nbconvert_exporter": "python",
   "pygments_lexer": "ipython3",
   "version": "3.6.9"
  }
 },
 "nbformat": 4,
 "nbformat_minor": 5
}
