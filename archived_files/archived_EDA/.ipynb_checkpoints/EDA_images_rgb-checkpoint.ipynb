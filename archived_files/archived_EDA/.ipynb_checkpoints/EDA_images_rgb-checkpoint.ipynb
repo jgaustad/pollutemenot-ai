{
 "cells": [
  {
   "cell_type": "code",
   "execution_count": 1,
   "id": "interim-affairs",
   "metadata": {},
   "outputs": [
    {
     "name": "stdout",
     "output_type": "stream",
     "text": [
      "2.3.0 tf\n",
      "2.4.3 keras\n"
     ]
    }
   ],
   "source": [
    "### Init network Build\n",
    "import numpy as np\n",
    "import re\n",
    "from pathlib import Path\n",
    "from PIL import Image, ImageEnhance\n",
    "import matplotlib.pyplot as plt\n",
    "from matplotlib.pyplot import imshow\n",
    "from IPython.display import display\n",
    "import pandas as pd\n",
    "from osgeo import gdal\n",
    "import keras\n",
    "import time\n",
    "import tensorflow as tf\n",
    "print(tf.__version__, 'tf')\n",
    "print(keras.__version__, 'keras')\n"
   ]
  },
  {
   "cell_type": "code",
   "execution_count": 2,
   "id": "dietary-rescue",
   "metadata": {},
   "outputs": [],
   "source": [
    "#from tensorflow.python.client import device_lib\n",
    "#print(device_lib.list_local_devices())"
   ]
  },
  {
   "cell_type": "code",
   "execution_count": 3,
   "id": "medical-apartment",
   "metadata": {},
   "outputs": [
    {
     "name": "stdout",
     "output_type": "stream",
     "text": [
      "6596\n"
     ]
    }
   ],
   "source": [
    "# define the directory where the downloaded TIF images are\n",
    "dl_dir = '/data/rgb_raw1/'\n",
    "tif_list = [f for f in Path(dl_dir).iterdir() if '.tif' in str(f)]\n",
    "print(len(tif_list))"
   ]
  },
  {
   "cell_type": "code",
   "execution_count": 4,
   "id": "local-distance",
   "metadata": {
    "tags": []
   },
   "outputs": [
    {
     "name": "stdout",
     "output_type": "stream",
     "text": [
      "dataframe shape: (6596, 5)\n",
      "seconds taken: 0.039087533950805664\n",
      "(6596, 7)\n"
     ]
    },
    {
     "data": {
      "text/html": [
       "<div>\n",
       "<style scoped>\n",
       "    .dataframe tbody tr th:only-of-type {\n",
       "        vertical-align: middle;\n",
       "    }\n",
       "\n",
       "    .dataframe tbody tr th {\n",
       "        vertical-align: top;\n",
       "    }\n",
       "\n",
       "    .dataframe thead th {\n",
       "        text-align: right;\n",
       "    }\n",
       "</style>\n",
       "<table border=\"1\" class=\"dataframe\">\n",
       "  <thead>\n",
       "    <tr style=\"text-align: right;\">\n",
       "      <th></th>\n",
       "      <th>img_res</th>\n",
       "      <th>img_type</th>\n",
       "      <th>img_index</th>\n",
       "      <th>da_num</th>\n",
       "      <th>img_path</th>\n",
       "      <th>da_number</th>\n",
       "      <th>cwa_determination</th>\n",
       "    </tr>\n",
       "  </thead>\n",
       "  <tbody>\n",
       "    <tr>\n",
       "      <th>0</th>\n",
       "      <td>hires</td>\n",
       "      <td>RGB</td>\n",
       "      <td>688</td>\n",
       "      <td>SAC-2016-01382</td>\n",
       "      <td>/data/rgb_raw1/Sample_Set_12345_hires_RGB_688_...</td>\n",
       "      <td>SAC-2016-01382</td>\n",
       "      <td>0</td>\n",
       "    </tr>\n",
       "    <tr>\n",
       "      <th>1</th>\n",
       "      <td>lores</td>\n",
       "      <td>RGB</td>\n",
       "      <td>1674</td>\n",
       "      <td>SAC-2019-01208</td>\n",
       "      <td>/data/rgb_raw1/Sample_Set_12345_lores_RGB_1674...</td>\n",
       "      <td>SAC-2019-01208</td>\n",
       "      <td>0</td>\n",
       "    </tr>\n",
       "    <tr>\n",
       "      <th>2</th>\n",
       "      <td>lores</td>\n",
       "      <td>RGB</td>\n",
       "      <td>147</td>\n",
       "      <td>SAC-2015-01563-4S</td>\n",
       "      <td>/data/rgb_raw1/Sample_Set_89_lores_RGB_147_SAC...</td>\n",
       "      <td>SAC-2015-01563-4S</td>\n",
       "      <td>0</td>\n",
       "    </tr>\n",
       "    <tr>\n",
       "      <th>3</th>\n",
       "      <td>lores</td>\n",
       "      <td>RGB</td>\n",
       "      <td>1449</td>\n",
       "      <td>SAC-2018-01812</td>\n",
       "      <td>/data/rgb_raw1/Sample_Set_12345_lores_RGB_1449...</td>\n",
       "      <td>SAC-2018-01812</td>\n",
       "      <td>0</td>\n",
       "    </tr>\n",
       "    <tr>\n",
       "      <th>4</th>\n",
       "      <td>lores</td>\n",
       "      <td>RGB</td>\n",
       "      <td>2341</td>\n",
       "      <td>SAC-2016-00877</td>\n",
       "      <td>/data/rgb_raw1/Sample_Set_12345_lores_RGB_2341...</td>\n",
       "      <td>SAC-2016-00877</td>\n",
       "      <td>1</td>\n",
       "    </tr>\n",
       "  </tbody>\n",
       "</table>\n",
       "</div>"
      ],
      "text/plain": [
       "  img_res img_type img_index             da_num  \\\n",
       "0   hires      RGB       688     SAC-2016-01382   \n",
       "1   lores      RGB      1674     SAC-2019-01208   \n",
       "2   lores      RGB       147  SAC-2015-01563-4S   \n",
       "3   lores      RGB      1449     SAC-2018-01812   \n",
       "4   lores      RGB      2341     SAC-2016-00877   \n",
       "\n",
       "                                            img_path          da_number  \\\n",
       "0  /data/rgb_raw1/Sample_Set_12345_hires_RGB_688_...     SAC-2016-01382   \n",
       "1  /data/rgb_raw1/Sample_Set_12345_lores_RGB_1674...     SAC-2019-01208   \n",
       "2  /data/rgb_raw1/Sample_Set_89_lores_RGB_147_SAC...  SAC-2015-01563-4S   \n",
       "3  /data/rgb_raw1/Sample_Set_12345_lores_RGB_1449...     SAC-2018-01812   \n",
       "4  /data/rgb_raw1/Sample_Set_12345_lores_RGB_2341...     SAC-2016-00877   \n",
       "\n",
       "   cwa_determination  \n",
       "0                  0  \n",
       "1                  0  \n",
       "2                  0  \n",
       "3                  0  \n",
       "4                  1  "
      ]
     },
     "execution_count": 4,
     "metadata": {},
     "output_type": "execute_result"
    }
   ],
   "source": [
    "#Run this cell to generate a lookup table for images and their file location\n",
    "def create_image_lookup(tiff_image_list):\n",
    "    \n",
    "    t0 = time.time()\n",
    "    list_rows = []\n",
    "    for v in tiff_image_list:\n",
    "        #print(v)\n",
    "        #nl = v.name.split('_')[3:7]\n",
    "        nll = re.split('_|-',str(v))\n",
    "        nl = nll[4:7]\n",
    "        #print(nl)\n",
    "        #print('-'.join(nll[7:-2]))\n",
    "        nl.append('-'.join(nll[7:-2])) # rejoin the da num and append da num\n",
    "        nl.append(v)\n",
    "        #print(nl)\n",
    "        list_rows.append(nl)\n",
    "        \n",
    "    columns = ['img_res', 'img_type', 'img_index', 'da_num', 'img_path']\n",
    "    df = pd.DataFrame(list_rows, columns = columns)\n",
    "    print('dataframe shape:', df.shape)\n",
    "    print('seconds taken:', time.time()-t0)\n",
    "    return df\n",
    "df = create_image_lookup(tif_list)\n",
    "#df.head()\n",
    "\n",
    "df_labels = pd.read_csv(\"Madhukar/Archived/Data_combined_regular_clean.csv\", encoding = \"ISO-8859-1\")\n",
    "df_labels = df_labels[['da_number', 'cwa_determination']]\n",
    "\n",
    "\n",
    "df_merged = pd.merge(df, df_labels, left_on = 'da_num', right_on = 'da_number', how = 'left')\n",
    "print(df_merged.shape)\n",
    "df_merged.head()"
   ]
  },
  {
   "cell_type": "code",
   "execution_count": 5,
   "id": "possible-publication",
   "metadata": {},
   "outputs": [
    {
     "name": "stdout",
     "output_type": "stream",
     "text": [
      "False    6596\n",
      "Name: cwa_determination, dtype: int64\n"
     ]
    },
    {
     "data": {
      "text/plain": [
       "0    3366\n",
       "1    3230\n",
       "Name: cwa_determination, dtype: int64"
      ]
     },
     "execution_count": 5,
     "metadata": {},
     "output_type": "execute_result"
    }
   ],
   "source": [
    "# Number of 0's and 1's for jurisdiction determination (ie labels)\n",
    "print(df_merged.cwa_determination.isna().value_counts())\n",
    "df_merged.cwa_determination.value_counts()"
   ]
  },
  {
   "cell_type": "code",
   "execution_count": 6,
   "id": "acknowledged-oxygen",
   "metadata": {},
   "outputs": [
    {
     "name": "stdout",
     "output_type": "stream",
     "text": [
      "(1, 256, 256)\n"
     ]
    }
   ],
   "source": [
    "# This function will open a TIF and return a numpy array of the TIF.  \n",
    "def create_array(tif_image):\n",
    "    try:\n",
    "        p = gdal.Open(str(tif_image))\n",
    "        channels = p.RasterCount\n",
    "\n",
    "        # iterate through rasters and add each to the list of layer_list\n",
    "        def create_flush_raster(p,i):\n",
    "            raster_i = p.GetRasterBand(i)\n",
    "            arr = np.array(raster_i.ReadAsArray())\n",
    "            raster_i.FlushCache()\n",
    "            return arr\n",
    "                            \n",
    "        layer_list = [create_flush_raster(p,i) for i in range(1,channels+1)] \n",
    "        p.FlushCache() \n",
    "\n",
    "    except: \n",
    "        print(\"Error with image:\", tif_image)\n",
    "        return np.nan\n",
    "    return np.array(layer_list)\n",
    "x = create_array('/data/image_final2/GEE_images_final2_hires_mndwi_2105_MVK-2016-00239-LCM_mndwi_hires.tif')\n",
    "print(x.shape)"
   ]
  },
  {
   "cell_type": "code",
   "execution_count": 7,
   "id": "conservative-replica",
   "metadata": {},
   "outputs": [
    {
     "data": {
      "text/plain": [
       "1"
      ]
     },
     "execution_count": 7,
     "metadata": {},
     "output_type": "execute_result"
    }
   ],
   "source": [
    "x = np.array([np.nan, 0, 3])\n",
    "np.sum(np.isnan(x))"
   ]
  },
  {
   "cell_type": "code",
   "execution_count": 8,
   "id": "instant-amsterdam",
   "metadata": {
    "tags": []
   },
   "outputs": [
    {
     "name": "stdout",
     "output_type": "stream",
     "text": [
      "here.\n",
      "825\n",
      "startstart\n",
      "\n",
      "startstart\n",
      "\n",
      "start\n",
      "start\n",
      "startstart\n",
      "\n",
      "end\n",
      "end\n",
      "endend\n",
      "\n",
      "end\n",
      "end\n",
      "end\n",
      "end\n",
      "19.453 seconds to finish\n",
      "(6596, 14)\n"
     ]
    },
    {
     "data": {
      "text/html": [
       "<div>\n",
       "<style scoped>\n",
       "    .dataframe tbody tr th:only-of-type {\n",
       "        vertical-align: middle;\n",
       "    }\n",
       "\n",
       "    .dataframe tbody tr th {\n",
       "        vertical-align: top;\n",
       "    }\n",
       "\n",
       "    .dataframe thead th {\n",
       "        text-align: right;\n",
       "    }\n",
       "</style>\n",
       "<table border=\"1\" class=\"dataframe\">\n",
       "  <thead>\n",
       "    <tr style=\"text-align: right;\">\n",
       "      <th></th>\n",
       "      <th>img_res</th>\n",
       "      <th>img_type</th>\n",
       "      <th>img_index</th>\n",
       "      <th>da_num</th>\n",
       "      <th>img_path</th>\n",
       "      <th>da_number</th>\n",
       "      <th>cwa_determination</th>\n",
       "      <th>metrics</th>\n",
       "      <th>mean</th>\n",
       "      <th>stdev</th>\n",
       "      <th>min</th>\n",
       "      <th>max</th>\n",
       "      <th>num_nans</th>\n",
       "      <th>district_code</th>\n",
       "    </tr>\n",
       "  </thead>\n",
       "  <tbody>\n",
       "    <tr>\n",
       "      <th>0</th>\n",
       "      <td>hires</td>\n",
       "      <td>RGB</td>\n",
       "      <td>688</td>\n",
       "      <td>SAC-2016-01382</td>\n",
       "      <td>/data/rgb_raw1/Sample_Set_12345_hires_RGB_688_...</td>\n",
       "      <td>SAC-2016-01382</td>\n",
       "      <td>0</td>\n",
       "      <td>(387.4623260498047, 378.9677084295356, 1, 6656...</td>\n",
       "      <td>387.462326</td>\n",
       "      <td>378.967708</td>\n",
       "      <td>1</td>\n",
       "      <td>6656</td>\n",
       "      <td>0</td>\n",
       "      <td>SAC</td>\n",
       "    </tr>\n",
       "    <tr>\n",
       "      <th>1</th>\n",
       "      <td>lores</td>\n",
       "      <td>RGB</td>\n",
       "      <td>1674</td>\n",
       "      <td>SAC-2019-01208</td>\n",
       "      <td>/data/rgb_raw1/Sample_Set_12345_lores_RGB_1674...</td>\n",
       "      <td>SAC-2019-01208</td>\n",
       "      <td>0</td>\n",
       "      <td>(355.3025258382161, 251.42918602431052, 0, 630...</td>\n",
       "      <td>355.302526</td>\n",
       "      <td>251.429186</td>\n",
       "      <td>0</td>\n",
       "      <td>6303</td>\n",
       "      <td>0</td>\n",
       "      <td>SAC</td>\n",
       "    </tr>\n",
       "    <tr>\n",
       "      <th>2</th>\n",
       "      <td>lores</td>\n",
       "      <td>RGB</td>\n",
       "      <td>147</td>\n",
       "      <td>SAC-2015-01563-4S</td>\n",
       "      <td>/data/rgb_raw1/Sample_Set_89_lores_RGB_147_SAC...</td>\n",
       "      <td>SAC-2015-01563-4S</td>\n",
       "      <td>0</td>\n",
       "      <td>(588.3651936848959, 384.2114394731537, 0, 6975...</td>\n",
       "      <td>588.365194</td>\n",
       "      <td>384.211439</td>\n",
       "      <td>0</td>\n",
       "      <td>6975</td>\n",
       "      <td>0</td>\n",
       "      <td>SAC</td>\n",
       "    </tr>\n",
       "    <tr>\n",
       "      <th>3</th>\n",
       "      <td>lores</td>\n",
       "      <td>RGB</td>\n",
       "      <td>1449</td>\n",
       "      <td>SAC-2018-01812</td>\n",
       "      <td>/data/rgb_raw1/Sample_Set_12345_lores_RGB_1449...</td>\n",
       "      <td>SAC-2018-01812</td>\n",
       "      <td>0</td>\n",
       "      <td>(191.9609578450521, 371.63715689233516, 0, 780...</td>\n",
       "      <td>191.960958</td>\n",
       "      <td>371.637157</td>\n",
       "      <td>0</td>\n",
       "      <td>7802</td>\n",
       "      <td>0</td>\n",
       "      <td>SAC</td>\n",
       "    </tr>\n",
       "    <tr>\n",
       "      <th>4</th>\n",
       "      <td>lores</td>\n",
       "      <td>RGB</td>\n",
       "      <td>2341</td>\n",
       "      <td>SAC-2016-00877</td>\n",
       "      <td>/data/rgb_raw1/Sample_Set_12345_lores_RGB_2341...</td>\n",
       "      <td>SAC-2016-00877</td>\n",
       "      <td>1</td>\n",
       "      <td>(431.6496073404948, 396.4779876169203, 0, 7457...</td>\n",
       "      <td>431.649607</td>\n",
       "      <td>396.477988</td>\n",
       "      <td>0</td>\n",
       "      <td>7457</td>\n",
       "      <td>0</td>\n",
       "      <td>SAC</td>\n",
       "    </tr>\n",
       "  </tbody>\n",
       "</table>\n",
       "</div>"
      ],
      "text/plain": [
       "  img_res img_type img_index             da_num  \\\n",
       "0   hires      RGB       688     SAC-2016-01382   \n",
       "1   lores      RGB      1674     SAC-2019-01208   \n",
       "2   lores      RGB       147  SAC-2015-01563-4S   \n",
       "3   lores      RGB      1449     SAC-2018-01812   \n",
       "4   lores      RGB      2341     SAC-2016-00877   \n",
       "\n",
       "                                            img_path          da_number  \\\n",
       "0  /data/rgb_raw1/Sample_Set_12345_hires_RGB_688_...     SAC-2016-01382   \n",
       "1  /data/rgb_raw1/Sample_Set_12345_lores_RGB_1674...     SAC-2019-01208   \n",
       "2  /data/rgb_raw1/Sample_Set_89_lores_RGB_147_SAC...  SAC-2015-01563-4S   \n",
       "3  /data/rgb_raw1/Sample_Set_12345_lores_RGB_1449...     SAC-2018-01812   \n",
       "4  /data/rgb_raw1/Sample_Set_12345_lores_RGB_2341...     SAC-2016-00877   \n",
       "\n",
       "   cwa_determination                                            metrics  \\\n",
       "0                  0  (387.4623260498047, 378.9677084295356, 1, 6656...   \n",
       "1                  0  (355.3025258382161, 251.42918602431052, 0, 630...   \n",
       "2                  0  (588.3651936848959, 384.2114394731537, 0, 6975...   \n",
       "3                  0  (191.9609578450521, 371.63715689233516, 0, 780...   \n",
       "4                  1  (431.6496073404948, 396.4779876169203, 0, 7457...   \n",
       "\n",
       "         mean       stdev  min   max  num_nans district_code  \n",
       "0  387.462326  378.967708    1  6656         0           SAC  \n",
       "1  355.302526  251.429186    0  6303         0           SAC  \n",
       "2  588.365194  384.211439    0  6975         0           SAC  \n",
       "3  191.960958  371.637157    0  7802         0           SAC  \n",
       "4  431.649607  396.477988    0  7457         0           SAC  "
      ]
     },
     "execution_count": 8,
     "metadata": {},
     "output_type": "execute_result"
    }
   ],
   "source": [
    "# This function will open each TIF and return the image metrics as defined below.  \n",
    "#. after running this script verify that the memory cache has been released in linux\n",
    "#> You may need to run `sudo sync && echo 3 | sudo tee /proc/sys/vm/drop_caches***` to clear the caches\n",
    "\n",
    "from multiprocessing import Pool\n",
    "import math\n",
    "\n",
    "def get_image_metrics(image_path):\n",
    "    image_arr = create_array(image_path)\n",
    "    mean_pixel_value = np.nanmean(image_arr)\n",
    "    std_pixel_value = np.nanstd(image_arr)\n",
    "    min_pixel_value = np.nanmin(image_arr)\n",
    "    max_pixel_value = np.nanmax(image_arr)\n",
    "    num_of_nans = np.sum(np.isnan(image_arr))\n",
    "    return mean_pixel_value, std_pixel_value, min_pixel_value, max_pixel_value, num_of_nans\n",
    "\n",
    "def transform_func_pooler(x):\n",
    "    df_i = x\n",
    "    print('start')\n",
    "    df_i['metrics'] = df_i.img_path.apply(get_image_metrics)\n",
    "    print(\"end\")\n",
    "    return df_i\n",
    "\n",
    "print('here.')\n",
    "def apply_in_parallel(df,chunks = 10):\n",
    "    t0 = time.time()\n",
    "    chunk_size = math.ceil(df.shape[0] / chunks)\n",
    "    print(chunk_size)\n",
    "    list_of_parameters = [df.iloc[(i-1)*chunk_size:i*chunk_size] for i in range(1,chunks+1)]\n",
    "#    [print(df_x.shape) for df_x in list_of_parameters ]\n",
    "\n",
    "    output_dfs = []\n",
    "    if __name__ == '__main__':\n",
    "        with Pool(8) as p:\n",
    "            output_dfs.append(p.map(transform_func_pooler, list_of_parameters))\n",
    "    print(round(time.time()-t0, 3), 'seconds to finish')\n",
    "    return pd.concat(output_dfs[0])\n",
    "\n",
    "df_merged = apply_in_parallel(df_merged, 8)\n",
    "\n",
    "# seperate the stats into their own column\n",
    "df_merged['mean'] = df_merged.metrics.apply(lambda x: x[0])\n",
    "df_merged['stdev'] = df_merged.metrics.apply(lambda x: x[1])\n",
    "df_merged['min'] = df_merged.metrics.apply(lambda x: x[2])\n",
    "df_merged['max'] = df_merged.metrics.apply(lambda x: x[3])\n",
    "df_merged['num_nans'] = df_merged.metrics.apply(lambda x: x[4])\n",
    "df_merged['district_code'] = df_merged.da_num.apply(lambda x: x[:3])\n",
    "\n",
    "# save to a csv\n",
    "df_merged.to_csv('image_metrics_032121_rgb.csv')\n",
    "print(df_merged.shape)\n",
    "df_merged.head()"
   ]
  },
  {
   "cell_type": "code",
   "execution_count": null,
   "id": "federal-return",
   "metadata": {},
   "outputs": [],
   "source": [
    "# Run this if you want to see the single threaded version of the above function.  \n",
    "#t0 = time.time()\n",
    "#df_merged['metrics'] = df_merged.img_path.apply(get_image_metrics)\n",
    "#print(round(time.time()-t0, 3), 'seconds to finish')\n",
    "#df_merged.head()"
   ]
  },
  {
   "cell_type": "code",
   "execution_count": 12,
   "id": "foster-satisfaction",
   "metadata": {},
   "outputs": [
    {
     "data": {
      "text/html": [
       "<div>\n",
       "<style scoped>\n",
       "    .dataframe tbody tr th:only-of-type {\n",
       "        vertical-align: middle;\n",
       "    }\n",
       "\n",
       "    .dataframe tbody tr th {\n",
       "        vertical-align: top;\n",
       "    }\n",
       "\n",
       "    .dataframe thead th {\n",
       "        text-align: right;\n",
       "    }\n",
       "</style>\n",
       "<table border=\"1\" class=\"dataframe\">\n",
       "  <thead>\n",
       "    <tr style=\"text-align: right;\">\n",
       "      <th></th>\n",
       "      <th>Unnamed: 0</th>\n",
       "      <th>img_res</th>\n",
       "      <th>img_type</th>\n",
       "      <th>img_index</th>\n",
       "      <th>da_num</th>\n",
       "      <th>img_path</th>\n",
       "      <th>da_number</th>\n",
       "      <th>cwa_determination</th>\n",
       "      <th>metrics</th>\n",
       "      <th>mean</th>\n",
       "      <th>stdev</th>\n",
       "      <th>min</th>\n",
       "      <th>max</th>\n",
       "      <th>num_nans</th>\n",
       "      <th>district_code</th>\n",
       "    </tr>\n",
       "  </thead>\n",
       "  <tbody>\n",
       "    <tr>\n",
       "      <th>0</th>\n",
       "      <td>0</td>\n",
       "      <td>hires</td>\n",
       "      <td>RGB</td>\n",
       "      <td>688</td>\n",
       "      <td>SAC-2016-01382</td>\n",
       "      <td>/data/rgb_raw1/Sample_Set_12345_hires_RGB_688_...</td>\n",
       "      <td>SAC-2016-01382</td>\n",
       "      <td>0</td>\n",
       "      <td>(387.4623260498047, 378.9677084295356, 1, 6656...</td>\n",
       "      <td>387.462326</td>\n",
       "      <td>378.967708</td>\n",
       "      <td>1</td>\n",
       "      <td>6656</td>\n",
       "      <td>0</td>\n",
       "      <td>SAC</td>\n",
       "    </tr>\n",
       "    <tr>\n",
       "      <th>1</th>\n",
       "      <td>1</td>\n",
       "      <td>lores</td>\n",
       "      <td>RGB</td>\n",
       "      <td>1674</td>\n",
       "      <td>SAC-2019-01208</td>\n",
       "      <td>/data/rgb_raw1/Sample_Set_12345_lores_RGB_1674...</td>\n",
       "      <td>SAC-2019-01208</td>\n",
       "      <td>0</td>\n",
       "      <td>(355.3025258382161, 251.42918602431052, 0, 630...</td>\n",
       "      <td>355.302526</td>\n",
       "      <td>251.429186</td>\n",
       "      <td>0</td>\n",
       "      <td>6303</td>\n",
       "      <td>0</td>\n",
       "      <td>SAC</td>\n",
       "    </tr>\n",
       "    <tr>\n",
       "      <th>2</th>\n",
       "      <td>2</td>\n",
       "      <td>lores</td>\n",
       "      <td>RGB</td>\n",
       "      <td>147</td>\n",
       "      <td>SAC-2015-01563-4S</td>\n",
       "      <td>/data/rgb_raw1/Sample_Set_89_lores_RGB_147_SAC...</td>\n",
       "      <td>SAC-2015-01563-4S</td>\n",
       "      <td>0</td>\n",
       "      <td>(588.3651936848959, 384.2114394731537, 0, 6975...</td>\n",
       "      <td>588.365194</td>\n",
       "      <td>384.211439</td>\n",
       "      <td>0</td>\n",
       "      <td>6975</td>\n",
       "      <td>0</td>\n",
       "      <td>SAC</td>\n",
       "    </tr>\n",
       "    <tr>\n",
       "      <th>3</th>\n",
       "      <td>3</td>\n",
       "      <td>lores</td>\n",
       "      <td>RGB</td>\n",
       "      <td>1449</td>\n",
       "      <td>SAC-2018-01812</td>\n",
       "      <td>/data/rgb_raw1/Sample_Set_12345_lores_RGB_1449...</td>\n",
       "      <td>SAC-2018-01812</td>\n",
       "      <td>0</td>\n",
       "      <td>(191.9609578450521, 371.63715689233516, 0, 780...</td>\n",
       "      <td>191.960958</td>\n",
       "      <td>371.637157</td>\n",
       "      <td>0</td>\n",
       "      <td>7802</td>\n",
       "      <td>0</td>\n",
       "      <td>SAC</td>\n",
       "    </tr>\n",
       "    <tr>\n",
       "      <th>4</th>\n",
       "      <td>4</td>\n",
       "      <td>lores</td>\n",
       "      <td>RGB</td>\n",
       "      <td>2341</td>\n",
       "      <td>SAC-2016-00877</td>\n",
       "      <td>/data/rgb_raw1/Sample_Set_12345_lores_RGB_2341...</td>\n",
       "      <td>SAC-2016-00877</td>\n",
       "      <td>1</td>\n",
       "      <td>(431.6496073404948, 396.4779876169203, 0, 7457...</td>\n",
       "      <td>431.649607</td>\n",
       "      <td>396.477988</td>\n",
       "      <td>0</td>\n",
       "      <td>7457</td>\n",
       "      <td>0</td>\n",
       "      <td>SAC</td>\n",
       "    </tr>\n",
       "  </tbody>\n",
       "</table>\n",
       "</div>"
      ],
      "text/plain": [
       "   Unnamed: 0 img_res img_type  img_index             da_num  \\\n",
       "0           0   hires      RGB        688     SAC-2016-01382   \n",
       "1           1   lores      RGB       1674     SAC-2019-01208   \n",
       "2           2   lores      RGB        147  SAC-2015-01563-4S   \n",
       "3           3   lores      RGB       1449     SAC-2018-01812   \n",
       "4           4   lores      RGB       2341     SAC-2016-00877   \n",
       "\n",
       "                                            img_path          da_number  \\\n",
       "0  /data/rgb_raw1/Sample_Set_12345_hires_RGB_688_...     SAC-2016-01382   \n",
       "1  /data/rgb_raw1/Sample_Set_12345_lores_RGB_1674...     SAC-2019-01208   \n",
       "2  /data/rgb_raw1/Sample_Set_89_lores_RGB_147_SAC...  SAC-2015-01563-4S   \n",
       "3  /data/rgb_raw1/Sample_Set_12345_lores_RGB_1449...     SAC-2018-01812   \n",
       "4  /data/rgb_raw1/Sample_Set_12345_lores_RGB_2341...     SAC-2016-00877   \n",
       "\n",
       "   cwa_determination                                            metrics  \\\n",
       "0                  0  (387.4623260498047, 378.9677084295356, 1, 6656...   \n",
       "1                  0  (355.3025258382161, 251.42918602431052, 0, 630...   \n",
       "2                  0  (588.3651936848959, 384.2114394731537, 0, 6975...   \n",
       "3                  0  (191.9609578450521, 371.63715689233516, 0, 780...   \n",
       "4                  1  (431.6496073404948, 396.4779876169203, 0, 7457...   \n",
       "\n",
       "         mean       stdev  min   max  num_nans district_code  \n",
       "0  387.462326  378.967708    1  6656         0           SAC  \n",
       "1  355.302526  251.429186    0  6303         0           SAC  \n",
       "2  588.365194  384.211439    0  6975         0           SAC  \n",
       "3  191.960958  371.637157    0  7802         0           SAC  \n",
       "4  431.649607  396.477988    0  7457         0           SAC  "
      ]
     },
     "execution_count": 12,
     "metadata": {},
     "output_type": "execute_result"
    }
   ],
   "source": [
    "# reload the lookup table with from disk\n",
    "df_merged = pd.read_csv('image_metrics_032121_rgb.csv')\n",
    "df_merged.head()"
   ]
  },
  {
   "cell_type": "code",
   "execution_count": 13,
   "id": "loving-horror",
   "metadata": {},
   "outputs": [
    {
     "name": "stdout",
     "output_type": "stream",
     "text": [
      "(0, 15)\n"
     ]
    },
    {
     "data": {
      "text/html": [
       "<div>\n",
       "<style scoped>\n",
       "    .dataframe tbody tr th:only-of-type {\n",
       "        vertical-align: middle;\n",
       "    }\n",
       "\n",
       "    .dataframe tbody tr th {\n",
       "        vertical-align: top;\n",
       "    }\n",
       "\n",
       "    .dataframe thead th {\n",
       "        text-align: right;\n",
       "    }\n",
       "</style>\n",
       "<table border=\"1\" class=\"dataframe\">\n",
       "  <thead>\n",
       "    <tr style=\"text-align: right;\">\n",
       "      <th></th>\n",
       "      <th>Unnamed: 0</th>\n",
       "      <th>img_res</th>\n",
       "      <th>img_type</th>\n",
       "      <th>img_index</th>\n",
       "      <th>da_num</th>\n",
       "      <th>img_path</th>\n",
       "      <th>da_number</th>\n",
       "      <th>cwa_determination</th>\n",
       "      <th>metrics</th>\n",
       "      <th>mean</th>\n",
       "      <th>stdev</th>\n",
       "      <th>min</th>\n",
       "      <th>max</th>\n",
       "      <th>num_nans</th>\n",
       "      <th>district_code</th>\n",
       "    </tr>\n",
       "  </thead>\n",
       "  <tbody>\n",
       "  </tbody>\n",
       "</table>\n",
       "</div>"
      ],
      "text/plain": [
       "Empty DataFrame\n",
       "Columns: [Unnamed: 0, img_res, img_type, img_index, da_num, img_path, da_number, cwa_determination, metrics, mean, stdev, min, max, num_nans, district_code]\n",
       "Index: []"
      ]
     },
     "metadata": {},
     "output_type": "display_data"
    },
    {
     "data": {
      "text/plain": [
       "<AxesSubplot:>"
      ]
     },
     "execution_count": 13,
     "metadata": {},
     "output_type": "execute_result"
    },
    {
     "data": {
      "image/png": "[encoded data removed]",
      "text/plain": [
       "<Figure size 432x288 with 1 Axes>"
      ]
     },
     "metadata": {
      "needs_background": "light"
     },
     "output_type": "display_data"
    }
   ],
   "source": [
    "nan_df = df_merged[df_merged.num_nans != 0]\n",
    "print(nan_df.shape)\n",
    "display(nan_df.head())\n",
    "#fig, ax = plt.plot()\n",
    "nan_df.num_nans.hist()"
   ]
  },
  {
   "cell_type": "code",
   "execution_count": 14,
   "id": "spare-sculpture",
   "metadata": {},
   "outputs": [
    {
     "name": "stdout",
     "output_type": "stream",
     "text": [
      "processing hires RGB // elapsed time 0.384 sec\n",
      "processing lores RGB // elapsed time 0.436 sec\n"
     ]
    },
    {
     "data": {
      "image/png": "[encoded data removed]",
      "text/plain": [
       "<Figure size 1440x1368 with 20 Axes>"
      ]
     },
     "metadata": {
      "needs_background": "light"
     },
     "output_type": "display_data"
    }
   ],
   "source": [
    "t0 = time.time()\n",
    "fig, ax = plt.subplots(4,5, figsize = (20,19))\n",
    "i = 0 \n",
    "axes = [(x,y) for y in range(5) for x in range(4)]\n",
    "for res, resdf in df_merged.groupby('img_res'):\n",
    "    for it, itdf in resdf.groupby('img_type'):\n",
    "        print('processing', res, it, r'// elapsed time', round(time.time()-t0,3), 'sec')\n",
    "        ax[axes[i]].hist(list(itdf['mean']))\n",
    "        ax[axes[i]].set_title(res + '_' + it + '_mean')\n",
    "        i += 1\n",
    "        ax[axes[i]].hist(list(itdf['stdev']))\n",
    "        ax[axes[i]].set_title(res + '_' + it + '_stdev')\n",
    "        i += 1"
   ]
  },
  {
   "cell_type": "code",
   "execution_count": 16,
   "id": "latest-drawing",
   "metadata": {},
   "outputs": [],
   "source": [
    "ten_layer_setup = [['hires', 'gmndwi'], ['hires', 'mndvi'], ['hires', 'srtm'], # branch 1 hires\n",
    "               ['hires', 'mndwi'], ['hires', 'seasonality'], ['hires', 'transition'], # branch 2 hires\n",
    "               ['lores', 'gmndwi'], ['lores', 'mndvi'], ['lores', 'srtm'], ['lores', 'mndwi']] #, branch 3 lores"
   ]
  },
  {
   "cell_type": "code",
   "execution_count": 15,
   "id": "negative-yorkshire",
   "metadata": {},
   "outputs": [
    {
     "ename": "NameError",
     "evalue": "name 'ten_layer_setup' is not defined",
     "output_type": "error",
     "traceback": [
      "\u001b[0;31m---------------------------------------------------------------------------\u001b[0m",
      "\u001b[0;31mNameError\u001b[0m                                 Traceback (most recent call last)",
      "\u001b[0;32m<ipython-input-15-a8f860432e12>\u001b[0m in \u001b[0;36m<module>\u001b[0;34m\u001b[0m\n\u001b[1;32m      1\u001b[0m \u001b[0;31m# This function will show images given a lookup table and da_num\u001b[0m\u001b[0;34m\u001b[0m\u001b[0;34m\u001b[0m\u001b[0;34m\u001b[0m\u001b[0m\n\u001b[0;32m----> 2\u001b[0;31m \u001b[0;32mdef\u001b[0m \u001b[0mshowdaimages\u001b[0m\u001b[0;34m(\u001b[0m\u001b[0mda_num\u001b[0m\u001b[0;34m,\u001b[0m \u001b[0mil_df\u001b[0m\u001b[0;34m,\u001b[0m \u001b[0mlayer_setup\u001b[0m \u001b[0;34m=\u001b[0m \u001b[0mten_layer_setup\u001b[0m\u001b[0;34m,\u001b[0m \u001b[0mimage_order\u001b[0m \u001b[0;34m=\u001b[0m \u001b[0;32mNone\u001b[0m\u001b[0;34m)\u001b[0m\u001b[0;34m:\u001b[0m\u001b[0;34m\u001b[0m\u001b[0;34m\u001b[0m\u001b[0m\n\u001b[0m\u001b[1;32m      3\u001b[0m     \u001b[0mt0\u001b[0m \u001b[0;34m=\u001b[0m \u001b[0mtime\u001b[0m\u001b[0;34m.\u001b[0m\u001b[0mtime\u001b[0m\u001b[0;34m(\u001b[0m\u001b[0;34m)\u001b[0m\u001b[0;34m\u001b[0m\u001b[0;34m\u001b[0m\u001b[0m\n\u001b[1;32m      4\u001b[0m     \u001b[0mdf\u001b[0m \u001b[0;34m=\u001b[0m \u001b[0mil_df\u001b[0m\u001b[0;34m[\u001b[0m\u001b[0mil_df\u001b[0m\u001b[0;34m[\u001b[0m\u001b[0;34m'da_num'\u001b[0m\u001b[0;34m]\u001b[0m \u001b[0;34m==\u001b[0m \u001b[0mda_num\u001b[0m\u001b[0;34m]\u001b[0m\u001b[0;34m\u001b[0m\u001b[0;34m\u001b[0m\u001b[0m\n\u001b[1;32m      5\u001b[0m     \u001b[0mprint\u001b[0m\u001b[0;34m(\u001b[0m\u001b[0mdf\u001b[0m\u001b[0;34m.\u001b[0m\u001b[0mshape\u001b[0m\u001b[0;34m[\u001b[0m\u001b[0;36m0\u001b[0m\u001b[0;34m]\u001b[0m\u001b[0;34m,\u001b[0m \u001b[0;34m'images found.'\u001b[0m\u001b[0;34m)\u001b[0m\u001b[0;34m\u001b[0m\u001b[0;34m\u001b[0m\u001b[0m\n",
      "\u001b[0;31mNameError\u001b[0m: name 'ten_layer_setup' is not defined"
     ]
    }
   ],
   "source": [
    "# This function will show images given a lookup table and da_num\n",
    "def showdaimages(da_num, il_df, layer_setup = ten_layer_setup, image_order = None):\n",
    "    t0 = time.time()\n",
    "    df = il_df[il_df['da_num'] == da_num]\n",
    "    print(df.shape[0], 'images found.')\n",
    "    fig, ax = plt.subplots(2,5, figsize = (20,10))\n",
    "    i = 0 \n",
    "    axes = [(x,y) for y in range(5) for x in range(2)]\n",
    "    #for idx, row in df.iterrows():\n",
    "    for ir, it in layer_setup:\n",
    "        #print(ir,it)\n",
    "        row = df[(df.img_type == it)&(df.img_res == ir)].iloc[0]\n",
    "        i_arr = create_array(row['img_path'])\n",
    "        i_arr = i_arr.reshape(256,256)\n",
    "        i_arr = np.log(i_arr)\n",
    "        ax[axes[i]].imshow(i_arr)\n",
    "        ax[axes[i]].set_title(row['img_res'] + ' - ' + row['img_type'])\n",
    "        ax[axes[i]].set_xlabel(str(row['mean']) + '\\n' + str(row['stdev']))\n",
    "       # print(row['img_type'])\n",
    "        i += 1\n",
    "        #print('_*_*_*_*_*_*_*_*_*_*_*')\n",
    "        \n",
    "showdaimages('LRC-2003-22227', df_merged)"
   ]
  },
  {
   "cell_type": "code",
   "execution_count": 13,
   "id": "raised-costa",
   "metadata": {},
   "outputs": [
    {
     "name": "stdout",
     "output_type": "stream",
     "text": [
      "(12518, 14)\n",
      "(12577, 14)\n",
      "(12575, 14)\n",
      "(12527, 14)\n",
      "(12562, 14)\n",
      "(12551, 14)\n",
      "(12452, 14)\n",
      "(12485, 14)\n",
      "(12483, 14)\n",
      "(12470, 14)\n"
     ]
    },
    {
     "data": {
      "text/plain": [
       "[0.15707907949278074,\n",
       " 2824699.0901218033,\n",
       " 167.16802180384119,\n",
       " -0.34395557055261655,\n",
       " 0.7865322572525761,\n",
       " 0.21961407953596201,\n",
       " 0.19163081262277507,\n",
       " -83517890.07903384,\n",
       " 172.861189592898,\n",
       " -0.3021347216811677]"
      ]
     },
     "execution_count": 13,
     "metadata": {},
     "output_type": "execute_result"
    }
   ],
   "source": [
    "layer_setup = [['hires', 'gmndwi'], ['hires', 'mndvi'], ['hires', 'srtm'], # branch 1 hires\n",
    "               ['hires', 'mndwi'], ['hires', 'seasonality'], ['hires', 'transition'], # branch 2 hires\n",
    "               ['lores', 'gmndwi'], ['lores', 'mndvi'], ['lores', 'srtm'], ['lores', 'mndwi']] #, branch 3 lores\n",
    "               #['lores', 'mndwi'], ['lores', 'mndvi'], ['lores', 'srtm']] # branch 4 lores\n",
    "mean_inception = []\n",
    "max_values = []\n",
    "for ir, it in layer_setup:\n",
    "    #print(ir,it)\n",
    "    sdf = df_merged[(df_merged.img_type == it)&(df_merged.img_res == ir)]\n",
    "    print(sdf.shape)\n",
    "    mean_of_means = np.mean(sdf['mean'])\n",
    "    mean_inception.append(mean_of_means)\n",
    "    #\n",
    "mean_inception        "
   ]
  },
  {
   "cell_type": "code",
   "execution_count": 16,
   "id": "advance-treaty",
   "metadata": {},
   "outputs": [
    {
     "name": "stdout",
     "output_type": "stream",
     "text": [
      "SAM-2016-01348-APW\n",
      "10 images found.\n"
     ]
    },
    {
     "name": "stderr",
     "output_type": "stream",
     "text": [
      "/usr/local/lib/python3.6/dist-packages/ipykernel_launcher.py:15: RuntimeWarning: divide by zero encountered in log\n",
      "  from ipykernel import kernelapp as app\n",
      "/usr/local/lib/python3.6/dist-packages/ipykernel_launcher.py:15: RuntimeWarning: invalid value encountered in log\n",
      "  from ipykernel import kernelapp as app\n"
     ]
    },
    {
     "data": {
      "image/png": "[encoded data removed]",
      "text/plain": [
       "<Figure size 1440x720 with 10 Axes>"
      ]
     },
     "metadata": {
      "needs_background": "light"
     },
     "output_type": "display_data"
    }
   ],
   "source": [
    "random_da = df_merged.sample()['da_num'].iloc[0]\n",
    "print(random_da)\n",
    "showdaimages(random_da, df_merged)"
   ]
  },
  {
   "cell_type": "code",
   "execution_count": 10,
   "id": "lesbian-permit",
   "metadata": {},
   "outputs": [
    {
     "name": "stdout",
     "output_type": "stream",
     "text": [
      "tee: /proc/sys/vm/drop_caches: Read-only file system\n",
      "3\n"
     ]
    }
   ],
   "source": [
    "!sync && echo 3 | tee /proc/sys/vm/drop_caches***"
   ]
  },
  {
   "cell_type": "code",
   "execution_count": 32,
   "id": "american-harvey",
   "metadata": {},
   "outputs": [
    {
     "data": {
      "text/html": [
       "<div>\n",
       "<style scoped>\n",
       "    .dataframe tbody tr th:only-of-type {\n",
       "        vertical-align: middle;\n",
       "    }\n",
       "\n",
       "    .dataframe tbody tr th {\n",
       "        vertical-align: top;\n",
       "    }\n",
       "\n",
       "    .dataframe thead th {\n",
       "        text-align: right;\n",
       "    }\n",
       "</style>\n",
       "<table border=\"1\" class=\"dataframe\">\n",
       "  <thead>\n",
       "    <tr style=\"text-align: right;\">\n",
       "      <th></th>\n",
       "      <th>t1</th>\n",
       "      <th>t2</th>\n",
       "    </tr>\n",
       "  </thead>\n",
       "  <tbody>\n",
       "    <tr>\n",
       "      <th>0</th>\n",
       "      <td>1</td>\n",
       "      <td>2</td>\n",
       "    </tr>\n",
       "    <tr>\n",
       "      <th>1</th>\n",
       "      <td>3</td>\n",
       "      <td>4</td>\n",
       "    </tr>\n",
       "    <tr>\n",
       "      <th>2</th>\n",
       "      <td>77</td>\n",
       "      <td>88</td>\n",
       "    </tr>\n",
       "  </tbody>\n",
       "</table>\n",
       "</div>"
      ],
      "text/plain": [
       "   t1  t2\n",
       "0   1   2\n",
       "1   3   4\n",
       "2  77  88"
      ]
     },
     "execution_count": 32,
     "metadata": {},
     "output_type": "execute_result"
    }
   ],
   "source": [
    "l = [[1,2], [3,4], [77,88]]\n",
    "d = pd.DataFrame(l, columns = ['t1', 't2'])\n",
    "d"
   ]
  },
  {
   "cell_type": "code",
   "execution_count": 34,
   "id": "vietnamese-kingdom",
   "metadata": {
    "tags": []
   },
   "outputs": [
    {
     "name": "stdout",
     "output_type": "stream",
     "text": [
      "layer_transforms: [[-0.9956896305084229, 0.999810755252838, 0.15707907949278074], [-0.9982190560997328, 0.9927272727272728, -0.34395557055261655], [-93.0, 4105.0, 167.16802180384119]]\n",
      "Error with image: /data/image_final2/GEE_images_final2_hires_srtm_8029_POA-2019-00608_srtm_hires.tif\n",
      "error in POA-2019-00608 all the input arrays must have same number of dimensions, but the array at index 0 has 3 dimension(s) and the array at index 2 has 0 dimension(s)\n"
     ]
    },
    {
     "name": "stderr",
     "output_type": "stream",
     "text": [
      "/usr/local/lib/python3.6/dist-packages/ipykernel_launcher.py:43: RuntimeWarning: Mean of empty slice\n"
     ]
    },
    {
     "name": "stdout",
     "output_type": "stream",
     "text": [
      "12379 training examples prepared in 1190 sec\n"
     ]
    }
   ],
   "source": [
    "layer_setup3 = [['hires', 'gmndwi'], ['hires', 'mndwi'], ['hires', 'srtm']]\n",
    "\n",
    "def save_arrays_layer_setup3(df_lookup, location_save, transform_func = None):\n",
    "    t0 = time.time()\n",
    "    array_count = 0\n",
    "    layer_setup3 = [['hires', 'gmndwi'], ['hires', 'mndwi'], ['hires', 'srtm']]\n",
    "    list_of_problem_da_nums = []\n",
    "    \n",
    "    # create transform parameters\n",
    "    layer_transforms = []\n",
    "    for layer in layer_setup3:\n",
    "        layer_subset = df_lookup[(df_lookup['img_res'] == layer[0])&(df_lookup['img_type'] == layer[1])]\n",
    "        min_min = np.nanmin(layer_subset['min'])\n",
    "        max_max = np.nanmax(layer_subset['max'])\n",
    "        mean_mean = np.nanmean(layer_subset['mean'])\n",
    "        layer_transforms.append([min_min, max_max, mean_mean])\n",
    "    print('layer_transforms:', layer_transforms)\n",
    "\n",
    "    \n",
    "    for da_num, ddf in df_lookup.groupby('da_num'):\n",
    "        # verify the images are available before exporting\n",
    "        skip = False\n",
    "        for layer in layer_setup3:\n",
    "            image_row = ddf[(ddf['img_res'] == layer[0])&(ddf['img_type'] == layer[1])]\n",
    "            if image_row.shape[0] < 1:\n",
    "                skip = True\n",
    "                break\n",
    "            elif image_row.shape[0] > 1:\n",
    "                skip = True\n",
    "                break\n",
    "        if skip: \n",
    "            #print('skipping', da_num, 'not all images or too many images available.')\n",
    "            list_of_problem_da_nums.append([da_num, 'not all images or too many images available.'])\n",
    "            continue\n",
    "        \n",
    "        # Now create array, transform, and save to .npy file\n",
    "        try:\n",
    "            stacked_images = []\n",
    "            for layer, trans_params in zip(layer_setup3, layer_transforms):\n",
    "                # create numpy array and save \n",
    "                image_row = ddf[(ddf['img_res'] == layer[0])&(ddf['img_type'] == layer[1])]\n",
    "                i_arr = create_array(image_row.img_path.iloc[0])\n",
    "                i_arr = np.nan_to_num(i_arr, nan = np.nanmean(i_arr)) # fill nans with mean of array\n",
    "                min_min = trans_params[0]\n",
    "                max_max = trans_params[1]\n",
    "                trans_i_arr = (i_arr - min_min) * 1/(max_max - min_min)  # sets min at 0, and scales so max is 1\n",
    "                stacked_images.append(trans_i_arr)\n",
    "            print(da_num, end = '\\r')\n",
    "            if skip:\n",
    "                continue\n",
    "            np.save(location_save + str(da_num) + '.npy', np.concatenate(stacked_images))\n",
    "\n",
    "        except Exception as e:\n",
    "            print('error in', da_num, e)\n",
    "            list_of_problem_da_nums.append([da_num, 'error in creating array.'])\n",
    "        array_count += 1\n",
    "\n",
    "            #break\n",
    "    print(array_count, 'training examples prepared in', round(time.time()-t0), 'sec')\n",
    "    df_errors = pd.DataFrame(list_of_problem_da_nums, columns = ['da_num', 'error'])\n",
    "    return df_errors\n",
    "\n",
    "# sac_saw (wilmington and richmond) only in '/data/training_datax2/'\n",
    "#df_sac_saw = df_merged[df_merged.district_code.isin(['SAC', 'SAW'])]\n",
    "\n",
    "error_dfs = save_arrays_layer_setup3(df_merged, '/data/all_3chan_training_nan_to_mean_data1/')\n"
   ]
  },
  {
   "cell_type": "code",
   "execution_count": 27,
   "id": "popular-collection",
   "metadata": {
    "tags": []
   },
   "outputs": [
    {
     "name": "stdout",
     "output_type": "stream",
     "text": [
      "Error with image: /data/image_final2/GEE_images_final2_lores_srtm_3995_MVN-2019-00361-ST_srtm_lores.tif error, not 10 images.  - MVN-2018-00129-SK error, not 10 images.  - MVN-2018-00132-SG error, not 10 images.  - MVN-2018-00134-SG error, not 10 images.  - MVN-2018-00136-SR error, not 10 images.  - MVN-2018-00142-SKor, not 10 images.  - LRL-2018-01094-LCL error, not 10 images.  - LRL-2018-01105-htm error, not 10 images.  - LRN-2020-00219 error, not 10 images.  - LRN-2020-00307 error, not 10 images.  - LRN-2020-00310 error, not 10 images.  - LRN-2020-00315 error, not 10 images.  - LRN-2020-00351 error, not 10 images.  - LRP-1997-00197 error, not 10 images.  - LRP-2009-00477 error, not 10 images.  - LRP-2013-01406 error, not 10 images.  - LRP-2014-01127 error, not 10 images.  - LRP-2015-01538 error, not 10 images.  - LRP-2016-00100MVN-2016-00528-ST\n",
      "error in MVN-2019-00361-ST\n",
      "Error with image: /data/image_final2/GEE_images_final2_lores_srtm_5857_NAN-2016-01232-USH_srtm_lores.tifMG error, not 10 images.  - MVP-2016-04000-KBH error, not 10 images.  - MVP-2016-04005-KJHMVP-2019-02814-DDDMVP-2020-00145-MMJMVP-2020-00177-MJBMVP-2020-00236-RJH\n",
      "error in NAN-2016-01232-USH\n",
      "Error with image: /data/image_final2/GEE_images_final2_hires_mndvi_6176_NAO-2016-01643-tca_mndvi_hires.tifor, not 10 images.  - NAO-2009-02887-tca\n",
      "error in NAO-2016-01643-tca\n",
      "Error with image: /data/image_final2/GEE_images_final2_hires_srtm_8029_POA-2019-00608_srtm_hires.tif, not 10 images.  - POA-2017-00494 error, not 10 images.  - POA-2017-00497 error, not 10 images.  - , not 10 images.  - NAO-2017-00981-jsh error, not 10 images.  - NAO-2017-01007-tmmNAO-2017-01036-tcaNAO-2017-01107-rhsNAO-2017-01122NAO-2017-01142-tcaNWK-2015-02400NWK-2015-02404NWK-2015-02426NWK-2015-02507NWK-2017-01546NWO-2016-01681-BISNWO-2016-02144-BISNWO-2017-00112-BISNWP-2016-00402POA-2017-00499\n",
      "Error with image: /data/image_final2/GEE_images_final2_lores_gmndwi_8029_POA-2019-00608_gmndwi_lores.tif\n",
      "error in POA-2019-00608\n",
      "Error with image: /data/image_final2/GEE_images_final2_hires_mndvi_8236_SAC-2012-00032_mndvi_hires.tif\n",
      "error in SAC-2012-00032\n",
      "Error with image: /data/image_final2/GEE_images_final2_lores_gmndwi_8463_SAC-2015-01689_gmndwi_lores.tif\n",
      "error in SAC-2015-01689\n",
      "SWT-2016-00311 error, not 10 images.  - 8573 training examples prepared in 1617 sec81\n"
     ]
    },
    {
     "data": {
      "text/plain": [
       "1"
      ]
     },
     "execution_count": 27,
     "metadata": {},
     "output_type": "execute_result"
    }
   ],
   "source": [
    "layer_setup = [['hires', 'gmndwi'], ['hires', 'mndvi'], ['hires', 'srtm'], # branch 1 hires\n",
    "               ['hires', 'mndwi'], ['hires', 'seasonality'], ['hires', 'transition'], # branch 2 hires\n",
    "               ['lores', 'gmndwi'], ['lores', 'mndvi'], ['lores', 'srtm']] #, branch 3 lores\n",
    "def save_arrays(df_lookup, layer_setup, location_save):\n",
    "    t0 = time.time()\n",
    "    array_count = 0\n",
    "    for da_num, ddf in df_lookup.groupby('da_num'):\n",
    "        if ddf.shape[0] != 10:\n",
    "            print(da_num, \"error, not 10 images. \", end = \" - \")\n",
    "            continue\n",
    "            \n",
    "        else:\n",
    "            try:\n",
    "                stacked_images = []\n",
    "                for channel in layer_setup:\n",
    "                    image_row = ddf[(ddf['img_res'] == channel[0])&(ddf['img_type'] == channel[1])]\n",
    "                    #print(image_row, type(image_row))\n",
    "                    if image_row.shape[0] != 1: \n",
    "                        print('Duplicates?', image_row)\n",
    "                    stacked_images.append(create_array(image_row.img_path.iloc[0]))\n",
    "                print(da_num, end = '\\r')\n",
    "                np.save(location_save + str(da_num) + '.npy', np.concatenate(stacked_images))\n",
    "\n",
    "            except:\n",
    "                print('error in', da_num)\n",
    "            array_count += 1\n",
    "\n",
    "            #break\n",
    "    print(array_count, 'training examples prepared in', round(time.time()-t0), 'sec')\n",
    "    return 1\n",
    "    \n",
    "    \n",
    "save_arrays(df_merged, layer_setup, '/data/training_data1/')\n"
   ]
  },
  {
   "cell_type": "code",
   "execution_count": 28,
   "id": "stock-comedy",
   "metadata": {
    "tags": []
   },
   "outputs": [
    {
     "name": "stdout",
     "output_type": "stream",
     "text": [
      "Error with image: /data/image_final2/GEE_images_final2_lores_srtm_3995_MVN-2019-00361-ST_srtm_lores.tif error, not 10 images.  - MVN-2018-00129-SK error, not 10 images.  - MVN-2018-00132-SG error, not 10 images.  - MVN-2018-00134-SG error, not 10 images.  - MVN-2018-00136-SR error, not 10 images.  - MVN-2018-00142-SKor, not 10 images.  - LRL-2018-01094-LCL error, not 10 images.  - LRL-2018-01105-htm error, not 10 images.  - LRN-2020-00219 error, not 10 images.  - LRN-2020-00307 error, not 10 images.  - LRN-2020-00310 error, not 10 images.  - LRN-2020-00315 error, not 10 images.  - LRN-2020-00351 error, not 10 images.  - LRP-1997-00197 error, not 10 images.  - LRP-2009-00477 error, not 10 images.  - LRP-2013-01406 error, not 10 images.  - LRP-2014-01127 error, not 10 images.  - LRP-2015-01538 error, not 10 images.  - LRP-2016-00100MVK-2017-00862-TBMVK-2017-00903-CRMVN-2016-00528-STMVN-2018-00122-SL\n",
      "error in MVN-2019-00361-ST\n",
      "Error with image: /data/image_final2/GEE_images_final2_lores_srtm_5857_NAN-2016-01232-USH_srtm_lores.tifMG error, not 10 images.  - MVP-2016-04000-KBH error, not 10 images.  - MVP-2016-04005-KJHMVP-2017-03612-LMGMVP-2020-00179-AJK\n",
      "error in NAN-2016-01232-USH\n",
      "Error with image: /data/image_final2/GEE_images_final2_hires_srtm_8029_POA-2019-00608_srtm_hires.tif, not 10 images.  - POA-2017-00494 error, not 10 images.  - POA-2017-00497 error, not 10 images.  - POA-2017-00499s.  - NAO-2017-00981-jsh error, not 10 images.  - NAO-2017-01007-tmmNAO-2017-01107-rhsNWK-2015-02426\n",
      "Error with image: /data/image_final2/GEE_images_final2_lores_gmndwi_8029_POA-2019-00608_gmndwi_lores.tif\n",
      "error in POA-2019-00608\n",
      "Error with image: /data/image_final2/GEE_images_final2_lores_gmndwi_8463_SAC-2015-01689_gmndwi_lores.tif\n",
      "error in SAC-2015-01689\n",
      "SWT-2016-00311 error, not 10 images.  - 8573 training examples prepared in 1217 sec86 - SWG-2018-00265SWG-2018-00504\n"
     ]
    },
    {
     "data": {
      "text/plain": [
       "1"
      ]
     },
     "execution_count": 28,
     "metadata": {},
     "output_type": "execute_result"
    }
   ],
   "source": [
    "layer_setup2 = [['hires', 'gmndwi'], ['hires', 'transition'], ['hires', 'srtm'], # branch 1 hires\n",
    "               ['hires', 'mndwi'], ['hires', 'seasonality'], ['hires', 'transition'], # branch 2 hires\n",
    "               ['lores', 'gmndwi'], ['lores', 'mndwi'], ['lores', 'srtm']] #, branch 3 lores\n",
    "def save_arrays(df_lookup, layer_setup, location_save):\n",
    "    t0 = time.time()\n",
    "    array_count = 0\n",
    "    for da_num, ddf in df_lookup.groupby('da_num'):\n",
    "        if ddf.shape[0] != 10:\n",
    "            print(da_num, \"error, not 10 images. \", end = \" - \")\n",
    "            continue\n",
    "            \n",
    "        else:\n",
    "            try:\n",
    "                stacked_images = []\n",
    "                for channel in layer_setup:\n",
    "                    image_row = ddf[(ddf['img_res'] == channel[0])&(ddf['img_type'] == channel[1])]\n",
    "                    #print(image_row, type(image_row))\n",
    "                    if image_row.shape[0] != 1: \n",
    "                        print('Duplicates?', image_row)\n",
    "                    i_arr = create_array(image_row.img_path.iloc[0])\n",
    "                    if channel[1] == 'srtm': i_arr / 200. # scale the srtm\n",
    "                    stacked_images.append(i_arr)\n",
    "                print(da_num, end = '\\r')\n",
    "                np.save(location_save + str(da_num) + '.npy', np.concatenate(stacked_images))\n",
    "\n",
    "            except:\n",
    "                print('error in', da_num)\n",
    "            array_count += 1\n",
    "\n",
    "            #break\n",
    "    print(array_count, 'training examples prepared in', round(time.time()-t0), 'sec')\n",
    "    return 1\n",
    "    \n",
    "    \n",
    "save_arrays(df_merged, layer_setup2, '/data/training_data2/')\n"
   ]
  },
  {
   "cell_type": "code",
   "execution_count": 11,
   "id": "advanced-serve",
   "metadata": {
    "collapsed": true,
    "jupyter": {
     "outputs_hidden": true
    },
    "tags": []
   },
   "outputs": [
    {
     "name": "stdout",
     "output_type": "stream",
     "text": [
      "(9, 5)\n",
      "(5, 5)\n",
      "(5, 5)\n",
      "(5, 5)\n",
      "(5, 5)\n",
      "(9, 5)\n",
      "(9, 5)\n",
      "(7, 5)\n",
      "(7, 5)\n",
      "(7, 5)\n",
      "(6, 5)\n",
      "(2, 5)\n",
      "(2, 5)\n",
      "(2, 5)\n",
      "(2, 5)\n",
      "(2, 5)\n",
      "(2, 5)\n",
      "(2, 5)\n",
      "(2, 5)\n",
      "(2, 5)\n",
      "(2, 5)\n",
      "(2, 5)\n",
      "(2, 5)\n",
      "(2, 5)\n",
      "(2, 5)\n",
      "(2, 5)\n",
      "(2, 5)\n",
      "(2, 5)\n",
      "(2, 5)\n",
      "(2, 5)\n",
      "(2, 5)\n",
      "(2, 5)\n",
      "(2, 5)\n",
      "(2, 5)\n",
      "(2, 5)\n",
      "(2, 5)\n",
      "(2, 5)\n",
      "(2, 5)\n",
      "(2, 5)\n",
      "(2, 5)\n",
      "(9, 5)\n",
      "(9, 5)\n",
      "(7, 5)\n",
      "(8, 5)\n",
      "(8, 5)\n",
      "(7, 5)\n",
      "(7, 5)\n",
      "(7, 5)\n",
      "(8, 5)\n",
      "(8, 5)\n",
      "(7, 5)\n",
      "(8, 5)\n",
      "(7, 5)\n",
      "(7, 5)\n",
      "(7, 5)\n",
      "(7, 5)\n",
      "(7, 5)\n",
      "(7, 5)\n",
      "(7, 5)\n",
      "(7, 5)\n",
      "(7, 5)\n",
      "(7, 5)\n",
      "(9, 5)\n",
      "(1, 5)\n",
      "(1, 5)\n",
      "(1, 5)\n",
      "(1, 5)\n",
      "(2, 5)\n",
      "(1, 5)\n",
      "(2, 5)\n",
      "(1, 5)\n",
      "(2, 5)\n",
      "(1, 5)\n",
      "(2, 5)\n",
      "(1, 5)\n",
      "(2, 5)\n",
      "(1, 5)\n",
      "(2, 5)\n",
      "(1, 5)\n",
      "(2, 5)\n",
      "(1, 5)\n",
      "(2, 5)\n",
      "(1, 5)\n",
      "(2, 5)\n",
      "(1, 5)\n",
      "(2, 5)\n",
      "(2, 5)\n",
      "(2, 5)\n",
      "(2, 5)\n",
      "(2, 5)\n",
      "(2, 5)\n",
      "(2, 5)\n",
      "(2, 5)\n",
      "(2, 5)\n",
      "(2, 5)\n",
      "(2, 5)\n",
      "(2, 5)\n",
      "(2, 5)\n",
      "(2, 5)\n",
      "(2, 5)\n",
      "(2, 5)\n",
      "(2, 5)\n",
      "(2, 5)\n",
      "(2, 5)\n",
      "(2, 5)\n",
      "(2, 5)\n",
      "(2, 5)\n",
      "(2, 5)\n",
      "(2, 5)\n",
      "(2, 5)\n",
      "(2, 5)\n",
      "(2, 5)\n",
      "(2, 5)\n",
      "(2, 5)\n",
      "(2, 5)\n",
      "(2, 5)\n",
      "(2, 5)\n",
      "(2, 5)\n",
      "(2, 5)\n",
      "(2, 5)\n",
      "(2, 5)\n",
      "(2, 5)\n",
      "(2, 5)\n",
      "(2, 5)\n",
      "(2, 5)\n",
      "(2, 5)\n",
      "(2, 5)\n",
      "(2, 5)\n",
      "(2, 5)\n",
      "(2, 5)\n",
      "(2, 5)\n",
      "(2, 5)\n",
      "(2, 5)\n",
      "(2, 5)\n",
      "(2, 5)\n",
      "(2, 5)\n",
      "(2, 5)\n",
      "(2, 5)\n",
      "(2, 5)\n",
      "(2, 5)\n",
      "(2, 5)\n",
      "(2, 5)\n",
      "(2, 5)\n",
      "(2, 5)\n",
      "(2, 5)\n",
      "(2, 5)\n",
      "(2, 5)\n",
      "(2, 5)\n",
      "(2, 5)\n",
      "(2, 5)\n",
      "(2, 5)\n",
      "(2, 5)\n",
      "(2, 5)\n",
      "(2, 5)\n",
      "(2, 5)\n",
      "(2, 5)\n",
      "(2, 5)\n",
      "(5, 5)\n",
      "(2, 5)\n",
      "(5, 5)\n",
      "(2, 5)\n",
      "(5, 5)\n",
      "(2, 5)\n",
      "(5, 5)\n",
      "(2, 5)\n",
      "(5, 5)\n",
      "(2, 5)\n",
      "(5, 5)\n",
      "(2, 5)\n",
      "(5, 5)\n",
      "(2, 5)\n",
      "(5, 5)\n",
      "(2, 5)\n",
      "(5, 5)\n",
      "(2, 5)\n",
      "(9, 5)\n",
      "(2, 5)\n",
      "(9, 5)\n",
      "(2, 5)\n",
      "(9, 5)\n",
      "(2, 5)\n",
      "(9, 5)\n",
      "(2, 5)\n",
      "(9, 5)\n",
      "(2, 5)\n",
      "(5, 5)\n",
      "(8, 5)\n",
      "(9, 5)\n",
      "(8, 5)\n",
      "(8, 5)\n",
      "(7, 5)\n",
      "(6, 5)\n",
      "(3, 5)\n",
      "(6, 5)\n",
      "(5, 5)\n",
      "(5, 5)\n",
      "(4, 5)\n",
      "(3, 5)\n",
      "(8, 5)\n",
      "(8, 5)\n",
      "(8, 5)\n",
      "(8, 5)\n",
      "(8, 5)\n",
      "(5, 5)\n",
      "(6, 5)\n",
      "(7, 5)\n",
      "(8, 5)\n",
      "(9, 5)\n",
      "(4, 5)\n",
      "(9, 5)\n",
      "(2, 5)\n",
      "(7, 5)\n",
      "(2, 5)\n",
      "(9, 5)\n",
      "(6, 5)\n",
      "(2, 5)\n",
      "(4, 5)\n",
      "(8, 5)\n",
      "(4, 5)\n",
      "(3, 5)\n",
      "(9, 5)\n",
      "(2, 5)\n",
      "(2, 5)\n",
      "(6, 5)\n",
      "(9, 5)\n",
      "(9, 5)\n",
      "(6, 5)\n",
      "(1, 5)\n",
      "(5, 5)\n",
      "(5, 5)\n",
      "(7, 5)\n",
      "(4, 5)\n",
      "(7, 5)\n",
      "(7, 5)\n",
      "(8, 5)\n",
      "(5, 5)\n",
      "(9, 5)\n",
      "(7, 5)\n",
      "(6, 5)\n",
      "(3, 5)\n",
      "(8, 5)\n",
      "(7, 5)\n",
      "(355, 5)\n",
      "(382, 5)\n",
      "(374, 5)\n",
      "(186, 5)\n",
      "(345, 5)\n",
      "(185, 5)\n"
     ]
    },
    {
     "data": {
      "text/plain": [
       "248"
      ]
     },
     "execution_count": 11,
     "metadata": {},
     "output_type": "execute_result"
    }
   ],
   "source": [
    "img_sum_list = []\n",
    "for da, dadf in df.groupby('da_num'):\n",
    "    img_sum_list.append(dadf.shape[0])\n",
    "    if dadf.shape[0] != 10: print(dadf.shape)\n",
    "len([x for x in img_sum_list if x != 10])"
   ]
  },
  {
   "cell_type": "code",
   "execution_count": 13,
   "id": "taken-casting",
   "metadata": {
    "tags": []
   },
   "outputs": [],
   "source": [
    "#fig, ax = plt.subplots(4,5, figsize = (20,19))\n",
    "#axes = [(x,y) for x in range(4) for y in range(5)]\n",
    "#print(axes)"
   ]
  },
  {
   "cell_type": "code",
   "execution_count": 127,
   "id": "psychological-disease",
   "metadata": {},
   "outputs": [
    {
     "name": "stdout",
     "output_type": "stream",
     "text": [
      "None <class 'NoneType'>\n"
     ]
    },
    {
     "ename": "AttributeError",
     "evalue": "'NoneType' object has no attribute 'RasterCount'",
     "output_type": "error",
     "traceback": [
      "\u001b[0;31m---------------------------------------------------------------------------\u001b[0m",
      "\u001b[0;31mAttributeError\u001b[0m                            Traceback (most recent call last)",
      "\u001b[0;32m<ipython-input-127-5a6884fc56e7>\u001b[0m in \u001b[0;36m<module>\u001b[0;34m\u001b[0m\n\u001b[1;32m      3\u001b[0m \u001b[0mp\u001b[0m \u001b[0;34m=\u001b[0m \u001b[0mgdal\u001b[0m\u001b[0;34m.\u001b[0m\u001b[0mOpen\u001b[0m\u001b[0;34m(\u001b[0m\u001b[0mstr\u001b[0m\u001b[0;34m(\u001b[0m\u001b[0mtif_image\u001b[0m\u001b[0;34m)\u001b[0m\u001b[0;34m)\u001b[0m\u001b[0;34m\u001b[0m\u001b[0;34m\u001b[0m\u001b[0m\n\u001b[1;32m      4\u001b[0m \u001b[0mprint\u001b[0m\u001b[0;34m(\u001b[0m\u001b[0mp\u001b[0m\u001b[0;34m,\u001b[0m \u001b[0mtype\u001b[0m\u001b[0;34m(\u001b[0m\u001b[0mp\u001b[0m\u001b[0;34m)\u001b[0m\u001b[0;34m)\u001b[0m\u001b[0;34m\u001b[0m\u001b[0;34m\u001b[0m\u001b[0m\n\u001b[0;32m----> 5\u001b[0;31m \u001b[0mchannels\u001b[0m \u001b[0;34m=\u001b[0m \u001b[0mp\u001b[0m\u001b[0;34m.\u001b[0m\u001b[0mRasterCount\u001b[0m\u001b[0;34m\u001b[0m\u001b[0;34m\u001b[0m\u001b[0m\n\u001b[0m\u001b[1;32m      6\u001b[0m \u001b[0;34m\u001b[0m\u001b[0m\n\u001b[1;32m      7\u001b[0m \u001b[0;31m# iterate through rasters and add each to the list of layer_list\u001b[0m\u001b[0;34m\u001b[0m\u001b[0;34m\u001b[0m\u001b[0;34m\u001b[0m\u001b[0m\n",
      "\u001b[0;31mAttributeError\u001b[0m: 'NoneType' object has no attribute 'RasterCount'"
     ]
    }
   ],
   "source": [
    "tif_image = '/data/image_final2/GEE_images_final2_hires_srtm_8029_POA-2019-00608_srtm_hires.tif'\n",
    "\n",
    "p = gdal.Open(str(tif_image))\n",
    "print(p, type(p))\n",
    "channels = p.RasterCount\n",
    "\n",
    "# iterate through rasters and add each to the list of layer_list\n",
    "layer_list = [np.array(p.GetRasterBand(i).ReadAsArray()) for i in range(1,channels+1)] "
   ]
  },
  {
   "cell_type": "code",
   "execution_count": 147,
   "id": "defensive-lobby",
   "metadata": {},
   "outputs": [
    {
     "name": "stdout",
     "output_type": "stream",
     "text": [
      "(20090, 7)\n",
      "(20080, 7)\n"
     ]
    }
   ],
   "source": [
    "print(df_merged.shape)\n",
    "df_merged = df_merged[~(df_merged['da_num'] == 'POA-2019-00608')]\n",
    "print(df_merged.shape)"
   ]
  },
  {
   "cell_type": "code",
   "execution_count": 148,
   "id": "acute-petersburg",
   "metadata": {},
   "outputs": [
    {
     "name": "stdout",
     "output_type": "stream",
     "text": [
      "LRB-2004-00299 error, not 10 images.\n",
      "LRC-2012-00698 error, not 10 images.\n",
      "LRH-2015-00966-BCR error, not 10 images.\n",
      "LRH-2018-00971-GUY error, not 10 images.\n",
      "LRH-2020-00057-SCR error, not 10 images.\n",
      "MVN-2015-00044-SR error, not 10 images.\n",
      "MVN-2015-00919-SQ error, not 10 images.\n",
      "MVN-2019-00883-SL error, not 10 images.\n",
      "MVP-2008-04451-WAB error, not 10 images.\n",
      "MVP-2016-02261-RJH error, not 10 images.\n",
      "NAO-2016-00437-tca error, not 10 images.\n",
      "NAO-2020-00781-bcd error, not 10 images.\n",
      "NAP-2010-00830-67 error, not 10 images.\n",
      "NWO-2016-01637-BIS error, not 10 images.\n",
      "NWO-2016-02128-BIS error, not 10 images.\n",
      "NWO-2017-00021-BIS error, not 10 images.\n",
      "NWO-2019-00281-DEN error, not 10 images.\n",
      "NWS-2016-00994 error, not 10 images.\n",
      "POH-2011-00296-RD9 error, not 10 images.\n",
      "SAW-2019-00663 error, not 10 images.\n",
      "1995 training examples prepared in 81 sec\n",
      "(1995, 256, 256, 6) (1995,)\n"
     ]
    }
   ],
   "source": [
    "def packager1(df_lookup, layer_setup):\n",
    "    t0 = time.time()\n",
    "    X = []\n",
    "    y = []\n",
    "    for da_num, ddf in df_lookup.groupby('da_num'):\n",
    "        if ddf.shape[0] != 10:\n",
    "            print(da_num, \"error, not 10 images. \", end = \" - \")\n",
    "            continue\n",
    "            \n",
    "        else:\n",
    "            stacked_images = []\n",
    "            for channel in layer_setup:\n",
    "                image_row = ddf[(ddf['img_res'] == channel[0])&(ddf['img_type'] == channel[1])]\n",
    "                #print(image_row, type(image_row))\n",
    "                if image_row.shape[0] != 1: \n",
    "                    print('Duplicates?', image_row)\n",
    "                stacked_images.append(create_array(image_row.img_path.iloc[0]))\n",
    "            X.append(np.array(stacked_images).reshape(1,256,256,len(layer_setup)))\n",
    "            \n",
    "            y.append(ddf.cwa_determination.iloc[0])\n",
    "            # break\n",
    "    print(len(y), 'training examples prepared in', round(time.time()-t0), 'sec')\n",
    "    return np.concatenate(X), np.array(y)\n",
    "    \n",
    "    \n",
    "X, y = packager1(df_merged, layer_setup)\n",
    "print(X.shape, y.shape)"
   ]
  },
  {
   "cell_type": "code",
   "execution_count": 166,
   "id": "hispanic-excellence",
   "metadata": {
    "tags": []
   },
   "outputs": [
    {
     "name": "stdout",
     "output_type": "stream",
     "text": [
      "<class 'tensorflow.python.keras.engine.functional.Functional'>\n",
      "Model: \"vgg16\"\n",
      "_________________________________________________________________\n",
      "Layer (type)                 Output Shape              Param #   \n",
      "=================================================================\n",
      "input_11 (InputLayer)        [(None, 256, 256, 3)]     0         \n",
      "_________________________________________________________________\n",
      "block1_conv1 (Conv2D)        (None, 256, 256, 64)      1792      \n",
      "_________________________________________________________________\n",
      "block1_conv2 (Conv2D)        (None, 256, 256, 64)      36928     \n",
      "_________________________________________________________________\n",
      "block1_pool (MaxPooling2D)   (None, 128, 128, 64)      0         \n",
      "_________________________________________________________________\n",
      "block2_conv1 (Conv2D)        (None, 128, 128, 128)     73856     \n",
      "_________________________________________________________________\n",
      "block2_conv2 (Conv2D)        (None, 128, 128, 128)     147584    \n",
      "_________________________________________________________________\n",
      "block2_pool (MaxPooling2D)   (None, 64, 64, 128)       0         \n",
      "_________________________________________________________________\n",
      "block3_conv1 (Conv2D)        (None, 64, 64, 256)       295168    \n",
      "_________________________________________________________________\n",
      "block3_conv2 (Conv2D)        (None, 64, 64, 256)       590080    \n",
      "_________________________________________________________________\n",
      "block3_conv3 (Conv2D)        (None, 64, 64, 256)       590080    \n",
      "_________________________________________________________________\n",
      "block3_pool (MaxPooling2D)   (None, 32, 32, 256)       0         \n",
      "_________________________________________________________________\n",
      "block4_conv1 (Conv2D)        (None, 32, 32, 512)       1180160   \n",
      "_________________________________________________________________\n",
      "block4_conv2 (Conv2D)        (None, 32, 32, 512)       2359808   \n",
      "_________________________________________________________________\n",
      "block4_conv3 (Conv2D)        (None, 32, 32, 512)       2359808   \n",
      "_________________________________________________________________\n",
      "block4_pool (MaxPooling2D)   (None, 16, 16, 512)       0         \n",
      "_________________________________________________________________\n",
      "block5_conv1 (Conv2D)        (None, 16, 16, 512)       2359808   \n",
      "_________________________________________________________________\n",
      "block5_conv2 (Conv2D)        (None, 16, 16, 512)       2359808   \n",
      "_________________________________________________________________\n",
      "block5_conv3 (Conv2D)        (None, 16, 16, 512)       2359808   \n",
      "_________________________________________________________________\n",
      "block5_pool (MaxPooling2D)   (None, 8, 8, 512)         0         \n",
      "=================================================================\n",
      "Total params: 14,714,688\n",
      "Trainable params: 0\n",
      "Non-trainable params: 14,714,688\n",
      "_________________________________________________________________\n"
     ]
    }
   ],
   "source": [
    "## develop input splitter\n",
    "from keras.applications.vgg16 import VGG16\n",
    "vgg16_model1 = VGG16(include_top=False, weights='imagenet', input_shape=(256,256, 3))\n",
    "vgg16_model2 = VGG16(include_top=False, weights='imagenet', input_shape=(256,256, 3))\n",
    "vgg16_model1.trainable = False\n",
    "vgg16_model2.trainable = False\n",
    "\n",
    "print(type(vgg16_model1))\n",
    "vgg16_model1.summary()"
   ]
  },
  {
   "cell_type": "code",
   "execution_count": 186,
   "id": "unlimited-medline",
   "metadata": {},
   "outputs": [
    {
     "name": "stdout",
     "output_type": "stream",
     "text": [
      "[0.22833636 0.45173023 0.3793516  0.65842719 0.77616611 0.01508382]\n",
      "[0.22833636 0.45173023 0.3793516  0.65842719 0.77616611 0.01508382]\n",
      "0.13897180557250977\n"
     ]
    }
   ],
   "source": [
    "s = np.random.rand(256,256,6)\n",
    "print(s[2,2])\n",
    "t0 = time.time()\n",
    "np.save('/data/test.npy', s)\n",
    "t = np.load('/data/test.npy')\n",
    "print(t[2,2])\n",
    "print(time.time()-t0)"
   ]
  },
  {
   "cell_type": "code",
   "execution_count": 171,
   "id": "quantitative-fluid",
   "metadata": {},
   "outputs": [],
   "source": [
    "import pickle\n",
    "def pickle_write(loc, s_in):\n",
    "    with open(\"/data/test.pkl\", \"wb\") as f:\n",
    "        pickle.dump(s_in, f)\n",
    "def pickle_load(s_arra):\n",
    "    with open(s_arra, 'rb') as f:\n",
    "        return pickle.load(f)"
   ]
  },
  {
   "cell_type": "code",
   "execution_count": 179,
   "id": "turkish-consultancy",
   "metadata": {},
   "outputs": [
    {
     "name": "stdout",
     "output_type": "stream",
     "text": [
      "[0.04989276 0.16162271 0.6235208  0.21704524 0.15056739 0.48738028]\n",
      "[0.04989276 0.16162271 0.6235208  0.21704524 0.15056739 0.48738028]\n",
      "0.13547706604003906\n"
     ]
    }
   ],
   "source": [
    "s = np.random.rand(256,256,6)\n",
    "print(s[2,2])\n",
    "t0 = time.time()\n",
    "pickle_write('/data/test.pkl', s)\n",
    "t = pickle_load('/data/test.pkl')\n",
    "print(t[2,2])\n",
    "print(time.time()-t0)"
   ]
  },
  {
   "cell_type": "code",
   "execution_count": 158,
   "id": "disturbed-summary",
   "metadata": {
    "tags": []
   },
   "outputs": [
    {
     "name": "stdout",
     "output_type": "stream",
     "text": [
      "(1, 256, 256, 3)\n"
     ]
    },
    {
     "ename": "NameError",
     "evalue": "name 'vgg16_model1' is not defined",
     "output_type": "error",
     "traceback": [
      "\u001b[0;31m---------------------------------------------------------------------------\u001b[0m",
      "\u001b[0;31mNameError\u001b[0m                                 Traceback (most recent call last)",
      "\u001b[0;32m<ipython-input-158-f5c8d167ce4b>\u001b[0m in \u001b[0;36m<module>\u001b[0;34m\u001b[0m\n\u001b[1;32m      2\u001b[0m \u001b[0mtest_input\u001b[0m \u001b[0;34m=\u001b[0m \u001b[0mtest_input\u001b[0m\u001b[0;34m.\u001b[0m\u001b[0mreshape\u001b[0m\u001b[0;34m(\u001b[0m\u001b[0;36m1\u001b[0m\u001b[0;34m,\u001b[0m \u001b[0;36m256\u001b[0m\u001b[0;34m,\u001b[0m\u001b[0;36m256\u001b[0m\u001b[0;34m,\u001b[0m \u001b[0;36m3\u001b[0m\u001b[0;34m)\u001b[0m\u001b[0;34m\u001b[0m\u001b[0;34m\u001b[0m\u001b[0m\n\u001b[1;32m      3\u001b[0m \u001b[0mprint\u001b[0m\u001b[0;34m(\u001b[0m\u001b[0mtest_input\u001b[0m\u001b[0;34m.\u001b[0m\u001b[0mshape\u001b[0m\u001b[0;34m)\u001b[0m\u001b[0;34m\u001b[0m\u001b[0;34m\u001b[0m\u001b[0m\n\u001b[0;32m----> 4\u001b[0;31m \u001b[0mvgg16_model1\u001b[0m\u001b[0;34m.\u001b[0m\u001b[0mpredict\u001b[0m\u001b[0;34m(\u001b[0m\u001b[0mtest_input\u001b[0m\u001b[0;34m)\u001b[0m\u001b[0;34m\u001b[0m\u001b[0;34m\u001b[0m\u001b[0m\n\u001b[0m",
      "\u001b[0;31mNameError\u001b[0m: name 'vgg16_model1' is not defined"
     ]
    }
   ],
   "source": [
    "test_input = np.random.rand(256,256,3)\n",
    "test_input = test_input.reshape(1, 256,256, 3)\n",
    "print(test_input.shape)\n",
    "vgg16_model1.predict(test_input)"
   ]
  },
  {
   "cell_type": "code",
   "execution_count": 149,
   "id": "noticed-indiana",
   "metadata": {},
   "outputs": [
    {
     "ename": "TypeError",
     "evalue": "tuple indices must be integers or slices, not tuple",
     "output_type": "error",
     "traceback": [
      "\u001b[0;31m---------------------------------------------------------------------------\u001b[0m",
      "\u001b[0;31mTypeError\u001b[0m                                 Traceback (most recent call last)",
      "\u001b[0;32m<ipython-input-149-49387dbb23d9>\u001b[0m in \u001b[0;36m<module>\u001b[0;34m\u001b[0m\n\u001b[1;32m      1\u001b[0m \u001b[0;32mfor\u001b[0m \u001b[0mi\u001b[0m \u001b[0;32min\u001b[0m \u001b[0mrange\u001b[0m\u001b[0;34m(\u001b[0m\u001b[0;36m2\u001b[0m\u001b[0;34m)\u001b[0m\u001b[0;34m:\u001b[0m\u001b[0;34m\u001b[0m\u001b[0;34m\u001b[0m\u001b[0m\n\u001b[1;32m      2\u001b[0m     \u001b[0ms\u001b[0m \u001b[0;34m=\u001b[0m \u001b[0mnp\u001b[0m\u001b[0;34m.\u001b[0m\u001b[0mrandom\u001b[0m\u001b[0;34m.\u001b[0m\u001b[0mrand\u001b[0m\u001b[0;34m(\u001b[0m\u001b[0;36m256\u001b[0m\u001b[0;34m,\u001b[0m\u001b[0;36m256\u001b[0m\u001b[0;34m,\u001b[0m\u001b[0;36m6\u001b[0m\u001b[0;34m)\u001b[0m\u001b[0;34m[\u001b[0m\u001b[0;34m:\u001b[0m\u001b[0;34m,\u001b[0m\u001b[0;34m:\u001b[0m\u001b[0;34m,\u001b[0m \u001b[0mi\u001b[0m\u001b[0;34m*\u001b[0m\u001b[0;36m3\u001b[0m\u001b[0;34m:\u001b[0m\u001b[0;36m3\u001b[0m\u001b[0;34m*\u001b[0m\u001b[0;34m(\u001b[0m\u001b[0mi\u001b[0m\u001b[0;34m+\u001b[0m\u001b[0;36m1\u001b[0m\u001b[0;34m)\u001b[0m\u001b[0;34m]\u001b[0m\u001b[0;34m.\u001b[0m\u001b[0mshape\u001b[0m\u001b[0;34m\u001b[0m\u001b[0;34m\u001b[0m\u001b[0m\n\u001b[0;32m----> 3\u001b[0;31m     \u001b[0mprint\u001b[0m\u001b[0;34m(\u001b[0m\u001b[0ms\u001b[0m\u001b[0;34m[\u001b[0m\u001b[0;34m:\u001b[0m\u001b[0;36m3\u001b[0m\u001b[0;34m,\u001b[0m\u001b[0;34m:\u001b[0m\u001b[0;36m1\u001b[0m\u001b[0;34m]\u001b[0m\u001b[0;34m)\u001b[0m\u001b[0;34m\u001b[0m\u001b[0;34m\u001b[0m\u001b[0m\n\u001b[0m",
      "\u001b[0;31mTypeError\u001b[0m: tuple indices must be integers or slices, not tuple"
     ]
    }
   ],
   "source": [
    "for i in range(2):\n",
    "    s = np.random.rand(256,256,6)[:,:, i*3:3*(i+1)].shape\n",
    "    print(s[:3,:1])"
   ]
  },
  {
   "cell_type": "code",
   "execution_count": 179,
   "id": "amateur-queen",
   "metadata": {},
   "outputs": [
    {
     "name": "stdout",
     "output_type": "stream",
     "text": [
      "(None, 256, 256, 6)\n",
      "(None, 256, 256, 3)\n",
      "(None, 8, 8, 512)\n",
      "(None, 8, 8, 10)\n",
      "(None, 640)\n",
      "(None, 256, 256, 6)\n",
      "(None, 256, 256, 3)\n",
      "(None, 8, 8, 512)\n",
      "(None, 8, 8, 10)\n",
      "(None, 640)\n",
      "(None, 1280)\n",
      "(None, 10)\n",
      "(None, 2)\n",
      "(None, 2)\n"
     ]
    }
   ],
   "source": [
    "from keras.layers import Dense, Concatenate, Input, Lambda, Flatten, Softmax\n",
    "from keras.models import Model, Sequential\n",
    "\n",
    "num_channels = 6\n",
    "input = Input(shape=(256,256, num_channels))\n",
    "\n",
    "branch_outputs = []\n",
    "\n",
    "# loop for however many branches you want to use.  (each branch needs 3 channel depth)\n",
    "for i in [0,3]:\n",
    "    # create looping so that vgg16 model input is created ie 256,256,3\n",
    "    print(input.shape)\n",
    "    out = Lambda(lambda x: x[:,:,:,i:i+3])(input)\n",
    "    print(out.shape)\n",
    "    \n",
    "    # Setting up your layers in each branch: (currently each branch is identical architecture.)\n",
    "    if i == 0: out = Sequential(vgg16_model1)(out)   # use pretrained and loaded vgg16\n",
    "    else: out = Sequential(vgg16_model1)(out)   # use pretrained and loaded vgg16\n",
    "    print(out.shape)\n",
    "    out = Dense(10)(out)\n",
    "    print(out.shape)\n",
    "    out = Flatten()(out)\n",
    "    print(out.shape)\n",
    "    branch_outputs.append(out)\n",
    "\n",
    "# Concatenating the branches outputs:\n",
    "out = Concatenate()(branch_outputs)\n",
    "print(out.shape)\n",
    "\n",
    "# Add final dense layers and softmax\n",
    "out = Dense(10)(out)\n",
    "print(out.shape)\n",
    "out = Dense(6)(out)\n",
    "out = Dense(2)(out)\n",
    "print(out.shape)\n",
    "out = Softmax()(out)\n",
    "print(out.shape)"
   ]
  },
  {
   "cell_type": "code",
   "execution_count": 175,
   "id": "demanding-planning",
   "metadata": {},
   "outputs": [
    {
     "name": "stdout",
     "output_type": "stream",
     "text": [
      "Mon Mar  1 00:06:58 2021       \n",
      "+-----------------------------------------------------------------------------+\n",
      "| NVIDIA-SMI 450.80.02    Driver Version: 450.80.02    CUDA Version: 11.0     |\n",
      "|-------------------------------+----------------------+----------------------+\n",
      "| GPU  Name        Persistence-M| Bus-Id        Disp.A | Volatile Uncorr. ECC |\n",
      "| Fan  Temp  Perf  Pwr:Usage/Cap|         Memory-Usage | GPU-Util  Compute M. |\n",
      "|                               |                      |               MIG M. |\n",
      "|===============================+======================+======================|\n",
      "|   0  Tesla K80           On   | 00000000:00:1E.0 Off |                    0 |\n",
      "| N/A   48C    P0    59W / 149W |  10868MiB / 11441MiB |      0%      Default |\n",
      "|                               |                      |                  N/A |\n",
      "+-------------------------------+----------------------+----------------------+\n",
      "                                                                               \n",
      "+-----------------------------------------------------------------------------+\n",
      "| Processes:                                                                  |\n",
      "|  GPU   GI   CI        PID   Type   Process name                  GPU Memory |\n",
      "|        ID   ID                                                   Usage      |\n",
      "|=============================================================================|\n",
      "+-----------------------------------------------------------------------------+\n"
     ]
    }
   ],
   "source": [
    "!nvidia-smi"
   ]
  },
  {
   "cell_type": "code",
   "execution_count": null,
   "id": "animal-abuse",
   "metadata": {},
   "outputs": [],
   "source": []
  },
  {
   "cell_type": "code",
   "execution_count": 180,
   "id": "tender-straight",
   "metadata": {},
   "outputs": [
    {
     "name": "stdout",
     "output_type": "stream",
     "text": [
      "Model: \"functional_7\"\n",
      "__________________________________________________________________________________________________\n",
      "Layer (type)                    Output Shape         Param #     Connected to                     \n",
      "==================================================================================================\n",
      "input_15 (InputLayer)           [(None, 256, 256, 6) 0                                            \n",
      "__________________________________________________________________________________________________\n",
      "lambda_12 (Lambda)              (None, 256, 256, 3)  0           input_15[0][0]                   \n",
      "__________________________________________________________________________________________________\n",
      "lambda_13 (Lambda)              (None, 256, 256, 3)  0           input_15[0][0]                   \n",
      "__________________________________________________________________________________________________\n",
      "sequential_9 (Sequential)       (None, 8, 8, 512)    14714688    lambda_12[0][0]                  \n",
      "__________________________________________________________________________________________________\n",
      "sequential_10 (Sequential)      (None, 8, 8, 512)    14714688    lambda_13[0][0]                  \n",
      "__________________________________________________________________________________________________\n",
      "dense_15 (Dense)                (None, 8, 8, 10)     5130        sequential_9[0][0]               \n",
      "__________________________________________________________________________________________________\n",
      "dense_16 (Dense)                (None, 8, 8, 10)     5130        sequential_10[0][0]              \n",
      "__________________________________________________________________________________________________\n",
      "flatten_9 (Flatten)             (None, 640)          0           dense_15[0][0]                   \n",
      "__________________________________________________________________________________________________\n",
      "flatten_10 (Flatten)            (None, 640)          0           dense_16[0][0]                   \n",
      "__________________________________________________________________________________________________\n",
      "concatenate_3 (Concatenate)     (None, 1280)         0           flatten_9[0][0]                  \n",
      "                                                                 flatten_10[0][0]                 \n",
      "__________________________________________________________________________________________________\n",
      "dense_17 (Dense)                (None, 10)           12810       concatenate_3[0][0]              \n",
      "__________________________________________________________________________________________________\n",
      "dense_18 (Dense)                (None, 6)            66          dense_17[0][0]                   \n",
      "__________________________________________________________________________________________________\n",
      "dense_19 (Dense)                (None, 2)            14          dense_18[0][0]                   \n",
      "__________________________________________________________________________________________________\n",
      "softmax_2 (Softmax)             (None, 2)            0           dense_19[0][0]                   \n",
      "==================================================================================================\n",
      "Total params: 14,737,838\n",
      "Trainable params: 23,150\n",
      "Non-trainable params: 14,714,688\n",
      "__________________________________________________________________________________________________\n"
     ]
    }
   ],
   "source": [
    "model = Model(inputs=input, outputs=out)   \n",
    "model.summary()\n",
    "#plot_model(model, to_file='model_plot.png', show_shapes=True, show_layer_names=True)"
   ]
  },
  {
   "cell_type": "code",
   "execution_count": 181,
   "id": "saving-blackberry",
   "metadata": {},
   "outputs": [],
   "source": [
    "predicts = model.predict(X)"
   ]
  },
  {
   "cell_type": "code",
   "execution_count": 18,
   "id": "collaborative-learning",
   "metadata": {
    "collapsed": true,
    "jupyter": {
     "outputs_hidden": true
    },
    "tags": []
   },
   "outputs": [
    {
     "data": {
      "text/plain": [
       "array([[0.52614987, 0.47385013],\n",
       "       [0.50729644, 0.49270362],\n",
       "       [0.4020764 , 0.59792364],\n",
       "       [0.5092877 , 0.49071234],\n",
       "       [0.558615  , 0.44138497],\n",
       "       [0.5424467 , 0.4575533 ],\n",
       "       [0.6158485 , 0.38415152],\n",
       "       [0.9279001 , 0.07209992],\n",
       "       [0.91072845, 0.08927153],\n",
       "       [0.7216913 , 0.27830866],\n",
       "       [0.69085824, 0.30914176],\n",
       "       [0.6877592 , 0.31224078],\n",
       "       [0.49993137, 0.50006866],\n",
       "       [0.6228172 , 0.37718278],\n",
       "       [0.79717696, 0.20282304],\n",
       "       [0.57873434, 0.4212657 ],\n",
       "       [0.6701145 , 0.32988548],\n",
       "       [0.4465543 , 0.5534457 ],\n",
       "       [0.47780797, 0.522192  ],\n",
       "       [0.6321457 , 0.3678543 ],\n",
       "       [0.4218403 , 0.5781597 ],\n",
       "       [0.7781874 , 0.22181265],\n",
       "       [0.50960356, 0.49039644],\n",
       "       [0.51452   , 0.48548   ],\n",
       "       [0.47596624, 0.5240337 ],\n",
       "       [0.60892016, 0.39107987],\n",
       "       [0.6190333 , 0.38096675],\n",
       "       [0.76610214, 0.23389782],\n",
       "       [0.64370394, 0.35629612],\n",
       "       [0.46383935, 0.5361606 ],\n",
       "       [0.52807903, 0.47192097],\n",
       "       [0.27429357, 0.7257064 ],\n",
       "       [0.95849615, 0.04150378],\n",
       "       [0.69966733, 0.30033267],\n",
       "       [0.88112235, 0.11887763],\n",
       "       [0.5668664 , 0.43313363],\n",
       "       [0.63916534, 0.36083463],\n",
       "       [0.7446403 , 0.25535968],\n",
       "       [0.81540674, 0.18459326],\n",
       "       [0.6653549 , 0.3346451 ],\n",
       "       [0.7062909 , 0.2937091 ],\n",
       "       [0.6333564 , 0.36664355],\n",
       "       [0.6671803 , 0.33281967],\n",
       "       [0.7341342 , 0.2658658 ],\n",
       "       [0.532403  , 0.467597  ],\n",
       "       [0.8227616 , 0.17723843],\n",
       "       [0.52625626, 0.47374377],\n",
       "       [0.58377707, 0.41622293],\n",
       "       [0.7369982 , 0.2630018 ],\n",
       "       [0.5635051 , 0.43649486],\n",
       "       [0.7221692 , 0.2778308 ],\n",
       "       [0.85456944, 0.14543058],\n",
       "       [0.64182884, 0.35817116],\n",
       "       [0.7559968 , 0.24400316],\n",
       "       [0.58079153, 0.41920847],\n",
       "       [0.7095586 , 0.29044142],\n",
       "       [0.93441707, 0.06558289],\n",
       "       [0.84700125, 0.15299873],\n",
       "       [0.6371511 , 0.36284885],\n",
       "       [0.5167399 , 0.48326012],\n",
       "       [0.86061746, 0.13938257],\n",
       "       [0.73152274, 0.2684773 ],\n",
       "       [0.65755284, 0.3424472 ],\n",
       "       [0.7974545 , 0.20254548],\n",
       "       [0.61018413, 0.38981587],\n",
       "       [0.5081564 , 0.49184355],\n",
       "       [0.5508581 , 0.44914195],\n",
       "       [0.61495674, 0.3850433 ],\n",
       "       [0.68383825, 0.31616178],\n",
       "       [0.49554658, 0.5044535 ],\n",
       "       [0.795489  , 0.20451099],\n",
       "       [0.68484896, 0.31515104],\n",
       "       [0.7160837 , 0.28391626],\n",
       "       [0.40979668, 0.5902033 ],\n",
       "       [0.54519707, 0.454803  ],\n",
       "       [0.40753064, 0.5924694 ],\n",
       "       [0.67713135, 0.3228686 ],\n",
       "       [0.7715943 , 0.22840576],\n",
       "       [0.7686121 , 0.23138787],\n",
       "       [0.9497432 , 0.05025681],\n",
       "       [0.9194543 , 0.08054575],\n",
       "       [0.53891885, 0.4610812 ],\n",
       "       [0.4908255 , 0.50917447],\n",
       "       [0.34262076, 0.6573792 ],\n",
       "       [0.81336063, 0.18663937]], dtype=float32)"
      ]
     },
     "execution_count": 18,
     "metadata": {},
     "output_type": "execute_result"
    }
   ],
   "source": [
    "predicts"
   ]
  },
  {
   "cell_type": "code",
   "execution_count": 177,
   "id": "changing-harvest",
   "metadata": {},
   "outputs": [],
   "source": [
    "model.compile(optimizer='sgd',\n",
    "              loss='binary_crossentropy',\n",
    "              metrics=['accuracy'])"
   ]
  },
  {
   "cell_type": "code",
   "execution_count": 182,
   "id": "jewish-clarity",
   "metadata": {},
   "outputs": [
    {
     "ename": "ModuleNotFoundError",
     "evalue": "No module named 'sklearn'",
     "output_type": "error",
     "traceback": [
      "\u001b[0;31m---------------------------------------------------------------------------\u001b[0m",
      "\u001b[0;31mModuleNotFoundError\u001b[0m                       Traceback (most recent call last)",
      "\u001b[0;32m<ipython-input-182-73edc048c06b>\u001b[0m in \u001b[0;36m<module>\u001b[0;34m\u001b[0m\n\u001b[0;32m----> 1\u001b[0;31m \u001b[0;32mfrom\u001b[0m \u001b[0msklearn\u001b[0m\u001b[0;34m.\u001b[0m\u001b[0mmodel_selection\u001b[0m \u001b[0;32mimport\u001b[0m \u001b[0mtrain_test_split\u001b[0m\u001b[0;34m\u001b[0m\u001b[0;34m\u001b[0m\u001b[0m\n\u001b[0m",
      "\u001b[0;31mModuleNotFoundError\u001b[0m: No module named 'sklearn'"
     ]
    }
   ],
   "source": [
    "from sklearn.model_selection import train_test_split"
   ]
  },
  {
   "cell_type": "code",
   "execution_count": 178,
   "id": "recreational-cliff",
   "metadata": {},
   "outputs": [
    {
     "name": "stdout",
     "output_type": "stream",
     "text": [
      "Epoch 1/2\n",
      "25/25 [==============================] - 33s 1s/step - loss: 4.8270 - accuracy: 0.3503 - val_loss: 6.2763 - val_accuracy: 0.3885\n",
      "Epoch 2/2\n",
      "25/25 [==============================] - 33s 1s/step - loss: 4.6937 - accuracy: 0.3346 - val_loss: 6.2206 - val_accuracy: 0.3985\n",
      "Train time: 73.5788266658783\n"
     ]
    }
   ],
   "source": [
    "t0 = time.time()\n",
    "model.fit(X, y, epochs=60, batch_size=64, validation_split = 0.2, workers=4, use_multiprocessing=True)\n",
    "print(\"Train time:\", time.time()-t0)"
   ]
  },
  {
   "cell_type": "code",
   "execution_count": 39,
   "id": "dependent-booth",
   "metadata": {},
   "outputs": [
    {
     "name": "stdout",
     "output_type": "stream",
     "text": [
      "(1, 256, 256, 6)\n",
      "[[0.4622121 0.537788 ]]\n",
      "time taken: 0.9495842456817627 seconds\n"
     ]
    }
   ],
   "source": [
    "import time\n",
    "test_input = np.random.rand(256,256,6)\n",
    "test_input = test_input.reshape(1, 256,256, 6)\n",
    "print(test_input.shape)\n",
    "t0 = time.time()\n",
    "print(model.predict(test_input))\n",
    "print(f\"time taken: {time.time()-t0} seconds\")"
   ]
  },
  {
   "cell_type": "code",
   "execution_count": 13,
   "id": "extra-formula",
   "metadata": {},
   "outputs": [
    {
     "data": {
      "text/plain": [
       "9.019184943337422e-08"
      ]
     },
     "execution_count": 13,
     "metadata": {},
     "output_type": "execute_result"
    }
   ],
   "source": [
    "test_input.flatten().min()"
   ]
  },
  {
   "cell_type": "code",
   "execution_count": 11,
   "id": "wanted-burke",
   "metadata": {},
   "outputs": [
    {
     "ename": "ValueError",
     "evalue": "Keras Visualizer: Layer not supported for visualizing",
     "output_type": "error",
     "traceback": [
      "\u001b[0;31m---------------------------------------------------------------------------\u001b[0m",
      "\u001b[0;31mValueError\u001b[0m                                Traceback (most recent call last)",
      "\u001b[0;32m<ipython-input-11-8d78ee4d9738>\u001b[0m in \u001b[0;36m<module>\u001b[0;34m\u001b[0m\n\u001b[1;32m      1\u001b[0m \u001b[0;32mfrom\u001b[0m \u001b[0mkeras_visualizer\u001b[0m \u001b[0;32mimport\u001b[0m \u001b[0mvisualizer\u001b[0m\u001b[0;34m\u001b[0m\u001b[0;34m\u001b[0m\u001b[0m\n\u001b[0;32m----> 2\u001b[0;31m \u001b[0mvisualizer\u001b[0m\u001b[0;34m(\u001b[0m\u001b[0mmodel\u001b[0m\u001b[0;34m,\u001b[0m \u001b[0mformat\u001b[0m\u001b[0;34m=\u001b[0m\u001b[0;34m'png'\u001b[0m\u001b[0;34m,\u001b[0m \u001b[0mview\u001b[0m\u001b[0;34m=\u001b[0m\u001b[0;32mTrue\u001b[0m\u001b[0;34m)\u001b[0m\u001b[0;34m\u001b[0m\u001b[0;34m\u001b[0m\u001b[0m\n\u001b[0m",
      "\u001b[0;32m/usr/local/lib/python3.6/dist-packages/keras_visualizer/__init__.py\u001b[0m in \u001b[0;36mvisualizer\u001b[0;34m(model, filename, format, view)\u001b[0m\n\u001b[1;32m    128\u001b[0m                 \u001b[0mc\u001b[0m\u001b[0;34m.\u001b[0m\u001b[0mnode\u001b[0m\u001b[0;34m(\u001b[0m\u001b[0mstr\u001b[0m\u001b[0;34m(\u001b[0m\u001b[0mn\u001b[0m\u001b[0;34m)\u001b[0m\u001b[0;34m,\u001b[0m \u001b[0mlabel\u001b[0m\u001b[0;34m=\u001b[0m\u001b[0;34mf'Image\\n{pxls[1]} x{pxls[2]} pixels\\n{clrmap}'\u001b[0m\u001b[0;34m,\u001b[0m \u001b[0mfontcolor\u001b[0m\u001b[0;34m=\u001b[0m\u001b[0;34m'white'\u001b[0m\u001b[0;34m,\u001b[0m \u001b[0mshape\u001b[0m\u001b[0;34m=\u001b[0m\u001b[0;34m'square'\u001b[0m\u001b[0;34m,\u001b[0m \u001b[0mstyle\u001b[0m\u001b[0;34m=\u001b[0m\u001b[0;34m'filled'\u001b[0m\u001b[0;34m,\u001b[0m \u001b[0mfillcolor\u001b[0m\u001b[0;34m=\u001b[0m\u001b[0mthe_color\u001b[0m\u001b[0;34m)\u001b[0m\u001b[0;34m\u001b[0m\u001b[0;34m\u001b[0m\u001b[0m\n\u001b[1;32m    129\u001b[0m             \u001b[0;32melse\u001b[0m\u001b[0;34m:\u001b[0m\u001b[0;34m\u001b[0m\u001b[0;34m\u001b[0m\u001b[0m\n\u001b[0;32m--> 130\u001b[0;31m                 \u001b[0;32mraise\u001b[0m \u001b[0mValueError\u001b[0m\u001b[0;34m(\u001b[0m\u001b[0;34m'Keras Visualizer: Layer not supported for visualizing'\u001b[0m\u001b[0;34m)\u001b[0m\u001b[0;34m\u001b[0m\u001b[0;34m\u001b[0m\u001b[0m\n\u001b[0m\u001b[1;32m    131\u001b[0m \u001b[0;34m\u001b[0m\u001b[0m\n\u001b[1;32m    132\u001b[0m         \u001b[0;31m# Hidden Layers\u001b[0m\u001b[0;34m\u001b[0m\u001b[0;34m\u001b[0m\u001b[0;34m\u001b[0m\u001b[0m\n",
      "\u001b[0;31mValueError\u001b[0m: Keras Visualizer: Layer not supported for visualizing"
     ]
    }
   ],
   "source": [
    "from keras_visualizer import visualizer \n",
    "visualizer(model, format='png', view=True)\n"
   ]
  },
  {
   "cell_type": "code",
   "execution_count": 7,
   "id": "honey-level",
   "metadata": {},
   "outputs": [
    {
     "name": "stdout",
     "output_type": "stream",
     "text": [
      "{'commit_hash': '2486838d9',\n",
      " 'commit_source': 'installation',\n",
      " 'default_encoding': 'ANSI_X3.4-1968',\n",
      " 'ipython_path': '/usr/local/lib/python3.6/dist-packages/IPython',\n",
      " 'ipython_version': '7.16.1',\n",
      " 'os_name': 'posix',\n",
      " 'platform': 'Linux-4.9.140-tegra-aarch64-with-Ubuntu-18.04-bionic',\n",
      " 'sys_executable': '/usr/bin/python3',\n",
      " 'sys_platform': 'linux',\n",
      " 'sys_version': '3.6.9 (default, Oct  8 2020, 12:12:24) \\n[GCC 8.4.0]'}\n"
     ]
    }
   ],
   "source": [
    "import IPython\n",
    "print(IPython.sys_info())"
   ]
  },
  {
   "cell_type": "code",
   "execution_count": 38,
   "id": "thousand-chaos",
   "metadata": {},
   "outputs": [
    {
     "name": "stdout",
     "output_type": "stream",
     "text": [
      "{'commit_hash': '2486838d9',\n",
      " 'commit_source': 'installation',\n",
      " 'default_encoding': 'UTF-8',\n",
      " 'ipython_path': '/usr/local/lib/python3.6/dist-packages/IPython',\n",
      " 'ipython_version': '7.16.1',\n",
      " 'os_name': 'posix',\n",
      " 'platform': 'Linux-5.4.0-1037-aws-x86_64-with-Ubuntu-18.04-bionic',\n",
      " 'sys_executable': '/usr/bin/python3',\n",
      " 'sys_platform': 'linux',\n",
      " 'sys_version': '3.6.9 (default, Jan 26 2021, 15:33:00) \\n[GCC 8.4.0]'}\n"
     ]
    }
   ],
   "source": [
    "import IPython\n",
    "print(IPython.sys_info())"
   ]
  },
  {
   "cell_type": "code",
   "execution_count": null,
   "id": "casual-devon",
   "metadata": {},
   "outputs": [],
   "source": []
  }
 ],
 "metadata": {
  "kernelspec": {
   "display_name": "Python 3",
   "language": "python",
   "name": "python3"
  },
  "language_info": {
   "codemirror_mode": {
    "name": "ipython",
    "version": 3
   },
   "file_extension": ".py",
   "mimetype": "text/x-python",
   "name": "python",
   "nbconvert_exporter": "python",
   "pygments_lexer": "ipython3",
   "version": "3.6.9"
  }
 },
 "nbformat": 4,
 "nbformat_minor": 5
}
