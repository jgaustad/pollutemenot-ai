{
 "cells": [
  {
   "cell_type": "code",
   "execution_count": 1,
   "id": "maritime-lender",
   "metadata": {},
   "outputs": [
    {
     "name": "stdout",
     "output_type": "stream",
     "text": [
      "2.3.0 tf\n",
      "2.4.3 keras\n"
     ]
    }
   ],
   "source": [
    "### Init network Build\n",
    "import numpy as np\n",
    "from pathlib import Path\n",
    "import pandas as pd\n",
    "from osgeo import gdal\n",
    "import keras\n",
    "import time\n",
    "import tensorflow as tf\n",
    "print(tf.__version__, 'tf')\n",
    "print(keras.__version__, 'keras')"
   ]
  },
  {
   "cell_type": "code",
   "execution_count": 2,
   "id": "adolescent-absolute",
   "metadata": {},
   "outputs": [],
   "source": [
    "df_merged = pd.read_csv('image_metrics_030621.csv')"
   ]
  },
  {
   "cell_type": "code",
   "execution_count": 3,
   "id": "fifth-antarctica",
   "metadata": {},
   "outputs": [
    {
     "name": "stdout",
     "output_type": "stream",
     "text": [
      "(87647, 11)\n"
     ]
    },
    {
     "data": {
      "text/html": [
       "<div>\n",
       "<style scoped>\n",
       "    .dataframe tbody tr th:only-of-type {\n",
       "        vertical-align: middle;\n",
       "    }\n",
       "\n",
       "    .dataframe tbody tr th {\n",
       "        vertical-align: top;\n",
       "    }\n",
       "\n",
       "    .dataframe thead th {\n",
       "        text-align: right;\n",
       "    }\n",
       "</style>\n",
       "<table border=\"1\" class=\"dataframe\">\n",
       "  <thead>\n",
       "    <tr style=\"text-align: right;\">\n",
       "      <th></th>\n",
       "      <th>Unnamed: 0</th>\n",
       "      <th>img_res</th>\n",
       "      <th>img_type</th>\n",
       "      <th>img_index</th>\n",
       "      <th>da_num</th>\n",
       "      <th>img_path</th>\n",
       "      <th>da_number</th>\n",
       "      <th>cwa_determination</th>\n",
       "      <th>metrics</th>\n",
       "      <th>mean</th>\n",
       "      <th>stdev</th>\n",
       "    </tr>\n",
       "  </thead>\n",
       "  <tbody>\n",
       "    <tr>\n",
       "      <th>0</th>\n",
       "      <td>0</td>\n",
       "      <td>lores</td>\n",
       "      <td>mndwi</td>\n",
       "      <td>292</td>\n",
       "      <td>LRC-2003-22227</td>\n",
       "      <td>/data/image_final2/GEE_images_final2_lores_mnd...</td>\n",
       "      <td>LRC-2003-22227</td>\n",
       "      <td>1</td>\n",
       "      <td>(-0.3306894463763968, 0.09898692070930509)</td>\n",
       "      <td>-0.330689</td>\n",
       "      <td>0.098987</td>\n",
       "    </tr>\n",
       "    <tr>\n",
       "      <th>1</th>\n",
       "      <td>1</td>\n",
       "      <td>hires</td>\n",
       "      <td>mndwi</td>\n",
       "      <td>8157</td>\n",
       "      <td>SAC-2007-01367</td>\n",
       "      <td>/data/image_final2/GEE_images_final2_hires_mnd...</td>\n",
       "      <td>SAC-2007-01367</td>\n",
       "      <td>0</td>\n",
       "      <td>(-0.40988840562690426, 0.19788100896017022)</td>\n",
       "      <td>-0.409888</td>\n",
       "      <td>0.197881</td>\n",
       "    </tr>\n",
       "    <tr>\n",
       "      <th>2</th>\n",
       "      <td>2</td>\n",
       "      <td>lores</td>\n",
       "      <td>srtm</td>\n",
       "      <td>5495</td>\n",
       "      <td>MVP-2020-00252-MHK</td>\n",
       "      <td>/data/image_final2/GEE_images_final2_lores_srt...</td>\n",
       "      <td>MVP-2020-00252-MHK</td>\n",
       "      <td>0</td>\n",
       "      <td>(211.5080108642578, 18.443937482788826)</td>\n",
       "      <td>211.508011</td>\n",
       "      <td>18.443937</td>\n",
       "    </tr>\n",
       "    <tr>\n",
       "      <th>3</th>\n",
       "      <td>3</td>\n",
       "      <td>lores</td>\n",
       "      <td>gmndwi</td>\n",
       "      <td>5824</td>\n",
       "      <td>NAN-2016-00095-USH</td>\n",
       "      <td>/data/image_final2/GEE_images_final2_lores_gmn...</td>\n",
       "      <td>NAN-2016-00095-USH</td>\n",
       "      <td>0</td>\n",
       "      <td>(0.56878513, 0.23097283)</td>\n",
       "      <td>0.568785</td>\n",
       "      <td>0.230973</td>\n",
       "    </tr>\n",
       "    <tr>\n",
       "      <th>4</th>\n",
       "      <td>4</td>\n",
       "      <td>hires</td>\n",
       "      <td>srtm</td>\n",
       "      <td>1436</td>\n",
       "      <td>LRL-2016-00917-htm</td>\n",
       "      <td>/data/image_final2/GEE_images_final2_hires_srt...</td>\n",
       "      <td>LRL-2016-00917-htm</td>\n",
       "      <td>0</td>\n",
       "      <td>(266.44921875, 1.7671324110003224)</td>\n",
       "      <td>266.449219</td>\n",
       "      <td>1.767132</td>\n",
       "    </tr>\n",
       "  </tbody>\n",
       "</table>\n",
       "</div>"
      ],
      "text/plain": [
       "   Unnamed: 0 img_res img_type  img_index              da_num  \\\n",
       "0           0   lores    mndwi        292      LRC-2003-22227   \n",
       "1           1   hires    mndwi       8157      SAC-2007-01367   \n",
       "2           2   lores     srtm       5495  MVP-2020-00252-MHK   \n",
       "3           3   lores   gmndwi       5824  NAN-2016-00095-USH   \n",
       "4           4   hires     srtm       1436  LRL-2016-00917-htm   \n",
       "\n",
       "                                            img_path           da_number  \\\n",
       "0  /data/image_final2/GEE_images_final2_lores_mnd...      LRC-2003-22227   \n",
       "1  /data/image_final2/GEE_images_final2_hires_mnd...      SAC-2007-01367   \n",
       "2  /data/image_final2/GEE_images_final2_lores_srt...  MVP-2020-00252-MHK   \n",
       "3  /data/image_final2/GEE_images_final2_lores_gmn...  NAN-2016-00095-USH   \n",
       "4  /data/image_final2/GEE_images_final2_hires_srt...  LRL-2016-00917-htm   \n",
       "\n",
       "   cwa_determination                                      metrics        mean  \\\n",
       "0                  1   (-0.3306894463763968, 0.09898692070930509)   -0.330689   \n",
       "1                  0  (-0.40988840562690426, 0.19788100896017022)   -0.409888   \n",
       "2                  0      (211.5080108642578, 18.443937482788826)  211.508011   \n",
       "3                  0                     (0.56878513, 0.23097283)    0.568785   \n",
       "4                  0           (266.44921875, 1.7671324110003224)  266.449219   \n",
       "\n",
       "       stdev  \n",
       "0   0.098987  \n",
       "1   0.197881  \n",
       "2  18.443937  \n",
       "3   0.230973  \n",
       "4   1.767132  "
      ]
     },
     "execution_count": 3,
     "metadata": {},
     "output_type": "execute_result"
    }
   ],
   "source": [
    "print(df_merged.shape)\n",
    "df_merged.head()"
   ]
  },
  {
   "cell_type": "code",
   "execution_count": 4,
   "id": "chronic-colombia",
   "metadata": {},
   "outputs": [
    {
     "data": {
      "text/plain": [
       "MVP    14375\n",
       "MVN     8057\n",
       "SWG     7395\n",
       "NAO     6484\n",
       "MVK     5909\n",
       "LRC     4946\n",
       "NWO     4676\n",
       "SAC     4459\n",
       "POA     4452\n",
       "LRH     3148\n",
       "LRL     3012\n",
       "LRB     2889\n",
       "NWK     2732\n",
       "LRE     1742\n",
       "SWL     1700\n",
       "SAW     1687\n",
       "NAN     1674\n",
       "MVM     1499\n",
       "NAB     1400\n",
       "NWP     1023\n",
       "NWS     1020\n",
       "NAP      940\n",
       "MVR      790\n",
       "SWT      428\n",
       "POH      340\n",
       "LRP      325\n",
       "NAE      290\n",
       "NWW      160\n",
       "MVS       50\n",
       "LRN       45\n",
       "Name: da_num, dtype: int64"
      ]
     },
     "execution_count": 4,
     "metadata": {},
     "output_type": "execute_result"
    }
   ],
   "source": [
    "f3 = df_merged.da_num.apply(lambda x: x[:3])\n",
    "f3.value_counts()"
   ]
  },
  {
   "cell_type": "code",
   "execution_count": 5,
   "id": "satellite-preliminary",
   "metadata": {},
   "outputs": [],
   "source": [
    "dir2 = '/data/training_data2/'\n",
    "train_X = [f for f in Path(dir2).iterdir() if 'MVK' in f.name]"
   ]
  },
  {
   "cell_type": "code",
   "execution_count": 6,
   "id": "molecular-revelation",
   "metadata": {},
   "outputs": [
    {
     "data": {
      "text/plain": [
       "'MVK-2016-00412-TB'"
      ]
     },
     "execution_count": 6,
     "metadata": {},
     "output_type": "execute_result"
    }
   ],
   "source": [
    "train_X[0].name[:-4]"
   ]
  },
  {
   "cell_type": "code",
   "execution_count": 7,
   "id": "recorded-chaos",
   "metadata": {},
   "outputs": [
    {
     "data": {
      "text/plain": [
       "0"
      ]
     },
     "execution_count": 7,
     "metadata": {},
     "output_type": "execute_result"
    }
   ],
   "source": [
    "def get_label(da_num_i, df_merged = df_merged):\n",
    "    return int(df_merged[df_merged.da_num == da_num_i].cwa_determination.iloc[0])\n",
    "get_label(train_X[0].name[:-4])"
   ]
  },
  {
   "cell_type": "code",
   "execution_count": 8,
   "id": "persistent-relevance",
   "metadata": {},
   "outputs": [],
   "source": [
    "train_y = [get_label(x.name[:-4]) for x in train_X]"
   ]
  },
  {
   "cell_type": "code",
   "execution_count": 9,
   "id": "colonial-farming",
   "metadata": {},
   "outputs": [
    {
     "name": "stdout",
     "output_type": "stream",
     "text": [
      "585 585\n"
     ]
    }
   ],
   "source": [
    "print(len(train_X), len(train_y))"
   ]
  },
  {
   "cell_type": "code",
   "execution_count": 10,
   "id": "posted-breakdown",
   "metadata": {},
   "outputs": [],
   "source": [
    "arr_train_X = np.array([np.load(f) for f in train_X])"
   ]
  },
  {
   "cell_type": "code",
   "execution_count": 11,
   "id": "intelligent-tennessee",
   "metadata": {},
   "outputs": [
    {
     "data": {
      "text/plain": [
       "(585, 9, 256, 256)"
      ]
     },
     "execution_count": 11,
     "metadata": {},
     "output_type": "execute_result"
    }
   ],
   "source": [
    "arr_train_X.shape"
   ]
  },
  {
   "cell_type": "code",
   "execution_count": null,
   "id": "sunrise-matrix",
   "metadata": {},
   "outputs": [],
   "source": []
  },
  {
   "cell_type": "code",
   "execution_count": null,
   "id": "joint-classification",
   "metadata": {},
   "outputs": [],
   "source": []
  },
  {
   "cell_type": "code",
   "execution_count": 15,
   "id": "laughing-sound",
   "metadata": {},
   "outputs": [
    {
     "name": "stdout",
     "output_type": "stream",
     "text": [
      "Tue Mar  9 02:58:50 2021       \n",
      "+-----------------------------------------------------------------------------+\n",
      "| NVIDIA-SMI 450.80.02    Driver Version: 450.80.02    CUDA Version: 11.0     |\n",
      "|-------------------------------+----------------------+----------------------+\n",
      "| GPU  Name        Persistence-M| Bus-Id        Disp.A | Volatile Uncorr. ECC |\n",
      "| Fan  Temp  Perf  Pwr:Usage/Cap|         Memory-Usage | GPU-Util  Compute M. |\n",
      "|                               |                      |               MIG M. |\n",
      "|===============================+======================+======================|\n",
      "|   0  Tesla K80           On   | 00000000:00:1E.0 Off |                    0 |\n",
      "| N/A   26C    P0    69W / 149W |  10767MiB / 11441MiB |      0%      Default |\n",
      "|                               |                      |                  N/A |\n",
      "+-------------------------------+----------------------+----------------------+\n",
      "                                                                               \n",
      "+-----------------------------------------------------------------------------+\n",
      "| Processes:                                                                  |\n",
      "|  GPU   GI   CI        PID   Type   Process name                  GPU Memory |\n",
      "|        ID   ID                                                   Usage      |\n",
      "|=============================================================================|\n",
      "+-----------------------------------------------------------------------------+\n"
     ]
    }
   ],
   "source": [
    "!nvidia-smi"
   ]
  },
  {
   "cell_type": "code",
   "execution_count": 14,
   "id": "equivalent-jerusalem",
   "metadata": {},
   "outputs": [
    {
     "name": "stdout",
     "output_type": "stream",
     "text": [
      "Downloading data from https://storage.googleapis.com/tensorflow/keras-applications/vgg16/vgg16_weights_tf_dim_ordering_tf_kernels_notop.h5\n",
      "58892288/58889256 [==============================] - 1s 0us/step\n"
     ]
    }
   ],
   "source": [
    "from keras.applications.vgg16 import VGG16\n",
    "\n",
    "vgg16_model1 = VGG16(include_top=False, weights='imagenet', input_shape=(256,256, 3))\n",
    "vgg16_model2 = VGG16(include_top=False, weights='imagenet', input_shape=(256,256, 3))\n",
    "vgg16_model3 = VGG16(include_top=False, weights='imagenet', input_shape=(256,256, 3))\n",
    "\n",
    "vgg16_model1.trainable = False\n",
    "vgg16_model2.trainable = False\n",
    "vgg16_model3.trainable = False"
   ]
  },
  {
   "cell_type": "code",
   "execution_count": 16,
   "id": "fluid-combination",
   "metadata": {},
   "outputs": [
    {
     "name": "stdout",
     "output_type": "stream",
     "text": [
      "(None, 256, 256, 9)\n",
      "(None, 256, 256, 3)\n",
      "(None, 8, 8, 512)\n",
      "(None, 8, 8, 10)\n",
      "(None, 640)\n",
      "(None, 256, 256, 9)\n",
      "(None, 256, 256, 3)\n",
      "(None, 8, 8, 512)\n",
      "(None, 8, 8, 10)\n",
      "(None, 640)\n",
      "(None, 256, 256, 9)\n",
      "(None, 256, 256, 3)\n",
      "(None, 8, 8, 512)\n",
      "(None, 8, 8, 10)\n",
      "(None, 640)\n",
      "(None, 1920)\n",
      "(None, 10)\n",
      "(None, 2)\n",
      "(None, 2)\n"
     ]
    }
   ],
   "source": [
    "from keras.layers import Dense, Concatenate, Input, Lambda, Flatten, Softmax\n",
    "from keras.models import Model, Sequential\n",
    "\n",
    "num_channels = 9\n",
    "input = Input(shape=(256,256, num_channels))\n",
    "\n",
    "branch_outputs = []\n",
    "\n",
    "# loop for however many branches you want to use.  (each branch needs 3 channel depth)\n",
    "for i in [0,3,6]:\n",
    "    # create looping so that vgg16 model input is created ie 256,256,3\n",
    "    print(input.shape)\n",
    "    out = Lambda(lambda x: x[:,:,:,i:i+3])(input)\n",
    "    print(out.shape)\n",
    "    \n",
    "    # Setting up your layers in each branch: (currently each branch is identical architecture.)\n",
    "    if i == 0: out = Sequential(vgg16_model1)(out)   # use pretrained and loaded vgg16\n",
    "    elif i == 3: out = Sequential(vgg16_model2)(out)\n",
    "    else: out = Sequential(vgg16_model3)(out)   # use pretrained and loaded vgg16\n",
    "    print(out.shape)\n",
    "    out = Dense(10)(out)\n",
    "    print(out.shape)\n",
    "    out = Flatten()(out)\n",
    "    print(out.shape)\n",
    "    branch_outputs.append(out)\n",
    "\n",
    "# Concatenating the branches outputs:\n",
    "out = Concatenate()(branch_outputs)\n",
    "print(out.shape)\n",
    "\n",
    "# Add final dense layers and softmax\n",
    "out = Dense(10)(out)\n",
    "print(out.shape)\n",
    "out = Dense(6)(out)\n",
    "out = Dense(2)(out)\n",
    "print(out.shape)\n",
    "out = Softmax()(out)\n",
    "print(out.shape)"
   ]
  },
  {
   "cell_type": "code",
   "execution_count": 17,
   "id": "reported-cancellation",
   "metadata": {},
   "outputs": [
    {
     "name": "stdout",
     "output_type": "stream",
     "text": [
      "Model: \"functional_1\"\n",
      "__________________________________________________________________________________________________\n",
      "Layer (type)                    Output Shape         Param #     Connected to                     \n",
      "==================================================================================================\n",
      "input_5 (InputLayer)            [(None, 256, 256, 9) 0                                            \n",
      "__________________________________________________________________________________________________\n",
      "lambda_1 (Lambda)               (None, 256, 256, 3)  0           input_5[0][0]                    \n",
      "__________________________________________________________________________________________________\n",
      "lambda_2 (Lambda)               (None, 256, 256, 3)  0           input_5[0][0]                    \n",
      "__________________________________________________________________________________________________\n",
      "lambda_3 (Lambda)               (None, 256, 256, 3)  0           input_5[0][0]                    \n",
      "__________________________________________________________________________________________________\n",
      "sequential (Sequential)         (None, 8, 8, 512)    14714688    lambda_1[0][0]                   \n",
      "__________________________________________________________________________________________________\n",
      "sequential_1 (Sequential)       (None, 8, 8, 512)    14714688    lambda_2[0][0]                   \n",
      "__________________________________________________________________________________________________\n",
      "sequential_2 (Sequential)       (None, 8, 8, 512)    14714688    lambda_3[0][0]                   \n",
      "__________________________________________________________________________________________________\n",
      "dense (Dense)                   (None, 8, 8, 10)     5130        sequential[0][0]                 \n",
      "__________________________________________________________________________________________________\n",
      "dense_1 (Dense)                 (None, 8, 8, 10)     5130        sequential_1[0][0]               \n",
      "__________________________________________________________________________________________________\n",
      "dense_2 (Dense)                 (None, 8, 8, 10)     5130        sequential_2[0][0]               \n",
      "__________________________________________________________________________________________________\n",
      "flatten (Flatten)               (None, 640)          0           dense[0][0]                      \n",
      "__________________________________________________________________________________________________\n",
      "flatten_1 (Flatten)             (None, 640)          0           dense_1[0][0]                    \n",
      "__________________________________________________________________________________________________\n",
      "flatten_2 (Flatten)             (None, 640)          0           dense_2[0][0]                    \n",
      "__________________________________________________________________________________________________\n",
      "concatenate (Concatenate)       (None, 1920)         0           flatten[0][0]                    \n",
      "                                                                 flatten_1[0][0]                  \n",
      "                                                                 flatten_2[0][0]                  \n",
      "__________________________________________________________________________________________________\n",
      "dense_3 (Dense)                 (None, 10)           19210       concatenate[0][0]                \n",
      "__________________________________________________________________________________________________\n",
      "dense_4 (Dense)                 (None, 6)            66          dense_3[0][0]                    \n",
      "__________________________________________________________________________________________________\n",
      "dense_5 (Dense)                 (None, 2)            14          dense_4[0][0]                    \n",
      "__________________________________________________________________________________________________\n",
      "softmax (Softmax)               (None, 2)            0           dense_5[0][0]                    \n",
      "==================================================================================================\n",
      "Total params: 44,178,744\n",
      "Trainable params: 34,680\n",
      "Non-trainable params: 44,144,064\n",
      "__________________________________________________________________________________________________\n"
     ]
    }
   ],
   "source": [
    "model = Model(inputs=input, outputs=out)   \n",
    "model.summary()\n",
    "#plot_model(model, to_file='model_plot.png', show_shapes=True, show_layer_names=True)"
   ]
  },
  {
   "cell_type": "code",
   "execution_count": 18,
   "id": "neural-serum",
   "metadata": {},
   "outputs": [],
   "source": [
    "model.compile(optimizer='sgd',\n",
    "              loss='binary_crossentropy',\n",
    "              metrics=['accuracy'])"
   ]
  },
  {
   "cell_type": "code",
   "execution_count": null,
   "id": "equal-layout",
   "metadata": {},
   "outputs": [],
   "source": [
    "t0 = time.time()\n",
    "model.fit(arr_train_X, train_y, epochs=3, batch_size=64, validation_split = 0.2, workers=4, use_multiprocessing=True)\n",
    "print(\"Train time:\", time.time()-t0)"
   ]
  }
 ],
 "metadata": {
  "kernelspec": {
   "display_name": "Python 3",
   "language": "python",
   "name": "python3"
  },
  "language_info": {
   "codemirror_mode": {
    "name": "ipython",
    "version": 3
   },
   "file_extension": ".py",
   "mimetype": "text/x-python",
   "name": "python",
   "nbconvert_exporter": "python",
   "pygments_lexer": "ipython3",
   "version": "3.6.9"
  }
 },
 "nbformat": 4,
 "nbformat_minor": 5
}
