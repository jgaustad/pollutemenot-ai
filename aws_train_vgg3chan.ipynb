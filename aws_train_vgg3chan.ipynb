{
 "cells": [
  {
   "cell_type": "code",
   "execution_count": 1,
   "id": "occasional-raise",
   "metadata": {},
   "outputs": [
    {
     "name": "stdout",
     "output_type": "stream",
     "text": [
      "2.3.0 tf\n",
      "2.4.3 keras\n"
     ]
    }
   ],
   "source": [
    "### Init network Build\n",
    "import numpy as np\n",
    "from pathlib import Path\n",
    "import pandas as pd\n",
    "from osgeo import gdal\n",
    "import keras\n",
    "import time\n",
    "import tensorflow as tf\n",
    "print(tf.__version__, 'tf')\n",
    "print(keras.__version__, 'keras')"
   ]
  },
  {
   "cell_type": "code",
   "execution_count": 5,
   "id": "center-prague",
   "metadata": {},
   "outputs": [],
   "source": [
    "df_merged = pd.read_csv('image_metrics_031021.csv')"
   ]
  },
  {
   "cell_type": "code",
   "execution_count": 6,
   "id": "clean-amendment",
   "metadata": {},
   "outputs": [
    {
     "name": "stdout",
     "output_type": "stream",
     "text": [
      "(99707, 11)\n"
     ]
    },
    {
     "data": {
      "text/html": [
       "<div>\n",
       "<style scoped>\n",
       "    .dataframe tbody tr th:only-of-type {\n",
       "        vertical-align: middle;\n",
       "    }\n",
       "\n",
       "    .dataframe tbody tr th {\n",
       "        vertical-align: top;\n",
       "    }\n",
       "\n",
       "    .dataframe thead th {\n",
       "        text-align: right;\n",
       "    }\n",
       "</style>\n",
       "<table border=\"1\" class=\"dataframe\">\n",
       "  <thead>\n",
       "    <tr style=\"text-align: right;\">\n",
       "      <th></th>\n",
       "      <th>Unnamed: 0</th>\n",
       "      <th>img_res</th>\n",
       "      <th>img_type</th>\n",
       "      <th>img_index</th>\n",
       "      <th>da_num</th>\n",
       "      <th>img_path</th>\n",
       "      <th>da_number</th>\n",
       "      <th>cwa_determination</th>\n",
       "      <th>metrics</th>\n",
       "      <th>mean</th>\n",
       "      <th>stdev</th>\n",
       "    </tr>\n",
       "  </thead>\n",
       "  <tbody>\n",
       "    <tr>\n",
       "      <th>0</th>\n",
       "      <td>0</td>\n",
       "      <td>lores</td>\n",
       "      <td>mndwi</td>\n",
       "      <td>292</td>\n",
       "      <td>LRC-2003-22227</td>\n",
       "      <td>/data/image_final2/GEE_images_final2_lores_mnd...</td>\n",
       "      <td>LRC-2003-22227</td>\n",
       "      <td>1</td>\n",
       "      <td>(-0.3306894463763968, 0.09898692070930509)</td>\n",
       "      <td>-0.330689</td>\n",
       "      <td>0.098987</td>\n",
       "    </tr>\n",
       "    <tr>\n",
       "      <th>1</th>\n",
       "      <td>1</td>\n",
       "      <td>hires</td>\n",
       "      <td>mndwi</td>\n",
       "      <td>8157</td>\n",
       "      <td>SAC-2007-01367</td>\n",
       "      <td>/data/image_final2/GEE_images_final2_hires_mnd...</td>\n",
       "      <td>SAC-2007-01367</td>\n",
       "      <td>0</td>\n",
       "      <td>(-0.40988840562690426, 0.19788100896017022)</td>\n",
       "      <td>-0.409888</td>\n",
       "      <td>0.197881</td>\n",
       "    </tr>\n",
       "    <tr>\n",
       "      <th>2</th>\n",
       "      <td>2</td>\n",
       "      <td>lores</td>\n",
       "      <td>srtm</td>\n",
       "      <td>5495</td>\n",
       "      <td>MVP-2020-00252-MHK</td>\n",
       "      <td>/data/image_final2/GEE_images_final2_lores_srt...</td>\n",
       "      <td>MVP-2020-00252-MHK</td>\n",
       "      <td>0</td>\n",
       "      <td>(211.5080108642578, 18.443937482788826)</td>\n",
       "      <td>211.508011</td>\n",
       "      <td>18.443937</td>\n",
       "    </tr>\n",
       "    <tr>\n",
       "      <th>3</th>\n",
       "      <td>3</td>\n",
       "      <td>lores</td>\n",
       "      <td>gmndwi</td>\n",
       "      <td>10297</td>\n",
       "      <td>SAM-2016-00139-MJF</td>\n",
       "      <td>/data/image_final2/GEE_images_final2_lores_gmn...</td>\n",
       "      <td>SAM-2016-00139-MJF</td>\n",
       "      <td>1</td>\n",
       "      <td>(0.340306, 0.6714834)</td>\n",
       "      <td>0.340306</td>\n",
       "      <td>0.671483</td>\n",
       "    </tr>\n",
       "    <tr>\n",
       "      <th>4</th>\n",
       "      <td>4</td>\n",
       "      <td>hires</td>\n",
       "      <td>seasonality</td>\n",
       "      <td>8500</td>\n",
       "      <td>SAC-2016-00087</td>\n",
       "      <td>/data/image_final2/GEE_images_final2_hires_sea...</td>\n",
       "      <td>SAC-2016-00087</td>\n",
       "      <td>1</td>\n",
       "      <td>(0.02587890625, 0.4714458509886673)</td>\n",
       "      <td>0.025879</td>\n",
       "      <td>0.471446</td>\n",
       "    </tr>\n",
       "  </tbody>\n",
       "</table>\n",
       "</div>"
      ],
      "text/plain": [
       "   Unnamed: 0 img_res     img_type  img_index              da_num  \\\n",
       "0           0   lores        mndwi        292      LRC-2003-22227   \n",
       "1           1   hires        mndwi       8157      SAC-2007-01367   \n",
       "2           2   lores         srtm       5495  MVP-2020-00252-MHK   \n",
       "3           3   lores       gmndwi      10297  SAM-2016-00139-MJF   \n",
       "4           4   hires  seasonality       8500      SAC-2016-00087   \n",
       "\n",
       "                                            img_path           da_number  \\\n",
       "0  /data/image_final2/GEE_images_final2_lores_mnd...      LRC-2003-22227   \n",
       "1  /data/image_final2/GEE_images_final2_hires_mnd...      SAC-2007-01367   \n",
       "2  /data/image_final2/GEE_images_final2_lores_srt...  MVP-2020-00252-MHK   \n",
       "3  /data/image_final2/GEE_images_final2_lores_gmn...  SAM-2016-00139-MJF   \n",
       "4  /data/image_final2/GEE_images_final2_hires_sea...      SAC-2016-00087   \n",
       "\n",
       "   cwa_determination                                      metrics        mean  \\\n",
       "0                  1   (-0.3306894463763968, 0.09898692070930509)   -0.330689   \n",
       "1                  0  (-0.40988840562690426, 0.19788100896017022)   -0.409888   \n",
       "2                  0      (211.5080108642578, 18.443937482788826)  211.508011   \n",
       "3                  1                        (0.340306, 0.6714834)    0.340306   \n",
       "4                  1          (0.02587890625, 0.4714458509886673)    0.025879   \n",
       "\n",
       "       stdev  \n",
       "0   0.098987  \n",
       "1   0.197881  \n",
       "2  18.443937  \n",
       "3   0.671483  \n",
       "4   0.471446  "
      ]
     },
     "execution_count": 6,
     "metadata": {},
     "output_type": "execute_result"
    }
   ],
   "source": [
    "print(df_merged.shape)\n",
    "df_merged.head()"
   ]
  },
  {
   "cell_type": "code",
   "execution_count": 7,
   "id": "representative-bundle",
   "metadata": {},
   "outputs": [
    {
     "data": {
      "text/plain": [
       "MVP    14379\n",
       "MVN     9281\n",
       "SAC     7953\n",
       "SWG     7717\n",
       "NAO     6484\n",
       "MVK     6079\n",
       "LRC     5317\n",
       "NWO     4676\n",
       "POA     4452\n",
       "SAW     3385\n",
       "LRH     3148\n",
       "LRL     3062\n",
       "SAM     3029\n",
       "LRB     2889\n",
       "NWK     2732\n",
       "LRE     1752\n",
       "SWL     1700\n",
       "NAN     1674\n",
       "MVM     1567\n",
       "NAB     1400\n",
       "NWP     1023\n",
       "NWS     1020\n",
       "NAP      940\n",
       "SAS      874\n",
       "MVR      790\n",
       "SAJ      630\n",
       "SWT      428\n",
       "POH      340\n",
       "LRP      329\n",
       "NAE      290\n",
       "NWW      160\n",
       "LRN      157\n",
       "MVS       50\n",
       "Name: da_num, dtype: int64"
      ]
     },
     "execution_count": 7,
     "metadata": {},
     "output_type": "execute_result"
    }
   ],
   "source": [
    "f3 = df_merged.da_num.apply(lambda x: x[:3])\n",
    "f3.value_counts()"
   ]
  },
  {
   "cell_type": "code",
   "execution_count": 11,
   "id": "unsigned-likelihood",
   "metadata": {},
   "outputs": [
    {
     "name": "stdout",
     "output_type": "stream",
     "text": [
      "412\n"
     ]
    }
   ],
   "source": [
    "dir2 = '/data/training_data3/'\n",
    "train_X = [f for f in Path(dir2).iterdir() if 'SAW' in f.name]\n",
    "print(len(train_X))"
   ]
  },
  {
   "cell_type": "code",
   "execution_count": 12,
   "id": "placed-empty",
   "metadata": {},
   "outputs": [
    {
     "data": {
      "text/plain": [
       "'SAW-2019-01405'"
      ]
     },
     "execution_count": 12,
     "metadata": {},
     "output_type": "execute_result"
    }
   ],
   "source": [
    "train_X[0].name[:-4]"
   ]
  },
  {
   "cell_type": "code",
   "execution_count": 13,
   "id": "curious-intranet",
   "metadata": {},
   "outputs": [
    {
     "data": {
      "text/plain": [
       "(3, 256, 256)"
      ]
     },
     "execution_count": 13,
     "metadata": {},
     "output_type": "execute_result"
    }
   ],
   "source": [
    "np.load(train_X[0]).shape"
   ]
  },
  {
   "cell_type": "code",
   "execution_count": 14,
   "id": "hybrid-interpretation",
   "metadata": {},
   "outputs": [
    {
     "data": {
      "text/plain": [
       "1"
      ]
     },
     "execution_count": 14,
     "metadata": {},
     "output_type": "execute_result"
    }
   ],
   "source": [
    "def get_label(da_num_i, df_merged = df_merged):\n",
    "    return int(df_merged[df_merged.da_num == da_num_i].cwa_determination.iloc[0])\n",
    "get_label(train_X[0].name[:-4])"
   ]
  },
  {
   "cell_type": "code",
   "execution_count": 15,
   "id": "specific-matthew",
   "metadata": {},
   "outputs": [],
   "source": [
    "train_y = [get_label(x.name[:-4]) for x in train_X]"
   ]
  },
  {
   "cell_type": "code",
   "execution_count": 16,
   "id": "arctic-darkness",
   "metadata": {},
   "outputs": [
    {
     "name": "stdout",
     "output_type": "stream",
     "text": [
      "412 412\n"
     ]
    }
   ],
   "source": [
    "print(len(train_X), len(train_y))"
   ]
  },
  {
   "cell_type": "code",
   "execution_count": 17,
   "id": "atmospheric-rally",
   "metadata": {},
   "outputs": [],
   "source": [
    "arr_train_X = np.array([np.load(f) for f in train_X]).reshape(-1,256,256,3)\n",
    "arr_train_y = np.array(train_y)"
   ]
  },
  {
   "cell_type": "code",
   "execution_count": 18,
   "id": "preliminary-rebel",
   "metadata": {},
   "outputs": [
    {
     "name": "stdout",
     "output_type": "stream",
     "text": [
      "(412, 256, 256, 3)\n",
      "(412,)\n"
     ]
    }
   ],
   "source": [
    "print(arr_train_X.shape)\n",
    "print(arr_train_y.shape)"
   ]
  },
  {
   "cell_type": "code",
   "execution_count": 19,
   "id": "committed-cylinder",
   "metadata": {},
   "outputs": [
    {
     "data": {
      "text/plain": [
       "(256, 256, 3)"
      ]
     },
     "execution_count": 19,
     "metadata": {},
     "output_type": "execute_result"
    }
   ],
   "source": [
    "arr_train_X[0].shape"
   ]
  },
  {
   "cell_type": "code",
   "execution_count": null,
   "id": "maritime-marine",
   "metadata": {},
   "outputs": [],
   "source": []
  },
  {
   "cell_type": "code",
   "execution_count": 20,
   "id": "exclusive-jewelry",
   "metadata": {},
   "outputs": [
    {
     "name": "stdout",
     "output_type": "stream",
     "text": [
      "Wed Mar 10 23:58:38 2021       \n",
      "+-----------------------------------------------------------------------------+\n",
      "| NVIDIA-SMI 450.80.02    Driver Version: 450.80.02    CUDA Version: 11.0     |\n",
      "|-------------------------------+----------------------+----------------------+\n",
      "| GPU  Name        Persistence-M| Bus-Id        Disp.A | Volatile Uncorr. ECC |\n",
      "| Fan  Temp  Perf  Pwr:Usage/Cap|         Memory-Usage | GPU-Util  Compute M. |\n",
      "|                               |                      |               MIG M. |\n",
      "|===============================+======================+======================|\n",
      "|   0  Tesla K80           On   | 00000000:00:1E.0 Off |                    0 |\n",
      "| N/A   45C    P0    71W / 149W |    139MiB / 11441MiB |      0%      Default |\n",
      "|                               |                      |                  N/A |\n",
      "+-------------------------------+----------------------+----------------------+\n",
      "                                                                               \n",
      "+-----------------------------------------------------------------------------+\n",
      "| Processes:                                                                  |\n",
      "|  GPU   GI   CI        PID   Type   Process name                  GPU Memory |\n",
      "|        ID   ID                                                   Usage      |\n",
      "|=============================================================================|\n",
      "+-----------------------------------------------------------------------------+\n"
     ]
    }
   ],
   "source": [
    "!nvidia-smi"
   ]
  },
  {
   "cell_type": "code",
   "execution_count": 21,
   "id": "prerequisite-garden",
   "metadata": {},
   "outputs": [
    {
     "name": "stdout",
     "output_type": "stream",
     "text": [
      "Downloading data from https://storage.googleapis.com/tensorflow/keras-applications/vgg16/vgg16_weights_tf_dim_ordering_tf_kernels_notop.h5\n",
      "58892288/58889256 [==============================] - 1s 0us/step\n"
     ]
    }
   ],
   "source": [
    "from keras.applications.vgg16 import VGG16\n",
    "\n",
    "vgg16_model1 = VGG16(include_top=False, weights='imagenet', input_shape=(256,256, 3))\n",
    "#vgg16_model2 = VGG16(include_top=False, weights='imagenet', input_shape=(256,256, 3))\n",
    "#vgg16_model3 = VGG16(include_top=False, weights='imagenet', input_shape=(256,256, 3))\n",
    "\n",
    "vgg16_model1.trainable = False\n",
    "#vgg16_model2.trainable = False\n",
    "#vgg16_model3.trainable = False"
   ]
  },
  {
   "cell_type": "code",
   "execution_count": 22,
   "id": "extra-karaoke",
   "metadata": {},
   "outputs": [
    {
     "name": "stdout",
     "output_type": "stream",
     "text": [
      "(None, 256, 256, 3)\n",
      "(None, 8, 8, 512)\n",
      "(None, 8, 8, 10)\n",
      "(None, 640)\n",
      "(None, 20)\n",
      "(None, 2)\n",
      "(None, 2)\n"
     ]
    }
   ],
   "source": [
    "from keras.layers import Dense, Concatenate, Input, Lambda, Flatten, Softmax\n",
    "from keras.models import Model, Sequential\n",
    "\n",
    "num_channels = 3\n",
    "input = Input(shape=(256,256, num_channels))\n",
    "\n",
    "branch_outputs = []\n",
    "\n",
    "# loop for however many branches you want to use.  (each branch needs 3 channel depth)\n",
    "\n",
    "# create looping so that vgg16 model input is created ie 256,256,3\n",
    "print(input.shape)\n",
    "#out = Lambda(lambda x: x[:,:,:,i:i+3])(input)\n",
    "#print(out.shape)\n",
    "\n",
    "# Setting up your layers in each branch: (currently each branch is identical architecture.)\n",
    "out = Sequential(vgg16_model1)(input)   # use pretrained and loaded vgg16\n",
    "\n",
    "print(out.shape)\n",
    "out = Dense(10)(out)\n",
    "print(out.shape)\n",
    "out = Flatten()(out)\n",
    "print(out.shape)\n",
    "branch_outputs.append(out)\n",
    "\n",
    "# Concatenating the branches outputs:\n",
    "#out = Concatenate()(branch_outputs)\n",
    "#print(out.shape)\n",
    "\n",
    "# Add final dense layers and softmax\n",
    "out = Dense(20)(out)\n",
    "#out = Dense(10)(out)\n",
    "print(out.shape)\n",
    "out = Dense(6)(out)\n",
    "out = Dense(2)(out)\n",
    "print(out.shape)\n",
    "out = Softmax()(out)\n",
    "print(out.shape)"
   ]
  },
  {
   "cell_type": "code",
   "execution_count": 23,
   "id": "bulgarian-brooks",
   "metadata": {},
   "outputs": [
    {
     "name": "stdout",
     "output_type": "stream",
     "text": [
      "Model: \"functional_1\"\n",
      "_________________________________________________________________\n",
      "Layer (type)                 Output Shape              Param #   \n",
      "=================================================================\n",
      "input_2 (InputLayer)         [(None, 256, 256, 3)]     0         \n",
      "_________________________________________________________________\n",
      "sequential (Sequential)      (None, 8, 8, 512)         14714688  \n",
      "_________________________________________________________________\n",
      "dense (Dense)                (None, 8, 8, 10)          5130      \n",
      "_________________________________________________________________\n",
      "flatten (Flatten)            (None, 640)               0         \n",
      "_________________________________________________________________\n",
      "dense_1 (Dense)              (None, 20)                12820     \n",
      "_________________________________________________________________\n",
      "dense_2 (Dense)              (None, 6)                 126       \n",
      "_________________________________________________________________\n",
      "dense_3 (Dense)              (None, 2)                 14        \n",
      "_________________________________________________________________\n",
      "softmax (Softmax)            (None, 2)                 0         \n",
      "=================================================================\n",
      "Total params: 14,732,778\n",
      "Trainable params: 18,090\n",
      "Non-trainable params: 14,714,688\n",
      "_________________________________________________________________\n"
     ]
    }
   ],
   "source": [
    "model = Model(inputs=input, outputs=out)   \n",
    "model.summary()\n",
    "#plot_model(model, to_file='model_plot.png', show_shapes=True, show_layer_names=True)"
   ]
  },
  {
   "cell_type": "code",
   "execution_count": 24,
   "id": "timely-korean",
   "metadata": {},
   "outputs": [],
   "source": [
    "opt = keras.optimizers.Adam(learning_rate=0.05)\n",
    "\n",
    "model.compile(optimizer=opt,\n",
    "              loss='binary_crossentropy',\n",
    "              metrics=['accuracy'])\n"
   ]
  },
  {
   "cell_type": "code",
   "execution_count": 31,
   "id": "ongoing-voluntary",
   "metadata": {
    "jupyter": {
     "source_hidden": true
    },
    "tags": []
   },
   "outputs": [
    {
     "name": "stdout",
     "output_type": "stream",
     "text": [
      "(1, 256, 256, 3)\n",
      "[[0.1622066  0.83779347]]\n",
      "time taken: 6.368284225463867 seconds\n"
     ]
    }
   ],
   "source": [
    "import time\n",
    "test_input = np.random.rand(256,256,3)\n",
    "test_input = test_input.reshape(1, 256,256, 3)\n",
    "print(test_input.shape)\n",
    "t0 = time.time()\n",
    "print(model.predict(test_input))\n",
    "print(f\"time taken: {time.time()-t0} seconds\")"
   ]
  },
  {
   "cell_type": "code",
   "execution_count": null,
   "id": "consistent-tyler",
   "metadata": {},
   "outputs": [
    {
     "name": "stdout",
     "output_type": "stream",
     "text": [
      "Epoch 1/5\n",
      "6/6 [==============================] - 11s 2s/step - loss: 7.6871 - accuracy: 0.2888 - val_loss: 7.6871 - val_accuracy: 0.2892\n",
      "Epoch 2/5\n",
      "3/6 [==============>...............] - ETA: 1s - loss: 7.6878 - accuracy: 0.2812"
     ]
    }
   ],
   "source": [
    "t0 = time.time()\n",
    "model.fit(arr_train_X, arr_train_y, epochs=5, batch_size=64, validation_split = 0.2)#, workers=4, use_multiprocessing=True)\n",
    "print(\"Train time:\", time.time()-t0)"
   ]
  },
  {
   "cell_type": "code",
   "execution_count": 33,
   "id": "secondary-acoustic",
   "metadata": {},
   "outputs": [
    {
     "name": "stdout",
     "output_type": "stream",
     "text": [
      "Model: \"functional_5\"\n",
      "_________________________________________________________________\n",
      "Layer (type)                 Output Shape              Param #   \n",
      "=================================================================\n",
      "input_5 (InputLayer)         [(None, 256, 256, 3)]     0         \n",
      "_________________________________________________________________\n",
      "sequential_2 (Sequential)    (None, 8, 8, 512)         14714688  \n",
      "_________________________________________________________________\n",
      "dense_9 (Dense)              (None, 8, 8, 10)          5130      \n",
      "_________________________________________________________________\n",
      "flatten_2 (Flatten)          (None, 640)               0         \n",
      "_________________________________________________________________\n",
      "dense_10 (Dense)             (None, 20)                12820     \n",
      "_________________________________________________________________\n",
      "dense_11 (Dense)             (None, 6)                 126       \n",
      "_________________________________________________________________\n",
      "dense_12 (Dense)             (None, 2)                 14        \n",
      "_________________________________________________________________\n",
      "softmax_2 (Softmax)          (None, 2)                 0         \n",
      "=================================================================\n",
      "Total params: 14,732,778\n",
      "Trainable params: 14,714,688\n",
      "Non-trainable params: 18,090\n",
      "_________________________________________________________________\n"
     ]
    }
   ],
   "source": [
    "vgg_layer = model.get_layer(name='sequential_2', index=None)\n",
    "#model.get_layer(name='dense_8', index=None).trainable = False\n",
    "model.get_layer(name='dense_9', index=None).trainable = False\n",
    "model.get_layer(name='dense_10', index=None).trainable = False\n",
    "model.get_layer(name='dense_11', index=None).trainable = False\n",
    "model.get_layer(name='dense_12', index=None).trainable = False\n",
    "\n",
    "vgg_layer.trainable = True\n",
    "model.summary()\n",
    "opt = keras.optimizers.Adam(learning_rate=0.1)\n",
    "\n",
    "model.compile(optimizer=opt,\n",
    "              loss='binary_crossentropy',\n",
    "              metrics=['accuracy'])\n",
    "#model.summary()"
   ]
  },
  {
   "cell_type": "code",
   "execution_count": 34,
   "id": "faced-struggle",
   "metadata": {},
   "outputs": [
    {
     "name": "stdout",
     "output_type": "stream",
     "text": [
      "Epoch 1/5\n",
      "2/9 [=====>........................] - ETA: 1s - loss: 7.6795 - accuracy: 0.6250WARNING:tensorflow:Callbacks method `on_train_batch_end` is slow compared to the batch time (batch time: 0.1532s vs `on_train_batch_end` time: 0.3289s). Check your callbacks.\n",
      "9/9 [==============================] - 15s 2s/step - loss: 7.6771 - accuracy: 0.5970 - val_loss: 7.6763 - val_accuracy: 0.5882\n",
      "Epoch 2/5\n",
      "9/9 [==============================] - 4s 480ms/step - loss: 7.6771 - accuracy: 0.5970 - val_loss: 7.6763 - val_accuracy: 0.5882\n",
      "Epoch 3/5\n",
      "9/9 [==============================] - 4s 481ms/step - loss: 7.6771 - accuracy: 0.5970 - val_loss: 7.6763 - val_accuracy: 0.5882\n",
      "Epoch 4/5\n",
      "9/9 [==============================] - 4s 481ms/step - loss: 7.6771 - accuracy: 0.5970 - val_loss: 7.6763 - val_accuracy: 0.5882\n",
      "Epoch 5/5\n",
      "9/9 [==============================] - 4s 479ms/step - loss: 7.6771 - accuracy: 0.5970 - val_loss: 7.6763 - val_accuracy: 0.5882\n"
     ]
    },
    {
     "data": {
      "text/plain": [
       "<tensorflow.python.keras.callbacks.History at 0x7f9c3eb82278>"
      ]
     },
     "execution_count": 34,
     "metadata": {},
     "output_type": "execute_result"
    }
   ],
   "source": [
    "model.fit(arr_train_X, arr_train_y, epochs=5, batch_size=16, validation_split = 0.2)#, workers=4, use_multiprocessing=True)\n"
   ]
  },
  {
   "cell_type": "code",
   "execution_count": null,
   "id": "controlling-purchase",
   "metadata": {},
   "outputs": [],
   "source": []
  },
  {
   "cell_type": "code",
   "execution_count": null,
   "id": "protected-consequence",
   "metadata": {},
   "outputs": [],
   "source": []
  },
  {
   "cell_type": "code",
   "execution_count": 25,
   "id": "mature-monitoring",
   "metadata": {},
   "outputs": [
    {
     "data": {
      "text/plain": [
       "0.5952380952380952"
      ]
     },
     "execution_count": 25,
     "metadata": {},
     "output_type": "execute_result"
    }
   ],
   "source": [
    "np.mean(arr_train_y)"
   ]
  },
  {
   "cell_type": "code",
   "execution_count": 21,
   "id": "taken-grave",
   "metadata": {},
   "outputs": [
    {
     "name": "stdout",
     "output_type": "stream",
     "text": [
      "[[1.0000000e+00 0.0000000e+00]\n",
      " [1.0000000e+00 1.1937740e-31]\n",
      " [1.0000000e+00 1.2457646e-30]\n",
      " [1.0000000e+00 3.6220060e-25]\n",
      " [1.0000000e+00 0.0000000e+00]\n",
      " [1.0000000e+00 0.0000000e+00]\n",
      " [1.0000000e+00 0.0000000e+00]\n",
      " [1.0000000e+00 0.0000000e+00]\n",
      " [1.0000000e+00 0.0000000e+00]\n",
      " [1.0000000e+00 0.0000000e+00]]\n"
     ]
    }
   ],
   "source": [
    "x = model.predict_on_batch(arr_train_X[:10])\n",
    "print(x)"
   ]
  },
  {
   "cell_type": "code",
   "execution_count": null,
   "id": "dirty-poker",
   "metadata": {},
   "outputs": [],
   "source": []
  }
 ],
 "metadata": {
  "kernelspec": {
   "display_name": "Python 3",
   "language": "python",
   "name": "python3"
  },
  "language_info": {
   "codemirror_mode": {
    "name": "ipython",
    "version": 3
   },
   "file_extension": ".py",
   "mimetype": "text/x-python",
   "name": "python",
   "nbconvert_exporter": "python",
   "pygments_lexer": "ipython3",
   "version": "3.6.9"
  }
 },
 "nbformat": 4,
 "nbformat_minor": 5
}
