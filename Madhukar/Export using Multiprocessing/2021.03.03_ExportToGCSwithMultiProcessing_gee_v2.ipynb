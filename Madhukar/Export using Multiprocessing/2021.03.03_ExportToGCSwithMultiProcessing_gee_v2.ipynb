{
 "cells": [
  {
   "cell_type": "code",
   "execution_count": 1,
   "id": "working-content",
   "metadata": {},
   "outputs": [],
   "source": [
    "import pandas as pd\n",
    "# datapath = \"drive/MyDrive/Data/combined_v2.csv\"\n",
    "datapath = \"combined_regular_clean_with_ssurgo_variables.csv\"\n",
    "df = pd.read_csv(datapath, encoding = \"ISO-8859-1\")\n",
    "\n",
    "# column name 'index' is conflicting with the native index of dataframe\n",
    "# hence, creating a new column named \"Index\"\n",
    "df[\"Index\"] = df.index + 1"
   ]
  },
  {
   "cell_type": "code",
   "execution_count": 2,
   "id": "exciting-solomon",
   "metadata": {},
   "outputs": [],
   "source": [
    "# Assigned begin and end of records for each person\n",
    "# MADHUKAR: records 1 - 4000\n",
    "# SHOBHA: records 4000 - 8000\n",
    "# RADHIKA: records 8000 - 12000\n",
    "# JOE: 12000 - last\n",
    "\n",
    "names = [\"MADHUKAR\", 'SHOBHA', 'RADHIKA', 'JOE']\n",
    "start = [1, 4000, 8000, 12000]\n",
    "end = [4000, 8000, 12000, df.shape[0]]\n",
    "MY_NAME = \"MADHUKAR\"\n",
    "\n",
    "start_dict = dict(zip(names, start))\n",
    "end_dict = dict(zip(names, end))"
   ]
  },
  {
   "cell_type": "code",
   "execution_count": 4,
   "id": "previous-confidentiality",
   "metadata": {},
   "outputs": [
    {
     "name": "stdout",
     "output_type": "stream",
     "text": [
      "555 [[3445, 'MVN-2016-00396-SK', 30.01966, -90.15875], [3446, 'MVN-2016-00408-SR', 29.7716, -93.44499], [3447, 'MVN-2016-00416-SB', 30.39719, -90.10042]]\n"
     ]
    }
   ],
   "source": [
    "index_begin = 3445\n",
    "index_end = 4000 # not included\n",
    "\n",
    "list_of_parameters = []\n",
    "# for count in range(index_begin, index_end):\n",
    "for count in range(index_begin, index_end):\n",
    "    #if count == index_begin: print(\"exporting index =\", count)\n",
    "    da_number = df.iloc[count-1][\"da_number\"]\n",
    "    latitude = df.iloc[count-1][\"latitude\"]\n",
    "    longitude = df.iloc[count-1][\"longitude\"]\n",
    "    index = count\n",
    "    list_of_parameters.append([index, da_number, latitude, longitude])\n",
    "print(len(list_of_parameters), list_of_parameters[:3])"
   ]
  },
  {
   "cell_type": "code",
   "execution_count": 5,
   "id": "remarkable-inspector",
   "metadata": {},
   "outputs": [
    {
     "name": "stdout",
     "output_type": "stream",
     "text": [
      "Printing 555 records in 12 batches\n",
      "0 50\n",
      "50 100\n",
      "100 150\n",
      "150 200\n",
      "200 250\n",
      "250 300\n",
      "300 350\n",
      "350 400\n",
      "400 450\n",
      "450 500\n",
      "500 550\n",
      "550 555\n"
     ]
    }
   ],
   "source": [
    "# lets include the first and exclude the last\n",
    "records = index_end - index_begin\n",
    "batch_size  = 50\n",
    "num_of_batches = (records // batch_size) + 1\n",
    "number_of_workers = 10\n",
    "print(\"Printing {} records in {} batches\".format(records, num_of_batches))\n",
    "\n",
    "for batch in range(num_of_batches):\n",
    "    start = batch * batch_size\n",
    "    if batch == (records // batch_size):\n",
    "        end = start + records % batch_size\n",
    "    else:\n",
    "        end = start + batch_size\n",
    "    print (start, end)\n"
   ]
  },
  {
   "cell_type": "code",
   "execution_count": null,
   "id": "cathedral-mission",
   "metadata": {},
   "outputs": [
    {
     "name": "stdout",
     "output_type": "stream",
     "text": [
      "inside pool\n"
     ]
    }
   ],
   "source": [
    "import export_gee\n",
    "from multiprocessing import Pool\n",
    "from export_gee import export_data_pooler\n",
    "\n",
    "for batch in range(num_of_batches):\n",
    "    if __name__ == '__main__':\n",
    "        with Pool(number_of_workers) as p:\n",
    "            print(\"inside pool\")\n",
    "            print(p.map(export_data_pooler, list_of_parameters[start : end]))"
   ]
  },
  {
   "cell_type": "code",
   "execution_count": null,
   "id": "republican-charleston",
   "metadata": {},
   "outputs": [],
   "source": []
  }
 ],
 "metadata": {
  "kernelspec": {
   "display_name": "Python 3",
   "language": "python",
   "name": "python3"
  },
  "language_info": {
   "codemirror_mode": {
    "name": "ipython",
    "version": 3
   },
   "file_extension": ".py",
   "mimetype": "text/x-python",
   "name": "python",
   "nbconvert_exporter": "python",
   "pygments_lexer": "ipython3",
   "version": "3.9.2"
  }
 },
 "nbformat": 4,
 "nbformat_minor": 5
}
