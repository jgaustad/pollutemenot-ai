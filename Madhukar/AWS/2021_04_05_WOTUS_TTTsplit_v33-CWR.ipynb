{
 "cells": [
  {
   "cell_type": "markdown",
   "metadata": {},
   "source": [
    "# Notes"
   ]
  },
  {
   "cell_type": "code",
   "execution_count": 146,
   "metadata": {
    "id": "gh39s2KK_dGM"
   },
   "outputs": [],
   "source": [
    "# - v1: works till the categorical pipeline where it errors out for unknown variables\n",
    "# - v2: fully functional\n",
    "# - v3: baseline run (on the old dataset)\n",
    "# - v4: baseline run (on the full 2021.03.17_full_dataset)\n",
    "# - v5: baseline run (on 2021.03.19_full_dataset with all SSURGO variables)\n",
    "# - v6: aoc_roc (on 2021.03.19_full_dataset with all SSURGO variables). Mute the Stacking as it is not possible with RandomizedSearchCV. Have to have a dev split.\n",
    "# - v7: model v7 random state 123 on train/test, model v7.1 random_state 431 on train/dev/test\n",
    "# - v8g: Golden model\n",
    "\n",
    "# - ROC_AUC with lat, lon (baseline)\n",
    "# ====================\n",
    "# lr:           0.64103\n",
    "# xgb:          0.82366\n",
    "# voting_clf:   0.83027\n",
    "# lgbm:         0.86395\n",
    "# stacking:     0.85923\n",
    "\n",
    "\n",
    "# - v9: without lat, lon\n",
    "\n",
    "# - ROC_AUC without lat, lon\n",
    "# =======================\n",
    "# lr:           0.64211\n",
    "# xgb:          0.8031\n",
    "# voting_clf:   0.83105\n",
    "# lgbm:         0.85952\n",
    "# stacking:     0.85427\n",
    "\n",
    "# - v9.1: without lat, lon, potential_wetland\n",
    "\n",
    "# - ROC_AUC without lat, lon, potential_wetland\n",
    "# ===============\n",
    "# lr:           0.63992\n",
    "# xgb:          0.79093\n",
    "# voting_clf:   0.82987\n",
    "# lgbm:         0.85143\n",
    "# stacking:     0.84328\n",
    "\n",
    "# - v9.2: without lat, lon, potential_wetland, district\n",
    "\n",
    "# - ROC_AUC without lat, lon, potential_wetland, district\n",
    "# ===============\n",
    "# lr:           0.64208\n",
    "# xgb:          0.77907\n",
    "# voting_clf:   0.79829\n",
    "# lgbm:         0.82675\n",
    "# stacking:     0.82185\n",
    "\n",
    "# - v9.3: without lat, lon, potential_wetland, district and flodfreqdc and drclassdcd as ordinal\n",
    "\n",
    "# - ROC_AUC on Test\n",
    "# ===============\n",
    "# lr:           0.6382\n",
    "# xgb:          0.73089\n",
    "# voting_clf:   0.79126\n",
    "# lgbm:         0.82512\n",
    "# stacking:     0.8195\n",
    "\n",
    "# - v9.4: without lat, lon, potential_wetland, district, county \n",
    "# - ROC_AUC on Test\n",
    "# ===============\n",
    "# lr:           0.6395\n",
    "# xgb:          0.74096\n",
    "# voting_clf:   0.7911\n",
    "# lgbm:         0.82448\n",
    "# stacking:     0.82343\n",
    "\n",
    "# - v9.5: without lat, lon, potential_wetland, district, county, mukey\n",
    "# - ROC_AUC on Test\n",
    "# ===============\n",
    "# lr:           0.65309\n",
    "# xgb:          0.75117\n",
    "# voting_clf:   0.77845\n",
    "# lgbm:         0.80626\n",
    "# stacking:     0.80424\n",
    "\n",
    "# - v9.5: without lat, lon, potential_wetland, district, county, mukey, and filtering out bad latitude\n",
    "# THIS IS SUSPECT. CANT REPEAT IT.\n",
    "# - ROC_AUC on Test\n",
    "# ===============\n",
    "# lr:           0.63894\n",
    "# xgb:          0.74922\n",
    "# voting_clf:   0.79839\n",
    "# lgbm:         0.86986\n",
    "# stacking:     0.86281\n",
    "\n",
    "# - v9,5_r2: supposed to be repeat of v9.5 but unsuccessful (probably bcoz of wrong cat features)\n",
    "# - ROC_AUC on Test\n",
    "# ===============\n",
    "# lr:           0.64148\n",
    "# xgb:          0.7066\n",
    "# lgbm:         0.79702\n",
    "# stacking:     0.78626\n",
    "# voting_clf:   0.7632\n",
    "\n",
    "# - ROC_AUC on Test\n",
    "# ===============\n",
    "# lr:           0.62669\n",
    "# xgb:          0.71814\n",
    "# lgbm:         0.8006\n",
    "# stacking:     0.80005\n",
    "# voting_clf:   0.7683\n",
    "\n",
    "# - v9.6: baseline and filtering out bad latitude\n",
    "# - ROC_AUC on Test\n",
    "# ===============\n",
    "# lr:           0.6306\n",
    "# xgb:          0.79659\n",
    "# voting_clf:   0.82816\n",
    "# lgbm:         0.85251\n",
    "# stacking:     0.84547\n",
    "\n",
    "# - v9.6_r2: baseline and filtering out bad latitude\n",
    "# - ROC_AUC on Test\n",
    "# ===============\n",
    "# lr:           0.6302\n",
    "# xgb:          0.81153\n",
    "# voting_clf:   0.83019\n",
    "# lgbm:         0.85353\n",
    "# stacking:     0.85285\n",
    "\n",
    "\n",
    "# - ROC_AUC with lat, lon (baseline)\n",
    "# ====================\n",
    "# lr:           0.64103\n",
    "# xgb:          0.82366\n",
    "# voting_clf:   0.83027\n",
    "# lgbm:         0.86395\n",
    "# stacking:     0.85923\n",
    "\n",
    "# - v9.4: without lat, lon, potential_wetland, district, county \n",
    "# - ROC_AUC on Test\n",
    "# ===============\n",
    "# lr:           0.6395\n",
    "# xgb:          0.74096\n",
    "# voting_clf:   0.7911\n",
    "# lgbm:         0.82448\n",
    "# stacking:     0.82343\n",
    "\n",
    "# - v10: baseline (with huc6, nearest wb/fl parameters added)\n",
    "\n",
    "# - ROC_AUC on Test\n",
    "# ===============\n",
    "# lr:           0.64444\n",
    "# xgb:          0.80494\n",
    "# voting_clf:   0.82554\n",
    "# lgbm:         0.85336\n",
    "# stacking:     0.8514\n",
    "\n",
    "# - v10.1: baseline (with huc4, nearest wb/fl parameters added)\n",
    "# -ROC_AUC on Test\n",
    "# ===============\n",
    "\n",
    "# lr:           0.64381\n",
    "# voting_clf:   0.82879\n",
    "# xgb:          0.8032\n",
    "# lgbm:         0.85318\n",
    "# stacking:     0.8495\n",
    "\n",
    "# - ROC_AUC on Test: supposed to be repeat of v10.1, but not sure why results are not reproducible\n",
    "# ===============\n",
    "\n",
    "# lr:           0.64381\n",
    "# voting_clf:   0.77483\n",
    "# xgb:          0.75691\n",
    "# lgbm:         0.79563\n",
    "# stacking:     0.78974\n",
    "\n",
    "# - v10.1_rerun: rerunning again and tested by reading back the model file. reproducible results. \n",
    "# - ROC_AUC on Test\n",
    "# ===============\n",
    "# lr:           0.64384\n",
    "# voting_clf:   0.8299\n",
    "# xgb:          0.78993\n",
    "# lgbm:         0.85403\n",
    "# stacking:     0.8468\n",
    "\n",
    "\n",
    "# - v10.2: v10.1 with log transformed closest distances (slight improvement seen)\n",
    "# - ROC_AUC on Test: can not reproduce these results the next day. So rerunning again below:\n",
    "# ===============\n",
    "# lr:           0.64219\n",
    "# voting_clf:   0.82924\n",
    "# xgb:          0.7662\n",
    "# lgbm:         0.85495\n",
    "# stacking:     0.85232\n",
    "\n",
    "# - v10.2_rerun:\n",
    "# - ROC_AUC on Test\n",
    "# ===============\n",
    "# lr:           0.64251\n",
    "# voting_clf:   0.82815\n",
    "# xgb:          0.74756\n",
    "# lgbm:         0.854\n",
    "# stacking:     0.84738\n",
    "\n",
    "# - v12: implemented the ppv/npv version\n",
    "# ppv and npv on Test:\n",
    "# lgbm:          ppv = 0.7711, npv = 0.7734 @ threshold = 0.4949\n",
    "# lr:            ppv = 0.6522, npv = 0.6365 @ threshold = 0.5152\n",
    "# xgb:           ppv = 0.7448, npv = 0.7208 @ threshold = 0.5152\n",
    "# stacking:      ppv = 0.7691, npv = 0.7698 @ threshold = 0.5354\n",
    "# voting_clf:    ppv = 0.7598, npv = 0.7562 @ threshold = 0.4949\n",
    "# =========================================\n",
    "# ROC_AUC on Test\n",
    "# lr:           0.62682\n",
    "# voting_clf:   0.82891\n",
    "# xgb:          0.7816\n",
    "# lgbm:         0.84274\n",
    "# stacking:     0.83437\n",
    "\n",
    "    \n",
    "    \n",
    "# v13: data stratification by district\n",
    "# ppv and npv on Test:\n",
    "# lgbm:          ppv = 0.7893, npv = 0.7873 @ threshold = 0.5253\n",
    "# lr:            ppv = 0.7053, npv = 0.6413 @ threshold = 0.5051\n",
    "# xgb:           ppv = 0.7731, npv = 0.7593 @ threshold = 0.4545\n",
    "# stacking:      ppv = 0.7992, npv = 0.7788 @ threshold = 0.5253\n",
    "# voting_clf:    ppv = 0.7757, npv = 0.771 @ threshold = 0.5152\n",
    "# =========================================\n",
    "# ROC_AUC on Test\n",
    "\n",
    "# lr:           0.63472\n",
    "# voting_clf:   0.84121\n",
    "# xgb:          0.81637\n",
    "# lgbm:         0.86547\n",
    "# stacking:     0.86017\n",
    "\n",
    "# v13.1: with use_features_in_secondary=False in Stacking (this is slightly better)\n",
    "# ppv and npv on Test:\n",
    "# lgbm:          ppv = 0.7885, npv = 0.7862 @ threshold = 0.5253\n",
    "# lr:            ppv = 0.7053, npv = 0.6413 @ threshold = 0.5051\n",
    "# xgb:           ppv = 0.7619, npv = 0.7509 @ threshold = 0.4646\n",
    "# stacking:      ppv = 0.7752, npv = 0.7748 @ threshold = 0.5657 (notice the threshold has increased slightly, ppv (and npv?) decreased)\n",
    "# voting_clf:    ppv = 0.7806, npv = 0.7711 @ threshold = 0.5051\n",
    "# =========================================\n",
    "# ROC_AUC on Test\n",
    "\n",
    "# lr:           0.63471\n",
    "# voting_clf:   0.84039\n",
    "# xgb:          0.80691\n",
    "# lgbm:         0.86276\n",
    "# stacking:     0.86068\n",
    "\n",
    "# v13.2:\n",
    "# Using 475 principal components\n",
    "# ppv and npv on Test:\n",
    "# lgbm:          ppv = 0.754, npv = 0.7611 @ threshold = 0.4949\n",
    "# lr:            ppv = 0.7241, npv = 0.6409 @ threshold = 0.5455\n",
    "# xgb:           ppv = 0.712, npv = 0.7091 @ threshold = 0.4343\n",
    "# stacking:      ppv = 0.7581, npv = 0.7472 @ threshold = 0.5152\n",
    "# voting_clf:    ppv = 0.7472, npv = 0.7506 @ threshold = 0.4848\n",
    "# =========================================\n",
    "# ROC_AUC on Test\n",
    "# lgbm:         0.82615\n",
    "# lr:           0.63732\n",
    "# xgb:          0.73877\n",
    "# stacking:     0.81755\n",
    "# voting_clf:   0.81281\n",
    "\n",
    "# v15: knn imputing of variables at nan_th = 0.2\n",
    "# ppv and npv on Test:\n",
    "# lgbm:          ppv = 0.7746, npv = 0.7718 @ threshold = 0.5556\n",
    "# lr:            ppv = 0.7053, npv = 0.6413 @ threshold = 0.5051\n",
    "# xgb:           ppv = 0.7313, npv = 0.7284 @ threshold = 0.4848\n",
    "# stacking:      ppv = 0.7785, npv = 0.7732 @ threshold = 0.5253\n",
    "# voting_clf:    ppv = 0.7531, npv = 0.7545 @ threshold = 0.5152\n",
    "# =========================================\n",
    "# ROC_AUC on Test\n",
    "# lr:           0.62915\n",
    "# voting_clf:   0.81977\n",
    "# xgb:          0.77361\n",
    "# lgbm:         0.8542\n",
    "# stacking:     0.85236\n",
    "\n",
    "\n",
    "# v17: with svc and knn\n",
    "\n",
    "# ppv and npv on Test:\n",
    "# lgbm:          ppv = 0.7787, npv = 0.77 @ threshold = 0.5455\n",
    "# lr:            ppv = 0.7053, npv = 0.6413 @ threshold = 0.5051\n",
    "# xgb:           ppv = 0.7273, npv = 0.7205 @ threshold = 0.5051\n",
    "# stacking:      ppv = 0.784, npv = 0.766 @ threshold = 0.5657\n",
    "# voting_clf:    ppv = 0.7534, npv = 0.7585 @ threshold = 0.5051\n",
    "# lgbm_second_level: ppv = 0.8, npv = 0.6308 @ threshold = 0.5657\n",
    "# svc:           ppv = 0.6718, npv = 0.6441 @ threshold = 0.5859\n",
    "# =========================================\n",
    "# ROC_AUC on Test\n",
    "# lgbm:         0.85012\n",
    "# lr:           0.62915\n",
    "# xgb:          0.76222\n",
    "# stacking:     0.84442\n",
    "# voting_clf:   0.82\n",
    "# lgbm_second_level:0.50845\n",
    "# svc:          0.67335\n",
    "\n",
    "# v18: Removed Alaska because no SSURGO data. Also, the saved model works!\n",
    "\n",
    "# ppv and npv on Test:\n",
    "# lgbm:          ppv = 0.7828, npv = 0.7813 @ threshold = 0.5253\n",
    "# lr:            ppv = 0.7053, npv = 0.6359 @ threshold = 0.5051\n",
    "# xgb:           ppv = 0.7216, npv = 0.7305 @ threshold = 0.3636\n",
    "# stacking:      ppv = 0.758, npv = 0.7954 @ threshold = 0.4242\n",
    "# voting_clf:    ppv = 0.7854, npv = 0.765 @ threshold = 0.5152\n",
    "# =========================================\n",
    "# ROC_AUC on Test\n",
    "# lgbm:         0.8642\n",
    "# lr:           0.63127\n",
    "# xgb:          0.77811\n",
    "# stacking:     0.85698\n",
    "# voting_clf:   0.83492\n",
    "\n",
    "# v21: 1000m and 2500m data\n",
    "# ppv and npv on Test:\n",
    "# lgbm:          ppv = 0.7762, npv = 0.7737 @ threshold = 0.5556\n",
    "# lgbm_groups:   ppv = 0.649, npv = 0.6461 @ threshold = 0.1111\n",
    "# lr:            ppv = 1.0, npv = 0.6252 @ threshold = 0.6364\n",
    "# xgb:           ppv = 0.7304, npv = 0.7347 @ threshold = 0.6061\n",
    "# stacking:      ppv = 0.7869, npv = 0.7513 @ threshold = 0.5354\n",
    "# voting_clf:    ppv = 0.7614, npv = 0.7614 @ threshold = 0.5455\n",
    "# =========================================\n",
    "# ROC_AUC on Test\n",
    "# lgbm:         0.85726\n",
    "# lgbm_groups:  0.68616\n",
    "# lr:           0.62552\n",
    "# xgb:          0.79837\n",
    "# stacking:     0.84893\n",
    "# voting_clf:   0.83079\n",
    "\n",
    "# v22: 200m and 1000m... clearly this is the best. Next thing to try is capture the seasonality of the nearby wbs and fls\n",
    "# ppv and npv on Test:\n",
    "# lgbm:          ppv = 0.7881, npv = 0.7837 @ threshold = 0.5354\n",
    "# lgbm_groups:   ppv = 0.6699, npv = 0.6475 @ threshold = 0.1111\n",
    "# lr:            ppv = 0.7473, npv = 0.6368 @ threshold = 0.5051\n",
    "# xgb:           ppv = 0.7412, npv = 0.7333 @ threshold = 0.4343\n",
    "# stacking:      ppv = 0.7808, npv = 0.7836 @ threshold = 0.4545\n",
    "# voting_clf:    ppv = 0.7759, npv = 0.7733 @ threshold = 0.5051\n",
    "# =========================================\n",
    "# ROC_AUC on Test\n",
    "# lgbm:         0.8641\n",
    "# lgbm_groups:  0.66912\n",
    "# lr:           0.64632\n",
    "# xgb:          0.78758\n",
    "# stacking:     0.85629\n",
    "# voting_clf:   0.84187\n",
    "\n",
    "# v22.1: remove Charleston that contributed the most to fn's in v22\n",
    "# ppv and npv on Test:\n",
    "# lgbm:          ppv = 0.8063, npv = 0.805 @ threshold = 0.5657\n",
    "# lgbm_groups:   ppv = 0.6667, npv = 0.6606 @ threshold = 0.0909\n",
    "# lr:            ppv = 0.7471, npv = 0.6427 @ threshold = 0.5051\n",
    "# xgb:           ppv = 0.7738, npv = 0.7726 @ threshold = 0.4949\n",
    "# stacking:      ppv = 0.7994, npv = 0.7991 @ threshold = 0.5758\n",
    "# voting_clf:    ppv = 0.7906, npv = 0.7922 @ threshold = 0.5556\n",
    "# =========================================\n",
    "# ROC_AUC on Test\n",
    "# lgbm:         0.88234\n",
    "# lgbm_groups:  0.69274\n",
    "# lr:           0.65399\n",
    "# xgb:          0.83822\n",
    "# stacking:     0.8749\n",
    "# voting_clf:   0.86033    \n",
    "\n",
    "# \"east_coast = [\"Galveston\", \"New Orleans\", \n",
    "# \"Mobile\", \"Jacksonville\", \"Savannah\", \"Charleston\", 'Wilmington', \"Norfolk\", \"Baltimore\", \"Philadelphia\"]\n",
    "# clear but small improvement but the problem is Charleston was filtered out\n",
    "\n",
    "# ppv and npv on Test:\n",
    "# lgbm:          ppv = 0.8074, npv = 0.8068 @ threshold = 0.5657\n",
    "# lgbm_groups:   ppv = 0.6823, npv = 0.6554 @ threshold = 0.101\n",
    "# lr:            ppv = 0.7471, npv = 0.6427 @ threshold = 0.5051\n",
    "# xgb:           ppv = 0.7807, npv = 0.7757 @ threshold = 0.5253\n",
    "# stacking:      ppv = 0.7992, npv = 0.8091 @ threshold = 0.5556\n",
    "# voting_clf:    ppv = 0.7957, npv = 0.7966 @ threshold = 0.5455\n",
    "# =========================================\n",
    "# ROC_AUC on Test\n",
    "# lgbm:         0.88673\n",
    "# lgbm_groups:  0.68095\n",
    "# lr:           0.65398\n",
    "# xgb:          0.84006\n",
    "# stacking:     0.88012\n",
    "# voting_clf:   0.86537\n",
    "\n",
    "\n",
    "# east_coast = [\"New Orleans\", \"Charleston\"]  but the problem is Charleston was filtered out\n",
    "# ppv and npv on Test:\n",
    "# lgbm:          ppv = 0.8079, npv = 0.8078 @ threshold = 0.5758\n",
    "# lgbm_groups:   ppv = 0.6776, npv = 0.6583 @ threshold = 0.0909\n",
    "# lr:            ppv = 0.7471, npv = 0.6427 @ threshold = 0.5051\n",
    "# xgb:           ppv = 0.7495, npv = 0.7353 @ threshold = 0.5253\n",
    "# stacking:      ppv = 0.8023, npv = 0.8002 @ threshold = 0.5758\n",
    "# voting_clf:    ppv = 0.7912, npv = 0.7915 @ threshold = 0.5253\n",
    "# =========================================\n",
    "# ROC_AUC on Test\n",
    "# lgbm:         0.8876\n",
    "# lgbm_groups:  0.68694\n",
    "# lr:           0.65398\n",
    "# xgb:          0.82051\n",
    "# stacking:     0.88411\n",
    "# voting_clf:   0.86108\n",
    "\n",
    "# east_coast = [\"New Orleans\", \"Charleston\"]  with Charleston included\n",
    "# ppv and npv on Test:\n",
    "# lgbm:          ppv = 0.7797, npv = 0.7796 @ threshold = 0.5253\n",
    "# lgbm_groups:   ppv = 0.652, npv = 0.6459 @ threshold = 0.1111\n",
    "# lr:            ppv = 0.7473, npv = 0.6368 @ threshold = 0.5051\n",
    "# xgb:           ppv = 0.7587, npv = 0.7543 @ threshold = 0.4646\n",
    "# stacking:      ppv = 0.7835, npv = 0.7811 @ threshold = 0.5253\n",
    "# voting_clf:    ppv = 0.7691, npv = 0.7706 @ threshold = 0.5152\n",
    "# =========================================\n",
    "# ROC_AUC on Test\n",
    "# lgbm:         0.85836\n",
    "# lgbm_groups:  0.67909\n",
    "# lr:           0.64631\n",
    "# xgb:          0.82203\n",
    "# stacking:     0.84927\n",
    "# voting_clf:   0.83851\n",
    "\n",
    "\n",
    "# v23: best so far. v22 with east_coast variable\n",
    "# \"east_coast = [\"Galveston\", \"New Orleans\", \n",
    "# \"Mobile\", \"Jacksonville\", \"Savannah\", \"Charleston\", 'Wilmington', \"Norfolk\", \"Baltimore\", \"Philadelphia\"]\n",
    "# ppv and npv on Test:\n",
    "# lgbm:          ppv = 0.7841, npv = 0.778 @ threshold = 0.5354\n",
    "# lgbm_groups:   ppv = 0.6432, npv = 0.6432 @ threshold = 0.1212\n",
    "# lr:            ppv = 0.7473, npv = 0.6368 @ threshold = 0.5051\n",
    "# xgb:           ppv = 0.7236, npv = 0.7226 @ threshold = 0.5152\n",
    "# stacking:      ppv = 0.7843, npv = 0.7784 @ threshold = 0.5253\n",
    "# voting_clf:    ppv = 0.7728, npv = 0.7706 @ threshold = 0.5253\n",
    "# =========================================\n",
    "# ROC_AUC on Test\n",
    "# lgbm:         0.85921\n",
    "# lgbm_groups:  0.66969\n",
    "# lr:           0.64629\n",
    "# xgb:          0.78917\n",
    "# stacking:     0.84483\n",
    "# voting_clf:   0.83592\n",
    "\n",
    "\n",
    "\n",
    "# v24: without lat, lon, potential_wetland, district, county, mukey\n",
    "# ppv and npv on Test:\n",
    "# lgbm:          ppv = 0.7711, npv = 0.7684 @ threshold = 0.5152\n",
    "# lgbm_groups:   ppv = 0.6779, npv = 0.6412 @ threshold = 0.1313\n",
    "# lr:            ppv = 0.7473, npv = 0.6368 @ threshold = 0.5051\n",
    "# xgb:           ppv = 0.7458, npv = 0.7338 @ threshold = 0.5152\n",
    "# stacking:      ppv = 0.7683, npv = 0.7651 @ threshold = 0.5354\n",
    "# voting_clf:    ppv = 0.7667, npv = 0.76 @ threshold = 0.5455\n",
    "# =========================================\n",
    "# ROC_AUC on Test\n",
    "# lgbm:         0.84013\n",
    "# lgbm_groups:  0.64607\n",
    "# lr:           0.64698\n",
    "# xgb:          0.79118\n",
    "# stacking:     0.83714\n",
    "# voting_clf:   0.82432\n",
    "\n",
    "# v24.1: without lat, lon, potential_wetland, district, county, mukey with lr as meta estimator in the stacking: no improvement seen over xgb\n",
    "# \n",
    "# ppv and npv on Test:\n",
    "# lgbm:          ppv = 0.7711, npv = 0.7684 @ threshold = 0.5152\n",
    "# lgbm_groups:   ppv = 0.6779, npv = 0.6412 @ threshold = 0.1313\n",
    "# lr:            ppv = 0.7473, npv = 0.6368 @ threshold = 0.5051\n",
    "# xgb:           ppv = 0.7458, npv = 0.7338 @ threshold = 0.5152\n",
    "# stacking:      ppv = 0.7674, npv = 0.7598 @ threshold = 0.5455\n",
    "# voting_clf:    ppv = 0.7667, npv = 0.76 @ threshold = 0.5455\n",
    "# =========================================\n",
    "# ROC_AUC on Test\n",
    "# lgbm:         0.84013\n",
    "# lgbm_groups:  0.64607\n",
    "# lr:           0.64698\n",
    "# xgb:          0.79118\n",
    "# stacking:     0.83563\n",
    "# voting_clf:   0.82432\n",
    "\n",
    "\n",
    "# v26: TTT split implemented on v23\n",
    "# ppv and npv on Test:\n",
    "# lgbm:          ppv = 0.7917, npv = 0.7935 @ threshold = 0.5152\n",
    "# lgbm_smote:    ppv = 0.792, npv = 0.7922 @ threshold = 0.5556\n",
    "# lr:            ppv = 0.7308, npv = 0.6569 @ threshold = 0.5051\n",
    "# xgb:           ppv = 0.7609, npv = 0.7445 @ threshold = 0.596\n",
    "# xgb_smote:     ppv = 0.752, npv = 0.7257 @ threshold = 0.6768\n",
    "# stacking:      ppv = 0.7936, npv = 0.7855 @ threshold = 0.5152\n",
    "# voting_clf:    ppv = 0.7642, npv = 0.7681 @ threshold = 0.4949\n",
    "# =========================================\n",
    "# ROC_AUC on Test\n",
    "# lgbm:         0.86143\n",
    "# lgbm_smote:   0.8603\n",
    "# lr:           0.664\n",
    "# xgb:          0.78455\n",
    "# xgb_smote:    0.77683\n",
    "# stacking:     0.85775\n",
    "# voting_clf:   0.83752    \n",
    "\n",
    "# v27: TTT, trying to implement Shobha's cat ordinals\n",
    "\n",
    "# v28: Blending on v26\n",
    "\n",
    "# v28-SSS: SSS with Blending, able to reproduce the results\n",
    "\n",
    "# v28-SSS2: SSS with Blending, able to reproduce the results and dev+test split ratio of 0.4\n",
    "# hmm can not reproduce v28-SSS2 when I run the next day\n",
    "\n",
    "# v29: best results so far\n",
    "\n",
    "# meta:          ppv = 0.8957, npv = 0.8922 @ threshold = 0.798\n",
    "# average_precision_score: 0.89707\n",
    "# roc_auc : 0.95452\n",
    "# Classification Report:\n",
    "#               precision    recall  f1-score   support\n",
    "\n",
    "#            0       0.95      0.89      0.92      2133\n",
    "#            1       0.74      0.87      0.80       791\n",
    "\n",
    "#     accuracy                           0.88      2924\n",
    "#    macro avg       0.85      0.88      0.86      2924\n",
    "# weighted avg       0.89      0.88      0.89      2924\n",
    "\n",
    "# Confusion Matrix:\n",
    "# [[1896  237]\n",
    "#  [ 101  690]]\n",
    "\n",
    "\n",
    "# v29.1: with roc_auc as optimizer in light gbm\n",
    "# meta:          ppv = 0.9466, npv = 0.9467 @ threshold = 0.7778\n",
    "# average_precision_score: 0.97279\n",
    "# roc_auc : 0.98837\n",
    "# Classification Report:\n",
    "#               precision    recall  f1-score   support\n",
    "\n",
    "#            0       0.97      0.95      0.96      2133\n",
    "#            1       0.87      0.93      0.90       791\n",
    "\n",
    "#     accuracy                           0.94      2924\n",
    "#    macro avg       0.92      0.94      0.93      2924\n",
    "# weighted avg       0.95      0.94      0.94      2924\n",
    "\n",
    "# Confusion Matrix:\n",
    "# [[2024  109]\n",
    "#  [  55  736]]\n",
    "\n",
    "# v29.2 (replaced) without lat, lon, pot wetland\n",
    "# - also plotted npv, ppv\n",
    "# - also got the LR feature selection working\n",
    "\n",
    "# meta:          ppv = 0.9304, npv = 0.9275 @ threshold = 0.7778\n",
    "# average_precision_score: 0.94839\n",
    "# roc_auc : 0.97599\n",
    "# Classification Report:\n",
    "#               precision    recall  f1-score   support\n",
    "\n",
    "#            0       0.96      0.92      0.94      2133\n",
    "#            1       0.81      0.89      0.85       791\n",
    "\n",
    "#     accuracy                           0.91      2924\n",
    "#    macro avg       0.88      0.91      0.89      2924\n",
    "# weighted avg       0.92      0.91      0.92      2924\n",
    "\n",
    "# Confusion Matrix:\n",
    "# [[1966  167]\n",
    "#  [  84  707]]\n",
    "\n",
    "# v30: with lat, lon, pot wetland and 48 features\n",
    "# meta:          ppv = 0.9453, npv = 0.9471 @ threshold = 0.7374\n",
    "# average_precision_score: 0.96839\n",
    "# roc_auc : 0.98534\n",
    "# Classification Report:\n",
    "#               precision    recall  f1-score   support\n",
    "\n",
    "#            0       0.98      0.95      0.96      2133\n",
    "#            1       0.86      0.94      0.90       791\n",
    "\n",
    "#     accuracy                           0.94      2924\n",
    "#    macro avg       0.92      0.94      0.93      2924\n",
    "# weighted avg       0.95      0.94      0.94      2924\n",
    "\n",
    "# Confusion Matrix:\n",
    "# [[2016  117]\n",
    "#  [  50  741]]\n",
    "\n",
    "\n",
    "\n",
    "# v31: no lat, lon, pot wetland with 48 features selected by LR regularization\n",
    "# meta:          ppv = 0.9477, npv = 0.9454 @ threshold = 0.7778\n",
    "# average_precision_score: 0.96368\n",
    "# roc_auc : 0.98188\n",
    "# Classification Report:\n",
    "#               precision    recall  f1-score   support\n",
    "\n",
    "#            0       0.97      0.94      0.96      2133\n",
    "#            1       0.86      0.93      0.89       791\n",
    "\n",
    "#     accuracy                           0.94      2924\n",
    "#    macro avg       0.92      0.94      0.93      2924\n",
    "# weighted avg       0.94      0.94      0.94      2924\n",
    "\n",
    "# Confusion Matrix:\n",
    "# [[2014  119]\n",
    "#  [  56  735]]\n",
    "\n",
    "\n",
    "# # v33:\n",
    "# imp_num_feature_list = (geom + potential_wetland + ssurgo \n",
    "#                             + nhd_200m + nwi_200m + srtm_200m\n",
    "#                            + nhd_1000m + nwi_1000m + srtm_1000m) \n",
    "\n",
    "# ppv and npv on Test:\n",
    "# lgbm:          ppv = 0.7836, npv = 0.7756 @ threshold = 0.5758\n",
    "# lgbm_smote:    ppv = 0.7928, npv = 0.7952 @ threshold = 0.5859\n",
    "# lr:            ppv = 0.6774, npv = 0.6596 @ threshold = 0.5051\n",
    "# xgb:           ppv = 0.7453, npv = 0.7449 @ threshold = 0.5556\n",
    "# stacking:      ppv = 0.7912, npv = 0.7734 @ threshold = 0.6263\n",
    "# =========================================\n",
    "# ROC_AUC on Test\n",
    "# lgbm:         0.85485\n",
    "# lgbm_smote:   0.85815\n",
    "# lr:           0.64992\n",
    "# xgb:          0.78887\n",
    "# stacking:     0.84512\n",
    "\n",
    "# v33.1\n",
    "#   imp_num_feature_list = (geom + potential_wetland + ssurgo \n",
    "#                             + nhd_200m + nwi_200m + srtm_200m\n",
    "#                            + nhd_1000m + nwi_1000m + srtm_1000m\n",
    "#                            + nhd_2500m + nwi_2500m + srtm_2500m) \n",
    "\n",
    "# ppv and npv on Test:\n",
    "# lgbm:          ppv = 0.7914, npv = 0.7905 @ threshold = 0.5556\n",
    "# lgbm_smote:    ppv = 0.7827, npv = 0.7799 @ threshold = 0.596\n",
    "# lr:            ppv = 0.6727, npv = 0.6575 @ threshold = 0.5152\n",
    "# xgb:           ppv = 0.7472, npv = 0.7463 @ threshold = 0.5556\n",
    "# stacking:      ppv = 0.7755, npv = 0.7951 @ threshold = 0.4848\n",
    "# =========================================\n",
    "# ROC_AUC on Test\n",
    "# lgbm:         0.86002\n",
    "# lgbm_smote:   0.85714\n",
    "# lr:           0.63345\n",
    "# xgb:          0.77457\n",
    "# stacking:     0.8569\n",
    "\n",
    "# v33.2: above with no potential wetland (only slightly lowered)\n",
    "#  imp_num_feature_list = (geom + ssurgo \n",
    "#                         + nhd_200m + nwi_200m + srtm_200m\n",
    "#                        + nhd_1000m + nwi_1000m + srtm_1000m\n",
    "#                        + nhd_2500m + nwi_2500m + srtm_2500m) \n",
    "\n",
    "# ppv and npv on Test:\n",
    "# lgbm:          ppv = 0.7823, npv = 0.7821 @ threshold = 0.5657\n",
    "# lgbm_smote:    ppv = 0.7806, npv = 0.7827 @ threshold = 0.5859\n",
    "# lr:            ppv = 0.6727, npv = 0.6575 @ threshold = 0.5152\n",
    "# xgb:           ppv = 0.7527, npv = 0.7527 @ threshold = 0.5556\n",
    "# stacking:      ppv = 0.7973, npv = 0.7746 @ threshold = 0.5657\n",
    "# =========================================\n",
    "# ROC_AUC on Test\n",
    "# lgbm:         0.85399\n",
    "# lgbm_smote:   0.85077\n",
    "# lr:           0.63349\n",
    "# xgb:          0.78215\n",
    "# stacking:     0.84956\n",
    "\n",
    "\n",
    "# v33.3: above with no geom (lat, lon) and geom_cat (county, state)\n",
    "\n",
    "# ppv and npv on Test:\n",
    "# lgbm:          ppv = 0.7651, npv = 0.7572 @ threshold = 0.5556\n",
    "# lgbm_smote:    ppv = 0.759, npv = 0.754 @ threshold = 0.596\n",
    "# lr:            ppv = 0.6727, npv = 0.6575 @ threshold = 0.5152\n",
    "# xgb:           ppv = 0.7362, npv = 0.728 @ threshold = 0.4747\n",
    "# stacking:      ppv = 0.7508, npv = 0.774 @ threshold = 0.4747\n",
    "# =========================================\n",
    "# ROC_AUC on Test\n",
    "# lgbm:         0.83401\n",
    "# lgbm_smote:   0.82947\n",
    "# lr:           0.63391\n",
    "# xgb:          0.73292\n",
    "# stacking:     0.83234\n",
    "\n",
    "# v33.4: imp_num_feature_list = (geom + ssurgo) \n",
    "# ppv and npv on Test:\n",
    "# lgbm:          ppv = 0.773, npv = 0.7718 @ threshold = 0.5354\n",
    "# lgbm_smote:    ppv = 0.7482, npv = 0.749 @ threshold = 0.6465\n",
    "# lr:            ppv = 0.6984, npv = 0.7021 @ threshold = 0.5253\n",
    "# xgb:           ppv = 0.71, npv = 0.7205 @ threshold = 0.5152\n",
    "# stacking:      ppv = 0.771, npv = 0.7745 @ threshold = 0.5354\n",
    "# =========================================\n",
    "# ROC_AUC on Test\n",
    "# lgbm:         0.83693\n",
    "# lgbm_smote:   0.83124\n",
    "# lr:           0.7376\n",
    "# xgb:          0.7873\n",
    "# stacking:     0.83204\n",
    "\n",
    "# v33.5:     imp_num_feature_list = (geom + srtm_200m + srtm_1000m + srtm_2500m) \n",
    "# ppv and npv on Test:\n",
    "# lgbm:          ppv = 0.7544, npv = 0.7542 @ threshold = 0.5657\n",
    "# lgbm_smote:    ppv = 0.761, npv = 0.7515 @ threshold = 0.6061\n",
    "# lr:            ppv = 0.7368, npv = 0.6491 @ threshold = 0.5051\n",
    "# xgb:           ppv = 0.7163, npv = 0.7153 @ threshold = 0.5657\n",
    "# stacking:      ppv = 0.761, npv = 0.7515 @ threshold = 0.5455\n",
    "# =========================================\n",
    "# ROC_AUC on Test\n",
    "# lgbm:         0.83736\n",
    "# lgbm_smote:   0.83257\n",
    "# lr:           0.66273\n",
    "# xgb:          0.75356\n",
    "# stacking:     0.82915\n",
    "\n",
    "# v33.6:     imp_num_feature_list = (geom + nhd_200m + nhd_1000m + nhd_2500m) \n",
    "# ppv and npv on Test:\n",
    "# lgbm:          ppv = 0.7645, npv = 0.7633 @ threshold = 0.5758\n",
    "# lgbm_smote:    ppv = 0.7655, npv = 0.762 @ threshold = 0.6061\n",
    "# lr:            ppv = 0.6727, npv = 0.6575 @ threshold = 0.5152\n",
    "# xgb:           ppv = 0.7692, npv = 0.7348 @ threshold = 0.4848\n",
    "# stacking:      ppv = 0.7891, npv = 0.7505 @ threshold = 0.596\n",
    "# =========================================\n",
    "# ROC_AUC on Test\n",
    "# lgbm:         0.8501\n",
    "# lgbm_smote:   0.84622\n",
    "# lr:           0.58837\n",
    "# xgb:          0.79818\n",
    "# stacking:     0.845\n",
    "\n",
    "# v33.7:     imp_num_feature_list = (geom + nwi_200m + nwi_1000m + nwi_2500m) \n",
    "# ppv and npv on Test:\n",
    "# lgbm:          ppv = 0.7629, npv = 0.7618 @ threshold = 0.5455\n",
    "# lgbm_smote:    ppv = 0.7716, npv = 0.7632 @ threshold = 0.596\n",
    "# lr:            ppv = 0.708, npv = 0.6852 @ threshold = 0.4747\n",
    "# xgb:           ppv = 0.7297, npv = 0.721 @ threshold = 0.4141\n",
    "# stacking:      ppv = 0.7721, npv = 0.7661 @ threshold = 0.5152\n",
    "# =========================================\n",
    "# ROC_AUC on Test\n",
    "# lgbm:         0.84355\n",
    "# lgbm_smote:   0.84172\n",
    "# lr:           0.68974\n",
    "# xgb:          0.77855\n",
    "# stacking:     0.84476\n",
    "\n",
    "# # v33.8:  feature selection with 95 features\n",
    "# imp_num_feature_list = (geom + potential_wetland + ssurgo \n",
    "#                             + nhd_200m + nwi_200m + srtm_200m\n",
    "#                            + nhd_1000m + nwi_1000m + srtm_1000m\n",
    "#                            + nhd_2500m + nwi_2500m + srtm_2500m)\n",
    "# ppv and npv on Test:\n",
    "# lgbm:          ppv = 0.7834, npv = 0.7807 @ threshold = 0.5657\n",
    "# lgbm_smote:    ppv = 0.776, npv = 0.7749 @ threshold = 0.6061\n",
    "# lr:            ppv = 0.7222, npv = 0.6486 @ threshold = 0.5051\n",
    "# xgb:           ppv = 0.7555, npv = 0.751 @ threshold = 0.5455\n",
    "# stacking:      ppv = 0.7781, npv = 0.7825 @ threshold = 0.5051\n",
    "# =========================================\n",
    "# ROC_AUC on Test\n",
    "# lgbm:         0.84501\n",
    "# lgbm_smote:   0.84187\n",
    "# lr:           0.64845\n",
    "# xgb:          0.78851\n",
    "# stacking:     0.84201\n",
    "\n",
    "\n",
    "# v33.9 : nwi removed\n",
    "# Testing results on test set\n",
    "# ----------------------------\n",
    "# lgbm:          ppv = 0.7703, npv = 0.7719 @ threshold = 0.5657\n",
    "\n",
    "# Confusion Matrix:\n",
    "# [[1710  224]\n",
    "#  [ 451  622]]\n",
    "\n",
    "# roc_auc                : 0.84704\n",
    "# average_precision_score: 0.76356\n",
    "# balanced_accuracy_score: 0.73193\n",
    "# Classification Report:\n",
    "#               precision    recall  f1-score   support\n",
    "\n",
    "#            0       0.79      0.88      0.84      1934\n",
    "#            1       0.74      0.58      0.65      1073\n",
    "\n",
    "#     accuracy                           0.78      3007\n",
    "#    macro avg       0.76      0.73      0.74      3007\n",
    "# weighted avg       0.77      0.78      0.77      3007\n",
    "\n",
    "# v33.10 just geom\n",
    "# Testing results on test set\n",
    "# ----------------------------\n",
    "# lgbm:          ppv = 0.7394, npv = 0.736 @ threshold = 0.5657\n",
    "\n",
    "# Confusion Matrix:\n",
    "# [[1689  245]\n",
    "#  [ 537  536]]\n",
    "\n",
    "# roc_auc                : 0.8021\n",
    "# average_precision_score: 0.69109\n",
    "# balanced_accuracy_score: 0.68643\n",
    "# Classification Report:\n",
    "#               precision    recall  f1-score   support\n",
    "\n",
    "#            0       0.76      0.87      0.81      1934\n",
    "#            1       0.69      0.50      0.58      1073\n",
    "\n",
    "#     accuracy                           0.74      3007\n",
    "#    macro avg       0.72      0.69      0.70      3007\n",
    "# weighted avg       0.73      0.74      0.73      3007"
   ]
  },
  {
   "cell_type": "markdown",
   "metadata": {},
   "source": [
    "# Imports\n"
   ]
  },
  {
   "cell_type": "code",
   "execution_count": 147,
   "metadata": {
    "colab": {
     "base_uri": "https://localhost:8080/"
    },
    "id": "Wj4LjNpHOzc9",
    "outputId": "6b01c399-d6fc-46c6-f622-ac200674afb8"
   },
   "outputs": [],
   "source": [
    "# !pip install lightgbm\n",
    "# !pip install xgboost\n",
    "# !pip install mlxtend\n",
    "# !pip install seaborn\n",
    "# !pip install shapely\n",
    "# !pip install geopandas\n",
    "# !pip install metric_learn\n",
    "# import pickle\n",
    "\n",
    "# # !pip3 install keras\n",
    "# # !pip3 install tensorflow\n",
    "# !pip install -U imbalanced-learn\n"
   ]
  },
  {
   "cell_type": "code",
   "execution_count": 148,
   "metadata": {
    "id": "y6CJ-2pyO-Pu"
   },
   "outputs": [],
   "source": [
    "%matplotlib inline \n",
    "\n",
    "from shapely.geometry import Point\n",
    "import geopandas as gpd\n",
    "from geopandas import GeoDataFrame\n",
    "\n",
    "\n",
    "import re\n",
    "import time\n",
    "import numpy as np\n",
    "import pandas as pd\n",
    "import matplotlib.pyplot as plt\n",
    "from scipy import stats\n",
    "import seaborn as sns\n",
    "import joblib\n",
    "import pickle\n",
    "from datetime import datetime\n",
    "from optimize_ppv_npv_scorer_ import optimize_ppv_npv_scorer\n",
    "from imblearn.over_sampling import SMOTE\n",
    "from imblearn.pipeline import make_pipeline\n",
    "from sklearn.model_selection import StratifiedShuffleSplit\n",
    "\n",
    "from sklearn import model_selection\n",
    "from sklearn.svm import SVC\n",
    "from mlxtend.classifier import StackingCVClassifier\n",
    "from sklearn.metrics import roc_curve, auc\n",
    "from sklearn.model_selection import train_test_split\n",
    "from sklearn import datasets\n",
    "from sklearn.preprocessing import label_binarize\n",
    "from sklearn.multiclass import OneVsRestClassifier\n",
    "\n",
    "# SK-learn libraries for machine learning\n",
    "from sklearn.pipeline import Pipeline\n",
    "from sklearn.preprocessing import StandardScaler\n",
    "from sklearn.preprocessing import RobustScaler\n",
    "from sklearn.preprocessing import OneHotEncoder\n",
    "from sklearn.impute import SimpleImputer\n",
    "from sklearn.model_selection import train_test_split\n",
    "\n",
    "from sklearn.metrics import balanced_accuracy_score\n",
    "from sklearn.neighbors import KNeighborsClassifier\n",
    "from sklearn.linear_model import LinearRegression\n",
    "from sklearn.linear_model import LogisticRegression\n",
    "from sklearn.linear_model import Lasso\n",
    "from sklearn.linear_model import Ridge\n",
    "from sklearn.linear_model import ElasticNet\n",
    "from sklearn.linear_model import RidgeCV\n",
    "from sklearn.linear_model import LassoCV\n",
    "from sklearn.linear_model import ElasticNetCV\n",
    "from sklearn.linear_model import BayesianRidge\n",
    "from sklearn.svm import LinearSVR\n",
    "from sklearn.svm import SVR\n",
    "from sklearn.naive_bayes import BernoulliNB\n",
    "from sklearn.naive_bayes import MultinomialNB\n",
    "from sklearn.naive_bayes import GaussianNB\n",
    "from sklearn.tree import DecisionTreeClassifier\n",
    "from sklearn.tree import DecisionTreeRegressor\n",
    "from sklearn.ensemble import AdaBoostRegressor\n",
    "from sklearn.ensemble import BaggingRegressor\n",
    "from sklearn.ensemble import VotingRegressor\n",
    "from sklearn.ensemble import GradientBoostingRegressor\n",
    "from sklearn.ensemble import RandomForestRegressor\n",
    "from mlxtend.regressor import StackingCVRegressor\n",
    "from mlxtend.classifier import StackingCVClassifier\n",
    "from sklearn.ensemble import RandomForestClassifier\n",
    "from sklearn.ensemble import VotingClassifier\n",
    "\n",
    "from lightgbm import LGBMRegressor\n",
    "from lightgbm import *\n",
    "from xgboost import XGBRegressor\n",
    "from xgboost import XGBRFClassifier\n",
    "from sklearn.decomposition import PCA\n",
    "from sklearn.cluster import KMeans\n",
    "from sklearn.mixture import GaussianMixture\n",
    "import xgboost\n",
    "import lightgbm\n",
    "\n",
    "from sklearn.model_selection import GridSearchCV\n",
    "from sklearn.model_selection import KFold\n",
    "from sklearn.model_selection import cross_val_predict\n",
    "from sklearn.model_selection import cross_val_score\n",
    "from sklearn.model_selection import RandomizedSearchCV\n",
    "\n",
    "# SK-learn libraries for evaluation\n",
    "from sklearn import metrics\n",
    "from sklearn.metrics import confusion_matrix\n",
    "from sklearn.metrics import classification_report\n",
    "\n",
    "import warnings\n",
    "warnings.filterwarnings(\"ignore\")\n",
    "pass"
   ]
  },
  {
   "cell_type": "markdown",
   "metadata": {},
   "source": [
    "# Constants and Data imports"
   ]
  },
  {
   "cell_type": "code",
   "execution_count": 149,
   "metadata": {},
   "outputs": [],
   "source": [
    "INPUT_FILE_NAME = \"Merge_all_datasets/2021.04.05_full_dataset\"\n",
    "FILE_VERSION = \"v33.10\"\n",
    "\n",
    "run_models = True # BEWARE! This overwrites the models stored on disk\n",
    "run_logistic = True\n",
    "no_lat_lon = False\n",
    "feature_select = True\n",
    "\n",
    "run_svc = False\n",
    "run_autoencoder = False\n",
    "run_knn = False\n",
    "run_svc_second_level = False\n",
    "\n",
    "# file params\n",
    "golden_models = [\"v21\", \"v22\", \"v23\", \"v24\", \"v28-SSS\", \"v29\", \"v30\", \"v31\"]\n",
    "stop_before_models = False\n",
    "\n",
    "if run_models:\n",
    "    model_dict = {} # initiate the model dictionary\n",
    "    file_param_dict = {} # initiate the file param dict\n",
    "    random_state = 123 # for train, dev, test splits\n",
    "    dev = True\n",
    "    file_param_dict[\"random_state\"] = random_state\n",
    "    file_param_dict[\"dev\"] = dev\n",
    "    file_param_dict[\"input_file_name\"] = INPUT_FILE_NAME\n",
    "\n",
    "else:\n",
    "    model_dict = pd.read_pickle(\"random_search_fitted_models_\" + FILE_VERSION)\n",
    "    try:\n",
    "        file_param_dict = model_dict[\"file_params\"]\n",
    "    except Exception as e:\n",
    "        print(e)\n",
    "        pass\n",
    "        \n",
    "    random_state = file_param_dict[\"random_state\"]\n",
    "    dev = file_param_dict[\"dev\"]\n",
    "    INPUT_FILE_NAME = file_param_dict[\"input_file_name\"]\n",
    "\n",
    "if FILE_VERSION in golden_models:\n",
    "    if run_models:\n",
    "        print(\"Warning: you are overwriting golden model\")\n",
    "        stop\n",
    "\n",
    "# SMOTE object\n",
    "smt = SMOTE(random_state=random_state)        "
   ]
  },
  {
   "cell_type": "code",
   "execution_count": 150,
   "metadata": {
    "id": "1q95q-9wPEky"
   },
   "outputs": [
    {
     "data": {
      "text/plain": [
       "(14619, 697)"
      ]
     },
     "execution_count": 150,
     "metadata": {},
     "output_type": "execute_result"
    }
   ],
   "source": [
    "df_full = pd.read_pickle(\"../../../data/\" + INPUT_FILE_NAME)\n",
    "df_full.shape"
   ]
  },
  {
   "cell_type": "markdown",
   "metadata": {},
   "source": [
    "# CWA determinations as groupings"
   ]
  },
  {
   "cell_type": "code",
   "execution_count": 151,
   "metadata": {},
   "outputs": [],
   "source": [
    "# df2_full = pd.read_pickle(\"../../../data/\" + INPUT_FILE_NAME)"
   ]
  },
  {
   "cell_type": "code",
   "execution_count": 152,
   "metadata": {},
   "outputs": [],
   "source": [
    "# df2_full.columns[:10]"
   ]
  },
  {
   "cell_type": "code",
   "execution_count": 153,
   "metadata": {},
   "outputs": [],
   "source": [
    "# # 1: 1,2,3,5\n",
    "# # 2: 4,6,7\n",
    "# # 3: 8 ,9\n",
    "\n",
    "# def check_box_grouping(x):\n",
    "#     if x.cwa1 + x.cwa2 + x.cwa3 + x.cwa5 > 0:\n",
    "#         return 1\n",
    "#     elif x.cwa4 + x.cwa6 + x.cwa7 > 0:\n",
    "#         return 2\n",
    "#     else:\n",
    "#         return 3\n",
    "    \n",
    "    \n",
    "# def check_box_grouping(x):\n",
    "#     if x.cwa1 + x.cwa3 + x.cwa5 > 0:\n",
    "#         return 1\n",
    "#     elif  x.cwa2 + x.cwa4 + x.cwa6 + x.cwa7 > 0:\n",
    "#         return 2\n",
    "#     else:\n",
    "#         return 3    "
   ]
  },
  {
   "cell_type": "code",
   "execution_count": 154,
   "metadata": {},
   "outputs": [],
   "source": [
    "# df_full[\"cwa_determination_groups\"] = df_full.apply(lambda x: check_box_grouping(x), axis=1)"
   ]
  },
  {
   "cell_type": "markdown",
   "metadata": {},
   "source": [
    "# Data filtering"
   ]
  },
  {
   "cell_type": "code",
   "execution_count": 155,
   "metadata": {},
   "outputs": [
    {
     "data": {
      "text/plain": [
       "(14613, 697)"
      ]
     },
     "execution_count": 155,
     "metadata": {},
     "output_type": "execute_result"
    }
   ],
   "source": [
    "# remove longitude > -50 (bad datapoints)\n",
    "\n",
    "df_full = df_full[df_full.longitude < -50]\n",
    "df_full.shape"
   ]
  },
  {
   "cell_type": "markdown",
   "metadata": {},
   "source": [
    "## Remove bad records"
   ]
  },
  {
   "cell_type": "code",
   "execution_count": 156,
   "metadata": {},
   "outputs": [],
   "source": [
    "# east_coast = [\"Galveston\", \"New Orleans\", \"Mobile\", \"Jacksonville\", \"Savannah\", \"Charleston\", 'Wilmington', \"Norfolk\", \"Baltimore\", \"Philadelphia\"]\n",
    "# # east_coast = [\"New Orleans\", \"Charleston\"]"
   ]
  },
  {
   "cell_type": "code",
   "execution_count": 157,
   "metadata": {},
   "outputs": [],
   "source": [
    "# df_full[\"east_coast\"] = df_full.apply(lambda x: \"yes\" if x.district in east_coast else \"no\", axis=1)"
   ]
  },
  {
   "cell_type": "code",
   "execution_count": 158,
   "metadata": {
    "colab": {
     "base_uri": "https://localhost:8080/"
    },
    "id": "V4OSS7EfFWLD",
    "outputId": "5cba5f6a-118e-4979-8194-000e45123b90"
   },
   "outputs": [
    {
     "name": "stdout",
     "output_type": "stream",
     "text": [
      "%good records = 98%\n"
     ]
    }
   ],
   "source": [
    "# any records where the cwa_determination is contrary to expectations?\n",
    "good_records = (df_full.apply(lambda x: \n",
    "               (np.sum(x.cwa1 + x.cwa2 + x.cwa3 + x.cwa4 + x.cwa5 + \n",
    "                       x.cwa6 + x.cwa7 + x.cwa8 + x.cwa9) > 0) * 1 \n",
    "               == x.cwa_determination, \n",
    "               axis=1))\n",
    "\n",
    "print(\"%good records = {}%\".format(round(np.mean(good_records) * 100)))\n",
    "df_full = df_full[good_records]"
   ]
  },
  {
   "cell_type": "code",
   "execution_count": 159,
   "metadata": {
    "colab": {
     "base_uri": "https://localhost:8080/",
     "height": 276
    },
    "id": "MUI--cUNFmXp",
    "outputId": "08a07e58-d2a0-4ead-c85a-7e9edbf94883"
   },
   "outputs": [],
   "source": [
    "# # peek at not good records\n",
    "# df_full[~good_records].head(3)"
   ]
  },
  {
   "cell_type": "markdown",
   "metadata": {},
   "source": [
    "# Nan Threshold"
   ]
  },
  {
   "cell_type": "code",
   "execution_count": 160,
   "metadata": {},
   "outputs": [
    {
     "name": "stdout",
     "output_type": "stream",
     "text": [
      "110 0\n"
     ]
    },
    {
     "data": {
      "image/png": "[encoded data removed]",
      "text/plain": [
       "<Figure size 432x288 with 1 Axes>"
      ]
     },
     "metadata": {
      "needs_background": "light"
     },
     "output_type": "display_data"
    }
   ],
   "source": [
    "# fraction of nan's in each numerical variable\n",
    "# remove variables that are above nan threshold of nan_th\n",
    "\n",
    "nan_th = 0.2\n",
    "delete_vars = []\n",
    "count = 0\n",
    "errors = 0\n",
    "nan_dist = []\n",
    "for var in df_full.describe().columns:\n",
    "    try:\n",
    "        nan_fraction = np.mean(df_full[str(var)].isna())\n",
    "        if nan_fraction != 0:\n",
    "            count += 1\n",
    "            nan_dist.append(nan_fraction)\n",
    "            if nan_fraction >= nan_th:\n",
    "                delete_vars.append(var)\n",
    "                \n",
    "    except Exception as e:\n",
    "        errors += 1\n",
    "        print(var, \"<-------------------\")\n",
    "print(count, errors)\n",
    "plt.hist(nan_dist)\n",
    "\n",
    "# keep_vars = list(set(df_full.columns) - set(delete_vars)) # wow this is messing up the order\n",
    "\n",
    "keep_vars = []\n",
    "for var in df_full.columns:\n",
    "    if var not in delete_vars:\n",
    "        keep_vars.append(var)\n",
    "df_full = df_full[keep_vars]\n"
   ]
  },
  {
   "cell_type": "markdown",
   "metadata": {},
   "source": [
    "# Stratified Shuffle Splits (Train, Dev, Test)\n"
   ]
  },
  {
   "cell_type": "code",
   "execution_count": 161,
   "metadata": {},
   "outputs": [],
   "source": [
    "X = df_full\n",
    "y = df_full.cwa_determination"
   ]
  },
  {
   "cell_type": "code",
   "execution_count": 162,
   "metadata": {},
   "outputs": [
    {
     "data": {
      "text/plain": [
       "(14322,)"
      ]
     },
     "execution_count": 162,
     "metadata": {},
     "output_type": "execute_result"
    }
   ],
   "source": [
    "y.shape"
   ]
  },
  {
   "cell_type": "code",
   "execution_count": 163,
   "metadata": {},
   "outputs": [
    {
     "name": "stdout",
     "output_type": "stream",
     "text": [
      "(10025, 638) (4297, 638)\n",
      "(3007, 638) (1290, 638)\n"
     ]
    }
   ],
   "source": [
    "# Split data into train and test\n",
    "sss = StratifiedShuffleSplit(n_splits=1, test_size=0.3, random_state=random_state)\n",
    "for train_index, temp_index in sss.split(X, y):\n",
    "    X_train = X.iloc[train_index]\n",
    "    X_temp = X.iloc[temp_index]\n",
    "\n",
    "print(X_train.shape, X_temp.shape)\n",
    "y_train = y.iloc[train_index]\n",
    "y_temp = y.iloc[temp_index]\n",
    "\n",
    "sss_test = StratifiedShuffleSplit(n_splits=1, test_size=0.5, random_state=random_state)\n",
    "for dev_index, test_index in sss.split(X_temp, y_temp):\n",
    "    X_dev = X_temp.iloc[dev_index]\n",
    "    X_test = X_temp.iloc[test_index]\n",
    "\n",
    "print(X_dev.shape, X_test.shape)\n",
    "y_dev = y_temp.iloc[dev_index]\n",
    "y_test = y_temp.iloc[test_index]\n",
    "\n",
    "df = X_train\n",
    "df_dev = X_dev\n",
    "df_test = X_test\n",
    "\n",
    "Y = np.array(y_train)\n",
    "dev_Y = np.array(y_dev)\n",
    "test_Y = np.array(y_test)"
   ]
  },
  {
   "cell_type": "code",
   "execution_count": null,
   "metadata": {},
   "outputs": [],
   "source": []
  },
  {
   "cell_type": "markdown",
   "metadata": {
    "id": "bODkeQCDPr24"
   },
   "source": [
    "# EDA"
   ]
  },
  {
   "cell_type": "markdown",
   "metadata": {
    "id": "0Zs23ZZxPtnN"
   },
   "source": [
    "### Remove cols with all NaNs"
   ]
  },
  {
   "cell_type": "code",
   "execution_count": 164,
   "metadata": {
    "id": "vBwbLX6YPwT_"
   },
   "outputs": [],
   "source": [
    "nan_cols = []\n",
    "for col in df.columns:\n",
    "  nan_frac = np.mean(df[str(col)].isna())\n",
    "  if nan_frac == 1:\n",
    "    nan_cols.append(col)\n",
    "nan_cols\n",
    "df.drop(nan_cols, inplace=True, axis=1)\n",
    "\n",
    "# two cols are removed here"
   ]
  },
  {
   "cell_type": "code",
   "execution_count": 165,
   "metadata": {},
   "outputs": [
    {
     "data": {
      "text/plain": [
       "(10025, 638)"
      ]
     },
     "execution_count": 165,
     "metadata": {},
     "output_type": "execute_result"
    }
   ],
   "source": [
    "df.shape"
   ]
  },
  {
   "cell_type": "code",
   "execution_count": 166,
   "metadata": {
    "colab": {
     "base_uri": "https://localhost:8080/"
    },
    "id": "BxWXqayaFhXp",
    "outputId": "52c2ceb0-fc0c-49ce-8fb4-4050e7c7f778"
   },
   "outputs": [
    {
     "data": {
      "text/plain": [
       "True"
      ]
     },
     "execution_count": 166,
     "metadata": {},
     "output_type": "execute_result"
    }
   ],
   "source": [
    "\"county\" in df_full.columns"
   ]
  },
  {
   "cell_type": "markdown",
   "metadata": {
    "id": "wlZ2nLgVPOn1"
   },
   "source": [
    "# Feature Selection"
   ]
  },
  {
   "cell_type": "code",
   "execution_count": 167,
   "metadata": {
    "colab": {
     "base_uri": "https://localhost:8080/"
    },
    "id": "xlE_M1C2PIgp",
    "outputId": "af65405c-4220-4fe4-c5b9-c922d395bfde"
   },
   "outputs": [
    {
     "name": "stdout",
     "output_type": "stream",
     "text": [
      "0 longitude\n",
      "1 latitude\n",
      "2 cwa_determination\n",
      "3 cwa1\n",
      "4 cwa2\n",
      "5 cwa3\n",
      "6 cwa4\n",
      "7 cwa5\n",
      "8 cwa6\n",
      "9 cwa7\n",
      "10 cwa8\n",
      "11 cwa9\n",
      "12 potential_wetland\n",
      "13 Index\n",
      "14 niccdcd\n",
      "15 brockdepmi\n",
      "16 awmmfpwwta\n",
      "17 urbrecptwt\n",
      "18 slopegradw\n",
      "19 aws0150wta\n",
      "20 aws025wta\n",
      "21 iccdcdpct\n",
      "22 aws0100wta\n",
      "23 aws050wta\n",
      "24 wtdepannmi\n",
      "25 slopegradd\n",
      "26 pondfreqpr\n",
      "27 wtdepaprju\n",
      "28 niccdcdpct\n",
      "29 hydclprs\n",
      "30 slope_stdev_200m\n",
      "31 elevation_min_200m\n",
      "32 slope_max_200m\n",
      "33 slope_mean_200m\n",
      "34 elevation_mean_200m\n",
      "35 slope_min_200m\n",
      "36 elevation_max_200m\n",
      "37 elevation_stdev_200m\n",
      "38 fl_totdasqkm_sum_200m\n",
      "39 fl_ftype_connector_200m\n",
      "40 fl_totdasqkm_count_200m\n",
      "41 fl_flow_type_sum_200m\n",
      "42 wb_gnis_name_ind_count_200m\n",
      "43 wb_area_sum_200m\n",
      "44 fl_areasqkm_mean_200m\n",
      "45 fl_startflag_sum_200m\n",
      "46 fl_divergence_mean_200m\n",
      "47 fl_ftype_canalditch_200m\n",
      "48 wb_ftype_connector_200m\n",
      "49 wb_gnis_name_ind_sum_200m\n",
      "50 fl_intephem_mean_200m\n",
      "51 fl_flow_type_mean_200m\n",
      "52 fl_streamorde_sum_200m\n",
      "53 fl_ftype_artificialpath_200m\n",
      "54 fl_ftype_pipeline_200m\n",
      "55 fl_gnis_name_ind_sum_200m\n",
      "56 wb_ftype_artificialpath_200m\n",
      "57 fl_gnis_name_ind_count_200m\n",
      "58 wb_ftype_canalditch_200m\n",
      "59 fl_areasqkm_sum_200m\n",
      "60 fl_gnis_name_ind_mean_200m\n",
      "61 fl_ftype_streamriver_200m\n",
      "62 wb_ftype_streamriver_200m\n",
      "63 fl_flow_type_count_200m\n",
      "64 wb_ftype_pipeline_200m\n",
      "65 fl_intephem_sum_200m\n",
      "66 wb_area_count_200m\n",
      "67 fl_streamorde_mean_200m\n",
      "68 fl_intephem_count_200m\n",
      "69 wb_ftype_coastline_200m\n",
      "70 fl_areasqkm_count_200m\n",
      "71 fl_length_count_200m\n",
      "72 fl_totdasqkm_mean_200m\n",
      "73 fl_startflag_count_200m\n",
      "74 fl_length_mean_200m\n",
      "75 fl_streamorde_count_200m\n",
      "76 wb_area_mean_200m\n",
      "77 fl_length_sum_200m\n",
      "78 fl_startflag_mean_200m\n",
      "79 fl_divergence_count_200m\n",
      "80 wb_gnis_name_ind_mean_200m\n",
      "81 fl_divergence_sum_200m\n",
      "82 fl_ftype_coastline_200m\n",
      "83 nwi_SPLIT_SUBCLASS_NAME_vegetated_200m\n",
      "84 nwi_WATER_REGIME_NAME_temporary_flooded_200m\n",
      "85 nwi_WATER_REGIME_NAME_seasonally_flooded-tidal_200m\n",
      "86 nwi_SPLIT_SUBCLASS_NAME_needle-leaved_evergreen_200m\n",
      "87 nwi_CLASS_NAME_unconsolidated_bottom_200m\n",
      "88 nwi_freshwater_emergent_wetland_200m\n",
      "89 nwi_SYSTEM_NAME_palustrine_200m\n",
      "90 nwi_SUBSYSTEM_NAME_upper_perennial_200m\n",
      "91 nwi_SPLIT_CLASS_NAME_emergent_200m\n",
      "92 nwi_WATER_REGIME_NAME_continuously__saturated_200m\n",
      "93 nwi_SPLIT_SUBCLASS_NAME_mollusk_200m\n",
      "94 nwi_SPLIT_CLASS_NAME_aquatic_bed_200m\n",
      "95 nwi_SUBCLASS_NAME_rubble_200m\n",
      "96 nwi_SPLIT_SUBCLASS_NAME_rubble_200m\n",
      "97 nwi_FIRST_MODIFIER_NAME_hyperhaline/hypersaline_200m\n",
      "98 nwi_WATER_REGIME_NAME_subtidal_200m\n",
      "99 nwi_CLASS_NAME_streambed_200m\n",
      "100 nwi_FIRST_MODIFIER_NAME_alkaline_200m\n",
      "101 nwi_WATER_REGIME_NAME_seasonally_flooded_200m\n",
      "102 nwi_riverine_200m\n",
      "103 nwi_SPLIT_SUBCLASS_NAME_needle-leaved_deciduous_200m\n",
      "104 nwi_SUBCLASS_NAME_deciduous_200m\n",
      "105 nwi_SUBCLASS_NAME_rooted_vascular_200m\n",
      "106 nwi_SPLIT_SUBCLASS_NAME_broad-leaved_deciduous_200m\n",
      "107 nwi_FIRST_MODIFIER_NAME_partially_drained/ditched_200m\n",
      "108 nwi_SUBCLASS_NAME_cobble-gravel_200m\n",
      "109 nwi_WATER_REGIME_SUBGROUP_saltwater_tidal_200m\n",
      "110 nwi_SUBCLASS_NAME_mollusk_200m\n",
      "111 nwi_SPLIT_SUBCLASS_NAME_evergreen_200m\n",
      "112 nwi_SUBCLASS_NAME_floating_vascular_200m\n",
      "113 nwi_SUBSYSTEM_NAME_littoral_200m\n",
      "114 nwi_SUBCLASS_NAME_algal_200m\n",
      "115 nwi_WATER_REGIME_NAME_intermittently_flooded_200m\n",
      "116 nwi_SUBCLASS_NAME_phragmites_australis_200m\n",
      "117 nwi_WATER_REGIME_NAME_zzz_200m\n",
      "118 nwi_SUBCLASS_NAME_organic_200m\n",
      "119 nwi_estuarine_and_marine_wetland_200m\n",
      "120 nwi_FIRST_MODIFIER_NAME_organic_200m\n",
      "121 nwi_SPLIT_CLASS_NAME_zzz_200m\n",
      "122 nwi_SPLIT_SUBCLASS_NAME_floating_vascular_200m\n",
      "123 nwi_SUBCLASS_NAME_non_persistent_200m\n",
      "124 nwi_SPLIT_CLASS_NAME_rocky_shore_200m\n",
      "125 nwi_WATER_REGIME_NAME_permanently_flooded-tidal_200m\n",
      "126 nwi_FIRST_MODIFIER_NAME_excavated_200m\n",
      "127 nwi_SPLIT_SUBCLASS_NAME_deciduous_200m\n",
      "128 nwi_SUBCLASS_NAME_dead_200m\n",
      "129 nwi_FIRST_MODIFIER_NAME_acid_200m\n",
      "130 nwi_SUBCLASS_NAME_persistent_200m\n",
      "131 nwi_SPLIT_SUBCLASS_NAME_mud_200m\n",
      "132 nwi_FIRST_MODIFIER_NAME_artificial_substrate_200m\n",
      "133 nwi_WATER_REGIME_NAME_intermittently_exposed_200m\n",
      "134 nwi_SPLIT_CLASS_NAME_forested_200m\n",
      "135 nwi_SPLIT_SUBCLASS_NAME_broad-leaved_evergreen_200m\n",
      "136 nwi_SPLIT_CLASS_NAME_unconsolidated_shore_200m\n",
      "137 nwi_FIRST_MODIFIER_NAME_farmed_200m\n",
      "138 nwi_CLASS_NAME_forested_200m\n",
      "139 nwi_FIRST_MODIFIER_NAME_zzz_200m\n",
      "140 nwi_WATER_REGIME_NAME_seasonally_flooded/saturated_200m\n",
      "141 nwi_SUBCLASS_NAME_needle-leaved_evergreen_200m\n",
      "142 nwi_SUBSYSTEM_NAME_limnetic_200m\n",
      "143 nwi_WATER_REGIME_NAME_irregularly_exposed_200m\n",
      "144 nwi_SPLIT_SUBCLASS_NAME_phragmites_australis_200m\n",
      "145 nwi_WATER_REGIME_NAME_irregularly_flooded_200m\n",
      "146 nwi_SUBSYSTEM_NAME_subtidal_200m\n",
      "147 nwi_SYSTEM_NAME_lacustrine_200m\n",
      "148 nwi_FIRST_MODIFIER_NAME_euthaline/eusaline_200m\n",
      "149 nwi_SPLIT_SUBCLASS_NAME_lichen_200m\n",
      "150 nwi_SPLIT_SUBCLASS_NAME_sand_200m\n",
      "151 nwi_SPLIT_SUBCLASS_NAME_moss_200m\n",
      "152 nwi_SUBCLASS_NAME_sand_200m\n",
      "153 nwi_SPLIT_SUBCLASS_NAME_coral_200m\n",
      "154 nwi_CLASS_NAME_emergent_200m\n",
      "155 nwi_FIRST_MODIFIER_NAME_spoil_200m\n",
      "156 nwi_SUBCLASS_NAME_needle-leaved_deciduous_200m\n",
      "157 nwi_CLASS_NAME_reef_200m\n",
      "158 nwi_SPLIT_SUBCLASS_NAME_non_persistent_200m\n",
      "159 nwi_CLASS_NAME_scrub-shrub_200m\n",
      "160 nwi_CLASS_NAME_unconsolidated_shore_200m\n",
      "161 nwi_SUBCLASS_NAME_aquatic_moss_200m\n",
      "162 nwi_SPLIT_CLASS_NAME_scrub-shrub_200m\n",
      "163 nwi_SPLIT_SUBCLASS_NAME_aquatic_moss_200m\n",
      "164 nwi_SUBSYSTEM_NAME_unknown_perennial_200m\n",
      "165 nwi_CLASS_NAME_moss-lichen_200m\n",
      "166 nwi_FIRST_MODIFIER_NAME_oligohaline_200m\n",
      "167 nwi_SPLIT_SUBCLASS_NAME_organic_200m\n",
      "168 nwi_feature_count_200m\n",
      "169 nwi_SPLIT_CLASS_NAME_reef_200m\n",
      "170 nwi_FIRST_MODIFIER_NAME_polyhaline_200m\n",
      "171 nwi_SPLIT_SUBCLASS_NAME_algal_200m\n",
      "172 nwi_FIRST_MODIFIER_NAME_mesohaline_200m\n",
      "173 nwi_FIRST_MODIFIER_NAME_mineral_200m\n",
      "174 nwi_WATER_REGIME_NAME_permanently_flooded_200m\n",
      "175 nwi_WATER_REGIME_NAME_semipermanently_flooded_200m\n",
      "176 nwi_SPLIT_SUBCLASS_NAME_bedrock_200m\n",
      "177 nwi_SPLIT_SUBCLASS_NAME_rooted_vascular_200m\n",
      "178 nwi_FIRST_MODIFIER_NAME_beaver_200m\n",
      "179 nwi_WATER_REGIME_SUBGROUP_freshwater_tidal_200m\n",
      "180 nwi_SUBSYSTEM_NAME_lower_perennial_200m\n",
      "181 nwi_CLASS_NAME_aquatic_bed_200m\n",
      "182 nwi_WATER_REGIME_NAME_semipermanently_flooded-tidal_200m\n",
      "183 nwi_WATER_REGIME_SUBGROUP_nontidal_200m\n",
      "184 nwi_SUBSYSTEM_NAME_intertidal_200m\n",
      "185 nwi_SPLIT_CLASS_NAME_moss-lichen_200m\n",
      "186 nwi_SPLIT_SUBCLASS_NAME_persistent_200m\n",
      "187 nwi_SUBCLASS_NAME_moss_200m\n",
      "188 nwi_shrub_wetland_200m\n",
      "189 nwi_WATER_REGIME_NAME_artificially_flooded_200m\n",
      "190 nwi_freshwater_pond_200m\n",
      "191 nwi_SUBCLASS_NAME_evergreen_200m\n",
      "192 nwi_WATER_REGIME_SUBGROUP_zzz_200m\n",
      "193 nwi_SPLIT_SUBCLASS_NAME_zzz_200m\n",
      "194 nwi_FIRST_MODIFIER_NAME_mixohaline/mixosaline_(brackish)_200m\n",
      "195 nwi_WATER_REGIME_NAME_seasonally_saturated_200m\n",
      "196 nwi_FIRST_MODIFIER_NAME_managed_200m\n",
      "197 nwi_other_200m\n",
      "198 nwi_SUBSYSTEM_NAME_intermittent_200m\n",
      "199 nwi_SUBCLASS_NAME_mud_200m\n",
      "200 nwi_SUBCLASS_NAME_coral_200m\n",
      "201 nwi_SUBCLASS_NAME_zzz_200m\n",
      "202 nwi_FIRST_MODIFIER_NAME_diked/impounded_200m\n",
      "203 nwi_SYSTEM_NAME_marine_200m\n",
      "204 nwi_CLASS_NAME_rocky_shore_200m\n",
      "205 nwi_CLASS_NAME_zzz_200m\n",
      "206 nwi_SPLIT_CLASS_NAME_unconsolidated_bottom_200m\n",
      "207 nwi_CLASS_NAME_rock_bottom_200m\n",
      "208 nwi_SUBSYSTEM_NAME_tidal_200m\n",
      "209 nwi_SYSTEM_NAME_riverine_200m\n",
      "210 nwi_SPLIT_SUBCLASS_NAME_cobble-gravel_200m\n",
      "211 nwi_estuarine_and_marine_deepwater_200m\n",
      "212 nwi_SUBCLASS_NAME_vegetated_200m\n",
      "213 nwi_SUBCLASS_NAME_broad-leaved_deciduous_200m\n",
      "214 nwi_WATER_REGIME_NAME_regularly_flooded_200m\n",
      "215 nwi_SUBCLASS_NAME_lichen_200m\n",
      "216 nwi_SYSTEM_NAME_estuarine_200m\n",
      "217 nwi_SPLIT_SUBCLASS_NAME_dead_200m\n",
      "218 nwi_lake_200m\n",
      "219 nwi_WATER_REGIME_NAME_temporary_flooded-tidal_200m\n",
      "220 nwi_SUBCLASS_NAME_broad-leaved_evergreen_200m\n",
      "221 nwi_freshwater_forested_200m\n",
      "222 nwi_SUBCLASS_NAME_bedrock_200m\n",
      "223 slope_stdev_1000m\n",
      "224 slope_max_1000m\n",
      "225 elevation_mean_1000m\n",
      "226 slope_min_1000m\n",
      "227 elevation_max_1000m\n",
      "228 elevation_min_1000m\n",
      "229 slope_mean_1000m\n",
      "230 elevation_stdev_1000m\n",
      "231 wb_ftype_artificialpath_1000m\n",
      "232 wb_ftype_pipeline_1000m\n",
      "233 wb_gnis_name_ind_sum_1000m\n",
      "234 fl_areasqkm_mean_1000m\n",
      "235 fl_areasqkm_sum_1000m\n",
      "236 fl_divergence_count_1000m\n",
      "237 fl_flow_type_count_1000m\n",
      "238 fl_length_count_1000m\n",
      "239 fl_gnis_name_ind_mean_1000m\n",
      "240 fl_streamorde_sum_1000m\n",
      "241 fl_ftype_artificialpath_1000m\n",
      "242 wb_gnis_name_ind_count_1000m\n",
      "243 fl_ftype_connector_1000m\n",
      "244 wb_ftype_connector_1000m\n",
      "245 fl_totdasqkm_sum_1000m\n",
      "246 fl_divergence_mean_1000m\n",
      "247 wb_ftype_streamriver_1000m\n",
      "248 fl_intephem_sum_1000m\n",
      "249 wb_area_count_1000m\n",
      "250 fl_ftype_streamriver_1000m\n",
      "251 fl_flow_type_mean_1000m\n",
      "252 wb_area_sum_1000m\n",
      "253 fl_areasqkm_count_1000m\n",
      "254 fl_streamorde_mean_1000m\n",
      "255 fl_divergence_sum_1000m\n",
      "256 fl_ftype_canalditch_1000m\n",
      "257 fl_totdasqkm_count_1000m\n",
      "258 fl_startflag_count_1000m\n",
      "259 fl_intephem_mean_1000m\n",
      "260 wb_ftype_canalditch_1000m\n",
      "261 fl_streamorde_count_1000m\n",
      "262 fl_ftype_pipeline_1000m\n",
      "263 fl_gnis_name_ind_sum_1000m\n",
      "264 fl_gnis_name_ind_count_1000m\n",
      "265 fl_totdasqkm_mean_1000m\n",
      "266 fl_intephem_count_1000m\n",
      "267 wb_gnis_name_ind_mean_1000m\n",
      "268 wb_area_mean_1000m\n",
      "269 fl_startflag_sum_1000m\n",
      "270 fl_ftype_coastline_1000m\n",
      "271 fl_startflag_mean_1000m\n",
      "272 wb_ftype_coastline_1000m\n",
      "273 fl_flow_type_sum_1000m\n",
      "274 nwi_SPLIT_SUBCLASS_NAME_coral_1000m\n",
      "275 nwi_SPLIT_SUBCLASS_NAME_mollusk_1000m\n",
      "276 nwi_FIRST_MODIFIER_NAME_artificial_substrate_1000m\n",
      "277 nwi_SPLIT_CLASS_NAME_aquatic_bed_1000m\n",
      "278 nwi_SUBCLASS_NAME_algal_1000m\n",
      "279 nwi_SUBCLASS_NAME_broad-leaved_evergreen_1000m\n",
      "280 nwi_SUBCLASS_NAME_vegetated_1000m\n",
      "281 nwi_WATER_REGIME_NAME_temporary_flooded-tidal_1000m\n",
      "282 nwi_SPLIT_CLASS_NAME_emergent_1000m\n",
      "283 nwi_SUBSYSTEM_NAME_limnetic_1000m\n",
      "284 nwi_SPLIT_SUBCLASS_NAME_mud_1000m\n",
      "285 nwi_FIRST_MODIFIER_NAME_polyhaline_1000m\n",
      "286 nwi_SUBSYSTEM_NAME_intermittent_1000m\n",
      "287 nwi_CLASS_NAME_streambed_1000m\n",
      "288 nwi_SUBCLASS_NAME_mollusk_1000m\n",
      "289 nwi_WATER_REGIME_NAME_zzz_1000m\n",
      "290 nwi_WATER_REGIME_SUBGROUP_freshwater_tidal_1000m\n",
      "291 nwi_SPLIT_SUBCLASS_NAME_dead_1000m\n",
      "292 nwi_WATER_REGIME_NAME_temporary_flooded_1000m\n",
      "293 nwi_WATER_REGIME_NAME_semipermanently_flooded-tidal_1000m\n",
      "294 nwi_shrub_wetland_1000m\n",
      "295 nwi_SUBSYSTEM_NAME_unknown_perennial_1000m\n",
      "296 nwi_CLASS_NAME_unconsolidated_shore_1000m\n",
      "297 nwi_SUBCLASS_NAME_non_persistent_1000m\n",
      "298 nwi_SPLIT_CLASS_NAME_rocky_shore_1000m\n",
      "299 nwi_SPLIT_SUBCLASS_NAME_broad-leaved_deciduous_1000m\n",
      "300 nwi_feature_count_1000m\n",
      "301 nwi_SPLIT_SUBCLASS_NAME_needle-leaved_evergreen_1000m\n",
      "302 nwi_WATER_REGIME_NAME_irregularly_flooded_1000m\n",
      "303 nwi_SUBCLASS_NAME_needle-leaved_deciduous_1000m\n",
      "304 nwi_SPLIT_CLASS_NAME_zzz_1000m\n",
      "305 nwi_SPLIT_SUBCLASS_NAME_needle-leaved_deciduous_1000m\n",
      "306 nwi_SUBCLASS_NAME_organic_1000m\n",
      "307 nwi_SPLIT_SUBCLASS_NAME_non_persistent_1000m\n",
      "308 nwi_WATER_REGIME_NAME_continuously__saturated_1000m\n",
      "309 nwi_WATER_REGIME_SUBGROUP_zzz_1000m\n",
      "310 nwi_SPLIT_SUBCLASS_NAME_evergreen_1000m\n",
      "311 nwi_WATER_REGIME_NAME_seasonally_flooded/saturated_1000m\n",
      "312 nwi_WATER_REGIME_NAME_irregularly_exposed_1000m\n",
      "313 nwi_SUBSYSTEM_NAME_lower_perennial_1000m\n",
      "314 nwi_SPLIT_SUBCLASS_NAME_algal_1000m\n",
      "315 nwi_SYSTEM_NAME_riverine_1000m\n",
      "316 nwi_SPLIT_SUBCLASS_NAME_vegetated_1000m\n",
      "317 nwi_FIRST_MODIFIER_NAME_mineral_1000m\n",
      "318 nwi_CLASS_NAME_rocky_shore_1000m\n",
      "319 nwi_SUBCLASS_NAME_rooted_vascular_1000m\n",
      "320 nwi_SUBCLASS_NAME_phragmites_australis_1000m\n",
      "321 nwi_FIRST_MODIFIER_NAME_alkaline_1000m\n",
      "322 nwi_SUBCLASS_NAME_moss_1000m\n",
      "323 nwi_CLASS_NAME_forested_1000m\n",
      "324 nwi_SUBSYSTEM_NAME_upper_perennial_1000m\n",
      "325 nwi_CLASS_NAME_moss-lichen_1000m\n",
      "326 nwi_SUBSYSTEM_NAME_intertidal_1000m\n",
      "327 nwi_WATER_REGIME_SUBGROUP_saltwater_tidal_1000m\n",
      "328 nwi_FIRST_MODIFIER_NAME_organic_1000m\n",
      "329 nwi_SUBCLASS_NAME_mud_1000m\n",
      "330 nwi_SPLIT_SUBCLASS_NAME_rooted_vascular_1000m\n",
      "331 nwi_FIRST_MODIFIER_NAME_managed_1000m\n",
      "332 nwi_SPLIT_CLASS_NAME_unconsolidated_shore_1000m\n",
      "333 nwi_SYSTEM_NAME_estuarine_1000m\n",
      "334 nwi_SPLIT_SUBCLASS_NAME_phragmites_australis_1000m\n",
      "335 nwi_CLASS_NAME_zzz_1000m\n",
      "336 nwi_FIRST_MODIFIER_NAME_beaver_1000m\n",
      "337 nwi_SYSTEM_NAME_marine_1000m\n",
      "338 nwi_SUBCLASS_NAME_zzz_1000m\n",
      "339 nwi_freshwater_pond_1000m\n",
      "340 nwi_SUBCLASS_NAME_floating_vascular_1000m\n",
      "341 nwi_FIRST_MODIFIER_NAME_diked/impounded_1000m\n",
      "342 nwi_SUBSYSTEM_NAME_tidal_1000m\n",
      "343 nwi_FIRST_MODIFIER_NAME_acid_1000m\n",
      "344 nwi_FIRST_MODIFIER_NAME_euthaline/eusaline_1000m\n",
      "345 nwi_CLASS_NAME_emergent_1000m\n",
      "346 nwi_SPLIT_SUBCLASS_NAME_deciduous_1000m\n",
      "347 nwi_SUBCLASS_NAME_needle-leaved_evergreen_1000m\n",
      "348 nwi_SYSTEM_NAME_lacustrine_1000m\n",
      "349 nwi_SUBCLASS_NAME_cobble-gravel_1000m\n",
      "350 nwi_CLASS_NAME_reef_1000m\n",
      "351 nwi_SPLIT_SUBCLASS_NAME_floating_vascular_1000m\n",
      "352 nwi_SPLIT_SUBCLASS_NAME_sand_1000m\n",
      "353 nwi_FIRST_MODIFIER_NAME_farmed_1000m\n",
      "354 nwi_SUBCLASS_NAME_evergreen_1000m\n",
      "355 nwi_WATER_REGIME_NAME_regularly_flooded_1000m\n",
      "356 nwi_WATER_REGIME_NAME_subtidal_1000m\n",
      "357 nwi_other_1000m\n",
      "358 nwi_FIRST_MODIFIER_NAME_mesohaline_1000m\n",
      "359 nwi_CLASS_NAME_scrub-shrub_1000m\n",
      "360 nwi_SUBCLASS_NAME_persistent_1000m\n",
      "361 nwi_WATER_REGIME_NAME_artificially_flooded_1000m\n",
      "362 nwi_WATER_REGIME_NAME_permanently_flooded_1000m\n",
      "363 nwi_SUBCLASS_NAME_bedrock_1000m\n",
      "364 nwi_SUBCLASS_NAME_rubble_1000m\n",
      "365 nwi_SPLIT_SUBCLASS_NAME_moss_1000m\n",
      "366 nwi_WATER_REGIME_NAME_semipermanently_flooded_1000m\n",
      "367 nwi_FIRST_MODIFIER_NAME_hyperhaline/hypersaline_1000m\n",
      "368 nwi_lake_1000m\n",
      "369 nwi_freshwater_emergent_wetland_1000m\n",
      "370 nwi_estuarine_and_marine_deepwater_1000m\n",
      "371 nwi_SPLIT_SUBCLASS_NAME_persistent_1000m\n",
      "372 nwi_SPLIT_SUBCLASS_NAME_rubble_1000m\n",
      "373 nwi_SPLIT_SUBCLASS_NAME_aquatic_moss_1000m\n",
      "374 nwi_WATER_REGIME_SUBGROUP_nontidal_1000m\n",
      "375 nwi_SUBCLASS_NAME_deciduous_1000m\n",
      "376 nwi_SUBCLASS_NAME_aquatic_moss_1000m\n",
      "377 nwi_FIRST_MODIFIER_NAME_mixohaline/mixosaline_(brackish)_1000m\n",
      "378 nwi_CLASS_NAME_unconsolidated_bottom_1000m\n",
      "379 nwi_SUBCLASS_NAME_coral_1000m\n",
      "380 nwi_WATER_REGIME_NAME_seasonally_flooded-tidal_1000m\n",
      "381 nwi_FIRST_MODIFIER_NAME_partially_drained/ditched_1000m\n",
      "382 nwi_riverine_1000m\n",
      "383 nwi_SPLIT_SUBCLASS_NAME_broad-leaved_evergreen_1000m\n",
      "384 nwi_SPLIT_CLASS_NAME_forested_1000m\n",
      "385 nwi_SUBCLASS_NAME_lichen_1000m\n",
      "386 nwi_WATER_REGIME_NAME_permanently_flooded-tidal_1000m\n",
      "387 nwi_SPLIT_CLASS_NAME_unconsolidated_bottom_1000m\n",
      "388 nwi_SPLIT_SUBCLASS_NAME_cobble-gravel_1000m\n",
      "389 nwi_SPLIT_CLASS_NAME_moss-lichen_1000m\n",
      "390 nwi_SPLIT_SUBCLASS_NAME_zzz_1000m\n",
      "391 nwi_WATER_REGIME_NAME_intermittently_exposed_1000m\n",
      "392 nwi_CLASS_NAME_aquatic_bed_1000m\n",
      "393 nwi_SPLIT_CLASS_NAME_scrub-shrub_1000m\n",
      "394 nwi_freshwater_forested_1000m\n",
      "395 nwi_estuarine_and_marine_wetland_1000m\n",
      "396 nwi_FIRST_MODIFIER_NAME_spoil_1000m\n",
      "397 nwi_WATER_REGIME_NAME_seasonally_flooded_1000m\n",
      "398 nwi_FIRST_MODIFIER_NAME_oligohaline_1000m\n",
      "399 nwi_FIRST_MODIFIER_NAME_excavated_1000m\n",
      "400 nwi_SUBCLASS_NAME_sand_1000m\n",
      "401 nwi_SYSTEM_NAME_palustrine_1000m\n",
      "402 nwi_SPLIT_SUBCLASS_NAME_bedrock_1000m\n",
      "403 nwi_WATER_REGIME_NAME_intermittently_flooded_1000m\n",
      "404 nwi_SUBCLASS_NAME_dead_1000m\n",
      "405 nwi_SPLIT_CLASS_NAME_reef_1000m\n",
      "406 nwi_CLASS_NAME_rock_bottom_1000m\n",
      "407 nwi_SUBCLASS_NAME_broad-leaved_deciduous_1000m\n",
      "408 nwi_SPLIT_SUBCLASS_NAME_organic_1000m\n",
      "409 nwi_SUBSYSTEM_NAME_littoral_1000m\n",
      "410 nwi_SUBSYSTEM_NAME_subtidal_1000m\n",
      "411 nwi_FIRST_MODIFIER_NAME_zzz_1000m\n",
      "412 nwi_SPLIT_SUBCLASS_NAME_lichen_1000m\n",
      "413 nwi_WATER_REGIME_NAME_seasonally_saturated_1000m\n",
      "414 elevation_stdev_2500m\n",
      "415 recurrence_max_2500m\n",
      "416 slope_stdev_2500m\n",
      "417 slope_min_2500m\n",
      "418 recurrence_min_2500m\n",
      "419 recurrence_stdev_2500m\n",
      "420 elevation_mean_2500m\n",
      "421 seasonality_min_2500m\n",
      "422 seasonality_stdev_2500m\n",
      "423 recurrence_mean_2500m\n",
      "424 slope_max_2500m\n",
      "425 transition_5_2500m\n",
      "426 elevation_min_2500m\n",
      "427 seasonality_max_2500m\n",
      "428 elevation_max_2500m\n",
      "429 seasonality_mean_2500m\n",
      "430 slope_mean_2500m\n",
      "431 fl_streamorde_count_2500m\n",
      "432 fl_ftype_streamriver_2500m\n",
      "433 fl_intephem_count_2500m\n",
      "434 fl_length_count_2500m\n",
      "435 wb_area_count_2500m\n",
      "436 fl_ftype_connector_2500m\n",
      "437 fl_ftype_coastline_2500m\n",
      "438 wb_ftype_pipeline_2500m\n",
      "439 wb_area_sum_2500m\n",
      "440 fl_ftype_artificialpath_2500m\n",
      "441 fl_startflag_sum_2500m\n",
      "442 fl_flow_type_sum_2500m\n",
      "443 fl_areasqkm_mean_2500m\n",
      "444 fl_ftype_canalditch_2500m\n",
      "445 wb_ftype_canalditch_2500m\n",
      "446 fl_streamorde_mean_2500m\n",
      "447 wb_area_mean_2500m\n",
      "448 fl_gnis_name_ind_mean_2500m\n",
      "449 wb_gnis_name_ind_count_2500m\n",
      "450 fl_intephem_mean_2500m\n",
      "451 fl_areasqkm_count_2500m\n",
      "452 fl_flow_type_count_2500m\n",
      "453 fl_divergence_count_2500m\n",
      "454 fl_startflag_mean_2500m\n",
      "455 wb_gnis_name_ind_mean_2500m\n",
      "456 fl_intephem_sum_2500m\n",
      "457 wb_ftype_streamriver_2500m\n",
      "458 fl_totdasqkm_sum_2500m\n",
      "459 fl_startflag_count_2500m\n",
      "460 fl_totdasqkm_mean_2500m\n",
      "461 fl_divergence_sum_2500m\n",
      "462 fl_gnis_name_ind_sum_2500m\n",
      "463 fl_areasqkm_sum_2500m\n",
      "464 fl_streamorde_sum_2500m\n",
      "465 wb_gnis_name_ind_sum_2500m\n",
      "466 fl_flow_type_mean_2500m\n",
      "467 wb_ftype_connector_2500m\n",
      "468 wb_ftype_coastline_2500m\n",
      "469 fl_totdasqkm_count_2500m\n",
      "470 fl_divergence_mean_2500m\n",
      "471 fl_gnis_name_ind_count_2500m\n",
      "472 wb_ftype_artificialpath_2500m\n",
      "473 fl_ftype_pipeline_2500m\n",
      "474 nwi_CLASS_NAME_reef_2500m\n",
      "475 nwi_SPLIT_SUBCLASS_NAME_zzz_2500m\n",
      "476 nwi_SUBSYSTEM_NAME_intermittent_2500m\n",
      "477 nwi_CLASS_NAME_rock_bottom_2500m\n",
      "478 nwi_WATER_REGIME_NAME_subtidal_2500m\n",
      "479 nwi_SPLIT_SUBCLASS_NAME_phragmites_australis_2500m\n",
      "480 nwi_WATER_REGIME_SUBGROUP_saltwater_tidal_2500m\n",
      "481 nwi_SUBCLASS_NAME_organic_2500m\n",
      "482 nwi_SPLIT_SUBCLASS_NAME_broad-leaved_evergreen_2500m\n",
      "483 nwi_SUBSYSTEM_NAME_lower_perennial_2500m\n",
      "484 nwi_SUBCLASS_NAME_deciduous_2500m\n",
      "485 nwi_SPLIT_SUBCLASS_NAME_sand_2500m\n",
      "486 nwi_SUBSYSTEM_NAME_littoral_2500m\n",
      "487 nwi_SYSTEM_NAME_estuarine_2500m\n",
      "488 nwi_SYSTEM_NAME_riverine_2500m\n",
      "489 nwi_SUBCLASS_NAME_persistent_2500m\n",
      "490 nwi_SPLIT_SUBCLASS_NAME_aquatic_moss_2500m\n",
      "491 nwi_SPLIT_SUBCLASS_NAME_deciduous_2500m\n",
      "492 nwi_FIRST_MODIFIER_NAME_mixohaline/mixosaline_(brackish)_2500m\n",
      "493 nwi_CLASS_NAME_emergent_2500m\n",
      "494 nwi_SUBCLASS_NAME_needle-leaved_evergreen_2500m\n",
      "495 nwi_SUBCLASS_NAME_bedrock_2500m\n",
      "496 nwi_FIRST_MODIFIER_NAME_mesohaline_2500m\n",
      "497 nwi_shrub_wetland_2500m\n",
      "498 nwi_SUBCLASS_NAME_algal_2500m\n",
      "499 nwi_CLASS_NAME_unconsolidated_bottom_2500m\n",
      "500 nwi_WATER_REGIME_NAME_irregularly_flooded_2500m\n",
      "501 nwi_WATER_REGIME_NAME_temporary_flooded-tidal_2500m\n",
      "502 nwi_SPLIT_SUBCLASS_NAME_persistent_2500m\n",
      "503 nwi_WATER_REGIME_NAME_temporary_flooded_2500m\n",
      "504 nwi_SPLIT_SUBCLASS_NAME_rubble_2500m\n",
      "505 nwi_WATER_REGIME_NAME_intermittently_flooded_2500m\n",
      "506 nwi_WATER_REGIME_NAME_permanently_flooded_2500m\n",
      "507 nwi_FIRST_MODIFIER_NAME_spoil_2500m\n",
      "508 nwi_WATER_REGIME_SUBGROUP_nontidal_2500m\n",
      "509 nwi_SPLIT_CLASS_NAME_moss-lichen_2500m\n",
      "510 nwi_WATER_REGIME_NAME_seasonally_flooded_2500m\n",
      "511 nwi_SUBCLASS_NAME_vegetated_2500m\n",
      "512 nwi_FIRST_MODIFIER_NAME_organic_2500m\n",
      "513 nwi_WATER_REGIME_NAME_irregularly_exposed_2500m\n",
      "514 nwi_SUBCLASS_NAME_aquatic_moss_2500m\n",
      "515 nwi_FIRST_MODIFIER_NAME_polyhaline_2500m\n",
      "516 nwi_CLASS_NAME_streambed_2500m\n",
      "517 nwi_SPLIT_SUBCLASS_NAME_broad-leaved_deciduous_2500m\n",
      "518 nwi_WATER_REGIME_NAME_continuously__saturated_2500m\n",
      "519 nwi_SYSTEM_NAME_lacustrine_2500m\n",
      "520 nwi_FIRST_MODIFIER_NAME_artificial_substrate_2500m\n",
      "521 nwi_SPLIT_CLASS_NAME_forested_2500m\n",
      "522 nwi_SYSTEM_NAME_marine_2500m\n",
      "523 nwi_WATER_REGIME_NAME_seasonally_saturated_2500m\n",
      "524 nwi_freshwater_forested_2500m\n",
      "525 nwi_riverine_2500m\n",
      "526 nwi_WATER_REGIME_NAME_permanently_flooded-tidal_2500m\n",
      "527 nwi_SPLIT_SUBCLASS_NAME_algal_2500m\n",
      "528 nwi_SPLIT_SUBCLASS_NAME_vegetated_2500m\n",
      "529 nwi_other_2500m\n",
      "530 nwi_SUBCLASS_NAME_dead_2500m\n",
      "531 nwi_lake_2500m\n",
      "532 nwi_SPLIT_SUBCLASS_NAME_moss_2500m\n",
      "533 nwi_WATER_REGIME_NAME_intermittently_exposed_2500m\n",
      "534 nwi_WATER_REGIME_SUBGROUP_zzz_2500m\n",
      "535 nwi_SUBCLASS_NAME_mud_2500m\n",
      "536 nwi_SPLIT_SUBCLASS_NAME_mollusk_2500m\n",
      "537 nwi_SPLIT_SUBCLASS_NAME_dead_2500m\n",
      "538 nwi_SUBCLASS_NAME_coral_2500m\n",
      "539 nwi_WATER_REGIME_NAME_seasonally_flooded-tidal_2500m\n",
      "540 nwi_FIRST_MODIFIER_NAME_hyperhaline/hypersaline_2500m\n",
      "541 nwi_SUBCLASS_NAME_rubble_2500m\n",
      "542 nwi_SUBCLASS_NAME_moss_2500m\n",
      "543 nwi_SPLIT_SUBCLASS_NAME_non_persistent_2500m\n",
      "544 nwi_FIRST_MODIFIER_NAME_oligohaline_2500m\n",
      "545 nwi_SUBSYSTEM_NAME_intertidal_2500m\n",
      "546 nwi_FIRST_MODIFIER_NAME_euthaline/eusaline_2500m\n",
      "547 nwi_SUBCLASS_NAME_rooted_vascular_2500m\n",
      "548 nwi_CLASS_NAME_forested_2500m\n",
      "549 nwi_SPLIT_CLASS_NAME_unconsolidated_shore_2500m\n",
      "550 nwi_WATER_REGIME_NAME_zzz_2500m\n",
      "551 nwi_SPLIT_CLASS_NAME_aquatic_bed_2500m\n",
      "552 nwi_WATER_REGIME_NAME_semipermanently_flooded_2500m\n",
      "553 nwi_WATER_REGIME_NAME_semipermanently_flooded-tidal_2500m\n",
      "554 nwi_FIRST_MODIFIER_NAME_managed_2500m\n",
      "555 nwi_SUBCLASS_NAME_non_persistent_2500m\n",
      "556 nwi_SUBCLASS_NAME_sand_2500m\n",
      "557 nwi_freshwater_pond_2500m\n",
      "558 nwi_WATER_REGIME_SUBGROUP_freshwater_tidal_2500m\n",
      "559 nwi_SUBCLASS_NAME_mollusk_2500m\n",
      "560 nwi_SPLIT_SUBCLASS_NAME_coral_2500m\n",
      "561 nwi_SUBCLASS_NAME_zzz_2500m\n",
      "562 nwi_SUBCLASS_NAME_broad-leaved_evergreen_2500m\n",
      "563 nwi_CLASS_NAME_scrub-shrub_2500m\n",
      "564 nwi_CLASS_NAME_zzz_2500m\n",
      "565 nwi_SPLIT_CLASS_NAME_reef_2500m\n",
      "566 nwi_estuarine_and_marine_deepwater_2500m\n",
      "567 nwi_SPLIT_SUBCLASS_NAME_lichen_2500m\n",
      "568 nwi_WATER_REGIME_NAME_regularly_flooded_2500m\n",
      "569 nwi_FIRST_MODIFIER_NAME_mineral_2500m\n",
      "570 nwi_SUBCLASS_NAME_broad-leaved_deciduous_2500m\n",
      "571 nwi_freshwater_emergent_wetland_2500m\n",
      "572 nwi_SPLIT_SUBCLASS_NAME_needle-leaved_evergreen_2500m\n",
      "573 nwi_SPLIT_SUBCLASS_NAME_mud_2500m\n",
      "574 nwi_SUBCLASS_NAME_phragmites_australis_2500m\n",
      "575 nwi_SPLIT_SUBCLASS_NAME_bedrock_2500m\n",
      "576 nwi_SUBSYSTEM_NAME_limnetic_2500m\n",
      "577 nwi_SPLIT_SUBCLASS_NAME_evergreen_2500m\n",
      "578 nwi_SYSTEM_NAME_palustrine_2500m\n",
      "579 nwi_SPLIT_SUBCLASS_NAME_cobble-gravel_2500m\n",
      "580 nwi_SPLIT_CLASS_NAME_scrub-shrub_2500m\n",
      "581 nwi_FIRST_MODIFIER_NAME_excavated_2500m\n",
      "582 nwi_SPLIT_SUBCLASS_NAME_floating_vascular_2500m\n",
      "583 nwi_FIRST_MODIFIER_NAME_partially_drained/ditched_2500m\n",
      "584 nwi_SUBCLASS_NAME_lichen_2500m\n",
      "585 nwi_CLASS_NAME_aquatic_bed_2500m\n",
      "586 nwi_WATER_REGIME_NAME_seasonally_flooded/saturated_2500m\n",
      "587 nwi_FIRST_MODIFIER_NAME_diked/impounded_2500m\n",
      "588 nwi_SUBSYSTEM_NAME_subtidal_2500m\n",
      "589 nwi_SUBCLASS_NAME_floating_vascular_2500m\n",
      "590 nwi_SUBCLASS_NAME_needle-leaved_deciduous_2500m\n",
      "591 nwi_WATER_REGIME_NAME_artificially_flooded_2500m\n",
      "592 nwi_FIRST_MODIFIER_NAME_farmed_2500m\n",
      "593 nwi_SUBCLASS_NAME_cobble-gravel_2500m\n",
      "594 nwi_SPLIT_SUBCLASS_NAME_needle-leaved_deciduous_2500m\n",
      "595 nwi_FIRST_MODIFIER_NAME_alkaline_2500m\n",
      "596 nwi_CLASS_NAME_rocky_shore_2500m\n",
      "597 nwi_SUBSYSTEM_NAME_tidal_2500m\n",
      "598 nwi_SUBSYSTEM_NAME_upper_perennial_2500m\n",
      "599 nwi_FIRST_MODIFIER_NAME_acid_2500m\n",
      "600 nwi_SPLIT_SUBCLASS_NAME_rooted_vascular_2500m\n",
      "601 nwi_SUBCLASS_NAME_evergreen_2500m\n",
      "602 nwi_SPLIT_SUBCLASS_NAME_organic_2500m\n",
      "603 nwi_CLASS_NAME_moss-lichen_2500m\n",
      "604 nwi_FIRST_MODIFIER_NAME_beaver_2500m\n",
      "605 nwi_SUBSYSTEM_NAME_unknown_perennial_2500m\n",
      "606 nwi_estuarine_and_marine_wetland_2500m\n",
      "607 nwi_SPLIT_CLASS_NAME_unconsolidated_bottom_2500m\n",
      "608 nwi_CLASS_NAME_unconsolidated_shore_2500m\n",
      "609 nwi_SPLIT_CLASS_NAME_rocky_shore_2500m\n",
      "610 nwi_FIRST_MODIFIER_NAME_zzz_2500m\n",
      "611 nwi_SPLIT_CLASS_NAME_emergent_2500m\n",
      "612 nwi_SPLIT_CLASS_NAME_zzz_2500m\n"
     ]
    }
   ],
   "source": [
    "df_num_features = pd.DataFrame(df.describe().columns)\n",
    "for count, col in enumerate(df.describe().columns):\n",
    "  print(count, col)\n",
    "\n",
    "# 5, 7, 14, 17, 19:445"
   ]
  },
  {
   "cell_type": "code",
   "execution_count": 168,
   "metadata": {},
   "outputs": [],
   "source": [
    "# df_num_features.value_counts()"
   ]
  },
  {
   "cell_type": "code",
   "execution_count": 169,
   "metadata": {},
   "outputs": [
    {
     "data": {
      "text/plain": [
       "(613, 1)"
      ]
     },
     "execution_count": 169,
     "metadata": {},
     "output_type": "execute_result"
    }
   ],
   "source": [
    "df_num_features.shape"
   ]
  },
  {
   "cell_type": "markdown",
   "metadata": {
    "id": "kQVQGqHhGkE_"
   },
   "source": [
    "## Numerical Feature Selection"
   ]
  },
  {
   "cell_type": "code",
   "execution_count": 170,
   "metadata": {
    "colab": {
     "base_uri": "https://localhost:8080/"
    },
    "id": "viN9PWn5PY7H",
    "outputId": "25a607e3-e822-47b5-908e-ff201a1ac251"
   },
   "outputs": [],
   "source": [
    "# NOTE: for kNN which uses only lat, lon, have to pass lat, lon as first two cols\n",
    "\n",
    "geom = [0, 1]\n",
    "potential_wetland = [12]\n",
    "ssurgo = list(range(14, 30))\n",
    "\n",
    "srtm_200m = list(range(30, 38)) \n",
    "srtm_1000m = list(range(223, 231)) \n",
    "srtm_2500m = list(range(414, 431)) \n",
    "\n",
    "nhd_200m = list(range(38, 83)) \n",
    "nhd_1000m = list(range(231, 274)) \n",
    "nhd_2500m = list(range(431, 474)) \n",
    "\n",
    "nwi_200m = list(range(83, 223)) \n",
    "nwi_1000m = list(range(274, 414)) \n",
    "nwi_2500m = list(range(474, 613)) \n",
    "\n",
    "# closest_wb_fl = list(range(456, 462)) \n",
    "\n",
    "if run_models:\n",
    "#     imp_num_feature_list = (geom + nwi_200m + nwi_1000m + nwi_2500m) \n",
    "\n",
    "#     imp_num_feature_list = (geom + potential_wetland + ssurgo \n",
    "#                             + nhd_200m + srtm_200m\n",
    "#                            + nhd_1000m + srtm_1000m\n",
    "#                            + nhd_2500m  + srtm_2500m) \n",
    "    imp_num_feature_list = geom\n",
    "\n",
    "    imp_num_feature = df_num_features.loc[imp_num_feature_list]\n",
    "    imp_num_feature = list(imp_num_feature.values.flatten())\n",
    "    file_param_dict[\"imp_num_feature\"] = imp_num_feature\n",
    "else:\n",
    "    imp_num_feature = file_param_dict[\"imp_num_feature\"]\n",
    "\n"
   ]
  },
  {
   "cell_type": "code",
   "execution_count": 171,
   "metadata": {},
   "outputs": [
    {
     "data": {
      "text/plain": [
       "longitude    1\n",
       "latitude     1\n",
       "dtype: int64"
      ]
     },
     "execution_count": 171,
     "metadata": {},
     "output_type": "execute_result"
    }
   ],
   "source": [
    "pd.DataFrame(imp_num_feature).value_counts()[:10]"
   ]
  },
  {
   "cell_type": "markdown",
   "metadata": {
    "id": "GfKbTgYTGohQ"
   },
   "source": [
    "## Categorical Feature Selection"
   ]
  },
  {
   "cell_type": "code",
   "execution_count": 172,
   "metadata": {},
   "outputs": [
    {
     "data": {
      "text/plain": [
       "{'county',\n",
       " 'district',\n",
       " 'drclassdcd',\n",
       " 'drclasswet',\n",
       " 'engcmssdcd',\n",
       " 'engcmssmp',\n",
       " 'engdwbdcd',\n",
       " 'engdwbll',\n",
       " 'engdwbml',\n",
       " 'engdwobdcd',\n",
       " 'englrsdcd',\n",
       " 'engsldcd',\n",
       " 'engsldcp',\n",
       " 'engstafdcd',\n",
       " 'engstafll',\n",
       " 'engstafml',\n",
       " 'flodfreqdc',\n",
       " 'flodfreqma',\n",
       " 'forpehrtdc',\n",
       " 'huc4',\n",
       " 'huc6',\n",
       " 'hydgrpdcd',\n",
       " 'jurisdiction_type',\n",
       " 'state',\n",
       " 'urbrecptdc'}"
      ]
     },
     "execution_count": 172,
     "metadata": {},
     "output_type": "execute_result"
    }
   ],
   "source": [
    "# peek at categorical features\n",
    "set(df.columns) - set(df.describe().columns)\n",
    "# len(set(df.describe().columns))\n",
    "# df.shape"
   ]
  },
  {
   "cell_type": "code",
   "execution_count": 173,
   "metadata": {
    "id": "n5JCwDs_Q8pW"
   },
   "outputs": [],
   "source": [
    "# call out the important categorical features\n",
    "\n",
    "geom_cat = ['county', 'district', 'state']\n",
    "ssurgo_cat = ['drclassdcd',\n",
    " 'drclasswet',\n",
    " 'engcmssdcd',\n",
    " 'engcmssmp',\n",
    " 'engdwbdcd',\n",
    " 'engdwbll',\n",
    " 'engdwbml',\n",
    " 'engdwobdcd',\n",
    " 'englrsdcd',\n",
    " 'engsldcd',\n",
    " 'engsldcp',\n",
    " 'engstafdcd',\n",
    " 'engstafll',\n",
    " 'engstafml',\n",
    " 'flodfreqdc',\n",
    " 'flodfreqma',\n",
    " 'forpehrtdc',\n",
    " 'hydgrpdcd',\n",
    " 'urbrecptdc']\n",
    "huc4_cat = ['huc4']\n",
    "huc6_cat = ['huc6']\n",
    "\n",
    "if run_models: \n",
    "    imp_cat_feature = geom_cat + ssurgo_cat + huc4_cat\n",
    "    file_param_dict[\"imp_cat_feature\"] = imp_cat_feature    \n",
    "    \n",
    "else:\n",
    "    imp_cat_feature = file_param_dict[\"imp_cat_feature\"]\n",
    "    \n",
    "# imp_cat_feature = ['jurisdiction_type']"
   ]
  },
  {
   "cell_type": "markdown",
   "metadata": {},
   "source": [
    "# Minority Oversamping"
   ]
  },
  {
   "cell_type": "code",
   "execution_count": 174,
   "metadata": {},
   "outputs": [],
   "source": [
    "from imblearn.over_sampling import SMOTE\n",
    "smt = SMOTE(random_state=random_state)\n",
    "from imblearn.pipeline import make_pipeline\n",
    "\n"
   ]
  },
  {
   "cell_type": "markdown",
   "metadata": {
    "id": "VweeykE-4Ter"
   },
   "source": [
    "# Order Train-Dev-Test splits\n"
   ]
  },
  {
   "cell_type": "code",
   "execution_count": 175,
   "metadata": {
    "colab": {
     "base_uri": "https://localhost:8080/"
    },
    "id": "eqbXGvZIRHGi",
    "outputId": "6238c23e-8db0-4cc0-fe3c-71f547ef6e6a"
   },
   "outputs": [
    {
     "data": {
      "text/plain": [
       "(1290, 25)"
      ]
     },
     "execution_count": 175,
     "metadata": {},
     "output_type": "execute_result"
    }
   ],
   "source": [
    "# re-arrange so numerical columns go first, then the categorical\n",
    "df1 = df[imp_num_feature]\n",
    "df2 = df[imp_cat_feature]\n",
    "\n",
    "# train\n",
    "df_X_combined_ordered = pd.concat([df1, df2], axis=1)\n",
    "\n",
    "# dev\n",
    "df_dev_X = pd.concat([df_dev[imp_num_feature], df_dev[imp_cat_feature]], axis=1)\n",
    "\n",
    "\n",
    "# test\n",
    "df_test_X = pd.concat([df_test[imp_num_feature], df_test[imp_cat_feature]], axis=1)\n",
    "\n",
    "\n",
    "df_X_combined_ordered.columns #44\n",
    "df_X_combined_ordered.shape # (10000, 44)\n",
    "df_test_X.shape # (4500, 44)"
   ]
  },
  {
   "cell_type": "code",
   "execution_count": 176,
   "metadata": {},
   "outputs": [],
   "source": [
    "# imp_num_feature"
   ]
  },
  {
   "cell_type": "code",
   "execution_count": 177,
   "metadata": {
    "colab": {
     "base_uri": "https://localhost:8080/"
    },
    "id": "gdBKul2wROi4",
    "outputId": "fb607dae-a36a-4e9b-e4be-eb54ae133426"
   },
   "outputs": [
    {
     "name": "stdout",
     "output_type": "stream",
     "text": [
      "0 0\n"
     ]
    },
    {
     "data": {
      "text/plain": [
       "(array([0., 0., 0., 0., 0., 0., 0., 0., 0., 0.]),\n",
       " array([0. , 0.1, 0.2, 0.3, 0.4, 0.5, 0.6, 0.7, 0.8, 0.9, 1. ]),\n",
       " <BarContainer object of 10 artists>)"
      ]
     },
     "execution_count": 177,
     "metadata": {},
     "output_type": "execute_result"
    },
    {
     "data": {
      "image/png": "[encoded data removed]",
      "text/plain": [
       "<Figure size 432x288 with 1 Axes>"
      ]
     },
     "metadata": {
      "needs_background": "light"
     },
     "output_type": "display_data"
    }
   ],
   "source": [
    "# fraction of nan's in each numerical variable\n",
    "count = 0\n",
    "errors = 0\n",
    "nan_dist = []\n",
    "nan_vars = []\n",
    "for var in df_X_combined_ordered.describe().columns:\n",
    "    try:\n",
    "        if np.mean(df_X_combined_ordered[str(var)].isna()) != 0:\n",
    "            nan_vars.append(var)\n",
    "            count += 1\n",
    "            nan_dist.append(np.mean(df_X_combined_ordered[str(var)].isna()))\n",
    "#             print(var, round(np.mean(df_X_combined_ordered[str(var)].isna()), 2))\n",
    "    except Exception as e:\n",
    "        errors += 1\n",
    "        print(var, \"<-------------------\")\n",
    "print(count, errors    )\n",
    "plt.hist(nan_dist)"
   ]
  },
  {
   "cell_type": "code",
   "execution_count": 178,
   "metadata": {},
   "outputs": [
    {
     "data": {
      "text/plain": [
       "[]"
      ]
     },
     "execution_count": 178,
     "metadata": {},
     "output_type": "execute_result"
    }
   ],
   "source": [
    "nan_vars"
   ]
  },
  {
   "cell_type": "markdown",
   "metadata": {},
   "source": [
    "# Impute nearest 10 neighbor average for all nan values\n"
   ]
  },
  {
   "cell_type": "code",
   "execution_count": 179,
   "metadata": {},
   "outputs": [],
   "source": [
    "def impute_nan(lat, lon, value, var):\n",
    "    if np.isnan(value):\n",
    "        return knn_model_dict[var].predict(pd.DataFrame([[lat, lon]], columns=[\"latitude\", \"longitude\"]))[0]\n",
    "    else:\n",
    "        return value"
   ]
  },
  {
   "cell_type": "code",
   "execution_count": 180,
   "metadata": {},
   "outputs": [],
   "source": [
    "from sklearn.neighbors import KNeighborsRegressor\n",
    "knn_model_dict = {}\n",
    "\n",
    "if run_models:\n",
    "    if not no_lat_lon:\n",
    "        for var in nan_vars:\n",
    "            print(var)\n",
    "            knn = KNeighborsRegressor(n_neighbors=30)\n",
    "            temp_X = df_X_combined_ordered[~df_X_combined_ordered[var].isna()][[\"latitude\", \"longitude\"]]\n",
    "            temp_Y = df_X_combined_ordered[var][~df_X_combined_ordered[var].isna()]\n",
    "            knn.fit(temp_X, temp_Y)\n",
    "            knn_model_dict[var] = knn\n",
    "            df_X_combined_ordered[var] = df_X_combined_ordered.apply(lambda x: impute_nan(x.latitude, x.longitude, x[var], var), axis=1)\n",
    "            df_dev_X[var] = df_dev_X.apply(lambda x: impute_nan(x.latitude, x.longitude, x[var], var), axis=1)\n",
    "            df_test_X[var] = df_test_X.apply(lambda x: impute_nan(x.latitude, x.longitude, x[var], var), axis=1)"
   ]
  },
  {
   "cell_type": "code",
   "execution_count": 181,
   "metadata": {
    "id": "D4kq__Giqima"
   },
   "outputs": [],
   "source": [
    "# impute 0's into wb_area_mean, fl_length_sum, fl_length_mean because they were\n",
    "# assigned np.nan if they were absent\n",
    "# A non-existent water feature should be assigned 0 given definition of each\n",
    "\n",
    "def fill_na(df):\n",
    "  try:\n",
    "    df.fl_length_sum_200m = df.fl_length_sum_200m.fillna(0)\n",
    "    df.fl_length_mean_200m = df.fl_length_sum_200m.fillna(0)\n",
    "    df.fl_length_sum_2500m = df.fl_length_sum_200m.fillna(0)\n",
    "    df.fl_length_mean_2500m = df.fl_length_sum_200m.fillna(0)\n",
    "  except:\n",
    "    pass\n",
    "  return df\n",
    "\n",
    "# No need for fill_na() since imputing by knn\n",
    "\n",
    "if no_lat_lon:\n",
    "    df_X_combined_ordered = fill_na(df_X_combined_ordered)\n",
    "    df_dev_X_combined_ordered = fill_na(df_dev_X)\n",
    "    df_test_X_combined_ordered = fill_na(df_test_X)\n",
    "else:\n",
    "    df_X_combined_ordered = df_X_combined_ordered\n",
    "    df_dev_X_combined_ordered = df_dev_X\n",
    "    df_test_X_combined_ordered = df_test_X\n",
    "    "
   ]
  },
  {
   "cell_type": "code",
   "execution_count": 182,
   "metadata": {},
   "outputs": [],
   "source": [
    "# df_X_combined_orderd.isna()"
   ]
  },
  {
   "cell_type": "code",
   "execution_count": 183,
   "metadata": {
    "colab": {
     "base_uri": "https://localhost:8080/"
    },
    "id": "qy2KEjaNq487",
    "outputId": "077aa965-5d64-4ad9-abc7-001580eb74d8"
   },
   "outputs": [
    {
     "name": "stdout",
     "output_type": "stream",
     "text": [
      "Train\n",
      "\n",
      "Dev\n",
      "\n",
      "Test\n"
     ]
    }
   ],
   "source": [
    "# fraction of nan's in each variable\n",
    "def print_na(df_X_combined_ordered):\n",
    "  for var in df_X_combined_ordered.describe().columns:\n",
    "    try:\n",
    "        if np.mean(df_X_combined_ordered[str(var)].isna()) != 0:\n",
    "          print(var, round(np.mean(df_X_combined_ordered[str(var)].isna()), 2))\n",
    "    except Exception as e:\n",
    "        print(var)\n",
    "        print(e)\n",
    "        pass\n",
    "        \n",
    "print(\"Train\")    \n",
    "print_na(df_X_combined_ordered)      \n",
    "print()\n",
    "print(\"Dev\")\n",
    "print_na(df_dev_X_combined_ordered)\n",
    "print()\n",
    "print(\"Test\")\n",
    "print_na(df_test_X_combined_ordered)"
   ]
  },
  {
   "cell_type": "markdown",
   "metadata": {
    "id": "NiZZiHI7rroC"
   },
   "source": [
    "# Offline OHE to keep track of variable names"
   ]
  },
  {
   "cell_type": "code",
   "execution_count": 184,
   "metadata": {
    "id": "5wgvKVZ7rNb8"
   },
   "outputs": [],
   "source": [
    "# ohe-hot-encode the columns\n",
    "# get_dummies only encodes cat columns\n",
    "df_X_combined_dummies_ordered = pd.get_dummies(df_X_combined_ordered)\n",
    "# df_X_combined_dummies_ordered.columns # 90\n",
    "\n",
    "df_dev_X_combined_dummies_ordered = pd.get_dummies(df_dev_X_combined_ordered)\n",
    "df_test_X_combined_dummies_ordered = pd.get_dummies(df_test_X_combined_ordered)"
   ]
  },
  {
   "cell_type": "code",
   "execution_count": 185,
   "metadata": {
    "colab": {
     "base_uri": "https://localhost:8080/"
    },
    "id": "C2DzQYz-guOe",
    "outputId": "d15cc667-b613-4161-fdee-cb63bd03ce29"
   },
   "outputs": [
    {
     "name": "stdout",
     "output_type": "stream",
     "text": [
      "(10025, 25)\n",
      "(3007, 25)\n",
      "(1290, 25)\n",
      "(10025, 1476)\n",
      "(3007, 1071)\n",
      "(1290, 790)\n"
     ]
    }
   ],
   "source": [
    "print(df_X_combined_ordered.shape)\n",
    "print(df_dev_X_combined_ordered.shape)\n",
    "print(df_test_X_combined_ordered.shape)\n",
    "print(df_X_combined_dummies_ordered.shape)\n",
    "print(df_dev_X_combined_dummies_ordered.shape)\n",
    "print(df_test_X_combined_dummies_ordered.shape)"
   ]
  },
  {
   "cell_type": "markdown",
   "metadata": {
    "id": "g1Eq49x-r55M"
   },
   "source": [
    "# Pipeline"
   ]
  },
  {
   "cell_type": "code",
   "execution_count": 186,
   "metadata": {
    "id": "YoBhg5wPrxlx"
   },
   "outputs": [],
   "source": [
    "# impute categorical data\n",
    "\n",
    "from sklearn.base import TransformerMixin\n",
    "class DataFrameImputer(TransformerMixin):\n",
    "  \"\"\"\n",
    "  By inheriting TransformerMixin, you get fit_transform method for free \n",
    "  if you implement fit and transform methods\n",
    "  \"\"\" \n",
    "\n",
    "  def __init__(self):\n",
    "        \"\"\"Impute missing values.\n",
    "\n",
    "        Columns of dtype object are imputed with the most frequent value \n",
    "        in column.\n",
    "        Columns of other types are imputed with median of column.\n",
    "        \"\"\"\n",
    "  def fit(self, X, y=None):\n",
    "        self.fill = pd.Series([X[c].value_counts().index[0]\n",
    "            if X[c].dtype == np.dtype('O') else X[c].median() for c in X], \n",
    "            index=X.columns)\n",
    "        return self\n",
    "\n",
    "  def transform(self, X, y=None):\n",
    "        return X.fillna(self.fill)\n",
    "\n"
   ]
  },
  {
   "cell_type": "code",
   "execution_count": 187,
   "metadata": {
    "id": "2E_VtoXpr8W9"
   },
   "outputs": [],
   "source": [
    "# Pipeline for numerical columns\n",
    "# 1. fill NA's with median values\n",
    "# 2. scale them\n",
    "\n",
    "# num_pipeline_impute_ss = Pipeline([        # should be list of tuples\n",
    "#                           (\"num_imputer\", SimpleImputer(strategy=\"median\")),\n",
    "#                           (\"std_scaler\", StandardScaler())\n",
    "#                           ])                      \n",
    "\n",
    "# num_pipeline_impute_ss = Pipeline([        # should be list of tuples\n",
    "#                           (\"num_imputer\", SimpleImputer(strategy=\"median\")),\n",
    "#                           (\"robust_scaler\", RobustScaler())\n",
    "#                           ])                      \n",
    "\n",
    "num_pipeline_impute_ss = Pipeline([        # should be list of tuples\n",
    "                          (\"num_imputer\", SimpleImputer(strategy=\"median\"))\n",
    "                          ])                      \n",
    "\n",
    "\n",
    "# Pipleline for categorical columns\n",
    "# 1. fill NA's with most frequent values\n",
    "# 2. one hot code\n",
    "\n",
    "# cat_pipeline_impute_ohe = Pipeline([(\"cat_imputer\", DataFrameImputer()),\n",
    "#                          (\"one_hot_encoder\", OneHotEncoder(drop=\"first\", \\\n",
    "#                                                            sparse=False))\n",
    "#                          ])\n",
    "\n",
    "\n",
    "# you want to do the following where you handle_unknown categories in the \n",
    "# test data by ignoring them. However, in the imeplementation, I am using\n",
    "# df_X_combined_dummies_ordered to indicate the numerical and cat columns \n",
    "# hence need to fix the df_X_combined_dummies_ordered such that the first \n",
    "# ohe is not dropped (as is being done in immediately above)\n",
    "\n",
    "cat_pipeline_impute_ohe = Pipeline([(\"cat_imputer\", DataFrameImputer()),\n",
    "                         (\"one_hot_encoder\", OneHotEncoder(sparse=False,\n",
    "                                                           handle_unknown = \"ignore\"))\n",
    "                         ])"
   ]
  },
  {
   "cell_type": "code",
   "execution_count": 188,
   "metadata": {
    "id": "T6zsqDgLsIhp"
   },
   "outputs": [],
   "source": [
    "numericals_list = list(df_X_combined_ordered.describe().columns)\n",
    "categories_list = list(set(df_X_combined_ordered.columns) - set(numericals_list))\n",
    "\n",
    "# here trying to do numerical and categorical transformation in isolation\n",
    "# this because ColumnTransformer removes column name information :-(\n",
    "from sklearn.compose import ColumnTransformer\n",
    "\n",
    "# only the cat columns will be one-hot encoded\n",
    "partial_transformer_impute_ohe = ColumnTransformer([\n",
    "                                   (\"categorical_ohe\", cat_pipeline_impute_ohe,\\\n",
    "                                    categories_list)\n",
    "])\n",
    "\n",
    "# only the numerical columns withh get standard scaling\n",
    "partial_transformer_impute_ss = ColumnTransformer([\n",
    "                                   (\"numerical_ss_impute\", num_pipeline_impute_ss,\\\n",
    "                                    numericals_list)\n",
    "])"
   ]
  },
  {
   "cell_type": "markdown",
   "metadata": {},
   "source": [
    "# Transformation of Dev and Test splits"
   ]
  },
  {
   "cell_type": "code",
   "execution_count": 189,
   "metadata": {
    "colab": {
     "base_uri": "https://localhost:8080/"
    },
    "id": "7DxNTfIFtT9y",
    "outputId": "5d8a5f9d-f079-43d8-b8db-65afc2d25027"
   },
   "outputs": [
    {
     "name": "stdout",
     "output_type": "stream",
     "text": [
      "(10025, 2)\n",
      "(3007, 2)\n",
      "(1290, 2)\n"
     ]
    }
   ],
   "source": [
    "# Pass the numerical columns through Numerical Pipeline \n",
    "\n",
    "# train\n",
    "full_data_ohe_ss_imputed = (partial_transformer_impute_ss\n",
    "                            .fit(df_X_combined_ordered[numericals_list])\n",
    "                            .transform(df_X_combined_ordered[numericals_list])) \n",
    "print(full_data_ohe_ss_imputed.shape)\n",
    "\n",
    "# dev\n",
    "dev_ohe_ss_imputed = (partial_transformer_impute_ss\n",
    "                            .fit(df_X_combined_ordered[numericals_list])\n",
    "                            .transform(df_dev_X_combined_ordered[numericals_list])) \n",
    "print(dev_ohe_ss_imputed.shape)\n",
    "\n",
    "\n",
    "# test\n",
    "test_ohe_ss_imputed = (partial_transformer_impute_ss\n",
    "                            .fit(df_X_combined_ordered[numericals_list])\n",
    "                            .transform(df_test_X_combined_ordered[numericals_list])) \n",
    "print(test_ohe_ss_imputed.shape)\n"
   ]
  },
  {
   "cell_type": "code",
   "execution_count": 190,
   "metadata": {
    "colab": {
     "base_uri": "https://localhost:8080/"
    },
    "id": "rQD-xNjqtUA9",
    "outputId": "9bf01104-653e-4175-e099-3c7a0296e530"
   },
   "outputs": [
    {
     "name": "stdout",
     "output_type": "stream",
     "text": [
      "(10025, 1474)\n",
      "(3007, 1474)\n",
      "(1290, 1474)\n"
     ]
    }
   ],
   "source": [
    "# Pass the cat columns through Categorical Pipeline\n",
    "\n",
    "# train\n",
    "cat_data_OHE = (partial_transformer_impute_ohe\n",
    "                .fit(df_X_combined_ordered)\n",
    "                .transform(df_X_combined_ordered))\n",
    "print(cat_data_OHE.shape)\n",
    "\n",
    "# test\n",
    "dev_cat_data_OHE = (partial_transformer_impute_ohe\n",
    "                .fit(df_X_combined_ordered)\n",
    "                .transform(df_dev_X_combined_ordered))\n",
    "print(dev_cat_data_OHE.shape)\n",
    "\n",
    "# test\n",
    "test_cat_data_OHE = (partial_transformer_impute_ohe\n",
    "                .fit(df_X_combined_ordered)\n",
    "                .transform(df_test_X_combined_ordered))\n",
    "print(test_cat_data_OHE.shape)"
   ]
  },
  {
   "cell_type": "markdown",
   "metadata": {},
   "source": [
    "## Numpy X and Y arrays"
   ]
  },
  {
   "cell_type": "code",
   "execution_count": 191,
   "metadata": {},
   "outputs": [],
   "source": [
    "# # verify class ratios\n",
    "# a11 = y_train1.sum()\n",
    "# a12 = y_train2.sum()\n",
    "# a2 = y_test.sum()\n",
    "# a3 = y_val.sum()"
   ]
  },
  {
   "cell_type": "code",
   "execution_count": 192,
   "metadata": {},
   "outputs": [
    {
     "name": "stdout",
     "output_type": "stream",
     "text": [
      "(10025, 1476) (10025,) (3007, 1476) (3007,) (1290, 1476) (1290,)\n"
     ]
    }
   ],
   "source": [
    "# join the arrays into one array that can be passed into models\n",
    "\n",
    "# train\n",
    "X = np.hstack((full_data_ohe_ss_imputed, cat_data_OHE))\n",
    "# Y = np.array(df.cwa_determination)\n",
    "# Y_groups = np.array(df.cwa_determination_groups)\n",
    "\n",
    "# dev\n",
    "dev_X = np.hstack((dev_ohe_ss_imputed, dev_cat_data_OHE))\n",
    "# dev_Y = np.array(df_dev.cwa_determination)\n",
    "# dev_Y_groups = np.array(df_dev.cwa_determination_groups)\n",
    "\n",
    "# test\n",
    "test_X = np.hstack((test_ohe_ss_imputed, test_cat_data_OHE))\n",
    "# test_Y = np.array(df_test.cwa_determination)\n",
    "# test_Y_groups = np.array(df_test.cwa_determination_groups)\n",
    "\n",
    "\n",
    "\n",
    "print(X.shape, Y.shape, dev_X.shape, dev_Y.shape, test_X.shape, test_Y.shape)"
   ]
  },
  {
   "cell_type": "code",
   "execution_count": 193,
   "metadata": {
    "colab": {
     "base_uri": "https://localhost:8080/"
    },
    "id": "AgK2Nv2HycZo",
    "outputId": "9af08aa1-945f-49a2-a36b-42064875d6d6"
   },
   "outputs": [
    {
     "name": "stdout",
     "output_type": "stream",
     "text": [
      "(10025, 1476) (10025,) (3007, 1476) (3007,) (1290, 1476) (1290,)\n"
     ]
    }
   ],
   "source": [
    "# join the arrays into one array that can be passed into models\n",
    "\n",
    "# train\n",
    "X = np.hstack((full_data_ohe_ss_imputed, cat_data_OHE))\n",
    "Y = np.array(df.cwa_determination)\n",
    "# Y_groups = np.array(df.cwa_determination_groups)\n",
    "\n",
    "# dev\n",
    "dev_X = np.hstack((dev_ohe_ss_imputed, dev_cat_data_OHE))\n",
    "dev_Y = np.array(df_dev.cwa_determination)\n",
    "# dev_Y_groups = np.array(df_dev.cwa_determination_groups)\n",
    "\n",
    "# test\n",
    "test_X = np.hstack((test_ohe_ss_imputed, test_cat_data_OHE))\n",
    "test_Y = np.array(df_test.cwa_determination)\n",
    "# test_Y_groups = np.array(df_test.cwa_determination_groups)\n",
    "\n",
    "print(X.shape, Y.shape, dev_X.shape, dev_Y.shape, test_X.shape, test_Y.shape)"
   ]
  },
  {
   "cell_type": "code",
   "execution_count": 194,
   "metadata": {
    "id": "vNnvAK30tUDx"
   },
   "outputs": [],
   "source": [
    "# Convert numerical and cat transforms back to dataframe (for housekeeping)\n",
    "\n",
    "# convert numerical arrays into dataframe\n",
    "\n",
    "def make_dataframe(full_data_ohe_ss_imputed, cat_data_OHE):\n",
    "  df_num_data_ohe_ss = (pd.DataFrame(\n",
    "      full_data_ohe_ss_imputed,\n",
    "      columns=list(df_X_combined_dummies_ordered[numericals_list].columns)\n",
    "  ))\n",
    "\n",
    "  # # convert cat arrays into dataframe\n",
    "  ohe_categories_list = (list(set(df_X_combined_dummies_ordered.columns) - set(numericals_list)))\n",
    "  df_cat_data_OHE = (pd.DataFrame(\n",
    "      cat_data_OHE,\n",
    "      columns=list(df_X_combined_dummies_ordered[ohe_categories_list].columns))\n",
    "  )\n",
    "\n",
    "  # concatenate into one dataframe\n",
    "\n",
    "  return pd.concat([df_num_data_ohe_ss, df_cat_data_OHE], axis=1)\n",
    "\n",
    "\n",
    "df_train_X_dummies = make_dataframe(full_data_ohe_ss_imputed, cat_data_OHE)\n",
    "df_dev_X_dummies = make_dataframe(dev_ohe_ss_imputed, dev_cat_data_OHE)\n",
    "df_test_X_dummies = make_dataframe(test_ohe_ss_imputed, test_cat_data_OHE)"
   ]
  },
  {
   "cell_type": "code",
   "execution_count": 195,
   "metadata": {
    "id": "iY1gOlOk5-ZM"
   },
   "outputs": [],
   "source": [
    "if stop_before_models:\n",
    "    stop"
   ]
  },
  {
   "cell_type": "code",
   "execution_count": 196,
   "metadata": {},
   "outputs": [
    {
     "data": {
      "text/plain": [
       "(10025, 1476)"
      ]
     },
     "execution_count": 196,
     "metadata": {},
     "output_type": "execute_result"
    }
   ],
   "source": [
    "X.shape"
   ]
  },
  {
   "cell_type": "markdown",
   "metadata": {},
   "source": [
    "# Feature Selection"
   ]
  },
  {
   "cell_type": "code",
   "execution_count": 197,
   "metadata": {},
   "outputs": [],
   "source": [
    "import pandas as pd\n",
    "import numpy as np\n",
    "import matplotlib.pyplot as plt\n",
    "import seaborn as sns\n",
    "%matplotlib inline\n",
    "from sklearn.model_selection import train_test_split\n",
    "\n",
    "from sklearn.linear_model import Lasso, LogisticRegression\n",
    "from sklearn.feature_selection import SelectFromModel\n",
    "from sklearn.preprocessing import StandardScaler\n",
    "\n",
    "# scaler = StandardScaler()\n",
    "# scaler.fit(X)\n",
    "\n",
    "sel_ = SelectFromModel(LogisticRegression(C=0.01, penalty='l1', solver=\"liblinear\"))\n",
    "sel_.fit(X, Y)\n",
    "selected_features_bool = sel_.get_support()\n",
    "predictors = [x for x in df_X_combined_dummies_ordered.columns]\n",
    "selected_features = pd.DataFrame(predictors)[sel_.get_support()]\n",
    "\n",
    "if feature_select:\n",
    "    X = X[:, selected_features_bool]\n",
    "    dev_X = dev_X[:, selected_features_bool]\n",
    "    test_X = test_X[:, selected_features_bool]"
   ]
  },
  {
   "cell_type": "code",
   "execution_count": 198,
   "metadata": {},
   "outputs": [
    {
     "data": {
      "text/plain": [
       "(10025, 10)"
      ]
     },
     "execution_count": 198,
     "metadata": {},
     "output_type": "execute_result"
    }
   ],
   "source": [
    "X.shape"
   ]
  },
  {
   "cell_type": "markdown",
   "metadata": {},
   "source": [
    "# One-Class SVM"
   ]
  },
  {
   "cell_type": "code",
   "execution_count": 199,
   "metadata": {},
   "outputs": [],
   "source": [
    "from sklearn.svm import OneClassSVM\n",
    "\n",
    "if False: # True if you want to run this\n",
    "    # define inliers as negatives and outliers as positive examples\n",
    "    inliers = Y == 0\n",
    "    outliers = Y == 1\n",
    "    X_inliers = X[inliers]\n",
    "    Y_inliers = Y[inliers]\n",
    "\n",
    "    clf = OneClassSVM(gamma='auto').fit(X_inliers)\n",
    "    \n",
    "    # predict on filtered train, train and dev data\n",
    "    X_inliers_predict = clf.predict(X_inliers)\n",
    "    X_predict = clf.predict(X)\n",
    "    dev_predict = clf.predict(dev_X)\n",
    "    \n",
    "    # transform on train and dev data\n",
    "    train_score_samples = clf.score_samples(X)\n",
    "    dev_score_samples = clf.score_samples(dev_X)\n",
    "\n",
    "    # replace 1's by 0's (1 of OneClassSVM is the inlier or the majority class which is 0)\n",
    "    # replace 1's by -1's (define outliers as minority class)\n",
    "    dev_predict[dev_predict == 1] = 0\n",
    "    dev_predict[dev_predict == -1] = 1\n",
    "    print(np.mean(dev_predict == dev_Y)) # 0.38839590443686006\n",
    "    \n",
    "    # do same on filtered X data\n",
    "    X_inliers_predict[X_inliers_predict == 1] = 0\n",
    "    X_inliers_predict[X_inliers_predict == -1] = 1\n",
    "    print(np.mean(X_inliers_predict == Y_inliers)) # 0.5502357635110627\n",
    "\n",
    "    # do same on train data\n",
    "    X_predict[X_predict == 1] = 0\n",
    "    X_predict[X_predict == -1] = 1\n",
    "    print(np.mean(X_predict == Y)) # 0.708762296957218\n",
    "\n",
    "    plt.hist(dev_score_samples)"
   ]
  },
  {
   "cell_type": "markdown",
   "metadata": {},
   "source": [
    "# Mahalanobis Distance"
   ]
  },
  {
   "cell_type": "code",
   "execution_count": 200,
   "metadata": {},
   "outputs": [],
   "source": [
    "from sklearn.neighbors import DistanceMetric\n",
    "\n",
    "# dist = DistanceMetric.get_metric(\"mahalanobis\", V=cov.get_mahalanobis_matrix())\n",
    "# dist = DistanceMetric.get_metric(\"mahalanobis\", V=np.cov(X))\n",
    "# dist.pairwise(X)\n",
    "\n",
    "# np.linalg.det(np.cov(X))\n",
    "# np.linalg.det(np.linalg.pinv(np.cov(X)))\n",
    "# np.linalg.cond(X)\n",
    "# np.linalg.pinv(X)"
   ]
  },
  {
   "cell_type": "code",
   "execution_count": 201,
   "metadata": {},
   "outputs": [],
   "source": [
    "\n",
    "# from metric_learn import Covariance\n",
    "# from sklearn.datasets import load_iris\n",
    "# iris = load_iris()['data']\n",
    "# cov = Covariance().fit(iris)\n",
    "# x = cov.transform(iris)"
   ]
  },
  {
   "cell_type": "markdown",
   "metadata": {},
   "source": [
    "# PCA and Clustering"
   ]
  },
  {
   "cell_type": "code",
   "execution_count": 202,
   "metadata": {},
   "outputs": [],
   "source": [
    "def P2(n_components, data): # from Project 3!\n",
    "  \"\"\"\n",
    "  Takes target dimensionality reduction (k) and the data to reduce\n",
    "  Returns the reduced data\n",
    "  \"\"\"\n",
    "  \n",
    "  pca = PCA(n_components)\n",
    "  pca.fit(data)\n",
    "  return pca "
   ]
  },
  {
   "cell_type": "code",
   "execution_count": 203,
   "metadata": {},
   "outputs": [],
   "source": [
    "if False: # True if you want to run this\n",
    "    n_components = 475 # maximum is X.shape[1]\n",
    "    d = 2\n",
    "    fig, axes = plt.subplots(d, d, figsize=(10, 10))\n",
    "    # Dimension reduction\n",
    "    pca = P2(n_components=n_components, data=X)\n",
    "    X = pca.transform(X)\n",
    "\n",
    "    import seaborn as sns\n",
    "    colors = [\"g\", \"r\"]\n",
    "\n",
    "    for i in range(d**2):\n",
    "        pc_i, pc_i_1 = X[:, i], X[:, i+1]\n",
    "        sns.scatterplot(ax=axes[i//d, i%d], x=pc_i, y=pc_i_1, hue=np.array(Y).flatten())\n",
    "        axes[i//d, i%d].set_xlabel(\"PC\" + str(i+1))\n",
    "        axes[i//d, i%d].set_ylabel(\"PC\" + str(i+2))\n",
    "        \n",
    "    dev_X = pca.transform(dev_X)\n",
    "    test_X = pca.transform(test_X)"
   ]
  },
  {
   "cell_type": "markdown",
   "metadata": {
    "id": "iZOqLgq5EsPm"
   },
   "source": [
    "# Metrics"
   ]
  },
  {
   "cell_type": "code",
   "execution_count": 204,
   "metadata": {
    "colab": {
     "base_uri": "https://localhost:8080/"
    },
    "id": "dmWtOA8lEThm",
    "outputId": "3a4a38ac-dfe3-4cc8-ddd0-80ae86b3eec8"
   },
   "outputs": [],
   "source": [
    "# print(sorted(metrics.SCORERS.keys()))\n",
    "# sorted(metrics.SCORERS.keys())"
   ]
  },
  {
   "cell_type": "code",
   "execution_count": 205,
   "metadata": {},
   "outputs": [],
   "source": [
    "# random_search.__dir__()\n",
    "# random_search.return_train_score\n",
    "\n",
    "# random_search.scoring # roc_auc\n",
    "# random_search.best_score_ # \n",
    "# random_search.scorer_ # make_scorer(roc_auc_score, needs_threshold=True)\n",
    "\n",
    "# random_search.cv_results_\n",
    "# random_search.predict_proba(X)\n",
    "# random_search.predict_log_proba(X)\n"
   ]
  },
  {
   "cell_type": "code",
   "execution_count": 206,
   "metadata": {},
   "outputs": [],
   "source": [
    "def time_taken(start, end):\n",
    "    delta = end - start\n",
    "    print(\"Time taken (min):\", round(delta.seconds/60, 1))"
   ]
  },
  {
   "cell_type": "code",
   "execution_count": 207,
   "metadata": {},
   "outputs": [],
   "source": [
    "# def model_results(fitted_model, test_X, test_Y, model_name):\n",
    "\n",
    "#     y_predict_proba = fitted_model.predict_proba(test_X)[:, 1]\n",
    "#     pv = ppv_npv_opt_th(test_Y, y_predict_proba)\n",
    "# #     print(\"{}: {}ppv = {}, npv = {}\".format(fitted_model.estimator, \" \"*(13 - len(str(fitted_model.estimator))), round(pv[0], 4), round(pv[1], 4)))\n",
    "#     print(\"{}: {}ppv = {}, npv = {} @ threshold = {}\".format(model_name, \" \"*(13 - len(model_name)), round(pv[0], 4), round(pv[1], 4), round(pv[2], 4)))\n",
    "\n",
    "#     # https://scikit-learn.org/stable/modules/generated/sklearn.metrics.average_precision_score.html\n",
    "#     # AP summarizes a precision-recall curve as the weighted mean of precisions achieved at each threshold\n",
    "#     print(\"average_precision_score:\", round(metrics.average_precision_score(test_Y, fitted_model.predict_proba(test_X)[:, 1], average=\"weighted\"), 5))\n",
    "        \n",
    "#     y_prob = fitted_model.predict_proba(test_X)\n",
    "#     fpr, tpr, thresholds = metrics.roc_curve(test_Y, y_prob[:, 1], pos_label=1)\n",
    "#     print(\"roc_auc\",\":\", round(metrics.auc(fpr, tpr), 5))\n",
    "        \n",
    "#     print(\"Classification Report:\") # threshold agnostic because you pass in the test labels instead of scores (probabilities)\n",
    "#     print(classification_report(test_Y, fitted_model.predict(test_X)))\n",
    "    \n",
    "#     print(\"Confusion Matrix:\")\n",
    "#     print(confusion_matrix(test_Y, fitted_model.predict(test_X)))"
   ]
  },
  {
   "cell_type": "code",
   "execution_count": 208,
   "metadata": {},
   "outputs": [],
   "source": [
    "def find_roc_auc(fitted_model, test_X, test_Y):\n",
    "    y_prob = fitted_model.predict_proba(test_X)\n",
    "    fpr, tpr, thresholds = metrics.roc_curve(test_Y, y_prob[:, 1], pos_label=1)\n",
    "    return round(metrics.auc(fpr, tpr), 5)"
   ]
  },
  {
   "cell_type": "code",
   "execution_count": 209,
   "metadata": {},
   "outputs": [
    {
     "data": {
      "text/plain": [
       "(1.0, 1.0, 0.2525)"
      ]
     },
     "execution_count": 209,
     "metadata": {},
     "output_type": "execute_result"
    }
   ],
   "source": [
    "def ppv_npv_opt_th(y_true=np.array([1,0,1]), y_predict_proba=np.array([0.5, 0.25, 0.3])):\n",
    "    \"\"\"\n",
    "    Inputs: y_true labels and prediction scores\n",
    "    Outputs: optimized positive predictive value and negative predictive values per this reference\n",
    "    https://arxiv.org/pdf/2007.05073.pdf\n",
    "    \"\"\"\n",
    "    min_ppv_npv_list = []\n",
    "    th_list = np.linspace(0, 1, 100)\n",
    "    for th in th_list:\n",
    "        y_predict = 1 * (y_predict_proba > th)\n",
    "        tn, fp, fn, tp = confusion_matrix(y_true, y_predict).ravel()\n",
    "        ppv = tp / (tp + fp) \n",
    "        npv = tn / (fn + tn)\n",
    "        min_ppv_npv = np.min(np.nan_to_num(np.array((ppv, npv))))\n",
    "        min_ppv_npv_list.append(min_ppv_npv)\n",
    "    max_ppv_npv = np.nanmax(np.array(min_ppv_npv_list))\n",
    "    opt_th_index = np.array(min_ppv_npv_list).argmax(axis=0)\n",
    "    opt_th = th_list[opt_th_index]\n",
    "    opt_y_predict = 1 * (y_predict_proba > opt_th)\n",
    "    opt_tn, opt_fp, opt_fn, opt_tp = confusion_matrix(y_true, opt_y_predict).ravel()\n",
    "    opt_ppv = opt_tp / (opt_tp + opt_fp) \n",
    "    opt_npv = opt_tn / (opt_fn + opt_tn)\n",
    "    return opt_ppv, opt_npv, round(opt_th, 4)\n",
    "ppv_npv_opt_th()"
   ]
  },
  {
   "cell_type": "code",
   "execution_count": 210,
   "metadata": {},
   "outputs": [],
   "source": [
    "def calculate_ppv_npv(y_true, y_predict):\n",
    "    tn, fp, fn, tp = confusion_matrix(y_true, y_predict).ravel()\n",
    "    ppv = tp / (tp + fp) \n",
    "    npv = tn / (fn + tn)    \n",
    "    return ppv, npv"
   ]
  },
  {
   "cell_type": "code",
   "execution_count": 211,
   "metadata": {},
   "outputs": [],
   "source": [
    "def model_results(fitted_model, test_X, test_Y, model_name):\n",
    "    y_predict_proba = fitted_model.predict_proba(test_X)[:, 1]    \n",
    "    \n",
    "    print(\"Testing results on test set\")\n",
    "    print(\"----------------------------\")\n",
    "    pv = ppv_npv_opt_th(test_Y, y_predict_proba)\n",
    "    print(\"{}: {}ppv = {}, npv = {} @ threshold = {}\".format(model_name, \" \"*(13 - len(model_name)), round(pv[0], 4), round(pv[1], 4), round(pv[2], 4)))\n",
    "    print()\n",
    "    print(\"Confusion Matrix:\")\n",
    "    print(confusion_matrix(test_Y, fitted_model.predict(test_X)))\n",
    "    print()\n",
    "\n",
    "    fpr, tpr, thresholds = metrics.roc_curve(test_Y, y_predict_proba, pos_label=1)\n",
    "    print(\"roc_auc                :\", round(metrics.auc(fpr, tpr), 5))\n",
    "        \n",
    "    # https://scikit-learn.org/stable/modules/generated/sklearn.metrics.average_precision_score.html\n",
    "    # AP summarizes a precision-recall curve as the weighted mean of precisions achieved at each threshold\n",
    "    print(\"average_precision_score:\", round(metrics.average_precision_score(test_Y, fitted_model.predict_proba(test_X)[:, 1], average=\"weighted\"), 5))\n",
    "\n",
    "    from sklearn.metrics import balanced_accuracy_score\n",
    "    print(\"balanced_accuracy_score:\", round(balanced_accuracy_score(test_Y, fitted_model.predict(test_X)), 5))\n",
    "    \n",
    "    print(\"Classification Report:\") # threshold agnostic because you pass in the test labels instead of scores (probabilities)\n",
    "    print(classification_report(test_Y, fitted_model.predict(test_X)))\n",
    "\n",
    "def do_model_cross_val_score(fitted_model, test_X, test_Y, model_name):\n",
    "    results = []\n",
    "    print(\"Cross-validated testing on test set\")\n",
    "    print(\"-----------------------------------\")\n",
    "    \n",
    "    roc_score = cross_val_score(fitted_model, test_X, test_Y, cv=5, scoring='roc_auc', verbose=0)\n",
    "    \n",
    "    balanced_accuracy_score = cross_val_score(fitted_model, test_X, test_Y, cv=5, scoring='balanced_accuracy', verbose=0)\n",
    "\n",
    "\n",
    "    ppv = cross_val_score(fitted_model, test_X, test_Y, cv=5, scoring='precision', verbose=0)\n",
    "\n",
    "    \n",
    "    model_dict[model_name + \"_results\"] = dict(zip([\"roc_score\", \"balanced_accuracy_score\", \"ppv\"], [roc_score, balanced_accuracy_score, ppv]))\n",
    "\n",
    "    \n",
    "def model_cross_val_score(fitted_model, test_X, test_Y, model_name):\n",
    "    roc_score = model_dict[model_name + \"_results\"][\"roc_score\"]\n",
    "    balanced_accuracy_score = model_dict[model_name + \"_results\"][\"balanced_accuracy_score\"]\n",
    "    ppv = model_dict[model_name + \"_results\"][\"ppv\"]\n",
    "    \n",
    "    print(\"roc_auc:                 mean = {0:.5f}, std. dev = {1:.5f}\".format(roc_score.mean(), roc_score.std()))\n",
    "    print(\"balanced_accuracy_score: mean = {0:.5f}, std. dev = {1:.5f}\".format(balanced_accuracy_score.mean(), balanced_accuracy_score.std()))\n",
    "    print(\"precision / ppv:         mean = {0:.5f}, std. dev = {1:.5f}\".format(ppv.mean(), ppv.std()))"
   ]
  },
  {
   "cell_type": "code",
   "execution_count": 212,
   "metadata": {},
   "outputs": [
    {
     "data": {
      "text/plain": [
       "Index(['jurisdiction_type', 'district', 'longitude', 'latitude',\n",
       "       'cwa_determination', 'cwa1', 'cwa2', 'cwa3', 'cwa4', 'cwa5',\n",
       "       ...\n",
       "       'nwi_CLASS_NAME_moss-lichen_2500m',\n",
       "       'nwi_FIRST_MODIFIER_NAME_beaver_2500m',\n",
       "       'nwi_SUBSYSTEM_NAME_unknown_perennial_2500m',\n",
       "       'nwi_estuarine_and_marine_wetland_2500m',\n",
       "       'nwi_SPLIT_CLASS_NAME_unconsolidated_bottom_2500m',\n",
       "       'nwi_CLASS_NAME_unconsolidated_shore_2500m',\n",
       "       'nwi_SPLIT_CLASS_NAME_rocky_shore_2500m',\n",
       "       'nwi_FIRST_MODIFIER_NAME_zzz_2500m',\n",
       "       'nwi_SPLIT_CLASS_NAME_emergent_2500m',\n",
       "       'nwi_SPLIT_CLASS_NAME_zzz_2500m'],\n",
       "      dtype='object', length=638)"
      ]
     },
     "execution_count": 212,
     "metadata": {},
     "output_type": "execute_result"
    }
   ],
   "source": [
    "df.columns"
   ]
  },
  {
   "cell_type": "markdown",
   "metadata": {
    "id": "0ez1BBgTW_Bk"
   },
   "source": [
    "# Light GBM"
   ]
  },
  {
   "cell_type": "code",
   "execution_count": 213,
   "metadata": {},
   "outputs": [],
   "source": [
    "start = datetime.now()"
   ]
  },
  {
   "cell_type": "code",
   "execution_count": 214,
   "metadata": {
    "colab": {
     "base_uri": "https://localhost:8080/"
    },
    "id": "-nU49jh6tULS",
    "outputId": "166d48d9-0f92-4c84-a479-c662c5172834"
   },
   "outputs": [
    {
     "name": "stdout",
     "output_type": "stream",
     "text": [
      "[LightGBM] [Warning] min_data_in_leaf is set=10, min_child_samples=20 will be ignored. Current value: min_data_in_leaf=10\n"
     ]
    }
   ],
   "source": [
    "# https://www.kaggle.com/binilg/lightgbm-with-randomsearchcv-and-feature-imp\n",
    "# Implementation: https://www.kaggle.com/mlisovyi/lightgbm-hyperparameter-optimisation-lb-0-761\n",
    "# Documentation: https://lightgbm.readthedocs.io/en/latest/Features.html\n",
    "# LightGBM Classifier: https://lightgbm.readthedocs.io/en/latest/pythonapi/lightgbm.LGBMClassifier.html#\n",
    "\n",
    "from optimize_ppv_npv_scorer_ import optimize_ppv_npv_scorer\n",
    "\n",
    "import lightgbm\n",
    "param_dict = {\n",
    "    'learning_rate': [0.05],\n",
    "    'num_leaves': [90,200],\n",
    "    'boosting_type' : ['gbdt'],\n",
    "    'objective' : ['binary'],\n",
    "    'max_depth' : [5,6,7,8],\n",
    "    'random_state' : [501], \n",
    "    'colsample_bytree' : [0.5,0.7],\n",
    "    'subsample' : [0.5,0.7],\n",
    "    'min_split_gain' : [0.01],\n",
    "    'min_data_in_leaf':[10],\n",
    "    'class_weight':[None], # 'unbalanced'\n",
    "#     'metric':['auc']\n",
    "   'verbose':[-1]\n",
    "}\n",
    "#modelling\n",
    "clf = lightgbm.LGBMClassifier()\n",
    "\n",
    "if run_models:\n",
    "    random_search_model = (RandomizedSearchCV(clf, \n",
    "                               param_dict,  \n",
    "                               cv=10, \n",
    "                               n_jobs = -1, \n",
    "                               random_state=random_state,\n",
    "                               n_iter=10,\n",
    "                               scoring='roc_auc'))\n",
    "        # from sklearn.model_selection import GridSearchCV, RandomizedSearchCV\n",
    "    random_search_model.fit(X, Y)\n",
    "    model_dict[\"lgbm\"] = random_search_model.best_estimator_\n",
    "    model_dict[\"file_params\"] = file_param_dict\n",
    "    pickle.dump(model_dict, open(\"random_search_fitted_models_\" + FILE_VERSION, \"wb\"), protocol=3)\n",
    "    \n",
    "model_dict = pd.read_pickle(\"random_search_fitted_models_\" + FILE_VERSION)\n",
    "lgbm = model_dict[\"lgbm\"]    "
   ]
  },
  {
   "cell_type": "code",
   "execution_count": 215,
   "metadata": {},
   "outputs": [
    {
     "name": "stdout",
     "output_type": "stream",
     "text": [
      "Testing results on test set\n",
      "----------------------------\n",
      "lgbm:          ppv = 0.7394, npv = 0.736 @ threshold = 0.5657\n",
      "\n",
      "Confusion Matrix:\n",
      "[[1689  245]\n",
      " [ 537  536]]\n",
      "\n",
      "roc_auc                : 0.8021\n",
      "average_precision_score: 0.69109\n",
      "balanced_accuracy_score: 0.68643\n",
      "Classification Report:\n",
      "              precision    recall  f1-score   support\n",
      "\n",
      "           0       0.76      0.87      0.81      1934\n",
      "           1       0.69      0.50      0.58      1073\n",
      "\n",
      "    accuracy                           0.74      3007\n",
      "   macro avg       0.72      0.69      0.70      3007\n",
      "weighted avg       0.73      0.74      0.73      3007\n",
      "\n"
     ]
    }
   ],
   "source": [
    "model_results(lgbm, dev_X, dev_Y, model_name=\"lgbm\")"
   ]
  },
  {
   "cell_type": "code",
   "execution_count": 216,
   "metadata": {},
   "outputs": [
    {
     "name": "stdout",
     "output_type": "stream",
     "text": [
      "Cross-validated testing on test set\n",
      "-----------------------------------\n",
      "[LightGBM] [Warning] min_data_in_leaf is set=10, min_child_samples=20 will be ignored. Current value: min_data_in_leaf=10\n",
      "[LightGBM] [Warning] min_data_in_leaf is set=10, min_child_samples=20 will be ignored. Current value: min_data_in_leaf=10\n",
      "[LightGBM] [Warning] min_data_in_leaf is set=10, min_child_samples=20 will be ignored. Current value: min_data_in_leaf=10\n",
      "[LightGBM] [Warning] min_data_in_leaf is set=10, min_child_samples=20 will be ignored. Current value: min_data_in_leaf=10\n",
      "[LightGBM] [Warning] min_data_in_leaf is set=10, min_child_samples=20 will be ignored. Current value: min_data_in_leaf=10\n",
      "[LightGBM] [Warning] min_data_in_leaf is set=10, min_child_samples=20 will be ignored. Current value: min_data_in_leaf=10\n",
      "[LightGBM] [Warning] min_data_in_leaf is set=10, min_child_samples=20 will be ignored. Current value: min_data_in_leaf=10\n",
      "[LightGBM] [Warning] min_data_in_leaf is set=10, min_child_samples=20 will be ignored. Current value: min_data_in_leaf=10\n",
      "[LightGBM] [Warning] min_data_in_leaf is set=10, min_child_samples=20 will be ignored. Current value: min_data_in_leaf=10\n",
      "[LightGBM] [Warning] min_data_in_leaf is set=10, min_child_samples=20 will be ignored. Current value: min_data_in_leaf=10\n",
      "[LightGBM] [Warning] min_data_in_leaf is set=10, min_child_samples=20 will be ignored. Current value: min_data_in_leaf=10\n",
      "[LightGBM] [Warning] min_data_in_leaf is set=10, min_child_samples=20 will be ignored. Current value: min_data_in_leaf=10\n",
      "[LightGBM] [Warning] min_data_in_leaf is set=10, min_child_samples=20 will be ignored. Current value: min_data_in_leaf=10\n",
      "[LightGBM] [Warning] min_data_in_leaf is set=10, min_child_samples=20 will be ignored. Current value: min_data_in_leaf=10\n",
      "[LightGBM] [Warning] min_data_in_leaf is set=10, min_child_samples=20 will be ignored. Current value: min_data_in_leaf=10\n"
     ]
    }
   ],
   "source": [
    "do_model_cross_val_score(lgbm, dev_X, dev_Y, model_name=\"lgbm\")"
   ]
  },
  {
   "cell_type": "code",
   "execution_count": 217,
   "metadata": {},
   "outputs": [
    {
     "name": "stdout",
     "output_type": "stream",
     "text": [
      "roc_auc:                 mean = 0.78539, std. dev = 0.01430\n",
      "balanced_accuracy_score: mean = 0.67517, std. dev = 0.02250\n",
      "precision / ppv:         mean = 0.66917, std. dev = 0.03315\n"
     ]
    }
   ],
   "source": [
    "model_cross_val_score(lgbm, dev_X, dev_Y, model_name=\"lgbm\")"
   ]
  },
  {
   "cell_type": "code",
   "execution_count": 218,
   "metadata": {},
   "outputs": [
    {
     "data": {
      "text/plain": [
       "Text(0, 0.5, 'Feature Importance Score')"
      ]
     },
     "execution_count": 218,
     "metadata": {},
     "output_type": "execute_result"
    },
    {
     "data": {
      "image/png": "[encoded data removed]",
      "text/plain": [
       "<Figure size 1440x360 with 1 Axes>"
      ]
     },
     "metadata": {
      "needs_background": "light"
     },
     "output_type": "display_data"
    }
   ],
   "source": [
    "#Feature importance for top 50 predictors\n",
    "\n",
    "predictors = [x for x in df_X_combined_dummies_ordered.columns]\n",
    "\n",
    "if feature_select:\n",
    "    selected_features = pd.DataFrame(predictors)[sel_.get_support()]\n",
    "    feat_imp = pd.Series(lgbm.feature_importances_, list(selected_features[0])).sort_values(ascending=False)\n",
    "else:\n",
    "    feat_imp = pd.Series(lgbm.feature_importances_, predictors).sort_values(ascending=False)\n",
    "\n",
    "\n",
    "feat_imp = feat_imp[0:50]\n",
    "plt.rcParams['figure.figsize'] = 20, 5\n",
    "feat_imp.plot(kind='bar', title='Feature Importance')\n",
    "plt.ylabel('Feature Importance Score')"
   ]
  },
  {
   "cell_type": "code",
   "execution_count": 219,
   "metadata": {},
   "outputs": [
    {
     "data": {
      "text/plain": [
       "[<matplotlib.lines.Line2D at 0x7fb029a74be0>]"
      ]
     },
     "execution_count": 219,
     "metadata": {},
     "output_type": "execute_result"
    },
    {
     "data": {
      "image/png": "[encoded data removed]",
      "text/plain": [
       "<Figure size 1440x360 with 1 Axes>"
      ]
     },
     "metadata": {
      "needs_background": "light"
     },
     "output_type": "display_data"
    }
   ],
   "source": [
    "lgbm = model_dict[\"lgbm\"]\n",
    "\n",
    "y_predict_proba = lgbm.predict_proba(test_X)[:, 1]\n",
    "y_true = test_Y\n",
    "ppv = []\n",
    "npv = []\n",
    "th_list = np.linspace(0, 1, 100)\n",
    "for th in th_list:\n",
    "    y_predict = 1 * (y_predict_proba > th)\n",
    "    tn, fp, fn, tp = confusion_matrix(y_true, y_predict).ravel()\n",
    "    ppv_ = tp / (tp + fp) \n",
    "    npv_ = tn / (fn + tn)\n",
    "    ppv.append(ppv_)\n",
    "    npv.append(npv_)\n",
    "ppv_array = np.array(ppv)\n",
    "npv_array = np.array(npv)\n",
    "th_array = np.array(th_list)\n",
    "plt.plot(th_array, ppv_array)\n",
    "plt.plot(th_array, npv_array)"
   ]
  },
  {
   "cell_type": "code",
   "execution_count": 220,
   "metadata": {},
   "outputs": [
    {
     "name": "stdout",
     "output_type": "stream",
     "text": [
      "Time taken (min): 0.1\n"
     ]
    }
   ],
   "source": [
    "end = datetime.now()\n",
    "time_taken(start, end)"
   ]
  },
  {
   "cell_type": "markdown",
   "metadata": {},
   "source": [
    "# LightGBM with SMOTE"
   ]
  },
  {
   "cell_type": "code",
   "execution_count": 221,
   "metadata": {},
   "outputs": [],
   "source": [
    "start = datetime.now()"
   ]
  },
  {
   "cell_type": "code",
   "execution_count": 222,
   "metadata": {},
   "outputs": [],
   "source": [
    "pipeline = make_pipeline(smt, clf)\n",
    "\n",
    "# param_dict = {\n",
    "#     'lgbmclassifier__objective' : ['binary'],\n",
    "#     }\n",
    "# pipeline = make_pipeline(SMOTE(random_state=random_state),\n",
    "#              lightgbm.LGBMClassifier())\n",
    "# pipeline.get_params()"
   ]
  },
  {
   "cell_type": "code",
   "execution_count": 223,
   "metadata": {},
   "outputs": [
    {
     "name": "stdout",
     "output_type": "stream",
     "text": [
      "Fitting 10 folds for each of 10 candidates, totalling 100 fits\n",
      "[LightGBM] [Warning] min_data_in_leaf is set=10, min_child_samples=20 will be ignored. Current value: min_data_in_leaf=10\n"
     ]
    }
   ],
   "source": [
    "# https://www.kaggle.com/binilg/lightgbm-with-randomsearchcv-and-feature-imp\n",
    "# Implementation: https://www.kaggle.com/mlisovyi/lightgbm-hyperparameter-optimisation-lb-0-761\n",
    "# Documentation: https://lightgbm.readthedocs.io/en/latest/Features.html\n",
    "# LightGBM Classifier: https://lightgbm.readthedocs.io/en/latest/pythonapi/lightgbm.LGBMClassifier.html#\n",
    "\n",
    "from optimize_ppv_npv_scorer_ import optimize_ppv_npv_scorer\n",
    "\n",
    "import lightgbm\n",
    "param_dict = {\n",
    "    'lgbmclassifier__learning_rate': [0.05],\n",
    "    'lgbmclassifier__num_leaves': [90,200],\n",
    "    'lgbmclassifier__boosting_type' : ['gbdt'],\n",
    "    'lgbmclassifier__objective' : ['binary'],\n",
    "    'lgbmclassifier__max_depth' : [5,6,7,8],\n",
    "    'lgbmclassifier__random_state' : [501], \n",
    "    'lgbmclassifier__colsample_bytree' : [0.5,0.7],\n",
    "    'lgbmclassifier__subsample' : [0.5,0.7],\n",
    "    'lgbmclassifier__min_split_gain' : [0.01],\n",
    "    'lgbmclassifier__min_data_in_leaf':[10],\n",
    "#     'metric':['auc']\n",
    "    }\n",
    "#modelling\n",
    "clf = lightgbm.LGBMClassifier()\n",
    "pipeline = make_pipeline(smt, clf)\n",
    "\n",
    "\n",
    "if run_models:\n",
    "    random_search_model = (RandomizedSearchCV(pipeline, \n",
    "                               param_dict, \n",
    "                               verbose=1, \n",
    "                               cv=10, \n",
    "                               n_jobs = -1, \n",
    "                               n_iter=10,\n",
    "                               random_state=random_state,\n",
    "                               scoring='roc_auc'))\n",
    "        # from sklearn.model_selection import GridSearchCV, RandomizedSearchCV\n",
    "    random_search_model.fit(X, Y)\n",
    "    model_dict[\"lgbm_smote\"] = random_search_model.best_estimator_\n",
    "    model_dict[\"file_params\"] = file_param_dict\n",
    "    pickle.dump(model_dict, open(\"random_search_fitted_models_\" + FILE_VERSION, \"wb\"), protocol=3)\n",
    "    \n",
    "model_dict = pd.read_pickle(\"random_search_fitted_models_\" + FILE_VERSION)\n",
    "lgbm_smote = model_dict[\"lgbm_smote\"]    "
   ]
  },
  {
   "cell_type": "code",
   "execution_count": 224,
   "metadata": {},
   "outputs": [
    {
     "name": "stdout",
     "output_type": "stream",
     "text": [
      "Testing results on test set\n",
      "----------------------------\n",
      "lgbm_smote:    ppv = 0.7391, npv = 0.7336 @ threshold = 0.697\n",
      "\n",
      "Confusion Matrix:\n",
      "[[1385  549]\n",
      " [ 315  758]]\n",
      "\n",
      "roc_auc                : 0.80438\n",
      "average_precision_score: 0.6942\n",
      "balanced_accuracy_score: 0.71128\n",
      "Classification Report:\n",
      "              precision    recall  f1-score   support\n",
      "\n",
      "           0       0.81      0.72      0.76      1934\n",
      "           1       0.58      0.71      0.64      1073\n",
      "\n",
      "    accuracy                           0.71      3007\n",
      "   macro avg       0.70      0.71      0.70      3007\n",
      "weighted avg       0.73      0.71      0.72      3007\n",
      "\n"
     ]
    }
   ],
   "source": [
    "model_results(lgbm_smote, dev_X, dev_Y, model_name=\"lgbm_smote\")"
   ]
  },
  {
   "cell_type": "code",
   "execution_count": 225,
   "metadata": {},
   "outputs": [
    {
     "name": "stdout",
     "output_type": "stream",
     "text": [
      "Cross-validated testing on test set\n",
      "-----------------------------------\n",
      "[LightGBM] [Warning] min_data_in_leaf is set=10, min_child_samples=20 will be ignored. Current value: min_data_in_leaf=10\n",
      "[LightGBM] [Warning] min_data_in_leaf is set=10, min_child_samples=20 will be ignored. Current value: min_data_in_leaf=10\n",
      "[LightGBM] [Warning] min_data_in_leaf is set=10, min_child_samples=20 will be ignored. Current value: min_data_in_leaf=10\n",
      "[LightGBM] [Warning] min_data_in_leaf is set=10, min_child_samples=20 will be ignored. Current value: min_data_in_leaf=10\n",
      "[LightGBM] [Warning] min_data_in_leaf is set=10, min_child_samples=20 will be ignored. Current value: min_data_in_leaf=10\n",
      "[LightGBM] [Warning] min_data_in_leaf is set=10, min_child_samples=20 will be ignored. Current value: min_data_in_leaf=10\n",
      "[LightGBM] [Warning] min_data_in_leaf is set=10, min_child_samples=20 will be ignored. Current value: min_data_in_leaf=10\n",
      "[LightGBM] [Warning] min_data_in_leaf is set=10, min_child_samples=20 will be ignored. Current value: min_data_in_leaf=10\n",
      "[LightGBM] [Warning] min_data_in_leaf is set=10, min_child_samples=20 will be ignored. Current value: min_data_in_leaf=10\n",
      "[LightGBM] [Warning] min_data_in_leaf is set=10, min_child_samples=20 will be ignored. Current value: min_data_in_leaf=10\n",
      "[LightGBM] [Warning] min_data_in_leaf is set=10, min_child_samples=20 will be ignored. Current value: min_data_in_leaf=10\n",
      "[LightGBM] [Warning] min_data_in_leaf is set=10, min_child_samples=20 will be ignored. Current value: min_data_in_leaf=10\n",
      "[LightGBM] [Warning] min_data_in_leaf is set=10, min_child_samples=20 will be ignored. Current value: min_data_in_leaf=10\n",
      "[LightGBM] [Warning] min_data_in_leaf is set=10, min_child_samples=20 will be ignored. Current value: min_data_in_leaf=10\n",
      "[LightGBM] [Warning] min_data_in_leaf is set=10, min_child_samples=20 will be ignored. Current value: min_data_in_leaf=10\n"
     ]
    }
   ],
   "source": [
    "do_model_cross_val_score(lgbm_smote, dev_X, dev_Y, model_name=\"lgbm_smote\")"
   ]
  },
  {
   "cell_type": "code",
   "execution_count": 226,
   "metadata": {},
   "outputs": [
    {
     "name": "stdout",
     "output_type": "stream",
     "text": [
      "roc_auc:                 mean = 0.78301, std. dev = 0.01707\n",
      "balanced_accuracy_score: mean = 0.69698, std. dev = 0.01917\n",
      "precision / ppv:         mean = 0.56904, std. dev = 0.03098\n"
     ]
    }
   ],
   "source": [
    "model_cross_val_score(lgbm_smote, dev_X, dev_Y, model_name=\"lgbm_smote\")"
   ]
  },
  {
   "cell_type": "code",
   "execution_count": 227,
   "metadata": {},
   "outputs": [
    {
     "data": {
      "text/plain": [
       "Text(0, 0.5, 'Feature Importance Score')"
      ]
     },
     "execution_count": 227,
     "metadata": {},
     "output_type": "execute_result"
    },
    {
     "data": {
      "image/png": "[encoded data removed]",
      "text/plain": [
       "<Figure size 1440x360 with 1 Axes>"
      ]
     },
     "metadata": {
      "needs_background": "light"
     },
     "output_type": "display_data"
    }
   ],
   "source": [
    "#Feature importance for top 50 predictors\n",
    "\n",
    "predictors = [x for x in df_X_combined_dummies_ordered.columns]\n",
    "\n",
    "if feature_select:\n",
    "    selected_features = pd.DataFrame(predictors)[sel_.get_support()]\n",
    "    feat_imp = pd.Series(lgbm.feature_importances_, list(selected_features[0])).sort_values(ascending=False)\n",
    "else:\n",
    "    feat_imp = pd.Series(lgbm.feature_importances_, predictors).sort_values(ascending=False)\n",
    "\n",
    "\n",
    "feat_imp = feat_imp[0:50]\n",
    "plt.rcParams['figure.figsize'] = 20, 5\n",
    "feat_imp.plot(kind='bar', title='Feature Importance')\n",
    "plt.ylabel('Feature Importance Score')"
   ]
  },
  {
   "cell_type": "code",
   "execution_count": 228,
   "metadata": {},
   "outputs": [
    {
     "data": {
      "text/plain": [
       "Text(0, 0.5, 'Feature Importance Score')"
      ]
     },
     "execution_count": 228,
     "metadata": {},
     "output_type": "execute_result"
    },
    {
     "data": {
      "image/png": "[encoded data removed]",
      "text/plain": [
       "<Figure size 1440x360 with 1 Axes>"
      ]
     },
     "metadata": {
      "needs_background": "light"
     },
     "output_type": "display_data"
    }
   ],
   "source": [
    "#Feature importance for top 50 predictors\n",
    "\n",
    "predictors = [x for x in df_X_combined_dummies_ordered.columns]\n",
    "\n",
    "if feature_select:\n",
    "    selected_features = pd.DataFrame(predictors)[sel_.get_support()]\n",
    "    feat_imp = pd.Series(lgbm.feature_importances_, list(selected_features[0])).sort_values(ascending=False)\n",
    "else:\n",
    "    feat_imp = pd.Series(lgbm.feature_importances_, predictors).sort_values(ascending=False)\n",
    "\n",
    "\n",
    "feat_imp = feat_imp[0:10]\n",
    "plt.rcParams['figure.figsize'] = 20, 5\n",
    "feat_imp.plot(kind='bar', title='Feature Importance')\n",
    "plt.ylabel('Feature Importance Score')"
   ]
  },
  {
   "cell_type": "code",
   "execution_count": 229,
   "metadata": {},
   "outputs": [
    {
     "data": {
      "text/plain": [
       "Text(0, 0.5, 'Feature Importance Score')"
      ]
     },
     "execution_count": 229,
     "metadata": {},
     "output_type": "execute_result"
    },
    {
     "data": {
      "image/png": "[encoded data removed]",
      "text/plain": [
       "<Figure size 1440x360 with 1 Axes>"
      ]
     },
     "metadata": {
      "needs_background": "light"
     },
     "output_type": "display_data"
    }
   ],
   "source": [
    "#Feature importance for top 50 predictors\n",
    "\n",
    "predictors = [x for x in df_X_combined_dummies_ordered.columns]\n",
    "\n",
    "if feature_select:\n",
    "    selected_features = pd.DataFrame(predictors)[sel_.get_support()]\n",
    "    feat_imp = pd.Series(lgbm.feature_importances_, list(selected_features[0])).sort_values(ascending=False)\n",
    "else:\n",
    "    feat_imp = pd.Series(lgbm.feature_importances_, predictors).sort_values(ascending=False)\n",
    "\n",
    "\n",
    "feat_imp = feat_imp[0:20]\n",
    "plt.rcParams['figure.figsize'] = 20, 5\n",
    "feat_imp.plot(kind='bar', title='Feature Importance')\n",
    "plt.ylabel('Feature Importance Score')"
   ]
  },
  {
   "cell_type": "code",
   "execution_count": 230,
   "metadata": {},
   "outputs": [
    {
     "data": {
      "text/plain": [
       "LGBMClassifier(colsample_bytree=0.7, learning_rate=0.05, max_depth=8,\n",
       "               min_data_in_leaf=10, min_split_gain=0.01, num_leaves=200,\n",
       "               objective='binary', random_state=501, subsample=0.7)"
      ]
     },
     "execution_count": 230,
     "metadata": {},
     "output_type": "execute_result"
    }
   ],
   "source": [
    "lgbm_smote[1]#.get(lgbmclassifier)"
   ]
  },
  {
   "cell_type": "code",
   "execution_count": 231,
   "metadata": {},
   "outputs": [
    {
     "name": "stdout",
     "output_type": "stream",
     "text": [
      "Time taken (min): 0.1\n"
     ]
    }
   ],
   "source": [
    "end = datetime.now()\n",
    "time_taken(start, end)"
   ]
  },
  {
   "cell_type": "markdown",
   "metadata": {},
   "source": [
    "# Multi-class Light GBM"
   ]
  },
  {
   "cell_type": "code",
   "execution_count": 232,
   "metadata": {},
   "outputs": [],
   "source": [
    "# # https://www.kaggle.com/binilg/lightgbm-with-randomsearchcv-and-feature-imp\n",
    "# # Implementation: https://www.kaggle.com/mlisovyi/lightgbm-hyperparameter-optimisation-lb-0-761\n",
    "# # Documentation: https://lightgbm.readthedocs.io/en/latest/Features.html\n",
    "# # LightGBM Classifier: https://lightgbm.readthedocs.io/en/latest/pythonapi/lightgbm.LGBMClassifier.html#\n",
    "\n",
    "# from optimize_ppv_npv_scorer_ import optimize_ppv_npv_scorer\n",
    "\n",
    "# import lightgbm\n",
    "# param_dict = {\n",
    "#     'learning_rate': [0.05],\n",
    "#     'num_leaves': [90,200],\n",
    "#     'boosting_type' : ['gbdt'],\n",
    "#     'objective' : ['multiclass'],\n",
    "#     'max_depth' : [5,6,7,8],\n",
    "#     'random_state' : [501], \n",
    "#     'colsample_bytree' : [0.5,0.7],\n",
    "#     'subsample' : [0.5,0.7],\n",
    "#     'min_split_gain' : [0.01],\n",
    "#     'min_data_in_leaf':[10],\n",
    "# #     'metric':['auc']\n",
    "#     }\n",
    "# #modelling\n",
    "# clf = lightgbm.LGBMClassifier()\n",
    "\n",
    "# if run_models:\n",
    "#     random_search_model = (RandomizedSearchCV(clf, \n",
    "#                                param_dict, \n",
    "#                                verbose=1, \n",
    "#                                cv=10, \n",
    "#                                n_jobs = -1, \n",
    "#                                n_iter=10,\n",
    "#                                scoring=optimize_ppv_npv_scorer))\n",
    "#         # from sklearn.model_selection import GridSearchCV, RandomizedSearchCV\n",
    "#     random_search_model.fit(X, Y_groups)\n",
    "#     model_dict[\"lgbm_groups\"] = random_search_model.best_estimator_\n",
    "#     model_dict[\"file_params\"] = file_param_dict\n",
    "#     pickle.dump(model_dict, open(\"random_search_fitted_models_\" + FILE_VERSION, \"wb\"), protocol=3)\n",
    "    \n",
    "# model_dict = pd.read_pickle(\"random_search_fitted_models_\" + FILE_VERSION)\n",
    "# lgbm_groups = model_dict[\"lgbm_groups\"]    "
   ]
  },
  {
   "cell_type": "code",
   "execution_count": 233,
   "metadata": {},
   "outputs": [],
   "source": [
    "# group_1 = Y_groups == 1\n",
    "# group_2 = Y_groups == 2\n",
    "# group_3 = Y_groups == 3\n",
    "\n",
    "# print(np.mean(Y_groups[group_1] == lgbm_groups.predict(X[group_1])))\n",
    "# print(np.mean(Y_groups[group_2] == lgbm_groups.predict(X[group_2])))\n",
    "# print(np.mean(Y_groups[group_3] == lgbm_groups.predict(X[group_3])))\n",
    "\n",
    "# train_predict = lgbm_groups.predict(X)\n",
    "# pd.DataFrame(train_predict).value_counts()"
   ]
  },
  {
   "cell_type": "code",
   "execution_count": 234,
   "metadata": {},
   "outputs": [],
   "source": [
    "# dev_group_1 = dev_Y_groups == 1\n",
    "# dev_group_2 = dev_Y_groups == 2\n",
    "# dev_group_3 = dev_Y_groups == 3\n",
    "\n",
    "# print(np.mean(dev_Y_groups[dev_group_1] == lgbm_groups.predict(dev_X[dev_group_1])))\n",
    "# print(np.mean(dev_Y_groups[dev_group_2] == lgbm_groups.predict(dev_X[dev_group_2])))\n",
    "# print(np.mean(dev_Y_groups[dev_group_3] == lgbm_groups.predict(dev_X[dev_group_3])))\n",
    "\n",
    "# dev_predict = lgbm_groups.predict(dev_X)\n",
    "# pd.DataFrame(dev_predict).value_counts()\n"
   ]
  },
  {
   "cell_type": "code",
   "execution_count": 235,
   "metadata": {},
   "outputs": [],
   "source": [
    "# print(pd.DataFrame(test_Y_groups).value_counts())\n",
    "\n",
    "# test_group_1 = test_Y_groups == 1\n",
    "# test_group_2 = test_Y_groups == 2\n",
    "# test_group_3 = test_Y_groups == 3\n",
    "\n",
    "# print(np.mean(test_Y_groups[test_group_1] == lgbm_groups.predict(test_X[test_group_1])))\n",
    "# print(np.mean(test_Y_groups[test_group_2] == lgbm_groups.predict(test_X[test_group_2])))\n",
    "# print(np.mean(test_Y_groups[test_group_3] == lgbm_groups.predict(test_X[test_group_3])))\n",
    "\n",
    "# test_predict = lgbm_groups.predict(test_X)\n",
    "# print(pd.DataFrame(test_predict).value_counts())\n"
   ]
  },
  {
   "cell_type": "code",
   "execution_count": null,
   "metadata": {},
   "outputs": [],
   "source": []
  },
  {
   "cell_type": "code",
   "execution_count": null,
   "metadata": {},
   "outputs": [],
   "source": []
  },
  {
   "cell_type": "code",
   "execution_count": null,
   "metadata": {},
   "outputs": [],
   "source": []
  },
  {
   "cell_type": "code",
   "execution_count": null,
   "metadata": {},
   "outputs": [],
   "source": []
  },
  {
   "cell_type": "code",
   "execution_count": null,
   "metadata": {},
   "outputs": [],
   "source": []
  },
  {
   "cell_type": "code",
   "execution_count": 236,
   "metadata": {},
   "outputs": [],
   "source": [
    "# stop"
   ]
  },
  {
   "cell_type": "code",
   "execution_count": 237,
   "metadata": {},
   "outputs": [],
   "source": [
    "# following for \n",
    "# 1: 1,2,3,5\n",
    "# 2: 4,6,7\n",
    "# 3: 8 ,9"
   ]
  },
  {
   "cell_type": "code",
   "execution_count": 238,
   "metadata": {},
   "outputs": [],
   "source": [
    "# group_1 = Y_groups == 1\n",
    "# group_2 = Y_groups == 2\n",
    "# group_3 = Y_groups == 3\n",
    "\n",
    "# print(np.mean(Y_groups[group_1] == lgbm_groups.predict(X[group_1])))\n",
    "# print(np.mean(Y_groups[group_2] == lgbm_groups.predict(X[group_2])))\n",
    "# print(np.mean(Y_groups[group_3] == lgbm_groups.predict(X[group_3])))\n",
    "\n",
    "# train_predict = lgbm_groups.predict(X)\n",
    "# pd.DataFrame(train_predict).value_counts()"
   ]
  },
  {
   "cell_type": "code",
   "execution_count": 239,
   "metadata": {},
   "outputs": [],
   "source": [
    "# dev_group_1 = dev_Y_groups == 1\n",
    "# dev_group_2 = dev_Y_groups == 2\n",
    "# dev_group_3 = dev_Y_groups == 3\n",
    "\n",
    "# print(np.mean(dev_Y_groups[dev_group_1] == lgbm_groups.predict(dev_X[dev_group_1])))\n",
    "# print(np.mean(dev_Y_groups[dev_group_2] == lgbm_groups.predict(dev_X[dev_group_2])))\n",
    "# print(np.mean(dev_Y_groups[dev_group_3] == lgbm_groups.predict(dev_X[dev_group_3])))\n",
    "\n",
    "# dev_predict = lgbm_groups.predict(dev_X)\n",
    "# pd.DataFrame(dev_predict).value_counts()\n"
   ]
  },
  {
   "cell_type": "code",
   "execution_count": 240,
   "metadata": {},
   "outputs": [],
   "source": [
    "# test_group_1 = test_Y_groups == 1\n",
    "# test_group_2 = test_Y_groups == 2\n",
    "# test_group_3 = test_Y_groups == 3\n",
    "\n",
    "# print(np.mean(test_Y_groups[test_group_1] == lgbm_groups.predict(test_X[test_group_1])))\n",
    "# print(np.mean(test_Y_groups[test_group_2] == lgbm_groups.predict(test_X[test_group_2])))\n",
    "# print(np.mean(test_Y_groups[test_group_3] == lgbm_groups.predict(test_X[test_group_3])))\n",
    "\n",
    "# test_predict = lgbm_groups.predict(test_X)\n",
    "# pd.DataFrame(test_predict).value_counts()\n"
   ]
  },
  {
   "cell_type": "code",
   "execution_count": null,
   "metadata": {},
   "outputs": [],
   "source": []
  },
  {
   "cell_type": "code",
   "execution_count": null,
   "metadata": {},
   "outputs": [],
   "source": []
  },
  {
   "cell_type": "code",
   "execution_count": null,
   "metadata": {},
   "outputs": [],
   "source": []
  },
  {
   "cell_type": "code",
   "execution_count": null,
   "metadata": {},
   "outputs": [],
   "source": []
  },
  {
   "cell_type": "code",
   "execution_count": null,
   "metadata": {},
   "outputs": [],
   "source": []
  },
  {
   "cell_type": "markdown",
   "metadata": {},
   "source": [
    "# Light GBM: Second level learner to minimize False Negatives"
   ]
  },
  {
   "cell_type": "code",
   "execution_count": 241,
   "metadata": {},
   "outputs": [
    {
     "data": {
      "text/plain": [
       "0.22261103633916554"
      ]
     },
     "execution_count": 241,
     "metadata": {},
     "output_type": "execute_result"
    }
   ],
   "source": [
    "# identify all the true and false negatives on train data\n",
    "\n",
    "lgbm = model_dict[\"lgbm\"]  \n",
    "\n",
    "negs = model_dict[\"lgbm\"].predict(X) == 0\n",
    "X_negs = X[negs]\n",
    "Y_negs = Y[negs]\n",
    "np.mean(Y_negs) # 13% of the predicted negatives are true negatives\n"
   ]
  },
  {
   "cell_type": "code",
   "execution_count": 242,
   "metadata": {},
   "outputs": [
    {
     "name": "stdout",
     "output_type": "stream",
     "text": [
      "Fitting 10 folds for each of 10 candidates, totalling 100 fits\n",
      "[LightGBM] [Warning] min_data_in_leaf is set=10, min_child_samples=20 will be ignored. Current value: min_data_in_leaf=10\n"
     ]
    }
   ],
   "source": [
    "param_dict = {\n",
    "    'learning_rate': [0.05],\n",
    "    'num_leaves': [90,200],\n",
    "    'boosting_type' : ['gbdt'],\n",
    "    'objective' : ['binary'],\n",
    "    'max_depth' : [5,6,7,8],\n",
    "    'random_state' : [501], \n",
    "    'colsample_bytree' : [0.5,0.7],\n",
    "    'subsample' : [0.5,0.7],\n",
    "    'min_split_gain' : [0.01],\n",
    "    'min_data_in_leaf':[10],\n",
    "#     'metric':['auc']\n",
    "    }\n",
    "clf = lightgbm.LGBMClassifier()\n",
    "\n",
    "if run_models:\n",
    "    random_search_model = (RandomizedSearchCV(clf, \n",
    "                               param_dict, \n",
    "                               verbose=1, \n",
    "                               cv=10, \n",
    "                               n_jobs = -1, \n",
    "                               n_iter=10,\n",
    "                               scoring='roc_auc'))\n",
    "        # from sklearn.model_selection import GridSearchCV, RandomizedSearchCV\n",
    "    random_search_model.fit(X_negs, Y_negs)\n",
    "    model_dict[\"lgbm_second_level\"] = random_search_model.best_estimator_\n",
    "    model_dict[\"file_params\"] = file_param_dict\n",
    "    pickle.dump(model_dict, open(\"random_search_fitted_models_\" + FILE_VERSION, \"wb\"), protocol=3)\n",
    "    \n",
    "model_dict = pd.read_pickle(\"random_search_fitted_models_\" + FILE_VERSION)\n",
    "lgbm_second_level = model_dict[\"lgbm_second_level\"]    "
   ]
  },
  {
   "cell_type": "code",
   "execution_count": 243,
   "metadata": {},
   "outputs": [],
   "source": [
    "dev_negs = model_dict[\"lgbm\"].predict(dev_X) == 0\n",
    "dev_X_negs = dev_X[dev_negs]\n",
    "dev_Y_negs = dev_Y[dev_negs]"
   ]
  },
  {
   "cell_type": "code",
   "execution_count": 244,
   "metadata": {},
   "outputs": [
    {
     "name": "stdout",
     "output_type": "stream",
     "text": [
      "Testing results on test set\n",
      "----------------------------\n",
      "lgbm_second_level: ppv = 0.6, npv = 0.762 @ threshold = 0.5051\n",
      "\n",
      "Confusion Matrix:\n",
      "[[1677   12]\n",
      " [ 523   14]]\n",
      "\n",
      "roc_auc                : 0.73349\n",
      "average_precision_score: 0.40724\n",
      "balanced_accuracy_score: 0.50948\n",
      "Classification Report:\n",
      "              precision    recall  f1-score   support\n",
      "\n",
      "           0       0.76      0.99      0.86      1689\n",
      "           1       0.54      0.03      0.05       537\n",
      "\n",
      "    accuracy                           0.76      2226\n",
      "   macro avg       0.65      0.51      0.46      2226\n",
      "weighted avg       0.71      0.76      0.67      2226\n",
      "\n"
     ]
    }
   ],
   "source": [
    "model_results(lgbm_second_level, dev_X_negs, dev_Y_negs, model_name=\"lgbm_second_level\")"
   ]
  },
  {
   "cell_type": "markdown",
   "metadata": {},
   "source": [
    "# Autoencoders"
   ]
  },
  {
   "cell_type": "code",
   "execution_count": 245,
   "metadata": {},
   "outputs": [
    {
     "data": {
      "text/plain": [
       "(10025, 10)"
      ]
     },
     "execution_count": 245,
     "metadata": {},
     "output_type": "execute_result"
    }
   ],
   "source": [
    "X.shape"
   ]
  },
  {
   "cell_type": "code",
   "execution_count": 246,
   "metadata": {},
   "outputs": [],
   "source": [
    "# import numpy as np\n",
    "# from keras.layers import Input, Dense\n",
    "# from keras.models import Model\n",
    "# from keras.datasets import mnist\n",
    "# import matplotlib.pyplot as plt"
   ]
  },
  {
   "cell_type": "code",
   "execution_count": 247,
   "metadata": {},
   "outputs": [],
   "source": [
    "# # this is the size of our encoded representations\n",
    "# encoding_dim = 100 # 32 floats -> compression of factor 24.5, assuming the input is 784 floats\n",
    " \n",
    "# # this is our input placeholder\n",
    "# input_img = Input(shape=(X.shape[1],))\n",
    "# # \"encoded\" is the encoded representation of the input\n",
    "# encoded = Dense(encoding_dim, activation='relu')(input_img)\n",
    "# # \"decoded\" is the lossy reconstruction of the input\n",
    "# decoded = Dense(413, activation='sigmoid')(encoded)\n",
    "# # this model maps an input to its reconstruction\n",
    "# autoencoder = Model(input_img, decoded)\n",
    "# # this model maps an input to its encoded representation\n",
    "# encoder = Model(input_img, encoded)\n",
    "# # create a placeholder for an encoded (32-dimensional) input\n",
    "# encoded_input = Input(shape=(encoding_dim,))\n",
    "# # retrieve the last layer of the autoencoder model\n",
    "# decoder_layer = autoencoder.layers[-1]\n",
    "# # create the decoder model\n",
    "# decoder = Model(encoded_input, decoder_layer(encoded_input))\n",
    "# # configure our model to use a per-pixel binary crossentropy loss, and the Adadelta optimizer:\n",
    "# autoencoder.compile(optimizer='adadelta', loss='binary_crossentropy')"
   ]
  },
  {
   "cell_type": "code",
   "execution_count": 248,
   "metadata": {},
   "outputs": [],
   "source": [
    "# # (x_train, _), (x_test, _) = mnist.load_data()\n",
    "\n",
    "# x_train = X\n",
    "# x_test = dev_X\n",
    "# # normalize all values between 0 and 1 and we will flatten the 28x28 images into vectors of size 784.\n",
    "# x_train = x_train.astype('float32') / np.float(x_train.shape[1] - 1)\n",
    "# x_test = x_test.astype('float32') / np.float(x_test.shape[1] - 1)\n",
    "# x_train = x_train.reshape((len(x_train), np.prod(x_train.shape[1:])))\n",
    "# x_test = x_test.reshape((len(x_test), np.prod(x_test.shape[1:])))\n",
    "# print (x_train.shape)\n",
    "# print (x_test.shape)"
   ]
  },
  {
   "cell_type": "code",
   "execution_count": 249,
   "metadata": {},
   "outputs": [],
   "source": [
    "# if run_autoencoder:\n",
    "#     autoencoder.fit(x_train, x_train,\n",
    "#     epochs=50,\n",
    "#     batch_size=x_train.shape[1],\n",
    "#     shuffle=True,\n",
    "#     validation_data=(x_test, x_test))\n",
    "#     # encode and decode some digits\n",
    "#     # note that we take them from the *test* set\n",
    "#     encoded_imgs = encoder.predict(x_test)\n",
    "#     decoded_imgs = decoder.predict(encoded_imgs)"
   ]
  },
  {
   "cell_type": "code",
   "execution_count": 250,
   "metadata": {},
   "outputs": [],
   "source": [
    "# # https://www.kaggle.com/binilg/lightgbm-with-randomsearchcv-and-feature-imp\n",
    "# # Implementation: https://www.kaggle.com/mlisovyi/lightgbm-hyperparameter-optimisation-lb-0-761\n",
    "# # Documentation: https://lightgbm.readthedocs.io/en/latest/Features.html\n",
    "# # LightGBM Classifier: https://lightgbm.readthedocs.io/en/latest/pythonapi/lightgbm.LGBMClassifier.html#\n",
    "\n",
    "# encoded_train_imgs = encoder.predict(x_train)\n",
    "# from optimize_ppv_npv_scorer_ import optimize_ppv_npv_scorer\n",
    "\n",
    "# import lightgbm\n",
    "# param_dict = {\n",
    "#     'learning_rate': [0.05],\n",
    "#     'num_leaves': [90,200],\n",
    "#     'boosting_type' : ['gbdt'],\n",
    "#     'objective' : ['binary'],\n",
    "#     'max_depth' : [5,6,7,8],\n",
    "#     'random_state' : [501], \n",
    "#     'colsample_bytree' : [0.5,0.7],\n",
    "#     'subsample' : [0.5,0.7],\n",
    "#     'min_split_gain' : [0.01],\n",
    "#     'min_data_in_leaf':[10],\n",
    "# #     'metric':['auc']\n",
    "#     }\n",
    "# #modelling\n",
    "\n",
    "# if run_autoencoder:\n",
    "#     clf = lightgbm.LGBMClassifier()\n",
    "\n",
    "#     if run_models:\n",
    "#         random_search_model = (RandomizedSearchCV(clf, \n",
    "#                                    param_dict, \n",
    "#                                    verbose=1, \n",
    "#                                    cv=10, \n",
    "#                                    n_jobs = -1, \n",
    "#                                    n_iter=10,\n",
    "#                                    scoring=optimize_ppv_npv_scorer))\n",
    "#             # from sklearn.model_selection import GridSearchCV, RandomizedSearchCV\n",
    "#         random_search_model.fit(encoded_train_imgs, Y)\n",
    "#         model_dict[\"lgbm_autoencoder\"] = random_search_model\n",
    "#         model_dict[\"file_params\"] = file_param_dict\n",
    "#         pickle.dump(model_dict, open(\"random_search_fitted_models_\" + FILE_VERSION, \"wb\"), protocol=3)\n",
    "\n",
    "#     model_dict = pd.read_pickle(\"random_search_fitted_models_\" + FILE_VERSION)\n",
    "#     lgbm_autoencoder = model_dict[\"lgbm_autoencoder\"]    "
   ]
  },
  {
   "cell_type": "code",
   "execution_count": 251,
   "metadata": {},
   "outputs": [],
   "source": [
    "# if run_autoencoder:\n",
    "#     model_results(lgbm_autoencoder, encoded_train_imgs, Y, model_name=\"lgbm_autoencoder\")\n",
    "#     model_results(lgbm_autoencoder, encoded_imgs, dev_Y, model_name=\"lgbm_autoencoder\")"
   ]
  },
  {
   "cell_type": "markdown",
   "metadata": {},
   "source": [
    "# Gaussian Mixture Model\n",
    "https://jakevdp.github.io/PythonDataScienceHandbook/05.12-gaussian-mixtures.html"
   ]
  },
  {
   "cell_type": "code",
   "execution_count": 252,
   "metadata": {},
   "outputs": [
    {
     "data": {
      "image/png": "[encoded data removed]",
      "text/plain": [
       "<Figure size 1440x360 with 1 Axes>"
      ]
     },
     "metadata": {
      "needs_background": "light"
     },
     "output_type": "display_data"
    }
   ],
   "source": [
    "from sklearn.cluster import KMeans\n",
    "kmeans = KMeans(2, random_state=random_state)\n",
    "labels = kmeans.fit(X).predict(X)\n",
    "plt.scatter(X[:, 0], X[:, 1], c=labels, s=40, cmap='viridis');"
   ]
  },
  {
   "cell_type": "code",
   "execution_count": 253,
   "metadata": {},
   "outputs": [
    {
     "data": {
      "text/plain": [
       "0.3911221945137157"
      ]
     },
     "execution_count": 253,
     "metadata": {},
     "output_type": "execute_result"
    }
   ],
   "source": [
    "np.mean(labels == Y)"
   ]
  },
  {
   "cell_type": "code",
   "execution_count": 254,
   "metadata": {},
   "outputs": [],
   "source": [
    "from scipy.spatial.distance import cdist\n",
    "\n",
    "def plot_kmeans(kmeans, X, n_clusters=4, rseed=0, ax=None):\n",
    "    labels = kmeans.fit_predict(X)\n",
    "\n",
    "    # plot the input data\n",
    "    ax = ax or plt.gca()\n",
    "    ax.axis('equal')\n",
    "    ax.scatter(X[:, 0], X[:, 1], c=labels, s=40, cmap='viridis', zorder=2)\n",
    "\n",
    "    # plot the representation of the KMeans model\n",
    "    centers = kmeans.cluster_centers_\n",
    "    radii = [cdist(X[labels == i], [center]).max()\n",
    "             for i, center in enumerate(centers)]\n",
    "    for c, r in zip(centers, radii):\n",
    "        ax.add_patch(plt.Circle(c, r, fc='#CCCCCC', lw=3, alpha=0.5, zorder=1))"
   ]
  },
  {
   "cell_type": "code",
   "execution_count": 255,
   "metadata": {},
   "outputs": [
    {
     "data": {
      "image/png": "[encoded data removed]",
      "text/plain": [
       "<Figure size 1440x360 with 1 Axes>"
      ]
     },
     "metadata": {
      "needs_background": "light"
     },
     "output_type": "display_data"
    }
   ],
   "source": [
    "kmeans = KMeans(n_clusters=4, random_state=random_state)\n",
    "plot_kmeans(kmeans, X)"
   ]
  },
  {
   "cell_type": "code",
   "execution_count": 256,
   "metadata": {},
   "outputs": [],
   "source": [
    "# not working because determinant of covariance matrix is 0 due to multicollinearity\n",
    "# from sklearn.mixture import GaussianMixture as GMM\n",
    "# gmm = GMM(n_components=4).fit(X)\n",
    "# labels = gmm.predict(X)\n",
    "# plt.scatter(X[:, 0], X[:, 1], c=labels, s=40, cmap='viridis');"
   ]
  },
  {
   "cell_type": "code",
   "execution_count": null,
   "metadata": {},
   "outputs": [],
   "source": []
  },
  {
   "cell_type": "code",
   "execution_count": null,
   "metadata": {},
   "outputs": [],
   "source": []
  },
  {
   "cell_type": "code",
   "execution_count": null,
   "metadata": {},
   "outputs": [],
   "source": []
  },
  {
   "cell_type": "markdown",
   "metadata": {},
   "source": [
    "# kNN"
   ]
  },
  {
   "cell_type": "code",
   "execution_count": 257,
   "metadata": {},
   "outputs": [],
   "source": [
    "if run_knn:\n",
    "    knn = KNeighborsClassifier(n_neighbors=30)\n",
    "    X_ = X.copy()[:, :2]\n",
    "    knn.fit(X_, Y)\n",
    "    \n",
    "    model_dict[\"knn\"] = knn.best_estimator_\n",
    "    model_dict[\"file_params\"] = file_param_dict\n",
    "    pickle.dump(model_dict, open(\"random_search_fitted_models_\" + FILE_VERSION, \"wb\"), protocol=3)\n",
    "    \n",
    "    model_dict = pd.read_pickle(\"random_search_fitted_models_\" + FILE_VERSION)\n",
    "    knn = model_dict[\"knn\"]  \n",
    "    model_results(knn, dev_X.copy()[:, :2], dev_Y, model_name=\"knn\")"
   ]
  },
  {
   "cell_type": "markdown",
   "metadata": {},
   "source": [
    "# kNN Second Level"
   ]
  },
  {
   "cell_type": "code",
   "execution_count": 258,
   "metadata": {},
   "outputs": [],
   "source": [
    "if run_knn:\n",
    "    knn = KNeighborsClassifier(n_neighbors=30)\n",
    "    X_ = X_negs.copy()[:, :2]\n",
    "    knn.fit(X_, Y_negs)\n",
    "    \n",
    "    model_dict[\"knn\"] = knn.best_estimator_\n",
    "    model_dict[\"file_params\"] = file_param_dict\n",
    "    pickle.dump(model_dict, open(\"random_search_fitted_models_\" + FILE_VERSION, \"wb\"), protocol=3)\n",
    "    \n",
    "    model_dict = pd.read_pickle(\"random_search_fitted_models_\" + FILE_VERSION)\n",
    "    knn = model_dict[\"knn\"]  \n",
    "    model_results(knn, dev_X_negs.copy()[:, :2], dev_Y_negs, model_name=\"knn\")"
   ]
  },
  {
   "cell_type": "markdown",
   "metadata": {},
   "source": [
    "# SVC"
   ]
  },
  {
   "cell_type": "code",
   "execution_count": 259,
   "metadata": {},
   "outputs": [],
   "source": [
    "if run_svc:\n",
    "    param_dict = {'kernel': ['rbf'],\n",
    "                  'C': [1, 10, 100]}\n",
    "\n",
    "    # param_dict = {}\n",
    "\n",
    "    clf = SVC(gamma='scale', probability=True)\n",
    "    # clf.fit(X_negs, Y_negs)\n",
    "    if run_models:\n",
    "        random_search_model = (RandomizedSearchCV(clf, \n",
    "                                   param_dict, \n",
    "                                   verbose=1, \n",
    "                                   cv=10, \n",
    "                                   n_jobs = -1, \n",
    "                                   n_iter=10,\n",
    "                                   scoring='roc_auc'))\n",
    "            # from sklearn.model_selection import GridSearchCV, RandomizedSearchCV\n",
    "        random_search_model.fit(X, Y)\n",
    "        model_dict[\"svc\"] = random_search_model.best_estimator_\n",
    "        model_dict[\"file_params\"] = file_param_dict\n",
    "        pickle.dump(model_dict, open(\"random_search_fitted_models_\" + FILE_VERSION, \"wb\"), protocol=3)\n",
    "\n",
    "    model_dict = pd.read_pickle(\"random_search_fitted_models_\" + FILE_VERSION)\n",
    "    svc = model_dict[\"svc\"] \n",
    "    model_results(svc, dev_X, dev_Y, model_name=\"svc\")"
   ]
  },
  {
   "cell_type": "markdown",
   "metadata": {},
   "source": [
    "# Support Vector Classifier (on negative predictions)"
   ]
  },
  {
   "cell_type": "code",
   "execution_count": 260,
   "metadata": {},
   "outputs": [
    {
     "data": {
      "text/plain": [
       "dict_keys(['boosting_type', 'class_weight', 'colsample_bytree', 'importance_type', 'learning_rate', 'max_depth', 'min_child_samples', 'min_child_weight', 'min_split_gain', 'n_estimators', 'n_jobs', 'num_leaves', 'objective', 'random_state', 'reg_alpha', 'reg_lambda', 'silent', 'subsample', 'subsample_for_bin', 'subsample_freq'])"
      ]
     },
     "execution_count": 260,
     "metadata": {},
     "output_type": "execute_result"
    }
   ],
   "source": [
    "clf.get_params().keys()"
   ]
  },
  {
   "cell_type": "code",
   "execution_count": 261,
   "metadata": {},
   "outputs": [],
   "source": [
    "param_dict = {'kernel': ['rbf'],\n",
    "              'C': [1, 10, 100]}\n",
    "\n",
    "# param_dict = {}\n",
    "\n",
    "if run_svc_second_level:\n",
    "    clf = SVC(gamma='scale')\n",
    "    # clf.fit(X_negs, Y_negs)\n",
    "    if run_models:\n",
    "        random_search_model = (RandomizedSearchCV(clf, \n",
    "                                   param_dict, \n",
    "                                   verbose=1, \n",
    "                                   cv=10, \n",
    "                                   n_jobs = -1, \n",
    "                                   n_iter=10,\n",
    "                                   scoring='roc_auc'))\n",
    "            # from sklearn.model_selection import GridSearchCV, RandomizedSearchCV\n",
    "        random_search_model.fit(X_negs, Y_negs)\n",
    "        model_dict[\"svc_second_level\"] = random_search_model.best_estimator_\n",
    "        model_dict[\"file_params\"] = file_param_dict\n",
    "        pickle.dump(model_dict, open(\"random_search_fitted_models_\" + FILE_VERSION, \"wb\"), protocol=3)\n",
    "\n",
    "    model_dict = pd.read_pickle(\"random_search_fitted_models_\" + FILE_VERSION)\n",
    "    svc_second_level = model_dict[\"svc_second_level\"]\n",
    "    confusion_matrix(dev_Y_negs, svc_second_level.predict(dev_X_negs))"
   ]
  },
  {
   "cell_type": "markdown",
   "metadata": {
    "id": "bpKXfQfXzKLf"
   },
   "source": [
    "# Logistic Regression"
   ]
  },
  {
   "cell_type": "code",
   "execution_count": 262,
   "metadata": {
    "colab": {
     "base_uri": "https://localhost:8080/"
    },
    "id": "OzQrUXTW6J6b",
    "outputId": "506c9dc8-7ddd-46a3-f171-91e9993e52c9"
   },
   "outputs": [],
   "source": [
    "start = datetime.now()"
   ]
  },
  {
   "cell_type": "code",
   "execution_count": 263,
   "metadata": {
    "id": "IqOn82eq0Hsy"
   },
   "outputs": [],
   "source": [
    "\n",
    "# build a classifier\n",
    "clf = LogisticRegression()\n",
    "\n",
    "param_dict = {\"C\":np.logspace(-3,3,7), \n",
    "              \"penalty\":[\"l1\", \"l2\", \"elasticnet\"],\n",
    "              \"l1_ratio\":np.linspace(0,1,10),\n",
    "              \"solver\":[\"saga\"]\n",
    "              }# l1 lasso l2 ridge\n",
    "\n",
    "# run randomized search\n",
    "if run_logistic:\n",
    "    random_search_model = RandomizedSearchCV(clf, \n",
    "                                       param_distributions=param_dict,\n",
    "                                       n_iter=20, \n",
    "                                       scoring='roc_auc', \n",
    "                                       random_state=random_state,\n",
    "                                       cv=10, \n",
    "                                       n_jobs=-1)\n",
    "\n",
    "\n",
    "    # from sklearn.model_selection import GridSearchCV, RandomizedSearchCV\n",
    "    random_search_model.fit(X, Y)\n",
    "    model_dict[\"lr\"] = random_search_model.best_estimator_\n",
    "    model_dict[\"file_params\"] = file_param_dict\n",
    "    pickle.dump(model_dict, open(\"random_search_fitted_models_\" + FILE_VERSION, \"wb\"), protocol=3)\n"
   ]
  },
  {
   "cell_type": "code",
   "execution_count": 264,
   "metadata": {
    "colab": {
     "base_uri": "https://localhost:8080/"
    },
    "id": "WYoge1Lo5Xy5",
    "outputId": "608485a4-911d-4c7f-b89b-b2ae06d5b4c8"
   },
   "outputs": [
    {
     "name": "stdout",
     "output_type": "stream",
     "text": [
      "Testing results on test set\n",
      "----------------------------\n",
      "lr:            ppv = 0.7235, npv = 0.7181 @ threshold = 0.5051\n",
      "\n",
      "Confusion Matrix:\n",
      "[[1784  150]\n",
      " [ 698  375]]\n",
      "\n",
      "roc_auc                : 0.7573\n",
      "average_precision_score: 0.62628\n",
      "balanced_accuracy_score: 0.63596\n",
      "Classification Report:\n",
      "              precision    recall  f1-score   support\n",
      "\n",
      "           0       0.72      0.92      0.81      1934\n",
      "           1       0.71      0.35      0.47      1073\n",
      "\n",
      "    accuracy                           0.72      3007\n",
      "   macro avg       0.72      0.64      0.64      3007\n",
      "weighted avg       0.72      0.72      0.69      3007\n",
      "\n"
     ]
    }
   ],
   "source": [
    "try:\n",
    "    model_dict = pd.read_pickle(\"random_search_fitted_models_\" + FILE_VERSION)\n",
    "    lr = model_dict[\"lr\"]\n",
    "    model_results(lr, dev_X, dev_Y, model_name=\"lr\")\n",
    "except:\n",
    "    pass"
   ]
  },
  {
   "cell_type": "code",
   "execution_count": 265,
   "metadata": {},
   "outputs": [],
   "source": [
    "# not sure if useful\n",
    "# precision, recall, thresholds = metrics.precision_recall_curve(test_Y, lr.predict_proba(test_X)[:, 1], pos_label=1)\n",
    "\n",
    "# metrics.plot_precision_recall_curve(lr, test_X, test_Y, response_method='predict_proba')"
   ]
  },
  {
   "cell_type": "code",
   "execution_count": 266,
   "metadata": {
    "id": "zLlnRF_s062y"
   },
   "outputs": [
    {
     "name": "stdout",
     "output_type": "stream",
     "text": [
      "Time taken (min): 0.0\n"
     ]
    }
   ],
   "source": [
    "end = datetime.now()\n",
    "time_taken(start, end)"
   ]
  },
  {
   "cell_type": "markdown",
   "metadata": {
    "id": "ug-A0ZPMDgZ7"
   },
   "source": [
    "# XGBoost"
   ]
  },
  {
   "cell_type": "code",
   "execution_count": 267,
   "metadata": {},
   "outputs": [],
   "source": [
    "start = datetime.now()"
   ]
  },
  {
   "cell_type": "code",
   "execution_count": 268,
   "metadata": {
    "id": "Z8k3ZsgjHNjC"
   },
   "outputs": [
    {
     "name": "stdout",
     "output_type": "stream",
     "text": [
      "[03:41:13] WARNING: ../src/learner.cc:1061: Starting in XGBoost 1.3.0, the default evaluation metric used with the objective 'binary:logistic' was changed from 'error' to 'logloss'. Explicitly set eval_metric if you'd like to restore the old behavior.\n"
     ]
    }
   ],
   "source": [
    "# build a classifier\n",
    "clf = XGBRFClassifier()\n",
    "\n",
    "# A parameter grid for XGBoost\n",
    "# https://www.kaggle.com/tilii7/hyperparameter-grid-search-with-xgboost\n",
    "param_dict = {\n",
    "        'min_child_weight': [1, 5, 10],\n",
    "        'gamma': [0.5, 1, 1.5, 2, 5],\n",
    "        'subsample': [0.6, 0.8, 1.0],\n",
    "        'colsample_bytree': [0.6, 0.8, 1.0],\n",
    "        'max_depth': [3, 4, 5]\n",
    "        }\n",
    "\n",
    "# run randomized search\n",
    "if run_models:\n",
    "    random_search_model = RandomizedSearchCV(clf, \n",
    "                                   param_distributions=param_dict,\n",
    "                                   n_iter=1, \n",
    "                                   scoring='roc_auc', \n",
    "                                   random_state=random_state,\n",
    "                                   cv=10, \n",
    "                                   n_jobs=-1)\n",
    "\n",
    "\n",
    "    # from sklearn.model_selection import GridSearchCV, RandomizedSearchCV\n",
    "    random_search_model.fit(X, Y)\n",
    "    model_dict[\"xgb\"] = random_search_model.best_estimator_\n",
    "    model_dict[\"file_params\"] = file_param_dict    \n",
    "    pickle.dump(model_dict, open(\"random_search_fitted_models_\" + FILE_VERSION, \"wb\"), protocol=3)"
   ]
  },
  {
   "cell_type": "code",
   "execution_count": 269,
   "metadata": {},
   "outputs": [],
   "source": [
    "model_dict = pd.read_pickle(\"random_search_fitted_models_\" + FILE_VERSION)\n",
    "xgb = model_dict[\"xgb\"]\n",
    "y_predict = lr.predict(test_X) "
   ]
  },
  {
   "cell_type": "code",
   "execution_count": 270,
   "metadata": {},
   "outputs": [
    {
     "name": "stdout",
     "output_type": "stream",
     "text": [
      "Testing results on test set\n",
      "----------------------------\n",
      "xgb:           ppv = 0.7169, npv = 0.7146 @ threshold = 0.4848\n",
      "\n",
      "Confusion Matrix:\n",
      "[[1793  141]\n",
      " [ 716  357]]\n",
      "\n",
      "roc_auc                : 0.75281\n",
      "average_precision_score: 0.62637\n",
      "balanced_accuracy_score: 0.6299\n",
      "Classification Report:\n",
      "              precision    recall  f1-score   support\n",
      "\n",
      "           0       0.71      0.93      0.81      1934\n",
      "           1       0.72      0.33      0.45      1073\n",
      "\n",
      "    accuracy                           0.71      3007\n",
      "   macro avg       0.72      0.63      0.63      3007\n",
      "weighted avg       0.72      0.71      0.68      3007\n",
      "\n"
     ]
    }
   ],
   "source": [
    "model_results(xgb, dev_X, dev_Y, model_name=\"xgb\")"
   ]
  },
  {
   "cell_type": "code",
   "execution_count": 271,
   "metadata": {},
   "outputs": [
    {
     "name": "stdout",
     "output_type": "stream",
     "text": [
      "Cross-validated testing on test set\n",
      "-----------------------------------\n",
      "[03:41:14] WARNING: ../src/learner.cc:1061: Starting in XGBoost 1.3.0, the default evaluation metric used with the objective 'binary:logistic' was changed from 'error' to 'logloss'. Explicitly set eval_metric if you'd like to restore the old behavior.\n",
      "[03:41:14] WARNING: ../src/learner.cc:1061: Starting in XGBoost 1.3.0, the default evaluation metric used with the objective 'binary:logistic' was changed from 'error' to 'logloss'. Explicitly set eval_metric if you'd like to restore the old behavior.\n",
      "[03:41:14] WARNING: ../src/learner.cc:1061: Starting in XGBoost 1.3.0, the default evaluation metric used with the objective 'binary:logistic' was changed from 'error' to 'logloss'. Explicitly set eval_metric if you'd like to restore the old behavior.\n",
      "[03:41:14] WARNING: ../src/learner.cc:1061: Starting in XGBoost 1.3.0, the default evaluation metric used with the objective 'binary:logistic' was changed from 'error' to 'logloss'. Explicitly set eval_metric if you'd like to restore the old behavior.\n",
      "[03:41:14] WARNING: ../src/learner.cc:1061: Starting in XGBoost 1.3.0, the default evaluation metric used with the objective 'binary:logistic' was changed from 'error' to 'logloss'. Explicitly set eval_metric if you'd like to restore the old behavior.\n",
      "[03:41:15] WARNING: ../src/learner.cc:1061: Starting in XGBoost 1.3.0, the default evaluation metric used with the objective 'binary:logistic' was changed from 'error' to 'logloss'. Explicitly set eval_metric if you'd like to restore the old behavior.\n",
      "[03:41:15] WARNING: ../src/learner.cc:1061: Starting in XGBoost 1.3.0, the default evaluation metric used with the objective 'binary:logistic' was changed from 'error' to 'logloss'. Explicitly set eval_metric if you'd like to restore the old behavior.\n",
      "[03:41:15] WARNING: ../src/learner.cc:1061: Starting in XGBoost 1.3.0, the default evaluation metric used with the objective 'binary:logistic' was changed from 'error' to 'logloss'. Explicitly set eval_metric if you'd like to restore the old behavior.\n",
      "[03:41:15] WARNING: ../src/learner.cc:1061: Starting in XGBoost 1.3.0, the default evaluation metric used with the objective 'binary:logistic' was changed from 'error' to 'logloss'. Explicitly set eval_metric if you'd like to restore the old behavior.\n",
      "[03:41:15] WARNING: ../src/learner.cc:1061: Starting in XGBoost 1.3.0, the default evaluation metric used with the objective 'binary:logistic' was changed from 'error' to 'logloss'. Explicitly set eval_metric if you'd like to restore the old behavior.\n",
      "[03:41:15] WARNING: ../src/learner.cc:1061: Starting in XGBoost 1.3.0, the default evaluation metric used with the objective 'binary:logistic' was changed from 'error' to 'logloss'. Explicitly set eval_metric if you'd like to restore the old behavior.\n",
      "[03:41:15] WARNING: ../src/learner.cc:1061: Starting in XGBoost 1.3.0, the default evaluation metric used with the objective 'binary:logistic' was changed from 'error' to 'logloss'. Explicitly set eval_metric if you'd like to restore the old behavior.\n",
      "[03:41:15] WARNING: ../src/learner.cc:1061: Starting in XGBoost 1.3.0, the default evaluation metric used with the objective 'binary:logistic' was changed from 'error' to 'logloss'. Explicitly set eval_metric if you'd like to restore the old behavior.\n",
      "[03:41:15] WARNING: ../src/learner.cc:1061: Starting in XGBoost 1.3.0, the default evaluation metric used with the objective 'binary:logistic' was changed from 'error' to 'logloss'. Explicitly set eval_metric if you'd like to restore the old behavior.\n",
      "[03:41:16] WARNING: ../src/learner.cc:1061: Starting in XGBoost 1.3.0, the default evaluation metric used with the objective 'binary:logistic' was changed from 'error' to 'logloss'. Explicitly set eval_metric if you'd like to restore the old behavior.\n"
     ]
    }
   ],
   "source": [
    "do_model_cross_val_score(xgb, dev_X, dev_Y, model_name=\"xgb\")"
   ]
  },
  {
   "cell_type": "code",
   "execution_count": 272,
   "metadata": {},
   "outputs": [
    {
     "name": "stdout",
     "output_type": "stream",
     "text": [
      "roc_auc:                 mean = 0.74941, std. dev = 0.02284\n",
      "balanced_accuracy_score: mean = 0.61807, std. dev = 0.01156\n",
      "precision / ppv:         mean = 0.74929, std. dev = 0.07548\n"
     ]
    }
   ],
   "source": [
    "model_cross_val_score(xgb, dev_X, dev_Y, model_name=\"xgb\")"
   ]
  },
  {
   "cell_type": "code",
   "execution_count": 273,
   "metadata": {
    "colab": {
     "base_uri": "https://localhost:8080/",
     "height": 669
    },
    "id": "DqyeGmeqZXnZ",
    "outputId": "36dc804f-a60b-4a0c-87dd-d4a9bc62411f"
   },
   "outputs": [],
   "source": [
    "# #Feature importance for top 50 predictors\n",
    "# predictors = [x for x in df_X_combined_dummies_ordered.columns]\n",
    "# feat_imp = pd.Series(xgb.best_estimator_.feature_importances_, predictors).sort_values(ascending=False)\n",
    "# feat_imp = feat_imp[0:50]\n",
    "# plt.rcParams['figure.figsize'] = 20, 5\n",
    "# feat_imp.plot(kind='bar', title='Feature Importance')\n",
    "# plt.ylabel('Feature Importance Score')"
   ]
  },
  {
   "cell_type": "code",
   "execution_count": 274,
   "metadata": {},
   "outputs": [
    {
     "name": "stdout",
     "output_type": "stream",
     "text": [
      "Time taken (min): 3.4\n"
     ]
    }
   ],
   "source": [
    "end = datetime.now()\n",
    "time_taken(start, end)"
   ]
  },
  {
   "cell_type": "markdown",
   "metadata": {},
   "source": [
    "# XGBoost with SMOTE"
   ]
  },
  {
   "cell_type": "code",
   "execution_count": 275,
   "metadata": {},
   "outputs": [],
   "source": [
    "# start = datetime.now()"
   ]
  },
  {
   "cell_type": "code",
   "execution_count": 276,
   "metadata": {},
   "outputs": [],
   "source": [
    "# # build a classifier\n",
    "# clf = XGBRFClassifier()\n",
    "# pipeline = make_pipeline(smt, clf)\n",
    "# # pipeline.get_params()\n",
    "\n",
    "# # A parameter grid for XGBoost\n",
    "# # https://www.kaggle.com/tilii7/hyperparameter-grid-search-with-xgboost\n",
    "# param_dict = {\n",
    "#         'xgbrfclassifier__min_child_weight': [1, 5, 10],\n",
    "#         'xgbrfclassifier__gamma': [0.5, 1, 1.5, 2, 5],\n",
    "#         'xgbrfclassifier__subsample': [0.6, 0.8, 1.0],\n",
    "#         'xgbrfclassifier__colsample_bytree': [0.6, 0.8, 1.0],\n",
    "#         'xgbrfclassifier__max_depth': [3, 4, 5]\n",
    "#         }\n",
    "\n",
    "# # run randomized search\n",
    "# if run_models:\n",
    "#     random_search_model = RandomizedSearchCV(pipeline, \n",
    "#                                    param_distributions=param_dict,\n",
    "#                                    n_iter=1, \n",
    "#                                    scoring=optimize_ppv_npv_scorer, \n",
    "#                                    random_state=random_state,\n",
    "#                                    cv=10, \n",
    "#                                    n_jobs=-1)\n",
    "\n",
    "\n",
    "#     # from sklearn.model_selection import GridSearchCV, RandomizedSearchCV\n",
    "#     random_search_model.fit(X, Y)\n",
    "#     model_dict[\"xgb_smote\"] = random_search_model.best_estimator_\n",
    "#     model_dict[\"file_params\"] = file_param_dict    \n",
    "#     pickle.dump(model_dict, open(\"random_search_fitted_models_\" + FILE_VERSION, \"wb\"), protocol=3)\n",
    "    \n",
    "# model_dict = pd.read_pickle(\"random_search_fitted_models_\" + FILE_VERSION)\n",
    "# xgb_smote = model_dict[\"xgb_smote\"]    "
   ]
  },
  {
   "cell_type": "code",
   "execution_count": 277,
   "metadata": {},
   "outputs": [],
   "source": [
    "# model_results(xgb_smote, dev_X, dev_Y, model_name=\"xgb_smote\")"
   ]
  },
  {
   "cell_type": "code",
   "execution_count": 278,
   "metadata": {},
   "outputs": [],
   "source": [
    "# end = datetime.now()\n",
    "# time_taken(start, end)"
   ]
  },
  {
   "cell_type": "markdown",
   "metadata": {
    "id": "j3RElmg55sOb"
   },
   "source": [
    "# Stacking"
   ]
  },
  {
   "cell_type": "markdown",
   "metadata": {},
   "source": [
    "### http://rasbt.github.io/mlxtend/user_guide/classifier/StackingCVClassifier/"
   ]
  },
  {
   "cell_type": "code",
   "execution_count": 279,
   "metadata": {},
   "outputs": [],
   "source": [
    "start = datetime.now()"
   ]
  },
  {
   "cell_type": "code",
   "execution_count": 280,
   "metadata": {},
   "outputs": [
    {
     "name": "stdout",
     "output_type": "stream",
     "text": [
      "[03:41:16] WARNING: ../src/learner.cc:1061: Starting in XGBoost 1.3.0, the default evaluation metric used with the objective 'binary:logistic' was changed from 'error' to 'logloss'. Explicitly set eval_metric if you'd like to restore the old behavior.\n",
      "[03:41:16] WARNING: ../src/learner.cc:1061: Starting in XGBoost 1.3.0, the default evaluation metric used with the objective 'binary:logistic' was changed from 'error' to 'logloss'. Explicitly set eval_metric if you'd like to restore the old behavior.\n",
      "[LightGBM] [Warning] min_data_in_leaf is set=10, min_child_samples=20 will be ignored. Current value: min_data_in_leaf=10\n",
      "[LightGBM] [Warning] min_data_in_leaf is set=10, min_child_samples=20 will be ignored. Current value: min_data_in_leaf=10\n",
      "[03:41:17] WARNING: ../src/learner.cc:1061: Starting in XGBoost 1.3.0, the default evaluation metric used with the objective 'binary:logistic' was changed from 'error' to 'logloss'. Explicitly set eval_metric if you'd like to restore the old behavior.\n",
      "[LightGBM] [Warning] min_data_in_leaf is set=10, min_child_samples=20 will be ignored. Current value: min_data_in_leaf=10\n",
      "[03:41:18] WARNING: ../src/learner.cc:1061: Starting in XGBoost 1.3.0, the default evaluation metric used with the objective 'binary:logistic' was changed from 'error' to 'logloss'. Explicitly set eval_metric if you'd like to restore the old behavior.\n"
     ]
    }
   ],
   "source": [
    "# classifiers, meta_classifier, use_probas=False, cv=2, \n",
    "# use_features_in_secondary=False, stratify=True, shuffle=True, verbose=0, store_train_meta_features=False, use_clones=True)\n",
    "\n",
    "model_dict = pd.read_pickle(\"random_search_fitted_models_\" + FILE_VERSION)\n",
    "# xgb = model_dict[\"xgb\"]\n",
    "lgbm = model_dict[\"lgbm\"]\n",
    "# knn = model_dict[\"knn\"]\n",
    "\n",
    "try:\n",
    "    knn = model_dict[\"knn\"]\n",
    "except:\n",
    "    knn = None\n",
    "\n",
    "try:\n",
    "    svc = model_dict[\"svc\"]\n",
    "except:\n",
    "    svc = None\n",
    "\n",
    "if run_models:\n",
    "    stack_gen_model = (StackingCVClassifier(classifiers=[xgb,\n",
    "                                                         lgbm],\n",
    "                                            meta_classifier=xgb,\n",
    "                                            use_features_in_secondary=False,\n",
    "                                            use_probas=True,\n",
    "                                            random_state=random_state))\n",
    "\n",
    "    stack_gen_model.fit(X, Y)\n",
    "    model_dict[\"stacking\"] = stack_gen_model\n",
    "    model_dict[\"file_params\"] = file_param_dict\n",
    "    pickle.dump(model_dict, open(\"random_search_fitted_models_\" + FILE_VERSION, \"wb\"), protocol=3)\n",
    "    \n",
    "model_dict = pd.read_pickle(\"random_search_fitted_models_\" + FILE_VERSION)\n",
    "stacking = model_dict[\"stacking\"]\n",
    "y_predict = stacking.predict(test_X) \n",
    "y_score = stacking.predict_proba(test_X)"
   ]
  },
  {
   "cell_type": "code",
   "execution_count": 281,
   "metadata": {},
   "outputs": [],
   "source": [
    "# # Compute ROC curve and ROC area for each class\n",
    "# n_classes = 2\n",
    "# fpr = dict()\n",
    "# tpr = dict()\n",
    "# roc_auc = dict()\n",
    "\n",
    "\n",
    "# fpr, tpr, _ = roc_curve(test_Y, y_score[:, 1])\n",
    "# roc_auc = auc(fpr, tpr)\n",
    "# roc_auc\n",
    "\n",
    "# # # Compute micro-average ROC curve and ROC area\n",
    "# # fpr[\"micro\"], tpr[\"micro\"], _ = roc_curve(test_Y.ravel(), y_score.ravel())\n",
    "# # roc_auc[\"micro\"] = auc(fpr[\"micro\"], tpr[\"micro\"])\n",
    "\n",
    "# # plt.figure()\n",
    "# # lw = 2\n",
    "# # plt.plot(fpr[2], tpr[2], color='darkorange',\n",
    "# #          lw=lw, label='ROC curve (area = %0.2f)' % roc_auc[2])\n",
    "# # plt.plot([0, 1], [0, 1], color='navy', lw=lw, linestyle='--')\n",
    "# # plt.xlim([0.0, 1.0])\n",
    "# # plt.ylim([0.0, 1.05])\n",
    "# # plt.xlabel('False Positive Rate')\n",
    "# # plt.ylabel('True Positive Rate')\n",
    "# # plt.title('Receiver operating characteristic example')\n",
    "# # plt.legend(loc=\"lower right\")\n",
    "# # plt.show()"
   ]
  },
  {
   "cell_type": "code",
   "execution_count": 282,
   "metadata": {},
   "outputs": [
    {
     "name": "stdout",
     "output_type": "stream",
     "text": [
      "Testing results on test set\n",
      "----------------------------\n",
      "stacking:      ppv = 0.725, npv = 0.7276 @ threshold = 0.4848\n",
      "\n",
      "Confusion Matrix:\n",
      "[[764  66]\n",
      " [286 174]]\n",
      "\n",
      "roc_auc                : 0.78609\n",
      "average_precision_score: 0.64696\n",
      "balanced_accuracy_score: 0.64937\n",
      "Classification Report:\n",
      "              precision    recall  f1-score   support\n",
      "\n",
      "           0       0.73      0.92      0.81       830\n",
      "           1       0.72      0.38      0.50       460\n",
      "\n",
      "    accuracy                           0.73      1290\n",
      "   macro avg       0.73      0.65      0.65      1290\n",
      "weighted avg       0.73      0.73      0.70      1290\n",
      "\n"
     ]
    }
   ],
   "source": [
    "model_results(stacking, test_X, test_Y, model_name=\"stacking\")"
   ]
  },
  {
   "cell_type": "code",
   "execution_count": 283,
   "metadata": {},
   "outputs": [
    {
     "name": "stdout",
     "output_type": "stream",
     "text": [
      "Cross-validated testing on test set\n",
      "-----------------------------------\n",
      "[03:41:19] WARNING: ../src/learner.cc:1061: Starting in XGBoost 1.3.0, the default evaluation metric used with the objective 'binary:logistic' was changed from 'error' to 'logloss'. Explicitly set eval_metric if you'd like to restore the old behavior.\n",
      "[03:41:19] WARNING: ../src/learner.cc:1061: Starting in XGBoost 1.3.0, the default evaluation metric used with the objective 'binary:logistic' was changed from 'error' to 'logloss'. Explicitly set eval_metric if you'd like to restore the old behavior.\n",
      "[LightGBM] [Warning] min_data_in_leaf is set=10, min_child_samples=20 will be ignored. Current value: min_data_in_leaf=10\n",
      "[LightGBM] [Warning] min_data_in_leaf is set=10, min_child_samples=20 will be ignored. Current value: min_data_in_leaf=10\n",
      "[03:41:20] WARNING: ../src/learner.cc:1061: Starting in XGBoost 1.3.0, the default evaluation metric used with the objective 'binary:logistic' was changed from 'error' to 'logloss'. Explicitly set eval_metric if you'd like to restore the old behavior.\n",
      "[LightGBM] [Warning] min_data_in_leaf is set=10, min_child_samples=20 will be ignored. Current value: min_data_in_leaf=10\n",
      "[03:41:20] WARNING: ../src/learner.cc:1061: Starting in XGBoost 1.3.0, the default evaluation metric used with the objective 'binary:logistic' was changed from 'error' to 'logloss'. Explicitly set eval_metric if you'd like to restore the old behavior.\n",
      "[03:41:20] WARNING: ../src/learner.cc:1061: Starting in XGBoost 1.3.0, the default evaluation metric used with the objective 'binary:logistic' was changed from 'error' to 'logloss'. Explicitly set eval_metric if you'd like to restore the old behavior.\n",
      "[03:41:20] WARNING: ../src/learner.cc:1061: Starting in XGBoost 1.3.0, the default evaluation metric used with the objective 'binary:logistic' was changed from 'error' to 'logloss'. Explicitly set eval_metric if you'd like to restore the old behavior.\n",
      "[LightGBM] [Warning] min_data_in_leaf is set=10, min_child_samples=20 will be ignored. Current value: min_data_in_leaf=10\n",
      "[LightGBM] [Warning] min_data_in_leaf is set=10, min_child_samples=20 will be ignored. Current value: min_data_in_leaf=10\n",
      "[03:41:21] WARNING: ../src/learner.cc:1061: Starting in XGBoost 1.3.0, the default evaluation metric used with the objective 'binary:logistic' was changed from 'error' to 'logloss'. Explicitly set eval_metric if you'd like to restore the old behavior.\n",
      "[LightGBM] [Warning] min_data_in_leaf is set=10, min_child_samples=20 will be ignored. Current value: min_data_in_leaf=10\n",
      "[03:41:21] WARNING: ../src/learner.cc:1061: Starting in XGBoost 1.3.0, the default evaluation metric used with the objective 'binary:logistic' was changed from 'error' to 'logloss'. Explicitly set eval_metric if you'd like to restore the old behavior.\n",
      "[03:41:21] WARNING: ../src/learner.cc:1061: Starting in XGBoost 1.3.0, the default evaluation metric used with the objective 'binary:logistic' was changed from 'error' to 'logloss'. Explicitly set eval_metric if you'd like to restore the old behavior.\n",
      "[03:41:21] WARNING: ../src/learner.cc:1061: Starting in XGBoost 1.3.0, the default evaluation metric used with the objective 'binary:logistic' was changed from 'error' to 'logloss'. Explicitly set eval_metric if you'd like to restore the old behavior.\n",
      "[LightGBM] [Warning] min_data_in_leaf is set=10, min_child_samples=20 will be ignored. Current value: min_data_in_leaf=10\n",
      "[LightGBM] [Warning] min_data_in_leaf is set=10, min_child_samples=20 will be ignored. Current value: min_data_in_leaf=10\n",
      "[03:41:22] WARNING: ../src/learner.cc:1061: Starting in XGBoost 1.3.0, the default evaluation metric used with the objective 'binary:logistic' was changed from 'error' to 'logloss'. Explicitly set eval_metric if you'd like to restore the old behavior.\n",
      "[LightGBM] [Warning] min_data_in_leaf is set=10, min_child_samples=20 will be ignored. Current value: min_data_in_leaf=10\n",
      "[03:41:22] WARNING: ../src/learner.cc:1061: Starting in XGBoost 1.3.0, the default evaluation metric used with the objective 'binary:logistic' was changed from 'error' to 'logloss'. Explicitly set eval_metric if you'd like to restore the old behavior.\n",
      "[03:41:22] WARNING: ../src/learner.cc:1061: Starting in XGBoost 1.3.0, the default evaluation metric used with the objective 'binary:logistic' was changed from 'error' to 'logloss'. Explicitly set eval_metric if you'd like to restore the old behavior.\n",
      "[03:41:22] WARNING: ../src/learner.cc:1061: Starting in XGBoost 1.3.0, the default evaluation metric used with the objective 'binary:logistic' was changed from 'error' to 'logloss'. Explicitly set eval_metric if you'd like to restore the old behavior.\n",
      "[LightGBM] [Warning] min_data_in_leaf is set=10, min_child_samples=20 will be ignored. Current value: min_data_in_leaf=10\n",
      "[LightGBM] [Warning] min_data_in_leaf is set=10, min_child_samples=20 will be ignored. Current value: min_data_in_leaf=10\n",
      "[03:41:23] WARNING: ../src/learner.cc:1061: Starting in XGBoost 1.3.0, the default evaluation metric used with the objective 'binary:logistic' was changed from 'error' to 'logloss'. Explicitly set eval_metric if you'd like to restore the old behavior.\n",
      "[LightGBM] [Warning] min_data_in_leaf is set=10, min_child_samples=20 will be ignored. Current value: min_data_in_leaf=10\n",
      "[03:41:23] WARNING: ../src/learner.cc:1061: Starting in XGBoost 1.3.0, the default evaluation metric used with the objective 'binary:logistic' was changed from 'error' to 'logloss'. Explicitly set eval_metric if you'd like to restore the old behavior.\n",
      "[03:41:23] WARNING: ../src/learner.cc:1061: Starting in XGBoost 1.3.0, the default evaluation metric used with the objective 'binary:logistic' was changed from 'error' to 'logloss'. Explicitly set eval_metric if you'd like to restore the old behavior.\n",
      "[03:41:23] WARNING: ../src/learner.cc:1061: Starting in XGBoost 1.3.0, the default evaluation metric used with the objective 'binary:logistic' was changed from 'error' to 'logloss'. Explicitly set eval_metric if you'd like to restore the old behavior.\n",
      "[LightGBM] [Warning] min_data_in_leaf is set=10, min_child_samples=20 will be ignored. Current value: min_data_in_leaf=10\n",
      "[LightGBM] [Warning] min_data_in_leaf is set=10, min_child_samples=20 will be ignored. Current value: min_data_in_leaf=10\n",
      "[03:41:24] WARNING: ../src/learner.cc:1061: Starting in XGBoost 1.3.0, the default evaluation metric used with the objective 'binary:logistic' was changed from 'error' to 'logloss'. Explicitly set eval_metric if you'd like to restore the old behavior.\n",
      "[LightGBM] [Warning] min_data_in_leaf is set=10, min_child_samples=20 will be ignored. Current value: min_data_in_leaf=10\n",
      "[03:41:24] WARNING: ../src/learner.cc:1061: Starting in XGBoost 1.3.0, the default evaluation metric used with the objective 'binary:logistic' was changed from 'error' to 'logloss'. Explicitly set eval_metric if you'd like to restore the old behavior.\n",
      "[03:41:24] WARNING: ../src/learner.cc:1061: Starting in XGBoost 1.3.0, the default evaluation metric used with the objective 'binary:logistic' was changed from 'error' to 'logloss'. Explicitly set eval_metric if you'd like to restore the old behavior.\n",
      "[03:41:24] WARNING: ../src/learner.cc:1061: Starting in XGBoost 1.3.0, the default evaluation metric used with the objective 'binary:logistic' was changed from 'error' to 'logloss'. Explicitly set eval_metric if you'd like to restore the old behavior.\n",
      "[LightGBM] [Warning] min_data_in_leaf is set=10, min_child_samples=20 will be ignored. Current value: min_data_in_leaf=10\n",
      "[LightGBM] [Warning] min_data_in_leaf is set=10, min_child_samples=20 will be ignored. Current value: min_data_in_leaf=10\n",
      "[03:41:24] WARNING: ../src/learner.cc:1061: Starting in XGBoost 1.3.0, the default evaluation metric used with the objective 'binary:logistic' was changed from 'error' to 'logloss'. Explicitly set eval_metric if you'd like to restore the old behavior.\n",
      "[LightGBM] [Warning] min_data_in_leaf is set=10, min_child_samples=20 will be ignored. Current value: min_data_in_leaf=10\n",
      "[03:41:25] WARNING: ../src/learner.cc:1061: Starting in XGBoost 1.3.0, the default evaluation metric used with the objective 'binary:logistic' was changed from 'error' to 'logloss'. Explicitly set eval_metric if you'd like to restore the old behavior.\n",
      "[03:41:25] WARNING: ../src/learner.cc:1061: Starting in XGBoost 1.3.0, the default evaluation metric used with the objective 'binary:logistic' was changed from 'error' to 'logloss'. Explicitly set eval_metric if you'd like to restore the old behavior.\n",
      "[03:41:25] WARNING: ../src/learner.cc:1061: Starting in XGBoost 1.3.0, the default evaluation metric used with the objective 'binary:logistic' was changed from 'error' to 'logloss'. Explicitly set eval_metric if you'd like to restore the old behavior.\n",
      "[LightGBM] [Warning] min_data_in_leaf is set=10, min_child_samples=20 will be ignored. Current value: min_data_in_leaf=10\n",
      "[LightGBM] [Warning] min_data_in_leaf is set=10, min_child_samples=20 will be ignored. Current value: min_data_in_leaf=10\n",
      "[03:41:26] WARNING: ../src/learner.cc:1061: Starting in XGBoost 1.3.0, the default evaluation metric used with the objective 'binary:logistic' was changed from 'error' to 'logloss'. Explicitly set eval_metric if you'd like to restore the old behavior.\n",
      "[LightGBM] [Warning] min_data_in_leaf is set=10, min_child_samples=20 will be ignored. Current value: min_data_in_leaf=10\n",
      "[03:41:26] WARNING: ../src/learner.cc:1061: Starting in XGBoost 1.3.0, the default evaluation metric used with the objective 'binary:logistic' was changed from 'error' to 'logloss'. Explicitly set eval_metric if you'd like to restore the old behavior.\n",
      "[03:41:26] WARNING: ../src/learner.cc:1061: Starting in XGBoost 1.3.0, the default evaluation metric used with the objective 'binary:logistic' was changed from 'error' to 'logloss'. Explicitly set eval_metric if you'd like to restore the old behavior.\n",
      "[03:41:26] WARNING: ../src/learner.cc:1061: Starting in XGBoost 1.3.0, the default evaluation metric used with the objective 'binary:logistic' was changed from 'error' to 'logloss'. Explicitly set eval_metric if you'd like to restore the old behavior.\n",
      "[LightGBM] [Warning] min_data_in_leaf is set=10, min_child_samples=20 will be ignored. Current value: min_data_in_leaf=10\n",
      "[LightGBM] [Warning] min_data_in_leaf is set=10, min_child_samples=20 will be ignored. Current value: min_data_in_leaf=10\n",
      "[03:41:27] WARNING: ../src/learner.cc:1061: Starting in XGBoost 1.3.0, the default evaluation metric used with the objective 'binary:logistic' was changed from 'error' to 'logloss'. Explicitly set eval_metric if you'd like to restore the old behavior.\n",
      "[LightGBM] [Warning] min_data_in_leaf is set=10, min_child_samples=20 will be ignored. Current value: min_data_in_leaf=10\n",
      "[03:41:27] WARNING: ../src/learner.cc:1061: Starting in XGBoost 1.3.0, the default evaluation metric used with the objective 'binary:logistic' was changed from 'error' to 'logloss'. Explicitly set eval_metric if you'd like to restore the old behavior.\n",
      "[03:41:27] WARNING: ../src/learner.cc:1061: Starting in XGBoost 1.3.0, the default evaluation metric used with the objective 'binary:logistic' was changed from 'error' to 'logloss'. Explicitly set eval_metric if you'd like to restore the old behavior.\n",
      "[03:41:27] WARNING: ../src/learner.cc:1061: Starting in XGBoost 1.3.0, the default evaluation metric used with the objective 'binary:logistic' was changed from 'error' to 'logloss'. Explicitly set eval_metric if you'd like to restore the old behavior.\n",
      "[LightGBM] [Warning] min_data_in_leaf is set=10, min_child_samples=20 will be ignored. Current value: min_data_in_leaf=10\n",
      "[LightGBM] [Warning] min_data_in_leaf is set=10, min_child_samples=20 will be ignored. Current value: min_data_in_leaf=10\n",
      "[03:41:27] WARNING: ../src/learner.cc:1061: Starting in XGBoost 1.3.0, the default evaluation metric used with the objective 'binary:logistic' was changed from 'error' to 'logloss'. Explicitly set eval_metric if you'd like to restore the old behavior.\n",
      "[LightGBM] [Warning] min_data_in_leaf is set=10, min_child_samples=20 will be ignored. Current value: min_data_in_leaf=10\n",
      "[03:41:28] WARNING: ../src/learner.cc:1061: Starting in XGBoost 1.3.0, the default evaluation metric used with the objective 'binary:logistic' was changed from 'error' to 'logloss'. Explicitly set eval_metric if you'd like to restore the old behavior.\n",
      "[03:41:28] WARNING: ../src/learner.cc:1061: Starting in XGBoost 1.3.0, the default evaluation metric used with the objective 'binary:logistic' was changed from 'error' to 'logloss'. Explicitly set eval_metric if you'd like to restore the old behavior.\n",
      "[03:41:28] WARNING: ../src/learner.cc:1061: Starting in XGBoost 1.3.0, the default evaluation metric used with the objective 'binary:logistic' was changed from 'error' to 'logloss'. Explicitly set eval_metric if you'd like to restore the old behavior.\n",
      "[LightGBM] [Warning] min_data_in_leaf is set=10, min_child_samples=20 will be ignored. Current value: min_data_in_leaf=10\n",
      "[LightGBM] [Warning] min_data_in_leaf is set=10, min_child_samples=20 will be ignored. Current value: min_data_in_leaf=10\n",
      "[03:41:29] WARNING: ../src/learner.cc:1061: Starting in XGBoost 1.3.0, the default evaluation metric used with the objective 'binary:logistic' was changed from 'error' to 'logloss'. Explicitly set eval_metric if you'd like to restore the old behavior.\n",
      "[LightGBM] [Warning] min_data_in_leaf is set=10, min_child_samples=20 will be ignored. Current value: min_data_in_leaf=10\n",
      "[03:41:30] WARNING: ../src/learner.cc:1061: Starting in XGBoost 1.3.0, the default evaluation metric used with the objective 'binary:logistic' was changed from 'error' to 'logloss'. Explicitly set eval_metric if you'd like to restore the old behavior.\n",
      "[03:41:30] WARNING: ../src/learner.cc:1061: Starting in XGBoost 1.3.0, the default evaluation metric used with the objective 'binary:logistic' was changed from 'error' to 'logloss'. Explicitly set eval_metric if you'd like to restore the old behavior.\n",
      "[03:41:30] WARNING: ../src/learner.cc:1061: Starting in XGBoost 1.3.0, the default evaluation metric used with the objective 'binary:logistic' was changed from 'error' to 'logloss'. Explicitly set eval_metric if you'd like to restore the old behavior.\n",
      "[LightGBM] [Warning] min_data_in_leaf is set=10, min_child_samples=20 will be ignored. Current value: min_data_in_leaf=10\n",
      "[LightGBM] [Warning] min_data_in_leaf is set=10, min_child_samples=20 will be ignored. Current value: min_data_in_leaf=10\n",
      "[03:41:30] WARNING: ../src/learner.cc:1061: Starting in XGBoost 1.3.0, the default evaluation metric used with the objective 'binary:logistic' was changed from 'error' to 'logloss'. Explicitly set eval_metric if you'd like to restore the old behavior.\n",
      "[LightGBM] [Warning] min_data_in_leaf is set=10, min_child_samples=20 will be ignored. Current value: min_data_in_leaf=10\n",
      "[03:41:31] WARNING: ../src/learner.cc:1061: Starting in XGBoost 1.3.0, the default evaluation metric used with the objective 'binary:logistic' was changed from 'error' to 'logloss'. Explicitly set eval_metric if you'd like to restore the old behavior.\n",
      "[03:41:31] WARNING: ../src/learner.cc:1061: Starting in XGBoost 1.3.0, the default evaluation metric used with the objective 'binary:logistic' was changed from 'error' to 'logloss'. Explicitly set eval_metric if you'd like to restore the old behavior.\n",
      "[03:41:31] WARNING: ../src/learner.cc:1061: Starting in XGBoost 1.3.0, the default evaluation metric used with the objective 'binary:logistic' was changed from 'error' to 'logloss'. Explicitly set eval_metric if you'd like to restore the old behavior.\n",
      "[LightGBM] [Warning] min_data_in_leaf is set=10, min_child_samples=20 will be ignored. Current value: min_data_in_leaf=10\n",
      "[LightGBM] [Warning] min_data_in_leaf is set=10, min_child_samples=20 will be ignored. Current value: min_data_in_leaf=10\n",
      "[03:41:31] WARNING: ../src/learner.cc:1061: Starting in XGBoost 1.3.0, the default evaluation metric used with the objective 'binary:logistic' was changed from 'error' to 'logloss'. Explicitly set eval_metric if you'd like to restore the old behavior.\n",
      "[LightGBM] [Warning] min_data_in_leaf is set=10, min_child_samples=20 will be ignored. Current value: min_data_in_leaf=10\n",
      "[03:41:32] WARNING: ../src/learner.cc:1061: Starting in XGBoost 1.3.0, the default evaluation metric used with the objective 'binary:logistic' was changed from 'error' to 'logloss'. Explicitly set eval_metric if you'd like to restore the old behavior.\n",
      "[03:41:32] WARNING: ../src/learner.cc:1061: Starting in XGBoost 1.3.0, the default evaluation metric used with the objective 'binary:logistic' was changed from 'error' to 'logloss'. Explicitly set eval_metric if you'd like to restore the old behavior.\n",
      "[03:41:32] WARNING: ../src/learner.cc:1061: Starting in XGBoost 1.3.0, the default evaluation metric used with the objective 'binary:logistic' was changed from 'error' to 'logloss'. Explicitly set eval_metric if you'd like to restore the old behavior.\n",
      "[LightGBM] [Warning] min_data_in_leaf is set=10, min_child_samples=20 will be ignored. Current value: min_data_in_leaf=10\n",
      "[LightGBM] [Warning] min_data_in_leaf is set=10, min_child_samples=20 will be ignored. Current value: min_data_in_leaf=10\n",
      "[03:41:32] WARNING: ../src/learner.cc:1061: Starting in XGBoost 1.3.0, the default evaluation metric used with the objective 'binary:logistic' was changed from 'error' to 'logloss'. Explicitly set eval_metric if you'd like to restore the old behavior.\n",
      "[LightGBM] [Warning] min_data_in_leaf is set=10, min_child_samples=20 will be ignored. Current value: min_data_in_leaf=10\n",
      "[03:41:32] WARNING: ../src/learner.cc:1061: Starting in XGBoost 1.3.0, the default evaluation metric used with the objective 'binary:logistic' was changed from 'error' to 'logloss'. Explicitly set eval_metric if you'd like to restore the old behavior.\n",
      "[03:41:33] WARNING: ../src/learner.cc:1061: Starting in XGBoost 1.3.0, the default evaluation metric used with the objective 'binary:logistic' was changed from 'error' to 'logloss'. Explicitly set eval_metric if you'd like to restore the old behavior.\n",
      "[03:41:33] WARNING: ../src/learner.cc:1061: Starting in XGBoost 1.3.0, the default evaluation metric used with the objective 'binary:logistic' was changed from 'error' to 'logloss'. Explicitly set eval_metric if you'd like to restore the old behavior.\n",
      "[LightGBM] [Warning] min_data_in_leaf is set=10, min_child_samples=20 will be ignored. Current value: min_data_in_leaf=10\n",
      "[LightGBM] [Warning] min_data_in_leaf is set=10, min_child_samples=20 will be ignored. Current value: min_data_in_leaf=10\n",
      "[03:41:33] WARNING: ../src/learner.cc:1061: Starting in XGBoost 1.3.0, the default evaluation metric used with the objective 'binary:logistic' was changed from 'error' to 'logloss'. Explicitly set eval_metric if you'd like to restore the old behavior.\n",
      "[LightGBM] [Warning] min_data_in_leaf is set=10, min_child_samples=20 will be ignored. Current value: min_data_in_leaf=10\n",
      "[03:41:33] WARNING: ../src/learner.cc:1061: Starting in XGBoost 1.3.0, the default evaluation metric used with the objective 'binary:logistic' was changed from 'error' to 'logloss'. Explicitly set eval_metric if you'd like to restore the old behavior.\n",
      "[03:41:34] WARNING: ../src/learner.cc:1061: Starting in XGBoost 1.3.0, the default evaluation metric used with the objective 'binary:logistic' was changed from 'error' to 'logloss'. Explicitly set eval_metric if you'd like to restore the old behavior.\n",
      "[03:41:34] WARNING: ../src/learner.cc:1061: Starting in XGBoost 1.3.0, the default evaluation metric used with the objective 'binary:logistic' was changed from 'error' to 'logloss'. Explicitly set eval_metric if you'd like to restore the old behavior.\n",
      "[LightGBM] [Warning] min_data_in_leaf is set=10, min_child_samples=20 will be ignored. Current value: min_data_in_leaf=10\n",
      "[LightGBM] [Warning] min_data_in_leaf is set=10, min_child_samples=20 will be ignored. Current value: min_data_in_leaf=10\n",
      "[03:41:34] WARNING: ../src/learner.cc:1061: Starting in XGBoost 1.3.0, the default evaluation metric used with the objective 'binary:logistic' was changed from 'error' to 'logloss'. Explicitly set eval_metric if you'd like to restore the old behavior.\n",
      "[LightGBM] [Warning] min_data_in_leaf is set=10, min_child_samples=20 will be ignored. Current value: min_data_in_leaf=10\n",
      "[03:41:34] WARNING: ../src/learner.cc:1061: Starting in XGBoost 1.3.0, the default evaluation metric used with the objective 'binary:logistic' was changed from 'error' to 'logloss'. Explicitly set eval_metric if you'd like to restore the old behavior.\n",
      "roc_auc:                 mean = nan, std. dev = nan\n",
      "balanced_accuracy_score: mean = 0.59597, std. dev = 0.03624\n",
      "precision / ppv:         mean = 0.54878, std. dev = 0.04004\n"
     ]
    }
   ],
   "source": [
    "do_model_cross_val_score(stacking, test_X, test_Y, model_name=\"stacking\")\n",
    "model_cross_val_score(stacking, test_X, test_Y, model_name=\"stacking\")"
   ]
  },
  {
   "cell_type": "code",
   "execution_count": 284,
   "metadata": {},
   "outputs": [
    {
     "name": "stdout",
     "output_type": "stream",
     "text": [
      "Time taken (min): 0.3\n"
     ]
    }
   ],
   "source": [
    "end = datetime.now()\n",
    "time_taken(start, end)"
   ]
  },
  {
   "cell_type": "markdown",
   "metadata": {},
   "source": [
    "# VotingClassifier"
   ]
  },
  {
   "cell_type": "code",
   "execution_count": 285,
   "metadata": {},
   "outputs": [],
   "source": [
    "start = datetime.now()"
   ]
  },
  {
   "cell_type": "code",
   "execution_count": 286,
   "metadata": {
    "id": "Efv12Vc6ijNT"
   },
   "outputs": [],
   "source": [
    "# if run_models:\n",
    "#     vc_clf = (VotingClassifier(estimators=[(\"xbg\", model_dict[\"xgb\"]), \n",
    "#                                            (\"lightgbm\", model_dict[\"lgbm\"]),\n",
    "#                                           (\"stacking\", model_dict[\"stacking\"])],\n",
    "#                                            voting=\"soft\",\n",
    "#                                            flatten_transform=False))\n",
    "\n",
    "#     vc_fit = vc_clf.fit(dev_X, dev_Y)\n",
    "#     model_dict[\"voting_clf\"] = vc_fit\n",
    "#     model_dict[\"file_params\"] = file_param_dict\n",
    "#     pickle.dump(model_dict, open(\"random_search_fitted_models_\" + FILE_VERSION, \"wb\"), protocol=3)\n",
    "\n",
    "# model_dict = pd.read_pickle(\"random_search_fitted_models_\" + FILE_VERSION)\n",
    "# voting_clf = model_dict[\"voting_clf\"]\n",
    "# y_predict = voting_clf.predict(test_X) \n",
    "# y_score = voting_clf.predict_proba(test_X)"
   ]
  },
  {
   "cell_type": "code",
   "execution_count": 287,
   "metadata": {},
   "outputs": [],
   "source": [
    "# model_results(voting_clf, test_X, test_Y, model_name=\"voting_clf\")\n",
    "# # find_roc_auc(vc_fit, test_X, test_Y)"
   ]
  },
  {
   "cell_type": "code",
   "execution_count": 288,
   "metadata": {},
   "outputs": [
    {
     "name": "stdout",
     "output_type": "stream",
     "text": [
      "Time taken (min): 0.0\n"
     ]
    }
   ],
   "source": [
    "end = datetime.now()\n",
    "time_taken(start, end)"
   ]
  },
  {
   "cell_type": "markdown",
   "metadata": {},
   "source": [
    "# Blending"
   ]
  },
  {
   "cell_type": "code",
   "execution_count": 289,
   "metadata": {},
   "outputs": [],
   "source": [
    "# use lighgbm and xgboost trained on Train to predict on Test 1 to obtain 2 x (y_pred, y_pred_proba*)\n",
    "# now train meta classifier (xgboost) on 2 x (y_pred, y_pred_proba*) and test1_y\n",
    "\n",
    "\n",
    "\n",
    "# use lighgbm and xgboost trained on Train to predict on Test 2 to obtain 2 x (y_pred, y_pred_proba*)\n",
    "# now test meta classifier (xgboost) on 2 x (y_pred, y_pred_proba*) and test2_y"
   ]
  },
  {
   "cell_type": "code",
   "execution_count": 290,
   "metadata": {},
   "outputs": [
    {
     "ename": "NameError",
     "evalue": "name 'lgbm_pred_test' is not defined",
     "output_type": "error",
     "traceback": [
      "\u001b[0;31m---------------------------------------------------------------------------\u001b[0m",
      "\u001b[0;31mNameError\u001b[0m                                 Traceback (most recent call last)",
      "\u001b[0;32m<ipython-input-290-45dbf90e0b11>\u001b[0m in \u001b[0;36m<module>\u001b[0;34m\u001b[0m\n\u001b[1;32m      8\u001b[0m \u001b[0;34m\u001b[0m\u001b[0m\n\u001b[1;32m      9\u001b[0m \u001b[0;31m# without inversion\u001b[0m\u001b[0;34m\u001b[0m\u001b[0;34m\u001b[0m\u001b[0;34m\u001b[0m\u001b[0m\n\u001b[0;32m---> 10\u001b[0;31m \u001b[0mmeta_input_arrays_test\u001b[0m \u001b[0;34m=\u001b[0m \u001b[0;34m[\u001b[0m\u001b[0mlgbm_pred_test\u001b[0m\u001b[0;34m,\u001b[0m \u001b[0mxgb_pred_test\u001b[0m\u001b[0;34m,\u001b[0m \u001b[0mlgbm_pred_proba_test\u001b[0m\u001b[0;34m[\u001b[0m\u001b[0;34m:\u001b[0m\u001b[0;34m,\u001b[0m \u001b[0;36m0\u001b[0m\u001b[0;34m]\u001b[0m\u001b[0;34m,\u001b[0m \u001b[0mxgb_pred_proba_test\u001b[0m\u001b[0;34m[\u001b[0m\u001b[0;34m:\u001b[0m\u001b[0;34m,\u001b[0m \u001b[0;36m0\u001b[0m\u001b[0;34m]\u001b[0m\u001b[0;34m]\u001b[0m\u001b[0;34m\u001b[0m\u001b[0;34m\u001b[0m\u001b[0m\n\u001b[0m\u001b[1;32m     11\u001b[0m \u001b[0;34m\u001b[0m\u001b[0m\n\u001b[1;32m     12\u001b[0m \u001b[0;34m\u001b[0m\u001b[0m\n",
      "\u001b[0;31mNameError\u001b[0m: name 'lgbm_pred_test' is not defined"
     ]
    }
   ],
   "source": [
    "lgbm = model_dict[\"lgbm\"]\n",
    "xgb = model_dict[\"xgb\"]\n",
    "\n",
    "lgbm_pred_dev = lgbm.predict(dev_X)\n",
    "lgbm_pred_proba_dev = lgbm.predict_proba(dev_X)\n",
    "xgb_pred_dev = xgb.predict(dev_X)\n",
    "xgb_pred_proba_dev = xgb.predict_proba(dev_X)\n",
    "\n",
    "# without inversion\n",
    "meta_input_arrays_test = [lgbm_pred_test, xgb_pred_test, lgbm_pred_proba_test[:, 0], xgb_pred_proba_test[:, 0]]\n",
    "\n",
    "\n",
    "# meta_input_arrays_dev = [lgbm_pred_dev, xgb_pred_dev, np.max(lgbm_pred_proba_dev, axis=1), np.max(xgb_pred_proba_dev, axis=1)]\n",
    "meta_input_dev = np.transpose(np.vstack([meta_input_arrays_dev]))\n",
    "meta_input_dev.shape"
   ]
  },
  {
   "cell_type": "code",
   "execution_count": null,
   "metadata": {},
   "outputs": [],
   "source": [
    "# train meta-classifier\n",
    "\n",
    "param_dict = {\n",
    "    'learning_rate': [0.05],\n",
    "    'num_leaves': [90,200],\n",
    "    'boosting_type' : ['gbdt'],\n",
    "    'objective' : ['binary'],\n",
    "    'max_depth' : [5,6,7,8],\n",
    "    'random_state' : [501], \n",
    "    'colsample_bytree' : [0.5,0.7],\n",
    "    'subsample' : [0.5,0.7],\n",
    "    'min_split_gain' : [0.01],\n",
    "    'min_data_in_leaf':[10],\n",
    "    'class_weight' :['balanced', 'None']\n",
    "#     'metric':['auc']\n",
    "    }\n",
    "#modelling\n",
    "# meta_clf = lightgbm.LGBMClassifier()\n",
    "\n",
    "clf = lightgbm.LGBMClassifier()\n",
    "meta_clf = (RandomizedSearchCV(clf, \n",
    "                           param_dict, \n",
    "                           verbose=1, \n",
    "                           cv=10, \n",
    "                           n_jobs = -1, \n",
    "                           random_state=random_state,\n",
    "                           n_iter=10,\n",
    "                           scoring=\"roc_auc\"))\n",
    "\n",
    "meta_clf.fit(meta_input_dev, dev_Y)\n",
    "model_dict[\"meta_clf\"] = meta_clf\n",
    "model_dict[\"file_params\"] = file_param_dict\n",
    "pickle.dump(model_dict, open(\"random_search_fitted_models_\" + FILE_VERSION, \"wb\"), protocol=3)\n",
    "\n"
   ]
  },
  {
   "cell_type": "code",
   "execution_count": null,
   "metadata": {},
   "outputs": [],
   "source": [
    "model_results(model_dict[\"meta_clf\"], meta_input_test, test_Y, \"meta\")"
   ]
  },
  {
   "cell_type": "code",
   "execution_count": null,
   "metadata": {},
   "outputs": [],
   "source": [
    "do_model_cross_val_score(model_dict[\"meta_clf\"], meta_input_test, test_Y, \"meta\")\n",
    "model_cross_val_score(model_dict[\"meta_clf\"], meta_input_test, test_Y, \"meta\")\n",
    "\n"
   ]
  },
  {
   "cell_type": "markdown",
   "metadata": {},
   "source": [
    "# PPV-NPV curve\n"
   ]
  },
  {
   "cell_type": "code",
   "execution_count": null,
   "metadata": {},
   "outputs": [],
   "source": [
    "def ppv_npv_opt_th(y_true=np.array([1,0,1]), y_predict_proba=np.array([0.5, 0.25, 0.3])):\n",
    "    \"\"\"\n",
    "    Inputs: y_true labels and prediction scores\n",
    "    Outputs: optimized positive predictive value and negative predictive values per this reference\n",
    "    https://arxiv.org/pdf/2007.05073.pdf\n",
    "    \"\"\"\n",
    "    min_ppv_npv_list = []\n",
    "    th_list = np.linspace(0, 1, 100)\n",
    "    for th in th_list:\n",
    "        y_predict = 1 * (y_predict_proba > th)\n",
    "        tn, fp, fn, tp = confusion_matrix(y_true, y_predict).ravel()\n",
    "        ppv = tp / (tp + fp) \n",
    "        npv = tn / (fn + tn)\n",
    "        min_ppv_npv = np.min(np.nan_to_num(np.array((ppv, npv))))\n",
    "        min_ppv_npv_list.append(min_ppv_npv)\n",
    "    max_ppv_npv = np.nanmax(np.array(min_ppv_npv_list))\n",
    "    opt_th_index = np.array(min_ppv_npv_list).argmax(axis=0)\n",
    "    opt_th = th_list[opt_th_index]\n",
    "    opt_y_predict = 1 * (y_predict_proba > opt_th)\n",
    "    opt_tn, opt_fp, opt_fn, opt_tp = confusion_matrix(y_true, opt_y_predict).ravel()\n",
    "    opt_ppv = opt_tp / (opt_tp + opt_fp) \n",
    "    opt_npv = opt_tn / (opt_fn + opt_tn)\n",
    "    return opt_ppv, opt_npv, round(opt_th, 4)\n",
    "ppv_npv_opt_th()"
   ]
  },
  {
   "cell_type": "code",
   "execution_count": null,
   "metadata": {},
   "outputs": [],
   "source": [
    "blender = model_dict[\"meta_clf\"]\n",
    "\n",
    "y_predict_proba = blender.predict_proba(meta_input_test)[:, 1]\n",
    "y_true = test_Y\n",
    "ppv = []\n",
    "npv = []\n",
    "th_list = np.linspace(0, 1, 100)\n",
    "for th in th_list:\n",
    "    y_predict = 1 * (y_predict_proba > th)\n",
    "    tn, fp, fn, tp = confusion_matrix(y_true, y_predict).ravel()\n",
    "    ppv_ = tp / (tp + fp) \n",
    "    npv_ = tn / (fn + tn)\n",
    "    ppv.append(ppv_)\n",
    "    npv.append(npv_)\n",
    "ppv_array = np.array(ppv)\n",
    "npv_array = np.array(npv)\n",
    "th_array = np.array(th_list)\n",
    "plt.plot(th_array, ppv_array)\n",
    "plt.plot(th_array, npv_array)"
   ]
  },
  {
   "cell_type": "code",
   "execution_count": null,
   "metadata": {},
   "outputs": [],
   "source": [
    "# ppv_array"
   ]
  },
  {
   "cell_type": "code",
   "execution_count": null,
   "metadata": {},
   "outputs": [],
   "source": [
    "np.min(np.nan_to_num(np.array((ppv, npv))))\n"
   ]
  },
  {
   "cell_type": "code",
   "execution_count": null,
   "metadata": {},
   "outputs": [],
   "source": [
    "# np.nan_to_num(np.array((ppv, npv)))"
   ]
  },
  {
   "cell_type": "code",
   "execution_count": null,
   "metadata": {},
   "outputs": [],
   "source": [
    "np.array((ppv, npv)).shape"
   ]
  },
  {
   "cell_type": "code",
   "execution_count": null,
   "metadata": {},
   "outputs": [],
   "source": [
    "# npv"
   ]
  },
  {
   "cell_type": "markdown",
   "metadata": {},
   "source": [
    "# Model Comparison"
   ]
  },
  {
   "cell_type": "code",
   "execution_count": null,
   "metadata": {},
   "outputs": [],
   "source": [
    "model_dict.keys()"
   ]
  },
  {
   "cell_type": "code",
   "execution_count": null,
   "metadata": {},
   "outputs": [],
   "source": [
    "svc"
   ]
  },
  {
   "cell_type": "code",
   "execution_count": null,
   "metadata": {},
   "outputs": [],
   "source": [
    "\n",
    "print(\"ppv and npv on Test:\")\n",
    "for model in model_dict.keys():\n",
    "    if model not in [\"knn\", \"file_params\", \"lgbm_autoencoder\", \"svc_second_level\", \"lgbm_second_level\", \"lgbm_results\", \"lgbm_smote_results\", \"stacking_results\", \"meta_clf\", \"meta_results\"]:\n",
    "#         print(model)\n",
    "        y_predict_proba = model_dict[model].predict_proba(test_X)[:, 1]\n",
    "        pv = ppv_npv_opt_th(test_Y, y_predict_proba)\n",
    "        print(\"{}: {}ppv = {}, npv = {} @ threshold = {}\".format(model, \" \"*(13 - len(model)), round(pv[0], 4), round(pv[1], 4), round(pv[2], 4)))\n",
    "    \n",
    "print(\"=========================================\")\n",
    "print(\"ROC_AUC on Test\")\n",
    "for model in model_dict.keys():\n",
    "    if model not in [\"knn\", \"file_params\", \"lgbm_autoencoder\", \"svc_second_level\", \"lgbm_second_level\", \"lgbm_results\", \"lgbm_smote_results\", \"stacking_results\", \"meta_clf\", \"meta_results\"]:\n",
    "        y_predict = model_dict[model].predict(test_X)\n",
    "        print(\"{}:{}{}\".format(model, \" \"*(13 - len(model)), find_roc_auc(model_dict.get(model), test_X, test_Y)))"
   ]
  },
  {
   "cell_type": "code",
   "execution_count": null,
   "metadata": {},
   "outputs": [],
   "source": [
    "print(\"ppv and npv on Dev:\")\n",
    "for model in model_dict.keys():\n",
    "    if model not in [\"knn\", \"file_params\", \"lgbm_autoencoder\", \"svc_second_level\", \"lgbm_second_level\", \"lgbm_results\", \"lgbm_smote_results\", \"stacking_results\", \"meta_clf\", \"meta_results\"]:\n",
    "        y_predict_proba = model_dict[model].predict_proba(dev_X)[:, 1]\n",
    "        pv = ppv_npv_opt_th(dev_Y, y_predict_proba)\n",
    "        print(\"{}: {}ppv = {}, npv = {} @ threshold = {}\".format(model, \" \"*(13 - len(model)), round(pv[0], 4), round(pv[1], 4), round(pv[2], 4)))\n",
    "\n",
    "print(\"=========================================\")\n",
    "print(\"ROC_AUC on Dev\")\n",
    "for model in model_dict.keys():\n",
    "    if model not in [\"knn\", \"file_params\", \"lgbm_autoencoder\", \"svc_second_level\", \"lgbm_second_level\", \"lgbm_results\", \"lgbm_smote_results\", \"stacking_results\", \"meta_clf\", \"meta_results\"]:\n",
    "        print(\"{}:{}{}\".format(model, \" \"*(13 - len(model)), find_roc_auc(model_dict.get(model), dev_X, dev_Y)))"
   ]
  },
  {
   "cell_type": "code",
   "execution_count": null,
   "metadata": {},
   "outputs": [],
   "source": [
    "print(\"ppv and npv on Train:\")\n",
    "for model in model_dict.keys():\n",
    "    if model not in [\"knn\", \"file_params\", \"lgbm_autoencoder\", \"svc_second_level\", \"lgbm_second_level\", \"lgbm_results\", \"lgbm_smote_results\", \"stacking_results\", \"meta_clf\", \"meta_results\"]:\n",
    "        y_predict_proba = model_dict[model].predict_proba(X)[:, 1]\n",
    "        pv = ppv_npv_opt_th(Y, y_predict_proba)\n",
    "        print(\"{}: {}ppv = {}, npv = {} @ threshold = {}\".format(model, \" \"*(13 - len(model)), round(pv[0], 4), round(pv[1], 4), round(pv[2], 4)))\n",
    "\n",
    "print(\"=========================================\")\n",
    "print(\"ROC_AUC on Training\")\n",
    "for model in model_dict.keys():\n",
    "    if model not in [\"knn\", \"file_params\", \"lgbm_autoencoder\", \"svc_second_level\", \"lgbm_second_level\", \"lgbm_results\", \"lgbm_smote_results\", \"stacking_results\", \"meta_clf\", \"meta_results\"]:\n",
    "        print(\"{}:{}{}\".format(model, \" \"*(13 - len(model)), find_roc_auc(model_dict.get(model), X, Y)))"
   ]
  },
  {
   "cell_type": "markdown",
   "metadata": {},
   "source": [
    "# Residual Analysis"
   ]
  },
  {
   "cell_type": "code",
   "execution_count": null,
   "metadata": {},
   "outputs": [],
   "source": [
    "\"Index\" in df_test.columns"
   ]
  },
  {
   "cell_type": "code",
   "execution_count": null,
   "metadata": {},
   "outputs": [],
   "source": [
    "array1 = np.array(df_test)\n",
    "model = \"lgbm\"\n",
    "y_predict = model_dict[model].predict(test_X)\n",
    "array2 = y_predict.reshape(y_predict.shape[0],1)\n",
    "array3 = np.hstack((array1, array2))\n",
    "df_pred = pd.DataFrame(array3, columns = list(df_test.columns) + [\"predictions\"])\n",
    "df_pred.head()"
   ]
  },
  {
   "cell_type": "code",
   "execution_count": null,
   "metadata": {},
   "outputs": [],
   "source": [
    "# false negatives\n",
    "\n",
    "df_fn = df_pred[(df_pred.predictions == 0) & (df_pred.cwa_determination == 1)]\n",
    "df_fn.head()\n",
    "\n",
    "# true negatives\n",
    "\n",
    "df_tn = df_pred[(df_pred.predictions == 0) & (df_pred.cwa_determination == 0)]\n",
    "df_tn.head()"
   ]
  },
  {
   "cell_type": "code",
   "execution_count": null,
   "metadata": {},
   "outputs": [],
   "source": [
    "imp_cols = ['cwa1', 'cwa2', 'cwa3', 'cwa4', 'cwa5', 'cwa6' , 'cwa7', 'cwa8', 'cwa9', 'cwa_determination','longitude', 'latitude', 'Index','da_number',\n",
    "       'jurisdiction_type', 'potential_wetland', \"predictions\"]\n",
    "df_fn[imp_cols]"
   ]
  },
  {
   "cell_type": "code",
   "execution_count": null,
   "metadata": {},
   "outputs": [],
   "source": [
    "# df_fn.drop('geometry', axis=1).describe()"
   ]
  },
  {
   "cell_type": "code",
   "execution_count": null,
   "metadata": {},
   "outputs": [],
   "source": [
    "# set(df_fn.columns[50:100])"
   ]
  },
  {
   "cell_type": "code",
   "execution_count": null,
   "metadata": {},
   "outputs": [],
   "source": [
    "# print(df_tn.closest_wb_distance_m.mean())\n",
    "# print(df_fn.closest_wb_distance_m.mean())"
   ]
  },
  {
   "cell_type": "markdown",
   "metadata": {},
   "source": [
    "## which states have the most false negatives"
   ]
  },
  {
   "cell_type": "code",
   "execution_count": null,
   "metadata": {},
   "outputs": [],
   "source": [
    "df_fn_tn = pd.concat([pd.DataFrame(df_fn.district).value_counts(), pd.DataFrame(df_tn.district).value_counts()], axis=1)\n",
    "df_fn_tn.columns = [\"FN\", \"TN\"]\n",
    "df_fn_tn[\"1-npv\"] = df_fn_tn.apply(lambda x: round(x.FN/(x.FN + x.TN), 2), axis=1)#.sort_values(ascending=False)\n",
    "df_fn_tn.sort_values(by=\"1-npv\", ascending=False)"
   ]
  },
  {
   "cell_type": "code",
   "execution_count": null,
   "metadata": {},
   "outputs": [],
   "source": [
    "pd.DataFrame(df_tn.district).value_counts()"
   ]
  },
  {
   "cell_type": "code",
   "execution_count": null,
   "metadata": {},
   "outputs": [],
   "source": []
  },
  {
   "cell_type": "code",
   "execution_count": null,
   "metadata": {},
   "outputs": [],
   "source": [
    "def p_value(feature=\"closest_wb_elevation\"):\n",
    "    import scipy\n",
    "    try:\n",
    "        return (scipy.stats.ttest_ind(np.array(df_tn[feature], dtype=float), \n",
    "                           np.array(df_fn[feature], dtype=float), \n",
    "                           nan_policy='omit'))[1]\n",
    "    except Exception as e:\n",
    "#         print(e)\n",
    "        pass\n",
    "p_value()"
   ]
  },
  {
   "cell_type": "code",
   "execution_count": null,
   "metadata": {},
   "outputs": [],
   "source": [
    "for feature in df_fn.columns:\n",
    "    try:\n",
    "        if p_value(feature) < 0.0001:\n",
    "            if feature in imp_num_feature:\n",
    "                delta = (np.nanmean(np.array(df_tn[feature], dtype=float)) \n",
    "                         - np.nanmean(np.array(df_fn[feature], dtype=float)))\n",
    "                print (feature, \":\", delta)\n",
    "    except Exception as e:\n",
    "#         print(feature, \"XXXX\")\n",
    "        pass"
   ]
  },
  {
   "cell_type": "code",
   "execution_count": null,
   "metadata": {},
   "outputs": [],
   "source": [
    "for feature in df_fn.columns:\n",
    "    try:\n",
    "        if p_value(feature) < 0.001:\n",
    "            if feature in imp_num_feature:\n",
    "                delta = (np.nanmean(np.array(df_tn[feature], dtype=float)) \n",
    "                         - np.nanmean(np.array(df_fn[feature], dtype=float)))\n",
    "                print (feature, \":\", delta)\n",
    "    except Exception as e:\n",
    "#         print(feature, \"XXXX\")\n",
    "        pass"
   ]
  },
  {
   "cell_type": "code",
   "execution_count": null,
   "metadata": {},
   "outputs": [],
   "source": [
    "for feature in df_fn.columns:\n",
    "    try:\n",
    "        if p_value(feature) < 0.01:\n",
    "            if feature in imp_num_feature:\n",
    "                delta = (np.nanmean(np.array(df_tn[feature], dtype=float)) \n",
    "                         - np.nanmean(np.array(df_fn[feature], dtype=float)))\n",
    "                print (feature, \":\", delta)\n",
    "    except Exception as e:\n",
    "#         print(feature, \"XXXX\")\n",
    "        pass"
   ]
  },
  {
   "cell_type": "code",
   "execution_count": null,
   "metadata": {},
   "outputs": [],
   "source": [
    "for feature in df_fn.columns:\n",
    "    try:\n",
    "        if p_value(feature) < 0.1:\n",
    "            if feature in imp_num_feature:\n",
    "                delta = (np.nanmean(np.array(df_tn[feature], dtype=float)) \n",
    "                         - np.nanmean(np.array(df_fn[feature], dtype=float)))\n",
    "                print (feature, \":\", delta)\n",
    "    except Exception as e:\n",
    "#         print(feature, \"XXXX\")\n",
    "        pass"
   ]
  },
  {
   "cell_type": "markdown",
   "metadata": {},
   "source": [
    "# Thresholding"
   ]
  },
  {
   "cell_type": "code",
   "execution_count": null,
   "metadata": {},
   "outputs": [],
   "source": [
    "model = \"lgbm\"\n",
    "model_results(model_dict[model], test_X, test_Y, model)\n",
    "confusion_matrix(test_Y, model_dict[model].predict(test_X))"
   ]
  },
  {
   "cell_type": "code",
   "execution_count": null,
   "metadata": {},
   "outputs": [],
   "source": [
    "def do_thresholding(threshold=0.5):\n",
    "    y_threshold = (model_dict[\"lgbm\"].predict_proba(test_X)[:, 1] > threshold) * 1\n",
    "    np.mean(y_threshold == test_Y)\n",
    "    print(classification_report(test_Y, y_threshold))\n",
    "    print(\"confusion matrix:\")\n",
    "    print(confusion_matrix(test_Y, y_threshold))\n",
    "do_thresholding()    "
   ]
  },
  {
   "cell_type": "code",
   "execution_count": null,
   "metadata": {},
   "outputs": [],
   "source": [
    "do_thresholding(1) "
   ]
  },
  {
   "cell_type": "code",
   "execution_count": null,
   "metadata": {},
   "outputs": [],
   "source": [
    "do_thresholding(0.6) "
   ]
  },
  {
   "cell_type": "code",
   "execution_count": null,
   "metadata": {},
   "outputs": [],
   "source": [
    "do_thresholding(0.5) "
   ]
  },
  {
   "cell_type": "code",
   "execution_count": null,
   "metadata": {},
   "outputs": [],
   "source": [
    "do_thresholding(0.4) "
   ]
  },
  {
   "cell_type": "code",
   "execution_count": null,
   "metadata": {},
   "outputs": [],
   "source": [
    "do_thresholding(0.3) "
   ]
  },
  {
   "cell_type": "code",
   "execution_count": null,
   "metadata": {},
   "outputs": [],
   "source": [
    "do_thresholding(0.2) "
   ]
  },
  {
   "cell_type": "code",
   "execution_count": null,
   "metadata": {},
   "outputs": [],
   "source": [
    "do_thresholding(0.1) "
   ]
  },
  {
   "cell_type": "code",
   "execution_count": null,
   "metadata": {},
   "outputs": [],
   "source": [
    "do_thresholding(0) "
   ]
  },
  {
   "cell_type": "markdown",
   "metadata": {},
   "source": [
    "# Groupby"
   ]
  },
  {
   "cell_type": "code",
   "execution_count": null,
   "metadata": {},
   "outputs": [],
   "source": [
    "df_pred = df_pred[~df_pred.county.isna()]"
   ]
  },
  {
   "cell_type": "code",
   "execution_count": null,
   "metadata": {},
   "outputs": [],
   "source": [
    "df_pred.columns"
   ]
  },
  {
   "cell_type": "code",
   "execution_count": null,
   "metadata": {},
   "outputs": [],
   "source": [
    "np.mean(df_pred.county.isna())"
   ]
  },
  {
   "cell_type": "code",
   "execution_count": null,
   "metadata": {},
   "outputs": [],
   "source": [
    "# df_pred[\"count_1_pred_by_county\"] = df_pred.groupby([\"county\"])[\"predictions\"].transform(np.mean)#apply(lambda x: np.sum())"
   ]
  },
  {
   "cell_type": "code",
   "execution_count": null,
   "metadata": {},
   "outputs": [],
   "source": [
    "# df = df.groupby_agg(\n",
    "#     by='item',\n",
    "#     agg='mean',\n",
    "#     agg_column_name='MRP',\n",
    "#     new_column_name='Avg_MRP'\n",
    "# )\n",
    "\n",
    "# df"
   ]
  },
  {
   "cell_type": "code",
   "execution_count": null,
   "metadata": {},
   "outputs": [],
   "source": [
    "def find_mean(x):\n",
    "    return np.mean(x)\n",
    "\n",
    "df_pred[\"percent_1_actual\"] = df_pred.groupby(\"county\")[\"cwa_determination\"].transform(find_mean)\n",
    "df_pred[\"percent_1_predictions\"] = df_pred.groupby(\"county\")[\"predictions\"].transform(find_mean)\n",
    "df_pred[\"pred_over_actual\"] = df_pred.percent_1_predictions / (df_pred.percent_1_actual + 0.00000001)\n",
    "\n",
    "ratio_list = []\n",
    "for groupby in df_pred.groupby(\"county\"):\n",
    "    if 10000 > np.mean(np.array(groupby[1].pred_over_actual)):# > 1:\n",
    "        ratio_list.append(np.mean(np.array(groupby[1].pred_over_actual)))\n",
    "#         print(groupby[0], np.mean(np.array(groupby[1].pred_over_actual)))"
   ]
  },
  {
   "cell_type": "code",
   "execution_count": null,
   "metadata": {},
   "outputs": [],
   "source": [
    "plt.hist(ratio_list, bins=100)"
   ]
  },
  {
   "cell_type": "code",
   "execution_count": null,
   "metadata": {},
   "outputs": [],
   "source": [
    "# in which counties are false positives more:\n",
    "\n",
    "for groupby in df_pred.groupby(\"county\"):\n",
    "    if 10000 > np.mean(np.array(groupby[1].pred_over_actual)) > 1:\n",
    "        print(groupby[0], np.mean(np.array(groupby[1].pred_over_actual)))"
   ]
  },
  {
   "cell_type": "code",
   "execution_count": null,
   "metadata": {},
   "outputs": [],
   "source": [
    "# in which counties are false negatives more:\n",
    "count = 0\n",
    "for groupby in df_pred.groupby(\"county\"):\n",
    "    if np.mean(np.array(groupby[1].pred_over_actual)) < 0.5:\n",
    "        count += 1\n",
    "#         print(groupby[0], np.mean(np.array(groupby[1].pred_over_actual)))\n",
    "print(count)    \n",
    "# are there 463 counties where there is no prediction of 1? out of 689 total counties"
   ]
  },
  {
   "cell_type": "code",
   "execution_count": null,
   "metadata": {},
   "outputs": [],
   "source": [
    "len(df_pred.groupby(\"county\"))"
   ]
  },
  {
   "cell_type": "code",
   "execution_count": null,
   "metadata": {},
   "outputs": [],
   "source": [
    "len(df_pred.county.unique()) # 689\n",
    "len(df_pred.district.unique()) # 38"
   ]
  },
  {
   "cell_type": "code",
   "execution_count": null,
   "metadata": {},
   "outputs": [],
   "source": [
    "# lets look by district. These are the districts where there are no 1's being predicted\n",
    "\n",
    "def find_mean(x):\n",
    "    return np.mean(x)\n",
    "\n",
    "df_pred[\"percent_1_actual_by_district\"] = df_pred.groupby(\"district\")[\"cwa_determination\"].transform(find_mean)\n",
    "df_pred[\"percent_1_predictions_by_district\"] = df_pred.groupby(\"district\")[\"predictions\"].transform(find_mean)\n",
    "df_pred[\"pred_over_actual_by_district\"] = df_pred.percent_1_predictions / (df_pred.percent_1_actual + 0.00000001)\n",
    "\n",
    "ratio_list = []\n",
    "print(\"District           pred/act    tot_cnt    actual_1's,  pred_1's\")\n",
    "for groupby in df_pred.groupby(\"district\"):\n",
    "#     if not np.mean(np.array(groupby[1].pred_over_actual_district)):# > 1:\n",
    "    ratio_list.append(np.mean(np.array(groupby[1].pred_over_actual)))\n",
    "    (print(groupby[0], \" \" * (20 - len(groupby[0])), round(np.mean(np.array(groupby[1].pred_over_actual)), 2), \n",
    "           \" \" * (10 - len(str(round(np.mean(np.array(groupby[1].pred_over_actual)), 2)))), groupby[1].cwa_determination.shape[0], \n",
    "           \" \" * (10 - len(str(np.sum(groupby[1].cwa_determination)))), np.sum(groupby[1].cwa_determination),\n",
    "           \" \" * (10 - len(str(np.sum(groupby[1].predictions)))), np.sum(groupby[1].predictions))\n",
    "\n",
    "    )\n",
    "    \n",
    "    "
   ]
  },
  {
   "cell_type": "code",
   "execution_count": null,
   "metadata": {},
   "outputs": [],
   "source": [
    "plt.hist(ratio_list, bins=100)"
   ]
  },
  {
   "cell_type": "code",
   "execution_count": null,
   "metadata": {},
   "outputs": [],
   "source": [
    "df_pred[df_pred.district == \"Albuquerque\"][[\"cwa_determination\", \"district\", \"predictions\", \"percent_1_actual\", \n",
    "                                           \"percent_1_predictions_by_district\", \"percent_1_actual_by_district\", \"percent_1_predictions_by_district\", \"pred_over_actual_by_district\"]].head(1)    #.iloc[:, 494:]"
   ]
  },
  {
   "cell_type": "code",
   "execution_count": null,
   "metadata": {},
   "outputs": [],
   "source": [
    "df_pred[df_pred.district == \"Fort Worth\"][[\"cwa_determination\", \"district\", \"predictions\", \"percent_1_actual\", \n",
    "                                           \"percent_1_predictions_by_district\", \"percent_1_actual_by_district\", \"percent_1_predictions_by_district\", \"pred_over_actual_by_district\"]].head(1)    #.iloc[:, 494:]"
   ]
  },
  {
   "cell_type": "code",
   "execution_count": null,
   "metadata": {},
   "outputs": [],
   "source": [
    "df_pred[df_pred.district == \"Huntington\"][[\"cwa_determination\", \"district\", \"predictions\", \"percent_1_actual\", \n",
    "                                           \"percent_1_predictions_by_district\", \"percent_1_actual_by_district\", \"percent_1_predictions_by_district\", \"pred_over_actual_by_district\"]].head(1)    #.iloc[:, 494:]"
   ]
  },
  {
   "cell_type": "code",
   "execution_count": null,
   "metadata": {},
   "outputs": [],
   "source": [
    "df_pred[df_pred.district == \"Louisville\"][[\"cwa_determination\", \"district\", \"predictions\", \"percent_1_actual\", \n",
    "                                           \"percent_1_predictions_by_district\", \"percent_1_actual_by_district\", \"percent_1_predictions_by_district\", \"pred_over_actual_by_district\"]].head(1)    #.iloc[:, 494:]"
   ]
  },
  {
   "cell_type": "code",
   "execution_count": null,
   "metadata": {},
   "outputs": [],
   "source": [
    "df_pred[df_pred.district == \"Nashville\"][[\"cwa_determination\", \"district\", \"predictions\", \"percent_1_actual\", \n",
    "                                           \"percent_1_predictions_by_district\", \"percent_1_actual_by_district\", \"percent_1_predictions_by_district\", \"pred_over_actual_by_district\"]].head(1)    #.iloc[:, 494:]"
   ]
  },
  {
   "cell_type": "code",
   "execution_count": null,
   "metadata": {},
   "outputs": [],
   "source": [
    "df_pred[df_pred.district == \"St. Louis\"][[\"cwa_determination\", \"district\", \"predictions\", \"percent_1_actual\", \n",
    "                                           \"percent_1_predictions_by_district\", \"percent_1_actual_by_district\", \"percent_1_predictions_by_district\", \"pred_over_actual_by_district\"]].head(1)    #.iloc[:, 494:]"
   ]
  },
  {
   "cell_type": "code",
   "execution_count": null,
   "metadata": {},
   "outputs": [],
   "source": [
    "df_pred[df_pred.district == \"Tulsa\"][[\"cwa_determination\", \"district\", \"predictions\", \"percent_1_actual\", \n",
    "                                           \"percent_1_predictions_by_district\", \"percent_1_actual_by_district\", \"percent_1_predictions_by_district\", \"pred_over_actual_by_district\"]].head(1)    #.iloc[:, 494:]"
   ]
  },
  {
   "cell_type": "code",
   "execution_count": null,
   "metadata": {},
   "outputs": [],
   "source": [
    "df_pred[df_pred.district == \"Vicksburg\"][[\"cwa_determination\", \"district\", \"predictions\", \"percent_1_actual\", \n",
    "                                           \"percent_1_predictions_by_district\", \"percent_1_actual_by_district\", \"percent_1_predictions_by_district\", \"pred_over_actual_by_district\"]].head(1)    #.iloc[:, 494:]"
   ]
  },
  {
   "cell_type": "code",
   "execution_count": null,
   "metadata": {},
   "outputs": [],
   "source": [
    "df_pred[df_pred.district == \"Walla Walla\"][[\"cwa_determination\", \"district\", \"predictions\", \"percent_1_actual\", \n",
    "                                           \"percent_1_predictions_by_district\", \"percent_1_actual_by_district\", \"percent_1_predictions_by_district\", \"pred_over_actual_by_district\"]].head(1)    #.iloc[:, 494:]"
   ]
  },
  {
   "cell_type": "code",
   "execution_count": null,
   "metadata": {},
   "outputs": [],
   "source": [
    "df_pred.columns"
   ]
  },
  {
   "cell_type": "code",
   "execution_count": null,
   "metadata": {},
   "outputs": [],
   "source": [
    "# df_pred.groupby(\"county\")[\"predictions\"].apply(find_sum)"
   ]
  },
  {
   "cell_type": "code",
   "execution_count": null,
   "metadata": {},
   "outputs": [],
   "source": [
    "def find_mean(df):\n",
    "    try:\n",
    "        result = df[~df.isna()].mean()\n",
    "        if not np.isnan(result):\n",
    "            return result\n",
    "    except:\n",
    "        return np.nan\n",
    "\n",
    "    \n",
    "def find_sum(df):\n",
    "    return np.sum(np.array(df))\n",
    "\n",
    "df_pred.groupby([\"county\"])[\"predictions\"].transform(np.sum)"
   ]
  },
  {
   "cell_type": "code",
   "execution_count": null,
   "metadata": {},
   "outputs": [],
   "source": []
  },
  {
   "cell_type": "code",
   "execution_count": null,
   "metadata": {},
   "outputs": [],
   "source": [
    "df_pred[df_pred.county == \"Horry\"]"
   ]
  },
  {
   "cell_type": "code",
   "execution_count": null,
   "metadata": {},
   "outputs": [],
   "source": []
  },
  {
   "cell_type": "code",
   "execution_count": null,
   "metadata": {},
   "outputs": [],
   "source": []
  },
  {
   "cell_type": "code",
   "execution_count": null,
   "metadata": {},
   "outputs": [],
   "source": []
  },
  {
   "cell_type": "code",
   "execution_count": null,
   "metadata": {},
   "outputs": [],
   "source": []
  },
  {
   "cell_type": "code",
   "execution_count": null,
   "metadata": {},
   "outputs": [],
   "source": []
  },
  {
   "cell_type": "markdown",
   "metadata": {},
   "source": [
    "# Plotly maps"
   ]
  },
  {
   "cell_type": "code",
   "execution_count": null,
   "metadata": {},
   "outputs": [],
   "source": [
    "df_fn_ = df_fn.copy()\n",
    "df_tn_ = df_tn.copy()\n"
   ]
  },
  {
   "cell_type": "code",
   "execution_count": null,
   "metadata": {},
   "outputs": [],
   "source": [
    "# false negatives\n",
    "\n",
    "geometry = [Point(xy) for xy in zip(df_fn_['longitude'], df_fn_['latitude'])]\n",
    "gdf = GeoDataFrame(df_fn_, geometry=geometry)   \n",
    "\n",
    "#this is a simple map that goes with geopandas\n",
    "world = gpd.read_file(gpd.datasets.get_path('naturalearth_lowres'))\n",
    "north_america = world[world.continent == \"North America\"]\n",
    "gdf.plot(ax=north_america.plot(figsize=(20, 12)), marker='o', color='red', markersize=10);"
   ]
  },
  {
   "cell_type": "code",
   "execution_count": null,
   "metadata": {},
   "outputs": [],
   "source": [
    "# true negatives\n",
    "\n",
    "geometry = [Point(xy) for xy in zip(df_tn_['longitude'], df_tn_['latitude'])]\n",
    "gdf = GeoDataFrame(df_tn_, geometry=geometry)   \n",
    "\n",
    "#this is a simple map that goes with geopandas\n",
    "world = gpd.read_file(gpd.datasets.get_path('naturalearth_lowres'))\n",
    "north_america = world[world.continent == \"North America\"]\n",
    "gdf.plot(ax=north_america.plot(figsize=(20, 12)), marker='o', color='red', markersize=10);"
   ]
  },
  {
   "cell_type": "code",
   "execution_count": null,
   "metadata": {},
   "outputs": [],
   "source": [
    "# not false negatives\n",
    "df_not_fn = df_pred[~((df_pred.predictions == 0) & (df_pred.cwa_determination == 1))]\n",
    "\n",
    "df_not_fn_ = df_not_fn.copy()\n",
    "geometry = [Point(xy) for xy in zip(df_not_fn_['longitude'], df_not_fn_['latitude'])]\n",
    "gdf = GeoDataFrame(df_not_fn_, geometry=geometry)   \n",
    "\n",
    "gdf.plot(ax=north_america.plot(figsize=(20, 12)), marker='o', color='red', markersize=10);"
   ]
  },
  {
   "cell_type": "code",
   "execution_count": null,
   "metadata": {},
   "outputs": [],
   "source": [
    "# false positives\n",
    "df_fp = df_pred[(df_pred.predictions == 1) & (df_pred.cwa_determination == 0)]\n",
    "df_fp_ = df_fp.copy()\n",
    "\n",
    "\n",
    "geometry = [Point(xy) for xy in zip(df_fp_['longitude'], df_fp_['latitude'])]\n",
    "gdf = GeoDataFrame(df_fp_, geometry=geometry)   \n",
    "\n",
    "gdf.plot(ax=north_america.plot(figsize=(20, 12)), marker='o', color='red', markersize=10);"
   ]
  },
  {
   "cell_type": "code",
   "execution_count": null,
   "metadata": {},
   "outputs": [],
   "source": [
    "# All good predictions\n",
    "df_good_preds = df_pred[((df_pred.predictions == 0) & (df_pred.cwa_determination == 0)) | ((df_pred.predictions == 1) & (df_pred.cwa_determination == 1))]\n",
    "\n",
    "df_good_preds_ = df_good_preds.copy()\n",
    "geometry = [Point(xy) for xy in zip(df_good_preds_['longitude'], df_good_preds_['latitude'])]\n",
    "gdf = GeoDataFrame(df_good_preds_, geometry=geometry)   \n",
    "\n",
    "gdf.plot(ax=north_america.plot(figsize=(20, 12)), marker='o', color='red', markersize=10);"
   ]
  },
  {
   "cell_type": "code",
   "execution_count": null,
   "metadata": {},
   "outputs": [],
   "source": [
    "# All data\n",
    "\n",
    "geometry = [Point(xy) for xy in zip(df_pred['longitude'], df_pred['latitude'])]\n",
    "gdf = GeoDataFrame(df_pred, geometry=geometry)   \n",
    "\n",
    "gdf.plot(ax=north_america.plot(figsize=(20, 12)), marker='o', color='red', markersize=10);"
   ]
  },
  {
   "cell_type": "markdown",
   "metadata": {
    "id": "ySEfwFTbEOsU"
   },
   "source": [
    "# Break\n"
   ]
  },
  {
   "cell_type": "code",
   "execution_count": null,
   "metadata": {
    "id": "Gximuif9tUZe"
   },
   "outputs": [],
   "source": [
    "df_fn[df_fn.state == '12'][\"hydclprs\"]#['da_number']"
   ]
  },
  {
   "cell_type": "code",
   "execution_count": null,
   "metadata": {},
   "outputs": [],
   "source": [
    "set(df_fn.columns)"
   ]
  },
  {
   "cell_type": "code",
   "execution_count": null,
   "metadata": {
    "id": "aJxn_V1lcnUd"
   },
   "outputs": [],
   "source": [
    "model_dict[\"file_params\"].keys()"
   ]
  },
  {
   "cell_type": "code",
   "execution_count": null,
   "metadata": {},
   "outputs": [],
   "source": []
  }
 ],
 "metadata": {
  "colab": {
   "collapsed_sections": [],
   "name": "2021.03.19_WOTUS_restart_v6.ipynb",
   "provenance": [],
   "toc_visible": true
  },
  "kernelspec": {
   "display_name": "Python 3",
   "language": "python",
   "name": "python3"
  },
  "language_info": {
   "codemirror_mode": {
    "name": "ipython",
    "version": 3
   },
   "file_extension": ".py",
   "mimetype": "text/x-python",
   "name": "python",
   "nbconvert_exporter": "python",
   "pygments_lexer": "ipython3",
   "version": "3.6.9"
  },
  "toc-autonumbering": true,
  "toc-showmarkdowntxt": false,
  "toc-showtags": false
 },
 "nbformat": 4,
 "nbformat_minor": 4
}
