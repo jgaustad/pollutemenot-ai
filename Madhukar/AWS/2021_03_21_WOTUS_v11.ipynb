{
 "cells": [
  {
   "cell_type": "markdown",
   "metadata": {
    "id": "gh39s2KK_dGM"
   },
   "source": [
    "- v1: works till the categorical pipeline where it errors out for unknown variables\n",
    "- v2: fully functional\n",
    "- v3: baseline run (on the old dataset)\n",
    "- v4: baseline run (on the full 2021.03.17_full_dataset)\n",
    "- v5: baseline run (on 2021.03.19_full_dataset with all SSURGO variables)\n",
    "- v6: aoc_roc (on 2021.03.19_full_dataset with all SSURGO variables). Mute the Stacking as it is not possible with RandomizedSearchCV. Have to have a dev split.\n",
    "- v7: model v7 random state 123 on train/test, model v7.1 random_state 431 on train/dev/test\n",
    "- v8g: Golden model\n",
    "\n",
    "- ROC_AUC with lat, lon (baseline)\n",
    "====================\n",
    "lr:           0.64103\n",
    "xgb:          0.82366\n",
    "voting_clf:   0.83027\n",
    "lgbm:         0.86395\n",
    "stacking:     0.85923\n",
    "\n",
    "\n",
    "- v9: without lat, lon\n",
    "\n",
    "- ROC_AUC without lat, lon\n",
    "=======================\n",
    "lr:           0.64211\n",
    "xgb:          0.8031\n",
    "voting_clf:   0.83105\n",
    "lgbm:         0.85952\n",
    "stacking:     0.85427\n",
    "\n",
    "- v9.1: without lat, lon, potential_wetland\n",
    "\n",
    "- ROC_AUC without lat, lon, potential_wetland\n",
    "===============\n",
    "lr:           0.63992\n",
    "xgb:          0.79093\n",
    "voting_clf:   0.82987\n",
    "lgbm:         0.85143\n",
    "stacking:     0.84328\n",
    "\n",
    "- v9.2: without lat, lon, potential_wetland, district\n",
    "\n",
    "- ROC_AUC without lat, lon, potential_wetland, district\n",
    "===============\n",
    "lr:           0.64208\n",
    "xgb:          0.77907\n",
    "voting_clf:   0.79829\n",
    "lgbm:         0.82675\n",
    "stacking:     0.82185\n",
    "\n",
    "- v9.3: without lat, lon, potential_wetland, district and flodfreqdc and drclassdcd as ordinal\n",
    "\n",
    "- ROC_AUC on Test\n",
    "===============\n",
    "lr:           0.6382\n",
    "xgb:          0.73089\n",
    "voting_clf:   0.79126\n",
    "lgbm:         0.82512\n",
    "stacking:     0.8195\n",
    "\n",
    "- v9.4: without lat, lon, potential_wetland, district, county \n",
    "- ROC_AUC on Test\n",
    "===============\n",
    "lr:           0.6395\n",
    "xgb:          0.74096\n",
    "voting_clf:   0.7911\n",
    "lgbm:         0.82448\n",
    "stacking:     0.82343\n",
    "\n",
    "- v9.5: without lat, lon, potential_wetland, district, county, mukey\n",
    "- ROC_AUC on Test\n",
    "===============\n",
    "lr:           0.65309\n",
    "xgb:          0.75117\n",
    "voting_clf:   0.77845\n",
    "lgbm:         0.80626\n",
    "stacking:     0.80424\n",
    "\n",
    "- v9.5: without lat, lon, potential_wetland, district, county, mukey, and filtering out bad latitude\n",
    "THIS IS SUSPECT. CANT REPEAT IT.\n",
    "- ROC_AUC on Test\n",
    "===============\n",
    "lr:           0.63894\n",
    "xgb:          0.74922\n",
    "voting_clf:   0.79839\n",
    "lgbm:         0.86986\n",
    "stacking:     0.86281\n",
    "\n",
    "- v9,5_r2: supposed to be repeat of v9.5 but unsuccessful (probably bcoz of wrong cat features)\n",
    "- ROC_AUC on Test\n",
    "===============\n",
    "lr:           0.64148\n",
    "xgb:          0.7066\n",
    "lgbm:         0.79702\n",
    "stacking:     0.78626\n",
    "voting_clf:   0.7632\n",
    "\n",
    "- ROC_AUC on Test\n",
    "===============\n",
    "lr:           0.62669\n",
    "xgb:          0.71814\n",
    "lgbm:         0.8006\n",
    "stacking:     0.80005\n",
    "voting_clf:   0.7683\n",
    "\n",
    "- v9.6: baseline and filtering out bad latitude\n",
    "- ROC_AUC on Test\n",
    "===============\n",
    "lr:           0.6306\n",
    "xgb:          0.79659\n",
    "voting_clf:   0.82816\n",
    "lgbm:         0.85251\n",
    "stacking:     0.84547\n",
    "\n",
    "- v9.6_r2: baseline and filtering out bad latitude\n",
    "- ROC_AUC on Test\n",
    "===============\n",
    "lr:           0.6302\n",
    "xgb:          0.81153\n",
    "voting_clf:   0.83019\n",
    "lgbm:         0.85353\n",
    "stacking:     0.85285\n",
    "\n",
    "\n",
    "- ROC_AUC with lat, lon (baseline)\n",
    "====================\n",
    "lr:           0.64103\n",
    "xgb:          0.82366\n",
    "voting_clf:   0.83027\n",
    "lgbm:         0.86395\n",
    "stacking:     0.85923\n",
    "\n",
    "- v9.4: without lat, lon, potential_wetland, district, county \n",
    "- ROC_AUC on Test\n",
    "===============\n",
    "lr:           0.6395\n",
    "xgb:          0.74096\n",
    "voting_clf:   0.7911\n",
    "lgbm:         0.82448\n",
    "stacking:     0.82343\n",
    "\n",
    "- v10: baseline (with huc6, nearest wb/fl parameters added)\n",
    "\n",
    "- ROC_AUC on Test\n",
    "===============\n",
    "lr:           0.64444\n",
    "xgb:          0.80494\n",
    "voting_clf:   0.82554\n",
    "lgbm:         0.85336\n",
    "stacking:     0.8514\n",
    "\n",
    "- v10.1: baseline (with huc4, nearest wb/fl parameters added)\n",
    "-ROC_AUC on Test\n",
    "===============\n",
    "\n",
    "lr:           0.64381\n",
    "voting_clf:   0.82879\n",
    "xgb:          0.8032\n",
    "lgbm:         0.85318\n",
    "stacking:     0.8495\n",
    "\n",
    "- ROC_AUC on Test: supposed to be repeat of v10.1, but not sure why results are not reproducible\n",
    "===============\n",
    "\n",
    "lr:           0.64381\n",
    "voting_clf:   0.77483\n",
    "xgb:          0.75691\n",
    "lgbm:         0.79563\n",
    "stacking:     0.78974\n",
    "\n",
    "- v10.1_rerun: rerunning again and tested by reading back the model file. reproducible results. \n",
    "- ROC_AUC on Test\n",
    "===============\n",
    "lr:           0.64384\n",
    "voting_clf:   0.8299\n",
    "xgb:          0.78993\n",
    "lgbm:         0.85403\n",
    "stacking:     0.8468\n",
    "\n",
    "\n",
    "- v10.2: v10.1 with log transformed closest distances (slight improvement seen)\n",
    "- ROC_AUC on Test: can not reproduce these results the next day. So rerunning again below:\n",
    "===============\n",
    "lr:           0.64219\n",
    "voting_clf:   0.82924\n",
    "xgb:          0.7662\n",
    "lgbm:         0.85495\n",
    "stacking:     0.85232\n",
    "\n",
    "- v10.2_rerun:\n",
    "- ROC_AUC on Test\n",
    "===============\n",
    "lr:           0.64251\n",
    "voting_clf:   0.82815\n",
    "xgb:          0.74756\n",
    "lgbm:         0.854\n",
    "stacking:     0.84738\n",
    "\n",
    "\n"
   ]
  },
  {
   "cell_type": "markdown",
   "metadata": {},
   "source": [
    "# Constants and Imports\n"
   ]
  },
  {
   "cell_type": "code",
   "execution_count": 1,
   "metadata": {
    "colab": {
     "base_uri": "https://localhost:8080/"
    },
    "id": "Wj4LjNpHOzc9",
    "outputId": "6b01c399-d6fc-46c6-f622-ac200674afb8"
   },
   "outputs": [],
   "source": [
    "# !pip install lightgbm\n",
    "# !pip install xgboost\n",
    "# !pip install mlxtend\n",
    "# !pip install seaborn\n",
    "# !pip install shapely\n",
    "# !pip install geopandas\n",
    "\n",
    "# import pickle"
   ]
  },
  {
   "cell_type": "code",
   "execution_count": 2,
   "metadata": {
    "id": "y6CJ-2pyO-Pu"
   },
   "outputs": [],
   "source": [
    "%matplotlib inline \n",
    "\n",
    "from shapely.geometry import Point\n",
    "import geopandas as gpd\n",
    "from geopandas import GeoDataFrame\n",
    "\n",
    "\n",
    "import re\n",
    "import time\n",
    "import numpy as np\n",
    "import pandas as pd\n",
    "import matplotlib.pyplot as plt\n",
    "from scipy import stats\n",
    "import seaborn as sns\n",
    "import joblib\n",
    "import pickle\n",
    "from datetime import datetime\n",
    "\n",
    "from sklearn import model_selection\n",
    "from sklearn.svm import SVC\n",
    "from mlxtend.classifier import StackingCVClassifier\n",
    "from sklearn.metrics import roc_curve, auc\n",
    "from sklearn.model_selection import train_test_split\n",
    "from sklearn import datasets\n",
    "from sklearn.preprocessing import label_binarize\n",
    "from sklearn.multiclass import OneVsRestClassifier\n",
    "\n",
    "# SK-learn libraries for machine learning\n",
    "from sklearn.pipeline import Pipeline\n",
    "from sklearn.preprocessing import StandardScaler\n",
    "from sklearn.preprocessing import RobustScaler\n",
    "from sklearn.preprocessing import OneHotEncoder\n",
    "from sklearn.impute import SimpleImputer\n",
    "from sklearn.model_selection import train_test_split\n",
    "\n",
    "from sklearn.metrics import balanced_accuracy_score\n",
    "from sklearn.neighbors import KNeighborsClassifier\n",
    "from sklearn.linear_model import LinearRegression\n",
    "from sklearn.linear_model import LogisticRegression\n",
    "from sklearn.linear_model import Lasso\n",
    "from sklearn.linear_model import Ridge\n",
    "from sklearn.linear_model import ElasticNet\n",
    "from sklearn.linear_model import RidgeCV\n",
    "from sklearn.linear_model import LassoCV\n",
    "from sklearn.linear_model import ElasticNetCV\n",
    "from sklearn.linear_model import BayesianRidge\n",
    "from sklearn.svm import LinearSVR\n",
    "from sklearn.svm import SVR\n",
    "from sklearn.naive_bayes import BernoulliNB\n",
    "from sklearn.naive_bayes import MultinomialNB\n",
    "from sklearn.naive_bayes import GaussianNB\n",
    "from sklearn.tree import DecisionTreeClassifier\n",
    "from sklearn.tree import DecisionTreeRegressor\n",
    "from sklearn.ensemble import AdaBoostRegressor\n",
    "from sklearn.ensemble import BaggingRegressor\n",
    "from sklearn.ensemble import VotingRegressor\n",
    "from sklearn.ensemble import GradientBoostingRegressor\n",
    "from sklearn.ensemble import RandomForestRegressor\n",
    "from mlxtend.regressor import StackingCVRegressor\n",
    "from mlxtend.classifier import StackingCVClassifier\n",
    "from sklearn.ensemble import RandomForestClassifier\n",
    "from sklearn.ensemble import VotingClassifier\n",
    "\n",
    "from lightgbm import LGBMRegressor\n",
    "from lightgbm import *\n",
    "from xgboost import XGBRegressor\n",
    "from xgboost import XGBRFClassifier\n",
    "from sklearn.decomposition import PCA\n",
    "from sklearn.cluster import KMeans\n",
    "from sklearn.mixture import GaussianMixture\n",
    "import xgboost\n",
    "import lightgbm\n",
    "\n",
    "from sklearn.model_selection import GridSearchCV\n",
    "from sklearn.model_selection import KFold\n",
    "from sklearn.model_selection import cross_val_predict\n",
    "from sklearn.model_selection import cross_val_score\n",
    "from sklearn.model_selection import RandomizedSearchCV\n",
    "\n",
    "# SK-learn libraries for evaluation\n",
    "from sklearn import metrics\n",
    "from sklearn.metrics import confusion_matrix\n",
    "from sklearn.metrics import classification_report\n",
    "\n",
    "import warnings\n",
    "warnings.filterwarnings(\"ignore\")\n",
    "pass"
   ]
  },
  {
   "cell_type": "code",
   "execution_count": 3,
   "metadata": {},
   "outputs": [],
   "source": [
    "INPUT_FILE_NAME = \"2021.03.23_full_dataset\"\n",
    "FILE_VERSION = \"v11\"\n",
    "\n",
    "run_models = True # BEWARE! This overwrites the models stored on disk\n",
    "run_logistic = True\n",
    "\n",
    "# file params\n",
    "golden_models = [\"v8g\"]\n",
    "stop_before_models = False\n",
    "\n",
    "\n",
    "if run_models:\n",
    "    model_dict = {}\n",
    "    file_param_dict = {}\n",
    "    random_state = 123 # for train, dev, test splits\n",
    "    dev = True\n",
    "    file_param_dict[\"random_state\"] = random_state\n",
    "    file_param_dict[\"dev\"] = dev\n",
    "    file_param_dict[\"input_file_name\"] = INPUT_FILE_NAME\n",
    "\n",
    "else:\n",
    "    model_dict = pd.read_pickle(\"random_search_fitted_models_\" + FILE_VERSION)\n",
    "    try:\n",
    "        file_param_dict = model_dict[\"file_params\"]\n",
    "    except Exception as e:\n",
    "        print(e)\n",
    "        pass\n",
    "        \n",
    "    random_state = file_param_dict[\"random_state\"]\n",
    "    dev = file_param_dict[\"dev\"]\n",
    "    INPUT_FILE_NAME = file_param_dict[\"input_file_name\"]\n",
    "\n",
    "if FILE_VERSION in golden_models:\n",
    "    if run_models:\n",
    "        print(\"Warning: you are overwriting golden model\")\n",
    "        stop\n"
   ]
  },
  {
   "cell_type": "code",
   "execution_count": 4,
   "metadata": {
    "id": "1q95q-9wPEky"
   },
   "outputs": [
    {
     "data": {
      "text/plain": [
       "(14619, 494)"
      ]
     },
     "execution_count": 4,
     "metadata": {},
     "output_type": "execute_result"
    }
   ],
   "source": [
    "df_full = pd.read_pickle(\"../../../data/\" + INPUT_FILE_NAME)\n",
    "df_full.shape"
   ]
  },
  {
   "cell_type": "code",
   "execution_count": 5,
   "metadata": {},
   "outputs": [],
   "source": [
    "# flod_ordered = [\"None\", \"Very rare\", \"Rare\", \"Occasional\", \"Frequent\", \"Very frequent\"]\n",
    "# flod_dict = dict(zip(flod_ordered, range(len(flod_ordered))))\n",
    "\n",
    "# def flodfreqdc_ordinal(string):\n",
    "#     try:\n",
    "#         return flod_dict[string]\n",
    "#     except:\n",
    "#         return np.nan\n",
    "    \n",
    "    \n",
    "# df_full[\"flodfreqdc\"] = df_full.apply(lambda x: flodfreqdc_ordinal(x.flodfreqdc), axis=1)"
   ]
  },
  {
   "cell_type": "code",
   "execution_count": 6,
   "metadata": {},
   "outputs": [],
   "source": [
    "# drclassdcd_ordered = [\"Excessively drained\", \"Somewhat excessively drained\", \"Well drained\", \n",
    "# \"Moderately well drained\", \"Somewhat poorly drained\", \"Poorly drained\", \"Very poorly drained\", \"Subaqueous\"]\n",
    "\n",
    "# drclassdcd_dict = dict(zip(drclassdcd_ordered, range(len(drclassdcd_ordered))))\n",
    "\n",
    "# def drclassdcd_ordinal(string):\n",
    "#     try:\n",
    "#         return drclassdcd_dict[string]\n",
    "#     except:\n",
    "#         return np.nan\n",
    "    \n",
    "# df_full[\"drclassdcd\"] = df_full.apply(lambda x: drclassdcd_ordinal(x.drclassdcd), axis=1)"
   ]
  },
  {
   "cell_type": "markdown",
   "metadata": {},
   "source": [
    "# Data filtering"
   ]
  },
  {
   "cell_type": "code",
   "execution_count": 7,
   "metadata": {},
   "outputs": [
    {
     "data": {
      "text/plain": [
       "(14613, 494)"
      ]
     },
     "execution_count": 7,
     "metadata": {},
     "output_type": "execute_result"
    }
   ],
   "source": [
    "# remove longitude > -50 (bad datapoints)\n",
    "\n",
    "df_full = df_full[df_full.longitude < -50]\n",
    "df_full.shape"
   ]
  },
  {
   "cell_type": "code",
   "execution_count": 8,
   "metadata": {},
   "outputs": [
    {
     "data": {
      "text/plain": [
       "Index(['cwa5', 'cwa1', 'cwa8', 'cwa6', 'rha_determination', 'longitude',\n",
       "       'cwa7', 'potential_wetland', 'district', 'cwa3',\n",
       "       ...\n",
       "       'county', 'state', 'closest_wb_distance_m', 'closest_fl_distance_m',\n",
       "       'closest_fl_area_sqkm', 'closest_wb_area_sqkm', 'closest_fl_elevation',\n",
       "       'closest_wb_elevation', 'huc4', 'huc6'],\n",
       "      dtype='object', length=494)"
      ]
     },
     "execution_count": 8,
     "metadata": {},
     "output_type": "execute_result"
    }
   ],
   "source": [
    "df_full.columns\n"
   ]
  },
  {
   "cell_type": "code",
   "execution_count": 9,
   "metadata": {
    "id": "vmXibdpmoSgz"
   },
   "outputs": [],
   "source": [
    "# df_full = df_full[df_full.district != \"Alaska\"]"
   ]
  },
  {
   "cell_type": "code",
   "execution_count": 10,
   "metadata": {
    "colab": {
     "base_uri": "https://localhost:8080/"
    },
    "id": "S0iIGqq0DlEz",
    "outputId": "4f42a088-639b-4bf6-84a5-c8a8deefa4a7"
   },
   "outputs": [],
   "source": [
    "# set(df_full.columns)"
   ]
  },
  {
   "cell_type": "code",
   "execution_count": 11,
   "metadata": {
    "colab": {
     "base_uri": "https://localhost:8080/"
    },
    "id": "V4OSS7EfFWLD",
    "outputId": "5cba5f6a-118e-4979-8194-000e45123b90"
   },
   "outputs": [
    {
     "name": "stdout",
     "output_type": "stream",
     "text": [
      "%good records = 98%\n"
     ]
    }
   ],
   "source": [
    "# any records where the cwa_determination is contrary to expectations?\n",
    "good_records = (df_full.apply(lambda x: \n",
    "               (np.sum(x.cwa1 + x.cwa2 + x.cwa3 + x.cwa4 + x.cwa5 + \n",
    "                       x.cwa6 + x.cwa7 + x.cwa8 + x.cwa9) > 0) * 1 \n",
    "               == x.cwa_determination, \n",
    "               axis=1))\n",
    "\n",
    "print(\"%good records = {}%\".format(round(np.mean(good_records) * 100)))"
   ]
  },
  {
   "cell_type": "code",
   "execution_count": 12,
   "metadata": {
    "colab": {
     "base_uri": "https://localhost:8080/",
     "height": 276
    },
    "id": "MUI--cUNFmXp",
    "outputId": "08a07e58-d2a0-4ead-c85a-7e9edbf94883"
   },
   "outputs": [
    {
     "data": {
      "text/html": [
       "<div>\n",
       "<style scoped>\n",
       "    .dataframe tbody tr th:only-of-type {\n",
       "        vertical-align: middle;\n",
       "    }\n",
       "\n",
       "    .dataframe tbody tr th {\n",
       "        vertical-align: top;\n",
       "    }\n",
       "\n",
       "    .dataframe thead th {\n",
       "        text-align: right;\n",
       "    }\n",
       "</style>\n",
       "<table border=\"1\" class=\"dataframe\">\n",
       "  <thead>\n",
       "    <tr style=\"text-align: right;\">\n",
       "      <th></th>\n",
       "      <th>cwa5</th>\n",
       "      <th>cwa1</th>\n",
       "      <th>cwa8</th>\n",
       "      <th>cwa6</th>\n",
       "      <th>rha_determination</th>\n",
       "      <th>longitude</th>\n",
       "      <th>cwa7</th>\n",
       "      <th>potential_wetland</th>\n",
       "      <th>district</th>\n",
       "      <th>cwa3</th>\n",
       "      <th>...</th>\n",
       "      <th>county</th>\n",
       "      <th>state</th>\n",
       "      <th>closest_wb_distance_m</th>\n",
       "      <th>closest_fl_distance_m</th>\n",
       "      <th>closest_fl_area_sqkm</th>\n",
       "      <th>closest_wb_area_sqkm</th>\n",
       "      <th>closest_fl_elevation</th>\n",
       "      <th>closest_wb_elevation</th>\n",
       "      <th>huc4</th>\n",
       "      <th>huc6</th>\n",
       "    </tr>\n",
       "  </thead>\n",
       "  <tbody>\n",
       "    <tr>\n",
       "      <th>36</th>\n",
       "      <td>0</td>\n",
       "      <td>0</td>\n",
       "      <td>0</td>\n",
       "      <td>0</td>\n",
       "      <td>0</td>\n",
       "      <td>-77.58614</td>\n",
       "      <td>0</td>\n",
       "      <td>1</td>\n",
       "      <td>Buffalo</td>\n",
       "      <td>0</td>\n",
       "      <td>...</td>\n",
       "      <td>Monroe</td>\n",
       "      <td>36</td>\n",
       "      <td>1.57328</td>\n",
       "      <td>NaN</td>\n",
       "      <td>NaN</td>\n",
       "      <td>0.060</td>\n",
       "      <td>NaN</td>\n",
       "      <td>156.193548</td>\n",
       "      <td>0414</td>\n",
       "      <td>041401</td>\n",
       "    </tr>\n",
       "    <tr>\n",
       "      <th>50</th>\n",
       "      <td>0</td>\n",
       "      <td>0</td>\n",
       "      <td>0</td>\n",
       "      <td>0</td>\n",
       "      <td>0</td>\n",
       "      <td>-78.89428</td>\n",
       "      <td>0</td>\n",
       "      <td>1</td>\n",
       "      <td>Buffalo</td>\n",
       "      <td>0</td>\n",
       "      <td>...</td>\n",
       "      <td>Niagara</td>\n",
       "      <td>36</td>\n",
       "      <td>NaN</td>\n",
       "      <td>0.87247</td>\n",
       "      <td>1.1484</td>\n",
       "      <td>NaN</td>\n",
       "      <td>121.0</td>\n",
       "      <td>NaN</td>\n",
       "      <td>0413</td>\n",
       "      <td>041300</td>\n",
       "    </tr>\n",
       "    <tr>\n",
       "      <th>56</th>\n",
       "      <td>0</td>\n",
       "      <td>0</td>\n",
       "      <td>0</td>\n",
       "      <td>0</td>\n",
       "      <td>0</td>\n",
       "      <td>-78.98265</td>\n",
       "      <td>0</td>\n",
       "      <td>1</td>\n",
       "      <td>Buffalo</td>\n",
       "      <td>0</td>\n",
       "      <td>...</td>\n",
       "      <td>Niagara</td>\n",
       "      <td>36</td>\n",
       "      <td>2.11826</td>\n",
       "      <td>1.20083</td>\n",
       "      <td>3.3237</td>\n",
       "      <td>4.196</td>\n",
       "      <td>194.0</td>\n",
       "      <td>194.000000</td>\n",
       "      <td>0412</td>\n",
       "      <td>041201</td>\n",
       "    </tr>\n",
       "  </tbody>\n",
       "</table>\n",
       "<p>3 rows × 494 columns</p>\n",
       "</div>"
      ],
      "text/plain": [
       "    cwa5  cwa1  cwa8  cwa6  rha_determination  longitude  cwa7  \\\n",
       "36     0     0     0     0                  0  -77.58614     0   \n",
       "50     0     0     0     0                  0  -78.89428     0   \n",
       "56     0     0     0     0                  0  -78.98265     0   \n",
       "\n",
       "    potential_wetland district  cwa3  ...   county  state  \\\n",
       "36                  1  Buffalo     0  ...   Monroe     36   \n",
       "50                  1  Buffalo     0  ...  Niagara     36   \n",
       "56                  1  Buffalo     0  ...  Niagara     36   \n",
       "\n",
       "    closest_wb_distance_m  closest_fl_distance_m closest_fl_area_sqkm  \\\n",
       "36                1.57328                    NaN                  NaN   \n",
       "50                    NaN                0.87247               1.1484   \n",
       "56                2.11826                1.20083               3.3237   \n",
       "\n",
       "    closest_wb_area_sqkm closest_fl_elevation  closest_wb_elevation  huc4  \\\n",
       "36                 0.060                  NaN            156.193548  0414   \n",
       "50                   NaN                121.0                   NaN  0413   \n",
       "56                 4.196                194.0            194.000000  0412   \n",
       "\n",
       "      huc6  \n",
       "36  041401  \n",
       "50  041300  \n",
       "56  041201  \n",
       "\n",
       "[3 rows x 494 columns]"
      ]
     },
     "execution_count": 12,
     "metadata": {},
     "output_type": "execute_result"
    }
   ],
   "source": [
    "# peek at not good records\n",
    "df_full[~good_records].head(3)"
   ]
  },
  {
   "cell_type": "markdown",
   "metadata": {},
   "source": [
    "# Feature Engineering\n"
   ]
  },
  {
   "cell_type": "code",
   "execution_count": 13,
   "metadata": {},
   "outputs": [
    {
     "data": {
      "text/plain": [
       "Index(['cwa5', 'cwa1', 'cwa8', 'cwa6', 'rha_determination', 'longitude',\n",
       "       'cwa7', 'potential_wetland', 'district', 'cwa3',\n",
       "       ...\n",
       "       'county', 'state', 'closest_wb_distance_m', 'closest_fl_distance_m',\n",
       "       'closest_fl_area_sqkm', 'closest_wb_area_sqkm', 'closest_fl_elevation',\n",
       "       'closest_wb_elevation', 'huc4', 'huc6'],\n",
       "      dtype='object', length=494)"
      ]
     },
     "execution_count": 13,
     "metadata": {},
     "output_type": "execute_result"
    }
   ],
   "source": [
    "df_full.columns"
   ]
  },
  {
   "cell_type": "code",
   "execution_count": 14,
   "metadata": {},
   "outputs": [
    {
     "data": {
      "image/png": "[encoded data removed]",
      "text/plain": [
       "<Figure size 432x288 with 1 Axes>"
      ]
     },
     "metadata": {
      "needs_background": "light"
     },
     "output_type": "display_data"
    }
   ],
   "source": [
    "plt.hist(df_full.apply(lambda x: np.log(x.closest_wb_distance_m), axis=1))\n",
    "df_full[\"closest_wb_distance_m\"] = df_full.apply(lambda x: np.log(x.closest_wb_distance_m), axis=1)"
   ]
  },
  {
   "cell_type": "code",
   "execution_count": 15,
   "metadata": {},
   "outputs": [
    {
     "data": {
      "image/png": "[encoded data removed]",
      "text/plain": [
       "<Figure size 432x288 with 1 Axes>"
      ]
     },
     "metadata": {
      "needs_background": "light"
     },
     "output_type": "display_data"
    }
   ],
   "source": [
    "plt.hist(df_full.apply(lambda x: np.log(x.closest_fl_distance_m), axis=1))\n",
    "df_full[\"closest_fl_distance_m\"] = df_full.apply(lambda x: np.log(x.closest_fl_distance_m), axis=1)"
   ]
  },
  {
   "cell_type": "code",
   "execution_count": 16,
   "metadata": {},
   "outputs": [
    {
     "data": {
      "image/png": "[encoded data removed]",
      "text/plain": [
       "<Figure size 432x288 with 1 Axes>"
      ]
     },
     "metadata": {
      "needs_background": "light"
     },
     "output_type": "display_data"
    }
   ],
   "source": [
    "plt.hist(df_full.apply(lambda x: np.log(x.closest_wb_area_sqkm) if x.closest_wb_area_sqkm > 0 else np.nan, axis=1))\n",
    "df_full[\"closest_wb_area_sqkm\"] = df_full.apply(lambda x: np.log(x.closest_wb_area_sqkm) if x.closest_wb_area_sqkm > 0 else np.nan, axis=1)"
   ]
  },
  {
   "cell_type": "code",
   "execution_count": 17,
   "metadata": {},
   "outputs": [
    {
     "data": {
      "image/png": "[encoded data removed]",
      "text/plain": [
       "<Figure size 432x288 with 1 Axes>"
      ]
     },
     "metadata": {
      "needs_background": "light"
     },
     "output_type": "display_data"
    }
   ],
   "source": [
    "plt.hist(df_full.apply(lambda x: np.log(x.closest_fl_area_sqkm) if x.closest_fl_area_sqkm > 0 else np.nan, axis=1))\n",
    "df_full[\"closest_fl_area_sqkm\"] = df_full.apply(lambda x: np.log(x.closest_fl_area_sqkm) if x.closest_fl_area_sqkm > 0 else np.nan, axis=1)"
   ]
  },
  {
   "cell_type": "code",
   "execution_count": 18,
   "metadata": {},
   "outputs": [
    {
     "data": {
      "image/png": "[encoded data removed]",
      "text/plain": [
       "<Figure size 432x288 with 1 Axes>"
      ]
     },
     "metadata": {
      "needs_background": "light"
     },
     "output_type": "display_data"
    }
   ],
   "source": [
    "plt.hist(df_full.apply(lambda x: np.log(x.closest_wb_elevation) if x.closest_wb_elevation > 0 else np.nan, axis=1))\n",
    "df_full[\"closest_wb_elevation\"] = df_full.apply(lambda x: np.log(x.closest_wb_elevation) if x.closest_wb_elevation > 0 else np.nan, axis=1)"
   ]
  },
  {
   "cell_type": "code",
   "execution_count": 19,
   "metadata": {},
   "outputs": [
    {
     "data": {
      "image/png": "[encoded data removed]",
      "text/plain": [
       "<Figure size 432x288 with 1 Axes>"
      ]
     },
     "metadata": {
      "needs_background": "light"
     },
     "output_type": "display_data"
    }
   ],
   "source": [
    "plt.hist(df_full.apply(lambda x: np.log(x.closest_fl_elevation) if x.closest_fl_elevation > 0 else np.nan, axis=1))\n",
    "df_full[\"closest_fl_elevation\"] = df_full.apply(lambda x: np.log(x.closest_fl_elevation) if x.closest_fl_elevation > 0 else np.nan, axis=1)"
   ]
  },
  {
   "cell_type": "code",
   "execution_count": null,
   "metadata": {},
   "outputs": [],
   "source": []
  },
  {
   "cell_type": "markdown",
   "metadata": {
    "id": "wS52NjAa4kE_"
   },
   "source": [
    "# Train-Dev-Test Splits"
   ]
  },
  {
   "cell_type": "code",
   "execution_count": 20,
   "metadata": {
    "id": "Tc_mmRYBKxU6"
   },
   "outputs": [],
   "source": [
    "df_full = df_full[good_records]\n",
    "\n",
    "if dev:\n",
    "    df, df_test = train_test_split(df_full, test_size=0.2, random_state = random_state) # 20% test\n",
    "    df, df_dev = train_test_split(df, test_size=0.25, random_state = random_state) # 60% train, 20% dev\n",
    "else:\n",
    "    df, df_test = train_test_split(df_full, test_size=0.2, random_state = random_state) # 80% train, 20% test\n",
    "    df_dev = df_test.copy()\n",
    "    \n",
    "# df, df_test = train_test_split(df_full, test_size=0.95, random_state = 123)"
   ]
  },
  {
   "cell_type": "code",
   "execution_count": 21,
   "metadata": {},
   "outputs": [
    {
     "data": {
      "text/plain": [
       "(8592, 494)"
      ]
     },
     "execution_count": 21,
     "metadata": {},
     "output_type": "execute_result"
    }
   ],
   "source": [
    "df.shape"
   ]
  },
  {
   "cell_type": "markdown",
   "metadata": {
    "id": "bODkeQCDPr24"
   },
   "source": [
    "# EDA"
   ]
  },
  {
   "cell_type": "markdown",
   "metadata": {
    "id": "0Zs23ZZxPtnN"
   },
   "source": [
    "### Remove cols with all NaNs"
   ]
  },
  {
   "cell_type": "code",
   "execution_count": 22,
   "metadata": {
    "id": "vBwbLX6YPwT_"
   },
   "outputs": [],
   "source": [
    "nan_cols = []\n",
    "for col in df.columns:\n",
    "  nan_frac = np.mean(df[str(col)].isna())\n",
    "  if nan_frac == 1:\n",
    "    nan_cols.append(col)\n",
    "nan_cols\n",
    "df.drop(nan_cols, inplace=True, axis=1)\n",
    "\n",
    "# two cols are removed here"
   ]
  },
  {
   "cell_type": "code",
   "execution_count": 23,
   "metadata": {},
   "outputs": [
    {
     "data": {
      "text/plain": [
       "(8592, 492)"
      ]
     },
     "execution_count": 23,
     "metadata": {},
     "output_type": "execute_result"
    }
   ],
   "source": [
    "df.shape"
   ]
  },
  {
   "cell_type": "code",
   "execution_count": 24,
   "metadata": {
    "colab": {
     "base_uri": "https://localhost:8080/"
    },
    "id": "BxWXqayaFhXp",
    "outputId": "52c2ceb0-fc0c-49ce-8fb4-4050e7c7f778"
   },
   "outputs": [
    {
     "data": {
      "text/plain": [
       "True"
      ]
     },
     "execution_count": 24,
     "metadata": {},
     "output_type": "execute_result"
    }
   ],
   "source": [
    "\"county\" in df_full.columns"
   ]
  },
  {
   "cell_type": "markdown",
   "metadata": {
    "id": "wlZ2nLgVPOn1"
   },
   "source": [
    "# Feature Selection"
   ]
  },
  {
   "cell_type": "code",
   "execution_count": 25,
   "metadata": {
    "colab": {
     "base_uri": "https://localhost:8080/"
    },
    "id": "xlE_M1C2PIgp",
    "outputId": "af65405c-4220-4fe4-c5b9-c922d395bfde"
   },
   "outputs": [],
   "source": [
    "df_num_features = pd.DataFrame(df.describe().columns)\n",
    "# for count, col in enumerate(df.describe().columns):\n",
    "#   print(count, col)\n",
    "\n",
    "# 5, 7, 14, 17, 19:445"
   ]
  },
  {
   "cell_type": "code",
   "execution_count": 26,
   "metadata": {},
   "outputs": [
    {
     "data": {
      "text/plain": [
       "(462, 1)"
      ]
     },
     "execution_count": 26,
     "metadata": {},
     "output_type": "execute_result"
    }
   ],
   "source": [
    "df_num_features.shape"
   ]
  },
  {
   "cell_type": "markdown",
   "metadata": {
    "id": "kQVQGqHhGkE_"
   },
   "source": [
    "## Numerical Feature Selection"
   ]
  },
  {
   "cell_type": "code",
   "execution_count": 27,
   "metadata": {
    "colab": {
     "base_uri": "https://localhost:8080/"
    },
    "id": "viN9PWn5PY7H",
    "outputId": "25a607e3-e822-47b5-908e-ff201a1ac251"
   },
   "outputs": [],
   "source": [
    "# numerical features of interest: \n",
    "if run_models:\n",
    "    imp_num_feature_list = [5, 7, 11] + list(range(17, 30)) + list(range(31, len(df_num_features))) # baseline\n",
    "    # imp_num_feature_list = list(range(19, 445))  # v9.5: no lat, lon, potential_wetland, district, mukey\n",
    "    imp_num_feature = df_num_features.loc[imp_num_feature_list]\n",
    "    imp_num_feature = list(imp_num_feature.values.flatten())\n",
    "    file_param_dict[\"imp_num_feature\"] = imp_num_feature\n",
    "else:\n",
    "    imp_num_feature = file_param_dict[\"imp_num_feature\"]"
   ]
  },
  {
   "cell_type": "markdown",
   "metadata": {
    "id": "GfKbTgYTGohQ"
   },
   "source": [
    "## Categorical Feature Selection"
   ]
  },
  {
   "cell_type": "code",
   "execution_count": 28,
   "metadata": {},
   "outputs": [
    {
     "data": {
      "text/plain": [
       "{'county',\n",
       " 'da_number',\n",
       " 'date_issued_or_denied',\n",
       " 'district',\n",
       " 'drclassdcd',\n",
       " 'drclasswet',\n",
       " 'engcmssdcd',\n",
       " 'engcmssmp',\n",
       " 'engdwbdcd',\n",
       " 'engdwbll',\n",
       " 'engdwbml',\n",
       " 'engdwobdcd',\n",
       " 'englrsdcd',\n",
       " 'engsldcd',\n",
       " 'engsldcp',\n",
       " 'engstafdcd',\n",
       " 'engstafll',\n",
       " 'engstafml',\n",
       " 'flodfreqdc',\n",
       " 'flodfreqma',\n",
       " 'forpehrtdc',\n",
       " 'huc4',\n",
       " 'huc6',\n",
       " 'hydgrpdcd',\n",
       " 'jurisdiction_type',\n",
       " 'mustatus',\n",
       " 'nwi_wetland_list_200m',\n",
       " 'nwi_wetland_list_2500m',\n",
       " 'state',\n",
       " 'urbrecptdc'}"
      ]
     },
     "execution_count": 28,
     "metadata": {},
     "output_type": "execute_result"
    }
   ],
   "source": [
    "# peek at categorical features\n",
    "set(df.columns) - set(df.describe().columns)\n",
    "# len(set(df.describe().columns))\n",
    "# df.shape"
   ]
  },
  {
   "cell_type": "code",
   "execution_count": 29,
   "metadata": {
    "id": "n5JCwDs_Q8pW"
   },
   "outputs": [],
   "source": [
    "# call out the important categorical features\n",
    "\n",
    "\n",
    "# imp_cat_feature = ['district', 'flodfreqdc', 'drclassdcd', 'county', 'jurisdiction_type'] # baseline\n",
    "# # imp_cat_feature = ['flodfreqdc', 'drclassdcd','jurisdiction_type'] # v9.5 \n",
    "\n",
    "if run_models:\n",
    "    imp_cat_feature = ['county',\n",
    "     'district',\n",
    "     'drclassdcd',\n",
    "     'drclasswet',\n",
    "     'engcmssdcd',\n",
    "     'engcmssmp',\n",
    "     'engdwbdcd',\n",
    "     'engdwbll',\n",
    "     'engdwbml',\n",
    "     'engdwobdcd',\n",
    "     'englrsdcd',\n",
    "     'engsldcd',\n",
    "     'engsldcp',\n",
    "     'engstafdcd',\n",
    "     'engstafll',\n",
    "     'engstafml',\n",
    "     'flodfreqdc',\n",
    "     'flodfreqma',\n",
    "     'forpehrtdc',\n",
    "     'huc4',\n",
    "     'hydgrpdcd',\n",
    "     'jurisdiction_type',\n",
    "     'state',\n",
    "     'urbrecptdc']\n",
    "    file_param_dict[\"imp_cat_feature\"] = imp_cat_feature\n",
    "else:\n",
    "    imp_cat_feature = file_param_dict[\"imp_cat_feature\"]"
   ]
  },
  {
   "cell_type": "markdown",
   "metadata": {
    "id": "VweeykE-4Ter"
   },
   "source": [
    "# Order Train-Dev-Test splits\n"
   ]
  },
  {
   "cell_type": "code",
   "execution_count": 30,
   "metadata": {
    "colab": {
     "base_uri": "https://localhost:8080/"
    },
    "id": "eqbXGvZIRHGi",
    "outputId": "6238c23e-8db0-4cc0-fe3c-71f547ef6e6a"
   },
   "outputs": [
    {
     "data": {
      "text/plain": [
       "(2865, 471)"
      ]
     },
     "execution_count": 30,
     "metadata": {},
     "output_type": "execute_result"
    }
   ],
   "source": [
    "# re-arrange so numerical columns go first, then the categorical\n",
    "df1 = df[imp_num_feature]\n",
    "df2 = df[imp_cat_feature]\n",
    "\n",
    "# train\n",
    "df_X_combined_ordered = pd.concat([df1, df2], axis=1)\n",
    "\n",
    "# dev\n",
    "df_dev_X = pd.concat([df_dev[imp_num_feature], df_dev[imp_cat_feature]], axis=1)\n",
    "\n",
    "\n",
    "# test\n",
    "df_test_X = pd.concat([df_test[imp_num_feature], df_test[imp_cat_feature]], axis=1)\n",
    "\n",
    "\n",
    "df_X_combined_ordered.columns #44\n",
    "df_X_combined_ordered.shape # (10000, 44)\n",
    "df_test_X.shape # (4500, 44)"
   ]
  },
  {
   "cell_type": "code",
   "execution_count": 31,
   "metadata": {},
   "outputs": [
    {
     "data": {
      "text/plain": [
       "['longitude',\n",
       " 'potential_wetland',\n",
       " 'latitude',\n",
       " 'niccdcd',\n",
       " 'aws0100wta',\n",
       " 'wtdepannmi',\n",
       " 'niccdcdpct',\n",
       " 'hydclprs',\n",
       " 'aws025wta',\n",
       " 'wtdepaprju',\n",
       " 'slopegradw',\n",
       " 'iccdcdpct',\n",
       " 'urbrecptwt',\n",
       " 'brockdepmi',\n",
       " 'iccdcd',\n",
       " 'pondfreqpr',\n",
       " 'aws0150wta',\n",
       " 'aws050wta',\n",
       " 'slopegradd',\n",
       " 'awmmfpwwta',\n",
       " 'transition_9_200m',\n",
       " 'recurrence_mean_200m',\n",
       " 'transition_2_200m',\n",
       " 'seasonality_min_200m',\n",
       " 'transition_8_200m',\n",
       " 'transition_5_200m',\n",
       " 'seasonality_stdev_200m',\n",
       " 'seasonality_max_200m',\n",
       " 'recurrence_min_200m',\n",
       " 'recurrence_max_200m',\n",
       " 'transition_7_200m',\n",
       " 'slope_min_200m',\n",
       " 'elevation_min_200m',\n",
       " 'transition_0_200m',\n",
       " 'elevation_mean_200m',\n",
       " 'elevation_max_200m',\n",
       " 'slope_max_200m',\n",
       " 'transition_3_200m',\n",
       " 'transition_4_200m',\n",
       " 'elevation_stdev_200m',\n",
       " 'recurrence_stdev_200m',\n",
       " 'transition_1_200m',\n",
       " 'transition_6_200m',\n",
       " 'slope_stdev_200m',\n",
       " 'seasonality_mean_200m',\n",
       " 'slope_mean_200m',\n",
       " 'wb_area_sum_200m',\n",
       " 'fl_length_sum_200m',\n",
       " 'wb_area_mean_200m',\n",
       " 'fl_intephem_count_200m',\n",
       " 'fl_streamorde_sum_200m',\n",
       " 'wb_ftype_artificialpath_200m',\n",
       " 'fl_ftype_pipeline_200m',\n",
       " 'wb_ftype_canalditch_200m',\n",
       " 'wb_gnis_name_ind_count_200m',\n",
       " 'fl_flow_type_mean_200m',\n",
       " 'wb_ftype_coastline_200m',\n",
       " 'fl_areasqkm_count_200m',\n",
       " 'fl_areasqkm_sum_200m',\n",
       " 'fl_areasqkm_mean_200m',\n",
       " 'fl_intephem_mean_200m',\n",
       " 'fl_streamorde_count_200m',\n",
       " 'wb_ftype_streamriver_200m',\n",
       " 'fl_totdasqkm_sum_200m',\n",
       " 'fl_gnis_name_ind_count_200m',\n",
       " 'fl_flow_type_count_200m',\n",
       " 'fl_startflag_mean_200m',\n",
       " 'fl_ftype_canalditch_200m',\n",
       " 'fl_gnis_name_ind_sum_200m',\n",
       " 'wb_gnis_name_ind_sum_200m',\n",
       " 'fl_startflag_count_200m',\n",
       " 'fl_totdasqkm_count_200m',\n",
       " 'wb_ftype_pipeline_200m',\n",
       " 'fl_divergence_count_200m',\n",
       " 'fl_length_mean_200m',\n",
       " 'fl_flow_type_sum_200m',\n",
       " 'wb_area_count_200m',\n",
       " 'fl_ftype_coastline_200m',\n",
       " 'wb_ftype_connector_200m',\n",
       " 'fl_length_count_200m',\n",
       " 'fl_streamorde_mean_200m',\n",
       " 'fl_intephem_sum_200m',\n",
       " 'fl_ftype_connector_200m',\n",
       " 'fl_divergence_sum_200m',\n",
       " 'fl_ftype_streamriver_200m',\n",
       " 'fl_gnis_name_ind_mean_200m',\n",
       " 'fl_totdasqkm_mean_200m',\n",
       " 'fl_ftype_artificialpath_200m',\n",
       " 'fl_divergence_mean_200m',\n",
       " 'fl_startflag_sum_200m',\n",
       " 'wb_gnis_name_ind_mean_200m',\n",
       " 'nwi_SYSTEM_NAME_marine_200m',\n",
       " 'nwi_FIRST_MODIFIER_NAME_mesohaline_200m',\n",
       " 'nwi_SUBSYSTEM_NAME_littoral_200m',\n",
       " 'nwi_WATER_REGIME_NAME_seasonally_flooded-tidal_200m',\n",
       " 'nwi_FIRST_MODIFIER_NAME_hyperhaline/hypersaline_200m',\n",
       " 'nwi_FIRST_MODIFIER_NAME_diked/impounded_200m',\n",
       " 'nwi_WATER_REGIME_NAME_semipermanently_flooded_200m',\n",
       " 'nwi_SUBSYSTEM_NAME_intertidal_200m',\n",
       " 'nwi_SPLIT_CLASS_NAME_unconsolidated_shore_200m',\n",
       " 'nwi_CLASS_NAME_forested_200m',\n",
       " 'nwi_SPLIT_SUBCLASS_NAME_rooted_vascular_200m',\n",
       " 'nwi_FIRST_MODIFIER_NAME_acid_200m',\n",
       " 'nwi_estuarine_and_marine_wetland_200m',\n",
       " 'nwi_SUBCLASS_NAME_aquatic_moss_200m',\n",
       " 'nwi_SUBCLASS_NAME_evergreen_200m',\n",
       " 'nwi_SUBCLASS_NAME_floating_vascular_200m',\n",
       " 'nwi_lake_200m',\n",
       " 'nwi_SUBCLASS_NAME_non_persistent_200m',\n",
       " 'nwi_SUBCLASS_NAME_sand_200m',\n",
       " 'nwi_WATER_REGIME_NAME_permanently_flooded-tidal_200m',\n",
       " 'nwi_WATER_REGIME_SUBGROUP_zzz_200m',\n",
       " 'nwi_SPLIT_CLASS_NAME_zzz_200m',\n",
       " 'nwi_SUBCLASS_NAME_cobble-gravel_200m',\n",
       " 'nwi_SUBCLASS_NAME_dead_200m',\n",
       " 'nwi_CLASS_NAME_unconsolidated_shore_200m',\n",
       " 'nwi_CLASS_NAME_zzz_200m',\n",
       " 'nwi_WATER_REGIME_NAME_irregularly_flooded_200m',\n",
       " 'nwi_FIRST_MODIFIER_NAME_mixohaline/mixosaline_(brackish)_200m',\n",
       " 'nwi_SPLIT_SUBCLASS_NAME_mollusk_200m',\n",
       " 'nwi_WATER_REGIME_SUBGROUP_nontidal_200m',\n",
       " 'nwi_shrub_wetland_200m',\n",
       " 'nwi_SPLIT_SUBCLASS_NAME_cobble-gravel_200m',\n",
       " 'nwi_WATER_REGIME_NAME_subtidal_200m',\n",
       " 'nwi_SPLIT_SUBCLASS_NAME_dead_200m',\n",
       " 'nwi_SUBCLASS_NAME_phragmites_australis_200m',\n",
       " 'nwi_FIRST_MODIFIER_NAME_spoil_200m',\n",
       " 'nwi_other_200m',\n",
       " 'nwi_FIRST_MODIFIER_NAME_beaver_200m',\n",
       " 'nwi_SPLIT_CLASS_NAME_rocky_shore_200m',\n",
       " 'nwi_SUBCLASS_NAME_persistent_200m',\n",
       " 'nwi_SPLIT_CLASS_NAME_forested_200m',\n",
       " 'nwi_SUBCLASS_NAME_organic_200m',\n",
       " 'nwi_SUBCLASS_NAME_lichen_200m',\n",
       " 'nwi_WATER_REGIME_NAME_intermittently_exposed_200m',\n",
       " 'nwi_SUBCLASS_NAME_needle-leaved_deciduous_200m',\n",
       " 'nwi_SYSTEM_NAME_estuarine_200m',\n",
       " 'nwi_SPLIT_SUBCLASS_NAME_needle-leaved_deciduous_200m',\n",
       " 'nwi_FIRST_MODIFIER_NAME_polyhaline_200m',\n",
       " 'nwi_estuarine_and_marine_deepwater_200m',\n",
       " 'nwi_SUBSYSTEM_NAME_limnetic_200m',\n",
       " 'nwi_CLASS_NAME_rocky_shore_200m',\n",
       " 'nwi_SPLIT_SUBCLASS_NAME_vegetated_200m',\n",
       " 'nwi_WATER_REGIME_SUBGROUP_freshwater_tidal_200m',\n",
       " 'nwi_SPLIT_SUBCLASS_NAME_mud_200m',\n",
       " 'nwi_WATER_REGIME_NAME_zzz_200m',\n",
       " 'nwi_SUBCLASS_NAME_bedrock_200m',\n",
       " 'nwi_freshwater_forested_200m',\n",
       " 'nwi_SUBSYSTEM_NAME_lower_perennial_200m',\n",
       " 'nwi_FIRST_MODIFIER_NAME_mineral_200m',\n",
       " 'nwi_SUBCLASS_NAME_vegetated_200m',\n",
       " 'nwi_SPLIT_CLASS_NAME_emergent_200m',\n",
       " 'nwi_SPLIT_CLASS_NAME_unconsolidated_bottom_200m',\n",
       " 'nwi_SYSTEM_NAME_lacustrine_200m',\n",
       " 'nwi_CLASS_NAME_emergent_200m',\n",
       " 'nwi_WATER_REGIME_NAME_temporary_flooded_200m',\n",
       " 'nwi_FIRST_MODIFIER_NAME_organic_200m',\n",
       " 'nwi_SPLIT_SUBCLASS_NAME_sand_200m',\n",
       " 'nwi_freshwater_pond_200m',\n",
       " 'nwi_SPLIT_CLASS_NAME_moss-lichen_200m',\n",
       " 'nwi_FIRST_MODIFIER_NAME_oligohaline_200m',\n",
       " 'nwi_SUBCLASS_NAME_deciduous_200m',\n",
       " 'nwi_WATER_REGIME_NAME_regularly_flooded_200m',\n",
       " 'nwi_SUBCLASS_NAME_broad-leaved_evergreen_200m',\n",
       " 'nwi_WATER_REGIME_NAME_seasonally_saturated_200m',\n",
       " 'nwi_SPLIT_SUBCLASS_NAME_deciduous_200m',\n",
       " 'nwi_WATER_REGIME_NAME_artificially_flooded_200m',\n",
       " 'nwi_SUBCLASS_NAME_needle-leaved_evergreen_200m',\n",
       " 'nwi_riverine_200m',\n",
       " 'nwi_FIRST_MODIFIER_NAME_euthaline/eusaline_200m',\n",
       " 'nwi_CLASS_NAME_reef_200m',\n",
       " 'nwi_SUBCLASS_NAME_rubble_200m',\n",
       " 'nwi_freshwater_emergent_wetland_200m',\n",
       " 'nwi_SPLIT_SUBCLASS_NAME_evergreen_200m',\n",
       " 'nwi_CLASS_NAME_rock_bottom_200m',\n",
       " 'nwi_SUBSYSTEM_NAME_unknown_perennial_200m',\n",
       " 'nwi_WATER_REGIME_NAME_permanently_flooded_200m',\n",
       " 'nwi_SPLIT_SUBCLASS_NAME_non_persistent_200m',\n",
       " 'nwi_FIRST_MODIFIER_NAME_excavated_200m',\n",
       " 'nwi_SUBCLASS_NAME_zzz_200m',\n",
       " 'nwi_SPLIT_SUBCLASS_NAME_rubble_200m',\n",
       " 'nwi_SPLIT_SUBCLASS_NAME_persistent_200m',\n",
       " 'nwi_SPLIT_SUBCLASS_NAME_aquatic_moss_200m',\n",
       " 'nwi_SUBCLASS_NAME_broad-leaved_deciduous_200m',\n",
       " 'nwi_FIRST_MODIFIER_NAME_zzz_200m',\n",
       " 'nwi_FIRST_MODIFIER_NAME_artificial_substrate_200m',\n",
       " 'nwi_SPLIT_SUBCLASS_NAME_moss_200m',\n",
       " 'nwi_CLASS_NAME_moss-lichen_200m',\n",
       " 'nwi_CLASS_NAME_scrub-shrub_200m',\n",
       " 'nwi_FIRST_MODIFIER_NAME_alkaline_200m',\n",
       " 'nwi_SPLIT_SUBCLASS_NAME_needle-leaved_evergreen_200m',\n",
       " 'nwi_SUBSYSTEM_NAME_upper_perennial_200m',\n",
       " 'nwi_SUBCLASS_NAME_algal_200m',\n",
       " 'nwi_SPLIT_SUBCLASS_NAME_broad-leaved_deciduous_200m',\n",
       " 'nwi_SYSTEM_NAME_riverine_200m',\n",
       " 'nwi_SUBCLASS_NAME_coral_200m',\n",
       " 'nwi_SUBCLASS_NAME_mud_200m',\n",
       " 'nwi_SPLIT_CLASS_NAME_aquatic_bed_200m',\n",
       " 'nwi_SYSTEM_NAME_palustrine_200m',\n",
       " 'nwi_SPLIT_CLASS_NAME_scrub-shrub_200m',\n",
       " 'nwi_FIRST_MODIFIER_NAME_partially_drained/ditched_200m',\n",
       " 'nwi_SUBSYSTEM_NAME_subtidal_200m',\n",
       " 'nwi_SPLIT_SUBCLASS_NAME_coral_200m',\n",
       " 'nwi_SUBSYSTEM_NAME_intermittent_200m',\n",
       " 'nwi_SUBCLASS_NAME_mollusk_200m',\n",
       " 'nwi_SPLIT_SUBCLASS_NAME_floating_vascular_200m',\n",
       " 'nwi_SPLIT_SUBCLASS_NAME_organic_200m',\n",
       " 'nwi_SPLIT_SUBCLASS_NAME_phragmites_australis_200m',\n",
       " 'nwi_feature_count_200m',\n",
       " 'nwi_SPLIT_SUBCLASS_NAME_lichen_200m',\n",
       " 'nwi_WATER_REGIME_NAME_temporary_flooded-tidal_200m',\n",
       " 'nwi_SPLIT_SUBCLASS_NAME_bedrock_200m',\n",
       " 'nwi_WATER_REGIME_SUBGROUP_saltwater_tidal_200m',\n",
       " 'nwi_CLASS_NAME_aquatic_bed_200m',\n",
       " 'nwi_SPLIT_SUBCLASS_NAME_algal_200m',\n",
       " 'nwi_SPLIT_CLASS_NAME_reef_200m',\n",
       " 'nwi_SUBSYSTEM_NAME_tidal_200m',\n",
       " 'nwi_WATER_REGIME_NAME_seasonally_flooded/saturated_200m',\n",
       " 'nwi_FIRST_MODIFIER_NAME_managed_200m',\n",
       " 'nwi_WATER_REGIME_NAME_intermittently_flooded_200m',\n",
       " 'nwi_FIRST_MODIFIER_NAME_farmed_200m',\n",
       " 'nwi_CLASS_NAME_streambed_200m',\n",
       " 'nwi_SPLIT_SUBCLASS_NAME_zzz_200m',\n",
       " 'nwi_WATER_REGIME_NAME_continuously__saturated_200m',\n",
       " 'nwi_SUBCLASS_NAME_rooted_vascular_200m',\n",
       " 'nwi_SPLIT_SUBCLASS_NAME_broad-leaved_evergreen_200m',\n",
       " 'nwi_WATER_REGIME_NAME_seasonally_flooded_200m',\n",
       " 'nwi_CLASS_NAME_unconsolidated_bottom_200m',\n",
       " 'nwi_SUBCLASS_NAME_moss_200m',\n",
       " 'nwi_WATER_REGIME_NAME_irregularly_exposed_200m',\n",
       " 'nwi_WATER_REGIME_NAME_semipermanently_flooded-tidal_200m',\n",
       " 'transition_0_2500m',\n",
       " 'slope_min_2500m',\n",
       " 'recurrence_min_2500m',\n",
       " 'transition_6_2500m',\n",
       " 'elevation_max_2500m',\n",
       " 'transition_5_2500m',\n",
       " 'elevation_min_2500m',\n",
       " 'transition_7_2500m',\n",
       " 'seasonality_min_2500m',\n",
       " 'slope_stdev_2500m',\n",
       " 'transition_4_2500m',\n",
       " 'recurrence_stdev_2500m',\n",
       " 'elevation_stdev_2500m',\n",
       " 'elevation_mean_2500m',\n",
       " 'transition_3_2500m',\n",
       " 'seasonality_max_2500m',\n",
       " 'seasonality_stdev_2500m',\n",
       " 'seasonality_mean_2500m',\n",
       " 'slope_max_2500m',\n",
       " 'slope_mean_2500m',\n",
       " 'transition_8_2500m',\n",
       " 'transition_9_2500m',\n",
       " 'transition_1_2500m',\n",
       " 'recurrence_mean_2500m',\n",
       " 'transition_2_2500m',\n",
       " 'recurrence_max_2500m',\n",
       " 'wb_gnis_name_ind_count_2500m',\n",
       " 'wb_ftype_canalditch_2500m',\n",
       " 'fl_ftype_canalditch_2500m',\n",
       " 'fl_ftype_streamriver_2500m',\n",
       " 'fl_flow_type_sum_2500m',\n",
       " 'fl_divergence_mean_2500m',\n",
       " 'fl_totdasqkm_count_2500m',\n",
       " 'wb_gnis_name_ind_sum_2500m',\n",
       " 'wb_area_mean_2500m',\n",
       " 'fl_divergence_sum_2500m',\n",
       " 'fl_ftype_coastline_2500m',\n",
       " 'fl_ftype_artificialpath_2500m',\n",
       " 'wb_ftype_streamriver_2500m',\n",
       " 'wb_gnis_name_ind_mean_2500m',\n",
       " 'fl_flow_type_count_2500m',\n",
       " 'fl_startflag_sum_2500m',\n",
       " 'fl_intephem_mean_2500m',\n",
       " 'fl_startflag_count_2500m',\n",
       " 'wb_ftype_pipeline_2500m',\n",
       " 'fl_totdasqkm_sum_2500m',\n",
       " 'fl_intephem_count_2500m',\n",
       " 'fl_gnis_name_ind_count_2500m',\n",
       " 'fl_gnis_name_ind_sum_2500m',\n",
       " 'fl_divergence_count_2500m',\n",
       " 'fl_length_mean_2500m',\n",
       " 'fl_areasqkm_mean_2500m',\n",
       " 'fl_length_sum_2500m',\n",
       " 'fl_ftype_connector_2500m',\n",
       " 'fl_streamorde_count_2500m',\n",
       " 'fl_intephem_sum_2500m',\n",
       " 'fl_totdasqkm_mean_2500m',\n",
       " 'wb_ftype_connector_2500m',\n",
       " 'fl_streamorde_sum_2500m',\n",
       " 'wb_ftype_coastline_2500m',\n",
       " 'fl_areasqkm_count_2500m',\n",
       " 'fl_gnis_name_ind_mean_2500m',\n",
       " 'wb_ftype_artificialpath_2500m',\n",
       " 'fl_flow_type_mean_2500m',\n",
       " 'fl_ftype_pipeline_2500m',\n",
       " 'fl_streamorde_mean_2500m',\n",
       " 'wb_area_count_2500m',\n",
       " 'wb_area_sum_2500m',\n",
       " 'fl_length_count_2500m',\n",
       " 'fl_areasqkm_sum_2500m',\n",
       " 'fl_startflag_mean_2500m',\n",
       " 'nwi_WATER_REGIME_NAME_seasonally_flooded/saturated_2500m',\n",
       " 'nwi_WATER_REGIME_NAME_zzz_2500m',\n",
       " 'nwi_SPLIT_CLASS_NAME_zzz_2500m',\n",
       " 'nwi_FIRST_MODIFIER_NAME_polyhaline_2500m',\n",
       " 'nwi_SUBSYSTEM_NAME_limnetic_2500m',\n",
       " 'nwi_freshwater_forested_2500m',\n",
       " 'nwi_SUBCLASS_NAME_coral_2500m',\n",
       " 'nwi_FIRST_MODIFIER_NAME_zzz_2500m',\n",
       " 'nwi_CLASS_NAME_forested_2500m',\n",
       " 'nwi_SPLIT_SUBCLASS_NAME_algal_2500m',\n",
       " 'nwi_WATER_REGIME_SUBGROUP_saltwater_tidal_2500m',\n",
       " 'nwi_SUBCLASS_NAME_algal_2500m',\n",
       " 'nwi_WATER_REGIME_NAME_seasonally_flooded_2500m',\n",
       " 'nwi_SUBCLASS_NAME_deciduous_2500m',\n",
       " 'nwi_SPLIT_SUBCLASS_NAME_cobble-gravel_2500m',\n",
       " 'nwi_SYSTEM_NAME_riverine_2500m',\n",
       " 'nwi_other_2500m',\n",
       " 'nwi_SUBCLASS_NAME_needle-leaved_deciduous_2500m',\n",
       " 'nwi_SPLIT_CLASS_NAME_rocky_shore_2500m',\n",
       " 'nwi_FIRST_MODIFIER_NAME_partially_drained/ditched_2500m',\n",
       " 'nwi_FIRST_MODIFIER_NAME_alkaline_2500m',\n",
       " 'nwi_SPLIT_SUBCLASS_NAME_broad-leaved_evergreen_2500m',\n",
       " 'nwi_SUBSYSTEM_NAME_lower_perennial_2500m',\n",
       " 'nwi_FIRST_MODIFIER_NAME_euthaline/eusaline_2500m',\n",
       " 'nwi_SYSTEM_NAME_estuarine_2500m',\n",
       " 'nwi_WATER_REGIME_NAME_intermittently_exposed_2500m',\n",
       " 'nwi_SPLIT_SUBCLASS_NAME_rubble_2500m',\n",
       " 'nwi_estuarine_and_marine_deepwater_2500m',\n",
       " 'nwi_FIRST_MODIFIER_NAME_spoil_2500m',\n",
       " 'nwi_SUBCLASS_NAME_lichen_2500m',\n",
       " 'nwi_SUBCLASS_NAME_organic_2500m',\n",
       " 'nwi_WATER_REGIME_NAME_seasonally_saturated_2500m',\n",
       " 'nwi_SUBSYSTEM_NAME_tidal_2500m',\n",
       " 'nwi_SPLIT_CLASS_NAME_moss-lichen_2500m',\n",
       " 'nwi_freshwater_pond_2500m',\n",
       " 'nwi_FIRST_MODIFIER_NAME_mineral_2500m',\n",
       " 'nwi_SPLIT_SUBCLASS_NAME_sand_2500m',\n",
       " 'nwi_SUBCLASS_NAME_vegetated_2500m',\n",
       " 'nwi_SPLIT_SUBCLASS_NAME_rooted_vascular_2500m',\n",
       " 'nwi_SPLIT_SUBCLASS_NAME_persistent_2500m',\n",
       " 'nwi_WATER_REGIME_SUBGROUP_freshwater_tidal_2500m',\n",
       " 'nwi_SPLIT_CLASS_NAME_emergent_2500m',\n",
       " 'nwi_CLASS_NAME_reef_2500m',\n",
       " 'nwi_FIRST_MODIFIER_NAME_mixohaline/mixosaline_(brackish)_2500m',\n",
       " 'nwi_SUBCLASS_NAME_sand_2500m',\n",
       " 'nwi_SPLIT_SUBCLASS_NAME_dead_2500m',\n",
       " 'nwi_FIRST_MODIFIER_NAME_beaver_2500m',\n",
       " 'nwi_SUBSYSTEM_NAME_intermittent_2500m',\n",
       " 'nwi_FIRST_MODIFIER_NAME_farmed_2500m',\n",
       " 'nwi_SUBCLASS_NAME_bedrock_2500m',\n",
       " 'nwi_SPLIT_SUBCLASS_NAME_moss_2500m',\n",
       " 'nwi_CLASS_NAME_zzz_2500m',\n",
       " 'nwi_SUBCLASS_NAME_persistent_2500m',\n",
       " 'nwi_SUBCLASS_NAME_rubble_2500m',\n",
       " 'nwi_SUBCLASS_NAME_phragmites_australis_2500m',\n",
       " 'nwi_WATER_REGIME_NAME_permanently_flooded-tidal_2500m',\n",
       " 'nwi_SUBCLASS_NAME_aquatic_moss_2500m',\n",
       " 'nwi_SPLIT_SUBCLASS_NAME_zzz_2500m',\n",
       " 'nwi_CLASS_NAME_aquatic_bed_2500m',\n",
       " 'nwi_FIRST_MODIFIER_NAME_managed_2500m',\n",
       " 'nwi_CLASS_NAME_scrub-shrub_2500m',\n",
       " 'nwi_SPLIT_SUBCLASS_NAME_vegetated_2500m',\n",
       " 'nwi_SPLIT_SUBCLASS_NAME_mollusk_2500m',\n",
       " 'nwi_WATER_REGIME_NAME_continuously__saturated_2500m',\n",
       " 'nwi_SPLIT_CLASS_NAME_unconsolidated_bottom_2500m',\n",
       " 'nwi_SPLIT_SUBCLASS_NAME_phragmites_australis_2500m',\n",
       " 'nwi_CLASS_NAME_unconsolidated_bottom_2500m',\n",
       " 'nwi_SUBCLASS_NAME_broad-leaved_evergreen_2500m',\n",
       " 'nwi_FIRST_MODIFIER_NAME_hyperhaline/hypersaline_2500m',\n",
       " 'nwi_SPLIT_CLASS_NAME_aquatic_bed_2500m',\n",
       " 'nwi_SPLIT_SUBCLASS_NAME_lichen_2500m',\n",
       " 'nwi_WATER_REGIME_NAME_permanently_flooded_2500m',\n",
       " 'nwi_FIRST_MODIFIER_NAME_artificial_substrate_2500m',\n",
       " 'nwi_WATER_REGIME_NAME_temporary_flooded-tidal_2500m',\n",
       " 'nwi_shrub_wetland_2500m',\n",
       " 'nwi_SUBCLASS_NAME_dead_2500m',\n",
       " 'nwi_SPLIT_CLASS_NAME_unconsolidated_shore_2500m',\n",
       " 'nwi_SPLIT_SUBCLASS_NAME_non_persistent_2500m',\n",
       " 'nwi_SUBCLASS_NAME_floating_vascular_2500m',\n",
       " 'nwi_FIRST_MODIFIER_NAME_organic_2500m',\n",
       " 'nwi_SUBSYSTEM_NAME_subtidal_2500m',\n",
       " 'nwi_CLASS_NAME_unconsolidated_shore_2500m',\n",
       " 'nwi_CLASS_NAME_rocky_shore_2500m',\n",
       " 'nwi_SPLIT_SUBCLASS_NAME_coral_2500m',\n",
       " 'nwi_SPLIT_SUBCLASS_NAME_aquatic_moss_2500m',\n",
       " 'nwi_FIRST_MODIFIER_NAME_oligohaline_2500m',\n",
       " 'nwi_FIRST_MODIFIER_NAME_mesohaline_2500m',\n",
       " 'nwi_SPLIT_CLASS_NAME_reef_2500m',\n",
       " 'nwi_lake_2500m',\n",
       " 'nwi_WATER_REGIME_NAME_seasonally_flooded-tidal_2500m',\n",
       " 'nwi_WATER_REGIME_NAME_subtidal_2500m',\n",
       " 'nwi_SUBCLASS_NAME_moss_2500m',\n",
       " 'nwi_SUBCLASS_NAME_zzz_2500m',\n",
       " 'nwi_SUBCLASS_NAME_broad-leaved_deciduous_2500m',\n",
       " 'nwi_SYSTEM_NAME_palustrine_2500m',\n",
       " 'nwi_SPLIT_SUBCLASS_NAME_deciduous_2500m',\n",
       " 'nwi_WATER_REGIME_NAME_semipermanently_flooded-tidal_2500m',\n",
       " 'nwi_SPLIT_SUBCLASS_NAME_organic_2500m',\n",
       " 'nwi_SUBCLASS_NAME_needle-leaved_evergreen_2500m',\n",
       " 'nwi_SUBSYSTEM_NAME_intertidal_2500m',\n",
       " 'nwi_CLASS_NAME_rock_bottom_2500m',\n",
       " 'nwi_WATER_REGIME_NAME_irregularly_flooded_2500m',\n",
       " 'nwi_WATER_REGIME_SUBGROUP_zzz_2500m',\n",
       " 'nwi_SUBCLASS_NAME_mollusk_2500m',\n",
       " 'nwi_FIRST_MODIFIER_NAME_acid_2500m',\n",
       " 'nwi_FIRST_MODIFIER_NAME_diked/impounded_2500m',\n",
       " 'nwi_SUBCLASS_NAME_non_persistent_2500m',\n",
       " 'nwi_SUBSYSTEM_NAME_littoral_2500m',\n",
       " 'nwi_CLASS_NAME_emergent_2500m',\n",
       " 'nwi_WATER_REGIME_NAME_semipermanently_flooded_2500m',\n",
       " 'nwi_SPLIT_SUBCLASS_NAME_floating_vascular_2500m',\n",
       " 'nwi_FIRST_MODIFIER_NAME_excavated_2500m',\n",
       " 'nwi_WATER_REGIME_NAME_artificially_flooded_2500m',\n",
       " 'nwi_SUBSYSTEM_NAME_upper_perennial_2500m',\n",
       " 'nwi_SPLIT_SUBCLASS_NAME_bedrock_2500m',\n",
       " 'nwi_SPLIT_SUBCLASS_NAME_broad-leaved_deciduous_2500m',\n",
       " 'nwi_SPLIT_SUBCLASS_NAME_mud_2500m',\n",
       " 'nwi_WATER_REGIME_NAME_temporary_flooded_2500m',\n",
       " 'nwi_freshwater_emergent_wetland_2500m',\n",
       " 'nwi_SPLIT_CLASS_NAME_forested_2500m',\n",
       " 'nwi_SPLIT_CLASS_NAME_scrub-shrub_2500m',\n",
       " 'nwi_SYSTEM_NAME_lacustrine_2500m',\n",
       " 'nwi_SUBCLASS_NAME_rooted_vascular_2500m',\n",
       " 'nwi_WATER_REGIME_NAME_intermittently_flooded_2500m',\n",
       " 'nwi_SPLIT_SUBCLASS_NAME_evergreen_2500m',\n",
       " 'nwi_SYSTEM_NAME_marine_2500m',\n",
       " 'nwi_CLASS_NAME_moss-lichen_2500m',\n",
       " 'nwi_SPLIT_SUBCLASS_NAME_needle-leaved_deciduous_2500m',\n",
       " 'nwi_SPLIT_SUBCLASS_NAME_needle-leaved_evergreen_2500m',\n",
       " 'nwi_WATER_REGIME_NAME_regularly_flooded_2500m',\n",
       " 'nwi_WATER_REGIME_SUBGROUP_nontidal_2500m',\n",
       " 'nwi_riverine_2500m',\n",
       " 'nwi_estuarine_and_marine_wetland_2500m',\n",
       " 'nwi_SUBCLASS_NAME_mud_2500m',\n",
       " 'nwi_SUBSYSTEM_NAME_unknown_perennial_2500m',\n",
       " 'nwi_CLASS_NAME_streambed_2500m',\n",
       " 'nwi_WATER_REGIME_NAME_irregularly_exposed_2500m',\n",
       " 'nwi_SUBCLASS_NAME_cobble-gravel_2500m',\n",
       " 'nwi_SUBCLASS_NAME_evergreen_2500m',\n",
       " 'closest_wb_distance_m',\n",
       " 'closest_fl_distance_m',\n",
       " 'closest_fl_area_sqkm',\n",
       " 'closest_wb_area_sqkm',\n",
       " 'closest_fl_elevation',\n",
       " 'closest_wb_elevation']"
      ]
     },
     "execution_count": 31,
     "metadata": {},
     "output_type": "execute_result"
    }
   ],
   "source": [
    "imp_num_feature"
   ]
  },
  {
   "cell_type": "code",
   "execution_count": 32,
   "metadata": {
    "colab": {
     "base_uri": "https://localhost:8080/"
    },
    "id": "gdBKul2wROi4",
    "outputId": "fb607dae-a36a-4e9b-e4be-eb54ae133426"
   },
   "outputs": [
    {
     "name": "stdout",
     "output_type": "stream",
     "text": [
      "niccdcd 0.11\n",
      "aws0100wta 0.04\n",
      "wtdepannmi 0.04\n",
      "niccdcdpct 0.04\n",
      "hydclprs 0.04\n",
      "aws025wta 0.04\n",
      "wtdepaprju 0.04\n",
      "slopegradw 0.04\n",
      "iccdcdpct 0.04\n",
      "urbrecptwt 0.04\n",
      "brockdepmi 0.04\n",
      "iccdcd 0.88\n",
      "pondfreqpr 0.04\n",
      "aws0150wta 0.04\n",
      "aws050wta 0.04\n",
      "slopegradd 0.04\n",
      "awmmfpwwta 0.04\n",
      "transition_9_200m 1.0\n",
      "recurrence_mean_200m 0.77\n",
      "transition_2_200m 0.96\n",
      "seasonality_min_200m 0.82\n",
      "transition_8_200m 0.95\n",
      "transition_5_200m 0.85\n",
      "seasonality_stdev_200m 0.82\n",
      "seasonality_max_200m 0.82\n",
      "recurrence_min_200m 0.79\n",
      "recurrence_max_200m 0.79\n",
      "transition_7_200m 0.95\n",
      "slope_min_200m 0.02\n",
      "elevation_min_200m 0.02\n",
      "transition_0_200m 0.99\n",
      "elevation_mean_200m 0.02\n",
      "elevation_max_200m 0.02\n",
      "slope_max_200m 0.02\n",
      "transition_3_200m 0.99\n",
      "transition_4_200m 0.9\n",
      "elevation_stdev_200m 0.02\n",
      "recurrence_stdev_200m 0.79\n",
      "transition_1_200m 0.89\n",
      "transition_6_200m 0.94\n",
      "slope_stdev_200m 0.02\n",
      "seasonality_mean_200m 0.8\n",
      "slope_mean_200m 0.02\n",
      "fl_length_sum_200m 0.09\n",
      "fl_length_mean_200m 0.09\n",
      "transition_0_2500m 0.82\n",
      "slope_min_2500m 0.02\n",
      "recurrence_min_2500m 0.08\n",
      "transition_6_2500m 0.35\n",
      "elevation_max_2500m 0.02\n",
      "transition_5_2500m 0.12\n",
      "elevation_min_2500m 0.02\n",
      "transition_7_2500m 0.55\n",
      "seasonality_min_2500m 0.11\n",
      "slope_stdev_2500m 0.02\n",
      "transition_4_2500m 0.31\n",
      "recurrence_stdev_2500m 0.08\n",
      "elevation_stdev_2500m 0.02\n",
      "elevation_mean_2500m 0.02\n",
      "transition_3_2500m 0.79\n",
      "seasonality_max_2500m 0.11\n",
      "seasonality_stdev_2500m 0.11\n",
      "seasonality_mean_2500m 0.11\n",
      "slope_max_2500m 0.02\n",
      "slope_mean_2500m 0.02\n",
      "transition_8_2500m 0.54\n",
      "transition_9_2500m 0.89\n",
      "transition_1_2500m 0.49\n",
      "recurrence_mean_2500m 0.07\n",
      "transition_2_2500m 0.41\n",
      "recurrence_max_2500m 0.08\n",
      "fl_length_mean_2500m 0.53\n",
      "fl_length_sum_2500m 0.53\n",
      "closest_wb_distance_m 0.47\n",
      "closest_fl_distance_m 0.3\n",
      "closest_fl_area_sqkm 0.41\n",
      "closest_wb_area_sqkm 0.67\n",
      "closest_fl_elevation 0.33\n",
      "closest_wb_elevation 0.51\n"
     ]
    }
   ],
   "source": [
    "# fraction of nan's in each variable\n",
    "for var in df_X_combined_ordered.describe().columns:\n",
    "    try:\n",
    "        if np.mean(df_X_combined_ordered[str(var)].isna()) != 0:\n",
    "            print(var, round(np.mean(df_X_combined_ordered[str(var)].isna()), 2))\n",
    "    except Exception as e:\n",
    "        print(var, \"<-------------------\")"
   ]
  },
  {
   "cell_type": "code",
   "execution_count": 33,
   "metadata": {
    "id": "D4kq__Giqima"
   },
   "outputs": [],
   "source": [
    "# impute 0's into wb_area_mean, fl_length_sum, fl_length_mean because they were\n",
    "# assigned np.nan if they were absent\n",
    "# A non-existent water feature should be assigned 0 given definition of each\n",
    "\n",
    "def fill_na(df):\n",
    "  try:\n",
    "    df.fl_length_sum_200m = df.fl_length_sum_200m.fillna(0)\n",
    "    df.fl_length_mean_200m = df.fl_length_sum_200m.fillna(0)\n",
    "    df.fl_length_sum_2500m = df.fl_length_sum_200m.fillna(0)\n",
    "    df.fl_length_mean_2500m = df.fl_length_sum_200m.fillna(0)\n",
    "  except:\n",
    "    pass\n",
    "  return df\n",
    "\n",
    "df_X_combined_ordered = fill_na(df_X_combined_ordered)\n",
    "df_dev_X_combined_ordered = fill_na(df_dev_X)\n",
    "df_test_X_combined_ordered = fill_na(df_test_X)\n"
   ]
  },
  {
   "cell_type": "code",
   "execution_count": 34,
   "metadata": {
    "colab": {
     "base_uri": "https://localhost:8080/"
    },
    "id": "qy2KEjaNq487",
    "outputId": "077aa965-5d64-4ad9-abc7-001580eb74d8"
   },
   "outputs": [
    {
     "name": "stdout",
     "output_type": "stream",
     "text": [
      "niccdcd 0.11\n",
      "aws0100wta 0.04\n",
      "wtdepannmi 0.04\n",
      "niccdcdpct 0.04\n",
      "hydclprs 0.04\n",
      "aws025wta 0.04\n",
      "wtdepaprju 0.04\n",
      "slopegradw 0.04\n",
      "iccdcdpct 0.04\n",
      "urbrecptwt 0.04\n",
      "brockdepmi 0.04\n",
      "iccdcd 0.88\n",
      "pondfreqpr 0.04\n",
      "aws0150wta 0.04\n",
      "aws050wta 0.04\n",
      "slopegradd 0.04\n",
      "awmmfpwwta 0.04\n",
      "transition_9_200m 1.0\n",
      "recurrence_mean_200m 0.77\n",
      "transition_2_200m 0.96\n",
      "seasonality_min_200m 0.82\n",
      "transition_8_200m 0.95\n",
      "transition_5_200m 0.85\n",
      "seasonality_stdev_200m 0.82\n",
      "seasonality_max_200m 0.82\n",
      "recurrence_min_200m 0.79\n",
      "recurrence_max_200m 0.79\n",
      "transition_7_200m 0.95\n",
      "slope_min_200m 0.02\n",
      "elevation_min_200m 0.02\n",
      "transition_0_200m 0.99\n",
      "elevation_mean_200m 0.02\n",
      "elevation_max_200m 0.02\n",
      "slope_max_200m 0.02\n",
      "transition_3_200m 0.99\n",
      "transition_4_200m 0.9\n",
      "elevation_stdev_200m 0.02\n",
      "recurrence_stdev_200m 0.79\n",
      "transition_1_200m 0.89\n",
      "transition_6_200m 0.94\n",
      "slope_stdev_200m 0.02\n",
      "seasonality_mean_200m 0.8\n",
      "slope_mean_200m 0.02\n",
      "transition_0_2500m 0.82\n",
      "slope_min_2500m 0.02\n",
      "recurrence_min_2500m 0.08\n",
      "transition_6_2500m 0.35\n",
      "elevation_max_2500m 0.02\n",
      "transition_5_2500m 0.12\n",
      "elevation_min_2500m 0.02\n",
      "transition_7_2500m 0.55\n",
      "seasonality_min_2500m 0.11\n",
      "slope_stdev_2500m 0.02\n",
      "transition_4_2500m 0.31\n",
      "recurrence_stdev_2500m 0.08\n",
      "elevation_stdev_2500m 0.02\n",
      "elevation_mean_2500m 0.02\n",
      "transition_3_2500m 0.79\n",
      "seasonality_max_2500m 0.11\n",
      "seasonality_stdev_2500m 0.11\n",
      "seasonality_mean_2500m 0.11\n",
      "slope_max_2500m 0.02\n",
      "slope_mean_2500m 0.02\n",
      "transition_8_2500m 0.54\n",
      "transition_9_2500m 0.89\n",
      "transition_1_2500m 0.49\n",
      "recurrence_mean_2500m 0.07\n",
      "transition_2_2500m 0.41\n",
      "recurrence_max_2500m 0.08\n",
      "closest_wb_distance_m 0.47\n",
      "closest_fl_distance_m 0.3\n",
      "closest_fl_area_sqkm 0.41\n",
      "closest_wb_area_sqkm 0.67\n",
      "closest_fl_elevation 0.33\n",
      "closest_wb_elevation 0.51\n",
      "\n",
      "niccdcd 0.1\n",
      "aws0100wta 0.04\n",
      "wtdepannmi 0.04\n",
      "niccdcdpct 0.04\n",
      "hydclprs 0.04\n",
      "aws025wta 0.04\n",
      "wtdepaprju 0.04\n",
      "slopegradw 0.04\n",
      "iccdcdpct 0.04\n",
      "urbrecptwt 0.04\n",
      "brockdepmi 0.04\n",
      "iccdcd 0.88\n",
      "pondfreqpr 0.04\n",
      "aws0150wta 0.04\n",
      "aws050wta 0.04\n",
      "slopegradd 0.04\n",
      "awmmfpwwta 0.04\n",
      "transition_9_200m 1.0\n",
      "recurrence_mean_200m 0.79\n",
      "transition_2_200m 0.96\n",
      "seasonality_min_200m 0.84\n",
      "transition_8_200m 0.95\n",
      "transition_5_200m 0.87\n",
      "seasonality_stdev_200m 0.84\n",
      "seasonality_max_200m 0.84\n",
      "recurrence_min_200m 0.81\n",
      "recurrence_max_200m 0.81\n",
      "transition_7_200m 0.97\n",
      "slope_min_200m 0.02\n",
      "elevation_min_200m 0.02\n",
      "transition_0_200m 0.99\n",
      "elevation_mean_200m 0.02\n",
      "elevation_max_200m 0.02\n",
      "slope_max_200m 0.02\n",
      "transition_3_200m 0.99\n",
      "transition_4_200m 0.91\n",
      "elevation_stdev_200m 0.02\n",
      "recurrence_stdev_200m 0.81\n",
      "transition_1_200m 0.9\n",
      "transition_6_200m 0.94\n",
      "slope_stdev_200m 0.02\n",
      "seasonality_mean_200m 0.82\n",
      "slope_mean_200m 0.02\n",
      "transition_0_2500m 0.84\n",
      "slope_min_2500m 0.02\n",
      "recurrence_min_2500m 0.07\n",
      "transition_6_2500m 0.36\n",
      "elevation_max_2500m 0.02\n",
      "transition_5_2500m 0.12\n",
      "elevation_min_2500m 0.02\n",
      "transition_7_2500m 0.56\n",
      "seasonality_min_2500m 0.11\n",
      "slope_stdev_2500m 0.02\n",
      "transition_4_2500m 0.32\n",
      "recurrence_stdev_2500m 0.07\n",
      "elevation_stdev_2500m 0.02\n",
      "elevation_mean_2500m 0.02\n",
      "transition_3_2500m 0.81\n",
      "seasonality_max_2500m 0.11\n",
      "seasonality_stdev_2500m 0.11\n",
      "seasonality_mean_2500m 0.11\n",
      "slope_max_2500m 0.02\n",
      "slope_mean_2500m 0.02\n",
      "transition_8_2500m 0.55\n",
      "transition_9_2500m 0.9\n",
      "transition_1_2500m 0.5\n",
      "recurrence_mean_2500m 0.06\n",
      "transition_2_2500m 0.42\n",
      "recurrence_max_2500m 0.07\n",
      "closest_wb_distance_m 0.48\n",
      "closest_fl_distance_m 0.31\n",
      "closest_fl_area_sqkm 0.42\n",
      "closest_wb_area_sqkm 0.68\n",
      "closest_fl_elevation 0.35\n",
      "closest_wb_elevation 0.52\n",
      "\n",
      "niccdcd 0.11\n",
      "aws0100wta 0.04\n",
      "wtdepannmi 0.04\n",
      "niccdcdpct 0.04\n",
      "hydclprs 0.04\n",
      "aws025wta 0.04\n",
      "wtdepaprju 0.04\n",
      "slopegradw 0.04\n",
      "iccdcdpct 0.04\n",
      "urbrecptwt 0.04\n",
      "brockdepmi 0.04\n",
      "iccdcd 0.89\n",
      "pondfreqpr 0.04\n",
      "aws0150wta 0.04\n",
      "aws050wta 0.04\n",
      "slopegradd 0.04\n",
      "awmmfpwwta 0.04\n",
      "transition_9_200m 1.0\n",
      "recurrence_mean_200m 0.76\n",
      "transition_2_200m 0.96\n",
      "seasonality_min_200m 0.82\n",
      "transition_8_200m 0.95\n",
      "transition_5_200m 0.85\n",
      "seasonality_stdev_200m 0.82\n",
      "seasonality_max_200m 0.82\n",
      "recurrence_min_200m 0.78\n",
      "recurrence_max_200m 0.78\n",
      "transition_7_200m 0.95\n",
      "slope_min_200m 0.02\n",
      "elevation_min_200m 0.02\n",
      "transition_0_200m 0.99\n",
      "elevation_mean_200m 0.02\n",
      "elevation_max_200m 0.02\n",
      "slope_max_200m 0.02\n",
      "transition_3_200m 0.98\n",
      "transition_4_200m 0.9\n",
      "elevation_stdev_200m 0.02\n",
      "recurrence_stdev_200m 0.78\n",
      "transition_1_200m 0.89\n",
      "transition_6_200m 0.94\n",
      "slope_stdev_200m 0.02\n",
      "seasonality_mean_200m 0.8\n",
      "slope_mean_200m 0.02\n",
      "transition_0_2500m 0.82\n",
      "slope_min_2500m 0.02\n",
      "recurrence_min_2500m 0.08\n",
      "transition_6_2500m 0.37\n",
      "elevation_max_2500m 0.02\n",
      "transition_5_2500m 0.12\n",
      "elevation_min_2500m 0.02\n",
      "transition_7_2500m 0.55\n",
      "seasonality_min_2500m 0.11\n",
      "slope_stdev_2500m 0.02\n",
      "transition_4_2500m 0.32\n",
      "recurrence_stdev_2500m 0.08\n",
      "elevation_stdev_2500m 0.02\n",
      "elevation_mean_2500m 0.02\n",
      "transition_3_2500m 0.81\n",
      "seasonality_max_2500m 0.11\n",
      "seasonality_stdev_2500m 0.11\n",
      "seasonality_mean_2500m 0.11\n",
      "slope_max_2500m 0.02\n",
      "slope_mean_2500m 0.02\n",
      "transition_8_2500m 0.55\n",
      "transition_9_2500m 0.9\n",
      "transition_1_2500m 0.5\n",
      "recurrence_mean_2500m 0.07\n",
      "transition_2_2500m 0.4\n",
      "recurrence_max_2500m 0.08\n",
      "closest_wb_distance_m 0.48\n",
      "closest_fl_distance_m 0.3\n",
      "closest_fl_area_sqkm 0.4\n",
      "closest_wb_area_sqkm 0.67\n",
      "closest_fl_elevation 0.33\n",
      "closest_wb_elevation 0.51\n"
     ]
    }
   ],
   "source": [
    "# fraction of nan's in each variable\n",
    "def print_na(df_X_combined_ordered):\n",
    "  for var in df_X_combined_ordered.describe().columns:\n",
    "    if np.mean(df_X_combined_ordered[str(var)].isna()) != 0:\n",
    "      print(var, round(np.mean(df_X_combined_ordered[str(var)].isna()), 2))\n",
    "\n",
    "print_na(df_X_combined_ordered)      \n",
    "print()\n",
    "print_na(df_dev_X_combined_ordered)\n",
    "print()\n",
    "print_na(df_test_X_combined_ordered)"
   ]
  },
  {
   "cell_type": "markdown",
   "metadata": {
    "id": "NiZZiHI7rroC"
   },
   "source": [
    "# Offline OHE to keep track of variable names"
   ]
  },
  {
   "cell_type": "code",
   "execution_count": 35,
   "metadata": {
    "id": "5wgvKVZ7rNb8"
   },
   "outputs": [],
   "source": [
    "# ohe-hot-encode the columns\n",
    "# get_dummies only encodes cat columns\n",
    "df_X_combined_dummies_ordered = pd.get_dummies(df_X_combined_ordered)\n",
    "# df_X_combined_dummies_ordered.columns # 90\n",
    "\n",
    "df_dev_X_combined_dummies_ordered = pd.get_dummies(df_dev_X_combined_ordered)\n",
    "df_test_X_combined_dummies_ordered = pd.get_dummies(df_test_X_combined_ordered)"
   ]
  },
  {
   "cell_type": "code",
   "execution_count": 36,
   "metadata": {
    "colab": {
     "base_uri": "https://localhost:8080/"
    },
    "id": "C2DzQYz-guOe",
    "outputId": "d15cc667-b613-4161-fdee-cb63bd03ce29"
   },
   "outputs": [
    {
     "name": "stdout",
     "output_type": "stream",
     "text": [
      "(8592, 471)\n",
      "(2865, 471)\n",
      "(2865, 471)\n",
      "(8592, 1847)\n",
      "(2865, 1520)\n",
      "(2865, 1504)\n"
     ]
    }
   ],
   "source": [
    "print(df_X_combined_ordered.shape)\n",
    "print(df_dev_X_combined_ordered.shape)\n",
    "print(df_test_X_combined_ordered.shape)\n",
    "print(df_X_combined_dummies_ordered.shape)\n",
    "print(df_dev_X_combined_dummies_ordered.shape)\n",
    "print(df_test_X_combined_dummies_ordered.shape)"
   ]
  },
  {
   "cell_type": "markdown",
   "metadata": {
    "id": "g1Eq49x-r55M"
   },
   "source": [
    "# Pipeline"
   ]
  },
  {
   "cell_type": "code",
   "execution_count": 37,
   "metadata": {
    "id": "YoBhg5wPrxlx"
   },
   "outputs": [],
   "source": [
    "# impute categorical data\n",
    "\n",
    "from sklearn.base import TransformerMixin\n",
    "class DataFrameImputer(TransformerMixin):\n",
    "  \"\"\"\n",
    "  By inheriting TransformerMixin, you get fit_transform method for free \n",
    "  if you implement fit and transform methods\n",
    "  \"\"\" \n",
    "\n",
    "  def __init__(self):\n",
    "        \"\"\"Impute missing values.\n",
    "\n",
    "        Columns of dtype object are imputed with the most frequent value \n",
    "        in column.\n",
    "        Columns of other types are imputed with median of column.\n",
    "        \"\"\"\n",
    "  def fit(self, X, y=None):\n",
    "        self.fill = pd.Series([X[c].value_counts().index[0]\n",
    "            if X[c].dtype == np.dtype('O') else X[c].median() for c in X], \n",
    "            index=X.columns)\n",
    "        return self\n",
    "\n",
    "  def transform(self, X, y=None):\n",
    "        return X.fillna(self.fill)\n",
    "\n"
   ]
  },
  {
   "cell_type": "code",
   "execution_count": 38,
   "metadata": {
    "id": "2E_VtoXpr8W9"
   },
   "outputs": [],
   "source": [
    "# Pipeline for numerical columns\n",
    "# 1. fill NA's with median values\n",
    "# 2. scale them\n",
    "\n",
    "# num_pipeline_impute_ss = Pipeline([        # should be list of tuples\n",
    "#                           (\"num_imputer\", SimpleImputer(strategy=\"median\")),\n",
    "#                           (\"std_scaler\", StandardScaler())\n",
    "#                           ])                      \n",
    "\n",
    "# num_pipeline_impute_ss = Pipeline([        # should be list of tuples\n",
    "#                           (\"num_imputer\", SimpleImputer(strategy=\"median\")),\n",
    "#                           (\"robust_scaler\", RobustScaler())\n",
    "#                           ])                      \n",
    "\n",
    "num_pipeline_impute_ss = Pipeline([        # should be list of tuples\n",
    "                          (\"num_imputer\", SimpleImputer(strategy=\"median\"))\n",
    "                          ])                      \n",
    "\n",
    "\n",
    "# Pipleline for categorical columns\n",
    "# 1. fill NA's with most frequent values\n",
    "# 2. one hot code\n",
    "\n",
    "# cat_pipeline_impute_ohe = Pipeline([(\"cat_imputer\", DataFrameImputer()),\n",
    "#                          (\"one_hot_encoder\", OneHotEncoder(drop=\"first\", \\\n",
    "#                                                            sparse=False))\n",
    "#                          ])\n",
    "\n",
    "\n",
    "# you want to do the following where you handle_unknown categories in the \n",
    "# test data by ignoring them. However, in the imeplementation, I am using\n",
    "# df_X_combined_dummies_ordered to indicate the numerical and cat columns \n",
    "# hence need to fix the df_X_combined_dummies_ordered such that the first \n",
    "# ohe is not dropped (as is being done in immediately above)\n",
    "\n",
    "cat_pipeline_impute_ohe = Pipeline([(\"cat_imputer\", DataFrameImputer()),\n",
    "                         (\"one_hot_encoder\", OneHotEncoder(sparse=False,\n",
    "                                                           handle_unknown = \"ignore\"))\n",
    "                         ])"
   ]
  },
  {
   "cell_type": "code",
   "execution_count": 39,
   "metadata": {
    "id": "T6zsqDgLsIhp"
   },
   "outputs": [],
   "source": [
    "numericals_list = list(df_X_combined_ordered.describe().columns)\n",
    "categories_list = list(set(df_X_combined_ordered.columns) - set(numericals_list))\n",
    "\n",
    "# here trying to do numerical and categorical transformation in isolation\n",
    "# this because ColumnTransformer removes column name information :-(\n",
    "from sklearn.compose import ColumnTransformer\n",
    "\n",
    "# only the cat columns will be one-hot encoded\n",
    "partial_transformer_impute_ohe = ColumnTransformer([\n",
    "                                   (\"categorical_ohe\", cat_pipeline_impute_ohe,\\\n",
    "                                    categories_list)\n",
    "])\n",
    "\n",
    "# only the numerical columns withh get standard scaling\n",
    "partial_transformer_impute_ss = ColumnTransformer([\n",
    "                                   (\"numerical_ss_impute\", num_pipeline_impute_ss,\\\n",
    "                                    numericals_list)\n",
    "])"
   ]
  },
  {
   "cell_type": "markdown",
   "metadata": {},
   "source": [
    "# Transformation of Dev and Test splits"
   ]
  },
  {
   "cell_type": "code",
   "execution_count": 40,
   "metadata": {
    "colab": {
     "base_uri": "https://localhost:8080/"
    },
    "id": "7DxNTfIFtT9y",
    "outputId": "5d8a5f9d-f079-43d8-b8db-65afc2d25027"
   },
   "outputs": [
    {
     "name": "stdout",
     "output_type": "stream",
     "text": [
      "(8592, 447)\n",
      "(2865, 447)\n",
      "(2865, 447)\n"
     ]
    }
   ],
   "source": [
    "# Pass the numerical columns through Numerical Pipeline \n",
    "\n",
    "# train\n",
    "full_data_ohe_ss_imputed = (partial_transformer_impute_ss\n",
    "                            .fit(df_X_combined_ordered[numericals_list])\n",
    "                            .transform(df_X_combined_ordered[numericals_list])) \n",
    "print(full_data_ohe_ss_imputed.shape)\n",
    "\n",
    "# dev\n",
    "dev_ohe_ss_imputed = (partial_transformer_impute_ss\n",
    "                            .fit(df_X_combined_ordered[numericals_list])\n",
    "                            .transform(df_dev_X_combined_ordered[numericals_list])) \n",
    "print(dev_ohe_ss_imputed.shape)\n",
    "\n",
    "\n",
    "# test\n",
    "test_ohe_ss_imputed = (partial_transformer_impute_ss\n",
    "                            .fit(df_X_combined_ordered[numericals_list])\n",
    "                            .transform(df_test_X_combined_ordered[numericals_list])) \n",
    "print(test_ohe_ss_imputed.shape)\n"
   ]
  },
  {
   "cell_type": "code",
   "execution_count": 41,
   "metadata": {
    "colab": {
     "base_uri": "https://localhost:8080/"
    },
    "id": "rQD-xNjqtUA9",
    "outputId": "9bf01104-653e-4175-e099-3c7a0296e530"
   },
   "outputs": [
    {
     "name": "stdout",
     "output_type": "stream",
     "text": [
      "(8592, 1400)\n",
      "(2865, 1400)\n",
      "(2865, 1400)\n"
     ]
    }
   ],
   "source": [
    "# Pass the cat columns through Categorical Pipeline\n",
    "\n",
    "# train\n",
    "cat_data_OHE = (partial_transformer_impute_ohe\n",
    "                .fit(df_X_combined_ordered)\n",
    "                .transform(df_X_combined_ordered))\n",
    "print(cat_data_OHE.shape)\n",
    "\n",
    "# test\n",
    "dev_cat_data_OHE = (partial_transformer_impute_ohe\n",
    "                .fit(df_X_combined_ordered)\n",
    "                .transform(df_dev_X_combined_ordered))\n",
    "print(dev_cat_data_OHE.shape)\n",
    "\n",
    "# test\n",
    "test_cat_data_OHE = (partial_transformer_impute_ohe\n",
    "                .fit(df_X_combined_ordered)\n",
    "                .transform(df_test_X_combined_ordered))\n",
    "print(test_cat_data_OHE.shape)"
   ]
  },
  {
   "cell_type": "code",
   "execution_count": 42,
   "metadata": {
    "colab": {
     "base_uri": "https://localhost:8080/"
    },
    "id": "AgK2Nv2HycZo",
    "outputId": "9af08aa1-945f-49a2-a36b-42064875d6d6"
   },
   "outputs": [
    {
     "name": "stdout",
     "output_type": "stream",
     "text": [
      "(8592, 1847) (8592,) (2865, 1847) (2865,) (2865, 1847) (2865,)\n"
     ]
    }
   ],
   "source": [
    "# join the arrays into one array that can be passed into models\n",
    "\n",
    "# train\n",
    "X = np.hstack((full_data_ohe_ss_imputed, cat_data_OHE))\n",
    "Y = np.array(df.cwa_determination)\n",
    "\n",
    "# dev\n",
    "dev_X = np.hstack((dev_ohe_ss_imputed, dev_cat_data_OHE))\n",
    "dev_Y = np.array(df_dev.cwa_determination)\n",
    "\n",
    "# test\n",
    "test_X = np.hstack((test_ohe_ss_imputed, test_cat_data_OHE))\n",
    "test_Y = np.array(df_test.cwa_determination)\n",
    "\n",
    "print(X.shape, Y.shape, dev_X.shape, dev_Y.shape, test_X.shape, test_Y.shape)"
   ]
  },
  {
   "cell_type": "code",
   "execution_count": 43,
   "metadata": {
    "id": "vNnvAK30tUDx"
   },
   "outputs": [],
   "source": [
    "# Convert numerical and cat transforms back to dataframe (for housekeeping)\n",
    "\n",
    "# convert numerical arrays into dataframe\n",
    "\n",
    "def make_dataframe(full_data_ohe_ss_imputed, cat_data_OHE):\n",
    "  df_num_data_ohe_ss = (pd.DataFrame(\n",
    "      full_data_ohe_ss_imputed,\n",
    "      columns=list(df_X_combined_dummies_ordered[numericals_list].columns)\n",
    "  ))\n",
    "\n",
    "  # # convert cat arrays into dataframe\n",
    "  ohe_categories_list = (list(set(df_X_combined_dummies_ordered.columns) - set(numericals_list)))\n",
    "  df_cat_data_OHE = (pd.DataFrame(\n",
    "      cat_data_OHE,\n",
    "      columns=list(df_X_combined_dummies_ordered[ohe_categories_list].columns))\n",
    "  )\n",
    "\n",
    "  # concatenate into one dataframe\n",
    "\n",
    "  return pd.concat([df_num_data_ohe_ss, df_cat_data_OHE], axis=1)\n",
    "\n",
    "\n",
    "df_train_X_dummies = make_dataframe(full_data_ohe_ss_imputed, cat_data_OHE)\n",
    "df_dev_X_dummies = make_dataframe(dev_ohe_ss_imputed, dev_cat_data_OHE)\n",
    "df_test_X_dummies = make_dataframe(test_ohe_ss_imputed, test_cat_data_OHE)"
   ]
  },
  {
   "cell_type": "code",
   "execution_count": 44,
   "metadata": {
    "id": "iY1gOlOk5-ZM"
   },
   "outputs": [],
   "source": [
    "if stop_before_models:\n",
    "    stop"
   ]
  },
  {
   "cell_type": "markdown",
   "metadata": {
    "id": "iZOqLgq5EsPm"
   },
   "source": [
    "# Metrics"
   ]
  },
  {
   "cell_type": "code",
   "execution_count": 45,
   "metadata": {
    "colab": {
     "base_uri": "https://localhost:8080/"
    },
    "id": "dmWtOA8lEThm",
    "outputId": "3a4a38ac-dfe3-4cc8-ddd0-80ae86b3eec8"
   },
   "outputs": [],
   "source": [
    "# print(sorted(metrics.SCORERS.keys()))\n",
    "# sorted(metrics.SCORERS.keys())"
   ]
  },
  {
   "cell_type": "code",
   "execution_count": 46,
   "metadata": {},
   "outputs": [],
   "source": [
    "# random_search.__dir__()\n",
    "# random_search.return_train_score\n",
    "\n",
    "# random_search.scoring # roc_auc\n",
    "# random_search.best_score_ # \n",
    "# random_search.scorer_ # make_scorer(roc_auc_score, needs_threshold=True)\n",
    "\n",
    "# random_search.cv_results_\n",
    "# random_search.predict_proba(X)\n",
    "# random_search.predict_log_proba(X)\n"
   ]
  },
  {
   "cell_type": "code",
   "execution_count": 47,
   "metadata": {},
   "outputs": [],
   "source": [
    "def time_taken(start, end):\n",
    "    delta = end - start\n",
    "    print(\"Time taken (min):\", round(delta.seconds/60, 1))"
   ]
  },
  {
   "cell_type": "code",
   "execution_count": 48,
   "metadata": {},
   "outputs": [],
   "source": [
    "def model_results(fitted_model, test_X, test_Y):\n",
    "#     print(\"accuracy:\", np.mean(test_Y == log_best_model.predict(test_X)))\n",
    "#     print(\"balanced_accuracy_score:\", balanced_accuracy_score(test_Y, log_best_model.predict(test_X)))\n",
    "\n",
    "    # https://scikit-learn.org/stable/modules/generated/sklearn.metrics.average_precision_score.html\n",
    "    # AP summarizes a precision-recall curve as the weighted mean of precisions achieved at each threshold\n",
    "    print(\"average_precision_score:\", round(metrics.average_precision_score(test_Y, fitted_model.predict_proba(test_X)[:, 1], average=\"weighted\"), 5))\n",
    "    \n",
    "    \n",
    "    y_prob = fitted_model.predict_proba(test_X)\n",
    "    fpr, tpr, thresholds = metrics.roc_curve(test_Y, y_prob[:, 1], pos_label=1)\n",
    "    print(\"roc_auc\",\":\", round(metrics.auc(fpr, tpr), 5))\n",
    "    \n",
    "    print(\"Classification Report:\") # threshold agnostic because you pass in the test labels instead of scores (probabilities)\n",
    "    print(classification_report(test_Y, fitted_model.predict(test_X)))"
   ]
  },
  {
   "cell_type": "code",
   "execution_count": 49,
   "metadata": {},
   "outputs": [],
   "source": [
    "def find_roc_auc(fitted_model, test_X, test_Y):\n",
    "    y_prob = fitted_model.predict_proba(test_X)\n",
    "    fpr, tpr, thresholds = metrics.roc_curve(test_Y, y_prob[:, 1], pos_label=1)\n",
    "    return round(metrics.auc(fpr, tpr), 5)"
   ]
  },
  {
   "cell_type": "code",
   "execution_count": 267,
   "metadata": {},
   "outputs": [
    {
     "data": {
      "text/plain": [
       "(1.0, 1.0, 0.2525)"
      ]
     },
     "execution_count": 267,
     "metadata": {},
     "output_type": "execute_result"
    }
   ],
   "source": [
    "def ppv_npv_opt_th(y_true=np.array([1,0,1]), y_predict_proba=np.array([0.5, 0.25, 0.3])):\n",
    "    \"\"\"\n",
    "    Inputs: y_true labels and prediction scores\n",
    "    Outputs: optimized positive predictive value and negative predictive values per this reference\n",
    "    https://arxiv.org/pdf/2007.05073.pdf\n",
    "    \"\"\"\n",
    "    min_ppv_npv_list = []\n",
    "    th_list = np.linspace(0, 1, 100)\n",
    "    for th in th_list:\n",
    "        y_predict = 1 * (y_predict_proba > th)\n",
    "        tn, fp, fn, tp = confusion_matrix(y_true, y_predict).ravel()\n",
    "        ppv = tp / (tp + fp) \n",
    "        npv = tn / (fn + tn)\n",
    "        min_ppv_npv = np.min(np.nan_to_num(np.array((ppv, npv))))\n",
    "        min_ppv_npv_list.append(min_ppv_npv)\n",
    "    max_ppv_npv = np.nanmax(np.array(min_ppv_npv_list))\n",
    "    opt_th_index = np.array(min_ppv_npv_list).argmax(axis=0)\n",
    "    opt_th = th_list[opt_th_index]\n",
    "    opt_y_predict = 1 * (y_predict_proba > opt_th)\n",
    "    opt_tn, opt_fp, opt_fn, opt_tp = confusion_matrix(y_true, opt_y_predict).ravel()\n",
    "    opt_ppv = opt_tp / (opt_tp + opt_fp) \n",
    "    opt_npv = opt_tn / (opt_fn + opt_tn)\n",
    "    return opt_ppv, opt_npv, round(opt_th, 4)\n",
    "ppv_npv_opt_th()"
   ]
  },
  {
   "cell_type": "code",
   "execution_count": 180,
   "metadata": {},
   "outputs": [],
   "source": [
    "def calculate_ppv_npv(y_true, y_predict):\n",
    "    tn, fp, fn, tp = confusion_matrix(y_true, y_predict).ravel()\n",
    "    ppv = tp / (tp + fp) \n",
    "    npv = tn / (fn + tn)    \n",
    "    return ppv, npv"
   ]
  },
  {
   "cell_type": "code",
   "execution_count": 50,
   "metadata": {},
   "outputs": [
    {
     "data": {
      "text/plain": [
       "Index(['cwa5', 'cwa1', 'cwa8', 'cwa6', 'rha_determination', 'longitude',\n",
       "       'cwa7', 'potential_wetland', 'district', 'cwa3',\n",
       "       ...\n",
       "       'county', 'state', 'closest_wb_distance_m', 'closest_fl_distance_m',\n",
       "       'closest_fl_area_sqkm', 'closest_wb_area_sqkm', 'closest_fl_elevation',\n",
       "       'closest_wb_elevation', 'huc4', 'huc6'],\n",
       "      dtype='object', length=492)"
      ]
     },
     "execution_count": 50,
     "metadata": {},
     "output_type": "execute_result"
    }
   ],
   "source": [
    "df.columns"
   ]
  },
  {
   "cell_type": "code",
   "execution_count": 51,
   "metadata": {},
   "outputs": [
    {
     "data": {
      "text/plain": [
       "(array([1.000e+00, 2.000e+00, 4.000e+00, 1.300e+01, 4.000e+01, 1.150e+02,\n",
       "        3.980e+02, 1.109e+03, 5.370e+02, 1.950e+02]),\n",
       " array([-9.72119599, -8.57890702, -7.43661805, -6.29432907, -5.1520401 ,\n",
       "        -4.00975113, -2.86746215, -1.72517318, -0.58288421,  0.55940477,\n",
       "         1.70169374]),\n",
       " <BarContainer object of 10 artists>)"
      ]
     },
     "execution_count": 51,
     "metadata": {},
     "output_type": "execute_result"
    },
    {
     "data": {
      "image/png": "[encoded data removed]",
      "text/plain": [
       "<Figure size 432x288 with 1 Axes>"
      ]
     },
     "metadata": {
      "needs_background": "light"
     },
     "output_type": "display_data"
    }
   ],
   "source": [
    "plt.hist(np.log(df.closest_wb_distance_m))"
   ]
  },
  {
   "cell_type": "code",
   "execution_count": 52,
   "metadata": {},
   "outputs": [
    {
     "data": {
      "text/plain": [
       "(array([  3.,   0.,   6.,  17.,  62., 136., 333., 760., 884., 199.]),\n",
       " array([-8.25495891, -7.35039093, -6.44582294, -5.54125496, -4.63668698,\n",
       "        -3.73211899, -2.82755101, -1.92298302, -1.01841504, -0.11384705,\n",
       "         0.79072093]),\n",
       " <BarContainer object of 10 artists>)"
      ]
     },
     "execution_count": 52,
     "metadata": {},
     "output_type": "execute_result"
    },
    {
     "data": {
      "image/png": "[encoded data removed]",
      "text/plain": [
       "<Figure size 432x288 with 1 Axes>"
      ]
     },
     "metadata": {
      "needs_background": "light"
     },
     "output_type": "display_data"
    }
   ],
   "source": [
    "plt.hist(np.log(df.closest_fl_distance_m))"
   ]
  },
  {
   "cell_type": "code",
   "execution_count": 53,
   "metadata": {},
   "outputs": [
    {
     "data": {
      "text/plain": [
       "(array([3.000e+00, 0.000e+00, 1.000e+00, 8.000e+00, 2.500e+01, 8.800e+01,\n",
       "        2.780e+02, 8.820e+02, 2.155e+03, 8.520e+02]),\n",
       " array([-7.1312987 , -6.24580008, -5.36030147, -4.47480285, -3.58930423,\n",
       "        -2.70380562, -1.818307  , -0.93280839, -0.04730977,  0.83818885,\n",
       "         1.72368746]),\n",
       " <BarContainer object of 10 artists>)"
      ]
     },
     "execution_count": 53,
     "metadata": {},
     "output_type": "execute_result"
    },
    {
     "data": {
      "image/png": "[encoded data removed]",
      "text/plain": [
       "<Figure size 432x288 with 1 Axes>"
      ]
     },
     "metadata": {
      "needs_background": "light"
     },
     "output_type": "display_data"
    }
   ],
   "source": [
    "plt.hist(np.log(df.closest_fl_area_sqkm.apply(lambda x: x if x > 0 else np.nan)))"
   ]
  },
  {
   "cell_type": "code",
   "execution_count": 54,
   "metadata": {},
   "outputs": [
    {
     "data": {
      "text/plain": [
       "(array([  2.,   0.,   2.,   4.,  11.,  33.,  69., 101., 141.,  96.]),\n",
       " array([-6.21560727, -5.35462287, -4.49363846, -3.63265406, -2.77166966,\n",
       "        -1.91068526, -1.04970086, -0.18871646,  0.67226794,  1.53325234,\n",
       "         2.39423674]),\n",
       " <BarContainer object of 10 artists>)"
      ]
     },
     "execution_count": 54,
     "metadata": {},
     "output_type": "execute_result"
    },
    {
     "data": {
      "image/png": "[encoded data removed]",
      "text/plain": [
       "<Figure size 432x288 with 1 Axes>"
      ]
     },
     "metadata": {
      "needs_background": "light"
     },
     "output_type": "display_data"
    }
   ],
   "source": [
    "plt.hist(np.log(df.closest_wb_area_sqkm))"
   ]
  },
  {
   "cell_type": "code",
   "execution_count": 55,
   "metadata": {},
   "outputs": [
    {
     "data": {
      "text/plain": [
       "(array([5.000e+00, 2.000e+00, 2.000e+00, 3.000e+00, 1.600e+01, 6.900e+01,\n",
       "        1.820e+02, 6.760e+02, 1.591e+03, 3.100e+03]),\n",
       " array([-3.52628843, -2.96325606, -2.40022369, -1.83719131, -1.27415894,\n",
       "        -0.71112657, -0.1480942 ,  0.41493817,  0.97797055,  1.54100292,\n",
       "         2.10403529]),\n",
       " <BarContainer object of 10 artists>)"
      ]
     },
     "execution_count": 55,
     "metadata": {},
     "output_type": "execute_result"
    },
    {
     "data": {
      "image/png": "[encoded data removed]",
      "text/plain": [
       "<Figure size 432x288 with 1 Axes>"
      ]
     },
     "metadata": {
      "needs_background": "light"
     },
     "output_type": "display_data"
    }
   ],
   "source": [
    "plt.hist(np.log(df.closest_fl_elevation.apply(lambda x: x if x > 0 else np.nan)))"
   ]
  },
  {
   "cell_type": "markdown",
   "metadata": {
    "id": "0ez1BBgTW_Bk"
   },
   "source": [
    "# Light GBM"
   ]
  },
  {
   "cell_type": "code",
   "execution_count": 56,
   "metadata": {},
   "outputs": [],
   "source": [
    "start = datetime.now()"
   ]
  },
  {
   "cell_type": "code",
   "execution_count": 275,
   "metadata": {
    "colab": {
     "base_uri": "https://localhost:8080/"
    },
    "id": "-nU49jh6tULS",
    "outputId": "166d48d9-0f92-4c84-a479-c662c5172834"
   },
   "outputs": [
    {
     "name": "stdout",
     "output_type": "stream",
     "text": [
      "Fitting 10 folds for each of 10 candidates, totalling 100 fits\n",
      "[LightGBM] [Warning] min_data_in_leaf is set=10, min_child_samples=20 will be ignored. Current value: min_data_in_leaf=10\n"
     ]
    }
   ],
   "source": [
    "# https://www.kaggle.com/binilg/lightgbm-with-randomsearchcv-and-feature-imp\n",
    "# Implementation: https://www.kaggle.com/mlisovyi/lightgbm-hyperparameter-optimisation-lb-0-761\n",
    "# Documentation: https://lightgbm.readthedocs.io/en/latest/Features.html\n",
    "# LightGBM Classifier: https://lightgbm.readthedocs.io/en/latest/pythonapi/lightgbm.LGBMClassifier.html#\n",
    "\n",
    "from optimize_ppv_npv_scorer_ import optimize_ppv_npv_scorer\n",
    "\n",
    "import lightgbm\n",
    "param_dict = {\n",
    "    'learning_rate': [0.05],\n",
    "    'num_leaves': [90,200],\n",
    "    'boosting_type' : ['gbdt'],\n",
    "    'objective' : ['binary'],\n",
    "    'max_depth' : [5,6,7,8],\n",
    "    'random_state' : [501], \n",
    "    'colsample_bytree' : [0.5,0.7],\n",
    "    'subsample' : [0.5,0.7],\n",
    "    'min_split_gain' : [0.01],\n",
    "    'min_data_in_leaf':[10],\n",
    "#     'metric':['auc']\n",
    "    }\n",
    "#modelling\n",
    "clf = lightgbm.LGBMClassifier()\n",
    "\n",
    "if run_models:\n",
    "    random_search_model = (RandomizedSearchCV(clf, \n",
    "                               param_dict, \n",
    "                               verbose=1, \n",
    "                               cv=10, \n",
    "                               n_jobs = -1, \n",
    "                               n_iter=10,\n",
    "                               scoring=optimize_ppv_npv_scorer))\n",
    "        # from sklearn.model_selection import GridSearchCV, RandomizedSearchCV\n",
    "    random_search_model.fit(X, Y)\n",
    "    model_dict[\"lgbm\"] = random_search_model\n",
    "    model_dict[\"file_params\"] = file_param_dict\n",
    "    pickle.dump(model_dict, open(\"random_search_fitted_models_\" + FILE_VERSION, \"wb\"), protocol=3)"
   ]
  },
  {
   "cell_type": "code",
   "execution_count": 276,
   "metadata": {},
   "outputs": [],
   "source": [
    "model_dict = pd.read_pickle(\"random_search_fitted_models_\" + FILE_VERSION)\n",
    "lgbm = model_dict[\"lgbm\"]\n",
    "# y_predict = lgbm.predict(dev_X) \n",
    "\n",
    "# threshold is taken as 0.5, as proven here\n",
    "# y_predict_ = 1 * (lr.predict_proba(test_X)[:, 1]>0.5) # \n",
    "# np.mean(y_predict == y_predict_)"
   ]
  },
  {
   "cell_type": "code",
   "execution_count": 277,
   "metadata": {},
   "outputs": [
    {
     "name": "stdout",
     "output_type": "stream",
     "text": [
      "average_precision_score: 0.7561\n",
      "roc_auc : 0.84977\n",
      "Classification Report:\n",
      "              precision    recall  f1-score   support\n",
      "\n",
      "           0       0.78      0.90      0.84      1848\n",
      "           1       0.75      0.53      0.62      1017\n",
      "\n",
      "    accuracy                           0.77      2865\n",
      "   macro avg       0.76      0.72      0.73      2865\n",
      "weighted avg       0.77      0.77      0.76      2865\n",
      "\n"
     ]
    }
   ],
   "source": [
    "model_results(lgbm, dev_X, dev_Y)"
   ]
  },
  {
   "cell_type": "code",
   "execution_count": 183,
   "metadata": {},
   "outputs": [
    {
     "data": {
      "text/plain": [
       "(0.7506738544474394, 0.783325482807348)"
      ]
     },
     "execution_count": 183,
     "metadata": {},
     "output_type": "execute_result"
    }
   ],
   "source": [
    "lgbm = model_dict[\"lgbm\"]\n",
    "y_predict = lgbm.predict(dev_X) \n",
    "calculate_ppv_npv(dev_Y, y_predict)"
   ]
  },
  {
   "cell_type": "code",
   "execution_count": 59,
   "metadata": {
    "colab": {
     "base_uri": "https://localhost:8080/"
    },
    "id": "ISubtXNPXo_-",
    "outputId": "54b42de5-9909-4c66-b451-e106a5181e02"
   },
   "outputs": [
    {
     "name": "stdout",
     "output_type": "stream",
     "text": [
      "average_precision_score: 0.75278\n",
      "roc_auc : 0.85177\n",
      "Classification Report:\n",
      "              precision    recall  f1-score   support\n",
      "\n",
      "           0       0.78      0.90      0.84      1848\n",
      "           1       0.75      0.55      0.63      1017\n",
      "\n",
      "    accuracy                           0.77      2865\n",
      "   macro avg       0.77      0.72      0.74      2865\n",
      "weighted avg       0.77      0.77      0.77      2865\n",
      "\n"
     ]
    }
   ],
   "source": [
    "model_results(lgbm, dev_X, dev_Y)"
   ]
  },
  {
   "cell_type": "code",
   "execution_count": 60,
   "metadata": {
    "colab": {
     "base_uri": "https://localhost:8080/",
     "height": 618
    },
    "id": "SaFbWsFQX5Vs",
    "outputId": "f00a317c-8b5f-4dd4-e538-8056b8a803be"
   },
   "outputs": [
    {
     "data": {
      "text/plain": [
       "Text(0, 0.5, 'Feature Importance Score')"
      ]
     },
     "execution_count": 60,
     "metadata": {},
     "output_type": "execute_result"
    },
    {
     "data": {
      "image/png": "[encoded data removed]",
      "text/plain": [
       "<Figure size 1440x360 with 1 Axes>"
      ]
     },
     "metadata": {
      "needs_background": "light"
     },
     "output_type": "display_data"
    }
   ],
   "source": [
    "#Feature importance for top 50 predictors\n",
    "predictors = [x for x in df_X_combined_dummies_ordered.columns]\n",
    "feat_imp = pd.Series(lgbm.best_estimator_.feature_importances_, predictors).sort_values(ascending=False)\n",
    "feat_imp = feat_imp[0:50]\n",
    "plt.rcParams['figure.figsize'] = 20, 5\n",
    "feat_imp.plot(kind='bar', title='Feature Importance')\n",
    "plt.ylabel('Feature Importance Score')"
   ]
  },
  {
   "cell_type": "code",
   "execution_count": 61,
   "metadata": {},
   "outputs": [
    {
     "name": "stdout",
     "output_type": "stream",
     "text": [
      "Time taken (min): 0.1\n"
     ]
    }
   ],
   "source": [
    "end = datetime.now()\n",
    "time_taken(start, end)"
   ]
  },
  {
   "cell_type": "code",
   "execution_count": 62,
   "metadata": {},
   "outputs": [],
   "source": [
    "# stop"
   ]
  },
  {
   "cell_type": "markdown",
   "metadata": {
    "id": "bpKXfQfXzKLf"
   },
   "source": [
    "# Logistic Regression"
   ]
  },
  {
   "cell_type": "code",
   "execution_count": 63,
   "metadata": {
    "colab": {
     "base_uri": "https://localhost:8080/"
    },
    "id": "OzQrUXTW6J6b",
    "outputId": "506c9dc8-7ddd-46a3-f171-91e9993e52c9"
   },
   "outputs": [],
   "source": [
    "start = datetime.now()"
   ]
  },
  {
   "cell_type": "code",
   "execution_count": 64,
   "metadata": {
    "id": "IqOn82eq0Hsy"
   },
   "outputs": [],
   "source": [
    "\n",
    "# build a classifier\n",
    "clf = LogisticRegression()\n",
    "\n",
    "param_dict = {\"C\":np.logspace(-3,3,7), \n",
    "              \"penalty\":[\"l1\", \"l2\", \"elasticnet\"],\n",
    "              \"l1_ratio\":np.linspace(0,1,10),\n",
    "              \"solver\":[\"lbfgs\", \"saga\"]\n",
    "              }# l1 lasso l2 ridge\n",
    "\n",
    "# run randomized search\n",
    "if run_logistic:\n",
    "    random_search_model = RandomizedSearchCV(clf, \n",
    "                                       param_distributions=param_dict,\n",
    "                                       n_iter=20, \n",
    "                                       scoring=optimize_ppv_npv_scorer, \n",
    "                                       cv=10, \n",
    "                                       n_jobs=-1)\n",
    "\n",
    "\n",
    "    # from sklearn.model_selection import GridSearchCV, RandomizedSearchCV\n",
    "    random_search_model.fit(X, Y)\n",
    "    model_dict[\"lr\"] = random_search_model\n",
    "    model_dict[\"file_params\"] = file_param_dict\n",
    "    pickle.dump(model_dict, open(\"random_search_fitted_models_\" + FILE_VERSION, \"wb\"), protocol=3)\n"
   ]
  },
  {
   "cell_type": "code",
   "execution_count": 65,
   "metadata": {
    "colab": {
     "base_uri": "https://localhost:8080/"
    },
    "id": "WYoge1Lo5Xy5",
    "outputId": "608485a4-911d-4c7f-b89b-b2ae06d5b4c8"
   },
   "outputs": [
    {
     "name": "stdout",
     "output_type": "stream",
     "text": [
      "average_precision_score: 0.53948\n",
      "roc_auc : 0.65155\n",
      "Classification Report:\n",
      "              precision    recall  f1-score   support\n",
      "\n",
      "           0       0.69      0.92      0.79      1848\n",
      "           1       0.64      0.25      0.36      1017\n",
      "\n",
      "    accuracy                           0.68      2865\n",
      "   macro avg       0.67      0.59      0.57      2865\n",
      "weighted avg       0.67      0.68      0.64      2865\n",
      "\n"
     ]
    }
   ],
   "source": [
    "try:\n",
    "    model_dict = pd.read_pickle(\"random_search_fitted_models_\" + FILE_VERSION)\n",
    "    lr = model_dict[\"lr\"]\n",
    "    model_results(lr, dev_X, dev_Y)\n",
    "except:\n",
    "    pass"
   ]
  },
  {
   "cell_type": "code",
   "execution_count": 66,
   "metadata": {},
   "outputs": [],
   "source": [
    "# not sure if useful\n",
    "# precision, recall, thresholds = metrics.precision_recall_curve(test_Y, lr.predict_proba(test_X)[:, 1], pos_label=1)\n",
    "\n",
    "# metrics.plot_precision_recall_curve(lr, test_X, test_Y, response_method='predict_proba')"
   ]
  },
  {
   "cell_type": "code",
   "execution_count": 67,
   "metadata": {
    "id": "zLlnRF_s062y"
   },
   "outputs": [
    {
     "name": "stdout",
     "output_type": "stream",
     "text": [
      "Time taken (min): 1.1\n"
     ]
    }
   ],
   "source": [
    "end = datetime.now()\n",
    "time_taken(start, end)"
   ]
  },
  {
   "cell_type": "markdown",
   "metadata": {
    "id": "ug-A0ZPMDgZ7"
   },
   "source": [
    "# XGBoost"
   ]
  },
  {
   "cell_type": "code",
   "execution_count": 68,
   "metadata": {},
   "outputs": [],
   "source": [
    "start = datetime.now()"
   ]
  },
  {
   "cell_type": "code",
   "execution_count": 69,
   "metadata": {
    "id": "Z8k3ZsgjHNjC"
   },
   "outputs": [
    {
     "name": "stdout",
     "output_type": "stream",
     "text": [
      "[17:52:15] WARNING: ../src/learner.cc:1061: Starting in XGBoost 1.3.0, the default evaluation metric used with the objective 'binary:logistic' was changed from 'error' to 'logloss'. Explicitly set eval_metric if you'd like to restore the old behavior.\n"
     ]
    }
   ],
   "source": [
    "# build a classifier\n",
    "clf = XGBRFClassifier()\n",
    "\n",
    "# A parameter grid for XGBoost\n",
    "# https://www.kaggle.com/tilii7/hyperparameter-grid-search-with-xgboost\n",
    "param_dict = {\n",
    "        'min_child_weight': [1, 5, 10],\n",
    "        'gamma': [0.5, 1, 1.5, 2, 5],\n",
    "        'subsample': [0.6, 0.8, 1.0],\n",
    "        'colsample_bytree': [0.6, 0.8, 1.0],\n",
    "        'max_depth': [3, 4, 5]\n",
    "        }\n",
    "\n",
    "# run randomized search\n",
    "if run_models:\n",
    "    random_search_model = RandomizedSearchCV(clf, \n",
    "                                   param_distributions=param_dict,\n",
    "                                   n_iter=1, \n",
    "                                   scoring=optimize_ppv_npv_scorer, \n",
    "                                   cv=10, \n",
    "                                   n_jobs=-1)\n",
    "\n",
    "\n",
    "    # from sklearn.model_selection import GridSearchCV, RandomizedSearchCV\n",
    "    random_search_model.fit(X, Y)\n",
    "    model_dict[\"xgb\"] = random_search_model\n",
    "    model_dict[\"file_params\"] = file_param_dict    \n",
    "    pickle.dump(model_dict, open(\"random_search_fitted_models_\" + FILE_VERSION, \"wb\"), protocol=3)"
   ]
  },
  {
   "cell_type": "code",
   "execution_count": 70,
   "metadata": {},
   "outputs": [],
   "source": [
    "model_dict = pd.read_pickle(\"random_search_fitted_models_\" + FILE_VERSION)\n",
    "xgb = model_dict[\"xgb\"]\n",
    "y_predict = lr.predict(test_X) \n",
    "\n",
    "# threshold is taken as 0.5, as proven here\n",
    "# y_predict_ = 1 * (lr.predict_proba(test_X)[:, 1]>0.5) # \n",
    "# np.mean(y_predict == y_predict_)"
   ]
  },
  {
   "cell_type": "code",
   "execution_count": 71,
   "metadata": {},
   "outputs": [
    {
     "name": "stdout",
     "output_type": "stream",
     "text": [
      "average_precision_score: 0.65785\n",
      "roc_auc : 0.77708\n",
      "Classification Report:\n",
      "              precision    recall  f1-score   support\n",
      "\n",
      "           0       0.74      0.90      0.81      1848\n",
      "           1       0.70      0.43      0.53      1017\n",
      "\n",
      "    accuracy                           0.73      2865\n",
      "   macro avg       0.72      0.66      0.67      2865\n",
      "weighted avg       0.73      0.73      0.71      2865\n",
      "\n"
     ]
    }
   ],
   "source": [
    "model_results(xgb, dev_X, dev_Y)"
   ]
  },
  {
   "cell_type": "code",
   "execution_count": 72,
   "metadata": {
    "colab": {
     "base_uri": "https://localhost:8080/",
     "height": 669
    },
    "id": "DqyeGmeqZXnZ",
    "outputId": "36dc804f-a60b-4a0c-87dd-d4a9bc62411f"
   },
   "outputs": [
    {
     "data": {
      "text/plain": [
       "Text(0, 0.5, 'Feature Importance Score')"
      ]
     },
     "execution_count": 72,
     "metadata": {},
     "output_type": "execute_result"
    },
    {
     "data": {
      "image/png": "[encoded data removed]",
      "text/plain": [
       "<Figure size 1440x360 with 1 Axes>"
      ]
     },
     "metadata": {
      "needs_background": "light"
     },
     "output_type": "display_data"
    }
   ],
   "source": [
    "#Feature importance for top 50 predictors\n",
    "predictors = [x for x in df_X_combined_dummies_ordered.columns]\n",
    "feat_imp = pd.Series(xgb.best_estimator_.feature_importances_, predictors).sort_values(ascending=False)\n",
    "feat_imp = feat_imp[0:50]\n",
    "plt.rcParams['figure.figsize'] = 20, 5\n",
    "feat_imp.plot(kind='bar', title='Feature Importance')\n",
    "plt.ylabel('Feature Importance Score')"
   ]
  },
  {
   "cell_type": "code",
   "execution_count": 73,
   "metadata": {},
   "outputs": [
    {
     "name": "stdout",
     "output_type": "stream",
     "text": [
      "Time taken (min): 2.5\n"
     ]
    }
   ],
   "source": [
    "end = datetime.now()\n",
    "time_taken(start, end)"
   ]
  },
  {
   "cell_type": "markdown",
   "metadata": {
    "id": "j3RElmg55sOb"
   },
   "source": [
    "# Stacking"
   ]
  },
  {
   "cell_type": "markdown",
   "metadata": {},
   "source": [
    "### http://rasbt.github.io/mlxtend/user_guide/classifier/StackingCVClassifier/"
   ]
  },
  {
   "cell_type": "code",
   "execution_count": 74,
   "metadata": {},
   "outputs": [],
   "source": [
    "start = datetime.now()"
   ]
  },
  {
   "cell_type": "code",
   "execution_count": 75,
   "metadata": {},
   "outputs": [
    {
     "name": "stdout",
     "output_type": "stream",
     "text": [
      "[17:52:16] WARNING: ../src/learner.cc:1061: Starting in XGBoost 1.3.0, the default evaluation metric used with the objective 'binary:logistic' was changed from 'error' to 'logloss'. Explicitly set eval_metric if you'd like to restore the old behavior.\n",
      "[17:52:17] WARNING: ../src/learner.cc:1061: Starting in XGBoost 1.3.0, the default evaluation metric used with the objective 'binary:logistic' was changed from 'error' to 'logloss'. Explicitly set eval_metric if you'd like to restore the old behavior.\n",
      "[LightGBM] [Warning] min_data_in_leaf is set=10, min_child_samples=20 will be ignored. Current value: min_data_in_leaf=10\n",
      "[LightGBM] [Warning] min_data_in_leaf is set=10, min_child_samples=20 will be ignored. Current value: min_data_in_leaf=10\n",
      "[17:52:20] WARNING: ../src/learner.cc:1061: Starting in XGBoost 1.3.0, the default evaluation metric used with the objective 'binary:logistic' was changed from 'error' to 'logloss'. Explicitly set eval_metric if you'd like to restore the old behavior.\n",
      "[LightGBM] [Warning] min_data_in_leaf is set=10, min_child_samples=20 will be ignored. Current value: min_data_in_leaf=10\n",
      "[17:52:22] WARNING: ../src/learner.cc:1061: Starting in XGBoost 1.3.0, the default evaluation metric used with the objective 'binary:logistic' was changed from 'error' to 'logloss'. Explicitly set eval_metric if you'd like to restore the old behavior.\n"
     ]
    }
   ],
   "source": [
    "# classifiers, meta_classifier, use_probas=False, cv=2, \n",
    "# use_features_in_secondary=False, stratify=True, shuffle=True, verbose=0, store_train_meta_features=False, use_clones=True)\n",
    "\n",
    "model_dict = pd.read_pickle(\"random_search_fitted_models_\" + FILE_VERSION)\n",
    "xgb = model_dict[\"xgb\"]\n",
    "lgbm = model_dict[\"lgbm\"]\n",
    "\n",
    "if run_models:\n",
    "    stack_gen_model = (StackingCVClassifier(classifiers=[xgb.best_estimator_,\n",
    "                                                         lgbm.best_estimator_], \n",
    "                                            meta_classifier=xgb.best_estimator_,\n",
    "                                            use_features_in_secondary=True,\n",
    "                                            use_probas=True,\n",
    "                                           random_state=random_state))\n",
    "\n",
    "    stack_gen_model.fit(X, Y)\n",
    "    model_dict[\"stacking\"] = stack_gen_model\n",
    "    model_dict[\"file_params\"] = file_param_dict\n",
    "    pickle.dump(model_dict, open(\"random_search_fitted_models_\" + FILE_VERSION, \"wb\"), protocol=3)\n",
    "    \n",
    "model_dict = pd.read_pickle(\"random_search_fitted_models_\" + FILE_VERSION)\n",
    "stacking = model_dict[\"stacking\"]\n",
    "y_predict = stacking.predict(test_X) \n",
    "y_score = stacking.predict_proba(test_X)"
   ]
  },
  {
   "cell_type": "code",
   "execution_count": 76,
   "metadata": {},
   "outputs": [
    {
     "data": {
      "text/plain": [
       "0.848235146384215"
      ]
     },
     "execution_count": 76,
     "metadata": {},
     "output_type": "execute_result"
    }
   ],
   "source": [
    "# Compute ROC curve and ROC area for each class\n",
    "n_classes = 2\n",
    "fpr = dict()\n",
    "tpr = dict()\n",
    "roc_auc = dict()\n",
    "\n",
    "\n",
    "fpr, tpr, _ = roc_curve(test_Y, y_score[:, 1])\n",
    "roc_auc = auc(fpr, tpr)\n",
    "roc_auc\n",
    "\n",
    "# # Compute micro-average ROC curve and ROC area\n",
    "# fpr[\"micro\"], tpr[\"micro\"], _ = roc_curve(test_Y.ravel(), y_score.ravel())\n",
    "# roc_auc[\"micro\"] = auc(fpr[\"micro\"], tpr[\"micro\"])\n",
    "\n",
    "# plt.figure()\n",
    "# lw = 2\n",
    "# plt.plot(fpr[2], tpr[2], color='darkorange',\n",
    "#          lw=lw, label='ROC curve (area = %0.2f)' % roc_auc[2])\n",
    "# plt.plot([0, 1], [0, 1], color='navy', lw=lw, linestyle='--')\n",
    "# plt.xlim([0.0, 1.0])\n",
    "# plt.ylim([0.0, 1.05])\n",
    "# plt.xlabel('False Positive Rate')\n",
    "# plt.ylabel('True Positive Rate')\n",
    "# plt.title('Receiver operating characteristic example')\n",
    "# plt.legend(loc=\"lower right\")\n",
    "# plt.show()"
   ]
  },
  {
   "cell_type": "code",
   "execution_count": 77,
   "metadata": {},
   "outputs": [
    {
     "name": "stdout",
     "output_type": "stream",
     "text": [
      "average_precision_score: 0.77837\n",
      "roc_auc : 0.84824\n",
      "Classification Report:\n",
      "              precision    recall  f1-score   support\n",
      "\n",
      "           0       0.79      0.88      0.83      1797\n",
      "           1       0.74      0.61      0.67      1068\n",
      "\n",
      "    accuracy                           0.78      2865\n",
      "   macro avg       0.77      0.74      0.75      2865\n",
      "weighted avg       0.77      0.78      0.77      2865\n",
      "\n"
     ]
    }
   ],
   "source": [
    "model_results(stacking, test_X, test_Y)"
   ]
  },
  {
   "cell_type": "code",
   "execution_count": 78,
   "metadata": {},
   "outputs": [
    {
     "name": "stdout",
     "output_type": "stream",
     "text": [
      "Time taken (min): 0.1\n"
     ]
    }
   ],
   "source": [
    "end = datetime.now()\n",
    "time_taken(start, end)"
   ]
  },
  {
   "cell_type": "markdown",
   "metadata": {},
   "source": [
    "# VotingClassifier"
   ]
  },
  {
   "cell_type": "code",
   "execution_count": 79,
   "metadata": {},
   "outputs": [],
   "source": [
    "start = datetime.now()"
   ]
  },
  {
   "cell_type": "code",
   "execution_count": 80,
   "metadata": {
    "id": "Efv12Vc6ijNT"
   },
   "outputs": [
    {
     "name": "stdout",
     "output_type": "stream",
     "text": [
      "[17:57:46] WARNING: ../src/learner.cc:1061: Starting in XGBoost 1.3.0, the default evaluation metric used with the objective 'binary:logistic' was changed from 'error' to 'logloss'. Explicitly set eval_metric if you'd like to restore the old behavior.\n",
      "Fitting 10 folds for each of 10 candidates, totalling 100 fits\n",
      "[LightGBM] [Warning] min_data_in_leaf is set=10, min_child_samples=20 will be ignored. Current value: min_data_in_leaf=10\n",
      "[17:57:51] WARNING: ../src/learner.cc:1061: Starting in XGBoost 1.3.0, the default evaluation metric used with the objective 'binary:logistic' was changed from 'error' to 'logloss'. Explicitly set eval_metric if you'd like to restore the old behavior.\n",
      "[17:57:52] WARNING: ../src/learner.cc:1061: Starting in XGBoost 1.3.0, the default evaluation metric used with the objective 'binary:logistic' was changed from 'error' to 'logloss'. Explicitly set eval_metric if you'd like to restore the old behavior.\n",
      "[LightGBM] [Warning] min_data_in_leaf is set=10, min_child_samples=20 will be ignored. Current value: min_data_in_leaf=10\n",
      "[17:57:53] WARNING: ../src/learner.cc:1061: Starting in XGBoost 1.3.0, the default evaluation metric used with the objective 'binary:logistic' was changed from 'error' to 'logloss'. Explicitly set eval_metric if you'd like to restore the old behavior.\n",
      "[LightGBM] [Warning] min_data_in_leaf is set=10, min_child_samples=20 will be ignored. Current value: min_data_in_leaf=10\n",
      "[17:57:54] WARNING: ../src/learner.cc:1061: Starting in XGBoost 1.3.0, the default evaluation metric used with the objective 'binary:logistic' was changed from 'error' to 'logloss'. Explicitly set eval_metric if you'd like to restore the old behavior.\n"
     ]
    }
   ],
   "source": [
    "if run_models:\n",
    "    vc_clf = (VotingClassifier(estimators=[(\"xbg\", model_dict[\"xgb\"]), \n",
    "                                           (\"lightgbm\", model_dict[\"lgbm\"]),\n",
    "                                          (\"stacking\", model_dict[\"stacking\"])],\n",
    "                                           voting=\"soft\",\n",
    "                                           flatten_transform=False))\n",
    "\n",
    "    vc_fit = vc_clf.fit(dev_X, dev_Y)\n",
    "    model_dict[\"voting_clf\"] = vc_fit\n",
    "    model_dict[\"file_params\"] = file_param_dict\n",
    "    pickle.dump(model_dict, open(\"random_search_fitted_models_\" + FILE_VERSION, \"wb\"), protocol=3)\n",
    "\n",
    "model_dict = pd.read_pickle(\"random_search_fitted_models_\" + FILE_VERSION)\n",
    "voting_clf = model_dict[\"voting_clf\"]\n",
    "y_predict = voting_clf.predict(test_X) \n",
    "y_score = voting_clf.predict_proba(test_X)"
   ]
  },
  {
   "cell_type": "code",
   "execution_count": 81,
   "metadata": {},
   "outputs": [
    {
     "name": "stdout",
     "output_type": "stream",
     "text": [
      "average_precision_score: 0.75841\n",
      "roc_auc : 0.83084\n",
      "Classification Report:\n",
      "              precision    recall  f1-score   support\n",
      "\n",
      "           0       0.76      0.91      0.83      1797\n",
      "           1       0.77      0.52      0.62      1068\n",
      "\n",
      "    accuracy                           0.76      2865\n",
      "   macro avg       0.77      0.71      0.72      2865\n",
      "weighted avg       0.77      0.76      0.75      2865\n",
      "\n"
     ]
    }
   ],
   "source": [
    "model_results(voting_clf, test_X, test_Y)\n",
    "# find_roc_auc(vc_fit, test_X, test_Y)"
   ]
  },
  {
   "cell_type": "code",
   "execution_count": 82,
   "metadata": {},
   "outputs": [
    {
     "name": "stdout",
     "output_type": "stream",
     "text": [
      "Time taken (min): 5.5\n"
     ]
    }
   ],
   "source": [
    "end = datetime.now()\n",
    "time_taken(start, end)"
   ]
  },
  {
   "cell_type": "markdown",
   "metadata": {},
   "source": [
    "# Model Comparison"
   ]
  },
  {
   "cell_type": "code",
   "execution_count": 83,
   "metadata": {},
   "outputs": [
    {
     "data": {
      "text/plain": [
       "dict_keys(['lgbm', 'file_params', 'lr', 'xgb', 'stacking', 'voting_clf'])"
      ]
     },
     "execution_count": 83,
     "metadata": {},
     "output_type": "execute_result"
    }
   ],
   "source": [
    "model_dict.keys()"
   ]
  },
  {
   "cell_type": "code",
   "execution_count": 84,
   "metadata": {},
   "outputs": [],
   "source": [
    "def model_results(fitted_model, test_X, test_Y):\n",
    "#     print(\"accuracy:\", np.mean(test_Y == log_best_model.predict(test_X)))\n",
    "#     print(\"balanced_accuracy_score:\", balanced_accuracy_score(test_Y, log_best_model.predict(test_X)))\n",
    "\n",
    "    # https://scikit-learn.org/stable/modules/generated/sklearn.metrics.average_precision_score.html\n",
    "    # AP summarizes a precision-recall curve as the weighted mean of precisions achieved at each threshold\n",
    "    print(\"average_precision_score:\", round(metrics.average_precision_score(test_Y, fitted_model.predict_proba(test_X)[:, 1], average=\"weighted\"), 5))\n",
    "    \n",
    "    y_prob = fitted_model.predict_proba(test_X)\n",
    "    fpr, tpr, thresholds = metrics.roc_curve(test_Y, y_prob[:, 1], pos_label=1)\n",
    "    print(\"roc_auc\",\":\", round(metrics.auc(fpr, tpr), 5))\n",
    "    \n",
    "    print(\"Classification Report:\") # threshold agnostic because you pass in the test labels instead of scores (probabilities)\n",
    "    print(classification_report(test_Y, fitted_model.predict(test_X)))"
   ]
  },
  {
   "cell_type": "code",
   "execution_count": 264,
   "metadata": {},
   "outputs": [
    {
     "name": "stdout",
     "output_type": "stream",
     "text": [
      "Metrics on Test:\n",
      "lgbm:          ppv = 0.7789, npv = 0.7762\n",
      "lr:            ppv = 0.6923, npv = 0.6835\n",
      "xgb:           ppv = 0.72, npv = 0.7241\n",
      "stacking:      ppv = 0.7965, npv = 0.7753\n",
      "voting_clf:    ppv = 0.769, npv = 0.761\n",
      "ROC_AUC on Test\n",
      "===============\n",
      "lgbm:         0.85235\n",
      "lr:           0.64218\n",
      "xgb:          0.77503\n",
      "stacking:     0.84824\n",
      "voting_clf:   0.83084\n"
     ]
    }
   ],
   "source": [
    "# print(\"Metrics on Test:\")\n",
    "# # for model in model_dict.keys():\n",
    "# #     if model not in [\"file_params\"]:\n",
    "# #         y_predict = model_dict[model].predict(test_X)\n",
    "# #         pv = calculate_ppv_npv(test_Y, y_predict)\n",
    "# #         print(\"{}: {}ppv = {}, npv = {}\".format(model, \" \"*(13 - len(model)), round(pv[0], 3), round(pv[1], 3)))\n",
    "# # #         print(\"{}:{}{}\".format(model, \" \"*(13 - len(model)), find_roc_auc(model_dict.get(model), test_X, test_Y)))\n",
    "\n",
    "\n",
    "# def ppv_npv_opt_th(y_true, y_predict_proba):\n",
    "#     ppv_list = []\n",
    "#     npv_list = []\n",
    "#     min_ppv_npv_list = []\n",
    "#     th_list = np.linspace(0, 1, 100)\n",
    "#     for th in th_list:\n",
    "#         y_predict = 1 * (y_predict_proba > th)\n",
    "#         tn, fp, fn, tp = confusion_matrix(y_true, y_predict).ravel()\n",
    "# #         print(\"hello\")\n",
    "#         ppv = tp / (tp + fp) \n",
    "#         npv = tn / (fn + tn)\n",
    "# #         print(ppv, npv)\n",
    "# #         print(np.nan_to_num(np.array(ppv, npv)))\n",
    "# #         print(np.array((ppv, npv)))\n",
    "#         min_ppv_npv = np.min(np.nan_to_num(np.array((ppv, npv))))\n",
    "# #         print(np.min(np.nan_to_num(np.array(ppv, npv))))\n",
    "# #         print(\"---\")\n",
    "# #         print(min_ppv_npv)\n",
    "\n",
    "# #         print(min_ppv_npv)\n",
    "# #         ppv_list.append(ppv)\n",
    "# #         npv_list.append(npv)\n",
    "#         min_ppv_npv_list.append(min_ppv_npv)\n",
    "#     max_ppv_npv = np.nanmax(np.array(min_ppv_npv_list))\n",
    "# #     print(min_ppv_npv_list)\n",
    "# #     opt_th_index = np.nan_to_num(np.array(min_ppv_npv_list)).argmax(axis=0)\n",
    "#     opt_th_index = np.array(min_ppv_npv_list).argmax(axis=0)\n",
    "# #     print(opt_th_index)\n",
    "#     opt_th = th_list[opt_th_index]\n",
    "#     opt_y_predict = 1 * (y_predict_proba > opt_th)\n",
    "#     opt_tn, opt_fp, opt_fn, opt_tp = confusion_matrix(y_true, opt_y_predict).ravel()\n",
    "#     opt_ppv = opt_tp / (opt_tp + opt_fp) \n",
    "#     opt_npv = opt_tn / (opt_fn + opt_tn)\n",
    "#     return opt_ppv, opt_npv\n",
    "    \n",
    "# for model in model_dict.keys():\n",
    "#     if model not in [\"file_params\"]:\n",
    "#         y_predict_proba = model_dict[model].predict_proba(test_X)[:, 1]\n",
    "#         pv = ppv_npv_opt_th(test_Y, y_predict_proba)\n",
    "#         print(\"{}: {}ppv = {}, npv = {}\".format(model, \" \"*(13 - len(model)), round(pv[0], 4), round(pv[1], 4)))\n",
    "# #         print(\"{}:{}{}\".format(model, \" \"*(13 - len(model)), find_roc_auc(model_dict.get(model), test_X, test_Y)))\n",
    "    \n",
    "\n",
    "# print(\"ROC_AUC on Test\")\n",
    "# print(\"===============\")\n",
    "# for model in model_dict.keys():\n",
    "#     if model not in [\"file_params\"]:\n",
    "#         y_predict = model_dict[model].predict(test_X)\n",
    "#         print(\"{}:{}{}\".format(model, \" \"*(13 - len(model)), find_roc_auc(model_dict.get(model), test_X, test_Y)))"
   ]
  },
  {
   "cell_type": "code",
   "execution_count": 278,
   "metadata": {},
   "outputs": [
    {
     "name": "stdout",
     "output_type": "stream",
     "text": [
      "ppv and npv on Test:\n",
      "lgbm:          ppv = 0.7754, npv = 0.7776\n",
      "lr:            ppv = 0.6923, npv = 0.6835\n",
      "xgb:           ppv = 0.72, npv = 0.7241\n",
      "stacking:      ppv = 0.7965, npv = 0.7753\n",
      "voting_clf:    ppv = 0.769, npv = 0.761\n",
      "=========================================\n",
      "ROC_AUC on Test\n",
      "lgbm:         0.84946\n",
      "lr:           0.64218\n",
      "xgb:          0.77503\n",
      "stacking:     0.84824\n",
      "voting_clf:   0.83084\n"
     ]
    }
   ],
   "source": [
    "print(\"ppv and npv on Test:\")\n",
    "for model in model_dict.keys():\n",
    "    if model not in [\"file_params\"]:\n",
    "        y_predict_proba = model_dict[model].predict_proba(test_X)[:, 1]\n",
    "        pv = ppv_npv_opt_th(test_Y, y_predict_proba)\n",
    "        print(\"{}: {}ppv = {}, npv = {}\".format(model, \" \"*(13 - len(model)), round(pv[0], 4), round(pv[1], 4)))\n",
    "    \n",
    "print(\"=========================================\")\n",
    "print(\"ROC_AUC on Test\")\n",
    "for model in model_dict.keys():\n",
    "    if model not in [\"file_params\"]:\n",
    "        y_predict = model_dict[model].predict(test_X)\n",
    "        print(\"{}:{}{}\".format(model, \" \"*(13 - len(model)), find_roc_auc(model_dict.get(model), test_X, test_Y)))"
   ]
  },
  {
   "cell_type": "code",
   "execution_count": 232,
   "metadata": {},
   "outputs": [
    {
     "data": {
      "text/plain": [
       "0.0"
      ]
     },
     "execution_count": 232,
     "metadata": {},
     "output_type": "execute_result"
    }
   ],
   "source": [
    "alist = [1,3,2,7,10, np.nan]\n",
    "# np.nan_to_num(np.array(alist)).argmax(axis=0)\n",
    "np.nanmin(np.array(alist))\n",
    "np.nanmin(np.nan_to_num(np.array(alist)))"
   ]
  },
  {
   "cell_type": "code",
   "execution_count": 249,
   "metadata": {},
   "outputs": [
    {
     "data": {
      "text/plain": [
       "array([ 4., nan])"
      ]
     },
     "execution_count": 249,
     "metadata": {},
     "output_type": "execute_result"
    }
   ],
   "source": [
    "np.array((4, np.nan))"
   ]
  },
  {
   "cell_type": "code",
   "execution_count": 279,
   "metadata": {},
   "outputs": [
    {
     "name": "stdout",
     "output_type": "stream",
     "text": [
      "ppv and npv on Dev:\n",
      "lgbm:          ppv = 0.7699, npv = 0.7673 @ threshold = 0.5455\n",
      "lr:            ppv = 0.6826, npv = 0.6823 @ threshold = 0.5556\n",
      "xgb:           ppv = 0.7218, npv = 0.7252 @ threshold = 0.5253\n",
      "stacking:      ppv = 0.7633, npv = 0.7711 @ threshold = 0.5354\n",
      "voting_clf:    ppv = 0.8972, npv = 0.8874 @ threshold = 0.4444\n",
      "=========================================\n",
      "ROC_AUC on Dev\n",
      "lgbm:         0.84977\n",
      "lr:           0.65155\n",
      "xgb:          0.77708\n",
      "stacking:     0.84733\n",
      "voting_clf:   0.96566\n"
     ]
    }
   ],
   "source": [
    "print(\"ppv and npv on Dev:\")\n",
    "for model in model_dict.keys():\n",
    "    if model not in [\"file_params\"]:\n",
    "        y_predict_proba = model_dict[model].predict_proba(dev_X)[:, 1]\n",
    "        pv = ppv_npv_opt_th(dev_Y, y_predict_proba)\n",
    "        print(\"{}: {}ppv = {}, npv = {} @ threshold = {}\".format(model, \" \"*(13 - len(model)), round(pv[0], 4), round(pv[1], 4), round(pv[2], 4)))\n",
    "\n",
    "print(\"=========================================\")\n",
    "print(\"ROC_AUC on Dev\")\n",
    "for model in model_dict.keys():\n",
    "    if model not in [\"file_params\"]:\n",
    "        print(\"{}:{}{}\".format(model, \" \"*(13 - len(model)), find_roc_auc(model_dict.get(model), dev_X, dev_Y)))"
   ]
  },
  {
   "cell_type": "code",
   "execution_count": 280,
   "metadata": {},
   "outputs": [
    {
     "name": "stdout",
     "output_type": "stream",
     "text": [
      "ppv and npv on Train:\n",
      "lgbm:          ppv = 0.8451, npv = 0.842 @ threshold = 0.4747\n",
      "lr:            ppv = 0.6964, npv = 0.6925 @ threshold = 0.5455\n",
      "xgb:           ppv = 0.7573, npv = 0.7518 @ threshold = 0.5051\n",
      "stacking:      ppv = 0.9299, npv = 0.8864 @ threshold = 0.4242\n",
      "voting_clf:    ppv = 0.7661, npv = 0.7707 @ threshold = 0.5051\n",
      "=========================================\n",
      "ROC_AUC on Training\n",
      "lgbm:         0.92426\n",
      "lr:           0.66974\n",
      "xgb:          0.80246\n",
      "stacking:     0.95222\n",
      "voting_clf:   0.84085\n"
     ]
    }
   ],
   "source": [
    "print(\"ppv and npv on Train:\")\n",
    "for model in model_dict.keys():\n",
    "    if model not in [\"file_params\"]:\n",
    "        y_predict_proba = model_dict[model].predict_proba(X)[:, 1]\n",
    "        pv = ppv_npv_opt_th(Y, y_predict_proba)\n",
    "        print(\"{}: {}ppv = {}, npv = {} @ threshold = {}\".format(model, \" \"*(13 - len(model)), round(pv[0], 4), round(pv[1], 4), round(pv[2], 4)))\n",
    "\n",
    "print(\"=========================================\")\n",
    "print(\"ROC_AUC on Training\")\n",
    "for model in model_dict.keys():\n",
    "    if model not in [\"file_params\"]:\n",
    "        print(\"{}:{}{}\".format(model, \" \"*(13 - len(model)), find_roc_auc(model_dict.get(model), X, Y)))"
   ]
  },
  {
   "cell_type": "markdown",
   "metadata": {},
   "source": [
    "# Residual Analysis"
   ]
  },
  {
   "cell_type": "code",
   "execution_count": 88,
   "metadata": {},
   "outputs": [
    {
     "data": {
      "text/plain": [
       "True"
      ]
     },
     "execution_count": 88,
     "metadata": {},
     "output_type": "execute_result"
    }
   ],
   "source": [
    "\"Index\" in df_test.columns"
   ]
  },
  {
   "cell_type": "code",
   "execution_count": 89,
   "metadata": {},
   "outputs": [
    {
     "data": {
      "text/html": [
       "<div>\n",
       "<style scoped>\n",
       "    .dataframe tbody tr th:only-of-type {\n",
       "        vertical-align: middle;\n",
       "    }\n",
       "\n",
       "    .dataframe tbody tr th {\n",
       "        vertical-align: top;\n",
       "    }\n",
       "\n",
       "    .dataframe thead th {\n",
       "        text-align: right;\n",
       "    }\n",
       "</style>\n",
       "<table border=\"1\" class=\"dataframe\">\n",
       "  <thead>\n",
       "    <tr style=\"text-align: right;\">\n",
       "      <th></th>\n",
       "      <th>cwa5</th>\n",
       "      <th>cwa1</th>\n",
       "      <th>cwa8</th>\n",
       "      <th>cwa6</th>\n",
       "      <th>rha_determination</th>\n",
       "      <th>longitude</th>\n",
       "      <th>cwa7</th>\n",
       "      <th>potential_wetland</th>\n",
       "      <th>district</th>\n",
       "      <th>cwa3</th>\n",
       "      <th>...</th>\n",
       "      <th>state</th>\n",
       "      <th>closest_wb_distance_m</th>\n",
       "      <th>closest_fl_distance_m</th>\n",
       "      <th>closest_fl_area_sqkm</th>\n",
       "      <th>closest_wb_area_sqkm</th>\n",
       "      <th>closest_fl_elevation</th>\n",
       "      <th>closest_wb_elevation</th>\n",
       "      <th>huc4</th>\n",
       "      <th>huc6</th>\n",
       "      <th>predictions</th>\n",
       "    </tr>\n",
       "  </thead>\n",
       "  <tbody>\n",
       "    <tr>\n",
       "      <th>0</th>\n",
       "      <td>0</td>\n",
       "      <td>0</td>\n",
       "      <td>0</td>\n",
       "      <td>0</td>\n",
       "      <td>0</td>\n",
       "      <td>-78.8078</td>\n",
       "      <td>0</td>\n",
       "      <td>1</td>\n",
       "      <td>Charleston</td>\n",
       "      <td>0</td>\n",
       "      <td>...</td>\n",
       "      <td>45</td>\n",
       "      <td>-0.0848827</td>\n",
       "      <td>-0.759714</td>\n",
       "      <td>1.2643</td>\n",
       "      <td>NaN</td>\n",
       "      <td>2.75871</td>\n",
       "      <td>2.26843</td>\n",
       "      <td>0304</td>\n",
       "      <td>030402</td>\n",
       "      <td>0</td>\n",
       "    </tr>\n",
       "    <tr>\n",
       "      <th>1</th>\n",
       "      <td>0</td>\n",
       "      <td>0</td>\n",
       "      <td>0</td>\n",
       "      <td>0</td>\n",
       "      <td>0</td>\n",
       "      <td>-89.7844</td>\n",
       "      <td>0</td>\n",
       "      <td>0</td>\n",
       "      <td>New Orleans</td>\n",
       "      <td>0</td>\n",
       "      <td>...</td>\n",
       "      <td>22</td>\n",
       "      <td>0.463526</td>\n",
       "      <td>-2.16788</td>\n",
       "      <td>-1.76084</td>\n",
       "      <td>-1.16475</td>\n",
       "      <td>1.86587</td>\n",
       "      <td>NaN</td>\n",
       "      <td>0809</td>\n",
       "      <td>080902</td>\n",
       "      <td>1</td>\n",
       "    </tr>\n",
       "    <tr>\n",
       "      <th>2</th>\n",
       "      <td>0</td>\n",
       "      <td>0</td>\n",
       "      <td>0</td>\n",
       "      <td>0</td>\n",
       "      <td>0</td>\n",
       "      <td>-92.2654</td>\n",
       "      <td>0</td>\n",
       "      <td>1</td>\n",
       "      <td>Kansas City</td>\n",
       "      <td>0</td>\n",
       "      <td>...</td>\n",
       "      <td>29</td>\n",
       "      <td>0.01838</td>\n",
       "      <td>-0.207295</td>\n",
       "      <td>1.63738</td>\n",
       "      <td>-3.54046</td>\n",
       "      <td>5.58658</td>\n",
       "      <td>5.5795</td>\n",
       "      <td>1030</td>\n",
       "      <td>103001</td>\n",
       "      <td>0</td>\n",
       "    </tr>\n",
       "    <tr>\n",
       "      <th>3</th>\n",
       "      <td>0</td>\n",
       "      <td>0</td>\n",
       "      <td>0</td>\n",
       "      <td>0</td>\n",
       "      <td>0</td>\n",
       "      <td>-81.6541</td>\n",
       "      <td>0</td>\n",
       "      <td>1</td>\n",
       "      <td>Huntington</td>\n",
       "      <td>0</td>\n",
       "      <td>...</td>\n",
       "      <td>39</td>\n",
       "      <td>NaN</td>\n",
       "      <td>0.323879</td>\n",
       "      <td>2.38229</td>\n",
       "      <td>NaN</td>\n",
       "      <td>5.90967</td>\n",
       "      <td>NaN</td>\n",
       "      <td>0504</td>\n",
       "      <td>050400</td>\n",
       "      <td>0</td>\n",
       "    </tr>\n",
       "    <tr>\n",
       "      <th>4</th>\n",
       "      <td>0</td>\n",
       "      <td>0</td>\n",
       "      <td>0</td>\n",
       "      <td>0</td>\n",
       "      <td>0</td>\n",
       "      <td>-81.5473</td>\n",
       "      <td>0</td>\n",
       "      <td>1</td>\n",
       "      <td>Jacksonville</td>\n",
       "      <td>0</td>\n",
       "      <td>...</td>\n",
       "      <td>12</td>\n",
       "      <td>0.269432</td>\n",
       "      <td>NaN</td>\n",
       "      <td>NaN</td>\n",
       "      <td>NaN</td>\n",
       "      <td>NaN</td>\n",
       "      <td>3.692</td>\n",
       "      <td>0308</td>\n",
       "      <td>030801</td>\n",
       "      <td>1</td>\n",
       "    </tr>\n",
       "  </tbody>\n",
       "</table>\n",
       "<p>5 rows × 495 columns</p>\n",
       "</div>"
      ],
      "text/plain": [
       "  cwa5 cwa1 cwa8 cwa6 rha_determination longitude cwa7 potential_wetland  \\\n",
       "0    0    0    0    0                 0  -78.8078    0                 1   \n",
       "1    0    0    0    0                 0  -89.7844    0                 0   \n",
       "2    0    0    0    0                 0  -92.2654    0                 1   \n",
       "3    0    0    0    0                 0  -81.6541    0                 1   \n",
       "4    0    0    0    0                 0  -81.5473    0                 1   \n",
       "\n",
       "       district cwa3  ... state closest_wb_distance_m closest_fl_distance_m  \\\n",
       "0    Charleston    0  ...    45            -0.0848827             -0.759714   \n",
       "1   New Orleans    0  ...    22              0.463526              -2.16788   \n",
       "2   Kansas City    0  ...    29               0.01838             -0.207295   \n",
       "3    Huntington    0  ...    39                   NaN              0.323879   \n",
       "4  Jacksonville    0  ...    12              0.269432                   NaN   \n",
       "\n",
       "  closest_fl_area_sqkm closest_wb_area_sqkm closest_fl_elevation  \\\n",
       "0               1.2643                  NaN              2.75871   \n",
       "1             -1.76084             -1.16475              1.86587   \n",
       "2              1.63738             -3.54046              5.58658   \n",
       "3              2.38229                  NaN              5.90967   \n",
       "4                  NaN                  NaN                  NaN   \n",
       "\n",
       "  closest_wb_elevation  huc4    huc6 predictions  \n",
       "0              2.26843  0304  030402           0  \n",
       "1                  NaN  0809  080902           1  \n",
       "2               5.5795  1030  103001           0  \n",
       "3                  NaN  0504  050400           0  \n",
       "4                3.692  0308  030801           1  \n",
       "\n",
       "[5 rows x 495 columns]"
      ]
     },
     "execution_count": 89,
     "metadata": {},
     "output_type": "execute_result"
    }
   ],
   "source": [
    "array1 = np.array(df_test)\n",
    "model = \"lgbm\"\n",
    "y_predict = model_dict[model].predict(test_X)\n",
    "array2 = y_predict.reshape(y_predict.shape[0],1)\n",
    "array3 = np.hstack((array1, array2))\n",
    "df_pred = pd.DataFrame(array3, columns = list(df_test.columns) + [\"predictions\"])\n",
    "df_pred.head()"
   ]
  },
  {
   "cell_type": "code",
   "execution_count": 90,
   "metadata": {},
   "outputs": [
    {
     "data": {
      "text/html": [
       "<div>\n",
       "<style scoped>\n",
       "    .dataframe tbody tr th:only-of-type {\n",
       "        vertical-align: middle;\n",
       "    }\n",
       "\n",
       "    .dataframe tbody tr th {\n",
       "        vertical-align: top;\n",
       "    }\n",
       "\n",
       "    .dataframe thead th {\n",
       "        text-align: right;\n",
       "    }\n",
       "</style>\n",
       "<table border=\"1\" class=\"dataframe\">\n",
       "  <thead>\n",
       "    <tr style=\"text-align: right;\">\n",
       "      <th></th>\n",
       "      <th>cwa5</th>\n",
       "      <th>cwa1</th>\n",
       "      <th>cwa8</th>\n",
       "      <th>cwa6</th>\n",
       "      <th>rha_determination</th>\n",
       "      <th>longitude</th>\n",
       "      <th>cwa7</th>\n",
       "      <th>potential_wetland</th>\n",
       "      <th>district</th>\n",
       "      <th>cwa3</th>\n",
       "      <th>...</th>\n",
       "      <th>state</th>\n",
       "      <th>closest_wb_distance_m</th>\n",
       "      <th>closest_fl_distance_m</th>\n",
       "      <th>closest_fl_area_sqkm</th>\n",
       "      <th>closest_wb_area_sqkm</th>\n",
       "      <th>closest_fl_elevation</th>\n",
       "      <th>closest_wb_elevation</th>\n",
       "      <th>huc4</th>\n",
       "      <th>huc6</th>\n",
       "      <th>predictions</th>\n",
       "    </tr>\n",
       "  </thead>\n",
       "  <tbody>\n",
       "    <tr>\n",
       "      <th>0</th>\n",
       "      <td>0</td>\n",
       "      <td>0</td>\n",
       "      <td>0</td>\n",
       "      <td>0</td>\n",
       "      <td>0</td>\n",
       "      <td>-78.8078</td>\n",
       "      <td>0</td>\n",
       "      <td>1</td>\n",
       "      <td>Charleston</td>\n",
       "      <td>0</td>\n",
       "      <td>...</td>\n",
       "      <td>45</td>\n",
       "      <td>-0.0848827</td>\n",
       "      <td>-0.759714</td>\n",
       "      <td>1.2643</td>\n",
       "      <td>NaN</td>\n",
       "      <td>2.75871</td>\n",
       "      <td>2.26843</td>\n",
       "      <td>0304</td>\n",
       "      <td>030402</td>\n",
       "      <td>0</td>\n",
       "    </tr>\n",
       "    <tr>\n",
       "      <th>2</th>\n",
       "      <td>0</td>\n",
       "      <td>0</td>\n",
       "      <td>0</td>\n",
       "      <td>0</td>\n",
       "      <td>0</td>\n",
       "      <td>-92.2654</td>\n",
       "      <td>0</td>\n",
       "      <td>1</td>\n",
       "      <td>Kansas City</td>\n",
       "      <td>0</td>\n",
       "      <td>...</td>\n",
       "      <td>29</td>\n",
       "      <td>0.01838</td>\n",
       "      <td>-0.207295</td>\n",
       "      <td>1.63738</td>\n",
       "      <td>-3.54046</td>\n",
       "      <td>5.58658</td>\n",
       "      <td>5.5795</td>\n",
       "      <td>1030</td>\n",
       "      <td>103001</td>\n",
       "      <td>0</td>\n",
       "    </tr>\n",
       "    <tr>\n",
       "      <th>3</th>\n",
       "      <td>0</td>\n",
       "      <td>0</td>\n",
       "      <td>0</td>\n",
       "      <td>0</td>\n",
       "      <td>0</td>\n",
       "      <td>-81.6541</td>\n",
       "      <td>0</td>\n",
       "      <td>1</td>\n",
       "      <td>Huntington</td>\n",
       "      <td>0</td>\n",
       "      <td>...</td>\n",
       "      <td>39</td>\n",
       "      <td>NaN</td>\n",
       "      <td>0.323879</td>\n",
       "      <td>2.38229</td>\n",
       "      <td>NaN</td>\n",
       "      <td>5.90967</td>\n",
       "      <td>NaN</td>\n",
       "      <td>0504</td>\n",
       "      <td>050400</td>\n",
       "      <td>0</td>\n",
       "    </tr>\n",
       "    <tr>\n",
       "      <th>5</th>\n",
       "      <td>0</td>\n",
       "      <td>0</td>\n",
       "      <td>0</td>\n",
       "      <td>0</td>\n",
       "      <td>0</td>\n",
       "      <td>-90.8806</td>\n",
       "      <td>0</td>\n",
       "      <td>0</td>\n",
       "      <td>Vicksburg</td>\n",
       "      <td>0</td>\n",
       "      <td>...</td>\n",
       "      <td>28</td>\n",
       "      <td>NaN</td>\n",
       "      <td>-1.12009</td>\n",
       "      <td>1.16692</td>\n",
       "      <td>NaN</td>\n",
       "      <td>3.77148</td>\n",
       "      <td>NaN</td>\n",
       "      <td>0803</td>\n",
       "      <td>080302</td>\n",
       "      <td>0</td>\n",
       "    </tr>\n",
       "    <tr>\n",
       "      <th>6</th>\n",
       "      <td>0</td>\n",
       "      <td>0</td>\n",
       "      <td>0</td>\n",
       "      <td>0</td>\n",
       "      <td>0</td>\n",
       "      <td>-90.701</td>\n",
       "      <td>0</td>\n",
       "      <td>0</td>\n",
       "      <td>St. Paul</td>\n",
       "      <td>0</td>\n",
       "      <td>...</td>\n",
       "      <td>55</td>\n",
       "      <td>0.488954</td>\n",
       "      <td>NaN</td>\n",
       "      <td>NaN</td>\n",
       "      <td>-2.36446</td>\n",
       "      <td>NaN</td>\n",
       "      <td>5.62269</td>\n",
       "      <td>0704</td>\n",
       "      <td>070400</td>\n",
       "      <td>0</td>\n",
       "    </tr>\n",
       "  </tbody>\n",
       "</table>\n",
       "<p>5 rows × 495 columns</p>\n",
       "</div>"
      ],
      "text/plain": [
       "  cwa5 cwa1 cwa8 cwa6 rha_determination longitude cwa7 potential_wetland  \\\n",
       "0    0    0    0    0                 0  -78.8078    0                 1   \n",
       "2    0    0    0    0                 0  -92.2654    0                 1   \n",
       "3    0    0    0    0                 0  -81.6541    0                 1   \n",
       "5    0    0    0    0                 0  -90.8806    0                 0   \n",
       "6    0    0    0    0                 0   -90.701    0                 0   \n",
       "\n",
       "      district cwa3  ... state closest_wb_distance_m closest_fl_distance_m  \\\n",
       "0   Charleston    0  ...    45            -0.0848827             -0.759714   \n",
       "2  Kansas City    0  ...    29               0.01838             -0.207295   \n",
       "3   Huntington    0  ...    39                   NaN              0.323879   \n",
       "5    Vicksburg    0  ...    28                   NaN              -1.12009   \n",
       "6     St. Paul    0  ...    55              0.488954                   NaN   \n",
       "\n",
       "  closest_fl_area_sqkm closest_wb_area_sqkm closest_fl_elevation  \\\n",
       "0               1.2643                  NaN              2.75871   \n",
       "2              1.63738             -3.54046              5.58658   \n",
       "3              2.38229                  NaN              5.90967   \n",
       "5              1.16692                  NaN              3.77148   \n",
       "6                  NaN             -2.36446                  NaN   \n",
       "\n",
       "  closest_wb_elevation  huc4    huc6 predictions  \n",
       "0              2.26843  0304  030402           0  \n",
       "2               5.5795  1030  103001           0  \n",
       "3                  NaN  0504  050400           0  \n",
       "5                  NaN  0803  080302           0  \n",
       "6              5.62269  0704  070400           0  \n",
       "\n",
       "[5 rows x 495 columns]"
      ]
     },
     "execution_count": 90,
     "metadata": {},
     "output_type": "execute_result"
    }
   ],
   "source": [
    "# false negatives\n",
    "\n",
    "df_fn = df_pred[(df_pred.predictions == 0) & (df_pred.cwa_determination == 1)]\n",
    "df_fn.head()\n",
    "\n",
    "# true negatives\n",
    "\n",
    "df_tn = df_pred[(df_pred.predictions == 0) & (df_pred.cwa_determination == 0)]\n",
    "df_tn.head()"
   ]
  },
  {
   "cell_type": "code",
   "execution_count": 91,
   "metadata": {},
   "outputs": [
    {
     "data": {
      "text/html": [
       "<div>\n",
       "<style scoped>\n",
       "    .dataframe tbody tr th:only-of-type {\n",
       "        vertical-align: middle;\n",
       "    }\n",
       "\n",
       "    .dataframe tbody tr th {\n",
       "        vertical-align: top;\n",
       "    }\n",
       "\n",
       "    .dataframe thead th {\n",
       "        text-align: right;\n",
       "    }\n",
       "</style>\n",
       "<table border=\"1\" class=\"dataframe\">\n",
       "  <thead>\n",
       "    <tr style=\"text-align: right;\">\n",
       "      <th></th>\n",
       "      <th>cwa1</th>\n",
       "      <th>cwa2</th>\n",
       "      <th>cwa3</th>\n",
       "      <th>cwa4</th>\n",
       "      <th>cwa5</th>\n",
       "      <th>cwa6</th>\n",
       "      <th>cwa7</th>\n",
       "      <th>cwa8</th>\n",
       "      <th>cwa9</th>\n",
       "      <th>cwa_determination</th>\n",
       "      <th>longitude</th>\n",
       "      <th>latitude</th>\n",
       "      <th>Index</th>\n",
       "      <th>da_number</th>\n",
       "      <th>jurisdiction_type</th>\n",
       "      <th>potential_wetland</th>\n",
       "      <th>predictions</th>\n",
       "    </tr>\n",
       "  </thead>\n",
       "  <tbody>\n",
       "    <tr>\n",
       "      <th>9</th>\n",
       "      <td>0</td>\n",
       "      <td>0</td>\n",
       "      <td>1</td>\n",
       "      <td>0</td>\n",
       "      <td>1</td>\n",
       "      <td>0</td>\n",
       "      <td>0</td>\n",
       "      <td>1</td>\n",
       "      <td>0</td>\n",
       "      <td>1</td>\n",
       "      <td>-81.6144</td>\n",
       "      <td>34.2756</td>\n",
       "      <td>8388</td>\n",
       "      <td>SAC-2015-01137</td>\n",
       "      <td>RAPANOS</td>\n",
       "      <td>1</td>\n",
       "      <td>0</td>\n",
       "    </tr>\n",
       "    <tr>\n",
       "      <th>11</th>\n",
       "      <td>0</td>\n",
       "      <td>0</td>\n",
       "      <td>1</td>\n",
       "      <td>0</td>\n",
       "      <td>0</td>\n",
       "      <td>0</td>\n",
       "      <td>0</td>\n",
       "      <td>0</td>\n",
       "      <td>0</td>\n",
       "      <td>1</td>\n",
       "      <td>-94.5318</td>\n",
       "      <td>30.818</td>\n",
       "      <td>13842</td>\n",
       "      <td>SWG-2019-00210</td>\n",
       "      <td>RAPANOS</td>\n",
       "      <td>0</td>\n",
       "      <td>0</td>\n",
       "    </tr>\n",
       "    <tr>\n",
       "      <th>14</th>\n",
       "      <td>0</td>\n",
       "      <td>0</td>\n",
       "      <td>0</td>\n",
       "      <td>0</td>\n",
       "      <td>1</td>\n",
       "      <td>1</td>\n",
       "      <td>0</td>\n",
       "      <td>1</td>\n",
       "      <td>0</td>\n",
       "      <td>1</td>\n",
       "      <td>-78.9143</td>\n",
       "      <td>36.4781</td>\n",
       "      <td>11552</td>\n",
       "      <td>SAW-2016-01602</td>\n",
       "      <td>RAPANOS</td>\n",
       "      <td>1</td>\n",
       "      <td>0</td>\n",
       "    </tr>\n",
       "    <tr>\n",
       "      <th>20</th>\n",
       "      <td>0</td>\n",
       "      <td>0</td>\n",
       "      <td>1</td>\n",
       "      <td>0</td>\n",
       "      <td>1</td>\n",
       "      <td>0</td>\n",
       "      <td>0</td>\n",
       "      <td>0</td>\n",
       "      <td>0</td>\n",
       "      <td>1</td>\n",
       "      <td>-78.9201</td>\n",
       "      <td>35.7799</td>\n",
       "      <td>11616</td>\n",
       "      <td>SAW-2016-02305</td>\n",
       "      <td>RAPANOS</td>\n",
       "      <td>1</td>\n",
       "      <td>0</td>\n",
       "    </tr>\n",
       "    <tr>\n",
       "      <th>37</th>\n",
       "      <td>0</td>\n",
       "      <td>1</td>\n",
       "      <td>0</td>\n",
       "      <td>0</td>\n",
       "      <td>0</td>\n",
       "      <td>0</td>\n",
       "      <td>0</td>\n",
       "      <td>0</td>\n",
       "      <td>0</td>\n",
       "      <td>1</td>\n",
       "      <td>-79.2859</td>\n",
       "      <td>33.4078</td>\n",
       "      <td>8518</td>\n",
       "      <td>SAC-2016-00219-3JY</td>\n",
       "      <td>RAPANOS</td>\n",
       "      <td>0</td>\n",
       "      <td>0</td>\n",
       "    </tr>\n",
       "    <tr>\n",
       "      <th>...</th>\n",
       "      <td>...</td>\n",
       "      <td>...</td>\n",
       "      <td>...</td>\n",
       "      <td>...</td>\n",
       "      <td>...</td>\n",
       "      <td>...</td>\n",
       "      <td>...</td>\n",
       "      <td>...</td>\n",
       "      <td>...</td>\n",
       "      <td>...</td>\n",
       "      <td>...</td>\n",
       "      <td>...</td>\n",
       "      <td>...</td>\n",
       "      <td>...</td>\n",
       "      <td>...</td>\n",
       "      <td>...</td>\n",
       "      <td>...</td>\n",
       "    </tr>\n",
       "    <tr>\n",
       "      <th>2841</th>\n",
       "      <td>0</td>\n",
       "      <td>0</td>\n",
       "      <td>0</td>\n",
       "      <td>0</td>\n",
       "      <td>1</td>\n",
       "      <td>0</td>\n",
       "      <td>0</td>\n",
       "      <td>0</td>\n",
       "      <td>0</td>\n",
       "      <td>1</td>\n",
       "      <td>-79.8506</td>\n",
       "      <td>32.8038</td>\n",
       "      <td>8582</td>\n",
       "      <td>SAC-2016-00619</td>\n",
       "      <td>RAPANOS</td>\n",
       "      <td>1</td>\n",
       "      <td>0</td>\n",
       "    </tr>\n",
       "    <tr>\n",
       "      <th>2848</th>\n",
       "      <td>0</td>\n",
       "      <td>0</td>\n",
       "      <td>0</td>\n",
       "      <td>0</td>\n",
       "      <td>1</td>\n",
       "      <td>0</td>\n",
       "      <td>0</td>\n",
       "      <td>0</td>\n",
       "      <td>0</td>\n",
       "      <td>1</td>\n",
       "      <td>-85.7867</td>\n",
       "      <td>38.6726</td>\n",
       "      <td>1419</td>\n",
       "      <td>LRL-2016-00601-MKD</td>\n",
       "      <td>RAPANOS</td>\n",
       "      <td>1</td>\n",
       "      <td>0</td>\n",
       "    </tr>\n",
       "    <tr>\n",
       "      <th>2853</th>\n",
       "      <td>0</td>\n",
       "      <td>0</td>\n",
       "      <td>0</td>\n",
       "      <td>0</td>\n",
       "      <td>1</td>\n",
       "      <td>0</td>\n",
       "      <td>0</td>\n",
       "      <td>0</td>\n",
       "      <td>0</td>\n",
       "      <td>1</td>\n",
       "      <td>-85.6818</td>\n",
       "      <td>41.3747</td>\n",
       "      <td>931</td>\n",
       "      <td>LRE-2017-00523-143</td>\n",
       "      <td>RAPANOS</td>\n",
       "      <td>0</td>\n",
       "      <td>0</td>\n",
       "    </tr>\n",
       "    <tr>\n",
       "      <th>2854</th>\n",
       "      <td>0</td>\n",
       "      <td>0</td>\n",
       "      <td>1</td>\n",
       "      <td>0</td>\n",
       "      <td>0</td>\n",
       "      <td>0</td>\n",
       "      <td>0</td>\n",
       "      <td>0</td>\n",
       "      <td>1</td>\n",
       "      <td>1</td>\n",
       "      <td>-91.0043</td>\n",
       "      <td>30.2581</td>\n",
       "      <td>3291</td>\n",
       "      <td>MVN-2015-01734-SQ</td>\n",
       "      <td>RAPANOS</td>\n",
       "      <td>1</td>\n",
       "      <td>0</td>\n",
       "    </tr>\n",
       "    <tr>\n",
       "      <th>2855</th>\n",
       "      <td>0</td>\n",
       "      <td>0</td>\n",
       "      <td>0</td>\n",
       "      <td>0</td>\n",
       "      <td>1</td>\n",
       "      <td>0</td>\n",
       "      <td>0</td>\n",
       "      <td>0</td>\n",
       "      <td>0</td>\n",
       "      <td>1</td>\n",
       "      <td>-89.908</td>\n",
       "      <td>30.3134</td>\n",
       "      <td>3976</td>\n",
       "      <td>MVN-2018-01286-EG</td>\n",
       "      <td>RAPANOS</td>\n",
       "      <td>0</td>\n",
       "      <td>0</td>\n",
       "    </tr>\n",
       "  </tbody>\n",
       "</table>\n",
       "<p>435 rows × 17 columns</p>\n",
       "</div>"
      ],
      "text/plain": [
       "     cwa1 cwa2 cwa3 cwa4 cwa5 cwa6 cwa7 cwa8 cwa9 cwa_determination longitude  \\\n",
       "9       0    0    1    0    1    0    0    1    0                 1  -81.6144   \n",
       "11      0    0    1    0    0    0    0    0    0                 1  -94.5318   \n",
       "14      0    0    0    0    1    1    0    1    0                 1  -78.9143   \n",
       "20      0    0    1    0    1    0    0    0    0                 1  -78.9201   \n",
       "37      0    1    0    0    0    0    0    0    0                 1  -79.2859   \n",
       "...   ...  ...  ...  ...  ...  ...  ...  ...  ...               ...       ...   \n",
       "2841    0    0    0    0    1    0    0    0    0                 1  -79.8506   \n",
       "2848    0    0    0    0    1    0    0    0    0                 1  -85.7867   \n",
       "2853    0    0    0    0    1    0    0    0    0                 1  -85.6818   \n",
       "2854    0    0    1    0    0    0    0    0    1                 1  -91.0043   \n",
       "2855    0    0    0    0    1    0    0    0    0                 1   -89.908   \n",
       "\n",
       "     latitude  Index           da_number jurisdiction_type potential_wetland  \\\n",
       "9     34.2756   8388      SAC-2015-01137           RAPANOS                 1   \n",
       "11     30.818  13842      SWG-2019-00210           RAPANOS                 0   \n",
       "14    36.4781  11552      SAW-2016-01602           RAPANOS                 1   \n",
       "20    35.7799  11616      SAW-2016-02305           RAPANOS                 1   \n",
       "37    33.4078   8518  SAC-2016-00219-3JY           RAPANOS                 0   \n",
       "...       ...    ...                 ...               ...               ...   \n",
       "2841  32.8038   8582      SAC-2016-00619           RAPANOS                 1   \n",
       "2848  38.6726   1419  LRL-2016-00601-MKD           RAPANOS                 1   \n",
       "2853  41.3747    931  LRE-2017-00523-143           RAPANOS                 0   \n",
       "2854  30.2581   3291   MVN-2015-01734-SQ           RAPANOS                 1   \n",
       "2855  30.3134   3976   MVN-2018-01286-EG           RAPANOS                 0   \n",
       "\n",
       "     predictions  \n",
       "9              0  \n",
       "11             0  \n",
       "14             0  \n",
       "20             0  \n",
       "37             0  \n",
       "...          ...  \n",
       "2841           0  \n",
       "2848           0  \n",
       "2853           0  \n",
       "2854           0  \n",
       "2855           0  \n",
       "\n",
       "[435 rows x 17 columns]"
      ]
     },
     "execution_count": 91,
     "metadata": {},
     "output_type": "execute_result"
    }
   ],
   "source": [
    "imp_cols = ['cwa1', 'cwa2', 'cwa3', 'cwa4', 'cwa5', 'cwa6' , 'cwa7', 'cwa8', 'cwa9', 'cwa_determination','longitude', 'latitude', 'Index','da_number',\n",
    "       'jurisdiction_type', 'potential_wetland', \"predictions\"]\n",
    "df_fn[imp_cols]"
   ]
  },
  {
   "cell_type": "code",
   "execution_count": 92,
   "metadata": {},
   "outputs": [],
   "source": [
    "# df_fn.drop('geometry', axis=1).describe()"
   ]
  },
  {
   "cell_type": "code",
   "execution_count": 93,
   "metadata": {},
   "outputs": [],
   "source": [
    "# set(df_fn.columns[50:100])"
   ]
  },
  {
   "cell_type": "code",
   "execution_count": 94,
   "metadata": {},
   "outputs": [
    {
     "name": "stdout",
     "output_type": "stream",
     "text": [
      "-0.00674100897638054\n",
      "-0.031196184391652598\n"
     ]
    }
   ],
   "source": [
    "print(df_tn.closest_wb_distance_m.mean())\n",
    "print(df_fn.closest_wb_distance_m.mean())"
   ]
  },
  {
   "cell_type": "code",
   "execution_count": 95,
   "metadata": {},
   "outputs": [
    {
     "data": {
      "text/plain": [
       "0.00017733335686478114"
      ]
     },
     "execution_count": 95,
     "metadata": {},
     "output_type": "execute_result"
    }
   ],
   "source": [
    "def p_value(feature=\"closest_wb_elevation\"):\n",
    "    import scipy\n",
    "    try:\n",
    "        return (scipy.stats.ttest_ind(np.array(df_tn[feature], dtype=float), \n",
    "                           np.array(df_fn[feature], dtype=float), \n",
    "                           nan_policy='omit'))[1]\n",
    "    except Exception as e:\n",
    "#         print(e)\n",
    "        pass\n",
    "p_value()"
   ]
  },
  {
   "cell_type": "code",
   "execution_count": 96,
   "metadata": {},
   "outputs": [
    {
     "name": "stdout",
     "output_type": "stream",
     "text": [
      "transition_1_200m : -16.641495098039215\n",
      "nwi_freshwater_pond_2500m : 2.884815486993345\n"
     ]
    }
   ],
   "source": [
    "for feature in df_fn.columns:\n",
    "    try:\n",
    "        if p_value(feature) < 0.0001:\n",
    "            if feature in imp_num_feature:\n",
    "                delta = (np.nanmean(np.array(df_tn[feature], dtype=float)) \n",
    "                         - np.nanmean(np.array(df_fn[feature], dtype=float)))\n",
    "                print (feature, \":\", delta)\n",
    "    except Exception as e:\n",
    "#         print(feature, \"XXXX\")\n",
    "        pass"
   ]
  },
  {
   "cell_type": "code",
   "execution_count": 97,
   "metadata": {},
   "outputs": [
    {
     "name": "stdout",
     "output_type": "stream",
     "text": [
      "slope_max_200m : -0.9087801230966122\n",
      "transition_1_200m : -16.641495098039215\n",
      "slope_stdev_200m : -0.23468463909599313\n",
      "fl_intephem_sum_2500m : 0.3946547402990235\n",
      "nwi_CLASS_NAME_forested_2500m : 1.3678809091694757\n",
      "nwi_freshwater_pond_2500m : 2.884815486993345\n",
      "nwi_CLASS_NAME_unconsolidated_bottom_2500m : 2.819777893008384\n",
      "nwi_WATER_REGIME_NAME_permanently_flooded_2500m : 2.2161697346815314\n",
      "nwi_SUBCLASS_NAME_broad-leaved_deciduous_2500m : 1.6186068619825429\n",
      "nwi_SYSTEM_NAME_palustrine_2500m : 5.894067064212255\n",
      "closest_fl_elevation : 0.3866815422191898\n",
      "closest_wb_elevation : 0.4976126688638969\n"
     ]
    }
   ],
   "source": [
    "for feature in df_fn.columns:\n",
    "    try:\n",
    "        if p_value(feature) < 0.001:\n",
    "            if feature in imp_num_feature:\n",
    "                delta = (np.nanmean(np.array(df_tn[feature], dtype=float)) \n",
    "                         - np.nanmean(np.array(df_fn[feature], dtype=float)))\n",
    "                print (feature, \":\", delta)\n",
    "    except Exception as e:\n",
    "#         print(feature, \"XXXX\")\n",
    "        pass"
   ]
  },
  {
   "cell_type": "code",
   "execution_count": 98,
   "metadata": {},
   "outputs": [
    {
     "name": "stdout",
     "output_type": "stream",
     "text": [
      "latitude : 1.1973720932503724\n",
      "slope_max_200m : -0.9087801230966122\n",
      "transition_1_200m : -16.641495098039215\n",
      "slope_stdev_200m : -0.23468463909599313\n",
      "slope_mean_200m : -0.43835498507249016\n",
      "nwi_WATER_REGIME_NAME_permanently_flooded-tidal_200m : -0.004597701149425287\n",
      "slope_stdev_2500m : -0.20159207010640712\n",
      "slope_mean_2500m : -0.35404101091467766\n",
      "fl_intephem_mean_2500m : 0.06193048725383937\n",
      "fl_gnis_name_ind_sum_2500m : -0.3048569700112349\n",
      "fl_intephem_sum_2500m : 0.3946547402990235\n",
      "nwi_SPLIT_CLASS_NAME_zzz_2500m : 6.273567539538501\n",
      "nwi_FIRST_MODIFIER_NAME_zzz_2500m : 4.335480943738656\n",
      "nwi_CLASS_NAME_forested_2500m : 1.3678809091694757\n",
      "nwi_freshwater_pond_2500m : 2.884815486993345\n",
      "nwi_CLASS_NAME_unconsolidated_bottom_2500m : 2.819777893008384\n",
      "nwi_WATER_REGIME_NAME_permanently_flooded_2500m : 2.2161697346815314\n",
      "nwi_SUBCLASS_NAME_zzz_2500m : 2.969609368248207\n",
      "nwi_SUBCLASS_NAME_broad-leaved_deciduous_2500m : 1.6186068619825429\n",
      "nwi_SYSTEM_NAME_palustrine_2500m : 5.894067064212255\n",
      "nwi_FIRST_MODIFIER_NAME_excavated_2500m : 1.581868464264108\n",
      "closest_fl_elevation : 0.3866815422191898\n",
      "closest_wb_elevation : 0.4976126688638969\n"
     ]
    }
   ],
   "source": [
    "for feature in df_fn.columns:\n",
    "    try:\n",
    "        if p_value(feature) < 0.01:\n",
    "            if feature in imp_num_feature:\n",
    "                delta = (np.nanmean(np.array(df_tn[feature], dtype=float)) \n",
    "                         - np.nanmean(np.array(df_fn[feature], dtype=float)))\n",
    "                print (feature, \":\", delta)\n",
    "    except Exception as e:\n",
    "#         print(feature, \"XXXX\")\n",
    "        pass"
   ]
  },
  {
   "cell_type": "code",
   "execution_count": 99,
   "metadata": {},
   "outputs": [
    {
     "name": "stdout",
     "output_type": "stream",
     "text": [
      "longitude : -1.9768090818425321\n",
      "latitude : 1.1973720932503724\n",
      "aws025wta : 0.1509302215935877\n",
      "seasonality_stdev_200m : -0.5364594158565867\n",
      "slope_min_200m : -0.09124564809613495\n",
      "slope_max_200m : -0.9087801230966122\n",
      "elevation_stdev_200m : -0.32563121922696947\n",
      "transition_1_200m : -16.641495098039215\n",
      "slope_stdev_200m : -0.23468463909599313\n",
      "seasonality_mean_200m : -0.85014346667558\n",
      "slope_mean_200m : -0.43835498507249016\n",
      "nwi_FIRST_MODIFIER_NAME_hyperhaline/hypersaline_200m : -0.0022988505747126436\n",
      "nwi_estuarine_and_marine_wetland_200m : 0.006892230576441102\n",
      "nwi_WATER_REGIME_NAME_permanently_flooded-tidal_200m : -0.004597701149425287\n",
      "nwi_WATER_REGIME_NAME_irregularly_flooded_200m : 0.006892230576441102\n",
      "nwi_FIRST_MODIFIER_NAME_beaver_200m : -0.009195402298850575\n",
      "nwi_CLASS_NAME_rocky_shore_200m : -0.004597701149425287\n",
      "nwi_WATER_REGIME_NAME_zzz_200m : -0.007315703050730274\n",
      "nwi_SUBCLASS_NAME_needle-leaved_evergreen_200m : -0.011079422694667704\n",
      "nwi_riverine_200m : -0.05697001123498402\n",
      "nwi_SUBCLASS_NAME_rubble_200m : -0.004597701149425287\n",
      "nwi_FIRST_MODIFIER_NAME_artificial_substrate_200m : -0.004597701149425287\n",
      "nwi_FIRST_MODIFIER_NAME_alkaline_200m : -0.004597701149425287\n",
      "nwi_SYSTEM_NAME_riverine_200m : -0.05697001123498402\n",
      "nwi_SYSTEM_NAME_palustrine_200m : 0.08896810992999743\n",
      "nwi_FIRST_MODIFIER_NAME_farmed_200m : 0.014411027568922305\n",
      "slope_stdev_2500m : -0.20159207010640712\n",
      "slope_max_2500m : -1.1038947618072363\n",
      "slope_mean_2500m : -0.35404101091467766\n",
      "recurrence_max_2500m : -1.290071040071041\n",
      "wb_gnis_name_ind_count_2500m : 0.07134214847463485\n",
      "fl_divergence_mean_2500m : -0.016555271350851348\n",
      "wb_gnis_name_ind_sum_2500m : 65175.75590268776\n",
      "wb_ftype_streamriver_2500m : -0.07352864920922997\n",
      "wb_gnis_name_ind_mean_2500m : 43968.28083895086\n",
      "fl_intephem_mean_2500m : 0.06193048725383937\n",
      "fl_gnis_name_ind_sum_2500m : -0.3048569700112349\n",
      "fl_intephem_sum_2500m : 0.3946547402990235\n",
      "fl_gnis_name_ind_mean_2500m : -0.049087340805412716\n",
      "fl_streamorde_mean_2500m : 0.13721643954315366\n",
      "wb_area_count_2500m : 0.21620862501080285\n",
      "nwi_WATER_REGIME_NAME_seasonally_flooded/saturated_2500m : -0.24401953158758968\n",
      "nwi_SPLIT_CLASS_NAME_zzz_2500m : 6.273567539538501\n",
      "nwi_freshwater_forested_2500m : 1.7093552847636335\n",
      "nwi_FIRST_MODIFIER_NAME_zzz_2500m : 4.335480943738656\n",
      "nwi_CLASS_NAME_forested_2500m : 1.3678809091694757\n",
      "nwi_WATER_REGIME_NAME_seasonally_flooded_2500m : 1.7827975110189271\n",
      "nwi_FIRST_MODIFIER_NAME_alkaline_2500m : -0.06206896551724138\n",
      "nwi_freshwater_pond_2500m : 2.884815486993345\n",
      "nwi_SUBCLASS_NAME_vegetated_2500m : -0.01839080459770115\n",
      "nwi_SUBCLASS_NAME_bedrock_2500m : -0.0022988505747126436\n",
      "nwi_SUBCLASS_NAME_rubble_2500m : -0.022988505747126436\n",
      "nwi_WATER_REGIME_NAME_permanently_flooded-tidal_2500m : -0.016100596318382163\n",
      "nwi_FIRST_MODIFIER_NAME_managed_2500m : -0.006896551724137931\n",
      "nwi_CLASS_NAME_unconsolidated_bottom_2500m : 2.819777893008384\n",
      "nwi_FIRST_MODIFIER_NAME_hyperhaline/hypersaline_2500m : -0.0022988505747126436\n",
      "nwi_WATER_REGIME_NAME_permanently_flooded_2500m : 2.2161697346815314\n",
      "nwi_shrub_wetland_2500m : 1.7093552847636335\n",
      "nwi_CLASS_NAME_rocky_shore_2500m : -0.029885057471264367\n",
      "nwi_SUBCLASS_NAME_zzz_2500m : 2.969609368248207\n",
      "nwi_SUBCLASS_NAME_broad-leaved_deciduous_2500m : 1.6186068619825429\n",
      "nwi_SYSTEM_NAME_palustrine_2500m : 5.894067064212255\n",
      "nwi_WATER_REGIME_NAME_semipermanently_flooded_2500m : 0.6858871316221591\n",
      "nwi_FIRST_MODIFIER_NAME_excavated_2500m : 1.581868464264108\n",
      "closest_fl_distance_m : 0.09775775200137496\n",
      "closest_fl_elevation : 0.3866815422191898\n",
      "closest_wb_elevation : 0.4976126688638969\n"
     ]
    }
   ],
   "source": [
    "for feature in df_fn.columns:\n",
    "    try:\n",
    "        if p_value(feature) < 0.1:\n",
    "            if feature in imp_num_feature:\n",
    "                delta = (np.nanmean(np.array(df_tn[feature], dtype=float)) \n",
    "                         - np.nanmean(np.array(df_fn[feature], dtype=float)))\n",
    "                print (feature, \":\", delta)\n",
    "    except Exception as e:\n",
    "#         print(feature, \"XXXX\")\n",
    "        pass"
   ]
  },
  {
   "cell_type": "markdown",
   "metadata": {},
   "source": [
    "# Thresholding"
   ]
  },
  {
   "cell_type": "code",
   "execution_count": 100,
   "metadata": {},
   "outputs": [
    {
     "name": "stdout",
     "output_type": "stream",
     "text": [
      "average_precision_score: 0.79047\n",
      "roc_auc : 0.85466\n",
      "Classification Report:\n",
      "              precision    recall  f1-score   support\n",
      "\n",
      "           0       0.79      0.89      0.83      1797\n",
      "           1       0.76      0.59      0.67      1068\n",
      "\n",
      "    accuracy                           0.78      2865\n",
      "   macro avg       0.77      0.74      0.75      2865\n",
      "weighted avg       0.78      0.78      0.77      2865\n",
      "\n"
     ]
    },
    {
     "data": {
      "text/plain": [
       "array([[1596,  201],\n",
       "       [ 435,  633]])"
      ]
     },
     "execution_count": 100,
     "metadata": {},
     "output_type": "execute_result"
    }
   ],
   "source": [
    "model = \"lgbm\"\n",
    "model_results(model_dict[model], test_X, test_Y)\n",
    "confusion_matrix(test_Y, model_dict[model].predict(test_X))"
   ]
  },
  {
   "cell_type": "code",
   "execution_count": 101,
   "metadata": {},
   "outputs": [
    {
     "name": "stdout",
     "output_type": "stream",
     "text": [
      "              precision    recall  f1-score   support\n",
      "\n",
      "           0       0.79      0.89      0.83      1797\n",
      "           1       0.76      0.59      0.67      1068\n",
      "\n",
      "    accuracy                           0.78      2865\n",
      "   macro avg       0.77      0.74      0.75      2865\n",
      "weighted avg       0.78      0.78      0.77      2865\n",
      "\n",
      "confusion matrix:\n",
      "[[1596  201]\n",
      " [ 435  633]]\n"
     ]
    }
   ],
   "source": [
    "def do_thresholding(threshold=0.5):\n",
    "    y_threshold = (model_dict[\"lgbm\"].predict_proba(test_X)[:, 1] > threshold) * 1\n",
    "    np.mean(y_threshold == test_Y)\n",
    "    print(classification_report(test_Y, y_threshold))\n",
    "    print(\"confusion matrix:\")\n",
    "    print(confusion_matrix(test_Y, y_threshold))\n",
    "do_thresholding()    "
   ]
  },
  {
   "cell_type": "code",
   "execution_count": 102,
   "metadata": {},
   "outputs": [
    {
     "name": "stdout",
     "output_type": "stream",
     "text": [
      "              precision    recall  f1-score   support\n",
      "\n",
      "           0       0.63      1.00      0.77      1797\n",
      "           1       0.00      0.00      0.00      1068\n",
      "\n",
      "    accuracy                           0.63      2865\n",
      "   macro avg       0.31      0.50      0.39      2865\n",
      "weighted avg       0.39      0.63      0.48      2865\n",
      "\n",
      "confusion matrix:\n",
      "[[1797    0]\n",
      " [1068    0]]\n"
     ]
    }
   ],
   "source": [
    "do_thresholding(1) "
   ]
  },
  {
   "cell_type": "code",
   "execution_count": 103,
   "metadata": {},
   "outputs": [
    {
     "name": "stdout",
     "output_type": "stream",
     "text": [
      "              precision    recall  f1-score   support\n",
      "\n",
      "           0       0.76      0.93      0.84      1797\n",
      "           1       0.82      0.50      0.62      1068\n",
      "\n",
      "    accuracy                           0.77      2865\n",
      "   macro avg       0.79      0.72      0.73      2865\n",
      "weighted avg       0.78      0.77      0.76      2865\n",
      "\n",
      "confusion matrix:\n",
      "[[1679  118]\n",
      " [ 535  533]]\n"
     ]
    }
   ],
   "source": [
    "do_thresholding(0.6) "
   ]
  },
  {
   "cell_type": "code",
   "execution_count": 104,
   "metadata": {},
   "outputs": [
    {
     "name": "stdout",
     "output_type": "stream",
     "text": [
      "              precision    recall  f1-score   support\n",
      "\n",
      "           0       0.79      0.89      0.83      1797\n",
      "           1       0.76      0.59      0.67      1068\n",
      "\n",
      "    accuracy                           0.78      2865\n",
      "   macro avg       0.77      0.74      0.75      2865\n",
      "weighted avg       0.78      0.78      0.77      2865\n",
      "\n",
      "confusion matrix:\n",
      "[[1596  201]\n",
      " [ 435  633]]\n"
     ]
    }
   ],
   "source": [
    "do_thresholding(0.5) "
   ]
  },
  {
   "cell_type": "code",
   "execution_count": 105,
   "metadata": {},
   "outputs": [
    {
     "name": "stdout",
     "output_type": "stream",
     "text": [
      "              precision    recall  f1-score   support\n",
      "\n",
      "           0       0.82      0.81      0.81      1797\n",
      "           1       0.69      0.70      0.69      1068\n",
      "\n",
      "    accuracy                           0.77      2865\n",
      "   macro avg       0.75      0.75      0.75      2865\n",
      "weighted avg       0.77      0.77      0.77      2865\n",
      "\n",
      "confusion matrix:\n",
      "[[1456  341]\n",
      " [ 322  746]]\n"
     ]
    }
   ],
   "source": [
    "do_thresholding(0.4) "
   ]
  },
  {
   "cell_type": "code",
   "execution_count": 106,
   "metadata": {},
   "outputs": [
    {
     "name": "stdout",
     "output_type": "stream",
     "text": [
      "              precision    recall  f1-score   support\n",
      "\n",
      "           0       0.88      0.66      0.75      1797\n",
      "           1       0.60      0.84      0.70      1068\n",
      "\n",
      "    accuracy                           0.73      2865\n",
      "   macro avg       0.74      0.75      0.73      2865\n",
      "weighted avg       0.77      0.73      0.73      2865\n",
      "\n",
      "confusion matrix:\n",
      "[[1188  609]\n",
      " [ 169  899]]\n"
     ]
    }
   ],
   "source": [
    "do_thresholding(0.3) "
   ]
  },
  {
   "cell_type": "code",
   "execution_count": 107,
   "metadata": {},
   "outputs": [
    {
     "name": "stdout",
     "output_type": "stream",
     "text": [
      "              precision    recall  f1-score   support\n",
      "\n",
      "           0       0.93      0.54      0.69      1797\n",
      "           1       0.55      0.93      0.69      1068\n",
      "\n",
      "    accuracy                           0.69      2865\n",
      "   macro avg       0.74      0.74      0.69      2865\n",
      "weighted avg       0.79      0.69      0.69      2865\n",
      "\n",
      "confusion matrix:\n",
      "[[975 822]\n",
      " [ 70 998]]\n"
     ]
    }
   ],
   "source": [
    "do_thresholding(0.2) "
   ]
  },
  {
   "cell_type": "code",
   "execution_count": 108,
   "metadata": {},
   "outputs": [
    {
     "name": "stdout",
     "output_type": "stream",
     "text": [
      "              precision    recall  f1-score   support\n",
      "\n",
      "           0       0.97      0.37      0.54      1797\n",
      "           1       0.48      0.98      0.65      1068\n",
      "\n",
      "    accuracy                           0.60      2865\n",
      "   macro avg       0.73      0.68      0.59      2865\n",
      "weighted avg       0.79      0.60      0.58      2865\n",
      "\n",
      "confusion matrix:\n",
      "[[ 672 1125]\n",
      " [  21 1047]]\n"
     ]
    }
   ],
   "source": [
    "do_thresholding(0.1) "
   ]
  },
  {
   "cell_type": "code",
   "execution_count": 109,
   "metadata": {},
   "outputs": [
    {
     "name": "stdout",
     "output_type": "stream",
     "text": [
      "              precision    recall  f1-score   support\n",
      "\n",
      "           0       0.00      0.00      0.00      1797\n",
      "           1       0.37      1.00      0.54      1068\n",
      "\n",
      "    accuracy                           0.37      2865\n",
      "   macro avg       0.19      0.50      0.27      2865\n",
      "weighted avg       0.14      0.37      0.20      2865\n",
      "\n",
      "confusion matrix:\n",
      "[[   0 1797]\n",
      " [   0 1068]]\n"
     ]
    }
   ],
   "source": [
    "do_thresholding(0) "
   ]
  },
  {
   "cell_type": "markdown",
   "metadata": {},
   "source": [
    "# Groupby"
   ]
  },
  {
   "cell_type": "code",
   "execution_count": 110,
   "metadata": {},
   "outputs": [],
   "source": [
    "df_pred = df_pred[~df_pred.county.isna()]"
   ]
  },
  {
   "cell_type": "code",
   "execution_count": 111,
   "metadata": {},
   "outputs": [
    {
     "data": {
      "text/plain": [
       "Index(['cwa5', 'cwa1', 'cwa8', 'cwa6', 'rha_determination', 'longitude',\n",
       "       'cwa7', 'potential_wetland', 'district', 'cwa3',\n",
       "       ...\n",
       "       'state', 'closest_wb_distance_m', 'closest_fl_distance_m',\n",
       "       'closest_fl_area_sqkm', 'closest_wb_area_sqkm', 'closest_fl_elevation',\n",
       "       'closest_wb_elevation', 'huc4', 'huc6', 'predictions'],\n",
       "      dtype='object', length=495)"
      ]
     },
     "execution_count": 111,
     "metadata": {},
     "output_type": "execute_result"
    }
   ],
   "source": [
    "df_pred.columns"
   ]
  },
  {
   "cell_type": "code",
   "execution_count": 112,
   "metadata": {},
   "outputs": [
    {
     "data": {
      "text/plain": [
       "0.0"
      ]
     },
     "execution_count": 112,
     "metadata": {},
     "output_type": "execute_result"
    }
   ],
   "source": [
    "np.mean(df_pred.county.isna())"
   ]
  },
  {
   "cell_type": "code",
   "execution_count": 113,
   "metadata": {},
   "outputs": [
    {
     "ename": "DataError",
     "evalue": "No numeric types to aggregate",
     "output_type": "error",
     "traceback": [
      "\u001b[0;31m---------------------------------------------------------------------------\u001b[0m",
      "\u001b[0;31mDataError\u001b[0m                                 Traceback (most recent call last)",
      "\u001b[0;32m<ipython-input-113-ff4829511029>\u001b[0m in \u001b[0;36m<module>\u001b[0;34m\u001b[0m\n\u001b[0;32m----> 1\u001b[0;31m \u001b[0mdf_pred\u001b[0m\u001b[0;34m[\u001b[0m\u001b[0;34m\"count_1_pred_by_county\"\u001b[0m\u001b[0;34m]\u001b[0m \u001b[0;34m=\u001b[0m \u001b[0mdf_pred\u001b[0m\u001b[0;34m.\u001b[0m\u001b[0mgroupby\u001b[0m\u001b[0;34m(\u001b[0m\u001b[0;34m[\u001b[0m\u001b[0;34m\"county\"\u001b[0m\u001b[0;34m]\u001b[0m\u001b[0;34m)\u001b[0m\u001b[0;34m[\u001b[0m\u001b[0;34m\"predictions\"\u001b[0m\u001b[0;34m]\u001b[0m\u001b[0;34m.\u001b[0m\u001b[0mtransform\u001b[0m\u001b[0;34m(\u001b[0m\u001b[0mnp\u001b[0m\u001b[0;34m.\u001b[0m\u001b[0mmean\u001b[0m\u001b[0;34m)\u001b[0m\u001b[0;31m#apply(lambda x: np.sum())\u001b[0m\u001b[0;34m\u001b[0m\u001b[0;34m\u001b[0m\u001b[0m\n\u001b[0m",
      "\u001b[0;32m/usr/local/lib/python3.6/dist-packages/pandas/core/groupby/generic.py\u001b[0m in \u001b[0;36mtransform\u001b[0;34m(self, func, engine, engine_kwargs, *args, **kwargs)\u001b[0m\n\u001b[1;32m    509\u001b[0m         \u001b[0;31m# Temporarily set observed for dealing with categoricals.\u001b[0m\u001b[0;34m\u001b[0m\u001b[0;34m\u001b[0m\u001b[0;34m\u001b[0m\u001b[0m\n\u001b[1;32m    510\u001b[0m         \u001b[0;32mwith\u001b[0m \u001b[0mcom\u001b[0m\u001b[0;34m.\u001b[0m\u001b[0mtemp_setattr\u001b[0m\u001b[0;34m(\u001b[0m\u001b[0mself\u001b[0m\u001b[0;34m,\u001b[0m \u001b[0;34m\"observed\"\u001b[0m\u001b[0;34m,\u001b[0m \u001b[0;32mTrue\u001b[0m\u001b[0;34m)\u001b[0m\u001b[0;34m:\u001b[0m\u001b[0;34m\u001b[0m\u001b[0;34m\u001b[0m\u001b[0m\n\u001b[0;32m--> 511\u001b[0;31m             \u001b[0mresult\u001b[0m \u001b[0;34m=\u001b[0m \u001b[0mgetattr\u001b[0m\u001b[0;34m(\u001b[0m\u001b[0mself\u001b[0m\u001b[0;34m,\u001b[0m \u001b[0mfunc\u001b[0m\u001b[0;34m)\u001b[0m\u001b[0;34m(\u001b[0m\u001b[0;34m*\u001b[0m\u001b[0margs\u001b[0m\u001b[0;34m,\u001b[0m \u001b[0;34m**\u001b[0m\u001b[0mkwargs\u001b[0m\u001b[0;34m)\u001b[0m\u001b[0;34m\u001b[0m\u001b[0;34m\u001b[0m\u001b[0m\n\u001b[0m\u001b[1;32m    512\u001b[0m         \u001b[0;32mreturn\u001b[0m \u001b[0mself\u001b[0m\u001b[0;34m.\u001b[0m\u001b[0m_transform_fast\u001b[0m\u001b[0;34m(\u001b[0m\u001b[0mresult\u001b[0m\u001b[0;34m)\u001b[0m\u001b[0;34m\u001b[0m\u001b[0;34m\u001b[0m\u001b[0m\n\u001b[1;32m    513\u001b[0m \u001b[0;34m\u001b[0m\u001b[0m\n",
      "\u001b[0;32m/usr/local/lib/python3.6/dist-packages/pandas/core/groupby/groupby.py\u001b[0m in \u001b[0;36mmean\u001b[0;34m(self, numeric_only)\u001b[0m\n\u001b[1;32m   1396\u001b[0m             \u001b[0;34m\"mean\"\u001b[0m\u001b[0;34m,\u001b[0m\u001b[0;34m\u001b[0m\u001b[0;34m\u001b[0m\u001b[0m\n\u001b[1;32m   1397\u001b[0m             \u001b[0malt\u001b[0m\u001b[0;34m=\u001b[0m\u001b[0;32mlambda\u001b[0m \u001b[0mx\u001b[0m\u001b[0;34m,\u001b[0m \u001b[0maxis\u001b[0m\u001b[0;34m:\u001b[0m \u001b[0mSeries\u001b[0m\u001b[0;34m(\u001b[0m\u001b[0mx\u001b[0m\u001b[0;34m)\u001b[0m\u001b[0;34m.\u001b[0m\u001b[0mmean\u001b[0m\u001b[0;34m(\u001b[0m\u001b[0mnumeric_only\u001b[0m\u001b[0;34m=\u001b[0m\u001b[0mnumeric_only\u001b[0m\u001b[0;34m)\u001b[0m\u001b[0;34m,\u001b[0m\u001b[0;34m\u001b[0m\u001b[0;34m\u001b[0m\u001b[0m\n\u001b[0;32m-> 1398\u001b[0;31m             \u001b[0mnumeric_only\u001b[0m\u001b[0;34m=\u001b[0m\u001b[0mnumeric_only\u001b[0m\u001b[0;34m,\u001b[0m\u001b[0;34m\u001b[0m\u001b[0;34m\u001b[0m\u001b[0m\n\u001b[0m\u001b[1;32m   1399\u001b[0m         )\n\u001b[1;32m   1400\u001b[0m \u001b[0;34m\u001b[0m\u001b[0m\n",
      "\u001b[0;32m/usr/local/lib/python3.6/dist-packages/pandas/core/groupby/groupby.py\u001b[0m in \u001b[0;36m_cython_agg_general\u001b[0;34m(self, how, alt, numeric_only, min_count)\u001b[0m\n\u001b[1;32m   1051\u001b[0m \u001b[0;34m\u001b[0m\u001b[0m\n\u001b[1;32m   1052\u001b[0m         \u001b[0;32mif\u001b[0m \u001b[0mlen\u001b[0m\u001b[0;34m(\u001b[0m\u001b[0moutput\u001b[0m\u001b[0;34m)\u001b[0m \u001b[0;34m==\u001b[0m \u001b[0;36m0\u001b[0m\u001b[0;34m:\u001b[0m\u001b[0;34m\u001b[0m\u001b[0;34m\u001b[0m\u001b[0m\n\u001b[0;32m-> 1053\u001b[0;31m             \u001b[0;32mraise\u001b[0m \u001b[0mDataError\u001b[0m\u001b[0;34m(\u001b[0m\u001b[0;34m\"No numeric types to aggregate\"\u001b[0m\u001b[0;34m)\u001b[0m\u001b[0;34m\u001b[0m\u001b[0;34m\u001b[0m\u001b[0m\n\u001b[0m\u001b[1;32m   1054\u001b[0m \u001b[0;34m\u001b[0m\u001b[0m\n\u001b[1;32m   1055\u001b[0m         \u001b[0;32mreturn\u001b[0m \u001b[0mself\u001b[0m\u001b[0;34m.\u001b[0m\u001b[0m_wrap_aggregated_output\u001b[0m\u001b[0;34m(\u001b[0m\u001b[0moutput\u001b[0m\u001b[0;34m,\u001b[0m \u001b[0mindex\u001b[0m\u001b[0;34m=\u001b[0m\u001b[0mself\u001b[0m\u001b[0;34m.\u001b[0m\u001b[0mgrouper\u001b[0m\u001b[0;34m.\u001b[0m\u001b[0mresult_index\u001b[0m\u001b[0;34m)\u001b[0m\u001b[0;34m\u001b[0m\u001b[0;34m\u001b[0m\u001b[0m\n",
      "\u001b[0;31mDataError\u001b[0m: No numeric types to aggregate"
     ]
    }
   ],
   "source": [
    "df_pred[\"count_1_pred_by_county\"] = df_pred.groupby([\"county\"])[\"predictions\"].transform(np.mean)#apply(lambda x: np.sum())"
   ]
  },
  {
   "cell_type": "code",
   "execution_count": null,
   "metadata": {},
   "outputs": [],
   "source": [
    "df = df.groupby_agg(\n",
    "    by='item',\n",
    "    agg='mean',\n",
    "    agg_column_name='MRP',\n",
    "    new_column_name='Avg_MRP'\n",
    ")\n",
    "\n",
    "df"
   ]
  },
  {
   "cell_type": "code",
   "execution_count": null,
   "metadata": {},
   "outputs": [],
   "source": [
    "def find_mean(x):\n",
    "    return np.mean(x)\n",
    "\n",
    "df_pred[\"percent_1_actual\"] = df_pred.groupby(\"county\")[\"cwa_determination\"].transform(find_mean)\n",
    "df_pred[\"percent_1_predictions\"] = df_pred.groupby(\"county\")[\"predictions\"].transform(find_mean)\n",
    "df_pred[\"pred_over_actual\"] = df_pred.percent_1_predictions / (df_pred.percent_1_actual + 0.00000001)\n",
    "\n",
    "ratio_list = []\n",
    "for groupby in df_pred.groupby(\"county\"):\n",
    "    if 10000 > np.mean(np.array(groupby[1].pred_over_actual)):# > 1:\n",
    "        ratio_list.append(np.mean(np.array(groupby[1].pred_over_actual)))\n",
    "#         print(groupby[0], np.mean(np.array(groupby[1].pred_over_actual)))"
   ]
  },
  {
   "cell_type": "code",
   "execution_count": null,
   "metadata": {},
   "outputs": [],
   "source": [
    "plt.hist(ratio_list, bins=100)"
   ]
  },
  {
   "cell_type": "code",
   "execution_count": null,
   "metadata": {},
   "outputs": [],
   "source": [
    "# in which counties are false positives more:\n",
    "\n",
    "for groupby in df_pred.groupby(\"county\"):\n",
    "    if 10000 > np.mean(np.array(groupby[1].pred_over_actual)) > 1:\n",
    "        print(groupby[0], np.mean(np.array(groupby[1].pred_over_actual)))"
   ]
  },
  {
   "cell_type": "code",
   "execution_count": null,
   "metadata": {},
   "outputs": [],
   "source": [
    "# in which counties are false negatives more:\n",
    "count = 0\n",
    "for groupby in df_pred.groupby(\"county\"):\n",
    "    if np.mean(np.array(groupby[1].pred_over_actual)) < 0.5:\n",
    "        count += 1\n",
    "#         print(groupby[0], np.mean(np.array(groupby[1].pred_over_actual)))\n",
    "print(count)    \n",
    "# are there 463 counties where there is no prediction of 1? out of 689 total counties"
   ]
  },
  {
   "cell_type": "code",
   "execution_count": null,
   "metadata": {},
   "outputs": [],
   "source": [
    "len(df_pred.groupby(\"county\"))"
   ]
  },
  {
   "cell_type": "code",
   "execution_count": null,
   "metadata": {},
   "outputs": [],
   "source": [
    "len(df_pred.county.unique()) # 689\n",
    "len(df_pred.district.unique()) # 38"
   ]
  },
  {
   "cell_type": "code",
   "execution_count": null,
   "metadata": {},
   "outputs": [],
   "source": [
    "# lets look by district. These are the districts where there are no 1's being predicted\n",
    "\n",
    "def find_mean(x):\n",
    "    return np.mean(x)\n",
    "\n",
    "df_pred[\"percent_1_actual_by_district\"] = df_pred.groupby(\"district\")[\"cwa_determination\"].transform(find_mean)\n",
    "df_pred[\"percent_1_predictions_by_district\"] = df_pred.groupby(\"district\")[\"predictions\"].transform(find_mean)\n",
    "df_pred[\"pred_over_actual_by_district\"] = df_pred.percent_1_predictions / (df_pred.percent_1_actual + 0.00000001)\n",
    "\n",
    "ratio_list = []\n",
    "print(\"District           pred/act    tot_cnt    actual_1's,  pred_1's\")\n",
    "for groupby in df_pred.groupby(\"district\"):\n",
    "#     if not np.mean(np.array(groupby[1].pred_over_actual_district)):# > 1:\n",
    "    ratio_list.append(np.mean(np.array(groupby[1].pred_over_actual)))\n",
    "    (print(groupby[0], \" \" * (20 - len(groupby[0])), round(np.mean(np.array(groupby[1].pred_over_actual)), 2), \n",
    "           \" \" * (10 - len(str(round(np.mean(np.array(groupby[1].pred_over_actual)), 2)))), groupby[1].cwa_determination.shape[0], \n",
    "           \" \" * (10 - len(str(np.sum(groupby[1].cwa_determination)))), np.sum(groupby[1].cwa_determination),\n",
    "           \" \" * (10 - len(str(np.sum(groupby[1].predictions)))), np.sum(groupby[1].predictions))\n",
    "\n",
    "    )\n",
    "    \n",
    "    "
   ]
  },
  {
   "cell_type": "code",
   "execution_count": null,
   "metadata": {},
   "outputs": [],
   "source": [
    "len(3)"
   ]
  },
  {
   "cell_type": "code",
   "execution_count": null,
   "metadata": {},
   "outputs": [],
   "source": [
    "plt.hist(ratio_list, bins=100)"
   ]
  },
  {
   "cell_type": "code",
   "execution_count": null,
   "metadata": {},
   "outputs": [],
   "source": [
    "df_pred[df_pred.district == \"Albuquerque\"][[\"cwa_determination\", \"district\", \"predictions\", \"percent_1_actual\", \n",
    "                                           \"percent_1_predictions\", \"percent_1_actual_by_district\", \"percent_1_predictions_district\", \"pred_over_actual_district\"]].head(1)    #.iloc[:, 494:]"
   ]
  },
  {
   "cell_type": "code",
   "execution_count": null,
   "metadata": {},
   "outputs": [],
   "source": [
    "df_pred[df_pred.district == \"Fort Worth\"][[\"cwa_determination\", \"district\", \"predictions\", \"percent_1_actual\", \n",
    "                                           \"percent_1_predictions\", \"percent_1_actual_by_district\", \"percent_1_predictions_district\", \"pred_over_actual_district\"]].head(1)    #.iloc[:, 494:]"
   ]
  },
  {
   "cell_type": "code",
   "execution_count": null,
   "metadata": {},
   "outputs": [],
   "source": [
    "df_pred[df_pred.district == \"Huntington\"][[\"cwa_determination\", \"district\", \"predictions\", \"percent_1_actual\", \n",
    "                                           \"percent_1_predictions\", \"percent_1_actual_by_district\", \"percent_1_predictions_district\", \"pred_over_actual_district\"]].head(1)    #.iloc[:, 494:]"
   ]
  },
  {
   "cell_type": "code",
   "execution_count": null,
   "metadata": {},
   "outputs": [],
   "source": [
    "df_pred[df_pred.district == \"Louisville\"][[\"cwa_determination\", \"district\", \"predictions\", \"percent_1_actual\", \n",
    "                                           \"percent_1_predictions\", \"percent_1_actual_by_district\", \"percent_1_predictions_district\", \"pred_over_actual_district\"]].head(1)    #.iloc[:, 494:]"
   ]
  },
  {
   "cell_type": "code",
   "execution_count": null,
   "metadata": {},
   "outputs": [],
   "source": [
    "df_pred[df_pred.district == \"Nashville\"][[\"cwa_determination\", \"district\", \"predictions\", \"percent_1_actual\", \n",
    "                                           \"percent_1_predictions\", \"percent_1_actual_by_district\", \"percent_1_predictions_district\", \"pred_over_actual_district\"]].head(1)    #.iloc[:, 494:]"
   ]
  },
  {
   "cell_type": "code",
   "execution_count": null,
   "metadata": {},
   "outputs": [],
   "source": [
    "df_pred[df_pred.district == \"St. Louis\"][[\"cwa_determination\", \"district\", \"predictions\", \"percent_1_actual\", \n",
    "                                           \"percent_1_predictions\", \"percent_1_actual_by_district\", \"percent_1_predictions_district\", \"pred_over_actual_district\"]].head(1)    #.iloc[:, 494:]"
   ]
  },
  {
   "cell_type": "code",
   "execution_count": null,
   "metadata": {},
   "outputs": [],
   "source": [
    "df_pred[df_pred.district == \"Tulsa\"][[\"cwa_determination\", \"district\", \"predictions\", \"percent_1_actual\", \n",
    "                                           \"percent_1_predictions\", \"percent_1_actual_by_district\", \"percent_1_predictions_district\", \"pred_over_actual_district\"]].head(1)    #.iloc[:, 494:]"
   ]
  },
  {
   "cell_type": "code",
   "execution_count": null,
   "metadata": {},
   "outputs": [],
   "source": [
    "df_pred[df_pred.district == \"Vicksburg\"][[\"cwa_determination\", \"district\", \"predictions\", \"percent_1_actual\", \n",
    "                                           \"percent_1_predictions\", \"percent_1_actual_by_district\", \"percent_1_predictions_district\", \"pred_over_actual_district\"]].head(1)    #.iloc[:, 494:]"
   ]
  },
  {
   "cell_type": "code",
   "execution_count": null,
   "metadata": {},
   "outputs": [],
   "source": [
    "df_pred[df_pred.district == \"Walla Walla\"][[\"cwa_determination\", \"district\", \"predictions\", \"percent_1_actual\", \n",
    "                                           \"percent_1_predictions\", \"percent_1_actual_by_district\", \"percent_1_predictions_district\", \"pred_over_actual_district\"]].head(1)    #.iloc[:, 494:]"
   ]
  },
  {
   "cell_type": "code",
   "execution_count": null,
   "metadata": {},
   "outputs": [],
   "source": [
    "df_pred.columns"
   ]
  },
  {
   "cell_type": "code",
   "execution_count": null,
   "metadata": {},
   "outputs": [],
   "source": [
    "df_pred.groupby(\"county\")[\"predictions\"].apply(find_sum)"
   ]
  },
  {
   "cell_type": "code",
   "execution_count": null,
   "metadata": {},
   "outputs": [],
   "source": [
    "def find_mean(df):\n",
    "    try:\n",
    "        result = df[~df.isna()].mean()\n",
    "        if not np.isnan(result):\n",
    "            return result\n",
    "    except:\n",
    "        return np.nan\n",
    "\n",
    "    \n",
    "def find_sum(df):\n",
    "    return np.sum(np.array(df))\n",
    "\n",
    "df_pred.groupby([\"county\"])[\"predictions\"].transform(np.sum)"
   ]
  },
  {
   "cell_type": "code",
   "execution_count": null,
   "metadata": {},
   "outputs": [],
   "source": []
  },
  {
   "cell_type": "code",
   "execution_count": null,
   "metadata": {},
   "outputs": [],
   "source": [
    "df_pred[df_pred.county == \"Horry\"]"
   ]
  },
  {
   "cell_type": "code",
   "execution_count": null,
   "metadata": {},
   "outputs": [],
   "source": []
  },
  {
   "cell_type": "code",
   "execution_count": null,
   "metadata": {},
   "outputs": [],
   "source": []
  },
  {
   "cell_type": "code",
   "execution_count": null,
   "metadata": {},
   "outputs": [],
   "source": []
  },
  {
   "cell_type": "code",
   "execution_count": null,
   "metadata": {},
   "outputs": [],
   "source": []
  },
  {
   "cell_type": "code",
   "execution_count": null,
   "metadata": {},
   "outputs": [],
   "source": []
  },
  {
   "cell_type": "markdown",
   "metadata": {},
   "source": [
    "# Plotly maps"
   ]
  },
  {
   "cell_type": "code",
   "execution_count": null,
   "metadata": {},
   "outputs": [],
   "source": [
    "df_fn_ = df_fn.copy()\n",
    "df_tn_ = df_tn.copy()\n"
   ]
  },
  {
   "cell_type": "code",
   "execution_count": null,
   "metadata": {},
   "outputs": [],
   "source": [
    "# false negatives\n",
    "\n",
    "geometry = [Point(xy) for xy in zip(df_fn_['longitude'], df_fn_['latitude'])]\n",
    "gdf = GeoDataFrame(df_fn_, geometry=geometry)   \n",
    "\n",
    "#this is a simple map that goes with geopandas\n",
    "world = gpd.read_file(gpd.datasets.get_path('naturalearth_lowres'))\n",
    "north_america = world[world.continent == \"North America\"]\n",
    "gdf.plot(ax=north_america.plot(figsize=(20, 12)), marker='o', color='red', markersize=10);"
   ]
  },
  {
   "cell_type": "code",
   "execution_count": null,
   "metadata": {},
   "outputs": [],
   "source": [
    "# true negatives\n",
    "\n",
    "geometry = [Point(xy) for xy in zip(df_tn_['longitude'], df_tn_['latitude'])]\n",
    "gdf = GeoDataFrame(df_tn_, geometry=geometry)   \n",
    "\n",
    "#this is a simple map that goes with geopandas\n",
    "world = gpd.read_file(gpd.datasets.get_path('naturalearth_lowres'))\n",
    "north_america = world[world.continent == \"North America\"]\n",
    "gdf.plot(ax=north_america.plot(figsize=(20, 12)), marker='o', color='red', markersize=10);"
   ]
  },
  {
   "cell_type": "code",
   "execution_count": null,
   "metadata": {},
   "outputs": [],
   "source": [
    "# not false negatives\n",
    "df_not_fn = df_pred[~((df_pred.predictions == 0) & (df_pred.cwa_determination == 1))]\n",
    "\n",
    "df_not_fn_ = df_not_fn.copy()\n",
    "geometry = [Point(xy) for xy in zip(df_not_fn_['longitude'], df_not_fn_['latitude'])]\n",
    "gdf = GeoDataFrame(df_not_fn_, geometry=geometry)   \n",
    "\n",
    "gdf.plot(ax=north_america.plot(figsize=(20, 12)), marker='o', color='red', markersize=10);"
   ]
  },
  {
   "cell_type": "code",
   "execution_count": null,
   "metadata": {},
   "outputs": [],
   "source": [
    "# false positives\n",
    "df_fp = df_pred[(df_pred.predictions == 1) & (df_pred.cwa_determination == 0)]\n",
    "df_fp_ = df_fp.copy()\n",
    "\n",
    "\n",
    "geometry = [Point(xy) for xy in zip(df_fp_['longitude'], df_fp_['latitude'])]\n",
    "gdf = GeoDataFrame(df_fp_, geometry=geometry)   \n",
    "\n",
    "gdf.plot(ax=north_america.plot(figsize=(20, 12)), marker='o', color='red', markersize=10);"
   ]
  },
  {
   "cell_type": "code",
   "execution_count": null,
   "metadata": {},
   "outputs": [],
   "source": [
    "# All good predictions\n",
    "df_good_preds = df_pred[((df_pred.predictions == 0) & (df_pred.cwa_determination == 0)) | ((df_pred.predictions == 1) & (df_pred.cwa_determination == 1))]\n",
    "\n",
    "df_good_preds_ = df_good_preds.copy()\n",
    "geometry = [Point(xy) for xy in zip(df_good_preds_['longitude'], df_good_preds_['latitude'])]\n",
    "gdf = GeoDataFrame(df_good_preds_, geometry=geometry)   \n",
    "\n",
    "gdf.plot(ax=north_america.plot(figsize=(20, 12)), marker='o', color='red', markersize=10);"
   ]
  },
  {
   "cell_type": "code",
   "execution_count": null,
   "metadata": {},
   "outputs": [],
   "source": [
    "# All data\n",
    "\n",
    "geometry = [Point(xy) for xy in zip(df_pred['longitude'], df_pred['latitude'])]\n",
    "gdf = GeoDataFrame(df_pred, geometry=geometry)   \n",
    "\n",
    "gdf.plot(ax=north_america.plot(figsize=(20, 12)), marker='o', color='red', markersize=10);"
   ]
  },
  {
   "cell_type": "markdown",
   "metadata": {
    "id": "ySEfwFTbEOsU"
   },
   "source": [
    "# Break\n"
   ]
  },
  {
   "cell_type": "code",
   "execution_count": null,
   "metadata": {
    "id": "Gximuif9tUZe"
   },
   "outputs": [],
   "source": [
    "df_fn[df_fn.state == '12'][\"hydclprs\"]#['da_number']"
   ]
  },
  {
   "cell_type": "code",
   "execution_count": null,
   "metadata": {},
   "outputs": [],
   "source": [
    "set(df_fn.columns)"
   ]
  },
  {
   "cell_type": "code",
   "execution_count": null,
   "metadata": {
    "id": "aJxn_V1lcnUd"
   },
   "outputs": [],
   "source": [
    "model_dict[\"file_params\"].keys()"
   ]
  },
  {
   "cell_type": "code",
   "execution_count": null,
   "metadata": {},
   "outputs": [],
   "source": []
  }
 ],
 "metadata": {
  "colab": {
   "collapsed_sections": [],
   "name": "2021.03.19_WOTUS_restart_v6.ipynb",
   "provenance": [],
   "toc_visible": true
  },
  "kernelspec": {
   "display_name": "Python 3",
   "language": "python",
   "name": "python3"
  },
  "language_info": {
   "codemirror_mode": {
    "name": "ipython",
    "version": 3
   },
   "file_extension": ".py",
   "mimetype": "text/x-python",
   "name": "python",
   "nbconvert_exporter": "python",
   "pygments_lexer": "ipython3",
   "version": "3.6.9"
  },
  "toc-autonumbering": true,
  "toc-showmarkdowntxt": false,
  "toc-showtags": false
 },
 "nbformat": 4,
 "nbformat_minor": 4
}
