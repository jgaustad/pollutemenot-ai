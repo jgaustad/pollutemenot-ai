{
 "cells": [
  {
   "cell_type": "code",
   "execution_count": 53,
   "id": "encouraging-science",
   "metadata": {},
   "outputs": [],
   "source": [
    "import pandas as pd\n",
    "import numpy as np\n",
    "import pickle\n",
    "from sklearn.model_selection import train_test_split\n",
    "from sklearn.model_selection import StratifiedShuffleSplit\n",
    "\n",
    "random_state = 123"
   ]
  },
  {
   "cell_type": "code",
   "execution_count": 54,
   "id": "sweet-nature",
   "metadata": {},
   "outputs": [
    {
     "data": {
      "text/plain": [
       "(14619, 29)"
      ]
     },
     "execution_count": 54,
     "metadata": {},
     "output_type": "execute_result"
    }
   ],
   "source": [
    "df_full = pd.read_csv(\"combined_regular_clean_with_ssurgo_variables.csv\")\n",
    "df_full.shape"
   ]
  },
  {
   "cell_type": "markdown",
   "id": "aggressive-possible",
   "metadata": {},
   "source": [
    "# Filter out bad longitude"
   ]
  },
  {
   "cell_type": "code",
   "execution_count": 55,
   "id": "pacific-niagara",
   "metadata": {},
   "outputs": [
    {
     "data": {
      "text/plain": [
       "(14613, 29)"
      ]
     },
     "execution_count": 55,
     "metadata": {},
     "output_type": "execute_result"
    }
   ],
   "source": [
    "# remove longitude > -50 (bad datapoints)\n",
    "\n",
    "df_full = df_full[df_full.longitude < -50]\n",
    "df_full.shape # 6 records removed"
   ]
  },
  {
   "cell_type": "markdown",
   "id": "limiting-method",
   "metadata": {},
   "source": [
    "# Filter out bad records\n",
    "\n",
    "- any records where the cwa_determination is contrary to expectations? That is, where none of cwa1 etc are 1 but the cwa_determination value is 1\n"
   ]
  },
  {
   "cell_type": "code",
   "execution_count": 56,
   "id": "superb-tennis",
   "metadata": {},
   "outputs": [
    {
     "name": "stdout",
     "output_type": "stream",
     "text": [
      "%good records = 98%\n",
      "There are 2% bad records\n",
      "(14613, 29)\n"
     ]
    },
    {
     "data": {
      "text/html": [
       "<div>\n",
       "<style scoped>\n",
       "    .dataframe tbody tr th:only-of-type {\n",
       "        vertical-align: middle;\n",
       "    }\n",
       "\n",
       "    .dataframe tbody tr th {\n",
       "        vertical-align: top;\n",
       "    }\n",
       "\n",
       "    .dataframe thead th {\n",
       "        text-align: right;\n",
       "    }\n",
       "</style>\n",
       "<table border=\"1\" class=\"dataframe\">\n",
       "  <thead>\n",
       "    <tr style=\"text-align: right;\">\n",
       "      <th></th>\n",
       "      <th>cwa_determination</th>\n",
       "      <th>rha1</th>\n",
       "      <th>rha2</th>\n",
       "      <th>cwa1</th>\n",
       "      <th>cwa2</th>\n",
       "      <th>cwa3</th>\n",
       "      <th>cwa4</th>\n",
       "      <th>cwa5</th>\n",
       "      <th>cwa6</th>\n",
       "      <th>cwa7</th>\n",
       "      <th>cwa8</th>\n",
       "      <th>cwa9</th>\n",
       "      <th>potential_wetland</th>\n",
       "      <th>index</th>\n",
       "      <th>Index</th>\n",
       "      <th>mukey</th>\n",
       "      <th>hydclprs</th>\n",
       "      <th>aws025wta</th>\n",
       "      <th>drclassdcd</th>\n",
       "    </tr>\n",
       "  </thead>\n",
       "  <tbody>\n",
       "    <tr>\n",
       "      <th>36</th>\n",
       "      <td>1</td>\n",
       "      <td>0</td>\n",
       "      <td>0</td>\n",
       "      <td>0</td>\n",
       "      <td>0</td>\n",
       "      <td>0</td>\n",
       "      <td>0</td>\n",
       "      <td>0</td>\n",
       "      <td>0</td>\n",
       "      <td>0</td>\n",
       "      <td>0</td>\n",
       "      <td>0</td>\n",
       "      <td>1</td>\n",
       "      <td>37</td>\n",
       "      <td>37</td>\n",
       "      <td>292681.0</td>\n",
       "      <td>0.0</td>\n",
       "      <td>4.48</td>\n",
       "      <td>Moderately well drained</td>\n",
       "    </tr>\n",
       "    <tr>\n",
       "      <th>50</th>\n",
       "      <td>1</td>\n",
       "      <td>0</td>\n",
       "      <td>0</td>\n",
       "      <td>0</td>\n",
       "      <td>0</td>\n",
       "      <td>0</td>\n",
       "      <td>0</td>\n",
       "      <td>0</td>\n",
       "      <td>0</td>\n",
       "      <td>0</td>\n",
       "      <td>0</td>\n",
       "      <td>0</td>\n",
       "      <td>1</td>\n",
       "      <td>51</td>\n",
       "      <td>51</td>\n",
       "      <td>292995.0</td>\n",
       "      <td>96.0</td>\n",
       "      <td>4.65</td>\n",
       "      <td>Very poorly drained</td>\n",
       "    </tr>\n",
       "    <tr>\n",
       "      <th>56</th>\n",
       "      <td>1</td>\n",
       "      <td>0</td>\n",
       "      <td>0</td>\n",
       "      <td>0</td>\n",
       "      <td>0</td>\n",
       "      <td>0</td>\n",
       "      <td>0</td>\n",
       "      <td>0</td>\n",
       "      <td>0</td>\n",
       "      <td>0</td>\n",
       "      <td>0</td>\n",
       "      <td>0</td>\n",
       "      <td>1</td>\n",
       "      <td>57</td>\n",
       "      <td>57</td>\n",
       "      <td>292980.0</td>\n",
       "      <td>8.0</td>\n",
       "      <td>4.67</td>\n",
       "      <td>Somewhat poorly drained</td>\n",
       "    </tr>\n",
       "  </tbody>\n",
       "</table>\n",
       "</div>"
      ],
      "text/plain": [
       "    cwa_determination  rha1  rha2  cwa1  cwa2  cwa3  cwa4  cwa5  cwa6  cwa7  \\\n",
       "36                  1     0     0     0     0     0     0     0     0     0   \n",
       "50                  1     0     0     0     0     0     0     0     0     0   \n",
       "56                  1     0     0     0     0     0     0     0     0     0   \n",
       "\n",
       "    cwa8  cwa9  potential_wetland  index  Index     mukey  hydclprs  \\\n",
       "36     0     0                  1     37     37  292681.0       0.0   \n",
       "50     0     0                  1     51     51  292995.0      96.0   \n",
       "56     0     0                  1     57     57  292980.0       8.0   \n",
       "\n",
       "    aws025wta               drclassdcd  \n",
       "36       4.48  Moderately well drained  \n",
       "50       4.65      Very poorly drained  \n",
       "56       4.67  Somewhat poorly drained  "
      ]
     },
     "execution_count": 56,
     "metadata": {},
     "output_type": "execute_result"
    }
   ],
   "source": [
    "# any records where the cwa_determination is contrary to expectations? That is, where none of cwa1 etc\n",
    "# are 1 but the cwa_determination value is 1\n",
    "good_records = (df_full.apply(lambda x: \n",
    "               (np.sum(x.cwa1 + x.cwa2 + x.cwa3 + x.cwa4 + x.cwa5 + \n",
    "                       x.cwa6 + x.cwa7 + x.cwa8 + x.cwa9) > 0) * 1 \n",
    "               == x.cwa_determination, \n",
    "               axis=1))\n",
    "\n",
    "print(\"%good records = {}%\".format(round(np.mean(good_records) * 100)))\n",
    "print(\"There are {}% bad records\".format(100-round(np.mean(good_records) * 100)))\n",
    "print(df_full.shape)\n",
    "# peek at not good records to verify code\n",
    "df_full[~good_records].head(3).iloc[:,10:30]\n"
   ]
  },
  {
   "cell_type": "code",
   "execution_count": 57,
   "id": "complimentary-momentum",
   "metadata": {},
   "outputs": [
    {
     "data": {
      "text/plain": [
       "(14322, 29)"
      ]
     },
     "execution_count": 57,
     "metadata": {},
     "output_type": "execute_result"
    }
   ],
   "source": [
    "# Retain only the good records\n",
    "df_full = df_full[good_records]\n",
    "df_full.shape # 291 records removed"
   ]
  },
  {
   "cell_type": "markdown",
   "id": "labeled-domestic",
   "metadata": {},
   "source": [
    "# Drop St. Louis entirely (it has only 6 records, and is not being split in 70/15/15, and causing other issues)"
   ]
  },
  {
   "cell_type": "code",
   "execution_count": 58,
   "id": "incredible-basement",
   "metadata": {},
   "outputs": [],
   "source": [
    "df_full = df_full[df_full.district != \"St. Louis\"]"
   ]
  },
  {
   "cell_type": "code",
   "execution_count": 59,
   "id": "neither-hobby",
   "metadata": {},
   "outputs": [
    {
     "data": {
      "text/plain": [
       "Index(['Unnamed: 0', 'Unnamed: 0.1', 'jurisdiction_type', 'da_number',\n",
       "       'district', 'project_name', 'longitude', 'latitude',\n",
       "       'date_issued_or_denied', 'rha_determination', 'cwa_determination',\n",
       "       'rha1', 'rha2', 'cwa1', 'cwa2', 'cwa3', 'cwa4', 'cwa5', 'cwa6', 'cwa7',\n",
       "       'cwa8', 'cwa9', 'potential_wetland', 'index', 'Index', 'mukey',\n",
       "       'hydclprs', 'aws025wta', 'drclassdcd'],\n",
       "      dtype='object')"
      ]
     },
     "execution_count": 59,
     "metadata": {},
     "output_type": "execute_result"
    }
   ],
   "source": [
    "df_full.columns"
   ]
  },
  {
   "cell_type": "markdown",
   "id": "nuclear-jackson",
   "metadata": {},
   "source": [
    "# Split data into Train, Test1 and Test2"
   ]
  },
  {
   "cell_type": "code",
   "execution_count": 60,
   "id": "disturbed-hollow",
   "metadata": {},
   "outputs": [],
   "source": [
    "X = df_full[['da_number', 'cwa_determination']]\n",
    "y = df_full.cwa_determination"
   ]
  },
  {
   "cell_type": "code",
   "execution_count": 61,
   "id": "exempt-saudi",
   "metadata": {},
   "outputs": [
    {
     "name": "stdout",
     "output_type": "stream",
     "text": [
      "(10021, 2) (4295, 2)\n"
     ]
    }
   ],
   "source": [
    "# Split data into train and test\n",
    "sss = StratifiedShuffleSplit(n_splits=1, test_size=0.3, random_state=random_state)\n",
    "for train_index, temp_index in sss.split(X, y):\n",
    "    X_train = X.iloc[train_index]\n",
    "    X_temp = X.iloc[temp_index]\n",
    "\n",
    "print(X_train.shape, X_temp.shape)\n",
    "y_train = y.iloc[train_index]\n",
    "y_temp = y.iloc[temp_index]\n",
    "\n"
   ]
  },
  {
   "cell_type": "code",
   "execution_count": 62,
   "id": "awful-botswana",
   "metadata": {},
   "outputs": [
    {
     "name": "stdout",
     "output_type": "stream",
     "text": [
      "(2147, 2) (2148, 2)\n"
     ]
    }
   ],
   "source": [
    "sss_test = StratifiedShuffleSplit(n_splits=1, test_size=0.5, random_state=random_state)\n",
    "for dev_index, test_index in sss_test.split(X_temp, y_temp):\n",
    "    X_dev = X_temp.iloc[dev_index]\n",
    "    X_test = X_temp.iloc[test_index]\n",
    "\n",
    "print(X_dev.shape, X_test.shape)\n",
    "y_dev = y_temp.iloc[dev_index]\n",
    "y_test = y_temp.iloc[test_index]\n",
    "\n",
    "df = X_train\n",
    "df_dev = X_dev\n",
    "df_test = X_test\n",
    "\n",
    "Y = np.array(y_train)\n",
    "dev_Y = np.array(y_dev)\n",
    "test_Y = np.array(y_test)"
   ]
  },
  {
   "cell_type": "code",
   "execution_count": 63,
   "id": "equipped-anxiety",
   "metadata": {},
   "outputs": [
    {
     "name": "stdout",
     "output_type": "stream",
     "text": [
      "fraction of 1's in complete dataset: 0.36\n",
      "fraction of 1's in train:            0.36\n",
      "fraction of 1's in test1:            0.36\n",
      "fraction of 1's in test2:            0.36\n"
     ]
    }
   ],
   "source": [
    "train_count1 = np.sum(df.cwa_determination)\n",
    "test1_count1 = np.sum(df_dev.cwa_determination)\n",
    "test2_count1 = np.sum(df_test.cwa_determination)\n",
    "\n",
    "full_avg_1 = np.mean(df_full.cwa_determination)\n",
    "train_avg_1 = np.mean(df.cwa_determination)\n",
    "test1_avg_1 = np.mean(df_dev.cwa_determination)\n",
    "test2_avg_1 = np.mean(df_test.cwa_determination)\n",
    "\n",
    "print(\"fraction of 1's in {1}: {0}\".format(round(full_avg_1, 2), \"complete dataset\"))\n",
    "print(\"fraction of 1's in {1}:            {0}\".format(round(train_avg_1, 2), \"train\"))\n",
    "print(\"fraction of 1's in {1}:            {0}\".format(round(test1_avg_1, 2), \"test1\"))\n",
    "print(\"fraction of 1's in {1}:            {0}\".format(round(test2_avg_1, 2), \"test2\"))"
   ]
  },
  {
   "cell_type": "code",
   "execution_count": 64,
   "id": "elder-quarterly",
   "metadata": {},
   "outputs": [
    {
     "name": "stdout",
     "output_type": "stream",
     "text": [
      "Training: (10021, 2) (fraction = 0.7)\n",
      "Test1   : (2147, 2) (fraction = 0.15)\n",
      "Test2   : (2148, 2) (fraction = 0.15)\n"
     ]
    }
   ],
   "source": [
    "print(\"Training: {} (fraction = {})\".format(df.shape, round(df.shape[0] / df_full.shape[0], 2)))\n",
    "print(\"Test1   : {} (fraction = {})\".format(df_dev.shape, round(df_dev.shape[0] / df_full.shape[0], 2)))\n",
    "print(\"Test2   : {} (fraction = {})\".format(df_test.shape, round(df_test.shape[0] / df_full.shape[0], 2)))"
   ]
  },
  {
   "cell_type": "code",
   "execution_count": 65,
   "id": "defensive-mozambique",
   "metadata": {},
   "outputs": [],
   "source": [
    "# pickle.dump(df, open(\"2021.04.06_TTT_15k_level_train_dataset\",\"wb\"), protocol=3)\n",
    "# pickle.dump(df_dev, open(\"2021.04.06_TTT_15k_level_dev_dataset\",\"wb\"), protocol=3)\n",
    "# pickle.dump(df_test, open(\"2021.04.06_TTT_15k_level_test_dataset\",\"wb\"), protocol=3)"
   ]
  },
  {
   "cell_type": "code",
   "execution_count": 66,
   "id": "dental-printer",
   "metadata": {},
   "outputs": [
    {
     "data": {
      "text/plain": [
       "Index(['da_number', 'cwa_determination'], dtype='object')"
      ]
     },
     "execution_count": 66,
     "metadata": {},
     "output_type": "execute_result"
    }
   ],
   "source": [
    "df.columns"
   ]
  },
  {
   "cell_type": "code",
   "execution_count": 67,
   "id": "intensive-narrative",
   "metadata": {},
   "outputs": [
    {
     "data": {
      "text/html": [
       "<div>\n",
       "<style scoped>\n",
       "    .dataframe tbody tr th:only-of-type {\n",
       "        vertical-align: middle;\n",
       "    }\n",
       "\n",
       "    .dataframe tbody tr th {\n",
       "        vertical-align: top;\n",
       "    }\n",
       "\n",
       "    .dataframe thead th {\n",
       "        text-align: right;\n",
       "    }\n",
       "</style>\n",
       "<table border=\"1\" class=\"dataframe\">\n",
       "  <thead>\n",
       "    <tr style=\"text-align: right;\">\n",
       "      <th></th>\n",
       "      <th>da_number</th>\n",
       "      <th>cwa_determination</th>\n",
       "    </tr>\n",
       "  </thead>\n",
       "  <tbody>\n",
       "    <tr>\n",
       "      <th>9926</th>\n",
       "      <td>SAC-2019-01215</td>\n",
       "      <td>0</td>\n",
       "    </tr>\n",
       "    <tr>\n",
       "      <th>12599</th>\n",
       "      <td>SPL-2003-01623-KAT</td>\n",
       "      <td>0</td>\n",
       "    </tr>\n",
       "    <tr>\n",
       "      <th>2524</th>\n",
       "      <td>MVK-2017-00789-CR</td>\n",
       "      <td>0</td>\n",
       "    </tr>\n",
       "    <tr>\n",
       "      <th>6208</th>\n",
       "      <td>NAO-2016-02055-tca</td>\n",
       "      <td>1</td>\n",
       "    </tr>\n",
       "    <tr>\n",
       "      <th>10144</th>\n",
       "      <td>SAJ-2008-01477</td>\n",
       "      <td>1</td>\n",
       "    </tr>\n",
       "    <tr>\n",
       "      <th>...</th>\n",
       "      <td>...</td>\n",
       "      <td>...</td>\n",
       "    </tr>\n",
       "    <tr>\n",
       "      <th>4766</th>\n",
       "      <td>MVP-2017-00800-EMN</td>\n",
       "      <td>0</td>\n",
       "    </tr>\n",
       "    <tr>\n",
       "      <th>13974</th>\n",
       "      <td>SWL-2016-00405</td>\n",
       "      <td>0</td>\n",
       "    </tr>\n",
       "    <tr>\n",
       "      <th>14304</th>\n",
       "      <td>MVN-2017-00381-SK</td>\n",
       "      <td>1</td>\n",
       "    </tr>\n",
       "    <tr>\n",
       "      <th>13041</th>\n",
       "      <td>SWG-2011-01237</td>\n",
       "      <td>1</td>\n",
       "    </tr>\n",
       "    <tr>\n",
       "      <th>1395</th>\n",
       "      <td>LRL-2016-00172</td>\n",
       "      <td>0</td>\n",
       "    </tr>\n",
       "  </tbody>\n",
       "</table>\n",
       "<p>10021 rows × 2 columns</p>\n",
       "</div>"
      ],
      "text/plain": [
       "                da_number  cwa_determination\n",
       "9926       SAC-2019-01215                  0\n",
       "12599  SPL-2003-01623-KAT                  0\n",
       "2524    MVK-2017-00789-CR                  0\n",
       "6208   NAO-2016-02055-tca                  1\n",
       "10144      SAJ-2008-01477                  1\n",
       "...                   ...                ...\n",
       "4766   MVP-2017-00800-EMN                  0\n",
       "13974      SWL-2016-00405                  0\n",
       "14304   MVN-2017-00381-SK                  1\n",
       "13041      SWG-2011-01237                  1\n",
       "1395       LRL-2016-00172                  0\n",
       "\n",
       "[10021 rows x 2 columns]"
      ]
     },
     "execution_count": 67,
     "metadata": {},
     "output_type": "execute_result"
    }
   ],
   "source": [
    "df"
   ]
  },
  {
   "cell_type": "code",
   "execution_count": null,
   "id": "furnished-india",
   "metadata": {},
   "outputs": [],
   "source": []
  }
 ],
 "metadata": {
  "kernelspec": {
   "display_name": "Python 3",
   "language": "python",
   "name": "python3"
  },
  "language_info": {
   "codemirror_mode": {
    "name": "ipython",
    "version": 3
   },
   "file_extension": ".py",
   "mimetype": "text/x-python",
   "name": "python",
   "nbconvert_exporter": "python",
   "pygments_lexer": "ipython3",
   "version": "3.6.9"
  }
 },
 "nbformat": 4,
 "nbformat_minor": 5
}
