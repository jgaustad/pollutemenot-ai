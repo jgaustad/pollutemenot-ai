{
 "cells": [
  {
   "cell_type": "code",
   "execution_count": 36,
   "id": "instructional-cemetery",
   "metadata": {},
   "outputs": [],
   "source": [
    "import ee\n",
    "import pandas as pd\n",
    "import numpy as np\n",
    "ee.Initialize()"
   ]
  },
  {
   "cell_type": "code",
   "execution_count": 38,
   "id": "technological-reset",
   "metadata": {},
   "outputs": [],
   "source": [
    "df_merged = []\n",
    "for i in range(10):\n",
    "    try:\n",
    "        df_temp = pd.read_pickle(('NHD_extracted_vars_temp/combined_regular_clean_with_ssurgo_nhd_variables_part' + \n",
    "                              str(500 * i + 1)))\n",
    "    except:\n",
    "        break\n",
    "    df_merged.append(df_temp)\n",
    "df_merged = pd.concat(df_merged)"
   ]
  },
  {
   "cell_type": "code",
   "execution_count": 39,
   "id": "dietary-century",
   "metadata": {},
   "outputs": [
    {
     "data": {
      "text/plain": [
       "Index(['Unnamed: 0', 'Unnamed: 0.1', 'jurisdiction_type', 'da_number',\n",
       "       'district', 'project_name', 'longitude', 'latitude',\n",
       "       'date_issued_or_denied', 'rha_determination', 'cwa_determination',\n",
       "       'rha1', 'rha2', 'cwa1', 'cwa2', 'cwa3', 'cwa4', 'cwa5', 'cwa6', 'cwa7',\n",
       "       'cwa8', 'cwa9', 'potential_wetland', 'index', 'Index', 'mukey',\n",
       "       'hydclprs', 'aws025wta', 'drclassdcd', 'nhd_vars_wb', 'nhd_vars_fl'],\n",
       "      dtype='object')"
      ]
     },
     "execution_count": 39,
     "metadata": {},
     "output_type": "execute_result"
    }
   ],
   "source": [
    "df_merged.columns"
   ]
  },
  {
   "cell_type": "code",
   "execution_count": 40,
   "id": "random-generator",
   "metadata": {},
   "outputs": [],
   "source": [
    "# df_merged.nhd_vars_fl.head\n",
    "\n",
    "# comid_list, ftype_str, gnis_id, wb_area, fl_length, fcode\n",
    "\n",
    "comid_list = df_merged.nhd_vars_wb[1][0]\n",
    "ftype_str = df_merged.nhd_vars_wb[1][1]\n",
    "gnis_id = df_merged.nhd_vars_wb[1][2]\n",
    "wb_area = df_merged.nhd_vars_wb[1][3]\n",
    "fl_length = df_merged.nhd_vars_wb[1][4]\n",
    "\n"
   ]
  },
  {
   "cell_type": "code",
   "execution_count": 41,
   "id": "coordinated-spouse",
   "metadata": {},
   "outputs": [
    {
     "data": {
      "text/plain": [
       "([166766871], [None], ['959369'], [207.005], [nan])"
      ]
     },
     "execution_count": 41,
     "metadata": {},
     "output_type": "execute_result"
    }
   ],
   "source": [
    "comid_list, ftype_str, gnis_id, wb_area, fl_length"
   ]
  },
  {
   "cell_type": "code",
   "execution_count": 42,
   "id": "instrumental-concentration",
   "metadata": {},
   "outputs": [],
   "source": [
    "df_merged[\"comid_list\"] = df_merged.apply(lambda x: [comid for comid in x.nhd_vars_wb[0]], axis=1)\n",
    "df_merged[\"ftype_str_list\"] = df_merged.apply(lambda x: [ftype_str for ftype_str in x.nhd_vars_wb[1]], axis=1)\n",
    "df_merged[\"gnis_id_list\"] = df_merged.apply(lambda x: [gnis_id for gnis_id in x.nhd_vars_wb[2]], axis=1)\n",
    "df_merged[\"wb_area_list\"] = df_merged.apply(lambda x: [wb_area for wb_area in x.nhd_vars_wb[3]], axis=1)\n",
    "df_merged[\"fl_length_list\"] = df_merged.apply(lambda x: [fl_length for fl_length in x.nhd_vars_wb[4]], axis=1)"
   ]
  },
  {
   "cell_type": "code",
   "execution_count": 43,
   "id": "political-fiction",
   "metadata": {},
   "outputs": [
    {
     "data": {
      "text/plain": [
       "Index(['Unnamed: 0', 'Unnamed: 0.1', 'jurisdiction_type', 'da_number',\n",
       "       'district', 'project_name', 'longitude', 'latitude',\n",
       "       'date_issued_or_denied', 'rha_determination', 'cwa_determination',\n",
       "       'rha1', 'rha2', 'cwa1', 'cwa2', 'cwa3', 'cwa4', 'cwa5', 'cwa6', 'cwa7',\n",
       "       'cwa8', 'cwa9', 'potential_wetland', 'index', 'Index', 'mukey',\n",
       "       'hydclprs', 'aws025wta', 'drclassdcd', 'nhd_vars_wb', 'nhd_vars_fl',\n",
       "       'comid_list', 'ftype_str_list', 'gnis_id_list', 'wb_area_list',\n",
       "       'fl_length_list'],\n",
       "      dtype='object')"
      ]
     },
     "execution_count": 43,
     "metadata": {},
     "output_type": "execute_result"
    }
   ],
   "source": [
    "df_merged.columns"
   ]
  },
  {
   "cell_type": "code",
   "execution_count": 45,
   "id": "invalid-algebra",
   "metadata": {},
   "outputs": [],
   "source": [
    "df_merged.to_csv(\"combined_regular_with_ssurgo_nhd\")\n"
   ]
  },
  {
   "cell_type": "code",
   "execution_count": null,
   "id": "developed-navigator",
   "metadata": {},
   "outputs": [],
   "source": []
  }
 ],
 "metadata": {
  "kernelspec": {
   "display_name": "Python 3",
   "language": "python",
   "name": "python3"
  },
  "language_info": {
   "codemirror_mode": {
    "name": "ipython",
    "version": 3
   },
   "file_extension": ".py",
   "mimetype": "text/x-python",
   "name": "python",
   "nbconvert_exporter": "python",
   "pygments_lexer": "ipython3",
   "version": "3.9.2"
  }
 },
 "nbformat": 4,
 "nbformat_minor": 5
}
