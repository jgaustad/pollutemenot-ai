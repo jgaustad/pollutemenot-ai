{
 "cells": [
  {
   "cell_type": "code",
   "execution_count": 23,
   "metadata": {},
   "outputs": [],
   "source": [
    "import pandas as pd\n",
    "import numpy as np\n",
    "import pickle\n",
    "from sklearn.model_selection import train_test_split\n",
    "\n",
    "random_state = 123"
   ]
  },
  {
   "cell_type": "code",
   "execution_count": 24,
   "metadata": {},
   "outputs": [
    {
     "data": {
      "text/plain": [
       "(14619, 29)"
      ]
     },
     "execution_count": 24,
     "metadata": {},
     "output_type": "execute_result"
    }
   ],
   "source": [
    "df_full = pd.read_csv(\"combined_regular_clean_with_ssurgo_variables.csv\")\n",
    "df_full.shape"
   ]
  },
  {
   "cell_type": "markdown",
   "metadata": {},
   "source": [
    "# Filter out bad longitude"
   ]
  },
  {
   "cell_type": "code",
   "execution_count": 25,
   "metadata": {},
   "outputs": [
    {
     "data": {
      "text/plain": [
       "(14613, 29)"
      ]
     },
     "execution_count": 25,
     "metadata": {},
     "output_type": "execute_result"
    }
   ],
   "source": [
    "# remove longitude > -50 (bad datapoints)\n",
    "\n",
    "df_full = df_full[df_full.longitude < -50]\n",
    "df_full.shape # 6 records removed"
   ]
  },
  {
   "cell_type": "markdown",
   "metadata": {},
   "source": [
    "# Filter out bad records\n",
    "\n",
    "- any records where the cwa_determination is contrary to expectations? That is, where none of cwa1 etc are 1 but the cwa_determination value is 1\n"
   ]
  },
  {
   "cell_type": "code",
   "execution_count": 26,
   "metadata": {},
   "outputs": [
    {
     "name": "stdout",
     "output_type": "stream",
     "text": [
      "%good records = 98%\n",
      "There are 2% bad records\n",
      "(14613, 29)\n"
     ]
    },
    {
     "data": {
      "text/html": [
       "<div>\n",
       "<style scoped>\n",
       "    .dataframe tbody tr th:only-of-type {\n",
       "        vertical-align: middle;\n",
       "    }\n",
       "\n",
       "    .dataframe tbody tr th {\n",
       "        vertical-align: top;\n",
       "    }\n",
       "\n",
       "    .dataframe thead th {\n",
       "        text-align: right;\n",
       "    }\n",
       "</style>\n",
       "<table border=\"1\" class=\"dataframe\">\n",
       "  <thead>\n",
       "    <tr style=\"text-align: right;\">\n",
       "      <th></th>\n",
       "      <th>cwa_determination</th>\n",
       "      <th>rha1</th>\n",
       "      <th>rha2</th>\n",
       "      <th>cwa1</th>\n",
       "      <th>cwa2</th>\n",
       "      <th>cwa3</th>\n",
       "      <th>cwa4</th>\n",
       "      <th>cwa5</th>\n",
       "      <th>cwa6</th>\n",
       "      <th>cwa7</th>\n",
       "      <th>cwa8</th>\n",
       "      <th>cwa9</th>\n",
       "      <th>potential_wetland</th>\n",
       "      <th>index</th>\n",
       "      <th>Index</th>\n",
       "      <th>mukey</th>\n",
       "      <th>hydclprs</th>\n",
       "      <th>aws025wta</th>\n",
       "      <th>drclassdcd</th>\n",
       "    </tr>\n",
       "  </thead>\n",
       "  <tbody>\n",
       "    <tr>\n",
       "      <th>36</th>\n",
       "      <td>1</td>\n",
       "      <td>0</td>\n",
       "      <td>0</td>\n",
       "      <td>0</td>\n",
       "      <td>0</td>\n",
       "      <td>0</td>\n",
       "      <td>0</td>\n",
       "      <td>0</td>\n",
       "      <td>0</td>\n",
       "      <td>0</td>\n",
       "      <td>0</td>\n",
       "      <td>0</td>\n",
       "      <td>1</td>\n",
       "      <td>37</td>\n",
       "      <td>37</td>\n",
       "      <td>292681.0</td>\n",
       "      <td>0.0</td>\n",
       "      <td>4.48</td>\n",
       "      <td>Moderately well drained</td>\n",
       "    </tr>\n",
       "    <tr>\n",
       "      <th>50</th>\n",
       "      <td>1</td>\n",
       "      <td>0</td>\n",
       "      <td>0</td>\n",
       "      <td>0</td>\n",
       "      <td>0</td>\n",
       "      <td>0</td>\n",
       "      <td>0</td>\n",
       "      <td>0</td>\n",
       "      <td>0</td>\n",
       "      <td>0</td>\n",
       "      <td>0</td>\n",
       "      <td>0</td>\n",
       "      <td>1</td>\n",
       "      <td>51</td>\n",
       "      <td>51</td>\n",
       "      <td>292995.0</td>\n",
       "      <td>96.0</td>\n",
       "      <td>4.65</td>\n",
       "      <td>Very poorly drained</td>\n",
       "    </tr>\n",
       "    <tr>\n",
       "      <th>56</th>\n",
       "      <td>1</td>\n",
       "      <td>0</td>\n",
       "      <td>0</td>\n",
       "      <td>0</td>\n",
       "      <td>0</td>\n",
       "      <td>0</td>\n",
       "      <td>0</td>\n",
       "      <td>0</td>\n",
       "      <td>0</td>\n",
       "      <td>0</td>\n",
       "      <td>0</td>\n",
       "      <td>0</td>\n",
       "      <td>1</td>\n",
       "      <td>57</td>\n",
       "      <td>57</td>\n",
       "      <td>292980.0</td>\n",
       "      <td>8.0</td>\n",
       "      <td>4.67</td>\n",
       "      <td>Somewhat poorly drained</td>\n",
       "    </tr>\n",
       "  </tbody>\n",
       "</table>\n",
       "</div>"
      ],
      "text/plain": [
       "    cwa_determination  rha1  rha2  cwa1  cwa2  cwa3  cwa4  cwa5  cwa6  cwa7  \\\n",
       "36                  1     0     0     0     0     0     0     0     0     0   \n",
       "50                  1     0     0     0     0     0     0     0     0     0   \n",
       "56                  1     0     0     0     0     0     0     0     0     0   \n",
       "\n",
       "    cwa8  cwa9  potential_wetland  index  Index     mukey  hydclprs  \\\n",
       "36     0     0                  1     37     37  292681.0       0.0   \n",
       "50     0     0                  1     51     51  292995.0      96.0   \n",
       "56     0     0                  1     57     57  292980.0       8.0   \n",
       "\n",
       "    aws025wta               drclassdcd  \n",
       "36       4.48  Moderately well drained  \n",
       "50       4.65      Very poorly drained  \n",
       "56       4.67  Somewhat poorly drained  "
      ]
     },
     "execution_count": 26,
     "metadata": {},
     "output_type": "execute_result"
    }
   ],
   "source": [
    "# any records where the cwa_determination is contrary to expectations? That is, where none of cwa1 etc\n",
    "# are 1 but the cwa_determination value is 1\n",
    "good_records = (df_full.apply(lambda x: \n",
    "               (np.sum(x.cwa1 + x.cwa2 + x.cwa3 + x.cwa4 + x.cwa5 + \n",
    "                       x.cwa6 + x.cwa7 + x.cwa8 + x.cwa9) > 0) * 1 \n",
    "               == x.cwa_determination, \n",
    "               axis=1))\n",
    "\n",
    "print(\"%good records = {}%\".format(round(np.mean(good_records) * 100)))\n",
    "print(\"There are {}% bad records\".format(100-round(np.mean(good_records) * 100)))\n",
    "print(df_full.shape)\n",
    "# peek at not good records to verify code\n",
    "df_full[~good_records].head(3).iloc[:,10:30]\n"
   ]
  },
  {
   "cell_type": "code",
   "execution_count": 27,
   "metadata": {},
   "outputs": [
    {
     "data": {
      "text/plain": [
       "(14322, 29)"
      ]
     },
     "execution_count": 27,
     "metadata": {},
     "output_type": "execute_result"
    }
   ],
   "source": [
    "# Retain only the good records\n",
    "df_full = df_full[good_records]\n",
    "df_full.shape # 291 records removed"
   ]
  },
  {
   "cell_type": "markdown",
   "metadata": {},
   "source": [
    "# Drop St. Louis entirely (it has only 6 records, and is not being split in 70/15/15, and causing other issues)"
   ]
  },
  {
   "cell_type": "code",
   "execution_count": 28,
   "metadata": {},
   "outputs": [],
   "source": [
    "df_full = df_full[df_full.district != \"St. Louis\"]"
   ]
  },
  {
   "cell_type": "code",
   "execution_count": 29,
   "metadata": {},
   "outputs": [
    {
     "data": {
      "text/plain": [
       "Index(['Unnamed: 0', 'Unnamed: 0.1', 'jurisdiction_type', 'da_number',\n",
       "       'district', 'project_name', 'longitude', 'latitude',\n",
       "       'date_issued_or_denied', 'rha_determination', 'cwa_determination',\n",
       "       'rha1', 'rha2', 'cwa1', 'cwa2', 'cwa3', 'cwa4', 'cwa5', 'cwa6', 'cwa7',\n",
       "       'cwa8', 'cwa9', 'potential_wetland', 'index', 'Index', 'mukey',\n",
       "       'hydclprs', 'aws025wta', 'drclassdcd'],\n",
       "      dtype='object')"
      ]
     },
     "execution_count": 29,
     "metadata": {},
     "output_type": "execute_result"
    }
   ],
   "source": [
    "df_full.columns"
   ]
  },
  {
   "cell_type": "markdown",
   "metadata": {},
   "source": [
    "# Split data into Train, Test1 and Test2"
   ]
  },
  {
   "cell_type": "code",
   "execution_count": 30,
   "metadata": {},
   "outputs": [],
   "source": [
    "df_train = pd.DataFrame()\n",
    "df_test1 = pd.DataFrame()\n",
    "df_test2 = pd.DataFrame()\n",
    "\n",
    "df_train_ = pd.DataFrame()\n",
    "df_test1_ = pd.DataFrame()\n",
    "df_test2_ = pd.DataFrame()\n",
    "\n",
    "try:\n",
    "    df_train_temp_, df_test2_ = (train_test_split(df_full, \n",
    "                                             test_size=0.15, \n",
    "                                             random_state = random_state, \n",
    "                                             stratify=df_full[\"cwa_determination\"])) # 15% test\n",
    "\n",
    "    df_train_, df_test1_ = (train_test_split(df_train_temp_, \n",
    "                                             test_size=0.17647, \n",
    "                                             random_state = random_state, \n",
    "                                             stratify=df_train_temp_[\"cwa_determination\"])) # 70% train, 15% dev\n",
    "except Exception as e:\n",
    "    print(group[0], e)\n",
    "df_train = df_train_\n",
    "df_test1 = df_test1_\n",
    "df_test2 = df_test2_\n"
   ]
  },
  {
   "cell_type": "code",
   "execution_count": 31,
   "metadata": {},
   "outputs": [
    {
     "name": "stdout",
     "output_type": "stream",
     "text": [
      "fraction of 1's in complete dataset: 0.36\n",
      "fraction of 1's in train:            0.36\n",
      "fraction of 1's in test1:            0.36\n",
      "fraction of 1's in test2:            0.36\n"
     ]
    }
   ],
   "source": [
    "train_count1 = np.sum(df_train.cwa_determination)\n",
    "test1_count1 = np.sum(df_test1.cwa_determination)\n",
    "test2_count1 = np.sum(df_test2.cwa_determination)\n",
    "\n",
    "full_avg_1 = np.mean(df_full.cwa_determination)\n",
    "train_avg_1 = np.mean(df_train.cwa_determination)\n",
    "test1_avg_1 = np.mean(df_test1.cwa_determination)\n",
    "test2_avg_1 = np.mean(df_test2.cwa_determination)\n",
    "\n",
    "print(\"fraction of 1's in {1}: {0}\".format(round(full_avg_1, 2), \"complete dataset\"))\n",
    "print(\"fraction of 1's in {1}:            {0}\".format(round(train_avg_1, 2), \"train\"))\n",
    "print(\"fraction of 1's in {1}:            {0}\".format(round(test1_avg_1, 2), \"test1\"))\n",
    "print(\"fraction of 1's in {1}:            {0}\".format(round(test2_avg_1, 2), \"test2\"))"
   ]
  },
  {
   "cell_type": "code",
   "execution_count": 32,
   "metadata": {},
   "outputs": [
    {
     "name": "stdout",
     "output_type": "stream",
     "text": [
      "Training: (10020, 29) (fraction = 0.7)\n",
      "Test1   : (2148, 29) (fraction = 0.15)\n",
      "Test2   : (2148, 29) (fraction = 0.15)\n"
     ]
    }
   ],
   "source": [
    "print(\"Training: {} (fraction = {})\".format(df_train.shape, round(df_train.shape[0] / df_full.shape[0], 2)))\n",
    "print(\"Test1   : {} (fraction = {})\".format(df_test1.shape, round(df_test1.shape[0] / df_full.shape[0], 2)))\n",
    "print(\"Test2   : {} (fraction = {})\".format(df_test2.shape, round(df_test2.shape[0] / df_full.shape[0], 2)))"
   ]
  },
  {
   "cell_type": "code",
   "execution_count": 33,
   "metadata": {},
   "outputs": [],
   "source": [
    "pickle.dump(df_train, open(\"2021.04.02_TTT_15k_level_train_dataset\",\"wb\"), protocol=3)\n",
    "pickle.dump(df_test1, open(\"2021.04.02_TTT_15k_level_test1_dataset\",\"wb\"), protocol=3)\n",
    "pickle.dump(df_test2, open(\"2021.04.02_TTT_15k_level_test2_dataset\",\"wb\"), protocol=3)"
   ]
  },
  {
   "cell_type": "code",
   "execution_count": null,
   "metadata": {},
   "outputs": [],
   "source": []
  }
 ],
 "metadata": {
  "kernelspec": {
   "display_name": "Python 3",
   "language": "python",
   "name": "python3"
  },
  "language_info": {
   "codemirror_mode": {
    "name": "ipython",
    "version": 3
   },
   "file_extension": ".py",
   "mimetype": "text/x-python",
   "name": "python",
   "nbconvert_exporter": "python",
   "pygments_lexer": "ipython3",
   "version": "3.7.6"
  }
 },
 "nbformat": 4,
 "nbformat_minor": 5
}
