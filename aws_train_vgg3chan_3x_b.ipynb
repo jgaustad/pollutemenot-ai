{
 "cells": [
  {
   "cell_type": "code",
   "execution_count": 1,
   "id": "modern-learning",
   "metadata": {},
   "outputs": [
    {
     "name": "stdout",
     "output_type": "stream",
     "text": [
      "2.3.0 tf\n",
      "2.4.3 keras\n"
     ]
    }
   ],
   "source": [
    "### Init network Build\n",
    "import numpy as np\n",
    "from pathlib import Path\n",
    "import pandas as pd\n",
    "from osgeo import gdal\n",
    "import keras\n",
    "import time\n",
    "import tensorflow as tf\n",
    "from sklearn.model_selection import train_test_split\n",
    "\n",
    "%load_ext tensorboard\n",
    "\n",
    "from matplotlib.pyplot import imshow\n",
    "import matplotlib.pyplot as plt\n",
    "\n",
    "print(tf.__version__, 'tf')\n",
    "print(keras.__version__, 'keras')"
   ]
  },
  {
   "cell_type": "code",
   "execution_count": 2,
   "id": "numerous-accreditation",
   "metadata": {},
   "outputs": [],
   "source": [
    "df_merged = pd.read_csv('image_metrics_040121_all.csv')"
   ]
  },
  {
   "cell_type": "code",
   "execution_count": 16,
   "id": "intermediate-ribbon",
   "metadata": {},
   "outputs": [
    {
     "name": "stdout",
     "output_type": "stream",
     "text": [
      "10021 2147\n"
     ]
    }
   ],
   "source": [
    "df_train1 = pd.read_pickle('Madhukar/Train-Dev-Test SSS splits/2021.04.06_TTT_15k_level_train_dataset')\n",
    "df_dev1 = pd.read_pickle('Madhukar/Train-Dev-Test SSS splits/2021.04.06_TTT_15k_level_dev_dataset')\n",
    "X_train = list(df_train1.da_number)\n",
    "X_test = list(df_dev1.da_number)\n",
    "print(len(X_train), len(X_test))"
   ]
  },
  {
   "cell_type": "code",
   "execution_count": 17,
   "id": "minus-convert",
   "metadata": {},
   "outputs": [],
   "source": [
    "dir2 = '/data/train_data_hi_3x_b/'\n",
    "#X = df_merged.da_num.unique()\n",
    "#y = df_merged['cwa_determination']\n",
    "#X_train, X_test = train_test_split(X, test_size = 0.25, random_state = 42)\n"
   ]
  },
  {
   "cell_type": "code",
   "execution_count": 18,
   "id": "bigger-cooler",
   "metadata": {},
   "outputs": [
    {
     "name": "stdout",
     "output_type": "stream",
     "text": [
      "10021\n",
      "10020 2145\n"
     ]
    }
   ],
   "source": [
    "soi = list(X_train)\n",
    "soi_test = list(X_test)\n",
    "print(len(soi))\n",
    "train_X = [f for f in Path(dir2).iterdir() if f.name[:-4] in soi]\n",
    "test_X = [f for f in Path(dir2).iterdir() if f.name[:-4] in soi_test]\n",
    "\n",
    "print(len(train_X), len(test_X))"
   ]
  },
  {
   "cell_type": "code",
   "execution_count": 19,
   "id": "renewable-committee",
   "metadata": {},
   "outputs": [
    {
     "data": {
      "text/plain": [
       "'SAW-2015-02138'"
      ]
     },
     "execution_count": 19,
     "metadata": {},
     "output_type": "execute_result"
    }
   ],
   "source": [
    "train_X[0].name[:-4]"
   ]
  },
  {
   "cell_type": "code",
   "execution_count": 20,
   "id": "formal-progress",
   "metadata": {},
   "outputs": [
    {
     "data": {
      "text/plain": [
       "(3, 256, 256)"
      ]
     },
     "execution_count": 20,
     "metadata": {},
     "output_type": "execute_result"
    }
   ],
   "source": [
    "np.load(train_X[0]).shape"
   ]
  },
  {
   "cell_type": "code",
   "execution_count": 21,
   "id": "center-bloom",
   "metadata": {},
   "outputs": [
    {
     "data": {
      "text/plain": [
       "1"
      ]
     },
     "execution_count": 21,
     "metadata": {},
     "output_type": "execute_result"
    }
   ],
   "source": [
    "def get_label(da_num_i, df_merged = df_merged):\n",
    "    return int(df_merged[df_merged.da_num == da_num_i].cwa_determination.iloc[0])\n",
    "get_label(train_X[0].name[:-4])"
   ]
  },
  {
   "cell_type": "code",
   "execution_count": 22,
   "id": "transparent-script",
   "metadata": {},
   "outputs": [],
   "source": [
    "train_y = [get_label(x.name[:-4]) for x in train_X]\n",
    "test_y = [get_label(x.name[:-4]) for x in test_X]"
   ]
  },
  {
   "cell_type": "code",
   "execution_count": 23,
   "id": "heavy-needle",
   "metadata": {},
   "outputs": [
    {
     "name": "stdout",
     "output_type": "stream",
     "text": [
      "10020 10020\n"
     ]
    }
   ],
   "source": [
    "print(len(train_X), len(train_y))"
   ]
  },
  {
   "cell_type": "code",
   "execution_count": 24,
   "id": "alternate-marine",
   "metadata": {},
   "outputs": [],
   "source": [
    "arr_train_X = np.array([np.load(f) for f in train_X]).swapaxes(1,3)\n",
    "arr_test_X = np.array([np.load(f) for f in test_X]).swapaxes(1,3)\n",
    "\n",
    "arr_train_y = np.array(train_y)\n",
    "arr_test_y = np.array(test_y)"
   ]
  },
  {
   "cell_type": "code",
   "execution_count": 25,
   "id": "silver-death",
   "metadata": {},
   "outputs": [
    {
     "name": "stdout",
     "output_type": "stream",
     "text": [
      "(10020, 256, 256, 3)\n",
      "(10020,)\n"
     ]
    }
   ],
   "source": [
    "print(arr_train_X.shape)\n",
    "print(arr_train_y.shape)\n",
    "#print('number of nans: ', np.sum(np.isnan(arr_train_X)))\n",
    "#print('number of nums: ', np.sum(~np.isnan(arr_train_X)))\n",
    "#arr_train_X = np.nan_to_num(arr_train_X) #convert all nans to zeroes\n",
    "#print('number of nans: ', np.sum(np.isnan(arr_train_X)))\n",
    "## may need to investigate the nans and figure out some imputation here."
   ]
  },
  {
   "cell_type": "code",
   "execution_count": 26,
   "id": "adjustable-macedonia",
   "metadata": {},
   "outputs": [
    {
     "name": "stdout",
     "output_type": "stream",
     "text": [
      "(2145, 256, 256, 3)\n",
      "(2145,)\n"
     ]
    }
   ],
   "source": [
    "print(arr_test_X.shape)\n",
    "print(arr_test_y.shape)\n",
    "#print('number of nans: ', np.sum(np.isnan(arr_test_X)))\n",
    "#print('number of nums: ', np.sum(~np.isnan(arr_test_X)))\n",
    "#arr_test_X = np.nan_to_num(arr_test_X) #convert all nans to zeroes\n",
    "#print('number of nans: ', np.sum(np.isnan(arr_test_X)))\n",
    "## may need to investigate the nans and figure out some imputation here."
   ]
  },
  {
   "cell_type": "code",
   "execution_count": 27,
   "id": "clinical-davis",
   "metadata": {},
   "outputs": [
    {
     "name": "stdout",
     "output_type": "stream",
     "text": [
      "0.356686626746507 this is the majority class size.\n",
      "-0.02298874913035629\n",
      "-1.886008381843567\n",
      "1.0\n"
     ]
    }
   ],
   "source": [
    "print(np.mean(arr_train_y), 'this is the majority class size.')\n",
    "print(np.mean(arr_train_X))\n",
    "print(np.min(arr_train_X))\n",
    "print(np.max(arr_train_X))"
   ]
  },
  {
   "cell_type": "code",
   "execution_count": 28,
   "id": "blessed-citizen",
   "metadata": {},
   "outputs": [
    {
     "data": {
      "text/plain": [
       "(array([0, 0, 0, 0, 0, 0, 0, 0, 0, 0]),\n",
       " array([0. , 0.1, 0.2, 0.3, 0.4, 0.5, 0.6, 0.7, 0.8, 0.9, 1. ]))"
      ]
     },
     "execution_count": 28,
     "metadata": {},
     "output_type": "execute_result"
    }
   ],
   "source": [
    "np.histogram(arr_train_X[0][:,:,3:])"
   ]
  },
  {
   "cell_type": "code",
   "execution_count": 29,
   "id": "duplicate-moderator",
   "metadata": {},
   "outputs": [
    {
     "name": "stderr",
     "output_type": "stream",
     "text": [
      "Clipping input data to the valid range for imshow with RGB data ([0..1] for floats or [0..255] for integers).\n"
     ]
    },
    {
     "data": {
      "text/plain": [
       "<matplotlib.image.AxesImage at 0x7f8e24544d30>"
      ]
     },
     "execution_count": 29,
     "metadata": {},
     "output_type": "execute_result"
    },
    {
     "data": {
      "image/png": "[encoded data removed]",
      "text/plain": [
       "<Figure size 432x288 with 1 Axes>"
      ]
     },
     "metadata": {
      "needs_background": "light"
     },
     "output_type": "display_data"
    }
   ],
   "source": [
    "fig, ax = plt.subplots()\n",
    "ax.imshow(arr_train_X[0])"
   ]
  },
  {
   "cell_type": "code",
   "execution_count": 30,
   "id": "binary-beauty",
   "metadata": {},
   "outputs": [
    {
     "name": "stdout",
     "output_type": "stream",
     "text": [
      "Thu Apr  8 01:00:51 2021       \n",
      "+-----------------------------------------------------------------------------+\n",
      "| NVIDIA-SMI 450.80.02    Driver Version: 450.80.02    CUDA Version: 11.0     |\n",
      "|-------------------------------+----------------------+----------------------+\n",
      "| GPU  Name        Persistence-M| Bus-Id        Disp.A | Volatile Uncorr. ECC |\n",
      "| Fan  Temp  Perf  Pwr:Usage/Cap|         Memory-Usage | GPU-Util  Compute M. |\n",
      "|                               |                      |               MIG M. |\n",
      "|===============================+======================+======================|\n",
      "|   0  Tesla K80           On   | 00000000:00:1E.0 Off |                    0 |\n",
      "| N/A   51C    P8    30W / 149W |      0MiB / 11441MiB |      0%      Default |\n",
      "|                               |                      |                  N/A |\n",
      "+-------------------------------+----------------------+----------------------+\n",
      "                                                                               \n",
      "+-----------------------------------------------------------------------------+\n",
      "| Processes:                                                                  |\n",
      "|  GPU   GI   CI        PID   Type   Process name                  GPU Memory |\n",
      "|        ID   ID                                                   Usage      |\n",
      "|=============================================================================|\n",
      "|  No running processes found                                                 |\n",
      "+-----------------------------------------------------------------------------+\n"
     ]
    }
   ],
   "source": [
    "!nvidia-smi"
   ]
  },
  {
   "cell_type": "code",
   "execution_count": 31,
   "id": "infrared-satin",
   "metadata": {},
   "outputs": [],
   "source": [
    "from keras.applications.vgg16 import VGG16\n",
    "\n",
    "vgg16_model1 = VGG16(include_top=False, weights='imagenet', input_shape=(256,256, 3))\n",
    "vgg16_model1.trainable = False\n",
    "#vgg16_model2 = VGG16(include_top=False, weights='imagenet', input_shape=(256,256, 3))\n",
    "#vgg16_model2.trainable = False"
   ]
  },
  {
   "cell_type": "code",
   "execution_count": 32,
   "id": "south-evidence",
   "metadata": {},
   "outputs": [],
   "source": [
    "from tensorflow.keras import layers\n",
    "data_augmentation = keras.Sequential(\n",
    "  [\n",
    "    layers.experimental.preprocessing.RandomFlip(\"horizontal\", \n",
    "                                                 input_shape=(256,256,3)),\n",
    "    layers.experimental.preprocessing.RandomRotation(0.1),\n",
    "    layers.experimental.preprocessing.RandomZoom(0.1),\n",
    "  ]\n",
    ")"
   ]
  },
  {
   "cell_type": "code",
   "execution_count": 38,
   "id": "revised-harbor",
   "metadata": {},
   "outputs": [
    {
     "name": "stdout",
     "output_type": "stream",
     "text": [
      "(None, 256, 256, 3)\n",
      "(None, 256, 256, 3)\n",
      "(None, 8, 8, 512)\n",
      "(None, 8, 8, 512)\n",
      "Model: \"functional_3\"\n",
      "_________________________________________________________________\n",
      "Layer (type)                 Output Shape              Param #   \n",
      "=================================================================\n",
      "input_3 (InputLayer)         [(None, 256, 256, 3)]     0         \n",
      "_________________________________________________________________\n",
      "lambda_1 (Lambda)            (None, 256, 256, 3)       0         \n",
      "_________________________________________________________________\n",
      "sequential (Sequential)      (None, 256, 256, 3)       0         \n",
      "_________________________________________________________________\n",
      "sequential_2 (Sequential)    (None, 8, 8, 512)         14714688  \n",
      "_________________________________________________________________\n",
      "dense_4 (Dense)              (None, 8, 8, 512)         262656    \n",
      "_________________________________________________________________\n",
      "leaky_re_lu_7 (LeakyReLU)    (None, 8, 8, 512)         0         \n",
      "_________________________________________________________________\n",
      "dropout_3 (Dropout)          (None, 8, 8, 512)         0         \n",
      "_________________________________________________________________\n",
      "batch_normalization_3 (Batch (None, 8, 8, 512)         2048      \n",
      "_________________________________________________________________\n",
      "dense_5 (Dense)              (None, 8, 8, 256)         131328    \n",
      "_________________________________________________________________\n",
      "leaky_re_lu_9 (LeakyReLU)    (None, 8, 8, 256)         0         \n",
      "_________________________________________________________________\n",
      "dropout_4 (Dropout)          (None, 8, 8, 256)         0         \n",
      "_________________________________________________________________\n",
      "batch_normalization_4 (Batch (None, 8, 8, 256)         1024      \n",
      "_________________________________________________________________\n",
      "dense_6 (Dense)              (None, 8, 8, 128)         32896     \n",
      "_________________________________________________________________\n",
      "leaky_re_lu_11 (LeakyReLU)   (None, 8, 8, 128)         0         \n",
      "_________________________________________________________________\n",
      "dropout_5 (Dropout)          (None, 8, 8, 128)         0         \n",
      "_________________________________________________________________\n",
      "batch_normalization_5 (Batch (None, 8, 8, 128)         512       \n",
      "_________________________________________________________________\n",
      "flatten_1 (Flatten)          (None, 8192)              0         \n",
      "_________________________________________________________________\n",
      "dense_7 (Dense)              (None, 1)                 8193      \n",
      "=================================================================\n",
      "Total params: 15,153,345\n",
      "Trainable params: 436,865\n",
      "Non-trainable params: 14,716,480\n",
      "_________________________________________________________________\n"
     ]
    }
   ],
   "source": [
    "from keras.layers import Dense, Concatenate, Input, Lambda, Flatten, Softmax, BatchNormalization, Dropout\n",
    "from keras.models import Model, Sequential\n",
    "from keras.layers.advanced_activations import LeakyReLU\n",
    "\n",
    "input_matrix = Input(shape=(256,256,3))   # 6\n",
    "\n",
    "branch_outputs = []\n",
    "\n",
    "# loop for however many branches you want to use.  (each branch needs 3 channel depth)\n",
    "for i in [0]:\n",
    "    # create looping so that vgg16 model input is created ie 256,256,3\n",
    "    print(input_matrix.shape)\n",
    "    out = Lambda(lambda x: x[:,:,:,i:i+3])(input_matrix)\n",
    "    out = data_augmentation(out)\n",
    "\n",
    "    print(out.shape)\n",
    "    \n",
    "    # Setting up your layers in each branch: (currently each branch is identical architecture.)\n",
    "    if i == 0: out = Sequential(vgg16_model1)(out)   # use pretrained and loaded vgg16\n",
    "    elif i == 3: out = Sequential(vgg16_model2)(out)\n",
    "    else: out = Sequential(vgg16_model3)(out)   # use pretrained and loaded vgg16\n",
    "    print(out.shape)\n",
    "#    branch_outputs.append(out)\n",
    "#mergedOut = Concatenate()(branch_outputs)\n",
    "mergedOut = out\n",
    "print(mergedOut.shape)\n",
    "mergedOut = Dense(512, activation=LeakyReLU(alpha = 0.1))(mergedOut)\n",
    "mergedOut = LeakyReLU(alpha = 0.02)(mergedOut)\n",
    "mergedOut = Dropout(.1)(mergedOut)\n",
    "mergedOut = BatchNormalization()(mergedOut)\n",
    "\n",
    "mergedOut = Dense(256, activation=LeakyReLU(alpha = 0.1))(mergedOut)\n",
    "mergedOut = LeakyReLU(alpha = 0.02)(mergedOut)\n",
    "mergedOut = Dropout(.1)(mergedOut)\n",
    "mergedOut = BatchNormalization()(mergedOut)\n",
    "\n",
    "mergedOut = Dense(128, activation=LeakyReLU(alpha = 0.1))(mergedOut)\n",
    "mergedOut = LeakyReLU(alpha = 0.02)(mergedOut)\n",
    "mergedOut = Dropout(.1)(mergedOut)\n",
    "mergedOut = BatchNormalization()(mergedOut)\n",
    "\n",
    "mergedOut = Flatten()(mergedOut)\n",
    "mergedOut = Dense(1, activation = 'sigmoid')(mergedOut)\n",
    "\n",
    "rgb_model_vgg16 = Model(inputs=input_matrix, outputs=mergedOut)   \n",
    "\n",
    "\n",
    "opt = keras.optimizers.Adam(learning_rate=0.005)\n",
    "\n",
    "rgb_model_vgg16.compile(optimizer=opt,\n",
    "              loss=tf.keras.losses.BinaryCrossentropy(),\n",
    "              metrics=['accuracy'])\n",
    "\n",
    "rgb_model_vgg16.summary()"
   ]
  },
  {
   "cell_type": "code",
   "execution_count": 20,
   "id": "awful-phrase",
   "metadata": {
    "jupyter": {
     "source_hidden": true
    },
    "tags": []
   },
   "outputs": [],
   "source": [
    "opt = keras.optimizers.Adam(learning_rate=0.05)\n",
    "\n",
    "my_callbacks = [\n",
    "    tf.keras.callbacks.EarlyStopping(patience=2),\n",
    "    tf.keras.callbacks.ModelCheckpoint(filepath='model.{epoch:02d}-{val_loss:.2f}.h5'),\n",
    "    tf.keras.callbacks.TensorBoard(log_dir='./logs'),\n",
    "]"
   ]
  },
  {
   "cell_type": "code",
   "execution_count": 39,
   "id": "searching-spokesman",
   "metadata": {},
   "outputs": [],
   "source": [
    "rgb_model_vgg16.load_weights('/data/model_checkpoints/3xchan_mad/himodel.08-1.57.h5')"
   ]
  },
  {
   "cell_type": "code",
   "execution_count": 40,
   "id": "frequent-reserve",
   "metadata": {},
   "outputs": [],
   "source": [
    "checkpoint_filepath = '/data/model_checkpoints/3xchan_mad/lr_low/himodel.{epoch:02d}-{val_loss:.2f}.h5'\n",
    "model_checkpoint_callback = tf.keras.callbacks.ModelCheckpoint(\n",
    "    filepath=checkpoint_filepath,\n",
    "    save_weights_only=True,\n",
    "    monitor='val_accuracy',\n",
    "    mode='max',\n",
    "    save_best_only=True)"
   ]
  },
  {
   "cell_type": "code",
   "execution_count": 42,
   "id": "synthetic-crash",
   "metadata": {
    "tags": []
   },
   "outputs": [
    {
     "name": "stdout",
     "output_type": "stream",
     "text": [
      "Epoch 1/35\n",
      "71/71 [==============================] - 93s 1s/step - loss: 0.6023 - accuracy: 0.6896 - val_loss: 0.5979 - val_accuracy: 0.7056\n",
      "Epoch 2/35\n",
      "71/71 [==============================] - 94s 1s/step - loss: 0.6000 - accuracy: 0.6931 - val_loss: 0.5976 - val_accuracy: 0.7086\n",
      "Epoch 3/35\n",
      "71/71 [==============================] - 94s 1s/step - loss: 0.5969 - accuracy: 0.6913 - val_loss: 0.6134 - val_accuracy: 0.6786\n",
      "Epoch 4/35\n",
      "71/71 [==============================] - 94s 1s/step - loss: 0.6004 - accuracy: 0.6873 - val_loss: 0.5979 - val_accuracy: 0.7096\n",
      "Epoch 5/35\n",
      "71/71 [==============================] - 94s 1s/step - loss: 0.5971 - accuracy: 0.6906 - val_loss: 0.6012 - val_accuracy: 0.6896\n",
      "Epoch 6/35\n",
      "71/71 [==============================] - 94s 1s/step - loss: 0.6006 - accuracy: 0.6878 - val_loss: 0.5988 - val_accuracy: 0.7066\n",
      "Epoch 7/35\n",
      " 6/71 [=>............................] - ETA: 1:06 - loss: 0.5910 - accuracy: 0.7070"
     ]
    },
    {
     "ename": "KeyboardInterrupt",
     "evalue": "",
     "output_type": "error",
     "traceback": [
      "\u001b[0;31m---------------------------------------------------------------------------\u001b[0m",
      "\u001b[0;31mKeyboardInterrupt\u001b[0m                         Traceback (most recent call last)",
      "\u001b[0;32m<ipython-input-42-a0082ce9788a>\u001b[0m in \u001b[0;36m<module>\u001b[0;34m\u001b[0m\n\u001b[1;32m      3\u001b[0m                                        \u001b[0mbatch_size\u001b[0m\u001b[0;34m=\u001b[0m\u001b[0;36m128\u001b[0m\u001b[0;34m,\u001b[0m \u001b[0mvalidation_split\u001b[0m \u001b[0;34m=\u001b[0m \u001b[0;36m0.1\u001b[0m\u001b[0;34m,\u001b[0m\u001b[0;34m\u001b[0m\u001b[0;34m\u001b[0m\u001b[0m\n\u001b[1;32m      4\u001b[0m                                        \u001b[0mworkers\u001b[0m\u001b[0;34m=\u001b[0m\u001b[0;36m4\u001b[0m\u001b[0;34m,\u001b[0m \u001b[0muse_multiprocessing\u001b[0m\u001b[0;34m=\u001b[0m\u001b[0;32mTrue\u001b[0m\u001b[0;34m,\u001b[0m\u001b[0;34m\u001b[0m\u001b[0;34m\u001b[0m\u001b[0m\n\u001b[0;32m----> 5\u001b[0;31m                                        callbacks = [model_checkpoint_callback])\n\u001b[0m\u001b[1;32m      6\u001b[0m \u001b[0mprint\u001b[0m\u001b[0;34m(\u001b[0m\u001b[0;34m\"Train time:\"\u001b[0m\u001b[0;34m,\u001b[0m \u001b[0mtime\u001b[0m\u001b[0;34m.\u001b[0m\u001b[0mtime\u001b[0m\u001b[0;34m(\u001b[0m\u001b[0;34m)\u001b[0m\u001b[0;34m-\u001b[0m\u001b[0mt0\u001b[0m\u001b[0;34m)\u001b[0m\u001b[0;34m\u001b[0m\u001b[0;34m\u001b[0m\u001b[0m\n",
      "\u001b[0;32m/usr/local/lib/python3.6/dist-packages/tensorflow/python/keras/engine/training.py\u001b[0m in \u001b[0;36m_method_wrapper\u001b[0;34m(self, *args, **kwargs)\u001b[0m\n\u001b[1;32m    106\u001b[0m   \u001b[0;32mdef\u001b[0m \u001b[0m_method_wrapper\u001b[0m\u001b[0;34m(\u001b[0m\u001b[0mself\u001b[0m\u001b[0;34m,\u001b[0m \u001b[0;34m*\u001b[0m\u001b[0margs\u001b[0m\u001b[0;34m,\u001b[0m \u001b[0;34m**\u001b[0m\u001b[0mkwargs\u001b[0m\u001b[0;34m)\u001b[0m\u001b[0;34m:\u001b[0m\u001b[0;34m\u001b[0m\u001b[0;34m\u001b[0m\u001b[0m\n\u001b[1;32m    107\u001b[0m     \u001b[0;32mif\u001b[0m \u001b[0;32mnot\u001b[0m \u001b[0mself\u001b[0m\u001b[0;34m.\u001b[0m\u001b[0m_in_multi_worker_mode\u001b[0m\u001b[0;34m(\u001b[0m\u001b[0;34m)\u001b[0m\u001b[0;34m:\u001b[0m  \u001b[0;31m# pylint: disable=protected-access\u001b[0m\u001b[0;34m\u001b[0m\u001b[0;34m\u001b[0m\u001b[0m\n\u001b[0;32m--> 108\u001b[0;31m       \u001b[0;32mreturn\u001b[0m \u001b[0mmethod\u001b[0m\u001b[0;34m(\u001b[0m\u001b[0mself\u001b[0m\u001b[0;34m,\u001b[0m \u001b[0;34m*\u001b[0m\u001b[0margs\u001b[0m\u001b[0;34m,\u001b[0m \u001b[0;34m**\u001b[0m\u001b[0mkwargs\u001b[0m\u001b[0;34m)\u001b[0m\u001b[0;34m\u001b[0m\u001b[0;34m\u001b[0m\u001b[0m\n\u001b[0m\u001b[1;32m    109\u001b[0m \u001b[0;34m\u001b[0m\u001b[0m\n\u001b[1;32m    110\u001b[0m     \u001b[0;31m# Running inside `run_distribute_coordinator` already.\u001b[0m\u001b[0;34m\u001b[0m\u001b[0;34m\u001b[0m\u001b[0;34m\u001b[0m\u001b[0m\n",
      "\u001b[0;32m/usr/local/lib/python3.6/dist-packages/tensorflow/python/keras/engine/training.py\u001b[0m in \u001b[0;36mfit\u001b[0;34m(self, x, y, batch_size, epochs, verbose, callbacks, validation_split, validation_data, shuffle, class_weight, sample_weight, initial_epoch, steps_per_epoch, validation_steps, validation_batch_size, validation_freq, max_queue_size, workers, use_multiprocessing)\u001b[0m\n\u001b[1;32m   1096\u001b[0m                 batch_size=batch_size):\n\u001b[1;32m   1097\u001b[0m               \u001b[0mcallbacks\u001b[0m\u001b[0;34m.\u001b[0m\u001b[0mon_train_batch_begin\u001b[0m\u001b[0;34m(\u001b[0m\u001b[0mstep\u001b[0m\u001b[0;34m)\u001b[0m\u001b[0;34m\u001b[0m\u001b[0;34m\u001b[0m\u001b[0m\n\u001b[0;32m-> 1098\u001b[0;31m               \u001b[0mtmp_logs\u001b[0m \u001b[0;34m=\u001b[0m \u001b[0mtrain_function\u001b[0m\u001b[0;34m(\u001b[0m\u001b[0miterator\u001b[0m\u001b[0;34m)\u001b[0m\u001b[0;34m\u001b[0m\u001b[0;34m\u001b[0m\u001b[0m\n\u001b[0m\u001b[1;32m   1099\u001b[0m               \u001b[0;32mif\u001b[0m \u001b[0mdata_handler\u001b[0m\u001b[0;34m.\u001b[0m\u001b[0mshould_sync\u001b[0m\u001b[0;34m:\u001b[0m\u001b[0;34m\u001b[0m\u001b[0;34m\u001b[0m\u001b[0m\n\u001b[1;32m   1100\u001b[0m                 \u001b[0mcontext\u001b[0m\u001b[0;34m.\u001b[0m\u001b[0masync_wait\u001b[0m\u001b[0;34m(\u001b[0m\u001b[0;34m)\u001b[0m\u001b[0;34m\u001b[0m\u001b[0;34m\u001b[0m\u001b[0m\n",
      "\u001b[0;32m/usr/local/lib/python3.6/dist-packages/tensorflow/python/eager/def_function.py\u001b[0m in \u001b[0;36m__call__\u001b[0;34m(self, *args, **kwds)\u001b[0m\n\u001b[1;32m    778\u001b[0m       \u001b[0;32melse\u001b[0m\u001b[0;34m:\u001b[0m\u001b[0;34m\u001b[0m\u001b[0;34m\u001b[0m\u001b[0m\n\u001b[1;32m    779\u001b[0m         \u001b[0mcompiler\u001b[0m \u001b[0;34m=\u001b[0m \u001b[0;34m\"nonXla\"\u001b[0m\u001b[0;34m\u001b[0m\u001b[0;34m\u001b[0m\u001b[0m\n\u001b[0;32m--> 780\u001b[0;31m         \u001b[0mresult\u001b[0m \u001b[0;34m=\u001b[0m \u001b[0mself\u001b[0m\u001b[0;34m.\u001b[0m\u001b[0m_call\u001b[0m\u001b[0;34m(\u001b[0m\u001b[0;34m*\u001b[0m\u001b[0margs\u001b[0m\u001b[0;34m,\u001b[0m \u001b[0;34m**\u001b[0m\u001b[0mkwds\u001b[0m\u001b[0;34m)\u001b[0m\u001b[0;34m\u001b[0m\u001b[0;34m\u001b[0m\u001b[0m\n\u001b[0m\u001b[1;32m    781\u001b[0m \u001b[0;34m\u001b[0m\u001b[0m\n\u001b[1;32m    782\u001b[0m       \u001b[0mnew_tracing_count\u001b[0m \u001b[0;34m=\u001b[0m \u001b[0mself\u001b[0m\u001b[0;34m.\u001b[0m\u001b[0m_get_tracing_count\u001b[0m\u001b[0;34m(\u001b[0m\u001b[0;34m)\u001b[0m\u001b[0;34m\u001b[0m\u001b[0;34m\u001b[0m\u001b[0m\n",
      "\u001b[0;32m/usr/local/lib/python3.6/dist-packages/tensorflow/python/eager/def_function.py\u001b[0m in \u001b[0;36m_call\u001b[0;34m(self, *args, **kwds)\u001b[0m\n\u001b[1;32m    805\u001b[0m       \u001b[0;31m# In this case we have created variables on the first call, so we run the\u001b[0m\u001b[0;34m\u001b[0m\u001b[0;34m\u001b[0m\u001b[0;34m\u001b[0m\u001b[0m\n\u001b[1;32m    806\u001b[0m       \u001b[0;31m# defunned version which is guaranteed to never create variables.\u001b[0m\u001b[0;34m\u001b[0m\u001b[0;34m\u001b[0m\u001b[0;34m\u001b[0m\u001b[0m\n\u001b[0;32m--> 807\u001b[0;31m       \u001b[0;32mreturn\u001b[0m \u001b[0mself\u001b[0m\u001b[0;34m.\u001b[0m\u001b[0m_stateless_fn\u001b[0m\u001b[0;34m(\u001b[0m\u001b[0;34m*\u001b[0m\u001b[0margs\u001b[0m\u001b[0;34m,\u001b[0m \u001b[0;34m**\u001b[0m\u001b[0mkwds\u001b[0m\u001b[0;34m)\u001b[0m  \u001b[0;31m# pylint: disable=not-callable\u001b[0m\u001b[0;34m\u001b[0m\u001b[0;34m\u001b[0m\u001b[0m\n\u001b[0m\u001b[1;32m    808\u001b[0m     \u001b[0;32melif\u001b[0m \u001b[0mself\u001b[0m\u001b[0;34m.\u001b[0m\u001b[0m_stateful_fn\u001b[0m \u001b[0;32mis\u001b[0m \u001b[0;32mnot\u001b[0m \u001b[0;32mNone\u001b[0m\u001b[0;34m:\u001b[0m\u001b[0;34m\u001b[0m\u001b[0;34m\u001b[0m\u001b[0m\n\u001b[1;32m    809\u001b[0m       \u001b[0;31m# Release the lock early so that multiple threads can perform the call\u001b[0m\u001b[0;34m\u001b[0m\u001b[0;34m\u001b[0m\u001b[0;34m\u001b[0m\u001b[0m\n",
      "\u001b[0;32m/usr/local/lib/python3.6/dist-packages/tensorflow/python/eager/function.py\u001b[0m in \u001b[0;36m__call__\u001b[0;34m(self, *args, **kwargs)\u001b[0m\n\u001b[1;32m   2827\u001b[0m     \u001b[0;32mwith\u001b[0m \u001b[0mself\u001b[0m\u001b[0;34m.\u001b[0m\u001b[0m_lock\u001b[0m\u001b[0;34m:\u001b[0m\u001b[0;34m\u001b[0m\u001b[0;34m\u001b[0m\u001b[0m\n\u001b[1;32m   2828\u001b[0m       \u001b[0mgraph_function\u001b[0m\u001b[0;34m,\u001b[0m \u001b[0margs\u001b[0m\u001b[0;34m,\u001b[0m \u001b[0mkwargs\u001b[0m \u001b[0;34m=\u001b[0m \u001b[0mself\u001b[0m\u001b[0;34m.\u001b[0m\u001b[0m_maybe_define_function\u001b[0m\u001b[0;34m(\u001b[0m\u001b[0margs\u001b[0m\u001b[0;34m,\u001b[0m \u001b[0mkwargs\u001b[0m\u001b[0;34m)\u001b[0m\u001b[0;34m\u001b[0m\u001b[0;34m\u001b[0m\u001b[0m\n\u001b[0;32m-> 2829\u001b[0;31m     \u001b[0;32mreturn\u001b[0m \u001b[0mgraph_function\u001b[0m\u001b[0;34m.\u001b[0m\u001b[0m_filtered_call\u001b[0m\u001b[0;34m(\u001b[0m\u001b[0margs\u001b[0m\u001b[0;34m,\u001b[0m \u001b[0mkwargs\u001b[0m\u001b[0;34m)\u001b[0m  \u001b[0;31m# pylint: disable=protected-access\u001b[0m\u001b[0;34m\u001b[0m\u001b[0;34m\u001b[0m\u001b[0m\n\u001b[0m\u001b[1;32m   2830\u001b[0m \u001b[0;34m\u001b[0m\u001b[0m\n\u001b[1;32m   2831\u001b[0m   \u001b[0;34m@\u001b[0m\u001b[0mproperty\u001b[0m\u001b[0;34m\u001b[0m\u001b[0;34m\u001b[0m\u001b[0m\n",
      "\u001b[0;32m/usr/local/lib/python3.6/dist-packages/tensorflow/python/eager/function.py\u001b[0m in \u001b[0;36m_filtered_call\u001b[0;34m(self, args, kwargs, cancellation_manager)\u001b[0m\n\u001b[1;32m   1846\u001b[0m                            resource_variable_ops.BaseResourceVariable))],\n\u001b[1;32m   1847\u001b[0m         \u001b[0mcaptured_inputs\u001b[0m\u001b[0;34m=\u001b[0m\u001b[0mself\u001b[0m\u001b[0;34m.\u001b[0m\u001b[0mcaptured_inputs\u001b[0m\u001b[0;34m,\u001b[0m\u001b[0;34m\u001b[0m\u001b[0;34m\u001b[0m\u001b[0m\n\u001b[0;32m-> 1848\u001b[0;31m         cancellation_manager=cancellation_manager)\n\u001b[0m\u001b[1;32m   1849\u001b[0m \u001b[0;34m\u001b[0m\u001b[0m\n\u001b[1;32m   1850\u001b[0m   \u001b[0;32mdef\u001b[0m \u001b[0m_call_flat\u001b[0m\u001b[0;34m(\u001b[0m\u001b[0mself\u001b[0m\u001b[0;34m,\u001b[0m \u001b[0margs\u001b[0m\u001b[0;34m,\u001b[0m \u001b[0mcaptured_inputs\u001b[0m\u001b[0;34m,\u001b[0m \u001b[0mcancellation_manager\u001b[0m\u001b[0;34m=\u001b[0m\u001b[0;32mNone\u001b[0m\u001b[0;34m)\u001b[0m\u001b[0;34m:\u001b[0m\u001b[0;34m\u001b[0m\u001b[0;34m\u001b[0m\u001b[0m\n",
      "\u001b[0;32m/usr/local/lib/python3.6/dist-packages/tensorflow/python/eager/function.py\u001b[0m in \u001b[0;36m_call_flat\u001b[0;34m(self, args, captured_inputs, cancellation_manager)\u001b[0m\n\u001b[1;32m   1922\u001b[0m       \u001b[0;31m# No tape is watching; skip to running the function.\u001b[0m\u001b[0;34m\u001b[0m\u001b[0;34m\u001b[0m\u001b[0;34m\u001b[0m\u001b[0m\n\u001b[1;32m   1923\u001b[0m       return self._build_call_outputs(self._inference_function.call(\n\u001b[0;32m-> 1924\u001b[0;31m           ctx, args, cancellation_manager=cancellation_manager))\n\u001b[0m\u001b[1;32m   1925\u001b[0m     forward_backward = self._select_forward_and_backward_functions(\n\u001b[1;32m   1926\u001b[0m         \u001b[0margs\u001b[0m\u001b[0;34m,\u001b[0m\u001b[0;34m\u001b[0m\u001b[0;34m\u001b[0m\u001b[0m\n",
      "\u001b[0;32m/usr/local/lib/python3.6/dist-packages/tensorflow/python/eager/function.py\u001b[0m in \u001b[0;36mcall\u001b[0;34m(self, ctx, args, cancellation_manager)\u001b[0m\n\u001b[1;32m    548\u001b[0m               \u001b[0minputs\u001b[0m\u001b[0;34m=\u001b[0m\u001b[0margs\u001b[0m\u001b[0;34m,\u001b[0m\u001b[0;34m\u001b[0m\u001b[0;34m\u001b[0m\u001b[0m\n\u001b[1;32m    549\u001b[0m               \u001b[0mattrs\u001b[0m\u001b[0;34m=\u001b[0m\u001b[0mattrs\u001b[0m\u001b[0;34m,\u001b[0m\u001b[0;34m\u001b[0m\u001b[0;34m\u001b[0m\u001b[0m\n\u001b[0;32m--> 550\u001b[0;31m               ctx=ctx)\n\u001b[0m\u001b[1;32m    551\u001b[0m         \u001b[0;32melse\u001b[0m\u001b[0;34m:\u001b[0m\u001b[0;34m\u001b[0m\u001b[0;34m\u001b[0m\u001b[0m\n\u001b[1;32m    552\u001b[0m           outputs = execute.execute_with_cancellation(\n",
      "\u001b[0;32m/usr/local/lib/python3.6/dist-packages/tensorflow/python/eager/execute.py\u001b[0m in \u001b[0;36mquick_execute\u001b[0;34m(op_name, num_outputs, inputs, attrs, ctx, name)\u001b[0m\n\u001b[1;32m     58\u001b[0m     \u001b[0mctx\u001b[0m\u001b[0;34m.\u001b[0m\u001b[0mensure_initialized\u001b[0m\u001b[0;34m(\u001b[0m\u001b[0;34m)\u001b[0m\u001b[0;34m\u001b[0m\u001b[0;34m\u001b[0m\u001b[0m\n\u001b[1;32m     59\u001b[0m     tensors = pywrap_tfe.TFE_Py_Execute(ctx._handle, device_name, op_name,\n\u001b[0;32m---> 60\u001b[0;31m                                         inputs, attrs, num_outputs)\n\u001b[0m\u001b[1;32m     61\u001b[0m   \u001b[0;32mexcept\u001b[0m \u001b[0mcore\u001b[0m\u001b[0;34m.\u001b[0m\u001b[0m_NotOkStatusException\u001b[0m \u001b[0;32mas\u001b[0m \u001b[0me\u001b[0m\u001b[0;34m:\u001b[0m\u001b[0;34m\u001b[0m\u001b[0;34m\u001b[0m\u001b[0m\n\u001b[1;32m     62\u001b[0m     \u001b[0;32mif\u001b[0m \u001b[0mname\u001b[0m \u001b[0;32mis\u001b[0m \u001b[0;32mnot\u001b[0m \u001b[0;32mNone\u001b[0m\u001b[0;34m:\u001b[0m\u001b[0;34m\u001b[0m\u001b[0;34m\u001b[0m\u001b[0m\n",
      "\u001b[0;31mKeyboardInterrupt\u001b[0m: "
     ]
    }
   ],
   "source": [
    "t0 = time.time()\n",
    "history_callback = rgb_model_vgg16.fit(arr_train_X, arr_train_y, epochs=35, \n",
    "                                       batch_size=128, validation_split = 0.1, \n",
    "                                       workers=4, use_multiprocessing=True,\n",
    "                                       callbacks = [model_checkpoint_callback])\n",
    "print(\"Train time:\", time.time()-t0)"
   ]
  },
  {
   "cell_type": "code",
   "execution_count": 63,
   "id": "distributed-joining",
   "metadata": {},
   "outputs": [],
   "source": [
    "#run1 = history_callback.history\n",
    "run2 = history_callback.history\n"
   ]
  },
  {
   "cell_type": "code",
   "execution_count": null,
   "id": "electric-aviation",
   "metadata": {},
   "outputs": [],
   "source": []
  },
  {
   "cell_type": "code",
   "execution_count": 53,
   "id": "greenhouse-builder",
   "metadata": {},
   "outputs": [],
   "source": [
    "#model_out.save('/data/model_saves/89_model') 89 model saved mar 18"
   ]
  },
  {
   "cell_type": "code",
   "execution_count": 64,
   "id": "recognized-luther",
   "metadata": {},
   "outputs": [
    {
     "data": {
      "image/png": "[encoded data removed]",
      "text/plain": [
       "<Figure size 432x288 with 1 Axes>"
      ]
     },
     "metadata": {
      "needs_background": "light"
     },
     "output_type": "display_data"
    }
   ],
   "source": [
    "train_loss = run1['loss'] + run2['loss']\n",
    "val_loss = run1['val_loss'] + run2['val_loss']\n",
    "x = np.arange(len(train_loss))\n",
    "fig = plt.figure()\n",
    "ax = plt.subplot(111)\n",
    "ax.plot(x, train_loss, label='train_loss')\n",
    "ax.plot(x, val_loss, label='val_loss')\n",
    "ax.set_ylim(0, 3) \n",
    "plt.title('Loss Plot // RGB 1235 set hilo')\n",
    "ax.legend()\n",
    "plt.show()"
   ]
  },
  {
   "cell_type": "code",
   "execution_count": 65,
   "id": "bearing-compromise",
   "metadata": {},
   "outputs": [
    {
     "data": {
      "image/png": "[encoded data removed]",
      "text/plain": [
       "<Figure size 432x288 with 1 Axes>"
      ]
     },
     "metadata": {
      "needs_background": "light"
     },
     "output_type": "display_data"
    }
   ],
   "source": [
    "train_accuracy = run1['accuracy'] + run2['accuracy']\n",
    "val_accuracy = run1['val_accuracy'] + run2['val_accuracy']\n",
    "x = np.arange(len(train_accuracy))\n",
    "fig = plt.figure()\n",
    "ax = plt.subplot(111)\n",
    "ax.plot(x, train_accuracy, label='train_accuracy')\n",
    "ax.plot(x, val_accuracy, label='val_accuracy')\n",
    "ax.set_ylim(0.5, 1) \n",
    "plt.title('Accuracy Plot // RGB 1235 set hilo')\n",
    "ax.legend()\n",
    "plt.show()"
   ]
  },
  {
   "cell_type": "code",
   "execution_count": 56,
   "id": "indirect-clarity",
   "metadata": {},
   "outputs": [
    {
     "data": {
      "text/plain": [
       "0.37657621305356603"
      ]
     },
     "execution_count": 56,
     "metadata": {},
     "output_type": "execute_result"
    }
   ],
   "source": [
    "np.mean(arr_train_y)"
   ]
  },
  {
   "cell_type": "code",
   "execution_count": 57,
   "id": "running-surfing",
   "metadata": {},
   "outputs": [
    {
     "data": {
      "text/plain": [
       "0.37481031866464337"
      ]
     },
     "execution_count": 57,
     "metadata": {},
     "output_type": "execute_result"
    }
   ],
   "source": [
    "np.mean(arr_test_y)"
   ]
  },
  {
   "cell_type": "code",
   "execution_count": 43,
   "id": "colonial-bubble",
   "metadata": {},
   "outputs": [],
   "source": [
    "rgb_model_vgg16.load_weights('/data/model_checkpoints/3xchan_mad/lr_low/himodel.04-0.60.h5')"
   ]
  },
  {
   "cell_type": "code",
   "execution_count": 54,
   "id": "judicial-ukraine",
   "metadata": {},
   "outputs": [],
   "source": [
    "df_dev1 = pd.read_pickle('Madhukar/Train-Dev-Test SSS splits/2021.04.06_TTT_15k_level_test_dataset')\n",
    "X_test = list(df_dev1.da_number)\n",
    "soi_test = list(X_test)\n",
    "test_X = [f for f in Path(dir2).iterdir() if f.name[:-4] in soi_test]\n",
    "test_y = [get_label(x.name[:-4]) for x in test_X]\n",
    "arr_test_X = np.array([np.load(f) for f in test_X]).swapaxes(1,3)\n",
    "arr_test_y = np.array(test_y)"
   ]
  },
  {
   "cell_type": "code",
   "execution_count": 55,
   "id": "ignored-disposition",
   "metadata": {},
   "outputs": [
    {
     "name": "stdout",
     "output_type": "stream",
     "text": [
      "[[0.28122318]\n",
      " [0.29537323]\n",
      " [0.29740104]\n",
      " [0.2286603 ]\n",
      " [0.30819735]\n",
      " [0.2879157 ]\n",
      " [0.28142318]\n",
      " [0.27407074]]\n"
     ]
    }
   ],
   "source": [
    "test_preds = rgb_model_vgg16.predict(arr_test_X, batch_size = 128)\n",
    "print(test_preds[:8])"
   ]
  },
  {
   "cell_type": "code",
   "execution_count": 56,
   "id": "lined-oregon",
   "metadata": {},
   "outputs": [
    {
     "data": {
      "text/plain": [
       "array([[0.],\n",
       "       [0.],\n",
       "       [0.],\n",
       "       [0.],\n",
       "       [0.],\n",
       "       [0.],\n",
       "       [0.],\n",
       "       [0.]], dtype=float32)"
      ]
     },
     "execution_count": 56,
     "metadata": {},
     "output_type": "execute_result"
    }
   ],
   "source": [
    "#print(len(rounded_preds))\n",
    "rounded_preds = np.round(test_preds)\n",
    "rounded_preds[:8]"
   ]
  },
  {
   "cell_type": "code",
   "execution_count": 57,
   "id": "loving-effect",
   "metadata": {},
   "outputs": [
    {
     "name": "stdout",
     "output_type": "stream",
     "text": [
      "da_number             object\n",
      "predicted              int64\n",
      "predicted_unround    float64\n",
      "cwa_determination      int64\n",
      "dtype: object\n"
     ]
    },
    {
     "data": {
      "text/html": [
       "<div>\n",
       "<style scoped>\n",
       "    .dataframe tbody tr th:only-of-type {\n",
       "        vertical-align: middle;\n",
       "    }\n",
       "\n",
       "    .dataframe tbody tr th {\n",
       "        vertical-align: top;\n",
       "    }\n",
       "\n",
       "    .dataframe thead th {\n",
       "        text-align: right;\n",
       "    }\n",
       "</style>\n",
       "<table border=\"1\" class=\"dataframe\">\n",
       "  <thead>\n",
       "    <tr style=\"text-align: right;\">\n",
       "      <th></th>\n",
       "      <th>da_number</th>\n",
       "      <th>predicted</th>\n",
       "      <th>predicted_unround</th>\n",
       "      <th>cwa_determination</th>\n",
       "    </tr>\n",
       "  </thead>\n",
       "  <tbody>\n",
       "    <tr>\n",
       "      <th>0</th>\n",
       "      <td>SAC-2015-00882</td>\n",
       "      <td>0</td>\n",
       "      <td>0.281223</td>\n",
       "      <td>0</td>\n",
       "    </tr>\n",
       "    <tr>\n",
       "      <th>1</th>\n",
       "      <td>LRL-2017-00017-sjk</td>\n",
       "      <td>0</td>\n",
       "      <td>0.295373</td>\n",
       "      <td>0</td>\n",
       "    </tr>\n",
       "    <tr>\n",
       "      <th>2</th>\n",
       "      <td>MVK-2016-00968-TB</td>\n",
       "      <td>0</td>\n",
       "      <td>0.297401</td>\n",
       "      <td>0</td>\n",
       "    </tr>\n",
       "    <tr>\n",
       "      <th>3</th>\n",
       "      <td>MVP-2018-03747-JLK</td>\n",
       "      <td>0</td>\n",
       "      <td>0.228660</td>\n",
       "      <td>0</td>\n",
       "    </tr>\n",
       "    <tr>\n",
       "      <th>4</th>\n",
       "      <td>SAM-2016-00801-JEB</td>\n",
       "      <td>0</td>\n",
       "      <td>0.308197</td>\n",
       "      <td>1</td>\n",
       "    </tr>\n",
       "  </tbody>\n",
       "</table>\n",
       "</div>"
      ],
      "text/plain": [
       "            da_number  predicted  predicted_unround  cwa_determination\n",
       "0      SAC-2015-00882          0           0.281223                  0\n",
       "1  LRL-2017-00017-sjk          0           0.295373                  0\n",
       "2   MVK-2016-00968-TB          0           0.297401                  0\n",
       "3  MVP-2018-03747-JLK          0           0.228660                  0\n",
       "4  SAM-2016-00801-JEB          0           0.308197                  1"
      ]
     },
     "metadata": {},
     "output_type": "display_data"
    },
    {
     "name": "stdout",
     "output_type": "stream",
     "text": [
      "false_neg: 574\n",
      "false_pos: 88\n",
      "true_pos: 191\n",
      "true_neg: 1294\n",
      "0.2496732026143791 recall / TPR\n",
      "0.9363241678726484 TNR\n",
      "0.6927194860813705 npv\n",
      "0.6845878136200717 ppv\n"
     ]
    }
   ],
   "source": [
    "da_n = [x.name[:-4] for x in test_X]\n",
    "df_pred = pd.DataFrame({'da_number' : da_n, 'predicted' : list(rounded_preds), 'predicted_unround' : list(test_preds), 'cwa_determination' : test_y})\n",
    "df_pred.predicted = df_pred.predicted.apply(int)\n",
    "df_pred.predicted_unround = df_pred.predicted_unround.apply(float)\n",
    "\n",
    "print(df_pred.dtypes)\n",
    "display(df_pred.head())\n",
    "df_pred.to_csv('/data/model_checkpoints/3xchan_mad/himodel_preds_test.csv')\n",
    "false_neg = df_pred[(df_pred.predicted == 0)&(df_pred.cwa_determination == 1)].shape[0]\n",
    "false_pos = df_pred[(df_pred.predicted == 1)&(df_pred.cwa_determination == 0)].shape[0]\n",
    "true_pos = df_pred[(df_pred.predicted == 1)&(df_pred.cwa_determination == 1)].shape[0]\n",
    "true_neg = df_pred[(df_pred.predicted == 0)&(df_pred.cwa_determination == 0)].shape[0]\n",
    "print('false_neg:', false_neg)\n",
    "print('false_pos:', false_pos)\n",
    "print('true_pos:', true_pos)\n",
    "print('true_neg:', true_neg)\n",
    "print(true_pos/(false_neg+true_pos), 'recall / TPR')\n",
    "print(true_neg/(false_pos+true_neg), 'TNR')\n",
    "print(true_neg/(false_neg+true_neg), 'npv')\n",
    "print(true_pos/(false_pos+true_pos), 'ppv')"
   ]
  },
  {
   "cell_type": "code",
   "execution_count": null,
   "id": "neural-clinton",
   "metadata": {},
   "outputs": [],
   "source": []
  },
  {
   "cell_type": "code",
   "execution_count": null,
   "id": "distant-intake",
   "metadata": {},
   "outputs": [],
   "source": [
    "1968/2060 = specficity = 95.5\n",
    "231/1235 = sensitivity = 18.7\n",
    "\n",
    "da_number\tpredicted\tcwa_determination\n",
    "0\tSAC-2015-00882\t0\t0\n",
    "1\tLRL-2018-00430-sjk\t0\t1\n",
    "2\tSAC-2016-00908\t0\t0\n",
    "3\tLRL-2019-00353\t0\t0\n",
    "4\tMVP-2020-00700-AJK\t0\t0\n",
    "false_neg: 1004\n",
    "false_pos: 92\n",
    "true_pos: 231\n",
    "true_neg: 1968"
   ]
  }
 ],
 "metadata": {
  "kernelspec": {
   "display_name": "Python 3",
   "language": "python",
   "name": "python3"
  },
  "language_info": {
   "codemirror_mode": {
    "name": "ipython",
    "version": 3
   },
   "file_extension": ".py",
   "mimetype": "text/x-python",
   "name": "python",
   "nbconvert_exporter": "python",
   "pygments_lexer": "ipython3",
   "version": "3.6.9"
  }
 },
 "nbformat": 4,
 "nbformat_minor": 5
}
